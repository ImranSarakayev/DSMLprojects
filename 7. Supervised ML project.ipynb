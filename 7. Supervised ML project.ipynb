{
 "cells": [
  {
   "cell_type": "markdown",
   "metadata": {},
   "source": [
    "<div style=\"border:solid Chocolate 2px; padding: 40px\">\n",
    " \n",
    "<b> Имран, привет!👋</b> \n",
    "\n",
    "Меня зовут Кирилл, я буду ревьюером твоего проекта. Я предлагаю общаться на «ты», но если привычнее на «вы», просто скажи об этом! \n",
    "\n",
    "Я буду оставлять комментарии в твоем проекте. Пожалуйста, не удаляй их, они могут быть полезны в случае повторной проверки.\n",
    "\n",
    "Свои комментарии я буду обозначать <font color='green'>зеленым</font>, <font color='gold'>желтым</font> и <font color='red'>красным</font> цветами, например:\n",
    "  \n",
    "<br/>\n",
    "\n",
    "<div class=\"alert alert-success\">\n",
    "<h2> Комментарий ревьюера <a class=\"tocSkip\"> </h2>\n",
    "\n",
    "<b>Все отлично!👍:</b> В случае, если решение на отдельном шаге является полностью правильным. Здесь же я могу давать советы и предложения.\n",
    "</div>\n",
    "\n",
    "<br/>\n",
    "\n",
    "<div class=\"alert alert-warning\">\n",
    "    <h2> Комментарий ревьюера <a class=\"tocSkip\"> </h2>\n",
    "    \n",
    "<b>Некоторые замечания и рекомендации💡:</b> В случае, когда решение на отдельном шаге станет еще лучше, если внести небольшие коррективы.\n",
    "</div> \n",
    " \n",
    "\n",
    "<br/>\n",
    "<div class=\"alert alert-block alert-danger\">\n",
    "<h2> Комментарий ревьюера <a class=\"tocSkip\"></h2>\n",
    "\n",
    "     \n",
    "<b>На доработку🤔:</b>\n",
    " В случае, когда решение на отдельном шаге требует существенной переработки и внесения правок. Напоминаю, что проект не может быть принят с первого раза, если ревью содержит комментарии, рекомендующие доработать шаги.\n",
    "</div>\n",
    "\n",
    "<br/>\n",
    "<div class=\"alert alert-info\">\n",
    "Рекомендую для твоих комментариев использовать синий или любой другой цветной фон. Я постараюсь ничего не пропустить, но если комментарии будут выделены, то это мне очень поможет!\n",
    "</div>\n",
    "    \n",
    "Увидев у тебя неточность, в первый раз я лишь укажу на ее наличие и дам тебе возможность самостоятельно найти и исправить ее. На реальной работе твой руководитель будет поступать также. Но если ты пока не справишься с такой задачей - при следующей проверке я дам более точную подсказку.\n",
    "\n"
   ]
  },
  {
   "cell_type": "markdown",
   "metadata": {},
   "source": [
    "<div class=\"alert alert-info\">\n",
    "<b>Комментарий студента:</b>\n",
    "    \n",
    "Кирилл, привет! Приятно познакомиться, конечно можем на \"ты\".\n",
    "</div>"
   ]
  },
  {
   "cell_type": "markdown",
   "metadata": {},
   "source": [
    "<div class=\"alert alert-success\">\n",
    "<h2> Комментарий ревьюера #2 <a class=\"tocSkip\"> </h2>\n",
    "\n",
    "👍 Cнова привет. Спасибо за заметное оформление твоих комментариев!\n",
    "</div>\n"
   ]
  },
  {
   "cell_type": "markdown",
   "metadata": {},
   "source": [
    "# Чек-лист готовности проекта"
   ]
  },
  {
   "cell_type": "markdown",
   "metadata": {},
   "source": [
    "Поставьте 'x' в выполненных пунктах. Далее нажмите Shift+Enter."
   ]
  },
  {
   "cell_type": "markdown",
   "metadata": {},
   "source": [
    "- [x]  Jupyter Notebook открыт\n",
    "- [x]  Весь код выполняется без ошибок\n",
    "- [x]  Ячейки с кодом расположены в порядке исполнения\n",
    "- [x]  Выполнен шаг 1: данные подготовлены\n",
    "- [x]  Выполнен шаг 2: задача исследована\n",
    "    - [x]  Исследован баланс классов\n",
    "    - [x]  Изучены модели без учёта дисбаланса\n",
    "    - [x]  Написаны выводы по результатам исследования\n",
    "- [x]  Выполнен шаг 3: учтён дисбаланс\n",
    "    - [x]  Применено несколько способов борьбы с дисбалансом\n",
    "    - [x]  Написаны выводы по результатам исследования\n",
    "- [x]  Выполнен шаг 4: проведено тестирование\n",
    "- [x]  Удалось достичь *F1*-меры не менее 0.59\n",
    "- [x]  Исследована метрика *AUC-ROC*"
   ]
  },
  {
   "cell_type": "markdown",
   "metadata": {
    "toc": true
   },
   "source": [
    "<h1>Содержание<span class=\"tocSkip\"></span></h1>\n",
    "<div class=\"toc\"><ul class=\"toc-item\"><li><span><a href=\"#Подготовка-данных\" data-toc-modified-id=\"Подготовка-данных-1\"><span class=\"toc-item-num\">1&nbsp;&nbsp;</span>Подготовка данных</a></span><ul class=\"toc-item\"><li><span><a href=\"#Загрузка-и-знакомство-с-данными\" data-toc-modified-id=\"Загрузка-и-знакомство-с-данными-1.1\"><span class=\"toc-item-num\">1.1&nbsp;&nbsp;</span>Загрузка и знакомство с данными</a></span></li><li><span><a href=\"#Проверим-на-дубли\" data-toc-modified-id=\"Проверим-на-дубли-1.2\"><span class=\"toc-item-num\">1.2&nbsp;&nbsp;</span>Проверим на дубли</a></span></li><li><span><a href=\"#Приводим-наименования-столбцов-к-нижнему-регисту\" data-toc-modified-id=\"Приводим-наименования-столбцов-к-нижнему-регисту-1.3\"><span class=\"toc-item-num\">1.3&nbsp;&nbsp;</span>Приводим наименования столбцов к нижнему регисту</a></span></li><li><span><a href=\"#Удаляем-лишние-столбцы\" data-toc-modified-id=\"Удаляем-лишние-столбцы-1.4\"><span class=\"toc-item-num\">1.4&nbsp;&nbsp;</span>Удаляем лишние столбцы</a></span></li><li><span><a href=\"#Преобразуем-категориальные-параметры-и-изучаем-Geography\" data-toc-modified-id=\"Преобразуем-категориальные-параметры-и-изучаем-Geography-1.5\"><span class=\"toc-item-num\">1.5&nbsp;&nbsp;</span>Преобразуем категориальные параметры и изучаем Geography</a></span></li><li><span><a href=\"#Работа-с-пропусками\" data-toc-modified-id=\"Работа-с-пропусками-1.6\"><span class=\"toc-item-num\">1.6&nbsp;&nbsp;</span>Работа с пропусками</a></span></li><li><span><a href=\"#Масштабируем-признаки-и-формируем-итоговую-таблицу-для-работы\" data-toc-modified-id=\"Масштабируем-признаки-и-формируем-итоговую-таблицу-для-работы-1.7\"><span class=\"toc-item-num\">1.7&nbsp;&nbsp;</span><del>Масштабируем признаки и формируем итоговую таблицу для работы</del></a></span></li></ul></li><li><span><a href=\"#Исследование-задачи\" data-toc-modified-id=\"Исследование-задачи-2\"><span class=\"toc-item-num\">2&nbsp;&nbsp;</span>Исследование задачи</a></span><ul class=\"toc-item\"><li><span><a href=\"#Посмотрим-на-распределение-классов-признака-exited\" data-toc-modified-id=\"Посмотрим-на-распределение-классов-признака-exited-2.1\"><span class=\"toc-item-num\">2.1&nbsp;&nbsp;</span>Посмотрим на распределение классов признака exited</a></span></li><li><span><a href=\"#Попробуем-обучить-модель-на-данных-&quot;как-есть&quot;\" data-toc-modified-id=\"Попробуем-обучить-модель-на-данных-&quot;как-есть&quot;-2.2\"><span class=\"toc-item-num\">2.2&nbsp;&nbsp;</span>Попробуем обучить модель на данных \"как есть\"</a></span><ul class=\"toc-item\"><li><span><a href=\"#Разделим-выборки-на-тренировочную,-валидационную-и-тестовую.\" data-toc-modified-id=\"Разделим-выборки-на-тренировочную,-валидационную-и-тестовую.-2.2.1\"><span class=\"toc-item-num\">2.2.1&nbsp;&nbsp;</span>Разделим выборки на тренировочную, валидационную и тестовую.</a></span></li><li><span><a href=\"#Теперь-выполним-масштабирование-признаков\" data-toc-modified-id=\"Теперь-выполним-масштабирование-признаков-2.2.2\"><span class=\"toc-item-num\">2.2.2&nbsp;&nbsp;</span>Теперь выполним масштабирование признаков</a></span></li><li><span><a href=\"#Проверим-несколько-моделей\" data-toc-modified-id=\"Проверим-несколько-моделей-2.2.3\"><span class=\"toc-item-num\">2.2.3&nbsp;&nbsp;</span>Проверим несколько моделей</a></span><ul class=\"toc-item\"><li><span><a href=\"#Случайный-лес-с-подбором-гиперпараметров\" data-toc-modified-id=\"Случайный-лес-с-подбором-гиперпараметров-2.2.3.1\"><span class=\"toc-item-num\">2.2.3.1&nbsp;&nbsp;</span>Случайный лес с подбором гиперпараметров</a></span></li><li><span><a href=\"#Дерево-решений-с-подбором-гиперпараметров\" data-toc-modified-id=\"Дерево-решений-с-подбором-гиперпараметров-2.2.3.2\"><span class=\"toc-item-num\">2.2.3.2&nbsp;&nbsp;</span>Дерево решений с подбором гиперпараметров</a></span></li><li><span><a href=\"#Логистическая-регрессия\" data-toc-modified-id=\"Логистическая-регрессия-2.2.3.3\"><span class=\"toc-item-num\">2.2.3.3&nbsp;&nbsp;</span>Логистическая регрессия</a></span></li></ul></li></ul></li></ul></li><li><span><a href=\"#Борьба-с-дисбалансом\" data-toc-modified-id=\"Борьба-с-дисбалансом-3\"><span class=\"toc-item-num\">3&nbsp;&nbsp;</span>Борьба с дисбалансом</a></span><ul class=\"toc-item\"><li><span><a href=\"#Попробуем-рассчитать-модели-с-балансировкой-классов\" data-toc-modified-id=\"Попробуем-рассчитать-модели-с-балансировкой-классов-3.1\"><span class=\"toc-item-num\">3.1&nbsp;&nbsp;</span>Попробуем рассчитать модели с балансировкой классов</a></span><ul class=\"toc-item\"><li><span><a href=\"#Неудачная-попытка-№1\" data-toc-modified-id=\"Неудачная-попытка-№1-3.1.1\"><span class=\"toc-item-num\">3.1.1&nbsp;&nbsp;</span>Неудачная попытка №1</a></span></li><li><span><a href=\"#Переобучаем-Случайный-лес-с-учетом-баланса\" data-toc-modified-id=\"Переобучаем-Случайный-лес-с-учетом-баланса-3.1.2\"><span class=\"toc-item-num\">3.1.2&nbsp;&nbsp;</span>Переобучаем Случайный лес с учетом баланса</a></span></li><li><span><a href=\"#Переобучаем-Дерево-решений-с-учетом-баланса\" data-toc-modified-id=\"Переобучаем-Дерево-решений-с-учетом-баланса-3.1.3\"><span class=\"toc-item-num\">3.1.3&nbsp;&nbsp;</span>Переобучаем Дерево решений с учетом баланса</a></span></li><li><span><a href=\"#Переобучаем-Логистическую-регрессию-с-учетом-баланса\" data-toc-modified-id=\"Переобучаем-Логистическую-регрессию-с-учетом-баланса-3.1.4\"><span class=\"toc-item-num\">3.1.4&nbsp;&nbsp;</span>Переобучаем Логистическую регрессию с учетом баланса</a></span></li><li><span><a href=\"#Сводим-итоги-в-одном-месте\" data-toc-modified-id=\"Сводим-итоги-в-одном-месте-3.1.5\"><span class=\"toc-item-num\">3.1.5&nbsp;&nbsp;</span>Сводим итоги в одном месте</a></span></li></ul></li><li><span><a href=\"#Попробуем-увеличить-выборку-1\" data-toc-modified-id=\"Попробуем-увеличить-выборку-1-3.2\"><span class=\"toc-item-num\">3.2&nbsp;&nbsp;</span>Попробуем увеличить выборку 1</a></span><ul class=\"toc-item\"><li><span><a href=\"#Неудачная-попытка-№1\" data-toc-modified-id=\"Неудачная-попытка-№1-3.2.1\"><span class=\"toc-item-num\">3.2.1&nbsp;&nbsp;</span>Неудачная попытка №1</a></span></li><li><span><a href=\"#Переобучаем-Случайный-лес-с-учетом-upsample\" data-toc-modified-id=\"Переобучаем-Случайный-лес-с-учетом-upsample-3.2.2\"><span class=\"toc-item-num\">3.2.2&nbsp;&nbsp;</span>Переобучаем Случайный лес с учетом upsample</a></span></li><li><span><a href=\"#Переобучаем-Дерево-решений-с-учетом-upsample\" data-toc-modified-id=\"Переобучаем-Дерево-решений-с-учетом-upsample-3.2.3\"><span class=\"toc-item-num\">3.2.3&nbsp;&nbsp;</span>Переобучаем Дерево решений с учетом upsample</a></span></li><li><span><a href=\"#Переобучаем-Логистическую-регрессию-с-учетом-upsample\" data-toc-modified-id=\"Переобучаем-Логистическую-регрессию-с-учетом-upsample-3.2.4\"><span class=\"toc-item-num\">3.2.4&nbsp;&nbsp;</span>Переобучаем Логистическую регрессию с учетом upsample</a></span></li><li><span><a href=\"#Сводим-результаты-в-одном-месте\" data-toc-modified-id=\"Сводим-результаты-в-одном-месте-3.2.5\"><span class=\"toc-item-num\">3.2.5&nbsp;&nbsp;</span>Сводим результаты в одном месте</a></span></li></ul></li><li><span><a href=\"#Пробуем-уменьшить-выборку-&quot;0&quot;\" data-toc-modified-id=\"Пробуем-уменьшить-выборку-&quot;0&quot;-3.3\"><span class=\"toc-item-num\">3.3&nbsp;&nbsp;</span>Пробуем уменьшить выборку \"0\"</a></span><ul class=\"toc-item\"><li><span><a href=\"#Неудачная-попытка-№1\" data-toc-modified-id=\"Неудачная-попытка-№1-3.3.1\"><span class=\"toc-item-num\">3.3.1&nbsp;&nbsp;</span>Неудачная попытка №1</a></span></li><li><span><a href=\"#Переобучаем-Случайный-лес-с-учетом-downsample\" data-toc-modified-id=\"Переобучаем-Случайный-лес-с-учетом-downsample-3.3.2\"><span class=\"toc-item-num\">3.3.2&nbsp;&nbsp;</span>Переобучаем Случайный лес с учетом downsample</a></span></li><li><span><a href=\"#Переобучаем-Дерево-решений-с-учетом-downsample\" data-toc-modified-id=\"Переобучаем-Дерево-решений-с-учетом-downsample-3.3.3\"><span class=\"toc-item-num\">3.3.3&nbsp;&nbsp;</span>Переобучаем Дерево решений с учетом downsample</a></span></li><li><span><a href=\"#Переобучаем-Логистическую-регрессию-с-учетом-downsample\" data-toc-modified-id=\"Переобучаем-Логистическую-регрессию-с-учетом-downsample-3.3.4\"><span class=\"toc-item-num\">3.3.4&nbsp;&nbsp;</span>Переобучаем Логистическую регрессию с учетом downsample</a></span></li><li><span><a href=\"#Сводим-итоги-в-одном-месте\" data-toc-modified-id=\"Сводим-итоги-в-одном-месте-3.3.5\"><span class=\"toc-item-num\">3.3.5&nbsp;&nbsp;</span>Сводим итоги в одном месте</a></span></li></ul></li><li><span><a href=\"#Попробуем-также-поработать-с-порогами-логистической-регрессии\" data-toc-modified-id=\"Попробуем-также-поработать-с-порогами-логистической-регрессии-3.4\"><span class=\"toc-item-num\">3.4&nbsp;&nbsp;</span>Попробуем также поработать с порогами логистической регрессии</a></span><ul class=\"toc-item\"><li><span><a href=\"#Пробуем-на-исходной-модели-с-исходными-данными:\" data-toc-modified-id=\"Пробуем-на-исходной-модели-с-исходными-данными:-3.4.1\"><span class=\"toc-item-num\">3.4.1&nbsp;&nbsp;</span>Пробуем на исходной модели с исходными данными:</a></span></li><li><span><a href=\"#Теперь-попробуем-на-сбалансированной-модели-и-с-исходными-данными:\" data-toc-modified-id=\"Теперь-попробуем-на-сбалансированной-модели-и-с-исходными-данными:-3.4.2\"><span class=\"toc-item-num\">3.4.2&nbsp;&nbsp;</span>Теперь попробуем на сбалансированной модели и с исходными данными:</a></span></li><li><span><a href=\"#Осталась-исходная-модель-и-апсампл-данные:\" data-toc-modified-id=\"Осталась-исходная-модель-и-апсампл-данные:-3.4.3\"><span class=\"toc-item-num\">3.4.3&nbsp;&nbsp;</span>Осталась исходная модель и апсампл данные:</a></span></li></ul></li><li><span><a href=\"#Итого,-взглянем-на-результаты-всех-попыток:\" data-toc-modified-id=\"Итого,-взглянем-на-результаты-всех-попыток:-3.5\"><span class=\"toc-item-num\">3.5&nbsp;&nbsp;</span>Итого, взглянем на результаты всех попыток:</a></span></li></ul></li><li><span><a href=\"#Тестирование-модели\" data-toc-modified-id=\"Тестирование-модели-4\"><span class=\"toc-item-num\">4&nbsp;&nbsp;</span>Тестирование модели</a></span></li></ul></div>"
   ]
  },
  {
   "cell_type": "markdown",
   "metadata": {},
   "source": [
    "# Отток клиентов"
   ]
  },
  {
   "cell_type": "markdown",
   "metadata": {},
   "source": [
    "Из «Бета-Банка» стали уходить клиенты. Каждый месяц. Немного, но заметно. Банковские маркетологи посчитали: сохранять текущих клиентов дешевле, чем привлекать новых.\n",
    "\n",
    "Нужно спрогнозировать, уйдёт клиент из банка в ближайшее время или нет. Вам предоставлены исторические данные о поведении клиентов и расторжении договоров с банком. \n",
    "\n",
    "Постройте модель с предельно большим значением *F1*-меры. Чтобы сдать проект успешно, нужно довести метрику до 0.59. Проверьте *F1*-меру на тестовой выборке самостоятельно.\n",
    "\n",
    "Дополнительно измеряйте *AUC-ROC*, сравнивайте её значение с *F1*-мерой.\n",
    "\n",
    "Источник данных: [https://www.kaggle.com/barelydedicated/bank-customer-churn-modeling](https://www.kaggle.com/barelydedicated/bank-customer-churn-modeling)"
   ]
  },
  {
   "cell_type": "markdown",
   "metadata": {},
   "source": [
    "<div class=\"alert alert-success\">\n",
    "<h2> Комментарий ревьюера  <a class=\"tocSkip\"> </h2>\n",
    "\n",
    "👍  Цели, задачи и план ясны.\n",
    "</div>"
   ]
  },
  {
   "cell_type": "markdown",
   "metadata": {},
   "source": [
    "# 0 Импорт библиотек и инструментов"
   ]
  },
  {
   "cell_type": "code",
   "execution_count": 1,
   "metadata": {},
   "outputs": [],
   "source": [
    "import pandas as pd\n",
    "import numpy as np\n",
    "\n",
    "from sklearn.model_selection import train_test_split\n",
    "from sklearn.linear_model import LinearRegression, LogisticRegression\n",
    "from sklearn.ensemble import RandomForestRegressor, RandomForestClassifier\n",
    "from sklearn.tree import DecisionTreeRegressor, DecisionTreeClassifier\n",
    "from sklearn.preprocessing import StandardScaler\n",
    "from sklearn.dummy import DummyClassifier\n",
    "from sklearn.utils import shuffle\n",
    "from sklearn.metrics import (\n",
    "    f1_score, mean_squared_error,\n",
    "    accuracy_score, roc_curve,\n",
    "    precision_score, recall_score,\n",
    "    precision_recall_curve,\n",
    "    roc_auc_score)"
   ]
  },
  {
   "cell_type": "markdown",
   "metadata": {},
   "source": [
    "<div class=\"alert alert-warning\">\n",
    "<h2> Комментарий ревьюера <a class=\"tocSkip\"> </h2>\n",
    "    \n",
    "<b>Некоторые замечания и рекомендации💡:</b> \n",
    "    \n",
    "Если загружаем несколько функций из одного пакета, то удобнее записать это через запятую.\n",
    "    \n",
    "`from sklearn.metrics import f1_score, roc_auc_score`\n",
    "    \n",
    "А если через запятую будет больше трех позиций, в таком случае здесь было бы идеально привести оформление в соответствие с <a href=\"https://pythonworld.ru/osnovy/pep-8-rukovodstvo-po-napisaniyu-koda-na-python.html\">pep8</a> - не оставлять длинных строк. \n",
    "\n",
    "Такое оформление предпочтительнее:    \n",
    "    \n",
    "`from sklearn.metrics import (\n",
    "    accuracy_score, \n",
    "    confusion_matrix, \n",
    "    f1_score,\n",
    "    roc_auc_score\n",
    ")` \n",
    "    \n",
    "        \n",
    "</div>"
   ]
  },
  {
   "cell_type": "markdown",
   "metadata": {},
   "source": [
    "<div class=\"alert alert-info\">\n",
    "<b>Комментарий студента:</b>\n",
    "    \n",
    "Да, так выходит куда лаконичнее.\n",
    "</div>"
   ]
  },
  {
   "cell_type": "markdown",
   "metadata": {},
   "source": [
    "<div class=\"alert alert-success\">\n",
    "<h2> Комментарий ревьюера #2 <a class=\"tocSkip\"> </h2>\n",
    "\n",
    "👍 Ага, спасибо за доработку по этому моменту.\n",
    "</div>\n"
   ]
  },
  {
   "cell_type": "markdown",
   "metadata": {},
   "source": [
    "## Подготовка данных"
   ]
  },
  {
   "cell_type": "markdown",
   "metadata": {},
   "source": [
    "### Загрузка и знакомство с данными"
   ]
  },
  {
   "cell_type": "code",
   "execution_count": 2,
   "metadata": {},
   "outputs": [
    {
     "name": "stdout",
     "output_type": "stream",
     "text": [
      "<class 'pandas.core.frame.DataFrame'>\n",
      "RangeIndex: 10000 entries, 0 to 9999\n",
      "Data columns (total 14 columns):\n",
      " #   Column           Non-Null Count  Dtype  \n",
      "---  ------           --------------  -----  \n",
      " 0   RowNumber        10000 non-null  int64  \n",
      " 1   CustomerId       10000 non-null  int64  \n",
      " 2   Surname          10000 non-null  object \n",
      " 3   CreditScore      10000 non-null  int64  \n",
      " 4   Geography        10000 non-null  object \n",
      " 5   Gender           10000 non-null  object \n",
      " 6   Age              10000 non-null  int64  \n",
      " 7   Tenure           9091 non-null   float64\n",
      " 8   Balance          10000 non-null  float64\n",
      " 9   NumOfProducts    10000 non-null  int64  \n",
      " 10  HasCrCard        10000 non-null  int64  \n",
      " 11  IsActiveMember   10000 non-null  int64  \n",
      " 12  EstimatedSalary  10000 non-null  float64\n",
      " 13  Exited           10000 non-null  int64  \n",
      "dtypes: float64(3), int64(8), object(3)\n",
      "memory usage: 1.1+ MB\n"
     ]
    },
    {
     "data": {
      "text/plain": [
       "None"
      ]
     },
     "metadata": {},
     "output_type": "display_data"
    },
    {
     "data": {
      "text/html": [
       "<div>\n",
       "<style scoped>\n",
       "    .dataframe tbody tr th:only-of-type {\n",
       "        vertical-align: middle;\n",
       "    }\n",
       "\n",
       "    .dataframe tbody tr th {\n",
       "        vertical-align: top;\n",
       "    }\n",
       "\n",
       "    .dataframe thead th {\n",
       "        text-align: right;\n",
       "    }\n",
       "</style>\n",
       "<table border=\"1\" class=\"dataframe\">\n",
       "  <thead>\n",
       "    <tr style=\"text-align: right;\">\n",
       "      <th></th>\n",
       "      <th>RowNumber</th>\n",
       "      <th>CustomerId</th>\n",
       "      <th>Surname</th>\n",
       "      <th>CreditScore</th>\n",
       "      <th>Geography</th>\n",
       "      <th>Gender</th>\n",
       "      <th>Age</th>\n",
       "      <th>Tenure</th>\n",
       "      <th>Balance</th>\n",
       "      <th>NumOfProducts</th>\n",
       "      <th>HasCrCard</th>\n",
       "      <th>IsActiveMember</th>\n",
       "      <th>EstimatedSalary</th>\n",
       "      <th>Exited</th>\n",
       "    </tr>\n",
       "  </thead>\n",
       "  <tbody>\n",
       "    <tr>\n",
       "      <th>0</th>\n",
       "      <td>1</td>\n",
       "      <td>15634602</td>\n",
       "      <td>Hargrave</td>\n",
       "      <td>619</td>\n",
       "      <td>France</td>\n",
       "      <td>Female</td>\n",
       "      <td>42</td>\n",
       "      <td>2.0</td>\n",
       "      <td>0.00</td>\n",
       "      <td>1</td>\n",
       "      <td>1</td>\n",
       "      <td>1</td>\n",
       "      <td>101348.88</td>\n",
       "      <td>1</td>\n",
       "    </tr>\n",
       "    <tr>\n",
       "      <th>1</th>\n",
       "      <td>2</td>\n",
       "      <td>15647311</td>\n",
       "      <td>Hill</td>\n",
       "      <td>608</td>\n",
       "      <td>Spain</td>\n",
       "      <td>Female</td>\n",
       "      <td>41</td>\n",
       "      <td>1.0</td>\n",
       "      <td>83807.86</td>\n",
       "      <td>1</td>\n",
       "      <td>0</td>\n",
       "      <td>1</td>\n",
       "      <td>112542.58</td>\n",
       "      <td>0</td>\n",
       "    </tr>\n",
       "    <tr>\n",
       "      <th>2</th>\n",
       "      <td>3</td>\n",
       "      <td>15619304</td>\n",
       "      <td>Onio</td>\n",
       "      <td>502</td>\n",
       "      <td>France</td>\n",
       "      <td>Female</td>\n",
       "      <td>42</td>\n",
       "      <td>8.0</td>\n",
       "      <td>159660.80</td>\n",
       "      <td>3</td>\n",
       "      <td>1</td>\n",
       "      <td>0</td>\n",
       "      <td>113931.57</td>\n",
       "      <td>1</td>\n",
       "    </tr>\n",
       "    <tr>\n",
       "      <th>3</th>\n",
       "      <td>4</td>\n",
       "      <td>15701354</td>\n",
       "      <td>Boni</td>\n",
       "      <td>699</td>\n",
       "      <td>France</td>\n",
       "      <td>Female</td>\n",
       "      <td>39</td>\n",
       "      <td>1.0</td>\n",
       "      <td>0.00</td>\n",
       "      <td>2</td>\n",
       "      <td>0</td>\n",
       "      <td>0</td>\n",
       "      <td>93826.63</td>\n",
       "      <td>0</td>\n",
       "    </tr>\n",
       "    <tr>\n",
       "      <th>4</th>\n",
       "      <td>5</td>\n",
       "      <td>15737888</td>\n",
       "      <td>Mitchell</td>\n",
       "      <td>850</td>\n",
       "      <td>Spain</td>\n",
       "      <td>Female</td>\n",
       "      <td>43</td>\n",
       "      <td>2.0</td>\n",
       "      <td>125510.82</td>\n",
       "      <td>1</td>\n",
       "      <td>1</td>\n",
       "      <td>1</td>\n",
       "      <td>79084.10</td>\n",
       "      <td>0</td>\n",
       "    </tr>\n",
       "  </tbody>\n",
       "</table>\n",
       "</div>"
      ],
      "text/plain": [
       "   RowNumber  CustomerId   Surname  CreditScore Geography  Gender  Age  \\\n",
       "0          1    15634602  Hargrave          619    France  Female   42   \n",
       "1          2    15647311      Hill          608     Spain  Female   41   \n",
       "2          3    15619304      Onio          502    France  Female   42   \n",
       "3          4    15701354      Boni          699    France  Female   39   \n",
       "4          5    15737888  Mitchell          850     Spain  Female   43   \n",
       "\n",
       "   Tenure    Balance  NumOfProducts  HasCrCard  IsActiveMember  \\\n",
       "0     2.0       0.00              1          1               1   \n",
       "1     1.0   83807.86              1          0               1   \n",
       "2     8.0  159660.80              3          1               0   \n",
       "3     1.0       0.00              2          0               0   \n",
       "4     2.0  125510.82              1          1               1   \n",
       "\n",
       "   EstimatedSalary  Exited  \n",
       "0        101348.88       1  \n",
       "1        112542.58       0  \n",
       "2        113931.57       1  \n",
       "3         93826.63       0  \n",
       "4         79084.10       0  "
      ]
     },
     "metadata": {},
     "output_type": "display_data"
    }
   ],
   "source": [
    "data = pd.read_csv('/datasets/Churn.csv')\n",
    "display(data.info())\n",
    "display(data.head())"
   ]
  },
  {
   "cell_type": "markdown",
   "metadata": {},
   "source": [
    "### Проверим на дубли"
   ]
  },
  {
   "cell_type": "code",
   "execution_count": 3,
   "metadata": {},
   "outputs": [
    {
     "data": {
      "text/plain": [
       "0"
      ]
     },
     "metadata": {},
     "output_type": "display_data"
    },
    {
     "data": {
      "text/plain": [
       "0"
      ]
     },
     "metadata": {},
     "output_type": "display_data"
    },
    {
     "data": {
      "text/plain": [
       "0"
      ]
     },
     "metadata": {},
     "output_type": "display_data"
    }
   ],
   "source": [
    "display(data.duplicated().sum())\n",
    "display(data['CustomerId'].duplicated().sum())\n",
    "display(data['RowNumber'].duplicated().sum())"
   ]
  },
  {
   "cell_type": "markdown",
   "metadata": {},
   "source": [
    "**Данные загружены и первоначально изучены, можем накидать план по подготовке данных:**\n",
    "\n",
    "1) Для начала привести наименования столбцов к нижнему регистру для удобства работы;\\\n",
    "2) Снести лишнее: столбцы RowNumber, CustomerId, Surname - для работы модели не нужны. Также детальнее посмотрим на Geography.\\\n",
    "3) Преобразовать категориальные признаки - Gender и, возможно, Geography.\\\n",
    "4) Tenure - кажется, что это значимый параметр для модели, но, именно здесь видим 9% пропусков. Необходимо взглянуть на столбец подробнее и понять, что с ним делать - дропнуть эти строки или как-то восполнить пропуски.\n"
   ]
  },
  {
   "cell_type": "markdown",
   "metadata": {},
   "source": [
    "<div class=\"alert alert-success\"> \n",
    "<h2> Комментарий ревьюера <a class=\"tocSkip\"> </h2>\n",
    "\n",
    "👍 Супер. Ошибки определены верно.\n",
    "</div>  \n"
   ]
  },
  {
   "cell_type": "markdown",
   "metadata": {},
   "source": [
    "### Приводим наименования столбцов к нижнему регисту"
   ]
  },
  {
   "cell_type": "code",
   "execution_count": 4,
   "metadata": {},
   "outputs": [
    {
     "data": {
      "text/html": [
       "<div>\n",
       "<style scoped>\n",
       "    .dataframe tbody tr th:only-of-type {\n",
       "        vertical-align: middle;\n",
       "    }\n",
       "\n",
       "    .dataframe tbody tr th {\n",
       "        vertical-align: top;\n",
       "    }\n",
       "\n",
       "    .dataframe thead th {\n",
       "        text-align: right;\n",
       "    }\n",
       "</style>\n",
       "<table border=\"1\" class=\"dataframe\">\n",
       "  <thead>\n",
       "    <tr style=\"text-align: right;\">\n",
       "      <th></th>\n",
       "      <th>rownumber</th>\n",
       "      <th>customerid</th>\n",
       "      <th>surname</th>\n",
       "      <th>creditscore</th>\n",
       "      <th>geography</th>\n",
       "      <th>gender</th>\n",
       "      <th>age</th>\n",
       "      <th>tenure</th>\n",
       "      <th>balance</th>\n",
       "      <th>numofproducts</th>\n",
       "      <th>hascrcard</th>\n",
       "      <th>isactivemember</th>\n",
       "      <th>estimatedsalary</th>\n",
       "      <th>exited</th>\n",
       "    </tr>\n",
       "  </thead>\n",
       "  <tbody>\n",
       "    <tr>\n",
       "      <th>0</th>\n",
       "      <td>1</td>\n",
       "      <td>15634602</td>\n",
       "      <td>Hargrave</td>\n",
       "      <td>619</td>\n",
       "      <td>France</td>\n",
       "      <td>Female</td>\n",
       "      <td>42</td>\n",
       "      <td>2.0</td>\n",
       "      <td>0.0</td>\n",
       "      <td>1</td>\n",
       "      <td>1</td>\n",
       "      <td>1</td>\n",
       "      <td>101348.88</td>\n",
       "      <td>1</td>\n",
       "    </tr>\n",
       "  </tbody>\n",
       "</table>\n",
       "</div>"
      ],
      "text/plain": [
       "   rownumber  customerid   surname  creditscore geography  gender  age  \\\n",
       "0          1    15634602  Hargrave          619    France  Female   42   \n",
       "\n",
       "   tenure  balance  numofproducts  hascrcard  isactivemember  estimatedsalary  \\\n",
       "0     2.0      0.0              1          1               1        101348.88   \n",
       "\n",
       "   exited  \n",
       "0       1  "
      ]
     },
     "execution_count": 4,
     "metadata": {},
     "output_type": "execute_result"
    }
   ],
   "source": [
    "data.rename(columns=str.lower, inplace=True)\n",
    "data.head(1)"
   ]
  },
  {
   "cell_type": "markdown",
   "metadata": {},
   "source": [
    "Наименования столбцов приведены к нижнему регистру"
   ]
  },
  {
   "cell_type": "markdown",
   "metadata": {},
   "source": [
    "<div class=\"alert alert-success\">\n",
    "<h2> Комментарий ревьюера <a class=\"tocSkip\"> </h2>\n",
    "\n",
    "👍 Колонки был в верблюжьем стиле. Мы убрали заглавные буквы, теперь, строго говоря, они без стиля. Можно было бы довести тогда до змеиного стиля с нижним подчеркиванием. Сейчас переделывать не нужно, потому что ниже придется менять названия переменных у столбцов.   \n",
    "    \n",
    "На будущее, для приведения к змеиному стилю, чтобы не делать вручную, можно использовать регулярные выражения и библиотеку re (import re). Например, так:\n",
    "\n",
    "\n",
    "`df.columns = [re.sub(r'(?<!^)(?=[A-Z])', '_', i).lower() for i in df.columns]`\n",
    "    \n",
    "Подробнее про регулярные выражения можно почитать здесь: https://habr.com/ru/post/349860/    \n",
    "\n",
    "Ну и еще один универсальный вариант − функция clean_column()  https://pypi.org/project/skimpy/ \n",
    "\n",
    "</div>\n"
   ]
  },
  {
   "cell_type": "markdown",
   "metadata": {},
   "source": [
    "<div class=\"alert alert-info\">\n",
    "<b>Комментарий студента:</b>\n",
    "    \n",
    "Лайк за полезный совет и информацию\n",
    "</div>"
   ]
  },
  {
   "cell_type": "markdown",
   "metadata": {},
   "source": [
    "### Удаляем лишние столбцы"
   ]
  },
  {
   "cell_type": "code",
   "execution_count": 5,
   "metadata": {},
   "outputs": [
    {
     "data": {
      "text/html": [
       "<div>\n",
       "<style scoped>\n",
       "    .dataframe tbody tr th:only-of-type {\n",
       "        vertical-align: middle;\n",
       "    }\n",
       "\n",
       "    .dataframe tbody tr th {\n",
       "        vertical-align: top;\n",
       "    }\n",
       "\n",
       "    .dataframe thead th {\n",
       "        text-align: right;\n",
       "    }\n",
       "</style>\n",
       "<table border=\"1\" class=\"dataframe\">\n",
       "  <thead>\n",
       "    <tr style=\"text-align: right;\">\n",
       "      <th></th>\n",
       "      <th>creditscore</th>\n",
       "      <th>geography</th>\n",
       "      <th>gender</th>\n",
       "      <th>age</th>\n",
       "      <th>tenure</th>\n",
       "      <th>balance</th>\n",
       "      <th>numofproducts</th>\n",
       "      <th>hascrcard</th>\n",
       "      <th>isactivemember</th>\n",
       "      <th>estimatedsalary</th>\n",
       "      <th>exited</th>\n",
       "    </tr>\n",
       "  </thead>\n",
       "  <tbody>\n",
       "    <tr>\n",
       "      <th>0</th>\n",
       "      <td>619</td>\n",
       "      <td>France</td>\n",
       "      <td>Female</td>\n",
       "      <td>42</td>\n",
       "      <td>2.0</td>\n",
       "      <td>0.0</td>\n",
       "      <td>1</td>\n",
       "      <td>1</td>\n",
       "      <td>1</td>\n",
       "      <td>101348.88</td>\n",
       "      <td>1</td>\n",
       "    </tr>\n",
       "  </tbody>\n",
       "</table>\n",
       "</div>"
      ],
      "text/plain": [
       "   creditscore geography  gender  age  tenure  balance  numofproducts  \\\n",
       "0          619    France  Female   42     2.0      0.0              1   \n",
       "\n",
       "   hascrcard  isactivemember  estimatedsalary  exited  \n",
       "0          1               1        101348.88       1  "
      ]
     },
     "execution_count": 5,
     "metadata": {},
     "output_type": "execute_result"
    }
   ],
   "source": [
    "data = data.drop(['rownumber', 'customerid', 'surname'], axis = 1)\n",
    "data.head(1)"
   ]
  },
  {
   "cell_type": "markdown",
   "metadata": {},
   "source": [
    "Лишние столбцы удалены"
   ]
  },
  {
   "cell_type": "markdown",
   "metadata": {},
   "source": [
    "<div class=\"alert alert-success\">\n",
    "<h2> Комментарий ревьюера <a class=\"tocSkip\"> </h2>\n",
    "\n",
    "👍 Всё верно\n",
    "\n",
    "</div> "
   ]
  },
  {
   "cell_type": "markdown",
   "metadata": {},
   "source": [
    "### Преобразуем категориальные параметры и изучаем Geography"
   ]
  },
  {
   "cell_type": "markdown",
   "metadata": {},
   "source": [
    "Сначала посмотрим на geography"
   ]
  },
  {
   "cell_type": "code",
   "execution_count": 6,
   "metadata": {},
   "outputs": [
    {
     "data": {
      "text/plain": [
       "geography\n",
       "France     5014\n",
       "Germany    2509\n",
       "Spain      2477\n",
       "Name: exited, dtype: int64"
      ]
     },
     "metadata": {},
     "output_type": "display_data"
    },
    {
     "data": {
      "text/plain": [
       "geography\n",
       "France     810\n",
       "Germany    814\n",
       "Spain      413\n",
       "Name: exited, dtype: int64"
      ]
     },
     "metadata": {},
     "output_type": "display_data"
    }
   ],
   "source": [
    "display(data.groupby('geography')['exited'].count())\n",
    "display(data.groupby('geography')['exited'].sum())"
   ]
  },
  {
   "cell_type": "markdown",
   "metadata": {},
   "source": [
    "Здесь можно увидеть, что в зависимости от страны отток различается, в частности, доля оттока по Германии намного выше.\n",
    "Применим OHE для столбцов geography и gender. При этом, фиктивный признак у нас появится только для gender."
   ]
  },
  {
   "cell_type": "code",
   "execution_count": 7,
   "metadata": {},
   "outputs": [
    {
     "data": {
      "text/html": [
       "<div>\n",
       "<style scoped>\n",
       "    .dataframe tbody tr th:only-of-type {\n",
       "        vertical-align: middle;\n",
       "    }\n",
       "\n",
       "    .dataframe tbody tr th {\n",
       "        vertical-align: top;\n",
       "    }\n",
       "\n",
       "    .dataframe thead th {\n",
       "        text-align: right;\n",
       "    }\n",
       "</style>\n",
       "<table border=\"1\" class=\"dataframe\">\n",
       "  <thead>\n",
       "    <tr style=\"text-align: right;\">\n",
       "      <th></th>\n",
       "      <th>creditscore</th>\n",
       "      <th>age</th>\n",
       "      <th>tenure</th>\n",
       "      <th>balance</th>\n",
       "      <th>numofproducts</th>\n",
       "      <th>hascrcard</th>\n",
       "      <th>isactivemember</th>\n",
       "      <th>estimatedsalary</th>\n",
       "      <th>exited</th>\n",
       "      <th>geography_germany</th>\n",
       "      <th>geography_spain</th>\n",
       "      <th>gender_male</th>\n",
       "    </tr>\n",
       "  </thead>\n",
       "  <tbody>\n",
       "    <tr>\n",
       "      <th>0</th>\n",
       "      <td>619</td>\n",
       "      <td>42</td>\n",
       "      <td>2.0</td>\n",
       "      <td>0.0</td>\n",
       "      <td>1</td>\n",
       "      <td>1</td>\n",
       "      <td>1</td>\n",
       "      <td>101348.88</td>\n",
       "      <td>1</td>\n",
       "      <td>0</td>\n",
       "      <td>0</td>\n",
       "      <td>0</td>\n",
       "    </tr>\n",
       "  </tbody>\n",
       "</table>\n",
       "</div>"
      ],
      "text/plain": [
       "   creditscore  age  tenure  balance  numofproducts  hascrcard  \\\n",
       "0          619   42     2.0      0.0              1          1   \n",
       "\n",
       "   isactivemember  estimatedsalary  exited  geography_germany  \\\n",
       "0               1        101348.88       1                  0   \n",
       "\n",
       "   geography_spain  gender_male  \n",
       "0                0            0  "
      ]
     },
     "execution_count": 7,
     "metadata": {},
     "output_type": "execute_result"
    }
   ],
   "source": [
    "data_ohe = pd.get_dummies(data, drop_first = True)\n",
    "data_ohe.rename(columns=str.lower, inplace=True)\n",
    "data_ohe.head(1)"
   ]
  },
  {
   "cell_type": "markdown",
   "metadata": {},
   "source": [
    "<div class=\"alert alert-block alert-danger\">\n",
    "<h2><s> Комментарий ревьюера <a class=\"tocSkip\"></h2>\n",
    "  \n",
    "<b>На доработку🤔:</b>\n",
    "    \n",
    "А вот и нет. Фиктивный признак будет появляться в каждом случае. Смотри, если у нас три страны, убираем одну колонку со станой (например, Францию), остается Германия и Испания. Если видим нули у них, значит логически следует, что в колонке с Францией должна быть единица. То есть, одна из колонок оказывается избыточной.\n",
    "    \n",
    "И вот такая история, когда два признака в сумме дают корреляцию для третьего (когда можем вычислить из одних колонок, что точно лежит в других) может быть причиной мультиколлинеарности.\n",
    "    \n",
    "***\n",
    " \n",
    "Здесь следует  избегать dummy-ловушки, удаляя одну из колонок и исключая мультиколлинеарность. ( `drop_first= True`)\n",
    "\n",
    "Подробнее: https://www.codecamp.ru/blog/pandas-get-dummies/ \n",
    "\n",
    "</div>\n"
   ]
  },
  {
   "cell_type": "markdown",
   "metadata": {},
   "source": [
    "<div class=\"alert alert-info\">\n",
    "<b>Комментарий студента:</b>\n",
    "    \n",
    "Да, действительно, поправил.\n",
    "</div>"
   ]
  },
  {
   "cell_type": "markdown",
   "metadata": {},
   "source": [
    "Категориальные параметры преобразованы"
   ]
  },
  {
   "cell_type": "markdown",
   "metadata": {},
   "source": [
    "### Работа с пропусками"
   ]
  },
  {
   "cell_type": "code",
   "execution_count": 8,
   "metadata": {},
   "outputs": [
    {
     "data": {
      "text/plain": [
       "count    9091.000000\n",
       "mean        4.997690\n",
       "std         2.894723\n",
       "min         0.000000\n",
       "25%         2.000000\n",
       "50%         5.000000\n",
       "75%         7.000000\n",
       "max        10.000000\n",
       "Name: tenure, dtype: float64"
      ]
     },
     "metadata": {},
     "output_type": "display_data"
    },
    {
     "data": {
      "text/plain": [
       "tenure\n",
       "0.0     382\n",
       "1.0     952\n",
       "2.0     950\n",
       "3.0     928\n",
       "4.0     885\n",
       "5.0     927\n",
       "6.0     881\n",
       "7.0     925\n",
       "8.0     933\n",
       "9.0     882\n",
       "10.0    446\n",
       "Name: tenure, dtype: int64"
      ]
     },
     "metadata": {},
     "output_type": "display_data"
    },
    {
     "data": {
      "text/plain": [
       "geography\n",
       "France     187\n",
       "Germany     98\n",
       "Spain       97\n",
       "Name: tenure, dtype: int64"
      ]
     },
     "metadata": {},
     "output_type": "display_data"
    },
    {
     "data": {
      "text/plain": [
       "geography\n",
       "France     33\n",
       "Germany    34\n",
       "Spain      23\n",
       "Name: exited, dtype: int64"
      ]
     },
     "metadata": {},
     "output_type": "display_data"
    }
   ],
   "source": [
    "display(data['tenure'].describe())\n",
    "display(data.groupby('tenure')['tenure'].count())\n",
    "display(data[data['tenure'] == 0].groupby('geography')['tenure'].count())\n",
    "display(data[data['tenure'] == 0].groupby('geography')['exited'].sum())"
   ]
  },
  {
   "cell_type": "markdown",
   "metadata": {},
   "source": [
    "Итак, в столбце tenure у нас 909 пропусков.\\\n",
    "Видим, что кол-во клиентов tenure от 1 до 9 составляет +/- 900, что близко к кол-ву пропусков.\\\n",
    "Кол-во клиентов с tenure 0 - всего 382, что выглядит достаточно странно, учитывая, что клиентов 1 - 952.\\\n",
    "Учитывая, что когорта клиентов, пришедших в определенное время может только уменьшаться (либо не меняться), кол-во клиентов 0 всего 382 вызывает подозрение, кроме этого - распределены они по странам равномерно. Врядли кол-во новых клиентов резко упало в разы, предполагаю, что пустые значения в данном случае - это 0, клиенты со сроком жизни до 1 года."
   ]
  },
  {
   "cell_type": "code",
   "execution_count": 9,
   "metadata": {},
   "outputs": [
    {
     "data": {
      "text/plain": [
       "tenure\n",
       "0.0      382\n",
       "1.0      952\n",
       "2.0      950\n",
       "3.0      928\n",
       "4.0      885\n",
       "5.0     1836\n",
       "6.0      881\n",
       "7.0      925\n",
       "8.0      933\n",
       "9.0      882\n",
       "10.0     446\n",
       "Name: tenure, dtype: int64"
      ]
     },
     "metadata": {},
     "output_type": "display_data"
    }
   ],
   "source": [
    "data_ohe['tenure'] = data_ohe['tenure'].fillna(5)\n",
    "display(data_ohe.groupby('tenure')['tenure'].count())"
   ]
  },
  {
   "cell_type": "markdown",
   "metadata": {},
   "source": [
    "<div class=\"alert alert-block alert-danger\">\n",
    "<h2><s> Комментарий ревьюера <a class=\"tocSkip\"></h2>\n",
    "  \n",
    "<b>На доработку🤔:</b>\n",
    " \n",
    "Предположение, что пропуски там, где клиент пришел недавно достаточно неплохое. Но подтвердить его сейчас мы не можем. Поэтому лучше следовать принципу, что следующие данные будут такими же по распределению, как текущие, и лучшей тактикой минимизации ошибки будет значение из области наибольшей плотности распределения, не изменяющую структуры распределения признака. \n",
    "    \n",
    "Доля пропусков не критично велика, возможно и решение с удалением. Однако данных у нас не много, я бы остановился на чем-то вроде медианы.\n",
    "\n",
    "</div>\n"
   ]
  },
  {
   "cell_type": "markdown",
   "metadata": {},
   "source": [
    "<div class=\"alert alert-info\">\n",
    "<b>Комментарий студента:</b>\n",
    "    \n",
    "В общем-то да, учитывая, что здесь +/- равномерное распределение, можем заменить на медиану.\n",
    "</div>"
   ]
  },
  {
   "cell_type": "markdown",
   "metadata": {},
   "source": [
    "Поменяли пустые значения на 0"
   ]
  },
  {
   "cell_type": "markdown",
   "metadata": {},
   "source": [
    "### ~~Масштабируем признаки и формируем итоговую таблицу для работы~~"
   ]
  },
  {
   "cell_type": "markdown",
   "metadata": {},
   "source": [
    "~~Масштабируем признаки на столбцах creditscore, estimatedsalary, age, tenure, balance~~"
   ]
  },
  {
   "cell_type": "markdown",
   "metadata": {},
   "source": [
    "<div class=\"alert alert-block alert-danger\">\n",
    "<h2><s> Комментарий ревьюера <a class=\"tocSkip\"></h2>\n",
    "  \n",
    "<b>На доработку🤔:</b>\n",
    " \n",
    "Масштабирование необходимо сделать после разбиения на выборки: учимся на трейне, применяем масштабирование ко всем трем.\n",
    "\n",
    "\n",
    "В реальном применении моделей у нас не будет возможности обучить скелер сразу и на тренировочной, и на рабочей выборке. Поэтому здесь воспроизводим реальную ситуацию - обучаемся только на тренировочной выборке, масштабируем обученным таким образом скелером все три выборки.\n",
    "    \n",
    "\n",
    "</div>\n"
   ]
  },
  {
   "cell_type": "markdown",
   "metadata": {},
   "source": [
    "<div class=\"alert alert-info\">\n",
    "<b>Комментарий студента:</b>\n",
    "    \n",
    "Спасибо, теперь картинка по этому процессу прояснилась - масштабирование переносим в раздел с разбивкой данных на выборки.\n",
    "</div>"
   ]
  },
  {
   "cell_type": "markdown",
   "metadata": {},
   "source": [
    "Итого, таблица для дальнейшей работы - df (для удобства)"
   ]
  },
  {
   "cell_type": "code",
   "execution_count": 10,
   "metadata": {
    "scrolled": true
   },
   "outputs": [
    {
     "name": "stdout",
     "output_type": "stream",
     "text": [
      "<class 'pandas.core.frame.DataFrame'>\n",
      "RangeIndex: 10000 entries, 0 to 9999\n",
      "Data columns (total 12 columns):\n",
      " #   Column             Non-Null Count  Dtype  \n",
      "---  ------             --------------  -----  \n",
      " 0   creditscore        10000 non-null  int64  \n",
      " 1   age                10000 non-null  int64  \n",
      " 2   tenure             10000 non-null  float64\n",
      " 3   balance            10000 non-null  float64\n",
      " 4   numofproducts      10000 non-null  int64  \n",
      " 5   hascrcard          10000 non-null  int64  \n",
      " 6   isactivemember     10000 non-null  int64  \n",
      " 7   estimatedsalary    10000 non-null  float64\n",
      " 8   exited             10000 non-null  int64  \n",
      " 9   geography_germany  10000 non-null  uint8  \n",
      " 10  geography_spain    10000 non-null  uint8  \n",
      " 11  gender_male        10000 non-null  uint8  \n",
      "dtypes: float64(3), int64(6), uint8(3)\n",
      "memory usage: 732.5 KB\n"
     ]
    }
   ],
   "source": [
    "df = data_ohe\n",
    "df.info()"
   ]
  },
  {
   "cell_type": "markdown",
   "metadata": {},
   "source": [
    "## Исследование задачи"
   ]
  },
  {
   "cell_type": "markdown",
   "metadata": {},
   "source": [
    "### Посмотрим на распределение классов признака exited"
   ]
  },
  {
   "cell_type": "code",
   "execution_count": 11,
   "metadata": {},
   "outputs": [
    {
     "data": {
      "text/plain": [
       "0    0.7963\n",
       "1    0.2037\n",
       "Name: exited, dtype: float64"
      ]
     },
     "metadata": {},
     "output_type": "display_data"
    }
   ],
   "source": [
    "display(df['exited'].value_counts(normalize = True))"
   ]
  },
  {
   "cell_type": "markdown",
   "metadata": {},
   "source": [
    "Видно, что есть явный дисбаланс, примерно 1 к 4."
   ]
  },
  {
   "cell_type": "markdown",
   "metadata": {},
   "source": [
    "<div class=\"alert alert-block alert-danger\">\n",
    "<h2><s> Комментарий ревьюера <a class=\"tocSkip\"></h2>\n",
    "  \n",
    "<b>На доработку🤔:</b>\n",
    " \n",
    "Ух, и здесь не совсем точно. Смотри, 0.2 к 0.8 делим оба числа на два =  0.1 к 0.4 умножаем на 10 =  1 к 4, а не 1 к 5. \n",
    "\n",
    "</div>"
   ]
  },
  {
   "cell_type": "markdown",
   "metadata": {},
   "source": [
    "<div class=\"alert alert-info\">\n",
    "<b>Комментарий студента:</b>\n",
    "    \n",
    "Соглашусь, нужно быть точнее в подаче информации. Поправил\n",
    "</div>"
   ]
  },
  {
   "cell_type": "markdown",
   "metadata": {},
   "source": [
    "### Попробуем обучить модель на данных \"как есть\""
   ]
  },
  {
   "cell_type": "markdown",
   "metadata": {},
   "source": [
    "#### Разделим выборки на тренировочную, валидационную и тестовую."
   ]
  },
  {
   "cell_type": "code",
   "execution_count": 12,
   "metadata": {},
   "outputs": [
    {
     "name": "stdout",
     "output_type": "stream",
     "text": [
      "(5000, 11) (5000,) (2500, 11) (2500,) (2500, 11) (2500,)\n"
     ]
    }
   ],
   "source": [
    "target = df['exited']\n",
    "features = df.drop(['exited'] , axis=1)\n",
    "\n",
    "features_train, features_valid1, target_train, target_valid1 = train_test_split(\n",
    "    features, target, test_size=0.5, random_state=12345)\n",
    "features_valid, features_test, target_valid, target_test = train_test_split(\n",
    "    features_valid1, target_valid1, test_size=0.5, random_state=12345)\n",
    "\n",
    "print(features_train.shape, target_train.shape, features_valid.shape, \n",
    "      target_valid.shape, features_test.shape, target_test.shape)"
   ]
  },
  {
   "cell_type": "markdown",
   "metadata": {},
   "source": [
    "Данные разделены на выборки. На данном этапе будем работать с train и valid."
   ]
  },
  {
   "cell_type": "markdown",
   "metadata": {},
   "source": [
    "<div class=\"alert alert-success\">\n",
    "<h2> Комментарий ревьюера <a class=\"tocSkip\"> </h2>\n",
    "\n",
    "👍 С разбиением на выборки согласен. Отлично, что выводим размерность.\n",
    "</div>"
   ]
  },
  {
   "cell_type": "markdown",
   "metadata": {},
   "source": [
    "#### Теперь выполним масштабирование признаков"
   ]
  },
  {
   "cell_type": "code",
   "execution_count": 13,
   "metadata": {},
   "outputs": [
    {
     "name": "stderr",
     "output_type": "stream",
     "text": [
      "/tmp/ipykernel_425/3702679547.py:6: SettingWithCopyWarning: \n",
      "A value is trying to be set on a copy of a slice from a DataFrame.\n",
      "Try using .loc[row_indexer,col_indexer] = value instead\n",
      "\n",
      "See the caveats in the documentation: https://pandas.pydata.org/pandas-docs/stable/user_guide/indexing.html#returning-a-view-versus-a-copy\n",
      "  features_train[numeric] = scaler.transform(features_train[numeric])\n",
      "/opt/conda/lib/python3.9/site-packages/pandas/core/indexing.py:1738: SettingWithCopyWarning: \n",
      "A value is trying to be set on a copy of a slice from a DataFrame.\n",
      "Try using .loc[row_indexer,col_indexer] = value instead\n",
      "\n",
      "See the caveats in the documentation: https://pandas.pydata.org/pandas-docs/stable/user_guide/indexing.html#returning-a-view-versus-a-copy\n",
      "  self._setitem_single_column(loc, value[:, i].tolist(), pi)\n",
      "/tmp/ipykernel_425/3702679547.py:7: SettingWithCopyWarning: \n",
      "A value is trying to be set on a copy of a slice from a DataFrame.\n",
      "Try using .loc[row_indexer,col_indexer] = value instead\n",
      "\n",
      "See the caveats in the documentation: https://pandas.pydata.org/pandas-docs/stable/user_guide/indexing.html#returning-a-view-versus-a-copy\n",
      "  features_valid[numeric] = scaler.transform(features_valid[numeric])\n",
      "/opt/conda/lib/python3.9/site-packages/pandas/core/indexing.py:1738: SettingWithCopyWarning: \n",
      "A value is trying to be set on a copy of a slice from a DataFrame.\n",
      "Try using .loc[row_indexer,col_indexer] = value instead\n",
      "\n",
      "See the caveats in the documentation: https://pandas.pydata.org/pandas-docs/stable/user_guide/indexing.html#returning-a-view-versus-a-copy\n",
      "  self._setitem_single_column(loc, value[:, i].tolist(), pi)\n",
      "/tmp/ipykernel_425/3702679547.py:8: SettingWithCopyWarning: \n",
      "A value is trying to be set on a copy of a slice from a DataFrame.\n",
      "Try using .loc[row_indexer,col_indexer] = value instead\n",
      "\n",
      "See the caveats in the documentation: https://pandas.pydata.org/pandas-docs/stable/user_guide/indexing.html#returning-a-view-versus-a-copy\n",
      "  features_test[numeric] = scaler.transform(features_test[numeric])\n",
      "/opt/conda/lib/python3.9/site-packages/pandas/core/indexing.py:1738: SettingWithCopyWarning: \n",
      "A value is trying to be set on a copy of a slice from a DataFrame.\n",
      "Try using .loc[row_indexer,col_indexer] = value instead\n",
      "\n",
      "See the caveats in the documentation: https://pandas.pydata.org/pandas-docs/stable/user_guide/indexing.html#returning-a-view-versus-a-copy\n",
      "  self._setitem_single_column(loc, value[:, i].tolist(), pi)\n"
     ]
    },
    {
     "data": {
      "text/html": [
       "<div>\n",
       "<style scoped>\n",
       "    .dataframe tbody tr th:only-of-type {\n",
       "        vertical-align: middle;\n",
       "    }\n",
       "\n",
       "    .dataframe tbody tr th {\n",
       "        vertical-align: top;\n",
       "    }\n",
       "\n",
       "    .dataframe thead th {\n",
       "        text-align: right;\n",
       "    }\n",
       "</style>\n",
       "<table border=\"1\" class=\"dataframe\">\n",
       "  <thead>\n",
       "    <tr style=\"text-align: right;\">\n",
       "      <th></th>\n",
       "      <th>creditscore</th>\n",
       "      <th>age</th>\n",
       "      <th>tenure</th>\n",
       "      <th>balance</th>\n",
       "      <th>numofproducts</th>\n",
       "      <th>hascrcard</th>\n",
       "      <th>isactivemember</th>\n",
       "      <th>estimatedsalary</th>\n",
       "      <th>geography_germany</th>\n",
       "      <th>geography_spain</th>\n",
       "      <th>gender_male</th>\n",
       "    </tr>\n",
       "  </thead>\n",
       "  <tbody>\n",
       "    <tr>\n",
       "      <th>6331</th>\n",
       "      <td>-0.239180</td>\n",
       "      <td>-0.374637</td>\n",
       "      <td>1.091632</td>\n",
       "      <td>0.572035</td>\n",
       "      <td>1</td>\n",
       "      <td>1</td>\n",
       "      <td>1</td>\n",
       "      <td>-0.140281</td>\n",
       "      <td>1</td>\n",
       "      <td>0</td>\n",
       "      <td>1</td>\n",
       "    </tr>\n",
       "    <tr>\n",
       "      <th>8201</th>\n",
       "      <td>0.685393</td>\n",
       "      <td>0.953729</td>\n",
       "      <td>1.823289</td>\n",
       "      <td>0.089503</td>\n",
       "      <td>1</td>\n",
       "      <td>0</td>\n",
       "      <td>1</td>\n",
       "      <td>-1.526589</td>\n",
       "      <td>0</td>\n",
       "      <td>1</td>\n",
       "      <td>0</td>\n",
       "    </tr>\n",
       "  </tbody>\n",
       "</table>\n",
       "</div>"
      ],
      "text/plain": [
       "      creditscore       age    tenure   balance  numofproducts  hascrcard  \\\n",
       "6331    -0.239180 -0.374637  1.091632  0.572035              1          1   \n",
       "8201     0.685393  0.953729  1.823289  0.089503              1          0   \n",
       "\n",
       "      isactivemember  estimatedsalary  geography_germany  geography_spain  \\\n",
       "6331               1        -0.140281                  1                0   \n",
       "8201               1        -1.526589                  0                1   \n",
       "\n",
       "      gender_male  \n",
       "6331            1  \n",
       "8201            0  "
      ]
     },
     "metadata": {},
     "output_type": "display_data"
    },
    {
     "data": {
      "text/html": [
       "<div>\n",
       "<style scoped>\n",
       "    .dataframe tbody tr th:only-of-type {\n",
       "        vertical-align: middle;\n",
       "    }\n",
       "\n",
       "    .dataframe tbody tr th {\n",
       "        vertical-align: top;\n",
       "    }\n",
       "\n",
       "    .dataframe thead th {\n",
       "        text-align: right;\n",
       "    }\n",
       "</style>\n",
       "<table border=\"1\" class=\"dataframe\">\n",
       "  <thead>\n",
       "    <tr style=\"text-align: right;\">\n",
       "      <th></th>\n",
       "      <th>creditscore</th>\n",
       "      <th>age</th>\n",
       "      <th>tenure</th>\n",
       "      <th>balance</th>\n",
       "      <th>numofproducts</th>\n",
       "      <th>hascrcard</th>\n",
       "      <th>isactivemember</th>\n",
       "      <th>estimatedsalary</th>\n",
       "      <th>geography_germany</th>\n",
       "      <th>geography_spain</th>\n",
       "      <th>gender_male</th>\n",
       "    </tr>\n",
       "  </thead>\n",
       "  <tbody>\n",
       "    <tr>\n",
       "      <th>7566</th>\n",
       "      <td>-0.810545</td>\n",
       "      <td>-0.279754</td>\n",
       "      <td>-0.371682</td>\n",
       "      <td>0.019486</td>\n",
       "      <td>1</td>\n",
       "      <td>1</td>\n",
       "      <td>0</td>\n",
       "      <td>1.180220</td>\n",
       "      <td>0</td>\n",
       "      <td>1</td>\n",
       "      <td>1</td>\n",
       "    </tr>\n",
       "    <tr>\n",
       "      <th>5696</th>\n",
       "      <td>-0.363841</td>\n",
       "      <td>0.194663</td>\n",
       "      <td>0.725803</td>\n",
       "      <td>-1.234200</td>\n",
       "      <td>2</td>\n",
       "      <td>0</td>\n",
       "      <td>1</td>\n",
       "      <td>-1.468393</td>\n",
       "      <td>0</td>\n",
       "      <td>0</td>\n",
       "      <td>1</td>\n",
       "    </tr>\n",
       "  </tbody>\n",
       "</table>\n",
       "</div>"
      ],
      "text/plain": [
       "      creditscore       age    tenure   balance  numofproducts  hascrcard  \\\n",
       "7566    -0.810545 -0.279754 -0.371682  0.019486              1          1   \n",
       "5696    -0.363841  0.194663  0.725803 -1.234200              2          0   \n",
       "\n",
       "      isactivemember  estimatedsalary  geography_germany  geography_spain  \\\n",
       "7566               0         1.180220                  0                1   \n",
       "5696               1        -1.468393                  0                0   \n",
       "\n",
       "      gender_male  \n",
       "7566            1  \n",
       "5696            1  "
      ]
     },
     "metadata": {},
     "output_type": "display_data"
    },
    {
     "data": {
      "text/html": [
       "<div>\n",
       "<style scoped>\n",
       "    .dataframe tbody tr th:only-of-type {\n",
       "        vertical-align: middle;\n",
       "    }\n",
       "\n",
       "    .dataframe tbody tr th {\n",
       "        vertical-align: top;\n",
       "    }\n",
       "\n",
       "    .dataframe thead th {\n",
       "        text-align: right;\n",
       "    }\n",
       "</style>\n",
       "<table border=\"1\" class=\"dataframe\">\n",
       "  <thead>\n",
       "    <tr style=\"text-align: right;\">\n",
       "      <th></th>\n",
       "      <th>creditscore</th>\n",
       "      <th>age</th>\n",
       "      <th>tenure</th>\n",
       "      <th>balance</th>\n",
       "      <th>numofproducts</th>\n",
       "      <th>hascrcard</th>\n",
       "      <th>isactivemember</th>\n",
       "      <th>estimatedsalary</th>\n",
       "      <th>geography_germany</th>\n",
       "      <th>geography_spain</th>\n",
       "      <th>gender_male</th>\n",
       "    </tr>\n",
       "  </thead>\n",
       "  <tbody>\n",
       "    <tr>\n",
       "      <th>5403</th>\n",
       "      <td>-0.644330</td>\n",
       "      <td>-1.608120</td>\n",
       "      <td>-0.005853</td>\n",
       "      <td>0.780021</td>\n",
       "      <td>1</td>\n",
       "      <td>1</td>\n",
       "      <td>1</td>\n",
       "      <td>1.079292</td>\n",
       "      <td>0</td>\n",
       "      <td>1</td>\n",
       "      <td>1</td>\n",
       "    </tr>\n",
       "    <tr>\n",
       "      <th>4488</th>\n",
       "      <td>0.664616</td>\n",
       "      <td>0.479312</td>\n",
       "      <td>0.359975</td>\n",
       "      <td>1.259985</td>\n",
       "      <td>1</td>\n",
       "      <td>0</td>\n",
       "      <td>0</td>\n",
       "      <td>0.603955</td>\n",
       "      <td>0</td>\n",
       "      <td>0</td>\n",
       "      <td>0</td>\n",
       "    </tr>\n",
       "  </tbody>\n",
       "</table>\n",
       "</div>"
      ],
      "text/plain": [
       "      creditscore       age    tenure   balance  numofproducts  hascrcard  \\\n",
       "5403    -0.644330 -1.608120 -0.005853  0.780021              1          1   \n",
       "4488     0.664616  0.479312  0.359975  1.259985              1          0   \n",
       "\n",
       "      isactivemember  estimatedsalary  geography_germany  geography_spain  \\\n",
       "5403               1         1.079292                  0                1   \n",
       "4488               0         0.603955                  0                0   \n",
       "\n",
       "      gender_male  \n",
       "5403            1  \n",
       "4488            0  "
      ]
     },
     "metadata": {},
     "output_type": "display_data"
    }
   ],
   "source": [
    "numeric = ['creditscore', 'estimatedsalary', 'age', 'tenure', 'balance']\n",
    "scaler = StandardScaler()\n",
    "\n",
    "scaler.fit(features_train[numeric])\n",
    "\n",
    "features_train[numeric] = scaler.transform(features_train[numeric])\n",
    "features_valid[numeric] = scaler.transform(features_valid[numeric])\n",
    "features_test[numeric] = scaler.transform(features_test[numeric])\n",
    "pd.options.mode.chained_assignment = None\n",
    "\n",
    "display(features_train.head(2), features_valid.head(2), features_test.head(2))"
   ]
  },
  {
   "cell_type": "markdown",
   "metadata": {},
   "source": [
    "<div class=\"alert alert-success\">\n",
    "<h2> Комментарий ревьюера #2 <a class=\"tocSkip\"> </h2>\n",
    "\n",
    "👍 Теперь все отлично.\n",
    "</div>\n"
   ]
  },
  {
   "cell_type": "markdown",
   "metadata": {},
   "source": [
    "#### Проверим несколько моделей"
   ]
  },
  {
   "cell_type": "markdown",
   "metadata": {},
   "source": [
    "##### Случайный лес с подбором гиперпараметров"
   ]
  },
  {
   "cell_type": "code",
   "execution_count": 14,
   "metadata": {},
   "outputs": [
    {
     "name": "stdout",
     "output_type": "stream",
     "text": [
      "Лучший Случайный лес: | F1-мера: 0.5682382133995036 | ROC-AUC: 0.8326109556335578 | Глубина: 13 | Кол-во деревьев 81\n"
     ]
    }
   ],
   "source": [
    "model_forest_best = None\n",
    "best_result_f = 0\n",
    "best_depth_f = 0\n",
    "best_estimators_f = 0\n",
    "best_roc_auc_f = 0\n",
    "for depth in range(1, 50, 1):\n",
    "    for estimators in range(1, 100, 10):\n",
    "        model_f = RandomForestClassifier(n_estimators=estimators, max_depth=depth, random_state=12345)\n",
    "        model_f.fit(features_train, target_train)\n",
    "        predicted_valid_f = model_f.predict(features_valid)\n",
    "        probabilities_f = model_f.predict_proba(features_valid)\n",
    "        probabilities_one_f = probabilities_f[:, 1]\n",
    "        if f1_score(target_valid, predicted_valid_f) > best_result_f:\n",
    "            best_result_f = f1_score(target_valid, predicted_valid_f)\n",
    "            best_roc_auc_f = roc_auc_score(target_valid, probabilities_one_f)\n",
    "            best_depth_f = depth\n",
    "            best_estimators_f = estimators\n",
    "            model_forest_best = model_f\n",
    "        \n",
    "print('Лучший Случайный лес:', '| F1-мера:', best_result_f, '| ROC-AUC:', best_roc_auc_f, \n",
    "      '| Глубина:', best_depth_f, '| Кол-во деревьев', best_estimators_f)"
   ]
  },
  {
   "cell_type": "markdown",
   "metadata": {},
   "source": [
    "##### Дерево решений с подбором гиперпараметров"
   ]
  },
  {
   "cell_type": "code",
   "execution_count": 15,
   "metadata": {},
   "outputs": [
    {
     "name": "stdout",
     "output_type": "stream",
     "text": [
      "Лучшее Дерево решений - F1-мера: 0.5320665083135392 | ROC-AUC: 0.8007126932928564 | Глубина: 7\n"
     ]
    }
   ],
   "source": [
    "model_tree_best = None\n",
    "best_result_t = 0\n",
    "best_depth_t = 0\n",
    "best_roc_auc_t = 0\n",
    "for depth in range(1, 50, 1):\n",
    "    model_t = DecisionTreeClassifier(max_depth=depth, random_state=12345)\n",
    "    model_t.fit(features_train, target_train)\n",
    "    predicted_valid_t = model_t.predict(features_valid)\n",
    "    probabilities_t = model_t.predict_proba(features_valid)\n",
    "    probabilities_one_t = probabilities_t[:, 1]\n",
    "    if f1_score(target_valid, predicted_valid_t) > best_result_t:\n",
    "        best_result_t = f1_score(target_valid, predicted_valid_t)\n",
    "        best_roc_auc_t = roc_auc_score(target_valid, probabilities_one_t)\n",
    "        best_depth_t = depth\n",
    "        model_tree_best = model_t\n",
    "        \n",
    "print('Лучшее Дерево решений -', 'F1-мера:', best_result_t,\n",
    "      '| ROC-AUC:', best_roc_auc_t, '| Глубина:', best_depth_t)"
   ]
  },
  {
   "cell_type": "markdown",
   "metadata": {},
   "source": [
    "##### Логистическая регрессия\n"
   ]
  },
  {
   "cell_type": "code",
   "execution_count": 16,
   "metadata": {},
   "outputs": [
    {
     "name": "stdout",
     "output_type": "stream",
     "text": [
      "Логистическая регрессия f1: 0.31001371742112477\n",
      "Конст. модель f1: 0.0\n",
      "Логистическая регрессия ROC-AUC: 0.7297823182493753\n",
      "Конст. модель ROC-AUC: 0.5\n"
     ]
    }
   ],
   "source": [
    "model_regr = LogisticRegression(random_state = 12345, solver = 'liblinear')\n",
    "model_const = DummyClassifier(random_state = 12345)\n",
    "\n",
    "model_regr.fit(features_train, target_train)\n",
    "model_const.fit(features_train, target_train)\n",
    "\n",
    "predict_regr_valid = model_regr.predict(features_valid)\n",
    "predict_const_valid = model_const.predict(features_valid)\n",
    "\n",
    "probabilities_r = model_regr.predict_proba(features_valid)\n",
    "probabilities_one_r = probabilities_r[:, 1]\n",
    "\n",
    "probabilities_c = model_const.predict_proba(features_valid)\n",
    "probabilities_one_c = probabilities_c[:, 1]\n",
    "\n",
    "print('Логистическая регрессия f1:', f1_score(target_valid, predict_regr_valid))\n",
    "print('Конст. модель f1:', f1_score(target_valid, predict_const_valid))\n",
    "\n",
    "print('Логистическая регрессия ROC-AUC:', roc_auc_score(target_valid, probabilities_one_r))\n",
    "print('Конст. модель ROC-AUC:', roc_auc_score(target_valid, probabilities_one_c))"
   ]
  },
  {
   "cell_type": "markdown",
   "metadata": {},
   "source": [
    "<div class=\"alert alert-warning\">\n",
    "<h2> Комментарий ревьюера 2<a class=\"tocSkip\"> </h2>\n",
    "    \n",
    "<b>Некоторые замечания и рекомендации💡:</b> \n",
    "\n",
    "Здесь в дамми-модели я бы предсказал везде «1». Условно говоря, если предсказываем ноль, моделируем ситуацию, когда акцию с бонусами для удержания клиентов решили не проводить. Если предсказываем единицу − решили раздать бонусы вообще всем клиентам. Если в дамми-модели предсказываем по единице, можно подсчитать F1, она не будет зануляться.\n",
    "    \n",
    "`dummy_model = DummyClassifier(strategy='constant', constant=1)\n",
    "dummy_model.fit(features_train, target_train)\n",
    "f1_score(dummy_model.predict(features_test), target_test)`\n",
    "    \n",
    "Импорт: from sklearn.dummy import DummyClassifier\n",
    "\n",
    "       \n",
    "</div>\n"
   ]
  },
  {
   "cell_type": "markdown",
   "metadata": {},
   "source": [
    "<div class=\"alert alert-block alert-danger\">\n",
    "<h2><s> Комментарий ревьюера <a class=\"tocSkip\"></h2>\n",
    "  \n",
    "<b>На доработку🤔:</b>\n",
    "     \n",
    "roc_auc нужно считать по вероятностям классов. \n",
    "    \n",
    "`probabilities = model.predict_proba(features)\n",
    "probabilities_one = probabilities[:, 1]\n",
    "print('Площадь ROC-кривой:', roc_auc_score(target, probabilities_one))`\n",
    "\n",
    "Самое подробное объяснение метрики, что я видел на русском языке, можно посмотреть здесь: https://alexanderdyakonov.wordpress.com/2017/07/28/auc-roc-площадь-под-кривой-ошибок/ \n",
    "\n",
    "</div>\n"
   ]
  },
  {
   "cell_type": "markdown",
   "metadata": {},
   "source": [
    "\n",
    "<div class=\"alert alert-block alert-danger\">\n",
    "<h2><S> Комментарий ревьюера <a class=\"tocSkip\"></h2>\n",
    "  \n",
    "<b>На доработку🤔:</b>\n",
    " \n",
    "В дереве и лесе важно подобрать гиперпараметры. В дереве - глубину, в лесе - минимум глубину и количество оценщиков (эстиматоров, деревьев). Смотреть на модели без подбора гиперпараметров не очень эффективно. Предлагаю убрать код для «деревянных» моделей (Леса, Дерева) выше.\n",
    "    \n",
    "Для Леса подойдет такой подход:\n",
    "    \n",
    "`for est in range(10, 101, 10):\n",
    "    for depth in range(1, 14, 2):\n",
    "        model = RandomForestClassifier(random_state=12345, n_estimators=est, max_depth=depth)`\n",
    "      \n",
    "\n",
    "\n",
    "</div>\n"
   ]
  },
  {
   "cell_type": "markdown",
   "metadata": {},
   "source": [
    "Лучший результат F1-меры у случайного леса, это говорит о том, что здесь наилучшее соотношение показателей полноты и качества предсказаний. Кроме этого, самый высокий accuracy и ROC-AUC также у случайного леса.\n",
    "\n",
    "Попробуем улучшить модель Случайный лес:"
   ]
  },
  {
   "cell_type": "markdown",
   "metadata": {},
   "source": [
    " \n",
    "<div class=\"alert alert-warning\">\n",
    "<h2> Комментарий ревьюера <a class=\"tocSkip\"> </h2>\n",
    "    \n",
    "<b>Некоторые замечания и рекомендации💡:</b> \n",
    "\n",
    "Здесь все верно. Единственное, нужно поправить вывод в принт результатов, сейчас там четыре числа без подписей. Важно подписать, что именно выводим. \n",
    "\n",
    "`print('F1-мера: ', best_result,  «...»` - по такой аналогии.\n",
    "</div> \n",
    "  "
   ]
  },
  {
   "cell_type": "markdown",
   "metadata": {},
   "source": [
    "Лучший результат при следующих гиперпараметрах: глубина - 21, кол-во деревьев - 81."
   ]
  },
  {
   "cell_type": "markdown",
   "metadata": {},
   "source": [
    "<div class=\"alert alert-info\">\n",
    "<b>Комментарий студента:</b>\n",
    "    \n",
    "Несколько переосмыслил этот блок и немного изменил структуру\n",
    "</div>"
   ]
  },
  {
   "cell_type": "markdown",
   "metadata": {},
   "source": [
    "<div class=\"alert alert-info\">\n",
    "Итого соберем все результаты в одном месте:\n",
    "</div>"
   ]
  },
  {
   "cell_type": "code",
   "execution_count": 17,
   "metadata": {},
   "outputs": [
    {
     "name": "stdout",
     "output_type": "stream",
     "text": [
      "Лучший Случайный лес: | F1-мера: 0.5682382133995036 | ROC-AUC: 0.8326109556335578 | Глубина: 13 | Кол-во деревьев 81\n",
      "Лучшее Дерево решений - F1-мера: 0.5320665083135392 | ROC-AUC: 0.8007126932928564 | Глубина: 7\n",
      "Логистическая регрессия - F1-мера: 0.31001371742112477 | ROC-AUC: 0.7297823182493753\n",
      "Константная модель - F1-мера: 0.0 | ROC-AUC: 0.5\n"
     ]
    }
   ],
   "source": [
    "print('Лучший Случайный лес:', '| F1-мера:', best_result_f, '| ROC-AUC:', best_roc_auc_f, \n",
    "      '| Глубина:', best_depth_f, '| Кол-во деревьев', best_estimators_f)\n",
    "print('Лучшее Дерево решений -', 'F1-мера:', best_result_t,\n",
    "      '| ROC-AUC:', best_roc_auc_t, '| Глубина:', best_depth_t)\n",
    "print('Логистическая регрессия -', 'F1-мера:', f1_score(target_valid, predict_regr_valid),\n",
    "      '| ROC-AUC:', roc_auc_score(target_valid, probabilities_one_r))\n",
    "print('Константная модель -', 'F1-мера:', f1_score(target_valid, predict_const_valid),\n",
    "      '| ROC-AUC:', roc_auc_score(target_valid, probabilities_one_c))"
   ]
  },
  {
   "cell_type": "markdown",
   "metadata": {},
   "source": [
    "**Выводы по разделу:**\n",
    "\n",
    "1) Соотношение классов целевого признака - примерно 1 к 4 в пользу 0. Дисбаланс присутствует.\n",
    "\n",
    "2) В текущих реалиях было протестировано 3 модели со следующими результатами:\\\n",
    "    - Логистическая регрессия: f1 = 0.31001371742112477, ROC-AUC = 0.7297823182493753;\\\n",
    "    - Дерево решений: f1 = 0.5320665083135392, ROC-AUC = 0.8007126932928564;\\\n",
    "    - Случайный лес: f1 = 0.5682382133995036, ROC-AUC = 0.8326109556335578.\\\n",
    "     \n",
    "3) В итоге получили лучший f1 у Случайного леса = 0.5682382133995036, ROC-AUC = 0.8326109556335578 при n_estimators = 81 и max_depth = 13."
   ]
  },
  {
   "cell_type": "markdown",
   "metadata": {},
   "source": [
    " \n",
    "<div class=\"alert alert-warning\">\n",
    "<h2> Комментарий ревьюера <a class=\"tocSkip\"> </h2>\n",
    "    \n",
    "<b>Некоторые замечания и рекомендации💡:</b> \n",
    "\n",
    "Важно подобрать гиперпараметры также в Дереве решений.\n",
    "    \n",
    "Здесь также стоит поправить по дисбалансу классов в комментарии, у нас 1 к 4. \n",
    "        \n",
    "</div> \n",
    "  "
   ]
  },
  {
   "cell_type": "markdown",
   "metadata": {},
   "source": [
    "<div class=\"alert alert-info\">\n",
    "<b>Комментарий студента:</b>\n",
    "    \n",
    "Вывод поправил\n",
    "</div>"
   ]
  },
  {
   "cell_type": "markdown",
   "metadata": {},
   "source": [
    "## Борьба с дисбалансом"
   ]
  },
  {
   "cell_type": "markdown",
   "metadata": {},
   "source": [
    "### Попробуем рассчитать модели с балансировкой классов"
   ]
  },
  {
   "cell_type": "markdown",
   "metadata": {},
   "source": [
    "#### Неудачная попытка №1"
   ]
  },
  {
   "cell_type": "markdown",
   "metadata": {},
   "source": [
    "model_regr_bal = LogisticRegression(solver = 'liblinear', class_weight = 'balanced', random_state = 12345)\n",
    "model_tree_bal = DecisionTreeClassifier(random_state = 12345, class_weight = 'balanced')\n",
    "model_forest_bal = RandomForestClassifier(random_state = 12345, class_weight = 'balanced')\n",
    "model_forest_best_bal = RandomForestClassifier(n_estimators = 81, max_depth = 21, \n",
    "                                               random_state = 12345, class_weight = 'balanced')\n",
    "\n",
    "model_regr_bal.fit(features_train, target_train)\n",
    "model_tree_bal.fit(features_train, target_train)\n",
    "model_forest_bal.fit(features_train, target_train)\n",
    "model_forest_best_bal.fit(features_train, target_train)\n",
    "\n",
    "predict_regr_valid_bal = model_regr_bal.predict(features_valid)\n",
    "predict_tree_valid_bal = model_tree_bal.predict(features_valid)\n",
    "predict_forest_valid_bal = model_forest_bal.predict(features_valid)\n",
    "predict_forest_best_valid_bal = model_forest_best_bal.predict(features_valid)\n",
    "\n",
    "print('Логистическая регрессия сбалансированная f1:', f1_score(target_valid, predict_regr_valid_bal))\n",
    "print('Дерево решений сбалансированная f1:', f1_score(target_valid, predict_tree_valid_bal))\n",
    "print('Случайный лес сбалансированная f1:', f1_score(target_valid, predict_forest_valid_bal))\n",
    "print('Случайный лес улучшенная сбалансированная f1:', f1_score(target_valid, predict_forest_best_valid_bal))\n",
    "\n",
    "print('Логистическая регрессия сбалансированная ROC-AUC:', roc_auc_score(target_valid, predict_regr_valid_bal))\n",
    "print('Дерево решений сбалансированная ROC-AUC:', roc_auc_score(target_valid, predict_tree_valid_bal))\n",
    "print('Случайный лес сбалансированная ROC-AUC:', roc_auc_score(target_valid, predict_forest_valid_bal))\n",
    "print('Случайный лес улучшенная сбалансированная ROC-AUC:', roc_auc_score(target_valid, predict_forest_best_valid_bal))"
   ]
  },
  {
   "cell_type": "markdown",
   "metadata": {},
   "source": [
    "Балансировка классов в данном случае помогла только логистической регрессии, f1 случайного леса и дерева решений были снижены.\n",
    "Попробуем другой способ."
   ]
  },
  {
   "cell_type": "markdown",
   "metadata": {},
   "source": [
    "<div class=\"alert alert-block alert-danger\">\n",
    "<h2><s> Комментарий ревьюера <a class=\"tocSkip\"></h2>\n",
    "  \n",
    "<b>На доработку🤔:</b>\n",
    " \n",
    "Здесь изменились вводные  - теперь используем class_weight='balanced'. Необходимо заново обучать модели и заново находить лучшие гиперпараметры.\n",
    "\n",
    "</div>\n"
   ]
  },
  {
   "cell_type": "markdown",
   "metadata": {},
   "source": [
    "<div class=\"alert alert-info\">\n",
    "<b>Комментарий студента:</b>\n",
    "    \n",
    "Здесь также делаю по новой, на всякий случай не удаляю первое решение. Ниже решение по новой структуре\n",
    "</div>"
   ]
  },
  {
   "cell_type": "markdown",
   "metadata": {},
   "source": [
    "#### Переобучаем Случайный лес с учетом баланса"
   ]
  },
  {
   "cell_type": "code",
   "execution_count": 18,
   "metadata": {},
   "outputs": [
    {
     "name": "stdout",
     "output_type": "stream",
     "text": [
      "Лучший Случайный лес balanced: | F1-мера: 0.591970121381886 | ROC-AUC: 0.8371458274041045 | Глубина: 9 | Кол-во деревьев 51\n"
     ]
    }
   ],
   "source": [
    "model_forest_best_b = None\n",
    "best_result_f_b = 0\n",
    "best_depth_f_b = 0\n",
    "best_estimators_f_b = 0\n",
    "best_roc_auc_f_b = 0\n",
    "for depth in range(1, 50, 1):\n",
    "    for estimators in range(1, 100, 10):\n",
    "        model_f_b = RandomForestClassifier(n_estimators=estimators, max_depth=depth, \n",
    "                                           random_state=12345, class_weight = 'balanced')\n",
    "        model_f_b.fit(features_train, target_train)\n",
    "        predicted_valid_f_b = model_f_b.predict(features_valid)\n",
    "        probabilities_f_b = model_f_b.predict_proba(features_valid)\n",
    "        probabilities_one_f_b = probabilities_f_b[:, 1]\n",
    "        if f1_score(target_valid, predicted_valid_f_b) > best_result_f_b:\n",
    "            best_result_f_b = f1_score(target_valid, predicted_valid_f_b)\n",
    "            best_roc_auc_f_b = roc_auc_score(target_valid, probabilities_one_f_b)\n",
    "            best_depth_f_b = depth\n",
    "            best_estimators_f_b = estimators\n",
    "            model_forest_best_b = model_f_b\n",
    "        \n",
    "print('Лучший Случайный лес balanced:', '| F1-мера:', best_result_f_b, '| ROC-AUC:', best_roc_auc_f_b, \n",
    "      '| Глубина:', best_depth_f_b, '| Кол-во деревьев', best_estimators_f_b)"
   ]
  },
  {
   "cell_type": "markdown",
   "metadata": {},
   "source": [
    "#### Переобучаем Дерево решений с учетом баланса"
   ]
  },
  {
   "cell_type": "code",
   "execution_count": 19,
   "metadata": {},
   "outputs": [
    {
     "name": "stdout",
     "output_type": "stream",
     "text": [
      "Лучшее Дерево решений balanced - F1-мера: 0.5620805369127517 | ROC-AUC: 0.8069522183221075 | Глубина: 6\n"
     ]
    }
   ],
   "source": [
    "model_tree_best_b = None\n",
    "best_result_t_b = 0\n",
    "best_depth_t_b = 0\n",
    "best_roc_auc_t_b = 0\n",
    "for depth in range(1, 50, 1):\n",
    "    model_t_b = DecisionTreeClassifier(max_depth=depth, random_state=12345, class_weight = 'balanced')\n",
    "    model_t_b.fit(features_train, target_train)\n",
    "    predicted_valid_t_b = model_t_b.predict(features_valid)\n",
    "    probabilities_t_b = model_t_b.predict_proba(features_valid)\n",
    "    probabilities_one_t_b = probabilities_t_b[:, 1]\n",
    "    if f1_score(target_valid, predicted_valid_t_b) > best_result_t_b:\n",
    "        best_result_t_b = f1_score(target_valid, predicted_valid_t_b)\n",
    "        best_roc_auc_t_b = roc_auc_score(target_valid, probabilities_one_t_b)\n",
    "        best_depth_t_b = depth\n",
    "        model_tree_best_b = model_t_b\n",
    "        \n",
    "print('Лучшее Дерево решений balanced -', 'F1-мера:', best_result_t_b,\n",
    "      '| ROC-AUC:', best_roc_auc_t_b, '| Глубина:', best_depth_t_b)"
   ]
  },
  {
   "cell_type": "markdown",
   "metadata": {},
   "source": [
    "#### Переобучаем Логистическую регрессию с учетом баланса"
   ]
  },
  {
   "cell_type": "code",
   "execution_count": 20,
   "metadata": {},
   "outputs": [
    {
     "name": "stdout",
     "output_type": "stream",
     "text": [
      "Логистическая регрессия balanced - F1-мера: 0.4579310344827586 | ROC-AUC: 0.7338211112165196\n"
     ]
    }
   ],
   "source": [
    "model_regr_b = LogisticRegression(random_state = 12345, solver = 'liblinear', class_weight = 'balanced')\n",
    "\n",
    "model_regr_b.fit(features_train, target_train)\n",
    "\n",
    "predict_regr_valid_b = model_regr_b.predict(features_valid)\n",
    "\n",
    "probabilities_r_b = model_regr_b.predict_proba(features_valid)\n",
    "probabilities_one_r_b = probabilities_r_b[:, 1]\n",
    "\n",
    "print('Логистическая регрессия balanced -', 'F1-мера:', f1_score(target_valid, predict_regr_valid_b),\n",
    "      '| ROC-AUC:', roc_auc_score(target_valid, probabilities_one_r_b))"
   ]
  },
  {
   "cell_type": "markdown",
   "metadata": {},
   "source": [
    "#### Сводим итоги в одном месте"
   ]
  },
  {
   "cell_type": "code",
   "execution_count": 21,
   "metadata": {},
   "outputs": [
    {
     "name": "stdout",
     "output_type": "stream",
     "text": [
      "Лучший Случайный лес balanced: | F1-мера: 0.591970121381886 | ROC-AUC: 0.8371458274041045 | Глубина: 9 | Кол-во деревьев 51\n",
      "Лучшее Дерево решений balanced - F1-мера: 0.5620805369127517 | ROC-AUC: 0.8069522183221075 | Глубина: 6\n",
      "Логистическая регрессия balanced - F1-мера: 0.4579310344827586 | ROC-AUC: 0.7338211112165196\n"
     ]
    }
   ],
   "source": [
    "print('Лучший Случайный лес balanced:', '| F1-мера:', best_result_f_b, '| ROC-AUC:', best_roc_auc_f_b, \n",
    "      '| Глубина:', best_depth_f_b, '| Кол-во деревьев', best_estimators_f_b)\n",
    "print('Лучшее Дерево решений balanced -', 'F1-мера:', best_result_t_b,\n",
    "      '| ROC-AUC:', best_roc_auc_t_b, '| Глубина:', best_depth_t_b)\n",
    "print('Логистическая регрессия balanced -', 'F1-мера:', f1_score(target_valid, predict_regr_valid_b),\n",
    "      '| ROC-AUC:', roc_auc_score(target_valid, probabilities_one_r_b))"
   ]
  },
  {
   "cell_type": "markdown",
   "metadata": {},
   "source": [
    "### Попробуем увеличить выборку 1"
   ]
  },
  {
   "cell_type": "markdown",
   "metadata": {},
   "source": [
    "Здесь воспользуемся апсамплом, попробую выровнять выборки, увеличив \"1\" в 4 раза."
   ]
  },
  {
   "cell_type": "code",
   "execution_count": 22,
   "metadata": {},
   "outputs": [
    {
     "name": "stdout",
     "output_type": "stream",
     "text": [
      "(8048, 11) (8048,)\n",
      "1    0.50497\n",
      "0    0.49503\n",
      "Name: exited, dtype: float64\n"
     ]
    }
   ],
   "source": [
    "def upsample(features_train, target_train, repeat):\n",
    "    features_zeros = features_train[target_train == 0]\n",
    "    features_ones = features_train[target_train == 1]\n",
    "    target_zeros = target_train[target_train == 0]\n",
    "    target_ones = target_train[target_train == 1]\n",
    "\n",
    "    features_upsampled = pd.concat([features_zeros] + [features_ones] * repeat)\n",
    "    target_upsampled = pd.concat([target_zeros] + [target_ones] * repeat)\n",
    "    \n",
    "    features_upsampled, target_upsampled = shuffle(\n",
    "        features_upsampled, target_upsampled, random_state=12345)\n",
    "    \n",
    "    return features_upsampled, target_upsampled\n",
    "\n",
    "features_upsampled, target_upsampled = upsample(features_train, target_train, 4)\n",
    "\n",
    "print(features_upsampled.shape, target_upsampled.shape)\n",
    "print(target_upsampled.value_counts(normalize = True))"
   ]
  },
  {
   "cell_type": "markdown",
   "metadata": {},
   "source": [
    "<div class=\"alert alert-success\">\n",
    "<h2> Комментарий ревьюера <a class=\"tocSkip\"> </h2>\n",
    "\n",
    "👍 А здесь все верно по коэффициенту, действительно 4. \n",
    "    \n",
    "</div>"
   ]
  },
  {
   "cell_type": "markdown",
   "metadata": {},
   "source": [
    "<div class=\"alert alert-success\">\n",
    "<h2> Комментарий ревьюера <a class=\"tocSkip\"> </h2>\n",
    "\n",
    "👍 Отлично, что используешь рукописную функцию, но здесь можно все оптимизировать, используя <a href=\"https://imbalanced-learn.org/stable/references/generated/imblearn.over_sampling.SMOTE.html\">SMOTE</a> для увеличения выборки и <a href=\"https://imbalanced-learn.org/stable/references/generated/imblearn.under_sampling.RandomUnderSampler.html\">RandomUnderSampler</a>  для уменьшения. \n",
    "    \n",
    "Апсемплинг делается очень просто:\n",
    "    \n",
    "`oversample = SMOTE(random_state=RANDOM_STATE)`\n",
    "\n",
    "`features_train_up, target_train_up = oversample.fit_resample(features_train_enc, target_train)`\n",
    "    \n",
    "*предварительно импотрировав `from imblearn.over_sampling import SMOTE`\n",
    "\n",
    "**Чтобы импортировать imblearn его сначала требуется проинсталлировать. через `!pip install imblearn -q`\n",
    "\n",
    "В некоторых случаях качество может при применении SMOTE как улучшаться, так и ухудшаться в пределах статистической погрешности. Алгоритм не дублирует строки, а создает новые с помощью метода ближайших соседей. Можно попробовать посмотреть варианты с гиперпараметром `k_neighbors`. \n",
    "\n",
    "`oversample = SMOTE(random_state=RANDOM_STATE, k_neighbors=4)`\n",
    "\n",
    "***\n",
    "    \n",
    "Если код выдаст ошибку, нужно перезагрузить ядро юпитера: Kernel - Restart на панели задач.\n",
    " \n",
    "    \n",
    "</div>"
   ]
  },
  {
   "cell_type": "markdown",
   "metadata": {},
   "source": [
    "<div class=\"alert alert-info\">\n",
    "<b>Комментарий студента:</b>\n",
    "    \n",
    "Спасибо за интересный совет, обязательно попробую его в ближайшей задаче\n",
    "</div>"
   ]
  },
  {
   "cell_type": "markdown",
   "metadata": {},
   "source": []
  },
  {
   "cell_type": "markdown",
   "metadata": {},
   "source": [
    "#### Неудачная попытка №1"
   ]
  },
  {
   "cell_type": "markdown",
   "metadata": {},
   "source": [
    "model_forest_best = RandomForestClassifier(n_estimators = 81, max_depth = 21, random_state = 12345)\n",
    "\n",
    "model_regr.fit(features_upsampled, target_upsampled)\n",
    "model_tree.fit(features_upsampled, target_upsampled)\n",
    "model_forest.fit(features_upsampled, target_upsampled)\n",
    "model_forest_best.fit(features_upsampled, target_upsampled)\n",
    "\n",
    "predict_regr_valid_ups = model_regr.predict(features_valid)\n",
    "predict_tree_valid_ups = model_tree.predict(features_valid)\n",
    "predict_forest_valid_ups = model_forest.predict(features_valid)\n",
    "predict_forest_best_valid_ups = model_forest_best.predict(features_valid)\n",
    "\n",
    "print('Логистическая регрессия f1:', f1_score(target_valid, predict_regr_valid_ups))\n",
    "print('Дерево решений f1:', f1_score(target_valid, predict_tree_valid_ups))\n",
    "print('Случайный лес f1:', f1_score(target_valid, predict_forest_valid_ups))\n",
    "print('Улучшенный случайный лес f1:', f1_score(target_valid, predict_forest_best_valid_ups))\n",
    "\n",
    "print('Логистическая регрессия ROC-AUC:', roc_auc_score(target_valid, predict_regr_valid_ups))\n",
    "print('Дерево решений ROC-AUC:', roc_auc_score(target_valid, predict_tree_valid_ups))\n",
    "print('Случайный лес ROC-AUC:', roc_auc_score(target_valid, predict_forest_valid_ups))\n",
    "print('Улучшенный случайный лес ROC-AUC:', roc_auc_score(target_valid, predict_forest_best_valid_ups))"
   ]
  },
  {
   "cell_type": "markdown",
   "metadata": {},
   "source": [
    "По результатам апсамплинга f1 немного улучшилась, но все еще недостаточна.\n",
    "Пробуем дальше."
   ]
  },
  {
   "cell_type": "markdown",
   "metadata": {},
   "source": [
    "<div class=\"alert alert-block alert-danger\">\n",
    "<h2><s> Комментарий ревьюера <a class=\"tocSkip\"></h2>\n",
    "  \n",
    "<b>На доработку🤔:</b>\n",
    " \n",
    "Заново подбираем гиперпараметры.\n",
    "    \n",
    "Еще раз напомню, ROC_AUC везде нужно будет не забыть поправить - по вероятностям классов расчитываем.\n",
    "</div> "
   ]
  },
  {
   "cell_type": "markdown",
   "metadata": {},
   "source": [
    "<div class=\"alert alert-info\">\n",
    "<b>Комментарий студента:</b>\n",
    "    \n",
    "Далее делаю по новой, код выше оставляю для истории\n",
    "</div>"
   ]
  },
  {
   "cell_type": "markdown",
   "metadata": {},
   "source": [
    "#### Переобучаем Случайный лес с учетом upsample"
   ]
  },
  {
   "cell_type": "code",
   "execution_count": 23,
   "metadata": {},
   "outputs": [
    {
     "name": "stdout",
     "output_type": "stream",
     "text": [
      "Лучший Случайный лес upsampled: | F1-мера: 0.5881081081081082 | ROC-AUC: 0.8197479880150526 | Глубина: 20 | Кол-во деревьев 61\n"
     ]
    }
   ],
   "source": [
    "model_forest_best_up = None\n",
    "best_result_f_up = 0\n",
    "best_depth_f_up = 0\n",
    "best_estimators_f_up = 0\n",
    "best_roc_auc_f_up = 0\n",
    "for depth in range(1, 50, 1):\n",
    "    for estimators in range(1, 100, 10):\n",
    "        model_f_up = RandomForestClassifier(n_estimators=estimators, max_depth=depth, \n",
    "                                           random_state=12345)\n",
    "        model_f_up.fit(features_upsampled, target_upsampled)\n",
    "        predicted_valid_f_up = model_f_up.predict(features_valid)\n",
    "        probabilities_f_up = model_f_up.predict_proba(features_valid)\n",
    "        probabilities_one_f_up = probabilities_f_up[:, 1]\n",
    "        if f1_score(target_valid, predicted_valid_f_up) > best_result_f_up:\n",
    "            best_result_f_up = f1_score(target_valid, predicted_valid_f_up)\n",
    "            best_roc_auc_f_up = roc_auc_score(target_valid, probabilities_one_f_up)\n",
    "            best_depth_f_up = depth\n",
    "            best_estimators_f_up = estimators\n",
    "            model_forest_best_up = model_f_up\n",
    "        \n",
    "print('Лучший Случайный лес upsampled:', '| F1-мера:', best_result_f_up, '| ROC-AUC:', best_roc_auc_f_up, \n",
    "      '| Глубина:', best_depth_f_up, '| Кол-во деревьев', best_estimators_f_up)"
   ]
  },
  {
   "cell_type": "markdown",
   "metadata": {},
   "source": [
    "#### Переобучаем Дерево решений с учетом upsample"
   ]
  },
  {
   "cell_type": "code",
   "execution_count": 24,
   "metadata": {},
   "outputs": [
    {
     "name": "stdout",
     "output_type": "stream",
     "text": [
      "Лучшее Дерево решений upsampled - F1-мера: 0.46043165467625896 | ROC-AUC: 0.659980473073396 | Глубина: 17\n"
     ]
    }
   ],
   "source": [
    "model_tree_best_up = None\n",
    "best_result_t_up = 0\n",
    "best_depth_t_up = 0\n",
    "best_roc_auc_t_up = 0\n",
    "for depth in range(1, 50, 1):\n",
    "    model_t_up = DecisionTreeClassifier(max_depth=depth, random_state=12345)\n",
    "    model_t_up.fit(features_upsampled, target_upsampled)\n",
    "    predicted_valid_t_up = model_t_up.predict(features_valid)\n",
    "    probabilities_t_up = model_t_up.predict_proba(features_valid)\n",
    "    probabilities_one_t_up = probabilities_t_up[:, 1]\n",
    "    if f1_score(target_valid, predicted_valid_t_up) > best_result_t_up:\n",
    "        best_result_t_up = f1_score(target_valid, predicted_valid_t_b)\n",
    "        best_roc_auc_t_up = roc_auc_score(target_valid, probabilities_one_t_b)\n",
    "        best_depth_t_up = depth\n",
    "        model_tree_best_up = model_t_b\n",
    "        \n",
    "print('Лучшее Дерево решений upsampled -', 'F1-мера:', best_result_t_up,\n",
    "      '| ROC-AUC:', best_roc_auc_t_up, '| Глубина:', best_depth_t_up)"
   ]
  },
  {
   "cell_type": "markdown",
   "metadata": {},
   "source": [
    "#### Переобучаем Логистическую регрессию с учетом upsample"
   ]
  },
  {
   "cell_type": "code",
   "execution_count": 25,
   "metadata": {},
   "outputs": [
    {
     "name": "stdout",
     "output_type": "stream",
     "text": [
      "Логистическая регрессия upsampled - F1-мера: 0.4579310344827586 | ROC-AUC: 0.7337825712298012\n"
     ]
    }
   ],
   "source": [
    "model_regr_up = LogisticRegression(random_state = 12345, solver = 'liblinear', class_weight = 'balanced')\n",
    "\n",
    "model_regr_up.fit(features_upsampled, target_upsampled)\n",
    "\n",
    "predict_regr_valid_up = model_regr_b.predict(features_valid)\n",
    "\n",
    "probabilities_r_up = model_regr_up.predict_proba(features_valid)\n",
    "probabilities_one_r_up = probabilities_r_up[:, 1]\n",
    "\n",
    "print('Логистическая регрессия upsampled -', 'F1-мера:', f1_score(target_valid, predict_regr_valid_up),\n",
    "      '| ROC-AUC:', roc_auc_score(target_valid, probabilities_one_r_up))"
   ]
  },
  {
   "cell_type": "markdown",
   "metadata": {},
   "source": [
    "#### Сводим результаты в одном месте"
   ]
  },
  {
   "cell_type": "code",
   "execution_count": 26,
   "metadata": {},
   "outputs": [
    {
     "name": "stdout",
     "output_type": "stream",
     "text": [
      "Лучший Случайный лес upsampled: | F1-мера: 0.5881081081081082 | ROC-AUC: 0.8197479880150526 | Глубина: 20 | Кол-во деревьев 61\n",
      "Лучшее Дерево решений upsampled - F1-мера: 0.46043165467625896 | ROC-AUC: 0.659980473073396 | Глубина: 17\n",
      "Логистическая регрессия upsampled - F1-мера: 0.4579310344827586 | ROC-AUC: 0.7337825712298012\n"
     ]
    }
   ],
   "source": [
    "print('Лучший Случайный лес upsampled:', '| F1-мера:', best_result_f_up, '| ROC-AUC:', best_roc_auc_f_up, \n",
    "      '| Глубина:', best_depth_f_up, '| Кол-во деревьев', best_estimators_f_up)\n",
    "print('Лучшее Дерево решений upsampled -', 'F1-мера:', best_result_t_up,\n",
    "      '| ROC-AUC:', best_roc_auc_t_up, '| Глубина:', best_depth_t_up)\n",
    "print('Логистическая регрессия upsampled -', 'F1-мера:', f1_score(target_valid, predict_regr_valid_up),\n",
    "      '| ROC-AUC:', roc_auc_score(target_valid, probabilities_one_r_up))"
   ]
  },
  {
   "cell_type": "markdown",
   "metadata": {},
   "source": [
    "### Пробуем уменьшить выборку \"0\""
   ]
  },
  {
   "cell_type": "markdown",
   "metadata": {},
   "source": [
    "Теперь воспользуемся даунсамплом - уменьшим выборку \"0\" в 4 раза, чтобы она была примерно равна выборке \"1\"."
   ]
  },
  {
   "cell_type": "code",
   "execution_count": 27,
   "metadata": {},
   "outputs": [],
   "source": [
    "def downsample(features_train, target_train, fraction):\n",
    "    features_zeros = features_train[target_train == 0]\n",
    "    features_ones = features_train[target_train == 1]\n",
    "    target_zeros = target_train[target_train == 0]\n",
    "    target_ones = target_train[target_train == 1]\n",
    "\n",
    "    features_downsampled = pd.concat(\n",
    "        [features_zeros.sample(frac=fraction, random_state=12345)] + [features_ones])\n",
    "    target_downsampled = pd.concat(\n",
    "        [target_zeros.sample(frac=fraction, random_state=12345)] + [target_ones])\n",
    "    \n",
    "    features_downsampled, target_downsampled = shuffle(\n",
    "        features_downsampled, target_downsampled, random_state=12345)\n",
    "    \n",
    "    return features_downsampled, target_downsampled\n",
    "\n",
    "features_downsampled, target_downsampled = downsample(features_train, target_train, 0.25)"
   ]
  },
  {
   "cell_type": "markdown",
   "metadata": {},
   "source": [
    "#### Неудачная попытка №1"
   ]
  },
  {
   "cell_type": "markdown",
   "metadata": {},
   "source": [
    "model_regr.fit(features_downsampled, target_downsampled)\n",
    "model_tree.fit(features_downsampled, target_downsampled)\n",
    "model_forest.fit(features_downsampled, target_downsampled)\n",
    "model_forest_best.fit(features_downsampled, target_downsampled)\n",
    "\n",
    "predict_regr_valid_ds = model_regr.predict(features_valid)\n",
    "predict_tree_valid_ds = model_tree.predict(features_valid)\n",
    "predict_forest_valid_ds = model_forest.predict(features_valid)\n",
    "predict_forest_best_valid_ds = model_forest_best.predict(features_valid)\n",
    "\n",
    "print('Логистическая регрессия f1:', f1_score(target_valid, predict_regr_valid_ds))\n",
    "print('Дерево решений f1:', f1_score(target_valid, predict_tree_valid_ds))\n",
    "print('Случайный лес f1:', f1_score(target_valid, predict_forest_valid_ds))\n",
    "print('Улучшенный случайный лес f1:', f1_score(target_valid, predict_forest_best_valid_ds))\n",
    "\n",
    "print('Логистическая регрессия ROC-AUC:', roc_auc_score(target_valid, predict_regr_valid_ds))\n",
    "print('Дерево решений ROC-AUC:', roc_auc_score(target_valid, predict_tree_valid_ds))\n",
    "print('Случайный лес ROC-AUC:', roc_auc_score(target_valid, predict_forest_valid_ds))\n",
    "print('Улучшенный случайный лес ROC-AUC:', roc_auc_score(target_valid, predict_forest_best_valid_ds))"
   ]
  },
  {
   "cell_type": "markdown",
   "metadata": {},
   "source": [
    "Даунсамплинг показал ухудшение результата."
   ]
  },
  {
   "cell_type": "markdown",
   "metadata": {},
   "source": [
    "Подводя итог, самым лучшим методом борьбы с дисбалансом классов в нашем случае оказался ансамплинг.\\\n",
    "Лучшая модель показала результат f1 = 0.578, который при даунсамплинге был 0.539, а при балансировке классов - 0.545. \n",
    "\n",
    "Без исправления дисбаланса, лучший результат f1 - 0.575"
   ]
  },
  {
   "cell_type": "markdown",
   "metadata": {},
   "source": [
    "<div class=\"alert alert-block alert-danger\">\n",
    "<h2><s> Комментарий ревьюера <a class=\"tocSkip\"></h2>\n",
    "  \n",
    "<b>На доработку🤔:</b>\n",
    " \n",
    "И здесь заново подбираем гиперпараметры: глубину в Дереве, глубину и количество деревьев в Лесе.\n",
    "</div> "
   ]
  },
  {
   "cell_type": "markdown",
   "metadata": {},
   "source": [
    "<div class=\"alert alert-info\">\n",
    "<b>Комментарий студента:</b>\n",
    "    \n",
    "Далее делаю по новой, код выше оставляю для истории\n",
    "</div>"
   ]
  },
  {
   "cell_type": "markdown",
   "metadata": {},
   "source": [
    "#### Переобучаем Случайный лес с учетом downsample"
   ]
  },
  {
   "cell_type": "code",
   "execution_count": 28,
   "metadata": {},
   "outputs": [
    {
     "name": "stdout",
     "output_type": "stream",
     "text": [
      "Лучший Случайный лес downsampled: | F1-мера: 0.5363636363636364 | ROC-AUC: 0.81958888704424 | Глубина: 49 | Кол-во деревьев 91\n"
     ]
    }
   ],
   "source": [
    "model_forest_best_ds = None\n",
    "best_result_f_ds = 0\n",
    "best_depth_f_ds = 0\n",
    "best_estimators_f_ds = 0\n",
    "best_roc_auc_f_ds = 0\n",
    "for depth in range(1, 50, 1):\n",
    "    for estimators in range(1, 100, 10):\n",
    "        model_f_ds = RandomForestClassifier(n_estimators=estimators, max_depth=depth, \n",
    "                                           random_state=12345)\n",
    "        model_f_ds.fit(features_downsampled, target_downsampled)\n",
    "        predicted_valid_f_ds = model_f_ds.predict(features_valid)\n",
    "        probabilities_f_ds = model_f_ds.predict_proba(features_valid)\n",
    "        probabilities_one_f_ds = probabilities_f_ds[:, 1]\n",
    "        if f1_score(target_valid, predicted_valid_f_up) > best_result_f_ds:\n",
    "            best_result_f_ds = f1_score(target_valid, predicted_valid_f_ds)\n",
    "            best_roc_auc_f_ds = roc_auc_score(target_valid, probabilities_one_f_ds)\n",
    "            best_depth_f_ds = depth\n",
    "            best_estimators_f_ds = estimators\n",
    "            model_forest_best_ds = model_f_up\n",
    "        \n",
    "print('Лучший Случайный лес downsampled:', '| F1-мера:', best_result_f_ds, '| ROC-AUC:', best_roc_auc_f_ds, \n",
    "      '| Глубина:', best_depth_f_ds, '| Кол-во деревьев', best_estimators_f_ds)"
   ]
  },
  {
   "cell_type": "markdown",
   "metadata": {},
   "source": [
    "#### Переобучаем Дерево решений с учетом downsample"
   ]
  },
  {
   "cell_type": "code",
   "execution_count": 29,
   "metadata": {},
   "outputs": [
    {
     "name": "stdout",
     "output_type": "stream",
     "text": [
      "Лучшее Дерево решений downsampled - F1-мера: 0.5454545454545454 | ROC-AUC: 0.8123809213230877 | Глубина: 5\n"
     ]
    }
   ],
   "source": [
    "model_tree_best_ds = None\n",
    "best_result_t_ds = 0\n",
    "best_depth_t_ds = 0\n",
    "best_roc_auc_t_ds = 0\n",
    "for depth in range(1, 50, 1):\n",
    "    model_t_ds = DecisionTreeClassifier(max_depth=depth, random_state=12345)\n",
    "    model_t_ds.fit(features_downsampled, target_downsampled)\n",
    "    predicted_valid_t_ds = model_t_ds.predict(features_valid)\n",
    "    probabilities_t_ds = model_t_ds.predict_proba(features_valid)\n",
    "    probabilities_one_t_ds = probabilities_t_ds[:, 1]\n",
    "    if f1_score(target_valid, predicted_valid_t_ds) > best_result_t_ds:\n",
    "        best_result_t_ds = f1_score(target_valid, predicted_valid_t_ds)\n",
    "        best_roc_auc_t_ds = roc_auc_score(target_valid, probabilities_one_t_ds)\n",
    "        best_depth_t_ds = depth\n",
    "        model_tree_best_ds = model_t_b\n",
    "        \n",
    "print('Лучшее Дерево решений downsampled -', 'F1-мера:', best_result_t_ds,\n",
    "      '| ROC-AUC:', best_roc_auc_t_ds, '| Глубина:', best_depth_t_ds)"
   ]
  },
  {
   "cell_type": "markdown",
   "metadata": {},
   "source": [
    "#### Переобучаем Логистическую регрессию с учетом downsample"
   ]
  },
  {
   "cell_type": "code",
   "execution_count": 30,
   "metadata": {},
   "outputs": [
    {
     "name": "stdout",
     "output_type": "stream",
     "text": [
      "Логистическая регрессия downsampled - F1-мера: 0.4579310344827586 | ROC-AUC: 0.7338211112165196\n"
     ]
    }
   ],
   "source": [
    "model_regr_ds = LogisticRegression(random_state = 12345, solver = 'liblinear', class_weight = 'balanced')\n",
    "\n",
    "model_regr_ds.fit(features_downsampled, target_downsampled)\n",
    "\n",
    "predict_regr_valid_ds = model_regr_b.predict(features_valid)\n",
    "\n",
    "probabilities_r_ds = model_regr_b.predict_proba(features_valid)\n",
    "probabilities_one_r_ds = probabilities_r_ds[:, 1]\n",
    "\n",
    "print('Логистическая регрессия downsampled -', 'F1-мера:', f1_score(target_valid, predict_regr_valid_ds),\n",
    "      '| ROC-AUC:', roc_auc_score(target_valid, probabilities_one_r_ds))"
   ]
  },
  {
   "cell_type": "markdown",
   "metadata": {},
   "source": [
    "#### Сводим итоги в одном месте"
   ]
  },
  {
   "cell_type": "code",
   "execution_count": 31,
   "metadata": {},
   "outputs": [
    {
     "name": "stdout",
     "output_type": "stream",
     "text": [
      "Лучший Случайный лес downsampled: | F1-мера: 0.5363636363636364 | ROC-AUC: 0.81958888704424 | Глубина: 49 | Кол-во деревьев 91\n",
      "Лучшее Дерево решений downsampled - F1-мера: 0.5454545454545454 | ROC-AUC: 0.8123809213230877 | Глубина: 5\n",
      "Логистическая регрессия downsampled - F1-мера: 0.4579310344827586 | ROC-AUC: 0.7338211112165196\n"
     ]
    }
   ],
   "source": [
    "print('Лучший Случайный лес downsampled:', '| F1-мера:', best_result_f_ds, '| ROC-AUC:', best_roc_auc_f_ds, \n",
    "      '| Глубина:', best_depth_f_ds, '| Кол-во деревьев', best_estimators_f_ds)\n",
    "print('Лучшее Дерево решений downsampled -', 'F1-мера:', best_result_t_ds,\n",
    "      '| ROC-AUC:', best_roc_auc_t_ds, '| Глубина:', best_depth_t_ds)\n",
    "print('Логистическая регрессия downsampled -', 'F1-мера:', f1_score(target_valid, predict_regr_valid_ds),\n",
    "      '| ROC-AUC:', roc_auc_score(target_valid, probabilities_one_r_ds))"
   ]
  },
  {
   "cell_type": "markdown",
   "metadata": {},
   "source": [
    "### Попробуем также поработать с порогами логистической регрессии"
   ]
  },
  {
   "cell_type": "markdown",
   "metadata": {},
   "source": [
    "#### Пробуем на исходной модели с исходными данными:"
   ]
  },
  {
   "cell_type": "code",
   "execution_count": 32,
   "metadata": {},
   "outputs": [
    {
     "name": "stdout",
     "output_type": "stream",
     "text": [
      "Порог = 0.00 | F1 мера = 0.338\n",
      "Порог = 0.05 | F1 мера = 0.365\n",
      "Порог = 0.10 | F1 мера = 0.409\n",
      "Порог = 0.15 | F1 мера = 0.441\n",
      "Порог = 0.20 | F1 мера = 0.450\n",
      "Порог = 0.25 | F1 мера = 0.454\n",
      "Порог = 0.30 | F1 мера = 0.443\n",
      "Порог = 0.35 | F1 мера = 0.418\n",
      "Порог = 0.40 | F1 мера = 0.391\n",
      "Порог = 0.45 | F1 мера = 0.356\n",
      "Порог = 0.50 | F1 мера = 0.310\n",
      "Порог = 0.55 | F1 мера = 0.268\n",
      "Порог = 0.60 | F1 мера = 0.222\n",
      "Порог = 0.65 | F1 мера = 0.155\n"
     ]
    }
   ],
   "source": [
    "model_regr.fit(features_train, target_train)\n",
    "\n",
    "probabilities_valid = model_regr.predict_proba(features_valid)\n",
    "probabilities_one_valid = probabilities_valid[:, 1]\n",
    "\n",
    "for threshold in np.arange(0, 0.7, 0.05):\n",
    "    predicted_valid = probabilities_one_valid > threshold\n",
    "    f1score = f1_score(target_valid, predicted_valid)\n",
    "    print(\"Порог = {:.2f} | F1 мера = {:.3f}\".format(\n",
    "        threshold, f1score))"
   ]
  },
  {
   "cell_type": "markdown",
   "metadata": {},
   "source": [
    "<div class=\"alert alert-warning\">\n",
    "<h2> Комментарий ревьюера <a class=\"tocSkip\"> </h2>\n",
    "    \n",
    "<b>Некоторые замечания и рекомендации💡:</b> \n",
    "\n",
    "При обучении модель стремится достичь оптимального качества исходя из порога в 0.5. Подбор порога для повышения качества f1 метрики − здесь не самая эффективная мера, тем более на модели-аутсайдере. \n",
    "    \n",
    "Но в целом иногда такое применяется при калибровке моделей.\n",
    "        \n",
    "</div> \n",
    "  \n",
    "   \n"
   ]
  },
  {
   "cell_type": "markdown",
   "metadata": {},
   "source": [
    "#### Теперь попробуем на сбалансированной модели и с исходными данными: "
   ]
  },
  {
   "cell_type": "code",
   "execution_count": 33,
   "metadata": {},
   "outputs": [
    {
     "name": "stdout",
     "output_type": "stream",
     "text": [
      "Порог = 0.00 | F1 мера = 0.338\n",
      "Порог = 0.05 | F1 мера = 0.338\n",
      "Порог = 0.10 | F1 мера = 0.346\n",
      "Порог = 0.15 | F1 мера = 0.359\n",
      "Порог = 0.20 | F1 мера = 0.373\n",
      "Порог = 0.25 | F1 мера = 0.391\n",
      "Порог = 0.30 | F1 мера = 0.409\n",
      "Порог = 0.35 | F1 мера = 0.428\n",
      "Порог = 0.40 | F1 мера = 0.444\n",
      "Порог = 0.45 | F1 мера = 0.451\n",
      "Порог = 0.50 | F1 мера = 0.458\n",
      "Порог = 0.55 | F1 мера = 0.456\n",
      "Порог = 0.60 | F1 мера = 0.458\n",
      "Порог = 0.65 | F1 мера = 0.428\n"
     ]
    }
   ],
   "source": [
    "probabilities_valid = model_regr_b.predict_proba(features_valid)\n",
    "probabilities_one_valid = probabilities_valid[:, 1]\n",
    "\n",
    "for threshold in np.arange(0, 0.7, 0.05):\n",
    "    predicted_valid = probabilities_one_valid > threshold\n",
    "    f1score = f1_score(target_valid, predicted_valid)\n",
    "    print(\"Порог = {:.2f} | F1 мера = {:.3f}\".format(\n",
    "        threshold, f1score))"
   ]
  },
  {
   "cell_type": "markdown",
   "metadata": {},
   "source": [
    "#### Осталась исходная модель и апсампл данные: "
   ]
  },
  {
   "cell_type": "code",
   "execution_count": 34,
   "metadata": {},
   "outputs": [
    {
     "name": "stdout",
     "output_type": "stream",
     "text": [
      "Порог = 0.00 | F1 мера = 0.338\n",
      "Порог = 0.05 | F1 мера = 0.338\n",
      "Порог = 0.10 | F1 мера = 0.345\n",
      "Порог = 0.15 | F1 мера = 0.360\n",
      "Порог = 0.20 | F1 мера = 0.372\n",
      "Порог = 0.25 | F1 мера = 0.391\n",
      "Порог = 0.30 | F1 мера = 0.410\n",
      "Порог = 0.35 | F1 мера = 0.428\n",
      "Порог = 0.40 | F1 мера = 0.444\n",
      "Порог = 0.45 | F1 мера = 0.452\n",
      "Порог = 0.50 | F1 мера = 0.457\n",
      "Порог = 0.55 | F1 мера = 0.457\n",
      "Порог = 0.60 | F1 мера = 0.459\n",
      "Порог = 0.65 | F1 мера = 0.436\n"
     ]
    }
   ],
   "source": [
    "model_regr.fit(features_upsampled, target_upsampled)\n",
    "\n",
    "\n",
    "probabilities_valid = model_regr.predict_proba(features_valid)\n",
    "probabilities_one_valid = probabilities_valid[:, 1]\n",
    "\n",
    "for threshold in np.arange(0, 0.7, 0.05):\n",
    "    predicted_valid = probabilities_one_valid > threshold\n",
    "    f1score = f1_score(target_valid, predicted_valid)\n",
    "    print(\"Порог = {:.2f} | F1 мера = {:.3f}\".format(\n",
    "        threshold, f1score))"
   ]
  },
  {
   "cell_type": "markdown",
   "metadata": {},
   "source": [
    "Итого, логистическая регрессия все же показала худшие результаты в сравнении с другими моделями. И в нашем эксперменте, лучше всего она работает при балансировке классов (максимальный результат при минимальном пороге)."
   ]
  },
  {
   "cell_type": "markdown",
   "metadata": {},
   "source": [
    "<div class=\"alert alert-warning\">\n",
    "<h2> Комментарий ревьюера <a class=\"tocSkip\"> </h2>\n",
    "    \n",
    "<b>Некоторые замечания и рекомендации💡:</b> \n",
    "\n",
    "Здесь также не совсем понял про `максимальный результат при минимальном пороге`. Вижу, что хороший результат у нас как раз при пороге вокруг 0.5 \n",
    "        \n",
    "</div> \n",
    "  \n",
    "   \n"
   ]
  },
  {
   "cell_type": "markdown",
   "metadata": {},
   "source": [
    "<div class=\"alert alert-info\">\n",
    "<b>Комментарий студента:</b>\n",
    "    \n",
    "Тут логика в том, что в случае балансировки классов модель показывает f1 более 0.45 при пороге 0.25, тогда как в других вариантах такой показатель f1 при порогах ближе к 0.5.\n",
    "    Но, в целом все это бессмысленно, в данном случае я рассмотрел пороги Логистической регрессии чисто на всякий случай, не питая особых надежд.\n",
    "</div>"
   ]
  },
  {
   "cell_type": "markdown",
   "metadata": {},
   "source": [
    "<div class=\"alert alert-block alert-danger\">\n",
    "<h2><s> Комментарий ревьюера <a class=\"tocSkip\"></h2>\n",
    "  \n",
    "<b>На доработку🤔:</b>\n",
    " \n",
    "При тестировании мы уже смотрим на одну лучшую модель с лучшими гиперпараметрами. Тестирование - это применение чистых данных, которые наша модель еще не видела. Таким образом мы можем получить представление о том, какое качество модели мы можем ожидать в проде, в реальной жизни. \n",
    "    \n",
    "Важно в тесте посмотреть на одну модель и с лучшими гиперпараметрами, подобранными ранее.\n",
    "    \n",
    "Важно до тестирования, в выводе по шагу исследования моделей определить эту самую лучшую модель и описать ее гиперпараметры, применяемый способ борьбы с дисбалансом классов (можно также добавить аргументацию, почему именно эту модель выбрали).\n",
    "\n",
    "</div>\n"
   ]
  },
  {
   "cell_type": "markdown",
   "metadata": {},
   "source": [
    "<div class=\"alert alert-info\">\n",
    "<b>Комментарий студента:</b>\n",
    "    \n",
    "Чуть ниже выбираем лучшую модель\n",
    "</div>"
   ]
  },
  {
   "cell_type": "markdown",
   "metadata": {},
   "source": [
    "### Итого, взглянем на результаты всех попыток:"
   ]
  },
  {
   "cell_type": "code",
   "execution_count": 35,
   "metadata": {},
   "outputs": [
    {
     "name": "stdout",
     "output_type": "stream",
     "text": [
      "Balanced\n",
      "Лучший Случайный лес balanced: | F1-мера: 0.591970121381886 | ROC-AUC: 0.8371458274041045 | Глубина: 9 | Кол-во деревьев 51\n",
      "Лучшее Дерево решений balanced - | F1-мера: 0.5620805369127517 | ROC-AUC: 0.8069522183221075 | Глубина: 6\n",
      "Логистическая регрессия balanced - | F1-мера: 0.4579310344827586 | ROC-AUC: 0.7338211112165196\n",
      "Upsampled\n",
      "Лучший Случайный лес upsampled: | F1-мера: 0.5881081081081082 | ROC-AUC: 0.8197479880150526 | Глубина: 20 | Кол-во деревьев 61\n",
      "Лучшее Дерево решений upsampled - | F1-мера: 0.46043165467625896 | ROC-AUC: 0.659980473073396 | Глубина: 17\n",
      "Логистическая регрессия upsampled - | F1-мера: 0.4579310344827586 | ROC-AUC: 0.7337825712298012\n",
      "Downsampled\n",
      "Лучший Случайный лес downsampled: | F1-мера: 0.5363636363636364 | ROC-AUC: 0.81958888704424 | Глубина: 49 | Кол-во деревьев 91\n",
      "Лучшее Дерево решений downsampled - | F1-мера: 0.5454545454545454 | ROC-AUC: 0.8123809213230877 | Глубина: 5\n",
      "Логистическая регрессия downsampled - | F1-мера: 0.4579310344827586 | ROC-AUC: 0.7338211112165196\n"
     ]
    }
   ],
   "source": [
    "print('Balanced')\n",
    "print('Лучший Случайный лес balanced:', '| F1-мера:', best_result_f_b, '| ROC-AUC:', best_roc_auc_f_b, \n",
    "      '| Глубина:', best_depth_f_b, '| Кол-во деревьев', best_estimators_f_b)\n",
    "print('Лучшее Дерево решений balanced -', '| F1-мера:', best_result_t_b,\n",
    "      '| ROC-AUC:', best_roc_auc_t_b, '| Глубина:', best_depth_t_b)\n",
    "print('Логистическая регрессия balanced -', '| F1-мера:', f1_score(target_valid, predict_regr_valid_b),\n",
    "      '| ROC-AUC:', roc_auc_score(target_valid, probabilities_one_r_b))\n",
    "\n",
    "print('Upsampled')\n",
    "print('Лучший Случайный лес upsampled:', '| F1-мера:', best_result_f_up, '| ROC-AUC:', best_roc_auc_f_up, \n",
    "      '| Глубина:', best_depth_f_up, '| Кол-во деревьев', best_estimators_f_up)\n",
    "print('Лучшее Дерево решений upsampled -', '| F1-мера:', best_result_t_up,\n",
    "      '| ROC-AUC:', best_roc_auc_t_up, '| Глубина:', best_depth_t_up)\n",
    "print('Логистическая регрессия upsampled -', '| F1-мера:', f1_score(target_valid, predict_regr_valid_up),\n",
    "      '| ROC-AUC:', roc_auc_score(target_valid, probabilities_one_r_up))\n",
    "\n",
    "print('Downsampled')\n",
    "print('Лучший Случайный лес downsampled:', '| F1-мера:', best_result_f_ds, '| ROC-AUC:', best_roc_auc_f_ds, \n",
    "      '| Глубина:', best_depth_f_ds, '| Кол-во деревьев', best_estimators_f_ds)\n",
    "print('Лучшее Дерево решений downsampled -', '| F1-мера:', best_result_t_ds,\n",
    "      '| ROC-AUC:', best_roc_auc_t_ds, '| Глубина:', best_depth_t_ds)\n",
    "print('Логистическая регрессия downsampled -', '| F1-мера:', f1_score(target_valid, predict_regr_valid_ds),\n",
    "      '| ROC-AUC:', roc_auc_score(target_valid, probabilities_one_r_ds))"
   ]
  },
  {
   "cell_type": "markdown",
   "metadata": {},
   "source": [
    "**По итогам подбора, лучшие показатели у модели Случайный лес с параметром class_weight = 'balanced'. Ее мы и будет тестировать далее**"
   ]
  },
  {
   "cell_type": "markdown",
   "metadata": {},
   "source": [
    "## Тестирование модели"
   ]
  },
  {
   "cell_type": "markdown",
   "metadata": {},
   "source": [
    "Попробуем прогнать все модели на тестовой выборке. Как показала практика выше, лучшие показатели у моделей, обученных на апсампл-выборках."
   ]
  },
  {
   "cell_type": "markdown",
   "metadata": {},
   "source": [
    "model_regr.fit(features_upsampled, target_upsampled)\n",
    "model_tree.fit(features_upsampled, target_upsampled)\n",
    "model_forest.fit(features_upsampled, target_upsampled)\n",
    "model_forest_best.fit(features_upsampled, target_upsampled)\n",
    "\n",
    "predict_regr_test_ups = model_regr.predict(features_test)\n",
    "predict_tree_test_ups = model_tree.predict(features_test)\n",
    "predict_forest_test_ups = model_forest.predict(features_test)\n",
    "predict_forest_best_test_ups = model_forest_best.predict(features_test)\n",
    "\n",
    "print('Логистическая регрессия f1:', f1_score(target_test, predict_regr_test_ups))\n",
    "print('Дерево решений f1:', f1_score(target_test, predict_tree_test_ups))\n",
    "print('Случайный лес f1:', f1_score(target_test, predict_forest_test_ups))\n",
    "print('Улучшенный случайный лес f1:', f1_score(target_test, predict_forest_best_test_ups))\n",
    "\n",
    "print('Логистическая регрессия ROC-AUC:', roc_auc_score(target_test, predict_regr_test_ups))\n",
    "print('Дерево решений ROC-AUC:', roc_auc_score(target_test, predict_tree_test_ups))\n",
    "print('Случайный лес ROC-AUC:', roc_auc_score(target_test, predict_forest_test_ups))\n",
    "print('Улучшенный случайный лес ROC-AUC:', roc_auc_score(target_test, predict_forest_best_test_ups))"
   ]
  },
  {
   "cell_type": "markdown",
   "metadata": {},
   "source": [
    "Получился достаточно интересный итог, получилось достичь f1 меры в 0,622 на модели Случайный лес. При этом, Улучшенный случайный лес показал результат немного хуже, как по f1 мере, так и по AUC-ROC."
   ]
  },
  {
   "cell_type": "markdown",
   "metadata": {},
   "source": [
    "AUC-ROC модели случайный лес получился 0.752 - это значительно выше 0.5 и может говорить о неплохой эффективности модели"
   ]
  },
  {
   "cell_type": "markdown",
   "metadata": {},
   "source": [
    "<div class=\"alert alert-warning\">\n",
    "<h2> Комментарий ревьюера <a class=\"tocSkip\"> </h2>\n",
    "    \n",
    "<b>Некоторые замечания и рекомендации💡:</b> \n",
    "\n",
    "Соответственно, здесь правильнее будте исследовать лишь одну модель, которая выше показала себя как лучшая.\n",
    "    \n",
    "\n",
    "        \n",
    "</div> \n"
   ]
  },
  {
   "cell_type": "markdown",
   "metadata": {},
   "source": [
    "<div class=\"alert alert-info\">\n",
    "<b>Комментарий студента:</b>\n",
    "    \n",
    "Код выше оставляю для истории и приступаю к тестированию лучшей модели:\n",
    "</div>"
   ]
  },
  {
   "cell_type": "code",
   "execution_count": 36,
   "metadata": {},
   "outputs": [
    {
     "name": "stdout",
     "output_type": "stream",
     "text": [
      "Лучший Случайный лес balanced: | F1-мера: 0.56590084643289 | ROC-AUC: 0.8577037292106293\n"
     ]
    }
   ],
   "source": [
    "#model_forest_best_b\n",
    "predicted_test = model_f_b.predict(features_test)\n",
    "probabilities_test = model_f_b.predict_proba(features_test)\n",
    "probabilities_one_test = probabilities_test[:, 1]\n",
    "result_test = f1_score(target_test, predicted_test)\n",
    "roc_auc_test = roc_auc_score(target_test, probabilities_one_test)\n",
    "        \n",
    "print('Лучший Случайный лес balanced:', '| F1-мера:', result_test, '| ROC-AUC:', roc_auc_test)"
   ]
  },
  {
   "cell_type": "markdown",
   "metadata": {},
   "source": [
    "Лучшая модель по итогам валидационных экспериментов оказалась недостаточно эффективной на тестовой выборке.\\\n",
    "Попробуем модель случайного леса upsampled:"
   ]
  },
  {
   "cell_type": "code",
   "execution_count": 37,
   "metadata": {},
   "outputs": [
    {
     "name": "stdout",
     "output_type": "stream",
     "text": [
      "Лучший Случайный лес upsampled: | F1-мера: 0.6147368421052631 | ROC-AUC: 0.8527843261904131\n"
     ]
    }
   ],
   "source": [
    "#model_forest_best_up\n",
    "predicted_test = model_forest_best_up.predict(features_test)\n",
    "probabilities_test = model_forest_best_up.predict_proba(features_test)\n",
    "probabilities_one_test = probabilities_test[:, 1]\n",
    "result_test = f1_score(target_test, predicted_test)\n",
    "roc_auc_test = roc_auc_score(target_test, probabilities_one_test)\n",
    "        \n",
    "print('Лучший Случайный лес upsampled:', '| F1-мера:', result_test, '| ROC-AUC:', roc_auc_test)"
   ]
  },
  {
   "cell_type": "markdown",
   "metadata": {},
   "source": [
    "Теперь целевой показатель достигнут. Лучшая модель - Случайный лес upsampled с \"правильными\" гиперпараметрами."
   ]
  },
  {
   "cell_type": "markdown",
   "metadata": {},
   "source": [
    "# Общий вывод"
   ]
  },
  {
   "cell_type": "markdown",
   "metadata": {},
   "source": [
    "Итого, что было сделано и выявлено по ходу решения задачи:\n",
    "\n",
    "1. Импортированы все необходимые библиотеки\n",
    "\n",
    "\n",
    "2. Загружены и подготовлены данные:\\\n",
    "\t1.1. Наименования столбцов приведены к нижнему регистру для удобства работы;\\\n",
    "\t1.2. Удалены лишние столбцы: столбцы RowNumber, CustomerId, Surname - для работы модели не нужны.\\\n",
    "\t1.3. Преобразованы категориальные признаки - Gender и Geography.\\\n",
    "\t1.4. Обработаны пропуски в tenure (были заменены на медиану - 5).\\\n",
    "\t1.5. Данные проверены на дубликаты.\\\n",
    "\t1.6. Отмасштабированы количественные признаки.\n",
    "    \n",
    "\n",
    "3. Исследованы классы и обучены модели без исправления дисбаланса классов:\\\n",
    "\t3.1. Соотношение классов - примерно 1 к 4 в пользу \"0\".\\\n",
    "\t3.2. Датасет разделен на 3 выборки: тренировочную (50%), валидационную (25%) и тестовую (25%).\\\n",
    "\t3.3. Обучены 3 модели: Логистическая регрессия (ЛР), Дерево решений (ДР) и Случайный лес (СЛ). Лучший показатель f1 - СЛ, 0.592. Лучший показатель ROC-AUC - СЛ, 0.837.\\\n",
    "\n",
    "    \n",
    "4. Применено несколько способов работы с дисбалансом классов:\\\n",
    "\t4.1. Были обучены модели с учетом баланса классов.\\\n",
    "\t4.2. Были обучены модели на выборках с применением upsample.\\\n",
    "\t4.3. Были обучены модели на выборках с применением downsample.\\\n",
    "    4.4. Лучший результат на валидационной выборке оказался у метода class_weight = balanced в целом, и у модели СЛ в частности.\\\n",
    "\t4.5. Для ЛР отдельно были рассмотрены различные пороговые значения в разных вариациях самой модели (с балансом, без баланса, с апсамплом), однако все результаты значительно хуже других моделей.\n",
    "    \n",
    "\n",
    "5. Проведено тестирование моделей, обученных на апсампл-выборках: получилось достичь f1 меры в 0.615 на модели СЛ upsampled. При этом, лучшей моделью на валидационной выборке была СЛ balanced, но на тестовой выборке она показала результат значительно хуже, чем СЛ unsampled.\n"
   ]
  },
  {
   "cell_type": "markdown",
   "metadata": {},
   "source": [
    " <div class=\"alert alert-warning\">\n",
    "<h2> Комментарий ревьюера <a class=\"tocSkip\"> </h2>\n",
    "    \n",
    "<b>Некоторые замечания и рекомендации💡:</b> \n",
    "\n",
    "Выводы необходимо будет перепроверить и синхронизировать с решениями по коду.\n",
    "       \n",
    "</div>"
   ]
  },
  {
   "cell_type": "markdown",
   "metadata": {},
   "source": [
    "<div class=\"alert alert-info\">\n",
    "<b>Комментарий студента:</b>\n",
    "    \n",
    "Выводы поправил.\n",
    "Большое спасибо за ценные советы и рекомендации!\n",
    "</div>"
   ]
  },
  {
   "cell_type": "markdown",
   "metadata": {},
   "source": [
    "\n",
    "<div class=\"alert alert-warning\">\n",
    "<h2> Комментарий ревьюера 2<a class=\"tocSkip\"> </h2>\n",
    "    \n",
    "<b>Некоторые замечания и рекомендации💡:</b> \n",
    "    \n",
    "Больше спасибо за внимательную доработку! \n",
    "    \n",
    "Выше оставил комментарий по константной модели, там у тебя некорректный подсчет.\n",
    "    \n",
    "Здесь продублирую, чтобы не потерялось:\n",
    "\n",
    "Здесь в дамми-модели я бы предсказал везде «1». Условно говоря, если предсказываем ноль, моделируем ситуацию, когда акцию с бонусами для удержания клиентов решили не проводить. Если предсказываем единицу − решили раздать бонусы вообще всем клиентам. Если в дамми-модели предсказываем по единице, можно подсчитать F1, она не будет зануляться.\n",
    "    \n",
    "`dummy_model = DummyClassifier(strategy='constant', constant=1)\n",
    "dummy_model.fit(features_train, target_train)\n",
    "f1_score(dummy_model.predict(features_test), target_test)`\n",
    "    \n",
    "Импорт: from sklearn.dummy import DummyClassifier\n",
    "\n",
    "       \n",
    "</div>"
   ]
  },
  {
   "cell_type": "markdown",
   "metadata": {},
   "source": [
    "<div style=\"border:solid Chocolate 2px; padding: 40px\">\n",
    "\n",
    "**Общий вывод по проекту**\n",
    "    \n",
    "Спасибо за твой проект! Есть несколько важных моментов, которые необходимо поправить. Их ты найдешь в разноцветных комментариях.\n",
    "    \n",
    "**Отмечу положительные моменты проекта🚀**\n",
    "    \n",
    "* Хорошая структура проекта. Выбор моделей, порядок исследования.\n",
    "* Есть пояснения к шагам, код с высокой читаемостью. \n",
    "* Логичность решений.\n",
    "* Хороший результат на тестовой выборке.\n",
    "    \n",
    "**На что стоит обратить внимание🤔**\n",
    "    \n",
    "* Необходимо изменить подход к заполнению пропусков.\n",
    "* Нужно масштабировать данные после разбиения на выборки\n",
    "* Гиперпараметры моделям подбираем в каждом случае применения методики борьбы с дисбалансом и в исследовании моделей без учета дисбаланса.\n",
    "* У всех моделей важно измерить ROC_AUC по вероятностям классов.\n",
    "* Необходимо везде оставлять промежуточные выводы и дополнить итоговый вывод - перед тестированием обязательно описываем лучшую модель.\n",
    "* В тестировании используем лишь одну модель - ту, которую нашли на шаге исследования моделей.\n",
    "* Необходимо достичь качества модели F1>0.59 при честном тестировании одной модели (ну здесь ты уже нашел хороший вариант, просто нужно убрать лишнее)).\n",
    "* Эти и остальные замечания я также написал по ходу проекта.\n",
    "    \n",
    "**Желаю удачи и жду твой проект на повторное ревью!**😉\n",
    "    \n",
    "    \n",
    "</div>\n",
    "\n"
   ]
  },
  {
   "cell_type": "markdown",
   "metadata": {},
   "source": [
    "<div style=\"border:solid Chocolate 2px; padding: 40px\">\n",
    "\n",
    "**Комментарий ко второй проверке**\n",
    "\n",
    "Спасибо за доработку. Критичных комментариев нет. \n",
    "    \n",
    "Если что-то пропустил или остались вопросы, напиши на телеграм @kriill\n",
    "\n",
    "Желаю удачи в дальнейшей учебе!\n",
    "\n",
    "</div>\n"
   ]
  },
  {
   "cell_type": "code",
   "execution_count": null,
   "metadata": {},
   "outputs": [],
   "source": []
  }
 ],
 "metadata": {
  "ExecuteTimeLog": [
   {
    "duration": 1045,
    "start_time": "2024-05-25T20:47:36.036Z"
   },
   {
    "duration": 157,
    "start_time": "2024-05-25T20:49:08.635Z"
   },
   {
    "duration": 63,
    "start_time": "2024-05-25T20:49:46.262Z"
   },
   {
    "duration": 100,
    "start_time": "2024-05-25T20:53:06.903Z"
   },
   {
    "duration": 10,
    "start_time": "2024-05-25T20:53:14.211Z"
   },
   {
    "duration": 10,
    "start_time": "2024-05-25T20:53:23.558Z"
   },
   {
    "duration": 19,
    "start_time": "2024-05-25T20:53:28.472Z"
   },
   {
    "duration": 3,
    "start_time": "2024-05-26T08:51:36.671Z"
   },
   {
    "duration": 14,
    "start_time": "2024-05-26T08:51:43.155Z"
   },
   {
    "duration": 1015,
    "start_time": "2024-05-26T08:51:48.750Z"
   },
   {
    "duration": 63,
    "start_time": "2024-05-26T08:51:49.767Z"
   },
   {
    "duration": 107,
    "start_time": "2024-05-26T08:51:49.832Z"
   },
   {
    "duration": 13,
    "start_time": "2024-05-26T08:54:09.029Z"
   },
   {
    "duration": 19,
    "start_time": "2024-05-26T08:54:27.558Z"
   },
   {
    "duration": 9,
    "start_time": "2024-05-26T08:55:26.803Z"
   },
   {
    "duration": 11,
    "start_time": "2024-05-26T09:11:28.621Z"
   },
   {
    "duration": 10,
    "start_time": "2024-05-26T09:11:51.880Z"
   },
   {
    "duration": 15,
    "start_time": "2024-05-26T09:13:27.704Z"
   },
   {
    "duration": 12,
    "start_time": "2024-05-26T09:13:39.014Z"
   },
   {
    "duration": 9,
    "start_time": "2024-05-26T09:15:24.986Z"
   },
   {
    "duration": 10,
    "start_time": "2024-05-26T09:15:28.891Z"
   },
   {
    "duration": 6,
    "start_time": "2024-05-26T09:15:38.665Z"
   },
   {
    "duration": 6,
    "start_time": "2024-05-26T09:15:58.448Z"
   },
   {
    "duration": 5,
    "start_time": "2024-05-26T09:16:24.704Z"
   },
   {
    "duration": 6,
    "start_time": "2024-05-26T09:16:34.656Z"
   },
   {
    "duration": 6,
    "start_time": "2024-05-26T09:16:50.169Z"
   },
   {
    "duration": 12,
    "start_time": "2024-05-26T09:16:57.326Z"
   },
   {
    "duration": 4,
    "start_time": "2024-05-26T09:35:32.058Z"
   },
   {
    "duration": 980,
    "start_time": "2024-05-26T09:35:40.326Z"
   },
   {
    "duration": 9,
    "start_time": "2024-05-26T09:36:41.859Z"
   },
   {
    "duration": 8,
    "start_time": "2024-05-26T09:37:51.482Z"
   },
   {
    "duration": 1020,
    "start_time": "2024-05-26T09:38:00.266Z"
   },
   {
    "duration": 64,
    "start_time": "2024-05-26T09:38:01.289Z"
   },
   {
    "duration": 11,
    "start_time": "2024-05-26T09:38:01.354Z"
   },
   {
    "duration": 64,
    "start_time": "2024-05-26T09:38:01.367Z"
   },
   {
    "duration": 14,
    "start_time": "2024-05-26T09:38:01.433Z"
   },
   {
    "duration": 41,
    "start_time": "2024-05-26T09:38:01.449Z"
   },
   {
    "duration": 1057,
    "start_time": "2024-05-26T09:38:01.491Z"
   },
   {
    "duration": 16,
    "start_time": "2024-05-26T09:38:18.574Z"
   },
   {
    "duration": 7,
    "start_time": "2024-05-26T09:42:25.919Z"
   },
   {
    "duration": 16,
    "start_time": "2024-05-26T09:42:34.335Z"
   },
   {
    "duration": 21,
    "start_time": "2024-05-26T09:43:28.021Z"
   },
   {
    "duration": 18,
    "start_time": "2024-05-26T09:43:36.057Z"
   },
   {
    "duration": 19,
    "start_time": "2024-05-26T09:43:57.937Z"
   },
   {
    "duration": 10,
    "start_time": "2024-05-26T09:45:35.699Z"
   },
   {
    "duration": 14,
    "start_time": "2024-05-26T09:52:35.552Z"
   },
   {
    "duration": 13,
    "start_time": "2024-05-26T09:54:24.113Z"
   },
   {
    "duration": 17,
    "start_time": "2024-05-26T09:55:06.913Z"
   },
   {
    "duration": 12,
    "start_time": "2024-05-26T09:56:13.005Z"
   },
   {
    "duration": 7,
    "start_time": "2024-05-26T09:56:32.095Z"
   },
   {
    "duration": 6,
    "start_time": "2024-05-26T09:57:32.089Z"
   },
   {
    "duration": 7,
    "start_time": "2024-05-26T09:57:59.717Z"
   },
   {
    "duration": 22,
    "start_time": "2024-05-26T10:08:35.649Z"
   },
   {
    "duration": 3,
    "start_time": "2024-05-26T10:08:43.292Z"
   },
   {
    "duration": 24,
    "start_time": "2024-05-26T10:08:47.744Z"
   },
   {
    "duration": 22,
    "start_time": "2024-05-26T10:09:05.897Z"
   },
   {
    "duration": 2,
    "start_time": "2024-05-26T10:10:16.652Z"
   },
   {
    "duration": 10,
    "start_time": "2024-05-26T10:10:47.728Z"
   },
   {
    "duration": 51,
    "start_time": "2024-05-26T10:33:09.717Z"
   },
   {
    "duration": 6,
    "start_time": "2024-05-26T10:33:17.896Z"
   },
   {
    "duration": 5,
    "start_time": "2024-05-26T10:33:27.545Z"
   },
   {
    "duration": 15,
    "start_time": "2024-05-26T11:04:34.350Z"
   },
   {
    "duration": 17,
    "start_time": "2024-05-26T11:04:53.534Z"
   },
   {
    "duration": 1352,
    "start_time": "2024-05-26T11:09:54.803Z"
   },
   {
    "duration": 1056,
    "start_time": "2024-05-26T11:12:25.375Z"
   },
   {
    "duration": 1228,
    "start_time": "2024-05-26T11:15:14.709Z"
   },
   {
    "duration": 1045,
    "start_time": "2024-05-26T11:17:18.788Z"
   },
   {
    "duration": 54,
    "start_time": "2024-05-26T11:17:28.181Z"
   },
   {
    "duration": 64,
    "start_time": "2024-05-26T11:17:35.803Z"
   },
   {
    "duration": 1180,
    "start_time": "2024-05-26T11:17:38.653Z"
   },
   {
    "duration": 1077,
    "start_time": "2024-05-26T11:21:38.475Z"
   },
   {
    "duration": 1109,
    "start_time": "2024-05-26T11:21:46.219Z"
   },
   {
    "duration": 1056,
    "start_time": "2024-05-26T11:22:59.480Z"
   },
   {
    "duration": 5958,
    "start_time": "2024-05-26T11:30:28.780Z"
   },
   {
    "duration": 5875,
    "start_time": "2024-05-26T11:31:13.459Z"
   },
   {
    "duration": 9,
    "start_time": "2024-05-26T11:32:59.428Z"
   },
   {
    "duration": 9,
    "start_time": "2024-05-26T11:33:35.983Z"
   },
   {
    "duration": 11,
    "start_time": "2024-05-26T11:34:18.438Z"
   },
   {
    "duration": 9,
    "start_time": "2024-05-26T11:36:14.890Z"
   },
   {
    "duration": 1073,
    "start_time": "2024-05-26T11:36:23.012Z"
   },
   {
    "duration": 65,
    "start_time": "2024-05-26T11:36:24.086Z"
   },
   {
    "duration": 10,
    "start_time": "2024-05-26T11:36:24.152Z"
   },
   {
    "duration": 14,
    "start_time": "2024-05-26T11:36:24.163Z"
   },
   {
    "duration": 27,
    "start_time": "2024-05-26T11:36:24.180Z"
   },
   {
    "duration": 19,
    "start_time": "2024-05-26T11:36:24.208Z"
   },
   {
    "duration": 17,
    "start_time": "2024-05-26T11:36:24.229Z"
   },
   {
    "duration": 8,
    "start_time": "2024-05-26T11:36:24.248Z"
   },
   {
    "duration": 57,
    "start_time": "2024-05-26T11:36:24.257Z"
   },
   {
    "duration": 11,
    "start_time": "2024-05-26T11:36:24.315Z"
   },
   {
    "duration": 5,
    "start_time": "2024-05-26T11:36:24.327Z"
   },
   {
    "duration": 15,
    "start_time": "2024-05-26T11:36:24.333Z"
   },
   {
    "duration": 1490,
    "start_time": "2024-05-26T11:36:24.349Z"
   },
   {
    "duration": 115,
    "start_time": "2024-05-26T11:36:25.841Z"
   },
   {
    "duration": 9,
    "start_time": "2024-05-26T11:36:57.851Z"
   },
   {
    "duration": 12,
    "start_time": "2024-05-26T11:37:06.044Z"
   },
   {
    "duration": 913999,
    "start_time": "2024-05-26T11:38:20.657Z"
   },
   {
    "duration": 18660,
    "start_time": "2024-05-26T11:53:47.011Z"
   },
   {
    "duration": 128503,
    "start_time": "2024-05-26T11:54:11.754Z"
   },
   {
    "duration": 1071,
    "start_time": "2024-05-26T14:09:44.207Z"
   },
   {
    "duration": 65,
    "start_time": "2024-05-26T14:09:45.280Z"
   },
   {
    "duration": 10,
    "start_time": "2024-05-26T14:09:45.346Z"
   },
   {
    "duration": 14,
    "start_time": "2024-05-26T14:09:45.357Z"
   },
   {
    "duration": 9,
    "start_time": "2024-05-26T14:09:45.373Z"
   },
   {
    "duration": 44,
    "start_time": "2024-05-26T14:09:45.383Z"
   },
   {
    "duration": 18,
    "start_time": "2024-05-26T14:09:45.429Z"
   },
   {
    "duration": 6,
    "start_time": "2024-05-26T14:09:45.448Z"
   },
   {
    "duration": 27,
    "start_time": "2024-05-26T14:09:45.456Z"
   },
   {
    "duration": 34,
    "start_time": "2024-05-26T14:09:45.484Z"
   },
   {
    "duration": 7,
    "start_time": "2024-05-26T14:09:45.519Z"
   },
   {
    "duration": 14,
    "start_time": "2024-05-26T14:09:45.528Z"
   },
   {
    "duration": 1185,
    "start_time": "2024-05-26T14:09:45.544Z"
   },
   {
    "duration": 128206,
    "start_time": "2024-05-26T14:09:46.733Z"
   },
   {
    "duration": 9,
    "start_time": "2024-05-26T14:11:54.941Z"
   },
   {
    "duration": 85603,
    "start_time": "2024-05-26T14:17:50.240Z"
   },
   {
    "duration": 128085,
    "start_time": "2024-05-26T14:19:30.120Z"
   },
   {
    "duration": 127738,
    "start_time": "2024-05-26T14:22:21.570Z"
   },
   {
    "duration": 6,
    "start_time": "2024-05-26T14:30:32.635Z"
   },
   {
    "duration": 4,
    "start_time": "2024-05-26T14:32:14.064Z"
   },
   {
    "duration": 1077,
    "start_time": "2024-05-26T14:35:46.559Z"
   },
   {
    "duration": 2,
    "start_time": "2024-05-26T14:42:11.752Z"
   },
   {
    "duration": 1183,
    "start_time": "2024-05-26T14:42:20.847Z"
   },
   {
    "duration": 1084,
    "start_time": "2024-05-26T14:44:23.049Z"
   },
   {
    "duration": 1121,
    "start_time": "2024-05-26T14:44:54.808Z"
   },
   {
    "duration": 1520,
    "start_time": "2024-05-26T14:47:04.867Z"
   },
   {
    "duration": 13,
    "start_time": "2024-05-26T15:01:59.355Z"
   },
   {
    "duration": 1503,
    "start_time": "2024-05-26T15:05:45.479Z"
   },
   {
    "duration": 1485,
    "start_time": "2024-05-26T15:06:28.597Z"
   },
   {
    "duration": 1932,
    "start_time": "2024-05-26T15:09:46.355Z"
   },
   {
    "duration": 1903,
    "start_time": "2024-05-26T15:11:04.281Z"
   },
   {
    "duration": 10,
    "start_time": "2024-05-26T15:19:38.000Z"
   },
   {
    "duration": 10,
    "start_time": "2024-05-26T15:19:56.463Z"
   },
   {
    "duration": 845,
    "start_time": "2024-05-26T15:21:58.872Z"
   },
   {
    "duration": 1388,
    "start_time": "2024-05-26T15:22:43.497Z"
   },
   {
    "duration": 1678,
    "start_time": "2024-05-26T15:22:58.913Z"
   },
   {
    "duration": 10,
    "start_time": "2024-05-26T15:23:15.428Z"
   },
   {
    "duration": 784,
    "start_time": "2024-05-26T15:24:58.301Z"
   },
   {
    "duration": 806,
    "start_time": "2024-05-26T15:27:54.396Z"
   },
   {
    "duration": 4,
    "start_time": "2024-05-26T15:28:20.597Z"
   },
   {
    "duration": 795,
    "start_time": "2024-05-26T15:28:26.781Z"
   },
   {
    "duration": 1682,
    "start_time": "2024-05-26T15:29:14.513Z"
   },
   {
    "duration": 1351,
    "start_time": "2024-05-26T15:29:37.939Z"
   },
   {
    "duration": 811,
    "start_time": "2024-05-26T15:30:43.444Z"
   },
   {
    "duration": 13,
    "start_time": "2024-05-26T15:46:58.911Z"
   },
   {
    "duration": 4,
    "start_time": "2024-05-26T15:47:22.618Z"
   },
   {
    "duration": 169,
    "start_time": "2024-05-26T15:47:30.649Z"
   },
   {
    "duration": 95,
    "start_time": "2024-05-26T15:48:12.718Z"
   },
   {
    "duration": 106,
    "start_time": "2024-05-26T15:50:36.213Z"
   },
   {
    "duration": 199,
    "start_time": "2024-05-26T15:50:50.313Z"
   },
   {
    "duration": 81,
    "start_time": "2024-05-26T15:50:53.545Z"
   },
   {
    "duration": 191,
    "start_time": "2024-05-26T15:53:34.924Z"
   },
   {
    "duration": 170,
    "start_time": "2024-05-26T15:54:20.347Z"
   },
   {
    "duration": 1659,
    "start_time": "2024-05-26T15:58:20.435Z"
   },
   {
    "duration": 983,
    "start_time": "2024-05-26T16:07:22.823Z"
   },
   {
    "duration": 960,
    "start_time": "2024-05-26T16:07:37.753Z"
   },
   {
    "duration": 128363,
    "start_time": "2024-05-26T16:08:13.610Z"
   },
   {
    "duration": 202,
    "start_time": "2024-05-26T16:18:28.411Z"
   },
   {
    "duration": 9,
    "start_time": "2024-05-26T16:23:17.197Z"
   },
   {
    "duration": 7,
    "start_time": "2024-05-26T16:24:39.562Z"
   },
   {
    "duration": 9,
    "start_time": "2024-05-26T16:25:19.592Z"
   },
   {
    "duration": 9,
    "start_time": "2024-05-26T16:26:14.005Z"
   },
   {
    "duration": 8,
    "start_time": "2024-05-26T16:26:23.446Z"
   },
   {
    "duration": 1033,
    "start_time": "2024-05-26T16:27:05.155Z"
   },
   {
    "duration": 1065,
    "start_time": "2024-05-26T16:27:11.408Z"
   },
   {
    "duration": 63,
    "start_time": "2024-05-26T16:27:12.475Z"
   },
   {
    "duration": 1020,
    "start_time": "2024-05-26T16:27:12.539Z"
   },
   {
    "duration": 0,
    "start_time": "2024-05-26T16:27:13.562Z"
   },
   {
    "duration": 0,
    "start_time": "2024-05-26T16:27:13.563Z"
   },
   {
    "duration": 0,
    "start_time": "2024-05-26T16:27:13.564Z"
   },
   {
    "duration": 0,
    "start_time": "2024-05-26T16:27:13.566Z"
   },
   {
    "duration": 0,
    "start_time": "2024-05-26T16:27:13.568Z"
   },
   {
    "duration": 0,
    "start_time": "2024-05-26T16:27:13.569Z"
   },
   {
    "duration": 0,
    "start_time": "2024-05-26T16:27:13.571Z"
   },
   {
    "duration": 0,
    "start_time": "2024-05-26T16:27:13.572Z"
   },
   {
    "duration": 0,
    "start_time": "2024-05-26T16:27:13.574Z"
   },
   {
    "duration": 0,
    "start_time": "2024-05-26T16:27:13.575Z"
   },
   {
    "duration": 0,
    "start_time": "2024-05-26T16:27:13.576Z"
   },
   {
    "duration": 0,
    "start_time": "2024-05-26T16:27:13.577Z"
   },
   {
    "duration": 0,
    "start_time": "2024-05-26T16:27:13.579Z"
   },
   {
    "duration": 1,
    "start_time": "2024-05-26T16:27:13.579Z"
   },
   {
    "duration": 0,
    "start_time": "2024-05-26T16:27:13.581Z"
   },
   {
    "duration": 0,
    "start_time": "2024-05-26T16:27:13.582Z"
   },
   {
    "duration": 0,
    "start_time": "2024-05-26T16:27:13.583Z"
   },
   {
    "duration": 0,
    "start_time": "2024-05-26T16:27:13.585Z"
   },
   {
    "duration": 0,
    "start_time": "2024-05-26T16:27:13.586Z"
   },
   {
    "duration": 0,
    "start_time": "2024-05-26T16:27:13.587Z"
   },
   {
    "duration": 0,
    "start_time": "2024-05-26T16:27:13.589Z"
   },
   {
    "duration": 1018,
    "start_time": "2024-05-26T16:27:25.753Z"
   },
   {
    "duration": 11,
    "start_time": "2024-05-26T16:27:39.307Z"
   },
   {
    "duration": 15,
    "start_time": "2024-05-26T16:27:56.318Z"
   },
   {
    "duration": 1022,
    "start_time": "2024-05-26T16:28:39.354Z"
   },
   {
    "duration": 62,
    "start_time": "2024-05-26T16:28:40.378Z"
   },
   {
    "duration": 13,
    "start_time": "2024-05-26T16:28:40.441Z"
   },
   {
    "duration": 10,
    "start_time": "2024-05-26T16:28:40.455Z"
   },
   {
    "duration": 20,
    "start_time": "2024-05-26T16:28:40.467Z"
   },
   {
    "duration": 23,
    "start_time": "2024-05-26T16:28:40.489Z"
   },
   {
    "duration": 18,
    "start_time": "2024-05-26T16:28:40.513Z"
   },
   {
    "duration": 16,
    "start_time": "2024-05-26T16:28:40.532Z"
   },
   {
    "duration": 6,
    "start_time": "2024-05-26T16:28:40.549Z"
   },
   {
    "duration": 25,
    "start_time": "2024-05-26T16:28:40.556Z"
   },
   {
    "duration": 32,
    "start_time": "2024-05-26T16:28:40.582Z"
   },
   {
    "duration": 5,
    "start_time": "2024-05-26T16:28:40.616Z"
   },
   {
    "duration": 12,
    "start_time": "2024-05-26T16:28:40.622Z"
   },
   {
    "duration": 821,
    "start_time": "2024-05-26T16:28:40.636Z"
   },
   {
    "duration": 126817,
    "start_time": "2024-05-26T16:28:41.458Z"
   },
   {
    "duration": 1306,
    "start_time": "2024-05-26T16:30:48.277Z"
   },
   {
    "duration": 27,
    "start_time": "2024-05-26T16:30:49.585Z"
   },
   {
    "duration": 1680,
    "start_time": "2024-05-26T16:30:49.613Z"
   },
   {
    "duration": 22,
    "start_time": "2024-05-26T16:30:51.295Z"
   },
   {
    "duration": 764,
    "start_time": "2024-05-26T16:30:51.318Z"
   },
   {
    "duration": 230,
    "start_time": "2024-05-26T16:30:52.083Z"
   },
   {
    "duration": 199,
    "start_time": "2024-05-26T16:30:52.315Z"
   },
   {
    "duration": 203,
    "start_time": "2024-05-26T16:30:52.516Z"
   },
   {
    "duration": 1722,
    "start_time": "2024-05-26T16:30:52.720Z"
   },
   {
    "duration": 1744,
    "start_time": "2024-05-26T16:56:16.570Z"
   },
   {
    "duration": 1051,
    "start_time": "2024-05-26T16:57:55.814Z"
   },
   {
    "duration": 64,
    "start_time": "2024-05-26T16:57:56.867Z"
   },
   {
    "duration": 12,
    "start_time": "2024-05-26T16:57:56.933Z"
   },
   {
    "duration": 9,
    "start_time": "2024-05-26T16:57:56.947Z"
   },
   {
    "duration": 9,
    "start_time": "2024-05-26T16:57:56.959Z"
   },
   {
    "duration": 8,
    "start_time": "2024-05-26T16:57:56.970Z"
   },
   {
    "duration": 40,
    "start_time": "2024-05-26T16:57:56.980Z"
   },
   {
    "duration": 17,
    "start_time": "2024-05-26T16:57:57.021Z"
   },
   {
    "duration": 5,
    "start_time": "2024-05-26T16:57:57.039Z"
   },
   {
    "duration": 22,
    "start_time": "2024-05-26T16:57:57.045Z"
   },
   {
    "duration": 9,
    "start_time": "2024-05-26T16:57:57.069Z"
   },
   {
    "duration": 37,
    "start_time": "2024-05-26T16:57:57.079Z"
   },
   {
    "duration": 10,
    "start_time": "2024-05-26T16:57:57.117Z"
   },
   {
    "duration": 823,
    "start_time": "2024-05-26T16:57:57.130Z"
   },
   {
    "duration": 127309,
    "start_time": "2024-05-26T16:57:57.954Z"
   },
   {
    "duration": 1378,
    "start_time": "2024-05-26T17:00:05.265Z"
   },
   {
    "duration": 13,
    "start_time": "2024-05-26T17:00:06.644Z"
   },
   {
    "duration": 1742,
    "start_time": "2024-05-26T17:00:06.658Z"
   },
   {
    "duration": 9,
    "start_time": "2024-05-26T17:00:08.412Z"
   },
   {
    "duration": 759,
    "start_time": "2024-05-26T17:00:08.423Z"
   },
   {
    "duration": 228,
    "start_time": "2024-05-26T17:00:09.184Z"
   },
   {
    "duration": 200,
    "start_time": "2024-05-26T17:00:09.414Z"
   },
   {
    "duration": 206,
    "start_time": "2024-05-26T17:00:09.615Z"
   },
   {
    "duration": 1666,
    "start_time": "2024-05-26T17:00:09.822Z"
   },
   {
    "duration": 3,
    "start_time": "2024-05-26T19:29:25.170Z"
   },
   {
    "duration": 17,
    "start_time": "2024-05-26T19:42:23.125Z"
   },
   {
    "duration": 8,
    "start_time": "2024-05-26T19:47:27.131Z"
   },
   {
    "duration": 7,
    "start_time": "2024-05-26T19:48:45.683Z"
   },
   {
    "duration": 7,
    "start_time": "2024-05-26T19:52:01.283Z"
   },
   {
    "duration": 10,
    "start_time": "2024-05-26T19:52:05.884Z"
   },
   {
    "duration": 10,
    "start_time": "2024-05-26T19:52:26.967Z"
   },
   {
    "duration": 9,
    "start_time": "2024-05-26T19:52:34.286Z"
   },
   {
    "duration": 44,
    "start_time": "2024-05-26T19:58:10.183Z"
   },
   {
    "duration": 42,
    "start_time": "2024-05-26T19:58:26.724Z"
   },
   {
    "duration": 6,
    "start_time": "2024-05-26T19:58:40.301Z"
   },
   {
    "duration": 9,
    "start_time": "2024-05-26T19:58:46.125Z"
   },
   {
    "duration": 56,
    "start_time": "2024-05-26T19:58:51.133Z"
   },
   {
    "duration": 21,
    "start_time": "2024-05-26T19:59:23.366Z"
   },
   {
    "duration": 20,
    "start_time": "2024-05-26T19:59:38.216Z"
   },
   {
    "duration": 42,
    "start_time": "2024-05-26T20:00:25.011Z"
   },
   {
    "duration": 61,
    "start_time": "2024-05-26T20:01:22.773Z"
   },
   {
    "duration": 46,
    "start_time": "2024-05-26T20:01:33.611Z"
   },
   {
    "duration": 41,
    "start_time": "2024-05-26T20:01:37.521Z"
   },
   {
    "duration": 37,
    "start_time": "2024-05-26T20:02:06.961Z"
   },
   {
    "duration": 855,
    "start_time": "2024-05-26T20:34:14.287Z"
   },
   {
    "duration": 111,
    "start_time": "2024-05-26T20:40:17.214Z"
   },
   {
    "duration": 19,
    "start_time": "2024-05-26T20:40:36.179Z"
   },
   {
    "duration": 0,
    "start_time": "2024-05-26T20:42:49.500Z"
   },
   {
    "duration": 19,
    "start_time": "2024-05-26T20:43:04.056Z"
   },
   {
    "duration": 20,
    "start_time": "2024-05-26T20:43:28.468Z"
   },
   {
    "duration": 141622,
    "start_time": "2024-05-26T20:43:38.177Z"
   },
   {
    "duration": 1345,
    "start_time": "2024-05-26T20:58:33.833Z"
   },
   {
    "duration": 1340,
    "start_time": "2024-05-26T20:58:45.095Z"
   },
   {
    "duration": 141905,
    "start_time": "2024-05-26T21:00:13.015Z"
   },
   {
    "duration": 1339,
    "start_time": "2024-05-26T21:03:59.921Z"
   },
   {
    "duration": 1334,
    "start_time": "2024-05-26T21:04:37.207Z"
   },
   {
    "duration": 63,
    "start_time": "2024-05-26T21:05:32.219Z"
   },
   {
    "duration": 1403,
    "start_time": "2024-05-26T21:05:45.831Z"
   },
   {
    "duration": 1337,
    "start_time": "2024-05-26T21:06:04.810Z"
   },
   {
    "duration": 1333,
    "start_time": "2024-05-26T21:07:42.542Z"
   },
   {
    "duration": 76,
    "start_time": "2024-05-26T21:08:38.040Z"
   },
   {
    "duration": 1314,
    "start_time": "2024-05-26T21:08:49.229Z"
   },
   {
    "duration": 59,
    "start_time": "2024-05-26T21:11:14.155Z"
   },
   {
    "duration": 86,
    "start_time": "2024-05-26T21:11:37.627Z"
   },
   {
    "duration": 1071,
    "start_time": "2024-05-26T21:12:23.098Z"
   },
   {
    "duration": 63,
    "start_time": "2024-05-26T21:12:24.171Z"
   },
   {
    "duration": 13,
    "start_time": "2024-05-26T21:12:24.236Z"
   },
   {
    "duration": 10,
    "start_time": "2024-05-26T21:12:24.250Z"
   },
   {
    "duration": 20,
    "start_time": "2024-05-26T21:12:24.262Z"
   },
   {
    "duration": 9,
    "start_time": "2024-05-26T21:12:24.284Z"
   },
   {
    "duration": 16,
    "start_time": "2024-05-26T21:12:24.312Z"
   },
   {
    "duration": 18,
    "start_time": "2024-05-26T21:12:24.329Z"
   },
   {
    "duration": 6,
    "start_time": "2024-05-26T21:12:24.348Z"
   },
   {
    "duration": 9,
    "start_time": "2024-05-26T21:12:24.355Z"
   },
   {
    "duration": 5,
    "start_time": "2024-05-26T21:12:24.366Z"
   },
   {
    "duration": 45,
    "start_time": "2024-05-26T21:12:24.372Z"
   },
   {
    "duration": 44,
    "start_time": "2024-05-26T21:12:24.418Z"
   },
   {
    "duration": 128,
    "start_time": "2024-05-26T21:12:24.464Z"
   },
   {
    "duration": 0,
    "start_time": "2024-05-26T21:12:24.593Z"
   },
   {
    "duration": 0,
    "start_time": "2024-05-26T21:12:24.594Z"
   },
   {
    "duration": 0,
    "start_time": "2024-05-26T21:12:24.596Z"
   },
   {
    "duration": 0,
    "start_time": "2024-05-26T21:12:24.597Z"
   },
   {
    "duration": 0,
    "start_time": "2024-05-26T21:12:24.598Z"
   },
   {
    "duration": 0,
    "start_time": "2024-05-26T21:12:24.598Z"
   },
   {
    "duration": 0,
    "start_time": "2024-05-26T21:12:24.599Z"
   },
   {
    "duration": 0,
    "start_time": "2024-05-26T21:12:24.612Z"
   },
   {
    "duration": 0,
    "start_time": "2024-05-26T21:12:24.613Z"
   },
   {
    "duration": 0,
    "start_time": "2024-05-26T21:12:24.614Z"
   },
   {
    "duration": 0,
    "start_time": "2024-05-26T21:12:24.615Z"
   },
   {
    "duration": 0,
    "start_time": "2024-05-26T21:12:24.616Z"
   },
   {
    "duration": 140784,
    "start_time": "2024-05-26T21:13:41.360Z"
   },
   {
    "duration": 1328,
    "start_time": "2024-05-26T21:16:29.432Z"
   },
   {
    "duration": 51,
    "start_time": "2024-05-26T21:17:49.648Z"
   },
   {
    "duration": 10,
    "start_time": "2024-05-26T21:20:50.228Z"
   },
   {
    "duration": 53,
    "start_time": "2024-05-26T21:21:16.864Z"
   },
   {
    "duration": 13,
    "start_time": "2024-05-26T21:21:20.713Z"
   },
   {
    "duration": 58,
    "start_time": "2024-05-26T21:24:45.803Z"
   },
   {
    "duration": 40,
    "start_time": "2024-05-26T21:25:12.588Z"
   },
   {
    "duration": 41,
    "start_time": "2024-05-26T21:26:03.334Z"
   },
   {
    "duration": 37,
    "start_time": "2024-05-26T21:26:08.575Z"
   },
   {
    "duration": 37,
    "start_time": "2024-05-26T21:26:12.524Z"
   },
   {
    "duration": 27,
    "start_time": "2024-05-26T21:33:56.794Z"
   },
   {
    "duration": 21,
    "start_time": "2024-05-26T21:34:11.943Z"
   },
   {
    "duration": 1334,
    "start_time": "2024-05-26T21:36:09.874Z"
   },
   {
    "duration": 24,
    "start_time": "2024-05-26T21:36:39.889Z"
   },
   {
    "duration": 1316,
    "start_time": "2024-05-26T21:36:41.734Z"
   },
   {
    "duration": 1349,
    "start_time": "2024-05-26T21:39:46.810Z"
   },
   {
    "duration": 1096,
    "start_time": "2024-05-26T21:39:59.272Z"
   },
   {
    "duration": 64,
    "start_time": "2024-05-26T21:40:00.370Z"
   },
   {
    "duration": 13,
    "start_time": "2024-05-26T21:40:00.436Z"
   },
   {
    "duration": 46,
    "start_time": "2024-05-26T21:40:00.450Z"
   },
   {
    "duration": 47,
    "start_time": "2024-05-26T21:40:00.499Z"
   },
   {
    "duration": 35,
    "start_time": "2024-05-26T21:40:00.548Z"
   },
   {
    "duration": 29,
    "start_time": "2024-05-26T21:40:00.584Z"
   },
   {
    "duration": 62,
    "start_time": "2024-05-26T21:40:00.614Z"
   },
   {
    "duration": 14,
    "start_time": "2024-05-26T21:40:00.677Z"
   },
   {
    "duration": 38,
    "start_time": "2024-05-26T21:40:00.693Z"
   },
   {
    "duration": 42,
    "start_time": "2024-05-26T21:40:00.733Z"
   },
   {
    "duration": 37,
    "start_time": "2024-05-26T21:40:00.776Z"
   },
   {
    "duration": 82,
    "start_time": "2024-05-26T21:40:00.814Z"
   },
   {
    "duration": 113,
    "start_time": "2024-05-26T21:40:00.899Z"
   },
   {
    "duration": 0,
    "start_time": "2024-05-26T21:40:01.013Z"
   },
   {
    "duration": 0,
    "start_time": "2024-05-26T21:40:01.014Z"
   },
   {
    "duration": 0,
    "start_time": "2024-05-26T21:40:01.015Z"
   },
   {
    "duration": 0,
    "start_time": "2024-05-26T21:40:01.017Z"
   },
   {
    "duration": 0,
    "start_time": "2024-05-26T21:40:01.017Z"
   },
   {
    "duration": 0,
    "start_time": "2024-05-26T21:40:01.018Z"
   },
   {
    "duration": 0,
    "start_time": "2024-05-26T21:40:01.019Z"
   },
   {
    "duration": 0,
    "start_time": "2024-05-26T21:40:01.020Z"
   },
   {
    "duration": 0,
    "start_time": "2024-05-26T21:40:01.021Z"
   },
   {
    "duration": 0,
    "start_time": "2024-05-26T21:40:01.022Z"
   },
   {
    "duration": 0,
    "start_time": "2024-05-26T21:40:01.023Z"
   },
   {
    "duration": 0,
    "start_time": "2024-05-26T21:40:01.024Z"
   },
   {
    "duration": 0,
    "start_time": "2024-05-26T21:40:01.025Z"
   },
   {
    "duration": 0,
    "start_time": "2024-05-26T21:40:01.026Z"
   },
   {
    "duration": 1107,
    "start_time": "2024-05-26T21:41:32.690Z"
   },
   {
    "duration": 66,
    "start_time": "2024-05-26T21:41:33.800Z"
   },
   {
    "duration": 12,
    "start_time": "2024-05-26T21:41:33.868Z"
   },
   {
    "duration": 10,
    "start_time": "2024-05-26T21:41:33.882Z"
   },
   {
    "duration": 14,
    "start_time": "2024-05-26T21:41:33.893Z"
   },
   {
    "duration": 9,
    "start_time": "2024-05-26T21:41:33.912Z"
   },
   {
    "duration": 15,
    "start_time": "2024-05-26T21:41:33.923Z"
   },
   {
    "duration": 17,
    "start_time": "2024-05-26T21:41:33.939Z"
   },
   {
    "duration": 5,
    "start_time": "2024-05-26T21:41:33.957Z"
   },
   {
    "duration": 9,
    "start_time": "2024-05-26T21:41:33.965Z"
   },
   {
    "duration": 38,
    "start_time": "2024-05-26T21:41:33.975Z"
   },
   {
    "duration": 10,
    "start_time": "2024-05-26T21:41:34.014Z"
   },
   {
    "duration": 43,
    "start_time": "2024-05-26T21:41:34.025Z"
   },
   {
    "duration": 140013,
    "start_time": "2024-05-26T21:41:34.070Z"
   },
   {
    "duration": 1327,
    "start_time": "2024-05-26T21:43:54.084Z"
   },
   {
    "duration": 104,
    "start_time": "2024-05-26T21:43:55.413Z"
   },
   {
    "duration": 96,
    "start_time": "2024-05-26T21:43:55.519Z"
   },
   {
    "duration": 140142,
    "start_time": "2024-05-26T21:43:55.616Z"
   },
   {
    "duration": 1348,
    "start_time": "2024-05-26T21:46:15.760Z"
   },
   {
    "duration": 23,
    "start_time": "2024-05-26T21:46:17.111Z"
   },
   {
    "duration": 176,
    "start_time": "2024-05-26T21:46:17.136Z"
   },
   {
    "duration": 130,
    "start_time": "2024-05-26T21:46:17.313Z"
   },
   {
    "duration": 0,
    "start_time": "2024-05-26T21:46:17.445Z"
   },
   {
    "duration": 0,
    "start_time": "2024-05-26T21:46:17.446Z"
   },
   {
    "duration": 0,
    "start_time": "2024-05-26T21:46:17.447Z"
   },
   {
    "duration": 0,
    "start_time": "2024-05-26T21:46:17.448Z"
   },
   {
    "duration": 0,
    "start_time": "2024-05-26T21:46:17.449Z"
   },
   {
    "duration": 0,
    "start_time": "2024-05-26T21:46:17.450Z"
   },
   {
    "duration": 10,
    "start_time": "2024-05-26T21:51:29.641Z"
   },
   {
    "duration": 1643,
    "start_time": "2024-05-26T22:06:24.970Z"
   },
   {
    "duration": 43,
    "start_time": "2024-05-26T22:06:32.569Z"
   },
   {
    "duration": 64,
    "start_time": "2024-05-26T22:16:55.450Z"
   },
   {
    "duration": 1081,
    "start_time": "2024-05-26T22:20:40.696Z"
   },
   {
    "duration": 63,
    "start_time": "2024-05-26T22:20:41.778Z"
   },
   {
    "duration": 13,
    "start_time": "2024-05-26T22:20:41.843Z"
   },
   {
    "duration": 18,
    "start_time": "2024-05-26T22:20:41.858Z"
   },
   {
    "duration": 27,
    "start_time": "2024-05-26T22:20:41.877Z"
   },
   {
    "duration": 16,
    "start_time": "2024-05-26T22:20:41.905Z"
   },
   {
    "duration": 20,
    "start_time": "2024-05-26T22:20:41.922Z"
   },
   {
    "duration": 17,
    "start_time": "2024-05-26T22:20:41.943Z"
   },
   {
    "duration": 6,
    "start_time": "2024-05-26T22:20:41.961Z"
   },
   {
    "duration": 10,
    "start_time": "2024-05-26T22:20:41.970Z"
   },
   {
    "duration": 31,
    "start_time": "2024-05-26T22:20:41.982Z"
   },
   {
    "duration": 15,
    "start_time": "2024-05-26T22:20:42.015Z"
   },
   {
    "duration": 44,
    "start_time": "2024-05-26T22:20:42.031Z"
   },
   {
    "duration": 140852,
    "start_time": "2024-05-26T22:20:42.077Z"
   },
   {
    "duration": 1357,
    "start_time": "2024-05-26T22:23:02.930Z"
   },
   {
    "duration": 134,
    "start_time": "2024-05-26T22:23:04.288Z"
   },
   {
    "duration": 12,
    "start_time": "2024-05-26T22:23:04.512Z"
   },
   {
    "duration": 140376,
    "start_time": "2024-05-26T22:23:04.526Z"
   },
   {
    "duration": 1361,
    "start_time": "2024-05-26T22:25:24.903Z"
   },
   {
    "duration": 51,
    "start_time": "2024-05-26T22:25:26.266Z"
   },
   {
    "duration": 96,
    "start_time": "2024-05-26T22:25:26.319Z"
   },
   {
    "duration": 95,
    "start_time": "2024-05-26T22:25:26.417Z"
   },
   {
    "duration": 186345,
    "start_time": "2024-05-26T22:25:26.513Z"
   },
   {
    "duration": 1680,
    "start_time": "2024-05-26T22:28:32.860Z"
   },
   {
    "duration": 72,
    "start_time": "2024-05-26T22:28:34.541Z"
   },
   {
    "duration": 97,
    "start_time": "2024-05-26T22:28:34.615Z"
   },
   {
    "duration": 33,
    "start_time": "2024-05-26T22:28:34.713Z"
   },
   {
    "duration": 106,
    "start_time": "2024-05-26T22:28:34.749Z"
   },
   {
    "duration": 0,
    "start_time": "2024-05-26T22:28:34.857Z"
   },
   {
    "duration": 0,
    "start_time": "2024-05-26T22:28:34.858Z"
   },
   {
    "duration": 0,
    "start_time": "2024-05-26T22:28:34.858Z"
   },
   {
    "duration": 0,
    "start_time": "2024-05-26T22:28:34.859Z"
   },
   {
    "duration": 0,
    "start_time": "2024-05-26T22:28:34.860Z"
   },
   {
    "duration": 0,
    "start_time": "2024-05-26T22:28:34.861Z"
   },
   {
    "duration": 0,
    "start_time": "2024-05-26T22:28:34.862Z"
   },
   {
    "duration": 0,
    "start_time": "2024-05-26T22:28:34.863Z"
   },
   {
    "duration": 0,
    "start_time": "2024-05-26T22:28:34.864Z"
   },
   {
    "duration": 80885,
    "start_time": "2024-05-26T22:30:11.765Z"
   },
   {
    "duration": 666,
    "start_time": "2024-05-26T22:31:32.652Z"
   },
   {
    "duration": 19,
    "start_time": "2024-05-26T22:31:33.319Z"
   },
   {
    "duration": 100,
    "start_time": "2024-05-26T22:31:33.414Z"
   },
   {
    "duration": 198,
    "start_time": "2024-05-26T22:31:33.516Z"
   },
   {
    "duration": 8,
    "start_time": "2024-05-26T22:31:33.715Z"
   },
   {
    "duration": 0,
    "start_time": "2024-05-26T22:31:33.724Z"
   },
   {
    "duration": 0,
    "start_time": "2024-05-26T22:31:33.725Z"
   },
   {
    "duration": 118,
    "start_time": "2024-05-26T22:32:58.498Z"
   },
   {
    "duration": 147,
    "start_time": "2024-05-26T22:33:11.474Z"
   },
   {
    "duration": 22,
    "start_time": "2024-05-26T22:33:17.994Z"
   },
   {
    "duration": 21,
    "start_time": "2024-05-26T22:34:08.237Z"
   },
   {
    "duration": 94,
    "start_time": "2024-05-26T22:46:01.662Z"
   },
   {
    "duration": 10,
    "start_time": "2024-05-26T22:47:48.783Z"
   },
   {
    "duration": 68,
    "start_time": "2024-05-26T22:48:29.155Z"
   },
   {
    "duration": 1065,
    "start_time": "2024-05-26T22:58:50.507Z"
   },
   {
    "duration": 63,
    "start_time": "2024-05-26T22:58:51.573Z"
   },
   {
    "duration": 12,
    "start_time": "2024-05-26T22:58:51.638Z"
   },
   {
    "duration": 9,
    "start_time": "2024-05-26T22:58:51.651Z"
   },
   {
    "duration": 10,
    "start_time": "2024-05-26T22:58:51.662Z"
   },
   {
    "duration": 10,
    "start_time": "2024-05-26T22:58:51.673Z"
   },
   {
    "duration": 41,
    "start_time": "2024-05-26T22:58:51.684Z"
   },
   {
    "duration": 16,
    "start_time": "2024-05-26T22:58:51.727Z"
   },
   {
    "duration": 6,
    "start_time": "2024-05-26T22:58:51.744Z"
   },
   {
    "duration": 10,
    "start_time": "2024-05-26T22:58:51.752Z"
   },
   {
    "duration": 5,
    "start_time": "2024-05-26T22:58:51.763Z"
   },
   {
    "duration": 45,
    "start_time": "2024-05-26T22:58:51.770Z"
   },
   {
    "duration": 41,
    "start_time": "2024-05-26T22:58:51.817Z"
   },
   {
    "duration": 140123,
    "start_time": "2024-05-26T22:58:51.861Z"
   },
   {
    "duration": 1323,
    "start_time": "2024-05-26T23:01:11.986Z"
   },
   {
    "duration": 103,
    "start_time": "2024-05-26T23:01:13.312Z"
   },
   {
    "duration": 102,
    "start_time": "2024-05-26T23:01:13.416Z"
   },
   {
    "duration": 139293,
    "start_time": "2024-05-26T23:01:13.520Z"
   },
   {
    "duration": 1357,
    "start_time": "2024-05-26T23:03:32.815Z"
   },
   {
    "duration": 47,
    "start_time": "2024-05-26T23:03:34.173Z"
   },
   {
    "duration": 94,
    "start_time": "2024-05-26T23:03:34.221Z"
   },
   {
    "duration": 104,
    "start_time": "2024-05-26T23:03:34.316Z"
   },
   {
    "duration": 183745,
    "start_time": "2024-05-26T23:03:34.422Z"
   },
   {
    "duration": 1633,
    "start_time": "2024-05-26T23:06:38.169Z"
   },
   {
    "duration": 32,
    "start_time": "2024-05-26T23:06:39.803Z"
   },
   {
    "duration": 81,
    "start_time": "2024-05-26T23:06:39.837Z"
   },
   {
    "duration": 93,
    "start_time": "2024-05-26T23:06:39.919Z"
   },
   {
    "duration": 80276,
    "start_time": "2024-05-26T23:06:40.015Z"
   },
   {
    "duration": 666,
    "start_time": "2024-05-26T23:08:00.292Z"
   },
   {
    "duration": 56,
    "start_time": "2024-05-26T23:08:00.959Z"
   },
   {
    "duration": 108,
    "start_time": "2024-05-26T23:08:01.018Z"
   },
   {
    "duration": 193,
    "start_time": "2024-05-26T23:08:01.127Z"
   },
   {
    "duration": 201,
    "start_time": "2024-05-26T23:08:01.322Z"
   },
   {
    "duration": 194,
    "start_time": "2024-05-26T23:08:01.525Z"
   },
   {
    "duration": 25,
    "start_time": "2024-05-26T23:08:01.721Z"
   },
   {
    "duration": 119,
    "start_time": "2024-05-26T23:08:01.747Z"
   },
   {
    "duration": 74,
    "start_time": "2024-05-26T23:08:01.868Z"
   },
   {
    "duration": 71,
    "start_time": "2024-05-26T23:10:35.979Z"
   }
  ],
  "kernelspec": {
   "display_name": "Python 3 (ipykernel)",
   "language": "python",
   "name": "python3"
  },
  "language_info": {
   "codemirror_mode": {
    "name": "ipython",
    "version": 3
   },
   "file_extension": ".py",
   "mimetype": "text/x-python",
   "name": "python",
   "nbconvert_exporter": "python",
   "pygments_lexer": "ipython3",
   "version": "3.9.5"
  },
  "toc": {
   "base_numbering": 1,
   "nav_menu": {},
   "number_sections": true,
   "sideBar": true,
   "skip_h1_title": true,
   "title_cell": "Содержание",
   "title_sidebar": "Contents",
   "toc_cell": true,
   "toc_position": {},
   "toc_section_display": true,
   "toc_window_display": true
  }
 },
 "nbformat": 4,
 "nbformat_minor": 2
}
