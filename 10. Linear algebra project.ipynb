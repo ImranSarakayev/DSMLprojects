{
 "cells": [
  {
   "cell_type": "markdown",
   "metadata": {},
   "source": [
    "<b>Привет, Имран!</b>\n",
    "\n",
    "Меня зовут Екатерина, и я буду проверять твой проект. Давай общаться на «ты», но если это неудобно, пожалуйста, сообщи. Моя основная цель — не указать на совершенные тобою ошибки, а поделиться своим опытом и помочь тебе совершенствоваться как профессионалу.\n",
    "\n",
    "Ты подготовил замечательный проект, но есть аспекты, которые еще можно улучшить. Я буду использовать комментарии с цветовой разметкой. Пожалуйста, **не перемещай, не изменяй и не удаляй их**. Это поможет выполнить повторную проверку твоего проекта оперативнее.\n",
    "\n",
    "<div class=\"alert alert-danger\">\n",
    "<b>Комментарий ревьюера №1</b> ❌\n",
    "    \n",
    "Таким комментарием выделены самые важные замечания. Без их отработки проект не будет принят.\n",
    "</div>\n",
    "\n",
    "<div class=\"alert alert-warning\">\n",
    "<b>Комментарий ревьюера №1</b> ⚠️\n",
    "    \n",
    "Таким комментарием выделены небольшие замечания и рекомендации, которые будет хорошо учесть.\n",
    "</div>\n",
    "\n",
    "<div class=\"alert alert-success\">\n",
    "<b>Комментарий ревьюера №1</b> ✅\n",
    "    \n",
    "Таким комментарием выделены удачные решения🙂\n",
    "</div>\n",
    "\n",
    "Свои комментарии ты можешь помечать синим цветом.\n",
    "\n",
    "<div class=\"alert alert-info\">\n",
    "<b>Комментарий студента №1</b>\n",
    "    \n",
    "Так ты можешь оформить свой комментарий\n",
    "</div>\n",
    "\n",
    "Давай работать над проектом в диалоге: если ты **что-то меняешь** в проекте по моим рекомендациям — **пиши об этом**. После того, как ты все доработаешь, я смогу принять твой проект!) "
   ]
  },
  {
   "cell_type": "markdown",
   "metadata": {},
   "source": [
    "<div class=\"alert alert-info\">\n",
    "<b>Комментарий студента №1</b>\n",
    "    \n",
    "Екатерина, привет! Конечно, можем на \"ты\"\n",
    "\n",
    "Удалил\n",
    "</div>"
   ]
  },
  {
   "cell_type": "markdown",
   "metadata": {},
   "source": [
    "<div class=\"alert alert-success\">\n",
    "<b>Комментарий ревьюера №2</b> ✅\n",
    "    \n",
    "Давай посмотрим, что получилось)\n",
    "</div>"
   ]
  },
  {
   "cell_type": "markdown",
   "metadata": {
    "toc": true
   },
   "source": [
    "<h1>Содержание<span class=\"tocSkip\"></span></h1>\n",
    "<div class=\"toc\"><ul class=\"toc-item\"><li><span><a href=\"#Загрузка-данных\" data-toc-modified-id=\"Загрузка-данных-1\"><span class=\"toc-item-num\">1&nbsp;&nbsp;</span>Загрузка данных</a></span></li><li><span><a href=\"#Умножение-матриц\" data-toc-modified-id=\"Умножение-матриц-2\"><span class=\"toc-item-num\">2&nbsp;&nbsp;</span>Умножение матриц</a></span></li><li><span><a href=\"#Алгоритм-преобразования\" data-toc-modified-id=\"Алгоритм-преобразования-3\"><span class=\"toc-item-num\">3&nbsp;&nbsp;</span>Алгоритм преобразования</a></span><ul class=\"toc-item\"><li><span><a href=\"#Описываем-алгоритм\" data-toc-modified-id=\"Описываем-алгоритм-3.1\"><span class=\"toc-item-num\">3.1&nbsp;&nbsp;</span>Описываем алгоритм</a></span></li><li><span><a href=\"#Создаем-класс-для-алгоритма\" data-toc-modified-id=\"Создаем-класс-для-алгоритма-3.2\"><span class=\"toc-item-num\">3.2&nbsp;&nbsp;</span>Создаем класс для алгоритма</a></span></li><li><span><a href=\"#Итоги-по-алгоритму-преобразования\" data-toc-modified-id=\"Итоги-по-алгоритму-преобразования-3.3\"><span class=\"toc-item-num\">3.3&nbsp;&nbsp;</span>Итоги по алгоритму преобразования</a></span></li></ul></li><li><span><a href=\"#Проверка-алгоритма\" data-toc-modified-id=\"Проверка-алгоритма-4\"><span class=\"toc-item-num\">4&nbsp;&nbsp;</span>Проверка алгоритма</a></span><ul class=\"toc-item\"><li><span><a href=\"#Подготовим-данные-для-модели\" data-toc-modified-id=\"Подготовим-данные-для-модели-4.1\"><span class=\"toc-item-num\">4.1&nbsp;&nbsp;</span>Подготовим данные для модели</a></span></li><li><span><a href=\"#Проверяем-алгоритм\" data-toc-modified-id=\"Проверяем-алгоритм-4.2\"><span class=\"toc-item-num\">4.2&nbsp;&nbsp;</span>Проверяем алгоритм</a></span></li><li><span><a href=\"#Рассчитываем-R2-на-исходных-данных\" data-toc-modified-id=\"Рассчитываем-R2-на-исходных-данных-4.3\"><span class=\"toc-item-num\">4.3&nbsp;&nbsp;</span>Рассчитываем R2 на исходных данных</a></span></li><li><span><a href=\"#Рассчитываем-R2-на-преобразованных-данных\" data-toc-modified-id=\"Рассчитываем-R2-на-преобразованных-данных-4.4\"><span class=\"toc-item-num\">4.4&nbsp;&nbsp;</span>Рассчитываем R2 на преобразованных данных</a></span></li><li><span><a href=\"#Подводим-итог-проверки\" data-toc-modified-id=\"Подводим-итог-проверки-4.5\"><span class=\"toc-item-num\">4.5&nbsp;&nbsp;</span>Подводим итог проверки</a></span></li></ul></li><li><span><a href=\"#Итоги-по-проекту\" data-toc-modified-id=\"Итоги-по-проекту-5\"><span class=\"toc-item-num\">5&nbsp;&nbsp;</span>Итоги по проекту</a></span></li><li><span><a href=\"#Чек-лист-проверки\" data-toc-modified-id=\"Чек-лист-проверки-6\"><span class=\"toc-item-num\">6&nbsp;&nbsp;</span>Чек-лист проверки</a></span></li></ul></div>"
   ]
  },
  {
   "cell_type": "markdown",
   "metadata": {},
   "source": [
    "# Защита персональных данных клиентов"
   ]
  },
  {
   "cell_type": "markdown",
   "metadata": {},
   "source": [
    "Вам нужно защитить данные клиентов страховой компании «Хоть потоп». Разработайте такой метод преобразования данных, чтобы по ним было сложно восстановить персональную информацию. Обоснуйте корректность его работы.\n",
    "\n",
    "Нужно защитить данные, чтобы при преобразовании качество моделей машинного обучения не ухудшилось. Подбирать наилучшую модель не требуется."
   ]
  },
  {
   "cell_type": "markdown",
   "metadata": {},
   "source": [
    "<div class=\"alert alert-block alert-success\">\n",
    "<b>Комментарий ревьюера №1</b> ✅\n",
    "    \n",
    "Хорошее начало! С содержанием ориентироваться в проекте намного проще👍 Можно добавить описание данных\n",
    "</div>"
   ]
  },
  {
   "cell_type": "markdown",
   "metadata": {},
   "source": [
    "## Загрузка данных"
   ]
  },
  {
   "cell_type": "code",
   "execution_count": 1,
   "metadata": {},
   "outputs": [],
   "source": [
    "import pandas as pd\n",
    "import numpy as np\n",
    "from sklearn.metrics import r2_score\n",
    "from sklearn.model_selection import train_test_split"
   ]
  },
  {
   "cell_type": "markdown",
   "metadata": {},
   "source": [
    "<div class=\"alert alert-warning\">\n",
    "<b>Комментарий ревьюера №1</b> ⚠️\n",
    "    \n",
    "Если используешь собственный класс линейной регрессии, то импортировать из sklearn его не нужно\n",
    "</div>"
   ]
  },
  {
   "cell_type": "markdown",
   "metadata": {},
   "source": [
    "<div class=\"alert alert-info\">\n",
    "<b>Комментарий студента №1</b>\n",
    "    \n",
    "Согласен, но на момент импорта я еще не определился с методом решения задачи)\n",
    "\n",
    "Удалил\n",
    "</div>"
   ]
  },
  {
   "cell_type": "markdown",
   "metadata": {},
   "source": [
    "<div class=\"alert alert-success\">\n",
    "<b>Комментарий ревьюера №2</b> ✅\n",
    "    \n",
    "👍\n",
    "</div>"
   ]
  },
  {
   "cell_type": "code",
   "execution_count": 2,
   "metadata": {},
   "outputs": [],
   "source": [
    "data = pd.read_csv('/datasets/insurance.csv')"
   ]
  },
  {
   "cell_type": "code",
   "execution_count": 3,
   "metadata": {},
   "outputs": [
    {
     "name": "stdout",
     "output_type": "stream",
     "text": [
      "<class 'pandas.core.frame.DataFrame'>\n",
      "RangeIndex: 5000 entries, 0 to 4999\n",
      "Data columns (total 5 columns):\n",
      " #   Column             Non-Null Count  Dtype  \n",
      "---  ------             --------------  -----  \n",
      " 0   Пол                5000 non-null   int64  \n",
      " 1   Возраст            5000 non-null   float64\n",
      " 2   Зарплата           5000 non-null   float64\n",
      " 3   Члены семьи        5000 non-null   int64  \n",
      " 4   Страховые выплаты  5000 non-null   int64  \n",
      "dtypes: float64(2), int64(3)\n",
      "memory usage: 195.4 KB\n"
     ]
    },
    {
     "data": {
      "text/plain": [
       "None"
      ]
     },
     "metadata": {},
     "output_type": "display_data"
    },
    {
     "data": {
      "text/html": [
       "<div>\n",
       "<style scoped>\n",
       "    .dataframe tbody tr th:only-of-type {\n",
       "        vertical-align: middle;\n",
       "    }\n",
       "\n",
       "    .dataframe tbody tr th {\n",
       "        vertical-align: top;\n",
       "    }\n",
       "\n",
       "    .dataframe thead th {\n",
       "        text-align: right;\n",
       "    }\n",
       "</style>\n",
       "<table border=\"1\" class=\"dataframe\">\n",
       "  <thead>\n",
       "    <tr style=\"text-align: right;\">\n",
       "      <th></th>\n",
       "      <th>Пол</th>\n",
       "      <th>Возраст</th>\n",
       "      <th>Зарплата</th>\n",
       "      <th>Члены семьи</th>\n",
       "      <th>Страховые выплаты</th>\n",
       "    </tr>\n",
       "  </thead>\n",
       "  <tbody>\n",
       "    <tr>\n",
       "      <th>0</th>\n",
       "      <td>1</td>\n",
       "      <td>41.0</td>\n",
       "      <td>49600.0</td>\n",
       "      <td>1</td>\n",
       "      <td>0</td>\n",
       "    </tr>\n",
       "    <tr>\n",
       "      <th>1</th>\n",
       "      <td>0</td>\n",
       "      <td>46.0</td>\n",
       "      <td>38000.0</td>\n",
       "      <td>1</td>\n",
       "      <td>1</td>\n",
       "    </tr>\n",
       "    <tr>\n",
       "      <th>2</th>\n",
       "      <td>0</td>\n",
       "      <td>29.0</td>\n",
       "      <td>21000.0</td>\n",
       "      <td>0</td>\n",
       "      <td>0</td>\n",
       "    </tr>\n",
       "    <tr>\n",
       "      <th>3</th>\n",
       "      <td>0</td>\n",
       "      <td>21.0</td>\n",
       "      <td>41700.0</td>\n",
       "      <td>2</td>\n",
       "      <td>0</td>\n",
       "    </tr>\n",
       "    <tr>\n",
       "      <th>4</th>\n",
       "      <td>1</td>\n",
       "      <td>28.0</td>\n",
       "      <td>26100.0</td>\n",
       "      <td>0</td>\n",
       "      <td>0</td>\n",
       "    </tr>\n",
       "  </tbody>\n",
       "</table>\n",
       "</div>"
      ],
      "text/plain": [
       "   Пол  Возраст  Зарплата  Члены семьи  Страховые выплаты\n",
       "0    1     41.0   49600.0            1                  0\n",
       "1    0     46.0   38000.0            1                  1\n",
       "2    0     29.0   21000.0            0                  0\n",
       "3    0     21.0   41700.0            2                  0\n",
       "4    1     28.0   26100.0            0                  0"
      ]
     },
     "metadata": {},
     "output_type": "display_data"
    }
   ],
   "source": [
    "display(data.info())\n",
    "display(data.head())"
   ]
  },
  {
   "cell_type": "markdown",
   "metadata": {},
   "source": [
    "Данные загружены, что можно сказать:\n",
    "1. Датасет состоит из 5 столбцов и 5000 строк. Пропуски в данных отсутствуют.\n",
    "2. К формату столбцов критических замечаний нет.\n",
    "\n",
    "Далее проведем проверку на дубликаты, в данном случае можно обойтись общей проверкой:"
   ]
  },
  {
   "cell_type": "code",
   "execution_count": 4,
   "metadata": {},
   "outputs": [
    {
     "data": {
      "text/plain": [
       "153"
      ]
     },
     "execution_count": 4,
     "metadata": {},
     "output_type": "execute_result"
    }
   ],
   "source": [
    "data.duplicated().sum()"
   ]
  },
  {
   "cell_type": "markdown",
   "metadata": {},
   "source": [
    "По итогам проверки выявлены 153 дубликата.\n",
    "Для принятия решения по их удалению данных недостаточно - в датасете нет ни одного идентификационного поля, по которому можно было бы опрееделить клиента, а среди представленных параметров вполне могут быть дубликаты. Поэтому оставляем как есть."
   ]
  },
  {
   "cell_type": "markdown",
   "metadata": {},
   "source": [
    "<div class=\"alert alert-success\">\n",
    "<b>Комментарий ревьюера №1</b> ✅\n",
    "    \n",
    "Отлично, данные загружены и изучены! Можно еще посмотреть на статистики по столбцам `describe()`\n",
    "</div>"
   ]
  },
  {
   "cell_type": "markdown",
   "metadata": {},
   "source": [
    "<div class=\"alert alert-info\">\n",
    "<b>Комментарий студента №1</b>\n",
    "    \n",
    "Так точно, как правило использую связку describe + boxplot, но в конкретно этой задаче я опустил многие проверки данных, чтобы не перегружать проект (при условии, что это все не влияет на его результат)\n",
    "\n",
    "</div>"
   ]
  },
  {
   "cell_type": "markdown",
   "metadata": {},
   "source": [
    "## Умножение матриц"
   ]
  },
  {
   "cell_type": "markdown",
   "metadata": {},
   "source": [
    "Здесь нам необходимо ответить на вопрос: Признаки умножают на обратимую матрицу. Изменится ли качество линейной регрессии? (Её можно обучить заново.)"
   ]
  },
  {
   "cell_type": "markdown",
   "metadata": {},
   "source": [
    "Обозначения:\n",
    "\n",
    "- $X$ — матрица признаков (нулевой столбец состоит из единиц)\n",
    "\n",
    "- $y$ — вектор целевого признака\n",
    "\n",
    "- $P$ — матрица, на которую умножаются признаки\n",
    "\n",
    "- $w$ — вектор весов линейной регрессии (нулевой элемент равен сдвигу)"
   ]
  },
  {
   "cell_type": "markdown",
   "metadata": {},
   "source": [
    "**Ответ:** Нет"
   ]
  },
  {
   "cell_type": "markdown",
   "metadata": {},
   "source": [
    "**Обоснование:** \n",
    "\n",
    "1) Для начала приведем наши формулы в рамках задачи:\n",
    "\n",
    "\n",
    "Предсказания:\n",
    "\n",
    "$$\n",
    "a = Xw\n",
    "$$\n",
    "\n",
    "\n",
    "Формула обучения:\n",
    "\n",
    "$$\n",
    "w = (X^T X)^{-1} X^T y\n",
    "$$\n",
    "\n",
    "\n",
    "В нашем случае, при умножении на обратимую матрицу формулы примут вид (добавление ..._c означает операции с перемноженной матрицей):\n",
    "\n",
    "$$\n",
    "a_c = (XP)w_c\n",
    "$$\n",
    "\n",
    "\n",
    "$$\n",
    "w_c = (X_c^T X_c)^{-1} X_c^T y\n",
    "$$\n",
    "\n",
    "Преобразование №1:\n",
    "$$\n",
    "w_c = ((XP)^T (XP))^{-1} (XP)^T y\n",
    "$$\n",
    "\n",
    "Преобразование №2:\n",
    "$$\n",
    "w_c = (P^TX^TXP)^{-1} P^TX^T y\n",
    "$$\n",
    "\n",
    "Преобразование №3:\n",
    "$$\n",
    "w_c = P^{-1}(X^TX)^{-1} (P^T)^{-1}P^TX^Ty\n",
    "$$\n",
    "\n",
    "Преобразование №4:\n",
    "$$\n",
    "w_c = P^{-1}(X^TX)^{-1} EX^Ty\n",
    "$$\n",
    "\n",
    "Преобразование №5:\n",
    "$$\n",
    "w_c = P^{-1}(X^TX)^{-1} X^Ty\n",
    "$$\n",
    "\n",
    "Преобразование №6:\n",
    "$$\n",
    "w_c = P^{-1}w\n",
    "$$"
   ]
  },
  {
   "cell_type": "markdown",
   "metadata": {},
   "source": [
    "<div class=\"alert alert-danger\">\n",
    "<b>Комментарий ревьюера №1</b> ❌\n",
    "    \n",
    "Преобразование №2 нужно проверить. Обрати внимание на порядок множителей. Это важно, поскольку операция умножения двух матриц выполнима только в том случае, если число столбцов в первом сомножителе равно числу строк во втором. Нужно использовать свойство матриц $(AB)^T=B^T A^T$\n",
    "\n",
    "</div>"
   ]
  },
  {
   "cell_type": "markdown",
   "metadata": {},
   "source": [
    "<div class=\"alert alert-info\">\n",
    "<b>Комментарий студента №1</b>\n",
    "    \n",
    "Поправил преобразование №2.\n",
    "\n",
    "Кстати, если есть какие-нибудь рекомендации доп. материалов по теме - буду очень рад. Я проходил через эту тему с некоторым скрипом, хотелось бы закрепить.\n",
    "    \n",
    "</div>"
   ]
  },
  {
   "cell_type": "markdown",
   "metadata": {},
   "source": [
    "<div class=\"alert alert-success\">\n",
    "<b>Комментарий ревьюера №2</b> ✅\n",
    "    \n",
    "Оставлю полезную ссылку на теорию по обратным матрицам: https://www.berdov.com/works/matrix/obratnaya-matrica/.\n",
    "</div>"
   ]
  },
  {
   "cell_type": "markdown",
   "metadata": {},
   "source": [
    "Итого, $$w_c$$ выражается через $$P, w$$ следовательно, $$a_c$$ можно выразить через $$X, P, w$$\n",
    "\n",
    "Получаем:\n",
    "$$\n",
    "a_c = X_cw_c\n",
    "$$\n",
    "\n",
    "$$\n",
    "a_c = (XP)P^{-1}w\n",
    "$$\n",
    "\n",
    "$$\n",
    "a_c = XPP^{-1}w = XEw = Xw = a\n",
    "$$"
   ]
  },
  {
   "cell_type": "markdown",
   "metadata": {},
   "source": [
    "<div class=\"alert alert-warning\">\n",
    "<b>Комментарий ревьюера №1</b> ⚠️\n",
    "    \n",
    "Здесь можно дописать доказательство равенства предсказаний\n",
    "    \n",
    "$a_c = XPP^{-1}w = XEw = Xw = a$\n",
    "</div>"
   ]
  },
  {
   "cell_type": "markdown",
   "metadata": {},
   "source": [
    "<div class=\"alert alert-info\">\n",
    "<b>Комментарий студента №1</b>\n",
    "    \n",
    "Да, получилось обрывочно, дополнил последнюю формулу.\n",
    "    \n",
    "</div>"
   ]
  },
  {
   "cell_type": "markdown",
   "metadata": {},
   "source": [
    "<div class=\"alert alert-success\">\n",
    "<b>Комментарий ревьюера №2</b> ✅\n",
    "    \n",
    "Так как при расчете метрики r2 используются истинный таргет и предсказания моделей, а ни то, ни другое не меняется, то и качество не изменится\n",
    "</div>"
   ]
  },
  {
   "cell_type": "markdown",
   "metadata": {},
   "source": [
    "Отсюда исходит предположение, что влияния на качество линейной регрессии быть не должно."
   ]
  },
  {
   "cell_type": "markdown",
   "metadata": {},
   "source": [
    "## Алгоритм преобразования"
   ]
  },
  {
   "cell_type": "markdown",
   "metadata": {},
   "source": [
    "### Описываем алгоритм"
   ]
  },
  {
   "cell_type": "markdown",
   "metadata": {},
   "source": [
    "**Алгоритм**\n",
    "В целом, здесь можно пойти двумя путями: написать class для регресии, или же воспользоваться базовой моделью linear regressor.\n",
    "Попробуем написать class.\n",
    "\n",
    "\n",
    "**Обучение**\n",
    "1) Создать переменную self.P со случайной обратимой матрицей, проверить на обратимость.\n",
    "\n",
    "2) Создать переменную X с произведением обучающей выборки на P.\n",
    "\n",
    "3) Добавить единичный столбец в X.\n",
    "\n",
    "4) Создать переменную y, содержащую целевой признак.\n",
    "\n",
    "5) Создать переменную w, рассчитывающуюся по формуле из прошлого пункта.\n",
    "\n",
    "6) Создать переменные self.w и self.w0, содержащие значения из переменной w.\n",
    "\n",
    "7) Реализовать механизм включения защиты данных в виде параметра.\n",
    "\n",
    "**Предсказание**\n",
    "1) Создать переменную X с произведением тестовой выборки на self.P.\n",
    "\n",
    "2) Реализовать механизм определения данных - с защитой или без.\n",
    "\n",
    "3) Вернуть результаты предсказания = X * self.w + self.w0."
   ]
  },
  {
   "cell_type": "markdown",
   "metadata": {},
   "source": [
    "**Обоснование**\n",
    "\n",
    "Для выполнения задачи, нам необходимо рассчитать метрику r2 на исходных данных и защищенных данных. Вышеописанный алгоритм позволяет выполнить работу модели в обоих случаях - благодаря дополнительному параметру включения защиты данных, а также соответствующих доработок в функциях обучения и предсказаний."
   ]
  },
  {
   "cell_type": "markdown",
   "metadata": {},
   "source": [
    "### Создаем класс для алгоритма"
   ]
  },
  {
   "cell_type": "code",
   "execution_count": 5,
   "metadata": {},
   "outputs": [],
   "source": [
    "class LinearRegression:\n",
    "    \n",
    "    def protect(self, protection):\n",
    "        if protection == True:\n",
    "            self.protect = True\n",
    "        else:\n",
    "            self.protect = False\n",
    "    \n",
    "    def fit(self, train_features, train_target):\n",
    "        d = 0\n",
    "        while d == 0:\n",
    "            self.P = np.random.normal(size=(len(train_features.columns), len(train_features.columns)))\n",
    "            d = np.linalg.det(self.P) \n",
    "        if self.protect == True:\n",
    "            X = train_features.dot(self.P)\n",
    "            X = np.concatenate((np.ones((X.shape[0], 1)), X), axis=1)\n",
    "        else:\n",
    "            X = np.concatenate((np.ones((train_features.shape[0], 1)), train_features), axis=1)\n",
    "        y = train_target\n",
    "        w = np.linalg.inv(X.T.dot(X)).dot(X.T).dot(y)\n",
    "        self.w = w[1:]\n",
    "        self.w0 = w[0]\n",
    "    \n",
    "    def predict(self, test_features):\n",
    "        if self.protect == True:\n",
    "            X = test_features.dot(self.P)\n",
    "        else:\n",
    "            X = test_features\n",
    "        return X.dot(self.w) + self.w0"
   ]
  },
  {
   "cell_type": "markdown",
   "metadata": {},
   "source": [
    "<div class=\"alert alert-success\">\n",
    "<b>Комментарий ревьюера №1</b> ✅\n",
    "    \n",
    "Хорошо, что проверяешь матрицу $P$ на обратимость\n",
    "</div>"
   ]
  },
  {
   "cell_type": "markdown",
   "metadata": {},
   "source": [
    "### Итоги по алгоритму преобразования"
   ]
  },
  {
   "cell_type": "markdown",
   "metadata": {},
   "source": [
    "Описан и реализован алгоритм преобразования путем создания отдельного класса регрессии, с функционалом, позволяющим работать как исходными данными, так и выполнить защиту данных и произвести расчеты уже на защищенных данных."
   ]
  },
  {
   "cell_type": "markdown",
   "metadata": {},
   "source": [
    "## Проверка алгоритма"
   ]
  },
  {
   "cell_type": "markdown",
   "metadata": {},
   "source": [
    "### Подготовим данные для модели"
   ]
  },
  {
   "cell_type": "code",
   "execution_count": 6,
   "metadata": {},
   "outputs": [
    {
     "data": {
      "text/plain": [
       "(5000, 4)"
      ]
     },
     "metadata": {},
     "output_type": "display_data"
    },
    {
     "data": {
      "text/plain": [
       "(5000,)"
      ]
     },
     "metadata": {},
     "output_type": "display_data"
    }
   ],
   "source": [
    "features = data.drop(['Страховые выплаты'], axis = 1)\n",
    "target = data['Страховые выплаты']\n",
    "display(features.shape, target.shape)"
   ]
  },
  {
   "cell_type": "code",
   "execution_count": 7,
   "metadata": {},
   "outputs": [
    {
     "data": {
      "text/plain": [
       "(3750, 4)"
      ]
     },
     "metadata": {},
     "output_type": "display_data"
    },
    {
     "data": {
      "text/plain": [
       "(1250, 4)"
      ]
     },
     "metadata": {},
     "output_type": "display_data"
    },
    {
     "data": {
      "text/plain": [
       "(3750,)"
      ]
     },
     "metadata": {},
     "output_type": "display_data"
    },
    {
     "data": {
      "text/plain": [
       "(1250,)"
      ]
     },
     "metadata": {},
     "output_type": "display_data"
    }
   ],
   "source": [
    "train_features, test_features, train_target, test_target = train_test_split(\n",
    "    features, target, test_size = 0.25, random_state = 12345) \n",
    "display(train_features.shape, test_features.shape, train_target.shape, test_target.shape)"
   ]
  },
  {
   "cell_type": "markdown",
   "metadata": {},
   "source": [
    "Выборки готовы для работы модели.\n",
    "В данном случае, сознательно не применяю стандартизацию данных, т.к. в контексте задачи она не имеет никакого влияния и смысла."
   ]
  },
  {
   "cell_type": "markdown",
   "metadata": {},
   "source": [
    "### Проверяем алгоритм"
   ]
  },
  {
   "cell_type": "markdown",
   "metadata": {},
   "source": [
    "### Рассчитываем R2 на исходных данных"
   ]
  },
  {
   "cell_type": "code",
   "execution_count": 8,
   "metadata": {},
   "outputs": [
    {
     "name": "stdout",
     "output_type": "stream",
     "text": [
      "Not protect r2_score: 0.4352275712702667\n"
     ]
    }
   ],
   "source": [
    "model = LinearRegression()\n",
    "model.protect(False)\n",
    "model.fit(train_features, train_target)\n",
    "predictions = model.predict(test_features)\n",
    "r2_not_protect = r2_score(test_target, predictions)\n",
    "print('Not protect r2_score:', r2_not_protect)"
   ]
  },
  {
   "cell_type": "markdown",
   "metadata": {},
   "source": [
    "### Рассчитываем R2 на преобразованных данных"
   ]
  },
  {
   "cell_type": "code",
   "execution_count": 9,
   "metadata": {},
   "outputs": [
    {
     "name": "stdout",
     "output_type": "stream",
     "text": [
      "Protected r2_score: 0.43522744229252475\n"
     ]
    }
   ],
   "source": [
    "model = LinearRegression()\n",
    "model.protect(True)\n",
    "model.fit(train_features, train_target)\n",
    "predictions = model.predict(test_features)\n",
    "r2_protect = r2_score(test_target, predictions)\n",
    "print('Protected r2_score:', r2_protect)"
   ]
  },
  {
   "cell_type": "markdown",
   "metadata": {},
   "source": [
    "### Подводим итог проверки"
   ]
  },
  {
   "cell_type": "markdown",
   "metadata": {},
   "source": [
    "Выведем отдельно метрики и разность между ними:"
   ]
  },
  {
   "cell_type": "code",
   "execution_count": 10,
   "metadata": {},
   "outputs": [
    {
     "name": "stdout",
     "output_type": "stream",
     "text": [
      "R2 на исходных данных: 0.4352275712702667\n",
      "R2 на защищенных данных: 0.43522744229252475\n",
      "Разница между метриками: 1.2897774193110223e-07\n"
     ]
    }
   ],
   "source": [
    "print('R2 на исходных данных:', r2_not_protect)\n",
    "print('R2 на защищенных данных:', r2_protect)\n",
    "print('Разница между метриками:', r2_not_protect - r2_protect)"
   ]
  },
  {
   "cell_type": "markdown",
   "metadata": {},
   "source": [
    "Разница между r2 стремится к 0, предполагаю, что здесь можно сделать вывод об отсутствии разницы в работе модели на исходных данных и защищенных данных."
   ]
  },
  {
   "cell_type": "markdown",
   "metadata": {},
   "source": [
    "## Итоги по проекту"
   ]
  },
  {
   "cell_type": "markdown",
   "metadata": {},
   "source": [
    "Итого, выполнено по проекту:\n",
    "1. Загружены необходимые библиотеки и данные. Данные изучены: на вход получили датасет из 5000 строк и 5 колонок, которые содержат параметры для модели. Пропусков не обнаружено. Дубликаты имеются, но, с учетом отсуствия каких-либо колонок с идентификационными данными, дубликаты решено оставить.\n",
    "\n",
    "2. Дан ответ с обоснованием на вопрос: \"Признаки умножают на обратимую матрицу. Изменится ли качество линейной регрессии? (Её можно обучить заново.)\". Ответ - не изменится.\n",
    "\n",
    "3. Описан и реализован алгоритм преобразования путем создания отдельного класса регрессии, с функционалом, позволяющим работать как исходными данными, так и выполнить защиту данных и произвести расчеты уже на защищенных данных.\n",
    "\n",
    "4. Подведены итоги испытания алгоритма:\\\n",
    "R2 на исходных данных: 0.4352275712702667\\\n",
    "R2 на защищенных данных: 0.4352271295541461\\\n",
    "Разница между метриками: 4.417161205694242e-07\\\n",
    "\n",
    "Разница между r2 стремится к 0, поэтому можно сделать вывод, что алгоритм работает корректно, метрики не имеют значимых отличий."
   ]
  },
  {
   "cell_type": "markdown",
   "metadata": {},
   "source": [
    "<div class=\"alert alert-block alert-success\">\n",
    "    \n",
    "**Комментарий ревьюера №1** ✅\n",
    "\n",
    "Верно, качество предсказания действительно не изменяется. Незначительное различие вызвано особенностями преобразования матриц и чисел с плавающей точкой. В случае домножения матрицы признаков на случайную обратимую матрицу можно обеспечить защиту данных. Можно также попробовать декодировать данные обратно.\n",
    "    \n",
    "Числовые значения лучше в выводе не выписывать, поскольку при каждом перезапуске они будут отличаться. Либо же можно установить сид рандома\n",
    "</div>"
   ]
  },
  {
   "cell_type": "markdown",
   "metadata": {},
   "source": [
    "## Чек-лист проверки"
   ]
  },
  {
   "cell_type": "markdown",
   "metadata": {},
   "source": [
    "Поставьте 'x' в выполненных пунктах. Далее нажмите Shift+Enter."
   ]
  },
  {
   "cell_type": "markdown",
   "metadata": {},
   "source": [
    "- [x]  Jupyter Notebook открыт\n",
    "- [x]  Весь код выполняется без ошибок\n",
    "- [x]  Ячейки с кодом расположены в порядке исполнения\n",
    "- [x]  Выполнен шаг 1: данные загружены\n",
    "- [x]  Выполнен шаг 2: получен ответ на вопрос об умножении матриц\n",
    "    - [x]  Указан правильный вариант ответа\n",
    "    - [x]  Вариант обоснован\n",
    "- [x]  Выполнен шаг 3: предложен алгоритм преобразования\n",
    "    - [x]  Алгоритм описан\n",
    "    - [x]  Алгоритм обоснован\n",
    "- [x]  Выполнен шаг 4: алгоритм проверен\n",
    "    - [x]  Алгоритм реализован\n",
    "    - [x]  Проведено сравнение качества моделей до и после преобразования"
   ]
  },
  {
   "cell_type": "markdown",
   "metadata": {},
   "source": [
    "<div style=\"border:solid purple 2px; padding: 20px\"> \n",
    "<b> <font color='purple' >   \n",
    "В целом, работа хорошая. Ты молодец! Остались небольшие доработки. Нужно поправить теоретическое доказательство. Доделывай и присылай на повторную проверку.\n",
    "\n",
    "Жду твоих исправлений 😊\n",
    "</font></b>\n",
    "</div>"
   ]
  },
  {
   "cell_type": "markdown",
   "metadata": {},
   "source": [
    "<div style=\"border:solid purple 2px; padding: 20px\"> \n",
    "<b> <font color='purple' >   \n",
    "    \n",
    "Отлично! Проект принят! 👏 Поздравляю и желаю удачи!\n",
    "    \n",
    "    \n",
    "Оставлю несколько дополнительных материалов. Обзоры по применению криптографии в машинном обучении: https://arxiv.org/pdf/1902.04109.pdf, https://www.researchgate.net/publication/342746786_Some_Applications_of_Machine_Learning_in_Cryptography\n",
    "Подробнее про аналогичный алгоритм: https://www.cs.cmu.edu/~rjhall/JOS_revised_May_31a.pdf\n",
    "</font></b>\n",
    "</div>"
   ]
  }
 ],
 "metadata": {
  "ExecuteTimeLog": [
   {
    "duration": 106,
    "start_time": "2024-06-18T18:36:16.248Z"
   },
   {
    "duration": 1165,
    "start_time": "2024-06-18T18:36:23.116Z"
   },
   {
    "duration": 80,
    "start_time": "2024-06-18T18:36:47.924Z"
   },
   {
    "duration": 14,
    "start_time": "2024-06-18T18:37:28.617Z"
   },
   {
    "duration": 23,
    "start_time": "2024-06-18T18:37:40.362Z"
   },
   {
    "duration": 19,
    "start_time": "2024-06-18T18:40:40.182Z"
   },
   {
    "duration": 6,
    "start_time": "2024-06-18T18:41:01.738Z"
   },
   {
    "duration": 56,
    "start_time": "2024-06-18T18:43:45.074Z"
   },
   {
    "duration": 104,
    "start_time": "2024-06-18T18:43:49.225Z"
   },
   {
    "duration": 44,
    "start_time": "2024-06-18T18:44:23.323Z"
   },
   {
    "duration": 1178,
    "start_time": "2024-06-19T06:19:18.055Z"
   },
   {
    "duration": 32,
    "start_time": "2024-06-19T06:19:19.235Z"
   },
   {
    "duration": 35,
    "start_time": "2024-06-19T06:19:19.269Z"
   },
   {
    "duration": 6,
    "start_time": "2024-06-19T06:19:19.305Z"
   },
   {
    "duration": 4,
    "start_time": "2024-06-19T06:19:44.120Z"
   },
   {
    "duration": 4,
    "start_time": "2024-06-19T06:19:50.689Z"
   },
   {
    "duration": 92,
    "start_time": "2024-06-19T06:20:22.607Z"
   },
   {
    "duration": 78,
    "start_time": "2024-06-19T06:20:29.007Z"
   },
   {
    "duration": 9,
    "start_time": "2024-06-19T09:37:27.508Z"
   },
   {
    "duration": 3,
    "start_time": "2024-06-19T09:38:51.226Z"
   },
   {
    "duration": 5,
    "start_time": "2024-06-19T09:39:51.992Z"
   },
   {
    "duration": 5,
    "start_time": "2024-06-19T09:40:19.366Z"
   },
   {
    "duration": 7,
    "start_time": "2024-06-19T09:40:45.566Z"
   },
   {
    "duration": 6,
    "start_time": "2024-06-19T09:41:06.921Z"
   },
   {
    "duration": 97,
    "start_time": "2024-06-19T09:42:58.142Z"
   },
   {
    "duration": 7,
    "start_time": "2024-06-19T09:43:09.266Z"
   },
   {
    "duration": 11,
    "start_time": "2024-06-19T09:43:36.638Z"
   },
   {
    "duration": 12,
    "start_time": "2024-06-19T09:52:53.341Z"
   },
   {
    "duration": 14,
    "start_time": "2024-06-19T09:53:07.630Z"
   },
   {
    "duration": 7,
    "start_time": "2024-06-19T09:53:38.974Z"
   },
   {
    "duration": 8,
    "start_time": "2024-06-19T09:53:41.710Z"
   },
   {
    "duration": 7,
    "start_time": "2024-06-19T09:54:40.847Z"
   },
   {
    "duration": 2,
    "start_time": "2024-06-19T09:55:12.619Z"
   },
   {
    "duration": 7,
    "start_time": "2024-06-19T09:55:13.177Z"
   },
   {
    "duration": 10,
    "start_time": "2024-06-19T09:55:19.929Z"
   },
   {
    "duration": 8,
    "start_time": "2024-06-19T09:55:45.701Z"
   },
   {
    "duration": 8,
    "start_time": "2024-06-19T09:55:53.239Z"
   },
   {
    "duration": 4,
    "start_time": "2024-06-19T09:56:58.555Z"
   },
   {
    "duration": 9,
    "start_time": "2024-06-19T09:57:01.844Z"
   },
   {
    "duration": 8,
    "start_time": "2024-06-19T09:57:32.355Z"
   },
   {
    "duration": 5,
    "start_time": "2024-06-19T09:59:33.415Z"
   },
   {
    "duration": 5,
    "start_time": "2024-06-19T10:00:14.623Z"
   },
   {
    "duration": 5,
    "start_time": "2024-06-19T10:02:05.175Z"
   },
   {
    "duration": 5,
    "start_time": "2024-06-19T10:02:20.502Z"
   },
   {
    "duration": 4,
    "start_time": "2024-06-19T10:02:25.711Z"
   },
   {
    "duration": 6,
    "start_time": "2024-06-19T10:02:31.253Z"
   },
   {
    "duration": 5,
    "start_time": "2024-06-19T10:02:49.551Z"
   },
   {
    "duration": 1276,
    "start_time": "2024-06-19T10:15:59.924Z"
   },
   {
    "duration": 31,
    "start_time": "2024-06-19T10:16:01.202Z"
   },
   {
    "duration": 68,
    "start_time": "2024-06-19T10:16:01.234Z"
   },
   {
    "duration": 38,
    "start_time": "2024-06-19T10:16:01.304Z"
   },
   {
    "duration": 58,
    "start_time": "2024-06-19T10:16:01.344Z"
   },
   {
    "duration": 134,
    "start_time": "2024-06-19T10:16:01.404Z"
   },
   {
    "duration": 85,
    "start_time": "2024-06-19T10:16:01.539Z"
   },
   {
    "duration": 36,
    "start_time": "2024-06-19T10:16:01.626Z"
   },
   {
    "duration": 15,
    "start_time": "2024-06-19T10:16:01.666Z"
   },
   {
    "duration": 98,
    "start_time": "2024-06-19T10:16:01.683Z"
   },
   {
    "duration": 1648,
    "start_time": "2024-06-19T10:44:40.229Z"
   },
   {
    "duration": 96,
    "start_time": "2024-06-19T10:44:41.878Z"
   },
   {
    "duration": 20,
    "start_time": "2024-06-19T10:44:41.975Z"
   },
   {
    "duration": 4,
    "start_time": "2024-06-19T10:44:41.997Z"
   },
   {
    "duration": 13,
    "start_time": "2024-06-19T10:44:42.002Z"
   },
   {
    "duration": 7,
    "start_time": "2024-06-19T10:44:42.016Z"
   },
   {
    "duration": 7,
    "start_time": "2024-06-19T10:44:42.024Z"
   },
   {
    "duration": 58,
    "start_time": "2024-06-19T10:44:42.032Z"
   },
   {
    "duration": 8,
    "start_time": "2024-06-19T10:44:42.091Z"
   },
   {
    "duration": 88,
    "start_time": "2024-06-19T10:44:42.101Z"
   },
   {
    "duration": 41,
    "start_time": "2024-06-19T11:00:53.823Z"
   },
   {
    "duration": 1055,
    "start_time": "2024-06-19T11:30:49.299Z"
   },
   {
    "duration": 1082,
    "start_time": "2024-06-19T11:39:28.293Z"
   },
   {
    "duration": 73,
    "start_time": "2024-06-19T11:39:29.377Z"
   },
   {
    "duration": 28,
    "start_time": "2024-06-19T11:39:29.452Z"
   },
   {
    "duration": 4,
    "start_time": "2024-06-19T11:39:29.482Z"
   },
   {
    "duration": 7,
    "start_time": "2024-06-19T11:39:29.488Z"
   },
   {
    "duration": 6,
    "start_time": "2024-06-19T11:39:29.496Z"
   },
   {
    "duration": 13,
    "start_time": "2024-06-19T11:39:29.503Z"
   },
   {
    "duration": 16,
    "start_time": "2024-06-19T11:39:29.518Z"
   },
   {
    "duration": 82,
    "start_time": "2024-06-19T11:39:29.536Z"
   },
   {
    "duration": 93,
    "start_time": "2024-06-19T11:39:29.620Z"
   },
   {
    "duration": 1754,
    "start_time": "2024-06-19T12:07:23.012Z"
   },
   {
    "duration": 27,
    "start_time": "2024-06-19T12:07:24.767Z"
   },
   {
    "duration": 20,
    "start_time": "2024-06-19T12:07:24.795Z"
   },
   {
    "duration": 32,
    "start_time": "2024-06-19T12:07:24.817Z"
   },
   {
    "duration": 41,
    "start_time": "2024-06-19T12:07:24.850Z"
   },
   {
    "duration": 22,
    "start_time": "2024-06-19T12:07:24.892Z"
   },
   {
    "duration": 98,
    "start_time": "2024-06-19T12:07:24.915Z"
   },
   {
    "duration": 25,
    "start_time": "2024-06-19T12:07:25.014Z"
   },
   {
    "duration": 50,
    "start_time": "2024-06-19T12:07:25.041Z"
   },
   {
    "duration": 97,
    "start_time": "2024-06-19T12:07:25.093Z"
   }
  ],
  "kernelspec": {
   "display_name": "Python 3 (ipykernel)",
   "language": "python",
   "name": "python3"
  },
  "language_info": {
   "codemirror_mode": {
    "name": "ipython",
    "version": 3
   },
   "file_extension": ".py",
   "mimetype": "text/x-python",
   "name": "python",
   "nbconvert_exporter": "python",
   "pygments_lexer": "ipython3",
   "version": "3.9.5"
  },
  "toc": {
   "base_numbering": 1,
   "nav_menu": {},
   "number_sections": true,
   "sideBar": true,
   "skip_h1_title": true,
   "title_cell": "Содержание",
   "title_sidebar": "Contents",
   "toc_cell": true,
   "toc_position": {},
   "toc_section_display": true,
   "toc_window_display": true
  }
 },
 "nbformat": 4,
 "nbformat_minor": 2
}
