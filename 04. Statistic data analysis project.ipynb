{
 "cells": [
  {
   "cell_type": "markdown",
   "id": "62d2a88a",
   "metadata": {},
   "source": [
    "<div style=\"border:solid lightblue 3px; background:#f7faf8; padding: 20px\">\n",
    "<b>Привет!</b>\n",
    "\n",
    "Меня зовут Владимир, и я буду проверять твой проект. Предлагаю общаться на «ты», но если это не совсем удобно для тебя — дай знать, и мы перейдем на \"вы\". Моя цель не указать на совершённые тобой ошибки, а поделиться своим опытом и помочь улучшить навыки. \n",
    "    \n",
    "Пожалуйста, не перемещай, не удаляй и не правь мои комментарии. Всё это поможет выполнить повторную проверку твоего проекта оперативнее.\n",
    "\n",
    "При проверке работы я буду отмечать комментарии цветом и примечанием. В конце заголовка комментария указан номер итерации проверки.\n",
    "\n",
    "<div class=\"alert alert-block alert-danger\" style=\"border-radius: 15px; box-shadow: 4px 4px 4px; border: 1px solid \">\n",
    "<h2> Комментарий ревьюера v_1: <a class=\"tocSkip\"></h2>\n",
    "    \n",
    "❌ Комментарии такого цвета нужно исправить, иначе проект не будет принят. \n",
    "</div>\n",
    "\n",
    "<div class=\"alert alert-warning\" style=\"border-radius: 15px; box-shadow: 4px 4px 4px; border: 1px solid \">\n",
    "<h2> Комментарий ревьюера v_1: <a class=\"tocSkip\"> </h2>\n",
    "    \n",
    "⚠️ Такой комментарий является рекомендацией или советом. Mожешь учесть их при выполнении задания.\n",
    "</div>\n",
    "\n",
    "<div class=\"alert alert-success\" style=\"border-radius: 15px; box-shadow: 4px 4px 4px; border: 1px solid \">\n",
    "<h2> Комментарий ревьюера v_1: <a class=\"tocSkip\"> </h2>\n",
    "    \n",
    "✅ Так выделены все остальные комментарии, включая позитивные моменты, пояснения и рассуждения.\n",
    "</div>  \n",
    "    \n",
    "Давай работать над проектом в диалоге: если ты что-то меняешь в проекте — пиши об этом в комментариях, например, с помощью такого кода в markdown ячейке:"
   ]
  },
  {
   "cell_type": "markdown",
   "id": "1e35bb44",
   "metadata": {},
   "source": [
    "<div class=\"alert alert-info\"  style=\"border-radius: 15px; box-shadow: 4px 4px 4px; border: 1px solid \">\n",
    "    \n",
    "<h2>Комментарий студента v_1: <a class=\"tocSkip\"> </h2>\n",
    "\n",
    "Ок.   "
   ]
  },
  {
   "cell_type": "markdown",
   "id": "014a6a76",
   "metadata": {},
   "source": [
    "<div class=\"alert alert-info\"  style=\"border-radius: 15px; box-shadow: 4px 4px 4px; border: 1px solid \">\n",
    "    \n",
    "<h2>Комментарий студента v_1: <a class=\"tocSkip\"> </h2>\n",
    "\n",
    "Владимир, привет! Очень приятно. Конечно, давай на \"ты\".\n",
    "\n",
    "Спасибо большое за ценные советы и рекомендации!"
   ]
  },
  {
   "cell_type": "markdown",
   "id": "485ebca9",
   "metadata": {},
   "source": [
    "**Проект: статистический анализ данных.\\\n",
    "Краткое описание задачи - на основе предоставленных датасетов о поездках и клиентах сервиса по кикшерингу произвести исследование и предобработку данных для проверки нескольких гипотез по развитию бизнеса**\n",
    "\n",
    "На входе имеем 3 набора данных:\\\n",
    "users_go.csv - данные по пользователям\\\n",
    "rides_go.csv - данные по поездкам\\\n",
    "subscriptions_go.csv - данные по подпискам\n",
    "\n",
    "Основные блоки работ:\n",
    "\n",
    "1) Загрузка необходимых библиотек\\\n",
    "2) Загрузка, проверка и предобработка данных\\\n",
    "3) Исследование данных, формирование основных инсайдов\\\n",
    "4) Создание аггрегированной таблицы для расчёта и формирования выводов по доходам\\\n",
    "5) Работа с гипотезами"
   ]
  },
  {
   "cell_type": "markdown",
   "id": "85d1fb32",
   "metadata": {},
   "source": [
    "<div class=\"alert alert-warning\" style=\"border-radius: 15px; box-shadow: 4px 4px 4px; border: 1px solid \">\n",
    "<h2> Комментарий ревьюера v_1: <a class=\"tocSkip\"> </h2>\n",
    "    \n",
    "⚠️ Есть вступление. Оно обязательно должно быть в работе. Но еще можно добавить план работы"
   ]
  },
  {
   "cell_type": "markdown",
   "id": "2d43f474",
   "metadata": {},
   "source": [
    "<div class=\"alert alert-info\"  style=\"border-radius: 15px; box-shadow: 4px 4px 4px; border: 1px solid \">\n",
    "    \n",
    "<h2>Комментарий студента v_1: <a class=\"tocSkip\"> </h2>\n",
    "\n",
    "Да, явно не будет лишним, дополняю:\n",
    "\n",
    "Основные блоки работ:\n",
    "1) Загрузка необходимых библиотек\\\n",
    "2) Загрузка, проверка и предобработка данных\\\n",
    "3) Исследование данных, формирование основных инсайдов\\\n",
    "4) Создание аггрегированной таблицы для расчёта и формирования выводов по доходам\\\n",
    "5) Работа с гипотезами"
   ]
  },
  {
   "cell_type": "markdown",
   "id": "c9fe6486",
   "metadata": {},
   "source": [
    "**0. Импортируем библиотеки, которые могут понадобиться в работе:**"
   ]
  },
  {
   "cell_type": "code",
   "execution_count": 1,
   "id": "72576667",
   "metadata": {},
   "outputs": [],
   "source": [
    "import pandas as pd"
   ]
  },
  {
   "cell_type": "code",
   "execution_count": 2,
   "id": "fcf91cd3",
   "metadata": {},
   "outputs": [],
   "source": [
    "import matplotlib.pyplot as plt"
   ]
  },
  {
   "cell_type": "code",
   "execution_count": 3,
   "id": "192ea2fa",
   "metadata": {},
   "outputs": [],
   "source": [
    "from scipy import stats as st\n",
    "from scipy.stats import binom, poisson"
   ]
  },
  {
   "cell_type": "code",
   "execution_count": 4,
   "id": "e0bc55bc",
   "metadata": {},
   "outputs": [],
   "source": [
    "import seaborn as sns"
   ]
  },
  {
   "cell_type": "code",
   "execution_count": 5,
   "id": "93633e95",
   "metadata": {},
   "outputs": [],
   "source": [
    "import numpy as np"
   ]
  },
  {
   "cell_type": "code",
   "execution_count": 6,
   "id": "0345a8e1",
   "metadata": {},
   "outputs": [],
   "source": [
    "from math import sqrt, factorial"
   ]
  },
  {
   "cell_type": "markdown",
   "id": "c42cbe00",
   "metadata": {},
   "source": [
    "#### Шаг 1. Загрузка данных"
   ]
  },
  {
   "cell_type": "markdown",
   "id": "4f33ade7",
   "metadata": {},
   "source": [
    "1.1. Загружаем наши данные в соответствующие датасеты:\\\n",
    "*users - данные по пользователям\\\n",
    "*rides - данные по поездкам\\\n",
    "*subscriptions - данные по подпискам"
   ]
  },
  {
   "cell_type": "code",
   "execution_count": 7,
   "id": "eff9f206",
   "metadata": {},
   "outputs": [],
   "source": [
    "users = pd.read_csv('/datasets/users_go.csv')\n",
    "rides = pd.read_csv('/datasets/rides_go.csv')\n",
    "subscriptions = pd.read_csv('/datasets/subscriptions_go.csv')"
   ]
  },
  {
   "cell_type": "markdown",
   "id": "47bbc3d0",
   "metadata": {},
   "source": [
    "1.2. Данные загружены, теперь ознакомимся с общей информацией по датасетам и взглянем на некоторые строки."
   ]
  },
  {
   "cell_type": "markdown",
   "id": "c327523e",
   "metadata": {},
   "source": [
    "1.2.1. Начнем с users:"
   ]
  },
  {
   "cell_type": "code",
   "execution_count": 8,
   "id": "2391d9e8",
   "metadata": {},
   "outputs": [
    {
     "data": {
      "text/html": [
       "<div>\n",
       "<style scoped>\n",
       "    .dataframe tbody tr th:only-of-type {\n",
       "        vertical-align: middle;\n",
       "    }\n",
       "\n",
       "    .dataframe tbody tr th {\n",
       "        vertical-align: top;\n",
       "    }\n",
       "\n",
       "    .dataframe thead th {\n",
       "        text-align: right;\n",
       "    }\n",
       "</style>\n",
       "<table border=\"1\" class=\"dataframe\">\n",
       "  <thead>\n",
       "    <tr style=\"text-align: right;\">\n",
       "      <th></th>\n",
       "      <th>user_id</th>\n",
       "      <th>name</th>\n",
       "      <th>age</th>\n",
       "      <th>city</th>\n",
       "      <th>subscription_type</th>\n",
       "    </tr>\n",
       "  </thead>\n",
       "  <tbody>\n",
       "    <tr>\n",
       "      <th>0</th>\n",
       "      <td>1</td>\n",
       "      <td>Кира</td>\n",
       "      <td>22</td>\n",
       "      <td>Тюмень</td>\n",
       "      <td>ultra</td>\n",
       "    </tr>\n",
       "    <tr>\n",
       "      <th>1</th>\n",
       "      <td>2</td>\n",
       "      <td>Станислав</td>\n",
       "      <td>31</td>\n",
       "      <td>Омск</td>\n",
       "      <td>ultra</td>\n",
       "    </tr>\n",
       "    <tr>\n",
       "      <th>2</th>\n",
       "      <td>3</td>\n",
       "      <td>Алексей</td>\n",
       "      <td>20</td>\n",
       "      <td>Москва</td>\n",
       "      <td>ultra</td>\n",
       "    </tr>\n",
       "    <tr>\n",
       "      <th>3</th>\n",
       "      <td>4</td>\n",
       "      <td>Константин</td>\n",
       "      <td>26</td>\n",
       "      <td>Ростов-на-Дону</td>\n",
       "      <td>ultra</td>\n",
       "    </tr>\n",
       "    <tr>\n",
       "      <th>4</th>\n",
       "      <td>5</td>\n",
       "      <td>Адель</td>\n",
       "      <td>28</td>\n",
       "      <td>Омск</td>\n",
       "      <td>ultra</td>\n",
       "    </tr>\n",
       "  </tbody>\n",
       "</table>\n",
       "</div>"
      ],
      "text/plain": [
       "   user_id        name  age            city subscription_type\n",
       "0        1        Кира   22          Тюмень             ultra\n",
       "1        2   Станислав   31            Омск             ultra\n",
       "2        3     Алексей   20          Москва             ultra\n",
       "3        4  Константин   26  Ростов-на-Дону             ultra\n",
       "4        5       Адель   28            Омск             ultra"
      ]
     },
     "metadata": {},
     "output_type": "display_data"
    },
    {
     "name": "stdout",
     "output_type": "stream",
     "text": [
      "<class 'pandas.core.frame.DataFrame'>\n",
      "RangeIndex: 1565 entries, 0 to 1564\n",
      "Data columns (total 5 columns):\n",
      " #   Column             Non-Null Count  Dtype \n",
      "---  ------             --------------  ----- \n",
      " 0   user_id            1565 non-null   int64 \n",
      " 1   name               1565 non-null   object\n",
      " 2   age                1565 non-null   int64 \n",
      " 3   city               1565 non-null   object\n",
      " 4   subscription_type  1565 non-null   object\n",
      "dtypes: int64(2), object(3)\n",
      "memory usage: 61.3+ KB\n"
     ]
    }
   ],
   "source": [
    "display(users.head())\n",
    "users.info()"
   ]
  },
  {
   "cell_type": "markdown",
   "id": "49a7fe14",
   "metadata": {},
   "source": [
    "*Вывод по users:*\n",
    "1) данные без пропусков\\\n",
    "2) тип данных для каждого поля корректен\\\n",
    "3) каких-либо доработок датафрейма не требуется"
   ]
  },
  {
   "cell_type": "markdown",
   "id": "63415e78",
   "metadata": {},
   "source": [
    "1.2.2. Теперь взглянем на rides:"
   ]
  },
  {
   "cell_type": "code",
   "execution_count": 9,
   "id": "a2b88771",
   "metadata": {},
   "outputs": [
    {
     "data": {
      "text/html": [
       "<div>\n",
       "<style scoped>\n",
       "    .dataframe tbody tr th:only-of-type {\n",
       "        vertical-align: middle;\n",
       "    }\n",
       "\n",
       "    .dataframe tbody tr th {\n",
       "        vertical-align: top;\n",
       "    }\n",
       "\n",
       "    .dataframe thead th {\n",
       "        text-align: right;\n",
       "    }\n",
       "</style>\n",
       "<table border=\"1\" class=\"dataframe\">\n",
       "  <thead>\n",
       "    <tr style=\"text-align: right;\">\n",
       "      <th></th>\n",
       "      <th>user_id</th>\n",
       "      <th>distance</th>\n",
       "      <th>duration</th>\n",
       "      <th>date</th>\n",
       "    </tr>\n",
       "  </thead>\n",
       "  <tbody>\n",
       "    <tr>\n",
       "      <th>0</th>\n",
       "      <td>1</td>\n",
       "      <td>4409.919140</td>\n",
       "      <td>25.599769</td>\n",
       "      <td>2021-01-01</td>\n",
       "    </tr>\n",
       "    <tr>\n",
       "      <th>1</th>\n",
       "      <td>1</td>\n",
       "      <td>2617.592153</td>\n",
       "      <td>15.816871</td>\n",
       "      <td>2021-01-18</td>\n",
       "    </tr>\n",
       "    <tr>\n",
       "      <th>2</th>\n",
       "      <td>1</td>\n",
       "      <td>754.159807</td>\n",
       "      <td>6.232113</td>\n",
       "      <td>2021-04-20</td>\n",
       "    </tr>\n",
       "    <tr>\n",
       "      <th>3</th>\n",
       "      <td>1</td>\n",
       "      <td>2694.783254</td>\n",
       "      <td>18.511000</td>\n",
       "      <td>2021-08-11</td>\n",
       "    </tr>\n",
       "    <tr>\n",
       "      <th>4</th>\n",
       "      <td>1</td>\n",
       "      <td>4028.687306</td>\n",
       "      <td>26.265803</td>\n",
       "      <td>2021-08-28</td>\n",
       "    </tr>\n",
       "  </tbody>\n",
       "</table>\n",
       "</div>"
      ],
      "text/plain": [
       "   user_id     distance   duration        date\n",
       "0        1  4409.919140  25.599769  2021-01-01\n",
       "1        1  2617.592153  15.816871  2021-01-18\n",
       "2        1   754.159807   6.232113  2021-04-20\n",
       "3        1  2694.783254  18.511000  2021-08-11\n",
       "4        1  4028.687306  26.265803  2021-08-28"
      ]
     },
     "metadata": {},
     "output_type": "display_data"
    },
    {
     "name": "stdout",
     "output_type": "stream",
     "text": [
      "<class 'pandas.core.frame.DataFrame'>\n",
      "RangeIndex: 18068 entries, 0 to 18067\n",
      "Data columns (total 4 columns):\n",
      " #   Column    Non-Null Count  Dtype  \n",
      "---  ------    --------------  -----  \n",
      " 0   user_id   18068 non-null  int64  \n",
      " 1   distance  18068 non-null  float64\n",
      " 2   duration  18068 non-null  float64\n",
      " 3   date      18068 non-null  object \n",
      "dtypes: float64(2), int64(1), object(1)\n",
      "memory usage: 564.8+ KB\n"
     ]
    }
   ],
   "source": [
    "display(rides.head())\n",
    "rides.info()"
   ]
  },
  {
   "cell_type": "markdown",
   "id": "15e56fdb",
   "metadata": {},
   "source": [
    "*Вывод по rides*\\\n",
    "В целом здесь также нет явных проблем с данными, но в дальнейшем следует изменить тип данных поля date с object на datetime."
   ]
  },
  {
   "cell_type": "markdown",
   "id": "a59a2302",
   "metadata": {},
   "source": [
    "1.2.3. Завершаем ознакомление датасетом subscriptions"
   ]
  },
  {
   "cell_type": "code",
   "execution_count": 10,
   "id": "4eca3d43",
   "metadata": {},
   "outputs": [
    {
     "data": {
      "text/html": [
       "<div>\n",
       "<style scoped>\n",
       "    .dataframe tbody tr th:only-of-type {\n",
       "        vertical-align: middle;\n",
       "    }\n",
       "\n",
       "    .dataframe tbody tr th {\n",
       "        vertical-align: top;\n",
       "    }\n",
       "\n",
       "    .dataframe thead th {\n",
       "        text-align: right;\n",
       "    }\n",
       "</style>\n",
       "<table border=\"1\" class=\"dataframe\">\n",
       "  <thead>\n",
       "    <tr style=\"text-align: right;\">\n",
       "      <th></th>\n",
       "      <th>subscription_type</th>\n",
       "      <th>minute_price</th>\n",
       "      <th>start_ride_price</th>\n",
       "      <th>subscription_fee</th>\n",
       "    </tr>\n",
       "  </thead>\n",
       "  <tbody>\n",
       "    <tr>\n",
       "      <th>0</th>\n",
       "      <td>free</td>\n",
       "      <td>8</td>\n",
       "      <td>50</td>\n",
       "      <td>0</td>\n",
       "    </tr>\n",
       "    <tr>\n",
       "      <th>1</th>\n",
       "      <td>ultra</td>\n",
       "      <td>6</td>\n",
       "      <td>0</td>\n",
       "      <td>199</td>\n",
       "    </tr>\n",
       "  </tbody>\n",
       "</table>\n",
       "</div>"
      ],
      "text/plain": [
       "  subscription_type  minute_price  start_ride_price  subscription_fee\n",
       "0              free             8                50                 0\n",
       "1             ultra             6                 0               199"
      ]
     },
     "metadata": {},
     "output_type": "display_data"
    },
    {
     "name": "stdout",
     "output_type": "stream",
     "text": [
      "<class 'pandas.core.frame.DataFrame'>\n",
      "RangeIndex: 2 entries, 0 to 1\n",
      "Data columns (total 4 columns):\n",
      " #   Column             Non-Null Count  Dtype \n",
      "---  ------             --------------  ----- \n",
      " 0   subscription_type  2 non-null      object\n",
      " 1   minute_price       2 non-null      int64 \n",
      " 2   start_ride_price   2 non-null      int64 \n",
      " 3   subscription_fee   2 non-null      int64 \n",
      "dtypes: int64(3), object(1)\n",
      "memory usage: 192.0+ bytes\n"
     ]
    }
   ],
   "source": [
    "display(subscriptions.head())\n",
    "subscriptions.info()"
   ]
  },
  {
   "cell_type": "markdown",
   "id": "831071c5",
   "metadata": {},
   "source": [
    "*Вывод по subscriptions*\\\n",
    "В таблице всего 2 строки, содержащие параметры подписок, никаких доп. действий здесь не требуется."
   ]
  },
  {
   "cell_type": "markdown",
   "id": "f3e4da21",
   "metadata": {},
   "source": [
    "*Общий вывод по этапу \"Загрузка данных\":*\\\n",
    "В целом на данном этапе нет нареканий по составу данных в перечисленных датафреймах (кроме типа данных поля date в rides)"
   ]
  },
  {
   "cell_type": "markdown",
   "id": "e95ebca7",
   "metadata": {},
   "source": [
    "#### Шаг 2. Предобработка данных"
   ]
  },
  {
   "cell_type": "markdown",
   "id": "63ee19de",
   "metadata": {},
   "source": [
    "2.1. Первым делом, приведем столбец date в соответсвующий тип:"
   ]
  },
  {
   "cell_type": "code",
   "execution_count": 11,
   "id": "59fdf2fb",
   "metadata": {},
   "outputs": [
    {
     "name": "stdout",
     "output_type": "stream",
     "text": [
      "<class 'pandas.core.frame.DataFrame'>\n",
      "RangeIndex: 18068 entries, 0 to 18067\n",
      "Data columns (total 4 columns):\n",
      " #   Column    Non-Null Count  Dtype         \n",
      "---  ------    --------------  -----         \n",
      " 0   user_id   18068 non-null  int64         \n",
      " 1   distance  18068 non-null  float64       \n",
      " 2   duration  18068 non-null  float64       \n",
      " 3   date      18068 non-null  datetime64[ns]\n",
      "dtypes: datetime64[ns](1), float64(2), int64(1)\n",
      "memory usage: 564.8 KB\n"
     ]
    },
    {
     "data": {
      "text/html": [
       "<div>\n",
       "<style scoped>\n",
       "    .dataframe tbody tr th:only-of-type {\n",
       "        vertical-align: middle;\n",
       "    }\n",
       "\n",
       "    .dataframe tbody tr th {\n",
       "        vertical-align: top;\n",
       "    }\n",
       "\n",
       "    .dataframe thead th {\n",
       "        text-align: right;\n",
       "    }\n",
       "</style>\n",
       "<table border=\"1\" class=\"dataframe\">\n",
       "  <thead>\n",
       "    <tr style=\"text-align: right;\">\n",
       "      <th></th>\n",
       "      <th>user_id</th>\n",
       "      <th>distance</th>\n",
       "      <th>duration</th>\n",
       "      <th>date</th>\n",
       "    </tr>\n",
       "  </thead>\n",
       "  <tbody>\n",
       "    <tr>\n",
       "      <th>0</th>\n",
       "      <td>1</td>\n",
       "      <td>4409.919140</td>\n",
       "      <td>25.599769</td>\n",
       "      <td>2021-01-01</td>\n",
       "    </tr>\n",
       "    <tr>\n",
       "      <th>1</th>\n",
       "      <td>1</td>\n",
       "      <td>2617.592153</td>\n",
       "      <td>15.816871</td>\n",
       "      <td>2021-01-18</td>\n",
       "    </tr>\n",
       "    <tr>\n",
       "      <th>2</th>\n",
       "      <td>1</td>\n",
       "      <td>754.159807</td>\n",
       "      <td>6.232113</td>\n",
       "      <td>2021-04-20</td>\n",
       "    </tr>\n",
       "    <tr>\n",
       "      <th>3</th>\n",
       "      <td>1</td>\n",
       "      <td>2694.783254</td>\n",
       "      <td>18.511000</td>\n",
       "      <td>2021-08-11</td>\n",
       "    </tr>\n",
       "    <tr>\n",
       "      <th>4</th>\n",
       "      <td>1</td>\n",
       "      <td>4028.687306</td>\n",
       "      <td>26.265803</td>\n",
       "      <td>2021-08-28</td>\n",
       "    </tr>\n",
       "  </tbody>\n",
       "</table>\n",
       "</div>"
      ],
      "text/plain": [
       "   user_id     distance   duration       date\n",
       "0        1  4409.919140  25.599769 2021-01-01\n",
       "1        1  2617.592153  15.816871 2021-01-18\n",
       "2        1   754.159807   6.232113 2021-04-20\n",
       "3        1  2694.783254  18.511000 2021-08-11\n",
       "4        1  4028.687306  26.265803 2021-08-28"
      ]
     },
     "metadata": {},
     "output_type": "display_data"
    }
   ],
   "source": [
    "rides['date'] = pd.to_datetime(rides['date'])\n",
    "rides.info()\n",
    "display(rides.head())"
   ]
  },
  {
   "cell_type": "markdown",
   "id": "fef0aa75",
   "metadata": {},
   "source": [
    "Для перепроверки вызвали методы info и head - видим, что тип данных изменен на корректный."
   ]
  },
  {
   "cell_type": "markdown",
   "id": "c5659122",
   "metadata": {},
   "source": [
    "2.2. Добавим дополнительный столбец month в rides:"
   ]
  },
  {
   "cell_type": "code",
   "execution_count": 12,
   "id": "ca55f507",
   "metadata": {
    "scrolled": true
   },
   "outputs": [
    {
     "data": {
      "text/html": [
       "<div>\n",
       "<style scoped>\n",
       "    .dataframe tbody tr th:only-of-type {\n",
       "        vertical-align: middle;\n",
       "    }\n",
       "\n",
       "    .dataframe tbody tr th {\n",
       "        vertical-align: top;\n",
       "    }\n",
       "\n",
       "    .dataframe thead th {\n",
       "        text-align: right;\n",
       "    }\n",
       "</style>\n",
       "<table border=\"1\" class=\"dataframe\">\n",
       "  <thead>\n",
       "    <tr style=\"text-align: right;\">\n",
       "      <th></th>\n",
       "      <th>user_id</th>\n",
       "      <th>distance</th>\n",
       "      <th>duration</th>\n",
       "      <th>date</th>\n",
       "      <th>month</th>\n",
       "    </tr>\n",
       "  </thead>\n",
       "  <tbody>\n",
       "    <tr>\n",
       "      <th>0</th>\n",
       "      <td>1</td>\n",
       "      <td>4409.919140</td>\n",
       "      <td>25.599769</td>\n",
       "      <td>2021-01-01</td>\n",
       "      <td>1</td>\n",
       "    </tr>\n",
       "    <tr>\n",
       "      <th>1</th>\n",
       "      <td>1</td>\n",
       "      <td>2617.592153</td>\n",
       "      <td>15.816871</td>\n",
       "      <td>2021-01-18</td>\n",
       "      <td>1</td>\n",
       "    </tr>\n",
       "    <tr>\n",
       "      <th>2</th>\n",
       "      <td>1</td>\n",
       "      <td>754.159807</td>\n",
       "      <td>6.232113</td>\n",
       "      <td>2021-04-20</td>\n",
       "      <td>4</td>\n",
       "    </tr>\n",
       "    <tr>\n",
       "      <th>3</th>\n",
       "      <td>1</td>\n",
       "      <td>2694.783254</td>\n",
       "      <td>18.511000</td>\n",
       "      <td>2021-08-11</td>\n",
       "      <td>8</td>\n",
       "    </tr>\n",
       "    <tr>\n",
       "      <th>4</th>\n",
       "      <td>1</td>\n",
       "      <td>4028.687306</td>\n",
       "      <td>26.265803</td>\n",
       "      <td>2021-08-28</td>\n",
       "      <td>8</td>\n",
       "    </tr>\n",
       "  </tbody>\n",
       "</table>\n",
       "</div>"
      ],
      "text/plain": [
       "   user_id     distance   duration       date  month\n",
       "0        1  4409.919140  25.599769 2021-01-01      1\n",
       "1        1  2617.592153  15.816871 2021-01-18      1\n",
       "2        1   754.159807   6.232113 2021-04-20      4\n",
       "3        1  2694.783254  18.511000 2021-08-11      8\n",
       "4        1  4028.687306  26.265803 2021-08-28      8"
      ]
     },
     "metadata": {},
     "output_type": "display_data"
    }
   ],
   "source": [
    "rides['month'] = rides['date'].dt.month\n",
    "display(rides.head())"
   ]
  },
  {
   "cell_type": "markdown",
   "id": "77f8a4ff",
   "metadata": {},
   "source": [
    "Выводим первые 5 записей и видим, что номер месяца добавлен корректно."
   ]
  },
  {
   "cell_type": "markdown",
   "id": "1157feaa",
   "metadata": {},
   "source": [
    "<div class=\"alert alert-warning\" style=\"border-radius: 15px; box-shadow: 4px 4px 4px; border: 1px solid \">\n",
    "<h2> Комментарий ревьюера v_1: <a class=\"tocSkip\"> </h2>\n",
    "    \n",
    "⚠️ Желательно еще проверить, за какой период имеются данные. Создается столбец с номерами месяцев, если здесь несколько лет, следует это учитывать."
   ]
  },
  {
   "cell_type": "code",
   "execution_count": 13,
   "id": "c8b683b1",
   "metadata": {},
   "outputs": [
    {
     "name": "stderr",
     "output_type": "stream",
     "text": [
      "/tmp/ipykernel_351/1196740397.py:1: FutureWarning: Treating datetime data as categorical rather than numeric in `.describe` is deprecated and will be removed in a future version of pandas. Specify `datetime_is_numeric=True` to silence this warning and adopt the future behavior now.\n",
      "  display(rides['date'].describe())\n"
     ]
    },
    {
     "data": {
      "text/plain": [
       "count                   18068\n",
       "unique                    364\n",
       "top       2021-12-22 00:00:00\n",
       "freq                       72\n",
       "first     2021-01-01 00:00:00\n",
       "last      2021-12-30 00:00:00\n",
       "Name: date, dtype: object"
      ]
     },
     "metadata": {},
     "output_type": "display_data"
    }
   ],
   "source": [
    "display(rides['date'].describe())"
   ]
  },
  {
   "cell_type": "markdown",
   "id": "f3633488",
   "metadata": {},
   "source": [
    "<div class=\"alert alert-info\"  style=\"border-radius: 15px; box-shadow: 4px 4px 4px; border: 1px solid \">\n",
    "    \n",
    "<h2>Комментарий студента v_1: <a class=\"tocSkip\"> </h2>\n",
    "\n",
    "Действительно, годы могут быть разные и добавленные месяцы в этом случае нельзя воспринимать корректно.\n",
    "Выше дополнительно воспользовался методом describe() к столцу rides['date'], который показал, что данные у нас с 01.01.21 по 30.12.2022, кол-во уникальных значений - 364, что укладывается в обозначенный период."
   ]
  },
  {
   "cell_type": "markdown",
   "id": "a73e63dd",
   "metadata": {},
   "source": [
    "<div class=\"alert alert-success\" style=\"border-radius: 15px; box-shadow: 4px 4px 4px; border: 1px solid \">\n",
    "<h2> Комментарий ревьюера v_2: <a class=\"tocSkip\"> </h2>\n",
    "    \n",
    "✅ Также можно проверить через поиск минимального и максимального значения или так:\n",
    "    \n",
    "    датафрейм['date'].dt.year.unique()    "
   ]
  },
  {
   "cell_type": "markdown",
   "id": "8a413f7a",
   "metadata": {},
   "source": [
    "2.3. На этапе загрузки данных увидели, что пропущенные значения в датафреймах отсутствуют, но на всякий случай проверим повторно."
   ]
  },
  {
   "cell_type": "code",
   "execution_count": 14,
   "id": "6f4f98ff",
   "metadata": {},
   "outputs": [
    {
     "data": {
      "text/plain": [
       "user_id              0\n",
       "name                 0\n",
       "age                  0\n",
       "city                 0\n",
       "subscription_type    0\n",
       "dtype: int64"
      ]
     },
     "execution_count": 14,
     "metadata": {},
     "output_type": "execute_result"
    }
   ],
   "source": [
    "users.isna().sum()"
   ]
  },
  {
   "cell_type": "code",
   "execution_count": 15,
   "id": "893084ec",
   "metadata": {},
   "outputs": [
    {
     "data": {
      "text/plain": [
       "user_id     0\n",
       "distance    0\n",
       "duration    0\n",
       "date        0\n",
       "month       0\n",
       "dtype: int64"
      ]
     },
     "execution_count": 15,
     "metadata": {},
     "output_type": "execute_result"
    }
   ],
   "source": [
    "rides.isna().sum()"
   ]
  },
  {
   "cell_type": "markdown",
   "id": "352f3704",
   "metadata": {},
   "source": [
    "Пропущенные значения не обнаружены."
   ]
  },
  {
   "cell_type": "markdown",
   "id": "c5f279b5",
   "metadata": {},
   "source": [
    "2.4. Проверка на дубликаты"
   ]
  },
  {
   "cell_type": "code",
   "execution_count": 16,
   "id": "31e2019c",
   "metadata": {},
   "outputs": [
    {
     "data": {
      "text/plain": [
       "31"
      ]
     },
     "execution_count": 16,
     "metadata": {},
     "output_type": "execute_result"
    }
   ],
   "source": [
    "users.duplicated().sum()"
   ]
  },
  {
   "cell_type": "code",
   "execution_count": 17,
   "id": "8955ce15",
   "metadata": {},
   "outputs": [
    {
     "data": {
      "text/plain": [
       "0"
      ]
     },
     "execution_count": 17,
     "metadata": {},
     "output_type": "execute_result"
    }
   ],
   "source": [
    "rides.duplicated().sum()"
   ]
  },
  {
   "cell_type": "markdown",
   "id": "b7041a4f",
   "metadata": {},
   "source": [
    "Здесь видим, что в датафрейме users найден 31 дубликат - необходимо произвести их удаление."
   ]
  },
  {
   "cell_type": "code",
   "execution_count": 18,
   "id": "8be66a50",
   "metadata": {},
   "outputs": [
    {
     "data": {
      "text/plain": [
       "0"
      ]
     },
     "metadata": {},
     "output_type": "display_data"
    },
    {
     "name": "stdout",
     "output_type": "stream",
     "text": [
      "<class 'pandas.core.frame.DataFrame'>\n",
      "Int64Index: 1534 entries, 0 to 1533\n",
      "Data columns (total 5 columns):\n",
      " #   Column             Non-Null Count  Dtype \n",
      "---  ------             --------------  ----- \n",
      " 0   user_id            1534 non-null   int64 \n",
      " 1   name               1534 non-null   object\n",
      " 2   age                1534 non-null   int64 \n",
      " 3   city               1534 non-null   object\n",
      " 4   subscription_type  1534 non-null   object\n",
      "dtypes: int64(2), object(3)\n",
      "memory usage: 71.9+ KB\n"
     ]
    }
   ],
   "source": [
    "users = users.drop_duplicates()\n",
    "display(users.duplicated().sum())\n",
    "users.info()"
   ]
  },
  {
   "cell_type": "markdown",
   "id": "5d5f14fa",
   "metadata": {},
   "source": [
    "После удаления дубликатов, убеждаемся, что они действительно отсутствуют."
   ]
  },
  {
   "cell_type": "markdown",
   "id": "d440db2f",
   "metadata": {},
   "source": [
    "На всякий случай, отдельно хочется проверить наличие дубликатов в users['user_id']"
   ]
  },
  {
   "cell_type": "code",
   "execution_count": 19,
   "id": "80be9ce8",
   "metadata": {},
   "outputs": [
    {
     "data": {
      "text/plain": [
       "0"
      ]
     },
     "execution_count": 19,
     "metadata": {},
     "output_type": "execute_result"
    }
   ],
   "source": [
    "users['user_id'].duplicated().sum()"
   ]
  },
  {
   "cell_type": "markdown",
   "id": "4d588bdf",
   "metadata": {},
   "source": [
    "*Общий вывод по этапу \"Предобработка данных\"*\\\n",
    "В данной задаче, этап предобработки данных оказался не обширным:\n",
    "1. Был изменен тип данных в rides['date']\n",
    "2. Были удалены дубликаты в users\\\n",
    "Других необходимых изменений в датафреймах пока не наблюдается."
   ]
  },
  {
   "cell_type": "markdown",
   "id": "943aa82f",
   "metadata": {},
   "source": [
    "<div class=\"alert alert-success\" style=\"border-radius: 15px; box-shadow: 4px 4px 4px; border: 1px solid \">\n",
    "<h2> Комментарий ревьюера v_1: <a class=\"tocSkip\"> </h2>\n",
    "    \n",
    "✅ Хорошо, проверены и удалены выявленные дубликаты."
   ]
  },
  {
   "cell_type": "markdown",
   "id": "212593c7",
   "metadata": {},
   "source": [
    "#### Шаг 3. Исследовательский анализ данных"
   ]
  },
  {
   "cell_type": "markdown",
   "id": "5a9a1b5e",
   "metadata": {},
   "source": [
    "3.1. Взглянем на наших пользователей в разрезе городов:"
   ]
  },
  {
   "cell_type": "code",
   "execution_count": 20,
   "id": "28801d6f",
   "metadata": {},
   "outputs": [
    {
     "data": {
      "image/png": "[encoded data removed]",
      "text/plain": [
       "<Figure size 1080x360 with 1 Axes>"
      ]
     },
     "metadata": {
      "needs_background": "light"
     },
     "output_type": "display_data"
    },
    {
     "data": {
      "text/plain": [
       "city\n",
       "Москва            168\n",
       "Тюмень            180\n",
       "Омск              183\n",
       "Сочи              189\n",
       "Краснодар         193\n",
       "Ростов-на-Дону    198\n",
       "Екатеринбург      204\n",
       "Пятигорск         219\n",
       "Name: user_id, dtype: int64"
      ]
     },
     "metadata": {},
     "output_type": "display_data"
    }
   ],
   "source": [
    "(users.groupby('city')['user_id'].count().\n",
    " sort_values(ascending = False).\n",
    " plot(kind = 'barh', figsize = (15, 5)))\n",
    "plt.title('Распределение пользователей по городам')\n",
    "plt.ylabel('Город')\n",
    "plt.xlabel('Кол-во пользователей')\n",
    "plt.show()\n",
    "\n",
    "display(users.groupby('city')['user_id'].count().sort_values())"
   ]
  },
  {
   "cell_type": "markdown",
   "id": "b4827b98",
   "metadata": {},
   "source": [
    "<div class=\"alert alert-warning\" style=\"border-radius: 15px; box-shadow: 4px 4px 4px; border: 1px solid \">\n",
    "<h2> Комментарий ревьюера v_1: <a class=\"tocSkip\"> </h2>\n",
    "    \n",
    "⚠️ Для большего удобства при считывании визуализации лучше использовать линейчатую диаграмму (столбчатую диаграмму с горизонтальными столбцами), т.е. повернуть ее на 90 градусов. Это позволит расположить названия городов горизонтально. Таблицу стоит оставить и/или добавить количественные значения на график\n",
    "  \n",
    "Также советую сортировать значения, так их проще анализировать."
   ]
  },
  {
   "cell_type": "markdown",
   "id": "46474b85",
   "metadata": {},
   "source": [
    "<div class=\"alert alert-block alert-danger\" style=\"border-radius: 15px; box-shadow: 4px 4px 4px; border: 1px solid \">\n",
    "<h2> Комментарий ревьюера v_1: <a class=\"tocSkip\"></h2>\n",
    "    \n",
    "❌ Также необходимо добавить числовые значения по городам на графике либо отдельно в таблице. "
   ]
  },
  {
   "cell_type": "markdown",
   "id": "e37d5a39",
   "metadata": {},
   "source": [
    "<div class=\"alert alert-info\"  style=\"border-radius: 15px; box-shadow: 4px 4px 4px; border: 1px solid \">\n",
    "    \n",
    "<h2>Комментарий студента v_1: <a class=\"tocSkip\"> </h2>\n",
    "\n",
    "Вывел отдельно табличку со значениями"
   ]
  },
  {
   "cell_type": "markdown",
   "id": "cb2e3ff7",
   "metadata": {},
   "source": [
    "<div class=\"alert alert-block alert-danger\" style=\"border-radius: 15px; box-shadow: 4px 4px 4px; border: 1px solid \">\n",
    "<h2> Комментарий ревьюера v_1: <a class=\"tocSkip\"></h2>\n",
    "    \n",
    "❌ Не хватает заголовка и подписей на осях. Это замечание актуально для всех визуализаций в этом проекте."
   ]
  },
  {
   "cell_type": "markdown",
   "id": "c11eec3b",
   "metadata": {},
   "source": [
    "<div class=\"alert alert-info\"  style=\"border-radius: 15px; box-shadow: 4px 4px 4px; border: 1px solid \">\n",
    "    \n",
    "<h2>Комментарий студента v_1: <a class=\"tocSkip\"> </h2>\n",
    "\n",
    "Замечания учтены во всех визуализациях"
   ]
  },
  {
   "cell_type": "markdown",
   "id": "45053221",
   "metadata": {},
   "source": [
    "<div class=\"alert alert-success\" style=\"border-radius: 15px; box-shadow: 4px 4px 4px; border: 1px solid \">\n",
    "<h2> Комментарий ревьюера v_2: <a class=\"tocSkip\"> </h2>\n",
    "    \n",
    "✅ +"
   ]
  },
  {
   "cell_type": "markdown",
   "id": "1e42e8f2",
   "metadata": {},
   "source": [
    "Из гистограммы видно, что пользователи распредлены по городам относительно равномерно, без резких выбросов.\n",
    "Дополнительно можно рассмотреть распределение с помощью метода describe(), где также можно увидеть, что нет как явных выбросов, так и широко разброса данных."
   ]
  },
  {
   "cell_type": "code",
   "execution_count": 21,
   "id": "a5bf30f4",
   "metadata": {},
   "outputs": [
    {
     "data": {
      "text/plain": [
       "count      8.000000\n",
       "mean     191.750000\n",
       "std       15.672998\n",
       "min      168.000000\n",
       "25%      182.250000\n",
       "50%      191.000000\n",
       "75%      199.500000\n",
       "max      219.000000\n",
       "Name: user_id, dtype: float64"
      ]
     },
     "execution_count": 21,
     "metadata": {},
     "output_type": "execute_result"
    }
   ],
   "source": [
    "users.groupby('city')['user_id'].count().describe()"
   ]
  },
  {
   "cell_type": "markdown",
   "id": "b49fab43",
   "metadata": {},
   "source": [
    "3.2. Теперь посмотрим на наличие подписки у пользователей:"
   ]
  },
  {
   "cell_type": "code",
   "execution_count": 22,
   "id": "2adae7cc",
   "metadata": {
    "scrolled": false
   },
   "outputs": [
    {
     "data": {
      "image/png": "[encoded data removed]",
      "text/plain": [
       "<Figure size 360x360 with 1 Axes>"
      ]
     },
     "metadata": {},
     "output_type": "display_data"
    }
   ],
   "source": [
    "(users.groupby('subscription_type')['user_id'].count().\n",
    " plot(kind = 'pie', figsize = (5, 5), autopct='%1.1f%%'))\n",
    "plt.title('Распределение пользователей по типу подписки')\n",
    "\n",
    "plt.show()"
   ]
  },
  {
   "cell_type": "markdown",
   "id": "220b3a33",
   "metadata": {},
   "source": [
    "<div class=\"alert alert-warning\" style=\"border-radius: 15px; box-shadow: 4px 4px 4px; border: 1px solid \">\n",
    "<h2> Комментарий ревьюера v_1: <a class=\"tocSkip\"> </h2>\n",
    "    \n",
    "⚠️ Здесь подошла бы круговая диаграмма, с ее помощью можно показать соотношение двух категорий в процентах. О том, как подписывать диаграмму, есть в документации по [ссылке](https://matplotlib.org/stable/gallery/pie_and_polar_charts/pie_features.html)"
   ]
  },
  {
   "cell_type": "markdown",
   "id": "b531c16f",
   "metadata": {},
   "source": [
    "<div class=\"alert alert-block alert-danger\" style=\"border-radius: 15px; box-shadow: 4px 4px 4px; border: 1px solid \">\n",
    "<h2> Комментарий ревьюера v_1: <a class=\"tocSkip\"></h2>\n",
    "    \n",
    "❌ Либо на круговой диаграмме, либо в таблице, либо на указанном графике необходимо добавить подписи в виде процентов/долей, т.к. нужно показать соотношение. "
   ]
  },
  {
   "cell_type": "markdown",
   "id": "5577220e",
   "metadata": {},
   "source": [
    "<div class=\"alert alert-info\"  style=\"border-radius: 15px; box-shadow: 4px 4px 4px; border: 1px solid \">\n",
    "    \n",
    "<h2>Комментарий студента v_1: <a class=\"tocSkip\"> </h2>\n",
    "\n",
    "Да, круговая диаграмма выглядит здесь куда органичнее и информативнее.\n",
    "Теперь видно, что подписки распространены в соотношении примерно 45/55 в пользу free."
   ]
  },
  {
   "cell_type": "markdown",
   "id": "1003fad2",
   "metadata": {},
   "source": [
    "<div class=\"alert alert-success\" style=\"border-radius: 15px; box-shadow: 4px 4px 4px; border: 1px solid \">\n",
    "<h2> Комментарий ревьюера v_2: <a class=\"tocSkip\"> </h2>\n",
    "    \n",
    "✅ Хорошо"
   ]
  },
  {
   "cell_type": "markdown",
   "id": "9589f636",
   "metadata": {},
   "source": [
    "Здесь мы можем наблюдать, что около 40% пользователей имеют подписку ultra."
   ]
  },
  {
   "cell_type": "markdown",
   "id": "32aef67e",
   "metadata": {},
   "source": [
    "3.3. Изучим возраст наших пользователей:"
   ]
  },
  {
   "cell_type": "code",
   "execution_count": 23,
   "id": "2c569c89",
   "metadata": {
    "scrolled": true
   },
   "outputs": [
    {
     "data": {
      "image/png": "[encoded data removed]",
      "text/plain": [
       "<Figure size 1080x360 with 1 Axes>"
      ]
     },
     "metadata": {
      "needs_background": "light"
     },
     "output_type": "display_data"
    }
   ],
   "source": [
    "(users.groupby('age')['user_id'].count().\n",
    " plot(kind = 'bar', figsize = (15, 5)))\n",
    "plt.title('Распределение пользователей возрасту')\n",
    "plt.ylabel('Возраст')\n",
    "plt.xlabel('Кол-во пользователей')\n",
    "plt.show()"
   ]
  },
  {
   "cell_type": "code",
   "execution_count": 24,
   "id": "a1faa2eb",
   "metadata": {},
   "outputs": [
    {
     "data": {
      "text/plain": [
       "count    1534.000000\n",
       "mean       24.903520\n",
       "std         4.572367\n",
       "min        12.000000\n",
       "25%        22.000000\n",
       "50%        25.000000\n",
       "75%        28.000000\n",
       "max        43.000000\n",
       "Name: age, dtype: float64"
      ]
     },
     "metadata": {},
     "output_type": "display_data"
    }
   ],
   "source": [
    "display(users['age'].describe())"
   ]
  },
  {
   "cell_type": "markdown",
   "id": "84dc5ce5",
   "metadata": {},
   "source": [
    "<div class=\"alert alert-warning\" style=\"border-radius: 15px; box-shadow: 4px 4px 4px; border: 1px solid \">\n",
    "<h2> Комментарий ревьюера v_1: <a class=\"tocSkip\"> </h2>\n",
    "    \n",
    "⚠️ Не лишним было бы подробнее изучить данные с использованием функции `describe()`. С ее помощью можно увидеть точное минимальное и максимальное значения, определить медиану и среднее, в качестве диапазона часто встречающихся значений для выводов можно выбрать данные от первого до третьего квартиля (25% и 75%). Рекомендация актуальна и для других пунктов (ниже) данного шага."
   ]
  },
  {
   "cell_type": "markdown",
   "id": "2daa3784",
   "metadata": {},
   "source": [
    "<div class=\"alert alert-info\"  style=\"border-radius: 15px; box-shadow: 4px 4px 4px; border: 1px solid \">\n",
    "    \n",
    "<h2>Комментарий студента v_1: <a class=\"tocSkip\"> </h2>\n",
    "\n",
    "Дополнил анализ функцией describe(), можно обратить внимание, что среднее и медиана практически одинаковы, а первый и третий квартили, с учетом \"усов\", охватывают практически весь набор данных. \n",
    "    \n",
    "В остальных случаях также добавил describe для оценки."
   ]
  },
  {
   "cell_type": "markdown",
   "id": "8f2d5157",
   "metadata": {},
   "source": [
    "По гистограмме можно увидеть, что возраст пользователей - от 12 до 43 лет, наибольшее количество пользователей при этом в возрасте от 18 до 33 лет."
   ]
  },
  {
   "cell_type": "markdown",
   "id": "15dd9cbd",
   "metadata": {},
   "source": [
    "3.4. Попробуем оценить среднее расстояние, которое преодолевается пользователем за 1 поездку:"
   ]
  },
  {
   "cell_type": "code",
   "execution_count": 25,
   "id": "2115b754",
   "metadata": {
    "scrolled": true
   },
   "outputs": [
    {
     "data": {
      "image/png": "[encoded data removed]",
      "text/plain": [
       "<Figure size 1080x360 with 1 Axes>"
      ]
     },
     "metadata": {
      "needs_background": "light"
     },
     "output_type": "display_data"
    }
   ],
   "source": [
    "(rides['distance'].\n",
    " plot(kind = 'hist', bins = 30, figsize = (15, 5)))\n",
    "plt.xticks(np.arange(0, 10000, 500))\n",
    "plt.title('Распределение поездок по расстоянию')\n",
    "plt.ylabel('Кол-во поездок')\n",
    "plt.xlabel('Расстояние поездки, метров')\n",
    "\n",
    "plt.show()"
   ]
  },
  {
   "cell_type": "markdown",
   "id": "a5ba439d",
   "metadata": {},
   "source": [
    "<div class=\"alert alert-block alert-danger\" style=\"border-radius: 15px; box-shadow: 4px 4px 4px; border: 1px solid \">\n",
    "<h2> Комментарий ревьюера v_1: <a class=\"tocSkip\"></h2>\n",
    "    \n",
    "❌ График лучше построить не на агрегированных данных, т.к. на гистограмме на исходных данных можно сделать интересные наблюдения. В частности, можно обратить внимание на пик слева. О чем он говорит? \n",
    "    \n",
    "Это замечание касается и пункта 4.5"
   ]
  },
  {
   "cell_type": "code",
   "execution_count": 26,
   "id": "fd7ffc77",
   "metadata": {},
   "outputs": [
    {
     "data": {
      "text/plain": [
       "count    18068.000000\n",
       "mean      3070.659976\n",
       "std       1116.831209\n",
       "min          0.855683\n",
       "25%       2543.226360\n",
       "50%       3133.609994\n",
       "75%       3776.222735\n",
       "max       7211.007745\n",
       "Name: distance, dtype: float64"
      ]
     },
     "metadata": {},
     "output_type": "display_data"
    }
   ],
   "source": [
    "display(rides['distance'].describe())"
   ]
  },
  {
   "cell_type": "markdown",
   "id": "b13d7923",
   "metadata": {},
   "source": [
    "<div class=\"alert alert-info\"  style=\"border-radius: 15px; box-shadow: 4px 4px 4px; border: 1px solid \">\n",
    "    \n",
    "<h2>Комментарий студента v_1: <a class=\"tocSkip\"> </h2>\n",
    "\n",
    "Поправил гистограммы, и по расстоянию, и по продолжительности. Действительно, проявились некоторый \"пики\" в левой части, на ум приходит то, что у пользователи с подпиской ultra часто грешат поездками на очень короткие расстояния (учитывая бесплатный старт + более низкая стоимость минуты) и в целом чаще ездят на самокатах.\n",
    "    \n",
    "UPD - далее есть подобное распределение между разными подписками, этот пик присутствует в обоих типах. Новая гипотеза - пользователи берут самокат поблизости, но с низким уровнем заряда, чтобы доехать до самоката с более высоким уровнем заряда и пересесть на него."
   ]
  },
  {
   "cell_type": "markdown",
   "id": "b4426b2a",
   "metadata": {},
   "source": [
    "<div class=\"alert alert-success\" style=\"border-radius: 15px; box-shadow: 4px 4px 4px; border: 1px solid \">\n",
    "<h2> Комментарий ревьюера v_2: <a class=\"tocSkip\"> </h2>\n",
    "    \n",
    "✅ +"
   ]
  },
  {
   "cell_type": "markdown",
   "id": "9a317417",
   "metadata": {},
   "source": [
    "Здесь можно сделать вывод, что наиболее часто самокат используется для поездок на расстояние 2500-3500 м."
   ]
  },
  {
   "cell_type": "markdown",
   "id": "f13d8a15",
   "metadata": {},
   "source": [
    "3.5. А также, поробуем оценить продолжительность поездки:"
   ]
  },
  {
   "cell_type": "code",
   "execution_count": 27,
   "id": "81c19792",
   "metadata": {},
   "outputs": [
    {
     "data": {
      "image/png": "[encoded data removed]",
      "text/plain": [
       "<Figure size 1080x360 with 1 Axes>"
      ]
     },
     "metadata": {
      "needs_background": "light"
     },
     "output_type": "display_data"
    }
   ],
   "source": [
    "(rides['duration'].\n",
    " plot(kind = 'hist', bins = 30, figsize = (15, 5)))\n",
    "plt.title('Распределение поездок по времени')\n",
    "plt.ylabel('Кол-во поездок')\n",
    "plt.xlabel('Время поездки, минут')\n",
    "\n",
    "plt.show()"
   ]
  },
  {
   "cell_type": "markdown",
   "id": "069d9729",
   "metadata": {},
   "source": [
    "Что можно сказать по среднему времени поездок - в большинстве, поездка занимает в среднем 15-20 минут, что в целом сходится с наиболее популярным расстоянием поездки из предыдущей гистограммы."
   ]
  },
  {
   "cell_type": "code",
   "execution_count": 28,
   "id": "9b473bcb",
   "metadata": {},
   "outputs": [
    {
     "data": {
      "text/plain": [
       "count    18068.000000\n",
       "mean        17.805011\n",
       "std          6.091051\n",
       "min          0.500000\n",
       "25%         13.597563\n",
       "50%         17.678395\n",
       "75%         21.724800\n",
       "max         40.823963\n",
       "Name: duration, dtype: float64"
      ]
     },
     "metadata": {},
     "output_type": "display_data"
    }
   ],
   "source": [
    "display(rides['duration'].describe())"
   ]
  },
  {
   "cell_type": "markdown",
   "id": "38809f98",
   "metadata": {},
   "source": [
    "<div class=\"alert alert-warning\" style=\"border-radius: 15px; box-shadow: 4px 4px 4px; border: 1px solid \">\n",
    "<h2> Комментарий ревьюера v_1: <a class=\"tocSkip\"> </h2>\n",
    "    \n",
    "⚠️ Дополнительно можно посмотреть, есть ли в столбце с продолжительностью сессии аномалии. Можно сравнить продолжительность сессий (выбрав только короткие) и расстояние поездок и прокомментировать, насколько реально можно проехать такое расстояние за указанное время. В случае обнаружения удалять не рекомендуется, т.к. повлияет на выручку"
   ]
  },
  {
   "cell_type": "code",
   "execution_count": 29,
   "id": "68724ecc",
   "metadata": {},
   "outputs": [
    {
     "data": {
      "text/html": [
       "<div>\n",
       "<style scoped>\n",
       "    .dataframe tbody tr th:only-of-type {\n",
       "        vertical-align: middle;\n",
       "    }\n",
       "\n",
       "    .dataframe tbody tr th {\n",
       "        vertical-align: top;\n",
       "    }\n",
       "\n",
       "    .dataframe thead th {\n",
       "        text-align: right;\n",
       "    }\n",
       "</style>\n",
       "<table border=\"1\" class=\"dataframe\">\n",
       "  <thead>\n",
       "    <tr style=\"text-align: right;\">\n",
       "      <th></th>\n",
       "      <th>user_id</th>\n",
       "      <th>distance</th>\n",
       "      <th>duration</th>\n",
       "      <th>date</th>\n",
       "      <th>month</th>\n",
       "    </tr>\n",
       "  </thead>\n",
       "  <tbody>\n",
       "    <tr>\n",
       "      <th>6531</th>\n",
       "      <td>701</td>\n",
       "      <td>4196.445201</td>\n",
       "      <td>0.5</td>\n",
       "      <td>2021-08-31</td>\n",
       "      <td>8</td>\n",
       "    </tr>\n",
       "    <tr>\n",
       "      <th>6570</th>\n",
       "      <td>704</td>\n",
       "      <td>4830.824371</td>\n",
       "      <td>0.5</td>\n",
       "      <td>2021-10-14</td>\n",
       "      <td>10</td>\n",
       "    </tr>\n",
       "    <tr>\n",
       "      <th>6680</th>\n",
       "      <td>712</td>\n",
       "      <td>4684.004397</td>\n",
       "      <td>0.5</td>\n",
       "      <td>2021-03-04</td>\n",
       "      <td>3</td>\n",
       "    </tr>\n",
       "    <tr>\n",
       "      <th>6695</th>\n",
       "      <td>713</td>\n",
       "      <td>5215.642710</td>\n",
       "      <td>0.5</td>\n",
       "      <td>2021-02-25</td>\n",
       "      <td>2</td>\n",
       "    </tr>\n",
       "    <tr>\n",
       "      <th>6768</th>\n",
       "      <td>718</td>\n",
       "      <td>5197.436649</td>\n",
       "      <td>0.5</td>\n",
       "      <td>2021-02-11</td>\n",
       "      <td>2</td>\n",
       "    </tr>\n",
       "    <tr>\n",
       "      <th>...</th>\n",
       "      <td>...</td>\n",
       "      <td>...</td>\n",
       "      <td>...</td>\n",
       "      <td>...</td>\n",
       "      <td>...</td>\n",
       "    </tr>\n",
       "    <tr>\n",
       "      <th>17004</th>\n",
       "      <td>1460</td>\n",
       "      <td>5531.335845</td>\n",
       "      <td>0.5</td>\n",
       "      <td>2021-01-19</td>\n",
       "      <td>1</td>\n",
       "    </tr>\n",
       "    <tr>\n",
       "      <th>17242</th>\n",
       "      <td>1477</td>\n",
       "      <td>6724.932981</td>\n",
       "      <td>0.5</td>\n",
       "      <td>2021-01-12</td>\n",
       "      <td>1</td>\n",
       "    </tr>\n",
       "    <tr>\n",
       "      <th>17314</th>\n",
       "      <td>1483</td>\n",
       "      <td>4445.481070</td>\n",
       "      <td>0.5</td>\n",
       "      <td>2021-03-06</td>\n",
       "      <td>3</td>\n",
       "    </tr>\n",
       "    <tr>\n",
       "      <th>17505</th>\n",
       "      <td>1496</td>\n",
       "      <td>5722.551787</td>\n",
       "      <td>0.5</td>\n",
       "      <td>2021-02-14</td>\n",
       "      <td>2</td>\n",
       "    </tr>\n",
       "    <tr>\n",
       "      <th>17909</th>\n",
       "      <td>1524</td>\n",
       "      <td>4103.998874</td>\n",
       "      <td>0.5</td>\n",
       "      <td>2021-06-18</td>\n",
       "      <td>6</td>\n",
       "    </tr>\n",
       "  </tbody>\n",
       "</table>\n",
       "<p>95 rows × 5 columns</p>\n",
       "</div>"
      ],
      "text/plain": [
       "       user_id     distance  duration       date  month\n",
       "6531       701  4196.445201       0.5 2021-08-31      8\n",
       "6570       704  4830.824371       0.5 2021-10-14     10\n",
       "6680       712  4684.004397       0.5 2021-03-04      3\n",
       "6695       713  5215.642710       0.5 2021-02-25      2\n",
       "6768       718  5197.436649       0.5 2021-02-11      2\n",
       "...        ...          ...       ...        ...    ...\n",
       "17004     1460  5531.335845       0.5 2021-01-19      1\n",
       "17242     1477  6724.932981       0.5 2021-01-12      1\n",
       "17314     1483  4445.481070       0.5 2021-03-06      3\n",
       "17505     1496  5722.551787       0.5 2021-02-14      2\n",
       "17909     1524  4103.998874       0.5 2021-06-18      6\n",
       "\n",
       "[95 rows x 5 columns]"
      ]
     },
     "metadata": {},
     "output_type": "display_data"
    },
    {
     "data": {
      "text/plain": [
       "count      95.000000\n",
       "mean     5113.176549\n",
       "std       658.254104\n",
       "min      4030.308008\n",
       "25%      4611.510820\n",
       "50%      5052.769411\n",
       "75%      5488.459099\n",
       "max      7211.007745\n",
       "Name: distance, dtype: float64"
      ]
     },
     "metadata": {},
     "output_type": "display_data"
    },
    {
     "data": {
      "text/plain": [
       "count    95.0\n",
       "mean      0.5\n",
       "std       0.0\n",
       "min       0.5\n",
       "25%       0.5\n",
       "50%       0.5\n",
       "75%       0.5\n",
       "max       0.5\n",
       "Name: duration, dtype: float64"
      ]
     },
     "metadata": {},
     "output_type": "display_data"
    }
   ],
   "source": [
    "display(rides[rides['duration'] < 2])\n",
    "display(rides[rides['duration'] < 2]['distance'].describe())\n",
    "display(rides[rides['duration'] < 2]['duration'].describe())"
   ]
  },
  {
   "cell_type": "markdown",
   "id": "a022d183",
   "metadata": {},
   "source": [
    "<div class=\"alert alert-info\"  style=\"border-radius: 15px; box-shadow: 4px 4px 4px; border: 1px solid \">\n",
    "    \n",
    "<h2>Комментарий студента v_1: <a class=\"tocSkip\"> </h2>\n",
    "\n",
    "Да, если поближе рассмотреть короткие поездки (взял менее 2-х минут для примера), становится очевидно, что со временем поездки что-то не так: таких записей 95, у всех время поездки 0,5, но расстояния - от 4 тыс. м. до 7,2 тыс. м., с медианой 5052."
   ]
  },
  {
   "cell_type": "markdown",
   "id": "3d583de8",
   "metadata": {},
   "source": [
    "<div class=\"alert alert-success\" style=\"border-radius: 15px; box-shadow: 4px 4px 4px; border: 1px solid \">\n",
    "<h2> Комментарий ревьюера v_2: <a class=\"tocSkip\"> </h2>\n",
    "    \n",
    "✅ Хорошо, выявлены аномальные значения"
   ]
  },
  {
   "cell_type": "markdown",
   "id": "b53c1ef9",
   "metadata": {},
   "source": [
    "*Общий вывод по этапу \"Исследовательский анализ\"*\\\n",
    "Изучив основные параметры, можно сделать следующие выводы:\n",
    "1. Распрелеление пользователей по городам выглядит равномерно, при том, что пользователей из Москвы наименьшее кол-во, что обращает на себя внимание, учитывая население представленных городов. Глобально кажется, что выборка здесь должна быть побольше.\n",
    "2. Около 40% пользователей имеют подписку ultra.\n",
    "3. Большинство пользователей сервиса в возрасте от 18 до 33 лет.\n",
    "4. Наиболее популярное расстояние для поездок - 2500-3500 м.\n",
    "5. Основная часть поездок занимает 15-20 минут."
   ]
  },
  {
   "cell_type": "markdown",
   "id": "4ef51331",
   "metadata": {},
   "source": [
    "#### Шаг 4. Объединение данных"
   ]
  },
  {
   "cell_type": "markdown",
   "id": "0feb7388",
   "metadata": {},
   "source": [
    "4.1. Сначала объеденим данные из 3-х датафремов users. rides и subscriptions в 1 датафрейм под названием urs:"
   ]
  },
  {
   "cell_type": "code",
   "execution_count": 30,
   "id": "3579b2aa",
   "metadata": {
    "scrolled": true
   },
   "outputs": [
    {
     "name": "stdout",
     "output_type": "stream",
     "text": [
      "<class 'pandas.core.frame.DataFrame'>\n",
      "Int64Index: 18068 entries, 0 to 18067\n",
      "Data columns (total 12 columns):\n",
      " #   Column             Non-Null Count  Dtype         \n",
      "---  ------             --------------  -----         \n",
      " 0   user_id            18068 non-null  int64         \n",
      " 1   distance           18068 non-null  float64       \n",
      " 2   duration           18068 non-null  float64       \n",
      " 3   date               18068 non-null  datetime64[ns]\n",
      " 4   month              18068 non-null  int64         \n",
      " 5   name               18068 non-null  object        \n",
      " 6   age                18068 non-null  int64         \n",
      " 7   city               18068 non-null  object        \n",
      " 8   subscription_type  18068 non-null  object        \n",
      " 9   minute_price       18068 non-null  int64         \n",
      " 10  start_ride_price   18068 non-null  int64         \n",
      " 11  subscription_fee   18068 non-null  int64         \n",
      "dtypes: datetime64[ns](1), float64(2), int64(6), object(3)\n",
      "memory usage: 1.8+ MB\n"
     ]
    },
    {
     "data": {
      "text/plain": [
       "None"
      ]
     },
     "metadata": {},
     "output_type": "display_data"
    },
    {
     "data": {
      "text/html": [
       "<div>\n",
       "<style scoped>\n",
       "    .dataframe tbody tr th:only-of-type {\n",
       "        vertical-align: middle;\n",
       "    }\n",
       "\n",
       "    .dataframe tbody tr th {\n",
       "        vertical-align: top;\n",
       "    }\n",
       "\n",
       "    .dataframe thead th {\n",
       "        text-align: right;\n",
       "    }\n",
       "</style>\n",
       "<table border=\"1\" class=\"dataframe\">\n",
       "  <thead>\n",
       "    <tr style=\"text-align: right;\">\n",
       "      <th></th>\n",
       "      <th>user_id</th>\n",
       "      <th>distance</th>\n",
       "      <th>duration</th>\n",
       "      <th>date</th>\n",
       "      <th>month</th>\n",
       "      <th>name</th>\n",
       "      <th>age</th>\n",
       "      <th>city</th>\n",
       "      <th>subscription_type</th>\n",
       "      <th>minute_price</th>\n",
       "      <th>start_ride_price</th>\n",
       "      <th>subscription_fee</th>\n",
       "    </tr>\n",
       "  </thead>\n",
       "  <tbody>\n",
       "    <tr>\n",
       "      <th>0</th>\n",
       "      <td>1</td>\n",
       "      <td>4409.919140</td>\n",
       "      <td>26.0</td>\n",
       "      <td>2021-01-01</td>\n",
       "      <td>1</td>\n",
       "      <td>Кира</td>\n",
       "      <td>22</td>\n",
       "      <td>Тюмень</td>\n",
       "      <td>ultra</td>\n",
       "      <td>6</td>\n",
       "      <td>0</td>\n",
       "      <td>199</td>\n",
       "    </tr>\n",
       "    <tr>\n",
       "      <th>1</th>\n",
       "      <td>1</td>\n",
       "      <td>2617.592153</td>\n",
       "      <td>16.0</td>\n",
       "      <td>2021-01-18</td>\n",
       "      <td>1</td>\n",
       "      <td>Кира</td>\n",
       "      <td>22</td>\n",
       "      <td>Тюмень</td>\n",
       "      <td>ultra</td>\n",
       "      <td>6</td>\n",
       "      <td>0</td>\n",
       "      <td>199</td>\n",
       "    </tr>\n",
       "    <tr>\n",
       "      <th>2</th>\n",
       "      <td>1</td>\n",
       "      <td>754.159807</td>\n",
       "      <td>7.0</td>\n",
       "      <td>2021-04-20</td>\n",
       "      <td>4</td>\n",
       "      <td>Кира</td>\n",
       "      <td>22</td>\n",
       "      <td>Тюмень</td>\n",
       "      <td>ultra</td>\n",
       "      <td>6</td>\n",
       "      <td>0</td>\n",
       "      <td>199</td>\n",
       "    </tr>\n",
       "    <tr>\n",
       "      <th>3</th>\n",
       "      <td>1</td>\n",
       "      <td>2694.783254</td>\n",
       "      <td>19.0</td>\n",
       "      <td>2021-08-11</td>\n",
       "      <td>8</td>\n",
       "      <td>Кира</td>\n",
       "      <td>22</td>\n",
       "      <td>Тюмень</td>\n",
       "      <td>ultra</td>\n",
       "      <td>6</td>\n",
       "      <td>0</td>\n",
       "      <td>199</td>\n",
       "    </tr>\n",
       "    <tr>\n",
       "      <th>4</th>\n",
       "      <td>1</td>\n",
       "      <td>4028.687306</td>\n",
       "      <td>27.0</td>\n",
       "      <td>2021-08-28</td>\n",
       "      <td>8</td>\n",
       "      <td>Кира</td>\n",
       "      <td>22</td>\n",
       "      <td>Тюмень</td>\n",
       "      <td>ultra</td>\n",
       "      <td>6</td>\n",
       "      <td>0</td>\n",
       "      <td>199</td>\n",
       "    </tr>\n",
       "  </tbody>\n",
       "</table>\n",
       "</div>"
      ],
      "text/plain": [
       "   user_id     distance  duration       date  month  name  age    city  \\\n",
       "0        1  4409.919140      26.0 2021-01-01      1  Кира   22  Тюмень   \n",
       "1        1  2617.592153      16.0 2021-01-18      1  Кира   22  Тюмень   \n",
       "2        1   754.159807       7.0 2021-04-20      4  Кира   22  Тюмень   \n",
       "3        1  2694.783254      19.0 2021-08-11      8  Кира   22  Тюмень   \n",
       "4        1  4028.687306      27.0 2021-08-28      8  Кира   22  Тюмень   \n",
       "\n",
       "  subscription_type  minute_price  start_ride_price  subscription_fee  \n",
       "0             ultra             6                 0               199  \n",
       "1             ultra             6                 0               199  \n",
       "2             ultra             6                 0               199  \n",
       "3             ultra             6                 0               199  \n",
       "4             ultra             6                 0               199  "
      ]
     },
     "metadata": {},
     "output_type": "display_data"
    }
   ],
   "source": [
    "urs = rides.merge(users, on = 'user_id')\n",
    "urs = urs.merge(subscriptions, on = 'subscription_type')\n",
    "urs['duration'] = np.ceil(urs['duration'])\n",
    "display(urs.info(), urs.head())"
   ]
  },
  {
   "cell_type": "markdown",
   "id": "8f27bc04",
   "metadata": {},
   "source": [
    "Проверка стандартными инструментами показывает, что данные сели корректно, без потерь."
   ]
  },
  {
   "cell_type": "markdown",
   "id": "9dfa6e71",
   "metadata": {},
   "source": [
    "<div class=\"alert alert-success\" style=\"border-radius: 15px; box-shadow: 4px 4px 4px; border: 1px solid \">\n",
    "<h2> Комментарий ревьюера v_1: <a class=\"tocSkip\"> </h2>\n",
    "    \n",
    "✅ После объединения важно проверять, что количество записей совпадает и не появились пропуски"
   ]
  },
  {
   "cell_type": "markdown",
   "id": "40c9befd",
   "metadata": {},
   "source": [
    "4.2. Теперь выведем из urs отдельные датафреймы, в одном из которых будут содержаться данные по пользователям с подпиской (urson), а в другом - без подписки (ursoff):"
   ]
  },
  {
   "cell_type": "code",
   "execution_count": 31,
   "id": "c97a38d4",
   "metadata": {},
   "outputs": [
    {
     "data": {
      "text/plain": [
       "6500"
      ]
     },
     "metadata": {},
     "output_type": "display_data"
    },
    {
     "data": {
      "text/plain": [
       "array(['ultra'], dtype=object)"
      ]
     },
     "metadata": {},
     "output_type": "display_data"
    },
    {
     "data": {
      "text/plain": [
       "11568"
      ]
     },
     "metadata": {},
     "output_type": "display_data"
    },
    {
     "data": {
      "text/plain": [
       "array(['free'], dtype=object)"
      ]
     },
     "metadata": {},
     "output_type": "display_data"
    }
   ],
   "source": [
    "urson = urs[urs['subscription_type'] == 'ultra']\n",
    "ursoff = urs[urs['subscription_type'] == 'free']\n",
    "display(len(urson['subscription_type']), urson['subscription_type'].unique())\n",
    "display(len(ursoff['subscription_type']), ursoff['subscription_type'].unique())"
   ]
  },
  {
   "cell_type": "markdown",
   "id": "5d26c7f0",
   "metadata": {},
   "source": [
    "С помощью небольшой проверки подтверждаем, что данные поделены корректно.\n",
    "Интересная деталь - пользователей с подпиской ultra заметно меньше, но поездок у них намного больше, чем поездок free."
   ]
  },
  {
   "cell_type": "markdown",
   "id": "3bce1e01",
   "metadata": {},
   "source": [
    "<div class=\"alert alert-success\" style=\"border-radius: 15px; box-shadow: 4px 4px 4px; border: 1px solid \">\n",
    "<h2> Комментарий ревьюера v_1: <a class=\"tocSkip\"> </h2>\n",
    "    \n",
    "✅ Отлично, созданы необходимые датафреймы. Я бы еще соватовал проверять, что совокупный размер датафреймов совпадает с количеством строк в исходной таблице."
   ]
  },
  {
   "cell_type": "markdown",
   "id": "7c2181ec",
   "metadata": {},
   "source": [
    "4.3. Теперь взглянем на расстояние и время поездок в разрезе пользователей с подпиской и без подписки:"
   ]
  },
  {
   "cell_type": "code",
   "execution_count": 32,
   "id": "d7e90da0",
   "metadata": {},
   "outputs": [
    {
     "data": {
      "image/png": "[encoded data removed]",
      "text/plain": [
       "<Figure size 432x288 with 1 Axes>"
      ]
     },
     "metadata": {
      "needs_background": "light"
     },
     "output_type": "display_data"
    },
    {
     "data": {
      "image/png": "[encoded data removed]",
      "text/plain": [
       "<Figure size 432x288 with 1 Axes>"
      ]
     },
     "metadata": {
      "needs_background": "light"
     },
     "output_type": "display_data"
    }
   ],
   "source": [
    "sns.histplot(data = urson['distance'])\n",
    "sns.histplot(data = ursoff['distance'])\n",
    "plt.title('Распределение поездок по расстоянию между пользователями с разным типом подписки')\n",
    "plt.ylabel('Кол-во поездок')\n",
    "plt.xlabel('Расстояние поездки, метров')\n",
    "plt.show()\n",
    "\n",
    "sns.histplot(data = urson['duration'])\n",
    "sns.histplot(data = ursoff['duration'])\n",
    "plt.title('Распределение поездок по времени между пользователями с разным типом подписки')\n",
    "plt.ylabel('Кол-во поездок')\n",
    "plt.xlabel('Время поездки, минут')\n",
    "plt.show()"
   ]
  },
  {
   "cell_type": "markdown",
   "id": "3243dd02",
   "metadata": {},
   "source": [
    "<div class=\"alert alert-success\" style=\"border-radius: 15px; box-shadow: 4px 4px 4px; border: 1px solid \">\n",
    "<h2> Комментарий ревьюера v_1: <a class=\"tocSkip\"> </h2>\n",
    "    \n",
    "✅ Хорошее решение объединить два графика для сравнения профилей пользователей"
   ]
  },
  {
   "cell_type": "markdown",
   "id": "f61a520b",
   "metadata": {},
   "source": [
    "<div class=\"alert alert-warning\" style=\"border-radius: 15px; box-shadow: 4px 4px 4px; border: 1px solid \">\n",
    "<h2> Комментарий ревьюера v_1: <a class=\"tocSkip\"> </h2>\n",
    "    \n",
    "⚠️ Также рекомендуется использовать функцию `describe()` на этом шаге. В частности, как различается среднее и медиана?"
   ]
  },
  {
   "cell_type": "code",
   "execution_count": 33,
   "id": "dee7cb75",
   "metadata": {},
   "outputs": [
    {
     "data": {
      "text/plain": [
       "count    6500.000000\n",
       "mean     3115.445388\n",
       "std       836.895330\n",
       "min       244.210438\n",
       "25%      2785.444017\n",
       "50%      3148.637229\n",
       "75%      3560.574425\n",
       "max      5699.769662\n",
       "Name: distance, dtype: float64"
      ]
     },
     "metadata": {},
     "output_type": "display_data"
    },
    {
     "data": {
      "text/plain": [
       "0.002307692307692308"
      ]
     },
     "metadata": {},
     "output_type": "display_data"
    },
    {
     "data": {
      "text/plain": [
       "count    11568.000000\n",
       "mean      3045.495282\n",
       "std       1246.173806\n",
       "min          0.855683\n",
       "25%       2366.562689\n",
       "50%       3114.648465\n",
       "75%       3905.697894\n",
       "max       7211.007745\n",
       "Name: distance, dtype: float64"
      ]
     },
     "metadata": {},
     "output_type": "display_data"
    },
    {
     "data": {
      "text/plain": [
       "0.04728561549100968"
      ]
     },
     "metadata": {},
     "output_type": "display_data"
    }
   ],
   "source": [
    "display(urson['distance'].describe())\n",
    "display(len(urson[urson['distance'] < 500]) / (len(urson['distance'])))\n",
    "display(ursoff['distance'].describe())\n",
    "display(len(ursoff[ursoff['distance'] < 500]) / (len(ursoff['distance'])))"
   ]
  },
  {
   "cell_type": "markdown",
   "id": "0edb72cd",
   "metadata": {},
   "source": [
    "<div class=\"alert alert-info\"  style=\"border-radius: 15px; box-shadow: 4px 4px 4px; border: 1px solid \">\n",
    "    \n",
    "<h2>Комментарий студента v_1: <a class=\"tocSkip\"> </h2>\n",
    "\n",
    "Взглянув более детально на дистанцию у двух групп, примечательно, что медиана у них практически одинаковая, но разброс значений явно шире у группы free (ursoff). Здесь можно предположить, что коротких поездок больше у группы free. Также, путем нехитрых расчётов выясняем, что доля поездок менее 500 метров у пользователей free вдвое выше, чем у ultra (0.47% vs 0.23%)"
   ]
  },
  {
   "cell_type": "code",
   "execution_count": 34,
   "id": "554b782e",
   "metadata": {},
   "outputs": [
    {
     "data": {
      "text/plain": [
       "count    6500.000000\n",
       "mean       19.037692\n",
       "std         5.577439\n",
       "min         4.000000\n",
       "25%        15.000000\n",
       "50%        19.000000\n",
       "75%        22.000000\n",
       "max        41.000000\n",
       "Name: duration, dtype: float64"
      ]
     },
     "metadata": {},
     "output_type": "display_data"
    },
    {
     "data": {
      "text/plain": [
       "count    11568.000000\n",
       "mean        17.890992\n",
       "std          6.330250\n",
       "min          1.000000\n",
       "25%         13.000000\n",
       "50%         18.000000\n",
       "75%         22.000000\n",
       "max         35.000000\n",
       "Name: duration, dtype: float64"
      ]
     },
     "metadata": {},
     "output_type": "display_data"
    }
   ],
   "source": [
    "display(urson['duration'].describe())\n",
    "display(ursoff['duration'].describe())"
   ]
  },
  {
   "cell_type": "markdown",
   "id": "cf078e35",
   "metadata": {},
   "source": [
    "<div class=\"alert alert-info\"  style=\"border-radius: 15px; box-shadow: 4px 4px 4px; border: 1px solid \">\n",
    "    \n",
    "<h2>Комментарий студента v_1: <a class=\"tocSkip\"> </h2>\n",
    "\n",
    "По времени поездки у free и ultra - картина схода с расстоянием, медианы у обоих групп отличаются незначительно, кроме этого, можно обратить внимание, что у обеих групп медиана практически соответствует среднему значению. Разница в стандартном отклонении во времени поездок между группами здесь менее значительна, чем в расстоянии, особенно, если учесть, что в группе ultra ряд значений имеют некорректное время поездки."
   ]
  },
  {
   "cell_type": "markdown",
   "id": "73615d4b",
   "metadata": {},
   "source": [
    "Взглянув на расстояние и продолжительность поездок пользователей с подпиской и без подписки можно сделать вывод, что распределение значений по данным параметрам практически идентичное."
   ]
  },
  {
   "cell_type": "markdown",
   "id": "af9af6d5",
   "metadata": {},
   "source": [
    "<div class=\"alert alert-block alert-danger\" style=\"border-radius: 15px; box-shadow: 4px 4px 4px; border: 1px solid \">\n",
    "<h2> Комментарий ревьюера v_1: <a class=\"tocSkip\"></h2>\n",
    "    \n",
    "❌ Что касается дистанции, у каких пользователей бОльший диапазон расстояния поездок и чаще встречаются короткие поездки (до 500 м)? \n",
    "    \n",
    "По длительности у каких пользователей чуть бОльший разброс (на графике или сравнить стандартное отклонение)?\n",
    "    \n",
    "Можно ли сказать, что графики сильно различаются друг от друга?"
   ]
  },
  {
   "cell_type": "markdown",
   "id": "ecec47b5",
   "metadata": {},
   "source": [
    "<div class=\"alert alert-info\"  style=\"border-radius: 15px; box-shadow: 4px 4px 4px; border: 1px solid \">\n",
    "    \n",
    "<h2>Комментарий студента v_1: <a class=\"tocSkip\"> </h2>\n",
    "\n",
    "В целом, разброс больше в группе free, но и записей в этой группе почти вдвое больше, чем в ultra.\n",
    "В группе free выше стандартное отклонение и по расстоянию поездки, и по времени."
   ]
  },
  {
   "cell_type": "markdown",
   "id": "ccd409b0",
   "metadata": {},
   "source": [
    "<div class=\"alert alert-success\" style=\"border-radius: 15px; box-shadow: 4px 4px 4px; border: 1px solid \">\n",
    "<h2> Комментарий ревьюера v_2: <a class=\"tocSkip\"> </h2>\n",
    "    \n",
    "✅ Принято"
   ]
  },
  {
   "cell_type": "markdown",
   "id": "f3fc22d5",
   "metadata": {},
   "source": [
    "*Общий вывод по этапу \"Объединение данных\"*\\\n",
    "По итогам данного этапа датафреймы были объеденены в 1 общий, а также выведены 2 отдельных датафрейма для разных типов подписки.\n",
    "Сравнив параметры поездок пользователей с подпиской и без подписки, можно сделать вывод, что расстояние и продолжительность поездок у обеих групп не имеют явных отличий."
   ]
  },
  {
   "cell_type": "markdown",
   "id": "402d620f",
   "metadata": {},
   "source": [
    "#### Шаг 5. Подсчёт выручки"
   ]
  },
  {
   "cell_type": "markdown",
   "id": "a3b3f104",
   "metadata": {},
   "source": [
    "5.1. На основе датафрейма urs создадим новую таблицу (urs_agg) с суммарным расстоянием, количеством и временем поездок для каждого пользователя, за каждый месяц:"
   ]
  },
  {
   "cell_type": "code",
   "execution_count": 35,
   "id": "b339f2f4",
   "metadata": {},
   "outputs": [
    {
     "data": {
      "text/html": [
       "<div>\n",
       "<style scoped>\n",
       "    .dataframe tbody tr th:only-of-type {\n",
       "        vertical-align: middle;\n",
       "    }\n",
       "\n",
       "    .dataframe tbody tr th {\n",
       "        vertical-align: top;\n",
       "    }\n",
       "\n",
       "    .dataframe thead tr th {\n",
       "        text-align: left;\n",
       "    }\n",
       "\n",
       "    .dataframe thead tr:last-of-type th {\n",
       "        text-align: right;\n",
       "    }\n",
       "</style>\n",
       "<table border=\"1\" class=\"dataframe\">\n",
       "  <thead>\n",
       "    <tr>\n",
       "      <th></th>\n",
       "      <th></th>\n",
       "      <th colspan=\"2\" halign=\"left\">distance</th>\n",
       "      <th colspan=\"2\" halign=\"left\">duration</th>\n",
       "    </tr>\n",
       "    <tr>\n",
       "      <th></th>\n",
       "      <th></th>\n",
       "      <th>count</th>\n",
       "      <th>sum</th>\n",
       "      <th>count</th>\n",
       "      <th>sum</th>\n",
       "    </tr>\n",
       "    <tr>\n",
       "      <th>month</th>\n",
       "      <th>user_id</th>\n",
       "      <th></th>\n",
       "      <th></th>\n",
       "      <th></th>\n",
       "      <th></th>\n",
       "    </tr>\n",
       "  </thead>\n",
       "  <tbody>\n",
       "    <tr>\n",
       "      <th rowspan=\"5\" valign=\"top\">1</th>\n",
       "      <th>1</th>\n",
       "      <td>2</td>\n",
       "      <td>7027.511294</td>\n",
       "      <td>2</td>\n",
       "      <td>42.0</td>\n",
       "    </tr>\n",
       "    <tr>\n",
       "      <th>3</th>\n",
       "      <td>1</td>\n",
       "      <td>3061.777147</td>\n",
       "      <td>1</td>\n",
       "      <td>13.0</td>\n",
       "    </tr>\n",
       "    <tr>\n",
       "      <th>5</th>\n",
       "      <td>1</td>\n",
       "      <td>3914.646990</td>\n",
       "      <td>1</td>\n",
       "      <td>13.0</td>\n",
       "    </tr>\n",
       "    <tr>\n",
       "      <th>7</th>\n",
       "      <td>2</td>\n",
       "      <td>6478.080979</td>\n",
       "      <td>2</td>\n",
       "      <td>28.0</td>\n",
       "    </tr>\n",
       "    <tr>\n",
       "      <th>12</th>\n",
       "      <td>1</td>\n",
       "      <td>3577.151148</td>\n",
       "      <td>1</td>\n",
       "      <td>33.0</td>\n",
       "    </tr>\n",
       "  </tbody>\n",
       "</table>\n",
       "</div>"
      ],
      "text/plain": [
       "              distance              duration      \n",
       "                 count          sum    count   sum\n",
       "month user_id                                     \n",
       "1     1              2  7027.511294        2  42.0\n",
       "      3              1  3061.777147        1  13.0\n",
       "      5              1  3914.646990        1  13.0\n",
       "      7              2  6478.080979        2  28.0\n",
       "      12             1  3577.151148        1  33.0"
      ]
     },
     "metadata": {},
     "output_type": "display_data"
    },
    {
     "data": {
      "text/html": [
       "<div>\n",
       "<style scoped>\n",
       "    .dataframe tbody tr th:only-of-type {\n",
       "        vertical-align: middle;\n",
       "    }\n",
       "\n",
       "    .dataframe tbody tr th {\n",
       "        vertical-align: top;\n",
       "    }\n",
       "\n",
       "    .dataframe thead th {\n",
       "        text-align: right;\n",
       "    }\n",
       "</style>\n",
       "<table border=\"1\" class=\"dataframe\">\n",
       "  <thead>\n",
       "    <tr style=\"text-align: right;\">\n",
       "      <th></th>\n",
       "      <th>month</th>\n",
       "      <th>user_id</th>\n",
       "      <th>rides_count</th>\n",
       "      <th>distance_sum</th>\n",
       "      <th>duration_sum</th>\n",
       "    </tr>\n",
       "  </thead>\n",
       "  <tbody>\n",
       "    <tr>\n",
       "      <th>0</th>\n",
       "      <td>1</td>\n",
       "      <td>1</td>\n",
       "      <td>2</td>\n",
       "      <td>7027.511294</td>\n",
       "      <td>42.0</td>\n",
       "    </tr>\n",
       "    <tr>\n",
       "      <th>1</th>\n",
       "      <td>1</td>\n",
       "      <td>3</td>\n",
       "      <td>1</td>\n",
       "      <td>3061.777147</td>\n",
       "      <td>13.0</td>\n",
       "    </tr>\n",
       "    <tr>\n",
       "      <th>2</th>\n",
       "      <td>1</td>\n",
       "      <td>5</td>\n",
       "      <td>1</td>\n",
       "      <td>3914.646990</td>\n",
       "      <td>13.0</td>\n",
       "    </tr>\n",
       "    <tr>\n",
       "      <th>3</th>\n",
       "      <td>1</td>\n",
       "      <td>7</td>\n",
       "      <td>2</td>\n",
       "      <td>6478.080979</td>\n",
       "      <td>28.0</td>\n",
       "    </tr>\n",
       "    <tr>\n",
       "      <th>4</th>\n",
       "      <td>1</td>\n",
       "      <td>12</td>\n",
       "      <td>1</td>\n",
       "      <td>3577.151148</td>\n",
       "      <td>33.0</td>\n",
       "    </tr>\n",
       "  </tbody>\n",
       "</table>\n",
       "</div>"
      ],
      "text/plain": [
       "   month  user_id  rides_count  distance_sum  duration_sum\n",
       "0      1        1            2   7027.511294          42.0\n",
       "1      1        3            1   3061.777147          13.0\n",
       "2      1        5            1   3914.646990          13.0\n",
       "3      1        7            2   6478.080979          28.0\n",
       "4      1       12            1   3577.151148          33.0"
      ]
     },
     "metadata": {},
     "output_type": "display_data"
    },
    {
     "name": "stdout",
     "output_type": "stream",
     "text": [
      "<class 'pandas.core.frame.DataFrame'>\n",
      "RangeIndex: 11331 entries, 0 to 11330\n",
      "Data columns (total 5 columns):\n",
      " #   Column        Non-Null Count  Dtype  \n",
      "---  ------        --------------  -----  \n",
      " 0   month         11331 non-null  int64  \n",
      " 1   user_id       11331 non-null  int64  \n",
      " 2   rides_count   11331 non-null  int64  \n",
      " 3   distance_sum  11331 non-null  float64\n",
      " 4   duration_sum  11331 non-null  float64\n",
      "dtypes: float64(2), int64(3)\n",
      "memory usage: 442.7 KB\n"
     ]
    },
    {
     "data": {
      "text/plain": [
       "None"
      ]
     },
     "metadata": {},
     "output_type": "display_data"
    }
   ],
   "source": [
    "urs_agg = urs.pivot_table(index = ('month', 'user_id'), values = ('distance', 'duration'), aggfunc = ('sum', 'count'))\n",
    "display(urs_agg.head())\n",
    "urs_agg.columns = urs_agg.columns.map('_'.join)\n",
    "urs_agg = urs_agg.drop('duration_count', axis = 1)\n",
    "urs_agg = urs_agg.rename(columns={'distance_count': 'rides_count'})\n",
    "urs_agg = urs_agg.reset_index(drop = False)\n",
    "display(urs_agg.head())\n",
    "display(urs_agg.info())"
   ]
  },
  {
   "cell_type": "markdown",
   "id": "c7e45d7a",
   "metadata": {},
   "source": [
    "5.2. Добавим в urs_agg новый столбец с информацией о выручке по каждому пользователю, за каждый месяц:"
   ]
  },
  {
   "cell_type": "code",
   "execution_count": 36,
   "id": "3fa5c119",
   "metadata": {},
   "outputs": [],
   "source": [
    "urs_agg = urs_agg.merge(users, on = 'user_id')"
   ]
  },
  {
   "cell_type": "code",
   "execution_count": 37,
   "id": "a1018ed0",
   "metadata": {},
   "outputs": [],
   "source": [
    "urs_agg = urs_agg.merge(subscriptions, on = 'subscription_type')"
   ]
  },
  {
   "cell_type": "code",
   "execution_count": 38,
   "id": "f0db346e",
   "metadata": {
    "scrolled": false
   },
   "outputs": [
    {
     "data": {
      "text/html": [
       "<div>\n",
       "<style scoped>\n",
       "    .dataframe tbody tr th:only-of-type {\n",
       "        vertical-align: middle;\n",
       "    }\n",
       "\n",
       "    .dataframe tbody tr th {\n",
       "        vertical-align: top;\n",
       "    }\n",
       "\n",
       "    .dataframe thead th {\n",
       "        text-align: right;\n",
       "    }\n",
       "</style>\n",
       "<table border=\"1\" class=\"dataframe\">\n",
       "  <thead>\n",
       "    <tr style=\"text-align: right;\">\n",
       "      <th></th>\n",
       "      <th>month</th>\n",
       "      <th>user_id</th>\n",
       "      <th>rides_count</th>\n",
       "      <th>distance_sum</th>\n",
       "      <th>duration_sum</th>\n",
       "      <th>name</th>\n",
       "      <th>age</th>\n",
       "      <th>city</th>\n",
       "      <th>subscription_type</th>\n",
       "      <th>minute_price</th>\n",
       "      <th>start_ride_price</th>\n",
       "      <th>subscription_fee</th>\n",
       "      <th>income</th>\n",
       "    </tr>\n",
       "  </thead>\n",
       "  <tbody>\n",
       "    <tr>\n",
       "      <th>0</th>\n",
       "      <td>1</td>\n",
       "      <td>1</td>\n",
       "      <td>2</td>\n",
       "      <td>7027.511294</td>\n",
       "      <td>42.0</td>\n",
       "      <td>Кира</td>\n",
       "      <td>22</td>\n",
       "      <td>Тюмень</td>\n",
       "      <td>ultra</td>\n",
       "      <td>6</td>\n",
       "      <td>0</td>\n",
       "      <td>199</td>\n",
       "      <td>451.0</td>\n",
       "    </tr>\n",
       "    <tr>\n",
       "      <th>1</th>\n",
       "      <td>4</td>\n",
       "      <td>1</td>\n",
       "      <td>1</td>\n",
       "      <td>754.159807</td>\n",
       "      <td>7.0</td>\n",
       "      <td>Кира</td>\n",
       "      <td>22</td>\n",
       "      <td>Тюмень</td>\n",
       "      <td>ultra</td>\n",
       "      <td>6</td>\n",
       "      <td>0</td>\n",
       "      <td>199</td>\n",
       "      <td>241.0</td>\n",
       "    </tr>\n",
       "    <tr>\n",
       "      <th>2</th>\n",
       "      <td>8</td>\n",
       "      <td>1</td>\n",
       "      <td>2</td>\n",
       "      <td>6723.470560</td>\n",
       "      <td>46.0</td>\n",
       "      <td>Кира</td>\n",
       "      <td>22</td>\n",
       "      <td>Тюмень</td>\n",
       "      <td>ultra</td>\n",
       "      <td>6</td>\n",
       "      <td>0</td>\n",
       "      <td>199</td>\n",
       "      <td>475.0</td>\n",
       "    </tr>\n",
       "    <tr>\n",
       "      <th>3</th>\n",
       "      <td>10</td>\n",
       "      <td>1</td>\n",
       "      <td>2</td>\n",
       "      <td>5809.911100</td>\n",
       "      <td>32.0</td>\n",
       "      <td>Кира</td>\n",
       "      <td>22</td>\n",
       "      <td>Тюмень</td>\n",
       "      <td>ultra</td>\n",
       "      <td>6</td>\n",
       "      <td>0</td>\n",
       "      <td>199</td>\n",
       "      <td>391.0</td>\n",
       "    </tr>\n",
       "    <tr>\n",
       "      <th>4</th>\n",
       "      <td>11</td>\n",
       "      <td>1</td>\n",
       "      <td>3</td>\n",
       "      <td>7003.499363</td>\n",
       "      <td>56.0</td>\n",
       "      <td>Кира</td>\n",
       "      <td>22</td>\n",
       "      <td>Тюмень</td>\n",
       "      <td>ultra</td>\n",
       "      <td>6</td>\n",
       "      <td>0</td>\n",
       "      <td>199</td>\n",
       "      <td>535.0</td>\n",
       "    </tr>\n",
       "  </tbody>\n",
       "</table>\n",
       "</div>"
      ],
      "text/plain": [
       "   month  user_id  rides_count  distance_sum  duration_sum  name  age    city  \\\n",
       "0      1        1            2   7027.511294          42.0  Кира   22  Тюмень   \n",
       "1      4        1            1    754.159807           7.0  Кира   22  Тюмень   \n",
       "2      8        1            2   6723.470560          46.0  Кира   22  Тюмень   \n",
       "3     10        1            2   5809.911100          32.0  Кира   22  Тюмень   \n",
       "4     11        1            3   7003.499363          56.0  Кира   22  Тюмень   \n",
       "\n",
       "  subscription_type  minute_price  start_ride_price  subscription_fee  income  \n",
       "0             ultra             6                 0               199   451.0  \n",
       "1             ultra             6                 0               199   241.0  \n",
       "2             ultra             6                 0               199   475.0  \n",
       "3             ultra             6                 0               199   391.0  \n",
       "4             ultra             6                 0               199   535.0  "
      ]
     },
     "execution_count": 38,
     "metadata": {},
     "output_type": "execute_result"
    }
   ],
   "source": [
    "urs_agg['income'] = (urs_agg['rides_count'] * urs_agg['start_ride_price'] +\n",
    "                     urs_agg['duration_sum'] * urs_agg['minute_price'] +\n",
    "                     urs_agg['subscription_fee'])\n",
    "urs_agg.head()"
   ]
  },
  {
   "cell_type": "markdown",
   "id": "2e6f00c1",
   "metadata": {},
   "source": [
    "<div class=\"alert alert-success\" style=\"border-radius: 15px; box-shadow: 4px 4px 4px; border: 1px solid \">\n",
    "<h2> Комментарий ревьюера v_1: <a class=\"tocSkip\"> </h2>\n",
    "    \n",
    "✅ Всё верно. Выручка рассчитана корректно"
   ]
  },
  {
   "cell_type": "markdown",
   "id": "387281d7",
   "metadata": {},
   "source": [
    "*Общий вывод по этапу \"Подсчет выручки\"*\\\n",
    "Подведем итог, что было сделано на данном этапе:\n",
    "1. Создана новая таблица urs_agg, с аггрегированными данными по пользователям в разрезе месяцев.\n",
    "2. На основе urs_agg была рассчитана выручка по каждому пользователю в разрезе месяцев, добавлен столбец income.\n"
   ]
  },
  {
   "cell_type": "markdown",
   "id": "41545ac0",
   "metadata": {},
   "source": [
    "#### Шаг 6. Проверка гипотез"
   ]
  },
  {
   "cell_type": "markdown",
   "id": "2e3df2f7",
   "metadata": {},
   "source": [
    "6.1 Важно понять, тратят ли пользователи с подпиской больше времени на поездки? Если да, то пользователи с подпиской могут быть «выгоднее» для компании. Проверьте гипотезу. Используйте исходные данные о продолжительности каждой сессии — отдельно для подписчиков и тех, у кого нет подписки."
   ]
  },
  {
   "cell_type": "markdown",
   "id": "b79fddd2",
   "metadata": {},
   "source": [
    "В данном случае, мы имеем дело с односторонней гипотезой: пользователи с подпиской больше времени тратят на поездки.\n",
    "Для проверки гипотезы, выведем среднее время поездок без подписки, и далее сравним его со временем поездок пользователей с подпиской."
   ]
  },
  {
   "cell_type": "markdown",
   "id": "72510968",
   "metadata": {},
   "source": [
    "<div class=\"alert alert-info\"  style=\"border-radius: 15px; box-shadow: 4px 4px 4px; border: 1px solid \">\n",
    "    \n",
    "<h2>Комментарий студента v_1: <a class=\"tocSkip\"> </h2>\n",
    "\n",
    "Формулировки гипотез:\\\n",
    "1-я пара:\\\n",
    "H0: пользователи ultra тратят на поездки то же время, как и пользователи free.\\\n",
    "H1: пользователи ultra тратят больше времени на поездки, чем пользователи free\n",
    "    \n",
    "2-я пара:\\\n",
    "H0: пользователи ultra тратят на поездки то же время, как и пользователи free.\\\n",
    "H1: пользователи ultra тратят меньше времени на поездки, чем пользователи free"
   ]
  },
  {
   "cell_type": "markdown",
   "id": "3a56aec2",
   "metadata": {},
   "source": [
    "<div class=\"alert alert-block alert-danger\" style=\"border-radius: 15px; box-shadow: 4px 4px 4px; border: 1px solid \">\n",
    "<h2> Комментарий ревьюера v_2: <a class=\"tocSkip\"></h2>\n",
    "    \n",
    "❌ В нулевой должно быть \"равно\". Формулировки \"меньше либо равно\" нет в задании"
   ]
  },
  {
   "cell_type": "markdown",
   "id": "1840cf75",
   "metadata": {},
   "source": [
    "<div class=\"alert alert-info\"  style=\"border-radius: 15px; box-shadow: 4px 4px 4px; border: 1px solid \">\n",
    "    \n",
    "<h2>Комментарий студента v_2: <a class=\"tocSkip\"> </h2>\n",
    "\n",
    "Я почему-то думал, что в нулевой гипотезе обязательно должно быть равенство, при этом включая меньше-больше или равно. Гипотезу поправил в первом комментарии. Значит, в данном случае потребуется две пары гипотез, если я мыслю верно."
   ]
  },
  {
   "cell_type": "markdown",
   "id": "513ff57f",
   "metadata": {},
   "source": [
    "<div class=\"alert alert-success\" style=\"border-radius: 15px; box-shadow: 4px 4px 4px; border: 1px solid \">\n",
    "<h2> Комментарий ревьюера v_3: <a class=\"tocSkip\"> </h2>\n",
    "    \n",
    "✅ В данном случае равно, но в других кейсах может быть меньше или равно. Например, в п. 6.2"
   ]
  },
  {
   "cell_type": "markdown",
   "id": "0fb94843",
   "metadata": {},
   "source": [
    "<div class=\"alert alert-block alert-danger\" style=\"border-radius: 15px; box-shadow: 4px 4px 4px; border: 1px solid \">\n",
    "<h2> Комментарий ревьюера v_1: <a class=\"tocSkip\"></h2>\n",
    "    \n",
    "❌ Здесь должна быть сформулирована нулевая и альтернативная гипотеза. Это же замечание касается и других пунктов данного раздела. О гипотезах есть в уроке \"Формулирование гипотез\" в теме \"Проверка гипотез\" раздела \"Статистический анализ данных\". Формулировки гипотез должны быть полными."
   ]
  },
  {
   "cell_type": "markdown",
   "id": "8324f1c9",
   "metadata": {},
   "source": [
    "<div class=\"alert alert-info\"  style=\"border-radius: 15px; box-shadow: 4px 4px 4px; border: 1px solid \">\n",
    "    \n",
    "<h2>Комментарий студента v_2: <a class=\"tocSkip\"> </h2>\n",
    "\n",
    "Поразмыслив, приходит на ум, что здесь нам нужно поработать с гипотезой о равенстве средних двух величин ген. совокупности, пробуем:"
   ]
  },
  {
   "cell_type": "code",
   "execution_count": 39,
   "id": "7d62c661",
   "metadata": {},
   "outputs": [
    {
     "name": "stdout",
     "output_type": "stream",
     "text": [
      "p-значение: 2.4959453720736625e-34\n",
      "Отвергаем нулевую гипотезу\n"
     ]
    }
   ],
   "source": [
    "# Проверяем 1-ю пару гипотез\n",
    "free_duration = urs[urs['subscription_type'] == 'free']['duration']\n",
    "ultra_duration = urs[urs['subscription_type'] == 'ultra']['duration']\n",
    "alpha = 0.05\n",
    "\n",
    "results = st.ttest_ind(\n",
    "    ultra_duration, \n",
    "    free_duration,\n",
    "      alternative='greater')\n",
    "\n",
    "print('p-значение:', results.pvalue)\n",
    "\n",
    "if (results.pvalue < alpha):\n",
    "    print('Отвергаем нулевую гипотезу')\n",
    "else:\n",
    "    print('Не отвергаем нулевую гипотезу') \n"
   ]
  },
  {
   "cell_type": "code",
   "execution_count": 40,
   "id": "1073ac39",
   "metadata": {},
   "outputs": [
    {
     "name": "stdout",
     "output_type": "stream",
     "text": [
      "p-значение: 1.0\n",
      "Не отвергаем нулевую гипотезу\n"
     ]
    }
   ],
   "source": [
    "# Проверяем 2-ю пару гипотез\n",
    "free_duration = urs[urs['subscription_type'] == 'free']['duration']\n",
    "ultra_duration = urs[urs['subscription_type'] == 'ultra']['duration']\n",
    "alpha = 0.05\n",
    "\n",
    "results = st.ttest_ind(\n",
    "    ultra_duration, \n",
    "    free_duration,\n",
    "      alternative='less')\n",
    "\n",
    "print('p-значение:', results.pvalue)\n",
    "\n",
    "if (results.pvalue < alpha):\n",
    "    print('Отвергаем нулевую гипотезу')\n",
    "else:\n",
    "    print('Не отвергаем нулевую гипотезу') \n"
   ]
  },
  {
   "cell_type": "markdown",
   "id": "92ca83cb",
   "metadata": {},
   "source": [
    "<div class=\"alert alert-block alert-danger\" style=\"border-radius: 15px; box-shadow: 4px 4px 4px; border: 1px solid \">\n",
    "<h2> Комментарий ревьюера v_1: <a class=\"tocSkip\"></h2>\n",
    "    \n",
    "❌ \"Важно понять, тратят ли пользователи с подпиской больше времени на поездки\" - как именно должна быть сформулирована альтернативная гипотеза? Необходимо добавить соответствующий аргумент в параметр alternative"
   ]
  },
  {
   "cell_type": "markdown",
   "id": "7c9ebfac",
   "metadata": {},
   "source": [
    "<div class=\"alert alert-info\"  style=\"border-radius: 15px; box-shadow: 4px 4px 4px; border: 1px solid \">\n",
    "    \n",
    "<h2>Комментарий студента v_1: <a class=\"tocSkip\"> </h2>\n",
    "\n",
    "Здесь вроде поправил, в итоге H0 отвергается"
   ]
  },
  {
   "cell_type": "markdown",
   "id": "4d4477a7",
   "metadata": {},
   "source": [
    "<div class=\"alert alert-block alert-danger\" style=\"border-radius: 15px; box-shadow: 4px 4px 4px; border: 1px solid \">\n",
    "<h2> Комментарий ревьюера v_2: <a class=\"tocSkip\"></h2>\n",
    "    \n",
    "❌ Одно агрегированное число сравнивать не совсем верно. Выборки должны быть схожие"
   ]
  },
  {
   "cell_type": "markdown",
   "id": "cceca582",
   "metadata": {},
   "source": [
    "<div class=\"alert alert-info\"  style=\"border-radius: 15px; box-shadow: 4px 4px 4px; border: 1px solid \">\n",
    "    \n",
    "<h2>Комментарий студента v_2: <a class=\"tocSkip\"> </h2>\n",
    "\n",
    "Итого попробовал проверить две пары гипотез методом st.ttest_ind(), получается следующее:\\\n",
    "1-я пара:\\\n",
    "H0: пользователи ultra тратят на поездки то же время, как и пользователи free - **отвергнута**\\\n",
    "H1: пользователи ultra тратят больше времени на поездки, чем пользователи free\n",
    "    \n",
    "2-я пара:\\\n",
    "H0: пользователи ultra тратят на поездки то же время, как и пользователи free - **не отвергнута**\\\n",
    "H1: пользователи ultra тратят меньше времени на поездки, чем пользователи free\n",
    "    \n",
    "**Следовательно, итог здесь выходит в пользу того, что в пользователи ultra тратят все же больше времени на поездки, нежели free.**"
   ]
  },
  {
   "cell_type": "markdown",
   "id": "51e5b633",
   "metadata": {},
   "source": [
    "<div class=\"alert alert-warning\" style=\"border-radius: 15px; box-shadow: 4px 4px 4px; border: 1px solid \">\n",
    "<h2> Комментарий ревьюера v_3: <a class=\"tocSkip\"> </h2>\n",
    "    \n",
    "⚠️ Лучше написать менее категорично: \"Нулевая гипотеза (о чем?) отвергнута, есть основания утверждать, что...\". Мы можем с определенной долей вероятности допустить, что скорее всего верна соответствующая гипотеза."
   ]
  },
  {
   "cell_type": "markdown",
   "id": "80a7df93",
   "metadata": {},
   "source": [
    "6.2 Расстояние одной поездки в \n",
    "3130 метров — оптимальное с точки зрения износа самоката. Можно ли сказать, что среднее расстояние, которое проезжают пользователи с подпиской за одну поездку, не превышает \n",
    "3130 метров? Проверьте гипотезу и сделайте выводы."
   ]
  },
  {
   "cell_type": "markdown",
   "id": "cf1260da",
   "metadata": {},
   "source": [
    "Здесь можем применить одностроннюю гипотезу - расстояние 1 поездки пользователей ultra менее 3130 м."
   ]
  },
  {
   "cell_type": "markdown",
   "id": "330b4780",
   "metadata": {},
   "source": [
    "<div class=\"alert alert-info\"  style=\"border-radius: 15px; box-shadow: 4px 4px 4px; border: 1px solid \">\n",
    "    \n",
    "<h2>Комментарий студента v_1: <a class=\"tocSkip\"> </h2>\n",
    "\n",
    "Формулировки гипотез:\\\n",
    "H0: пользователи ultra равное 3130 м. расстояние за поездку\\\n",
    "H1: пользователи ultra проезжают более 3130 м. за поездку."
   ]
  },
  {
   "cell_type": "markdown",
   "id": "cddd09e0",
   "metadata": {},
   "source": [
    "<div class=\"alert alert-success\" style=\"border-radius: 15px; box-shadow: 4px 4px 4px; border: 1px solid \">\n",
    "<h2> Комментарий ревьюера v_2: <a class=\"tocSkip\"> </h2>\n",
    "    \n",
    "✅ +"
   ]
  },
  {
   "cell_type": "code",
   "execution_count": 41,
   "id": "c0d3f58f",
   "metadata": {
    "scrolled": true
   },
   "outputs": [
    {
     "name": "stdout",
     "output_type": "stream",
     "text": [
      "p-значение: 0.9195368847849785\n",
      "Не отвергаем нулевую гипотезу\n"
     ]
    }
   ],
   "source": [
    "target_distance = 3130\n",
    "ultra_distance = urs[urs['subscription_type'] == 'ultra']['distance'] \n",
    "alpha = 0.05\n",
    "\n",
    "results_ud = st.ttest_1samp(\n",
    "    ultra_distance, \n",
    "    target_distance,\n",
    "      alternative='greater')\n",
    "\n",
    "print('p-значение:', results_ud.pvalue)\n",
    "\n",
    "if (results_ud.pvalue < alpha):\n",
    "    print('Отвергаем нулевую гипотезу')\n",
    "else:\n",
    "    print('Не отвергаем нулевую гипотезу') "
   ]
  },
  {
   "cell_type": "markdown",
   "id": "4de2782b",
   "metadata": {},
   "source": [
    "<div class=\"alert alert-success\" style=\"border-radius: 15px; box-shadow: 4px 4px 4px; border: 1px solid \">\n",
    "<h2> Комментарий ревьюера v_1: <a class=\"tocSkip\"> </h2>\n",
    "    \n",
    "✅ Результат верный"
   ]
  },
  {
   "cell_type": "markdown",
   "id": "2ac8410b",
   "metadata": {},
   "source": [
    "В данном случае видим, что очень высока вероятность поездки с расстоянием менее 3130 м, следовательно, гипотеза не отвергается."
   ]
  },
  {
   "cell_type": "markdown",
   "id": "50cb930d",
   "metadata": {},
   "source": [
    "6.3 Проверьте гипотезу о том, будет ли помесячная выручка от пользователей с подпиской по месяцам выше, чем выручка от пользователей без подписки. Сделайте вывод."
   ]
  },
  {
   "cell_type": "markdown",
   "id": "b86d8ca8",
   "metadata": {},
   "source": [
    "Насолько я понял, здесь речь о суммарной выручке в разрезе типа подписки и месяцев:"
   ]
  },
  {
   "cell_type": "markdown",
   "id": "a45a7063",
   "metadata": {},
   "source": [
    "<div class=\"alert alert-info\"  style=\"border-radius: 15px; box-shadow: 4px 4px 4px; border: 1px solid \">\n",
    "    \n",
    "<h2>Комментарий студента v_1: <a class=\"tocSkip\"> </h2>\n",
    "\n",
    "Формулировки гипотез:\\\n",
    "H0: выручка от пользователей ultra равна выручке от пользователей free\\\n",
    "H1: выручка от пользователей ultra больше, чем выручка от пользователей free"
   ]
  },
  {
   "cell_type": "markdown",
   "id": "7aa666bf",
   "metadata": {},
   "source": [
    "<div class=\"alert alert-block alert-danger\" style=\"border-radius: 15px; box-shadow: 4px 4px 4px; border: 1px solid \">\n",
    "<h2> Комментарий ревьюера v_2: <a class=\"tocSkip\"></h2>\n",
    "    \n",
    "❌ Аналогично п. 6.1"
   ]
  },
  {
   "cell_type": "markdown",
   "id": "c5e9038c",
   "metadata": {},
   "source": [
    "<div class=\"alert alert-success\" style=\"border-radius: 15px; box-shadow: 4px 4px 4px; border: 1px solid \">\n",
    "<h2> Комментарий ревьюера v_3: <a class=\"tocSkip\"> </h2>\n",
    "    \n",
    "✅ +"
   ]
  },
  {
   "cell_type": "code",
   "execution_count": 42,
   "id": "e7f1adf6",
   "metadata": {
    "scrolled": false
   },
   "outputs": [
    {
     "name": "stdout",
     "output_type": "stream",
     "text": [
      "p-значение: 1.8850394384715216e-31\n",
      "Отвергаем нулевую гипотезу\n"
     ]
    }
   ],
   "source": [
    "income_free_per_month = urs_agg[urs_agg['subscription_type'] == 'free']['income']\n",
    "income_ultra_per_month = urs_agg[urs_agg['subscription_type'] == 'ultra']['income']\n",
    "\n",
    "alpha = 0.05\n",
    "\n",
    "results_in = st.ttest_ind(income_ultra_per_month, income_free_per_month, alternative='greater')\n",
    "\n",
    "print('p-значение:', results_in.pvalue)\n",
    "\n",
    "if (results_in.pvalue < alpha):\n",
    "    print('Отвергаем нулевую гипотезу')\n",
    "else:\n",
    "    print('Не отвергаем нулевую гипотезу') "
   ]
  },
  {
   "cell_type": "markdown",
   "id": "19012774",
   "metadata": {},
   "source": [
    "<div class=\"alert alert-block alert-danger\" style=\"border-radius: 15px; box-shadow: 4px 4px 4px; border: 1px solid \">\n",
    "<h2> Комментарий ревьюера v_1: <a class=\"tocSkip\"></h2>\n",
    "    \n",
    "❌ Необходимо проверить гипотезу, используя метод ttest_ind() (урок \"Гипотеза о равенстве средних двух генеральных совокупностей\"). Также нужно скорректировать аргумент в alternative - \"проверьте гипотезу о том, что выручка от пользователей с подпиской выше, чем выручка от пользователей без подписки\".\n",
    "    \n",
    "Сравнивается здесь именно среднее, а не сумма, т.е. ничего агрегировать не нужно. Стоит только отфильтровать выборки по ultra и free."
   ]
  },
  {
   "cell_type": "code",
   "execution_count": 43,
   "id": "89f2ab8a",
   "metadata": {},
   "outputs": [
    {
     "data": {
      "text/plain": [
       "count    6798.000000\n",
       "mean      328.641365\n",
       "std       183.868330\n",
       "min        58.000000\n",
       "25%       194.000000\n",
       "50%       274.000000\n",
       "75%       428.000000\n",
       "max      1444.000000\n",
       "Name: income, dtype: float64"
      ]
     },
     "metadata": {},
     "output_type": "display_data"
    },
    {
     "data": {
      "text/plain": [
       "count    4533.000000\n",
       "mean      362.792191\n",
       "std        88.262737\n",
       "min       223.000000\n",
       "25%       301.000000\n",
       "50%       337.000000\n",
       "75%       409.000000\n",
       "max       955.000000\n",
       "Name: income, dtype: float64"
      ]
     },
     "metadata": {},
     "output_type": "display_data"
    }
   ],
   "source": [
    "display(income_free_per_month.describe())\n",
    "display(income_ultra_per_month.describe())"
   ]
  },
  {
   "cell_type": "markdown",
   "id": "31e6a642",
   "metadata": {},
   "source": [
    "<div class=\"alert alert-info\"  style=\"border-radius: 15px; box-shadow: 4px 4px 4px; border: 1px solid \">\n",
    "    \n",
    "<h2>Комментарий студента v_1: <a class=\"tocSkip\"> </h2>\n",
    "\n",
    "С помощью метода ttest_ind() пришел к выводу, что H0 не отвергнута, т.е. доход от пользователей ultra не является более высоким, чем от пользователей free."
   ]
  },
  {
   "cell_type": "markdown",
   "id": "b93acda9",
   "metadata": {},
   "source": [
    "<div class=\"alert alert-block alert-danger\" style=\"border-radius: 15px; box-shadow: 4px 4px 4px; border: 1px solid \">\n",
    "<h2> Комментарий ревьюера v_2: <a class=\"tocSkip\"></h2>\n",
    "    \n",
    "❌ Порядок выборок должен быть такой же, как в альтернативной гипотезе. Например, выборка 1 больше выборки 2. Значит, в тесте сначала указывается выборка 1, затем выборка 2 и аргумент 'greater' в alternative"
   ]
  },
  {
   "cell_type": "markdown",
   "id": "46a2058e",
   "metadata": {},
   "source": [
    "<div class=\"alert alert-info\"  style=\"border-radius: 15px; box-shadow: 4px 4px 4px; border: 1px solid \">\n",
    "    \n",
    "<h2>Комментарий студента v_2: <a class=\"tocSkip\"> </h2>\n",
    "\n",
    "Поправил порядок, намечается вывод, обратный предыдущему, пользователи ultra являются более доходными, чем пользователи free, т.к. гипотеза.\n",
    "    \n",
    "Чтобы убедиться в этом дополнительно, воспользовался методом describe() и, действительно, медиана и среднее говорит о том, что ultra все же более доходная категория."
   ]
  },
  {
   "cell_type": "markdown",
   "id": "c2643124",
   "metadata": {},
   "source": [
    "<div class=\"alert alert-success\" style=\"border-radius: 15px; box-shadow: 4px 4px 4px; border: 1px solid \">\n",
    "<h2> Комментарий ревьюера v_3: <a class=\"tocSkip\"> </h2>\n",
    "    \n",
    "✅ Хорошо"
   ]
  },
  {
   "cell_type": "markdown",
   "id": "1d578537",
   "metadata": {},
   "source": [
    "Здесь можно сделать вывод, что суммарная выручка с наибольшей долей вероятности будет выше по пользователям с подпиской free."
   ]
  },
  {
   "cell_type": "markdown",
   "id": "1e6b844e",
   "metadata": {},
   "source": [
    "6.4 Представьте такую ситуацию: техническая команда сервиса обновила сервера, с которыми взаимодействует мобильное приложение. Она надеется, что из-за этого количество обращений в техподдержку значимо снизилось. Некоторый файл содержит для каждого пользователя данные о количестве обращений до обновления и после него. Какой тест вам понадобился бы для проверки этой гипотезы?"
   ]
  },
  {
   "cell_type": "markdown",
   "id": "22a224d4",
   "metadata": {},
   "source": [
    "-В данном случае должен помочь двухвыборочный t-тест для зависимых выборок"
   ]
  },
  {
   "cell_type": "markdown",
   "id": "b7956734",
   "metadata": {},
   "source": [
    "<div class=\"alert alert-warning\" style=\"border-radius: 15px; box-shadow: 4px 4px 4px; border: 1px solid \">\n",
    "<h2> Комментарий ревьюера v_1: <a class=\"tocSkip\"> </h2>\n",
    "    \n",
    "⚠️ Подходит тест st.ttest_rel(). Но в задании еще написано: \"Она надеется, что из-за этого количество обращений в техподдержку значимо снизилось\". Какая должна быть гипотеза, односторонняя или двухсторонняя?"
   ]
  },
  {
   "cell_type": "markdown",
   "id": "ede88b6c",
   "metadata": {},
   "source": [
    "<div class=\"alert alert-info\"  style=\"border-radius: 15px; box-shadow: 4px 4px 4px; border: 1px solid \">\n",
    "    \n",
    "<h2>Комментарий студента v_1: <a class=\"tocSkip\"> </h2>\n",
    "\n",
    "Если не ошибаюсь, здесь имеет место быть одностронняя гипотеза, где:\\\n",
    "H0 = Кол-во обращений после обновления равно кол-ву обращений до обновления;\\\n",
    "H1 = Кол-во обращений после обновления меньше, чем до обновления."
   ]
  },
  {
   "cell_type": "markdown",
   "id": "aaeaf2ad",
   "metadata": {},
   "source": [
    "<div class=\"alert alert-warning\" style=\"border-radius: 15px; box-shadow: 4px 4px 4px; border: 1px solid \">\n",
    "<h2> Комментарий ревьюера v_2: <a class=\"tocSkip\"> </h2>\n",
    "    \n",
    "⚠️ Постановки задачи о том, что \"больше или равно\", не было."
   ]
  },
  {
   "cell_type": "markdown",
   "id": "433675f6",
   "metadata": {},
   "source": [
    "<div class=\"alert alert-info\"  style=\"border-radius: 15px; box-shadow: 4px 4px 4px; border: 1px solid \">\n",
    "    \n",
    "<h2>Комментарий студента v_2: <a class=\"tocSkip\"> </h2>\n",
    "\n",
    "Да, поправил на \"равно\""
   ]
  },
  {
   "cell_type": "markdown",
   "id": "e15b5395",
   "metadata": {},
   "source": [
    "<div class=\"alert alert-success\" style=\"border-radius: 15px; box-shadow: 4px 4px 4px; border: 1px solid \">\n",
    "<h2> Комментарий ревьюера v_3: <a class=\"tocSkip\"> </h2>\n",
    "    \n",
    "✅ +"
   ]
  },
  {
   "cell_type": "markdown",
   "id": "fb61a59a",
   "metadata": {},
   "source": [
    "*Общий вывод по этапу \"Проверка гипотез\"*\n",
    "\n",
    "1) по итогам расчетов, не была отвергнута гипотеза о большей трате вреиени на поездки пользователями ultra. Здесь с достаточной уверенностью можно предположить, что данная категория пользователей будет тратить больше времени на поездки.\n",
    "\n",
    "2) также, не была отвергнута гипотеза о том, что расстояние поездок пользователей с подпиской ultra обычно менее 3130 м. По аналогии с предыдущим пунктом можно предположить, что расстояние поездок в основном будет укладываться до 3130 м.\n",
    "\n",
    "3) проверяя гипотезу о большей помесячной выручке от пользователей ultra, по итогам расчётов, пришли к тому, что гипотеза отвергается - пользователи ultra в основном приносят меньше выручки."
   ]
  },
  {
   "cell_type": "markdown",
   "id": "61213c5e",
   "metadata": {},
   "source": [
    "#### Шаг 7. Распределения"
   ]
  },
  {
   "cell_type": "markdown",
   "id": "fe871e48",
   "metadata": {},
   "source": [
    "7.1 Отделу маркетинга GoFast поставили задачу: нужно провести акцию с раздачей промокодов на один бесплатный месяц подписки, в рамках которой как минимум 100 существующих клиентов должны продлить эту подписку. То есть по завершении периода действия подписки пользователь может либо отказаться от неё, либо продлить, совершив соответствующий платёж. \n",
    "\n",
    "Эта акция уже проводилась ранее и по итогу выяснилось, что после бесплатного пробного периода подписку продлевают 10 % пользователей. Выясните, какое минимальное количество промокодов нужно разослать, чтобы вероятность не выполнить план была примерно 5 %. Подберите параметры распределения, описывающего эту ситуацию, постройте график распределения и сформулируйте ответ на вопрос о количестве промокодов."
   ]
  },
  {
   "cell_type": "code",
   "execution_count": 44,
   "id": "85eef03a",
   "metadata": {
    "scrolled": true
   },
   "outputs": [
    {
     "data": {
      "text/plain": [
       "0.9512064034722397"
      ]
     },
     "metadata": {},
     "output_type": "display_data"
    }
   ],
   "source": [
    "n = 1170\n",
    "p = 0.1\n",
    "\n",
    "mu = n * p\n",
    "sigma = sqrt(n * p * (1 - p))\n",
    "distr = st.norm(mu, sigma) \n",
    "\n",
    "result = 1 - distr.cdf(100)\n",
    "display(result)\n"
   ]
  },
  {
   "cell_type": "markdown",
   "id": "e78b6762",
   "metadata": {},
   "source": [
    "<div class=\"alert alert-warning\" style=\"border-radius: 15px; box-shadow: 4px 4px 4px; border: 1px solid \">\n",
    "<h2> Комментарий ревьюера v_1: <a class=\"tocSkip\"> </h2>\n",
    "    \n",
    "⚠️ Лучше рассчитать с помощью цикла. Выбрать какое-нибудь количество промокодов (n) и увеличивать его на единицу, пока binom.cdf не станет равным или меньше 0.05 (в аргументах функции cdf стоит указать 99, n и p). \n",
    "    \n",
    "Для графика распределения в plot() на оси X задать количество успехов, на оси Y - вероятность с помощью функции pmf с такими аргументами, как количество успехов, количество промокодов и вероятность успеха."
   ]
  },
  {
   "cell_type": "markdown",
   "id": "7dfff358",
   "metadata": {},
   "source": [
    "<div class=\"alert alert-info\"  style=\"border-radius: 15px; box-shadow: 4px 4px 4px; border: 1px solid \">\n",
    "    \n",
    "<h2>Комментарий студента v_1: <a class=\"tocSkip\"> </h2>\n",
    "\n",
    "Да, эту часть явно стоит повторить еще разок-другой, пока сложновато"
   ]
  },
  {
   "cell_type": "markdown",
   "id": "39a146f8",
   "metadata": {},
   "source": [
    "Здесь методом подбора удалось найти значение, при котором вероятность выполнить план будет примерно равна 95%. Для этого отделу маркетинга будет необходимо разослать 1170 промокодов. С графиком распределения появилась сложность, ибо здесь большое значение n, либо я чего-то недопонял"
   ]
  },
  {
   "cell_type": "markdown",
   "id": "44fca18d",
   "metadata": {},
   "source": [
    "7.2 Отдел маркетинга рассылает клиентам push-уведомления в мобильном приложении. Клиенты могут открыть его или не открывать. Известно, что уведомления открывают около 40 % получивших клиентов. Отдел планирует разослать 1 млн уведомлений. С помощью аппроксимации постройте примерный график распределения и оцените вероятность того, что уведомление откроют не более 399,5 тыс. пользователей."
   ]
  },
  {
   "cell_type": "markdown",
   "id": "5f96cc36",
   "metadata": {},
   "source": [
    "пропускаю задачу, по распределениям в целом нужно пройтись еще разок."
   ]
  },
  {
   "cell_type": "markdown",
   "id": "61c38060",
   "metadata": {},
   "source": [
    "**Общий итог задачи**"
   ]
  },
  {
   "cell_type": "markdown",
   "id": "aab12817",
   "metadata": {},
   "source": [
    "1. Были загружены и проверены на пропуски, типы данных и дубликаты данные из 3-х таблиц: users, rides и subscriptuons.\n",
    "2. В части предобработки был изменен тип данных в rides['date'], а также были удалены дубликаты в users.\n",
    "3. По исследовательской части можно сделать следующие выводы:\\\n",
    "   3.1. Распрелеление пользователей по городам выглядит равномерно, при том, что пользователей из Москвы наименьшее кол-во, что обращает на себя внимание, учитывая население представленных городов. Глобально кажется, что выборка здесь должна быть побольше.\\\n",
    "   3.2. Около 40% пользователей имеют подписку ultra.\\\n",
    "   3.3. Большинство пользователей сервиса в возрасте от 18 до 33 лет.\\\n",
    "   3.4. Наиболее популярное расстояние для поездок - 2500-3500 м.\\\n",
    "   3.5. Основная часть поездок занимает 15-20 минут.\\\n",
    "4. На этапе Объединение данных датафреймы users, rides и subscriptions были объеденены в 1 общий - urs, а также выведены 2 отдельных датафрейма для разных типов подписки: urson и ursoff.\n",
    "Сравнив параметры поездок пользователей с подпиской и без подписки, можно сделать вывод, что расстояние и продолжительность поездок у обеих групп не имеют явных отличий\n",
    "5. Подсчет выручки: здесь создана новая таблица urs_agg, с аггрегированными данными по пользователям в разрезе месяцев. На основе urs_agg была рассчитана выручка по каждому пользователю в разрезе месяцев, добавлен столбец income.\n",
    "6. Проверка гипотез:\\\n",
    "   6.1. По итогам расчетов, не была отвергнута гипотеза о большей трате вреиени на поездки пользователями ultra. Здесь с достаточной уверенностью можно предположить, что данная категория пользователей будет тратить больше времени на поездки.\\\n",
    "   6.2. также, не была отвергнута гипотеза о том, что расстояние поездок пользователей с подпиской ultra обычно менее 3130 м. По аналогии с предыдущим пунктом можно предположить, что расстояние поездок в основном будет укладываться до 3130 м.\\\n",
    "   6.3. проверяя гипотезу о большей помесячной выручке от пользователей ultra, по итогам расчётов, пришли к тому, что гипотеза отвергается - пользователи ultra в основном приносят меньше выручки.\n"
   ]
  },
  {
   "cell_type": "markdown",
   "id": "90366947",
   "metadata": {},
   "source": [
    "<div class=\"alert alert-block alert-danger\" style=\"border-radius: 15px; box-shadow: 4px 4px 4px; border: 1px solid \">\n",
    "<h2> Комментарий ревьюера v_1: <a class=\"tocSkip\"></h2>\n",
    "    \n",
    "❌ Вывод нужно будет обновить после внесения изменений в проекте. Также стоит резюмировать, какие пользователи - с подпиской или без подписки - являются более выгодными для сервиса аренды самокатов."
   ]
  },
  {
   "cell_type": "markdown",
   "id": "c142b456",
   "metadata": {},
   "source": [
    "<div class=\"alert alert-block alert-danger\" style=\"border-radius: 15px; box-shadow: 4px 4px 4px; border: 1px solid \">\n",
    "<h2> Комментарий ревьюера v_2: <a class=\"tocSkip\"></h2>\n",
    "    \n",
    "❌ Вывод нужно будет перепроверить"
   ]
  },
  {
   "cell_type": "markdown",
   "id": "6d4f99ce",
   "metadata": {},
   "source": [
    "<div class=\"alert alert-info\"  style=\"border-radius: 15px; box-shadow: 4px 4px 4px; border: 1px solid \">\n",
    "    \n",
    "<h2>Комментарий студента v_2: <a class=\"tocSkip\"> </h2>\n",
    "\n",
    "Вывод ниже поправил в соответствии с новымы итогами проверки гипотез."
   ]
  },
  {
   "cell_type": "markdown",
   "id": "ab9638f4",
   "metadata": {},
   "source": [
    "<div class=\"alert alert-info\"  style=\"border-radius: 15px; box-shadow: 4px 4px 4px; border: 1px solid \">\n",
    "    \n",
    "<h2>Комментарий студента v_1: <a class=\"tocSkip\"> </h2>\n",
    "\n",
    "Обновленный общий вывод:\n",
    "    \n",
    "1. Были загружены и проверены на пропуски, типы данных и дубликаты данные из 3-х таблиц: users, rides и subscriptuons.\n",
    "    \n",
    "    \n",
    "2. В части предобработки был изменен тип данных в rides['date'], а также были удалены дубликаты в users.\n",
    "    \n",
    "    \n",
    "3. По исследовательской части можно сделать следующие выводы:\\\n",
    "   3.1. Распрелеление пользователей по городам выглядит равномерно, при том, что пользователей из Москвы наименьшее кол-во, что обращает на себя внимание, учитывая население представленных городов. Глобально кажется, что выборка здесь должна быть побольше.\\\n",
    "   3.2. Около 45% пользователей имеют подписку ultra.\\\n",
    "   3.3. Большинство пользователей сервиса в возрасте от 18 до 33 лет, при медиане 25 лет. Распределение в данном случае достаточно равномерное, без явных выбросов\\\n",
    "   3.4. Наиболее популярное расстояние для поездок - 2500-3800 м. При этом, на графике распределения можно увидеть небольшой пик в левой части - вероятно, здесь отражены ситуации, когда пользователь берет ближайший самокат с низким уровнем заряда, чтобы доехать до самоката с заряженным аккумулятором.\\\n",
    "   3.5. Основная часть поездок занимает 15-20 минут. Есть также небольшой пик в левой части, при подробном рассмотрении которого становится очевидно, что имеется ошибка в данных - 95 записей со временем поездки 0.5, при расстояниях в несколько тысяч метров.\\\n",
    " \n",
    "    \n",
    "4. На этапе Объединение данных датафреймы users, rides и subscriptions были объеденены в 1 общий - urs, а также выведены 2 отдельных датафрейма для разных типов подписки: urson и ursoff.\n",
    "    \n",
    "    Сравнив параметры поездок пользователей с подпиской и без подписки, можно сделать вывод, что расстояние и продолжительность поездок у обеих групп не имеют явных отличий.\n",
    "    \n",
    "    Взглянув более детально на дистанцию у двух групп, примечательно, что медиана у них практически одинаковая, но разброс значений явно шире у группы free (ursoff). Здесь можно предположить, что коротких поездок больше у группы free. Также, путем нехитрых расчётов выясняем, что доля поездок менее 500 метров у пользователей free вдвое выше, чем у ultra (0.47% vs 0.23%)\n",
    "    \n",
    "    По времени поездки у free и ultra - картина схожа с расстоянием, медианы у обоих групп отличаются незначительно, кроме этого, можно обратить внимание, что у обеих групп медиана практически соответствует среднему значению. Разница в стандартном отклонении во времени поездок между группами здесь менее значительна, чем в расстоянии, особенно, если учесть, что в группе ultra ряд значений имеют некорректное время поездки.\n",
    "    \n",
    "    В целом, разброс больше в группе free, но и записей в этой группе почти вдвое больше, чем в ultra.\n",
    "В группе free выше стандартное отклонение и по расстоянию поездки, и по времени.\n",
    "    \n",
    "    \n",
    "    \n",
    "5. Подсчет выручки: здесь создана новая таблица urs_agg, с аггрегированными данными по пользователям в разрезе месяцев. На основе urs_agg была рассчитана выручка по каждому пользователю в разрезе месяцев, добавлен столбец income.\n",
    "    \n",
    "    \n",
    "6. Проверка гипотез:\\\n",
    "   6.1. По итогам расчетов, не была отвергнута гипотеза о большей трате вреиени на поездки пользователями ultra. Здесь с достаточной уверенностью можно предположить, что данная категория пользователей будет тратить больше времени на поездки.\\\n",
    "   6.2. также, не была отвергнута гипотеза о том, что расстояние поездок пользователей с подпиской ultra обычно менее 3130 м. По аналогии с предыдущим пунктом можно предположить, что расстояние поездок в основном будет укладываться до 3130 м.\\\n",
    "   6.3. проверяя гипотезу о большей помесячной выручке от пользователей ultra, по итогам расчётов, пришли к тому, что гипотеза не отвергается - пользователи ultra в основном приносят меньше выручки.\n",
    "    \n",
    "    \n",
    "**Подводя итог, можно сделать вывод, что пользователи ultra являются более экономически выгодными для компании - они приносят больше выручки.**"
   ]
  },
  {
   "cell_type": "markdown",
   "id": "0d12fecd",
   "metadata": {},
   "source": [
    "<div class=\"alert alert-warning\" style=\"border-radius: 15px; box-shadow: 4px 4px 4px; border: 1px solid \">\n",
    "<h2> Комментарий ревьюера v_3: <a class=\"tocSkip\"> </h2>\n",
    "    \n",
    "⚠️  Подписчики выгоднее, но результаты проверки третьей гипотезы стоит скорректировать"
   ]
  },
  {
   "cell_type": "markdown",
   "id": "7ae19dde",
   "metadata": {},
   "source": [
    "<div style=\"border:solid lightblue 3px; background:#f7faf8; padding: 20px\">\n",
    "<span style=\"color:darkblue\">Общий вывод по проекту v_1:</span>\n",
    "    \n",
    "У тебя хорошая работа! Cоблюдена структура, проделана бóльшая часть проекта, но есть замечания, которые необходимо доработать:\n",
    "* оформить визуализации\n",
    "* пп. в 3, 4 и 6 шагах\n",
    "* итоговые выводы\n",
    "   \n",
    "Также добавил рекомендации по улучшению проекта. Жду проект)"
   ]
  },
  {
   "cell_type": "markdown",
   "id": "80d5e722",
   "metadata": {},
   "source": [
    "<div style=\"border:solid lightblue 3px; background:#f7faf8; padding: 20px\">\n",
    "<span style=\"color:darkblue\">Общий вывод по проекту v_2:</span>\n",
    "    \n",
    "Доработать:\n",
    "* пп. в 6 шаге\n",
    "* итоговые выводы\n",
    "   \n",
    "Жду проект)"
   ]
  },
  {
   "cell_type": "markdown",
   "id": "da8de0bf",
   "metadata": {},
   "source": [
    "<div class=\"alert alert-info\"  style=\"border-radius: 15px; box-shadow: 4px 4px 4px; border: 1px solid \">\n",
    "    \n",
    "<h2>Комментарий студента v_2: <a class=\"tocSkip\"> </h2>\n",
    "\n",
    "Владимир, отдельное большое спасибо за быструю обратную связь - в условиях моего отставания от графика и приближения жесткого дедлайна, для меня это очень важно."
   ]
  },
  {
   "cell_type": "markdown",
   "id": "865513ef",
   "metadata": {},
   "source": [
    "<div style=\"border:solid lightblue 3px; background:#f7faf8; padding: 20px\">\n",
    "<span style=\"color:darkblue\">Общий вывод по проекту v_3:</span>\n",
    "    \n",
    "Спасибо за доработанные замечания! Проект принят. В дополнение по данной [ссылке](https://allatambov.github.io/psms/pdf/hypo-test.pdf) можно ознакомиться с краткой теорией по проверке гипотез.\n",
    "    \n",
    "Успехов в дальнейшем обучении!)"
   ]
  }
 ],
 "metadata": {
  "ExecuteTimeLog": [
   {
    "duration": 448,
    "start_time": "2024-04-23T05:44:05.433Z"
   },
   {
    "duration": 405,
    "start_time": "2024-04-23T05:45:41.377Z"
   },
   {
    "duration": 533,
    "start_time": "2024-04-23T05:48:46.825Z"
   },
   {
    "duration": 3,
    "start_time": "2024-04-23T05:48:50.465Z"
   },
   {
    "duration": 2,
    "start_time": "2024-04-23T05:48:50.802Z"
   },
   {
    "duration": 3,
    "start_time": "2024-04-23T05:48:51.375Z"
   },
   {
    "duration": 2,
    "start_time": "2024-04-23T05:48:51.698Z"
   },
   {
    "duration": 50,
    "start_time": "2024-04-23T19:08:22.836Z"
   },
   {
    "duration": 372,
    "start_time": "2024-04-23T19:08:32.809Z"
   },
   {
    "duration": 419,
    "start_time": "2024-04-23T19:08:33.184Z"
   },
   {
    "duration": 446,
    "start_time": "2024-04-23T19:08:33.605Z"
   },
   {
    "duration": 51,
    "start_time": "2024-04-23T19:08:34.052Z"
   },
   {
    "duration": 289,
    "start_time": "2024-04-23T19:08:34.105Z"
   },
   {
    "duration": 13,
    "start_time": "2024-04-23T19:15:34.055Z"
   },
   {
    "duration": 16,
    "start_time": "2024-04-23T19:15:46.997Z"
   },
   {
    "duration": 16,
    "start_time": "2024-04-23T19:15:55.469Z"
   },
   {
    "duration": 16,
    "start_time": "2024-04-23T19:16:03.427Z"
   },
   {
    "duration": 17,
    "start_time": "2024-04-23T19:19:25.096Z"
   },
   {
    "duration": 17,
    "start_time": "2024-04-23T19:22:39.129Z"
   },
   {
    "duration": 371,
    "start_time": "2024-04-24T13:44:45.636Z"
   },
   {
    "duration": 238,
    "start_time": "2024-04-24T13:44:46.009Z"
   },
   {
    "duration": 500,
    "start_time": "2024-04-24T13:44:46.249Z"
   },
   {
    "duration": 60,
    "start_time": "2024-04-24T13:44:46.751Z"
   },
   {
    "duration": 66,
    "start_time": "2024-04-24T13:44:46.814Z"
   },
   {
    "duration": 20,
    "start_time": "2024-04-24T13:44:46.881Z"
   },
   {
    "duration": 19,
    "start_time": "2024-04-24T13:44:46.902Z"
   },
   {
    "duration": 32,
    "start_time": "2024-04-24T13:44:46.923Z"
   },
   {
    "duration": 7,
    "start_time": "2024-04-24T13:52:32.260Z"
   },
   {
    "duration": 19,
    "start_time": "2024-04-24T13:52:40.546Z"
   },
   {
    "duration": 33,
    "start_time": "2024-04-24T13:53:07.481Z"
   },
   {
    "duration": 24,
    "start_time": "2024-04-24T13:53:12.735Z"
   },
   {
    "duration": 6,
    "start_time": "2024-04-24T13:57:52.807Z"
   },
   {
    "duration": 17,
    "start_time": "2024-04-24T13:58:05.197Z"
   },
   {
    "duration": 10,
    "start_time": "2024-04-24T13:58:16.368Z"
   },
   {
    "duration": 6,
    "start_time": "2024-04-24T14:01:10.446Z"
   },
   {
    "duration": 6,
    "start_time": "2024-04-24T14:01:21.183Z"
   },
   {
    "duration": 6,
    "start_time": "2024-04-24T14:01:30.142Z"
   },
   {
    "duration": 95,
    "start_time": "2024-04-24T14:03:10.451Z"
   },
   {
    "duration": 6,
    "start_time": "2024-04-24T14:03:19.353Z"
   },
   {
    "duration": 9,
    "start_time": "2024-04-24T14:03:57.874Z"
   },
   {
    "duration": 6,
    "start_time": "2024-04-24T14:05:52.238Z"
   },
   {
    "duration": 13,
    "start_time": "2024-04-24T14:06:08.291Z"
   },
   {
    "duration": 14,
    "start_time": "2024-04-24T14:06:23.784Z"
   },
   {
    "duration": 6,
    "start_time": "2024-04-24T14:09:11.464Z"
   },
   {
    "duration": 24,
    "start_time": "2024-04-24T14:58:13.822Z"
   },
   {
    "duration": 77,
    "start_time": "2024-04-24T15:01:33.110Z"
   },
   {
    "duration": 196,
    "start_time": "2024-04-24T15:01:43.079Z"
   },
   {
    "duration": 185,
    "start_time": "2024-04-24T15:03:56.722Z"
   },
   {
    "duration": 203,
    "start_time": "2024-04-24T15:04:28.863Z"
   },
   {
    "duration": 187,
    "start_time": "2024-04-24T15:05:28.464Z"
   },
   {
    "duration": 16,
    "start_time": "2024-04-24T15:06:20.242Z"
   },
   {
    "duration": 340,
    "start_time": "2024-04-24T15:08:06.286Z"
   },
   {
    "duration": 301,
    "start_time": "2024-04-24T15:08:37.226Z"
   },
   {
    "duration": 304,
    "start_time": "2024-04-24T15:08:53.826Z"
   },
   {
    "duration": 263,
    "start_time": "2024-04-24T15:09:28.293Z"
   },
   {
    "duration": 269,
    "start_time": "2024-04-24T15:10:41.532Z"
   },
   {
    "duration": 271,
    "start_time": "2024-04-24T15:10:47.824Z"
   },
   {
    "duration": 260,
    "start_time": "2024-04-24T15:10:57.887Z"
   },
   {
    "duration": 298,
    "start_time": "2024-04-24T15:11:08.916Z"
   },
   {
    "duration": 262,
    "start_time": "2024-04-24T15:11:14.035Z"
   },
   {
    "duration": 252,
    "start_time": "2024-04-24T15:12:37.603Z"
   },
   {
    "duration": 296,
    "start_time": "2024-04-24T15:14:05.218Z"
   },
   {
    "duration": 282,
    "start_time": "2024-04-24T15:14:35.099Z"
   },
   {
    "duration": 299,
    "start_time": "2024-04-24T15:14:42.190Z"
   },
   {
    "duration": 274,
    "start_time": "2024-04-24T15:14:50.068Z"
   },
   {
    "duration": 237,
    "start_time": "2024-04-24T16:19:15.001Z"
   },
   {
    "duration": 284,
    "start_time": "2024-04-24T16:19:27.930Z"
   },
   {
    "duration": 309,
    "start_time": "2024-04-24T16:23:13.195Z"
   },
   {
    "duration": 142,
    "start_time": "2024-04-24T16:23:40.505Z"
   },
   {
    "duration": 307,
    "start_time": "2024-04-24T16:23:46.323Z"
   },
   {
    "duration": 334,
    "start_time": "2024-04-24T16:24:25.334Z"
   },
   {
    "duration": 306,
    "start_time": "2024-04-24T16:24:40.916Z"
   },
   {
    "duration": 19,
    "start_time": "2024-04-24T16:26:48.082Z"
   },
   {
    "duration": 14,
    "start_time": "2024-04-24T16:26:54.729Z"
   },
   {
    "duration": 300,
    "start_time": "2024-04-24T16:26:59.686Z"
   },
   {
    "duration": 11,
    "start_time": "2024-04-24T16:30:19.343Z"
   },
   {
    "duration": 10,
    "start_time": "2024-04-24T16:30:33.342Z"
   },
   {
    "duration": 12,
    "start_time": "2024-04-24T16:31:24.907Z"
   },
   {
    "duration": 73,
    "start_time": "2024-04-24T16:31:41.917Z"
   },
   {
    "duration": 15,
    "start_time": "2024-04-24T16:31:53.436Z"
   },
   {
    "duration": 205,
    "start_time": "2024-04-24T16:32:24.078Z"
   },
   {
    "duration": 210,
    "start_time": "2024-04-24T16:32:45.051Z"
   },
   {
    "duration": 77,
    "start_time": "2024-04-24T16:32:56.213Z"
   },
   {
    "duration": 134,
    "start_time": "2024-04-24T16:33:16.162Z"
   },
   {
    "duration": 151,
    "start_time": "2024-04-24T16:33:30.400Z"
   },
   {
    "duration": 148,
    "start_time": "2024-04-24T16:33:48.318Z"
   },
   {
    "duration": 153,
    "start_time": "2024-04-24T16:34:14.791Z"
   },
   {
    "duration": 150,
    "start_time": "2024-04-24T16:34:25.428Z"
   },
   {
    "duration": 158,
    "start_time": "2024-04-24T16:34:43.013Z"
   },
   {
    "duration": 147,
    "start_time": "2024-04-24T16:35:26.015Z"
   },
   {
    "duration": 5,
    "start_time": "2024-04-24T16:36:20.691Z"
   },
   {
    "duration": 152,
    "start_time": "2024-04-24T16:36:50.248Z"
   },
   {
    "duration": 165,
    "start_time": "2024-04-24T16:36:57.545Z"
   },
   {
    "duration": 117,
    "start_time": "2024-04-24T16:41:11.732Z"
   },
   {
    "duration": 147,
    "start_time": "2024-04-24T16:41:22.832Z"
   },
   {
    "duration": 142,
    "start_time": "2024-04-24T16:47:09.052Z"
   },
   {
    "duration": 209,
    "start_time": "2024-04-24T16:47:48.190Z"
   },
   {
    "duration": 131,
    "start_time": "2024-04-24T16:47:55.415Z"
   },
   {
    "duration": 143,
    "start_time": "2024-04-24T16:49:28.932Z"
   },
   {
    "duration": 113,
    "start_time": "2024-04-24T16:50:00.646Z"
   },
   {
    "duration": 105,
    "start_time": "2024-04-24T16:50:36.662Z"
   },
   {
    "duration": 136,
    "start_time": "2024-04-24T16:50:43.494Z"
   },
   {
    "duration": 166,
    "start_time": "2024-04-24T16:50:57.182Z"
   },
   {
    "duration": 171,
    "start_time": "2024-04-24T16:51:10.623Z"
   },
   {
    "duration": 10,
    "start_time": "2024-04-24T16:51:29.737Z"
   },
   {
    "duration": 17,
    "start_time": "2024-04-24T16:52:05.661Z"
   },
   {
    "duration": 8,
    "start_time": "2024-04-24T16:54:06.766Z"
   },
   {
    "duration": 132,
    "start_time": "2024-04-24T16:56:40.840Z"
   },
   {
    "duration": 122,
    "start_time": "2024-04-24T16:56:50.218Z"
   },
   {
    "duration": 120,
    "start_time": "2024-04-24T16:57:19.658Z"
   },
   {
    "duration": 217,
    "start_time": "2024-04-24T17:00:40.729Z"
   },
   {
    "duration": 254,
    "start_time": "2024-04-24T17:00:47.989Z"
   },
   {
    "duration": 369,
    "start_time": "2024-04-24T17:01:33.806Z"
   },
   {
    "duration": 279,
    "start_time": "2024-04-24T17:02:31.893Z"
   },
   {
    "duration": 17985,
    "start_time": "2024-04-24T17:05:01.728Z"
   },
   {
    "duration": 146,
    "start_time": "2024-04-24T17:05:49.622Z"
   },
   {
    "duration": 175,
    "start_time": "2024-04-24T17:06:09.934Z"
   },
   {
    "duration": 374,
    "start_time": "2024-04-24T17:07:20.957Z"
   },
   {
    "duration": 2,
    "start_time": "2024-04-24T17:07:48.143Z"
   },
   {
    "duration": 899,
    "start_time": "2024-04-24T17:07:54.319Z"
   },
   {
    "duration": 165,
    "start_time": "2024-04-24T17:08:06.158Z"
   },
   {
    "duration": 163,
    "start_time": "2024-04-24T17:08:13.236Z"
   },
   {
    "duration": 907,
    "start_time": "2024-04-24T17:08:21.266Z"
   },
   {
    "duration": 187,
    "start_time": "2024-04-24T17:08:27.889Z"
   },
   {
    "duration": 175,
    "start_time": "2024-04-24T17:08:58.507Z"
   },
   {
    "duration": 161,
    "start_time": "2024-04-24T17:09:10.632Z"
   },
   {
    "duration": 250,
    "start_time": "2024-04-24T17:09:19.102Z"
   },
   {
    "duration": 376,
    "start_time": "2024-04-24T17:09:26.803Z"
   },
   {
    "duration": 203,
    "start_time": "2024-04-24T17:09:35.321Z"
   },
   {
    "duration": 194,
    "start_time": "2024-04-24T17:09:42.017Z"
   },
   {
    "duration": 214,
    "start_time": "2024-04-24T17:09:53.715Z"
   },
   {
    "duration": 215,
    "start_time": "2024-04-24T17:10:00.299Z"
   },
   {
    "duration": 144,
    "start_time": "2024-04-24T17:10:09.086Z"
   },
   {
    "duration": 213,
    "start_time": "2024-04-24T17:10:18.894Z"
   },
   {
    "duration": 151,
    "start_time": "2024-04-24T17:13:12.706Z"
   },
   {
    "duration": 9,
    "start_time": "2024-04-24T17:29:29.236Z"
   },
   {
    "duration": 10,
    "start_time": "2024-04-24T17:29:35.851Z"
   },
   {
    "duration": 18,
    "start_time": "2024-04-24T17:29:46.542Z"
   },
   {
    "duration": 27,
    "start_time": "2024-04-24T17:29:58.328Z"
   },
   {
    "duration": 18,
    "start_time": "2024-04-24T17:30:16.155Z"
   },
   {
    "duration": 14,
    "start_time": "2024-04-24T17:31:26.531Z"
   },
   {
    "duration": 36,
    "start_time": "2024-04-24T17:31:54.585Z"
   },
   {
    "duration": 88,
    "start_time": "2024-04-24T17:34:23.747Z"
   },
   {
    "duration": 553,
    "start_time": "2024-04-24T17:34:34.271Z"
   },
   {
    "duration": 7,
    "start_time": "2024-04-24T17:34:39.465Z"
   },
   {
    "duration": 26,
    "start_time": "2024-04-24T17:35:18.046Z"
   },
   {
    "duration": 34,
    "start_time": "2024-04-24T17:37:29.466Z"
   },
   {
    "duration": 47,
    "start_time": "2024-04-24T17:38:31.251Z"
   },
   {
    "duration": 10,
    "start_time": "2024-04-24T17:43:13.785Z"
   },
   {
    "duration": 73,
    "start_time": "2024-04-24T17:43:41.357Z"
   },
   {
    "duration": 8,
    "start_time": "2024-04-24T17:43:47.023Z"
   },
   {
    "duration": 20,
    "start_time": "2024-04-24T17:44:47.544Z"
   },
   {
    "duration": 23,
    "start_time": "2024-04-24T17:44:59.860Z"
   },
   {
    "duration": 30,
    "start_time": "2024-04-24T17:45:41.688Z"
   },
   {
    "duration": 19,
    "start_time": "2024-04-24T17:56:29.170Z"
   },
   {
    "duration": 18,
    "start_time": "2024-04-24T17:56:53.178Z"
   },
   {
    "duration": 28,
    "start_time": "2024-04-24T17:57:29.806Z"
   },
   {
    "duration": 98,
    "start_time": "2024-04-24T17:59:53.675Z"
   },
   {
    "duration": 19,
    "start_time": "2024-04-24T18:01:48.377Z"
   },
   {
    "duration": 27,
    "start_time": "2024-04-24T18:06:37.906Z"
   },
   {
    "duration": 23,
    "start_time": "2024-04-24T18:06:58.838Z"
   },
   {
    "duration": 26,
    "start_time": "2024-04-24T18:07:10.630Z"
   },
   {
    "duration": 1167,
    "start_time": "2024-04-24T18:08:49.303Z"
   },
   {
    "duration": 34,
    "start_time": "2024-04-24T18:09:17.449Z"
   },
   {
    "duration": 28,
    "start_time": "2024-04-24T18:09:25.309Z"
   },
   {
    "duration": 27,
    "start_time": "2024-04-24T18:14:47.018Z"
   },
   {
    "duration": 33,
    "start_time": "2024-04-24T18:15:19.470Z"
   },
   {
    "duration": 36,
    "start_time": "2024-04-24T18:16:18.032Z"
   },
   {
    "duration": 25,
    "start_time": "2024-04-24T18:16:40.640Z"
   },
   {
    "duration": 32,
    "start_time": "2024-04-24T18:16:54.656Z"
   },
   {
    "duration": 32,
    "start_time": "2024-04-24T18:17:02.983Z"
   },
   {
    "duration": 81,
    "start_time": "2024-04-24T18:17:37.717Z"
   },
   {
    "duration": 78,
    "start_time": "2024-04-24T18:17:57.258Z"
   },
   {
    "duration": 28,
    "start_time": "2024-04-24T18:18:20.258Z"
   },
   {
    "duration": 25,
    "start_time": "2024-04-24T18:19:29.993Z"
   },
   {
    "duration": 34,
    "start_time": "2024-04-24T18:19:56.576Z"
   },
   {
    "duration": 32,
    "start_time": "2024-04-24T18:20:07.063Z"
   },
   {
    "duration": 354,
    "start_time": "2024-04-24T18:20:40.992Z"
   },
   {
    "duration": 34,
    "start_time": "2024-04-24T18:20:56.234Z"
   },
   {
    "duration": 33,
    "start_time": "2024-04-24T18:21:29.534Z"
   },
   {
    "duration": 37,
    "start_time": "2024-04-24T18:21:50.793Z"
   },
   {
    "duration": 33,
    "start_time": "2024-04-24T18:22:03.945Z"
   },
   {
    "duration": 33,
    "start_time": "2024-04-24T18:26:43.124Z"
   },
   {
    "duration": 44,
    "start_time": "2024-04-24T18:27:11.833Z"
   },
   {
    "duration": 39,
    "start_time": "2024-04-24T18:27:36.589Z"
   },
   {
    "duration": 8,
    "start_time": "2024-04-24T18:29:08.404Z"
   },
   {
    "duration": 26,
    "start_time": "2024-04-24T18:29:38.172Z"
   },
   {
    "duration": 17,
    "start_time": "2024-04-24T18:30:03.421Z"
   },
   {
    "duration": 20,
    "start_time": "2024-04-24T18:30:14.862Z"
   },
   {
    "duration": 57,
    "start_time": "2024-04-24T18:30:44.879Z"
   },
   {
    "duration": 47,
    "start_time": "2024-04-24T18:32:39.465Z"
   },
   {
    "duration": 43,
    "start_time": "2024-04-24T18:33:11.948Z"
   },
   {
    "duration": 25,
    "start_time": "2024-04-24T18:33:19.937Z"
   },
   {
    "duration": 43,
    "start_time": "2024-04-24T18:36:18.715Z"
   },
   {
    "duration": 24,
    "start_time": "2024-04-24T18:36:33.564Z"
   },
   {
    "duration": 22,
    "start_time": "2024-04-24T18:45:01.734Z"
   },
   {
    "duration": 42,
    "start_time": "2024-04-24T18:45:16.578Z"
   },
   {
    "duration": 58,
    "start_time": "2024-04-24T18:45:24.949Z"
   },
   {
    "duration": 30,
    "start_time": "2024-04-24T18:45:29.732Z"
   },
   {
    "duration": 25,
    "start_time": "2024-04-24T18:45:43.083Z"
   },
   {
    "duration": 33,
    "start_time": "2024-04-24T18:45:57.018Z"
   },
   {
    "duration": 44,
    "start_time": "2024-04-24T18:46:07.896Z"
   },
   {
    "duration": 35,
    "start_time": "2024-04-24T18:46:11.212Z"
   },
   {
    "duration": 31,
    "start_time": "2024-04-24T18:46:15.721Z"
   },
   {
    "duration": 45,
    "start_time": "2024-04-24T18:46:24.427Z"
   },
   {
    "duration": 24,
    "start_time": "2024-04-24T18:46:28.493Z"
   },
   {
    "duration": 12,
    "start_time": "2024-04-24T18:46:45.460Z"
   },
   {
    "duration": 11,
    "start_time": "2024-04-24T18:47:49.147Z"
   },
   {
    "duration": 14,
    "start_time": "2024-04-24T18:48:02.789Z"
   },
   {
    "duration": 16,
    "start_time": "2024-04-24T18:48:11.189Z"
   },
   {
    "duration": 21,
    "start_time": "2024-04-24T18:48:19.937Z"
   },
   {
    "duration": 28,
    "start_time": "2024-04-24T18:48:37.705Z"
   },
   {
    "duration": 59,
    "start_time": "2024-04-24T18:48:39.529Z"
   },
   {
    "duration": 42,
    "start_time": "2024-04-24T18:48:45.329Z"
   },
   {
    "duration": 8,
    "start_time": "2024-04-24T18:48:51.070Z"
   },
   {
    "duration": 36,
    "start_time": "2024-04-24T18:48:53.952Z"
   },
   {
    "duration": 9,
    "start_time": "2024-04-24T18:49:16.038Z"
   },
   {
    "duration": 13,
    "start_time": "2024-04-24T18:50:05.403Z"
   },
   {
    "duration": 21,
    "start_time": "2024-04-24T18:50:12.151Z"
   },
   {
    "duration": 11,
    "start_time": "2024-04-24T18:50:15.581Z"
   },
   {
    "duration": 11,
    "start_time": "2024-04-24T18:50:17.359Z"
   },
   {
    "duration": 43,
    "start_time": "2024-04-24T18:50:20.587Z"
   },
   {
    "duration": 10,
    "start_time": "2024-04-24T18:50:23.642Z"
   },
   {
    "duration": 9,
    "start_time": "2024-04-24T18:50:26.215Z"
   },
   {
    "duration": 45,
    "start_time": "2024-04-24T18:50:30.221Z"
   },
   {
    "duration": 7,
    "start_time": "2024-04-24T18:50:33.478Z"
   },
   {
    "duration": 16,
    "start_time": "2024-04-24T18:50:36.030Z"
   },
   {
    "duration": 38,
    "start_time": "2024-04-24T18:54:09.852Z"
   },
   {
    "duration": 45,
    "start_time": "2024-04-24T18:54:22.838Z"
   },
   {
    "duration": 9,
    "start_time": "2024-04-24T18:54:32.760Z"
   },
   {
    "duration": 76,
    "start_time": "2024-04-24T18:54:34.562Z"
   },
   {
    "duration": 16,
    "start_time": "2024-04-24T18:54:43.547Z"
   },
   {
    "duration": 8,
    "start_time": "2024-04-24T18:55:25.963Z"
   },
   {
    "duration": 15,
    "start_time": "2024-04-24T18:55:45.163Z"
   },
   {
    "duration": 15,
    "start_time": "2024-04-24T18:58:26.226Z"
   },
   {
    "duration": 34,
    "start_time": "2024-04-24T18:58:50.382Z"
   },
   {
    "duration": 7760,
    "start_time": "2024-04-24T19:26:59.265Z"
   },
   {
    "duration": 1332,
    "start_time": "2024-04-24T19:27:33.575Z"
   },
   {
    "duration": 203,
    "start_time": "2024-04-24T19:27:48.453Z"
   },
   {
    "duration": 291,
    "start_time": "2024-04-24T19:33:26.382Z"
   },
   {
    "duration": 558,
    "start_time": "2024-04-24T19:34:11.265Z"
   },
   {
    "duration": 600,
    "start_time": "2024-04-24T19:34:53.895Z"
   },
   {
    "duration": 317,
    "start_time": "2024-04-24T19:35:34.677Z"
   },
   {
    "duration": 533,
    "start_time": "2024-04-24T19:35:41.852Z"
   },
   {
    "duration": 781,
    "start_time": "2024-04-24T19:39:07.657Z"
   },
   {
    "duration": 597,
    "start_time": "2024-04-24T19:39:28.667Z"
   },
   {
    "duration": 545,
    "start_time": "2024-04-24T19:39:39.712Z"
   },
   {
    "duration": 547,
    "start_time": "2024-04-24T19:39:53.237Z"
   },
   {
    "duration": 11,
    "start_time": "2024-04-24T19:50:53.631Z"
   },
   {
    "duration": 102,
    "start_time": "2024-04-24T19:51:27.958Z"
   },
   {
    "duration": 14,
    "start_time": "2024-04-24T19:51:34.242Z"
   },
   {
    "duration": 145,
    "start_time": "2024-04-24T19:52:35.145Z"
   },
   {
    "duration": 225,
    "start_time": "2024-04-24T19:52:47.030Z"
   },
   {
    "duration": 21,
    "start_time": "2024-04-24T19:53:04.443Z"
   },
   {
    "duration": 143,
    "start_time": "2024-04-24T19:54:18.526Z"
   },
   {
    "duration": 99,
    "start_time": "2024-04-24T19:54:31.499Z"
   },
   {
    "duration": 167,
    "start_time": "2024-04-24T19:54:38.461Z"
   },
   {
    "duration": 158,
    "start_time": "2024-04-24T19:54:48.007Z"
   },
   {
    "duration": 385,
    "start_time": "2024-04-24T19:58:37.639Z"
   },
   {
    "duration": 247,
    "start_time": "2024-04-24T19:58:38.026Z"
   },
   {
    "duration": 455,
    "start_time": "2024-04-24T19:58:38.275Z"
   },
   {
    "duration": 54,
    "start_time": "2024-04-24T19:58:38.732Z"
   },
   {
    "duration": 3,
    "start_time": "2024-04-24T19:58:38.793Z"
   },
   {
    "duration": 85,
    "start_time": "2024-04-24T19:58:38.798Z"
   },
   {
    "duration": 25,
    "start_time": "2024-04-24T19:58:38.884Z"
   },
   {
    "duration": 48,
    "start_time": "2024-04-24T19:58:38.911Z"
   },
   {
    "duration": 26,
    "start_time": "2024-04-24T19:58:38.961Z"
   },
   {
    "duration": 40,
    "start_time": "2024-04-24T19:58:38.988Z"
   },
   {
    "duration": 14,
    "start_time": "2024-04-24T19:58:39.030Z"
   },
   {
    "duration": 10,
    "start_time": "2024-04-24T19:58:39.046Z"
   },
   {
    "duration": 11,
    "start_time": "2024-04-24T19:58:39.058Z"
   },
   {
    "duration": 16,
    "start_time": "2024-04-24T19:58:39.073Z"
   },
   {
    "duration": 27,
    "start_time": "2024-04-24T19:58:39.090Z"
   },
   {
    "duration": 28,
    "start_time": "2024-04-24T19:58:39.119Z"
   },
   {
    "duration": 4,
    "start_time": "2024-04-24T19:58:39.149Z"
   },
   {
    "duration": 215,
    "start_time": "2024-04-24T19:58:39.154Z"
   },
   {
    "duration": 10,
    "start_time": "2024-04-24T19:58:39.371Z"
   },
   {
    "duration": 161,
    "start_time": "2024-04-24T19:58:39.382Z"
   },
   {
    "duration": 279,
    "start_time": "2024-04-24T19:58:39.545Z"
   },
   {
    "duration": 218,
    "start_time": "2024-04-24T19:58:39.826Z"
   },
   {
    "duration": 177,
    "start_time": "2024-04-24T19:58:40.045Z"
   },
   {
    "duration": 34,
    "start_time": "2024-04-24T19:58:40.224Z"
   },
   {
    "duration": 37,
    "start_time": "2024-04-24T19:58:40.260Z"
   },
   {
    "duration": 687,
    "start_time": "2024-04-24T19:58:40.299Z"
   },
   {
    "duration": 57,
    "start_time": "2024-04-24T19:58:40.987Z"
   },
   {
    "duration": 7,
    "start_time": "2024-04-24T19:58:41.045Z"
   },
   {
    "duration": 17,
    "start_time": "2024-04-24T19:58:41.054Z"
   },
   {
    "duration": 32,
    "start_time": "2024-04-24T19:58:41.072Z"
   },
   {
    "duration": 121,
    "start_time": "2024-04-25T11:39:01.555Z"
   },
   {
    "duration": 6,
    "start_time": "2024-04-25T11:39:20.462Z"
   },
   {
    "duration": 7,
    "start_time": "2024-04-25T11:39:35.743Z"
   },
   {
    "duration": 9,
    "start_time": "2024-04-25T11:40:11.123Z"
   },
   {
    "duration": 11,
    "start_time": "2024-04-25T11:40:23.650Z"
   },
   {
    "duration": 9,
    "start_time": "2024-04-25T11:40:42.716Z"
   },
   {
    "duration": 16,
    "start_time": "2024-04-25T11:43:15.090Z"
   },
   {
    "duration": 399,
    "start_time": "2024-04-25T11:43:27.989Z"
   },
   {
    "duration": 222,
    "start_time": "2024-04-25T11:43:28.394Z"
   },
   {
    "duration": 495,
    "start_time": "2024-04-25T11:43:28.618Z"
   },
   {
    "duration": 55,
    "start_time": "2024-04-25T11:43:29.114Z"
   },
   {
    "duration": 2,
    "start_time": "2024-04-25T11:43:29.171Z"
   },
   {
    "duration": 106,
    "start_time": "2024-04-25T11:43:29.174Z"
   },
   {
    "duration": 18,
    "start_time": "2024-04-25T11:43:29.281Z"
   },
   {
    "duration": 50,
    "start_time": "2024-04-25T11:43:29.301Z"
   },
   {
    "duration": 32,
    "start_time": "2024-04-25T11:43:29.352Z"
   },
   {
    "duration": 45,
    "start_time": "2024-04-25T11:43:29.386Z"
   },
   {
    "duration": 33,
    "start_time": "2024-04-25T11:43:29.433Z"
   },
   {
    "duration": 51,
    "start_time": "2024-04-25T11:43:29.468Z"
   },
   {
    "duration": 35,
    "start_time": "2024-04-25T11:43:29.520Z"
   },
   {
    "duration": 51,
    "start_time": "2024-04-25T11:43:29.558Z"
   },
   {
    "duration": 40,
    "start_time": "2024-04-25T11:43:29.611Z"
   },
   {
    "duration": 36,
    "start_time": "2024-04-25T11:43:29.652Z"
   },
   {
    "duration": 28,
    "start_time": "2024-04-25T11:43:29.690Z"
   },
   {
    "duration": 182,
    "start_time": "2024-04-25T11:43:29.720Z"
   },
   {
    "duration": 9,
    "start_time": "2024-04-25T11:43:29.903Z"
   },
   {
    "duration": 147,
    "start_time": "2024-04-25T11:43:29.913Z"
   },
   {
    "duration": 262,
    "start_time": "2024-04-25T11:43:30.062Z"
   },
   {
    "duration": 221,
    "start_time": "2024-04-25T11:43:30.326Z"
   },
   {
    "duration": 189,
    "start_time": "2024-04-25T11:43:30.549Z"
   },
   {
    "duration": 34,
    "start_time": "2024-04-25T11:43:30.740Z"
   },
   {
    "duration": 50,
    "start_time": "2024-04-25T11:43:30.776Z"
   },
   {
    "duration": 660,
    "start_time": "2024-04-25T11:43:30.827Z"
   },
   {
    "duration": 48,
    "start_time": "2024-04-25T11:43:31.490Z"
   },
   {
    "duration": 52,
    "start_time": "2024-04-25T11:43:31.539Z"
   },
   {
    "duration": 47,
    "start_time": "2024-04-25T11:43:31.592Z"
   },
   {
    "duration": 77,
    "start_time": "2024-04-25T11:43:31.641Z"
   },
   {
    "duration": 139,
    "start_time": "2024-04-25T11:43:31.720Z"
   },
   {
    "duration": 2,
    "start_time": "2024-04-25T11:43:50.430Z"
   },
   {
    "duration": 12,
    "start_time": "2024-04-25T11:43:56.561Z"
   },
   {
    "duration": 10,
    "start_time": "2024-04-25T11:44:18.440Z"
   },
   {
    "duration": 11,
    "start_time": "2024-04-25T11:44:25.779Z"
   },
   {
    "duration": 12,
    "start_time": "2024-04-25T11:44:30.096Z"
   },
   {
    "duration": 80,
    "start_time": "2024-04-25T11:49:41.247Z"
   },
   {
    "duration": 73,
    "start_time": "2024-04-25T11:49:57.191Z"
   },
   {
    "duration": 8,
    "start_time": "2024-04-25T11:50:05.972Z"
   },
   {
    "duration": 12,
    "start_time": "2024-04-25T11:50:18.569Z"
   },
   {
    "duration": 13,
    "start_time": "2024-04-25T11:50:47.987Z"
   },
   {
    "duration": 11,
    "start_time": "2024-04-25T11:50:55.848Z"
   },
   {
    "duration": 7,
    "start_time": "2024-04-25T11:54:49.776Z"
   },
   {
    "duration": 8,
    "start_time": "2024-04-25T11:55:21.018Z"
   },
   {
    "duration": 8,
    "start_time": "2024-04-25T11:56:03.760Z"
   },
   {
    "duration": 10,
    "start_time": "2024-04-25T11:56:07.529Z"
   },
   {
    "duration": 8,
    "start_time": "2024-04-25T11:56:10.855Z"
   },
   {
    "duration": 71,
    "start_time": "2024-04-25T12:03:32.761Z"
   },
   {
    "duration": 11,
    "start_time": "2024-04-25T12:03:38.789Z"
   },
   {
    "duration": 18,
    "start_time": "2024-04-25T12:04:55.061Z"
   },
   {
    "duration": 25,
    "start_time": "2024-04-25T12:05:16.764Z"
   },
   {
    "duration": 23,
    "start_time": "2024-04-25T12:05:43.951Z"
   },
   {
    "duration": 25,
    "start_time": "2024-04-25T12:06:40.761Z"
   },
   {
    "duration": 29,
    "start_time": "2024-04-25T12:07:44.656Z"
   },
   {
    "duration": 27,
    "start_time": "2024-04-25T12:08:14.052Z"
   },
   {
    "duration": 26,
    "start_time": "2024-04-25T12:08:41.503Z"
   },
   {
    "duration": 26,
    "start_time": "2024-04-25T12:08:54.519Z"
   },
   {
    "duration": 28,
    "start_time": "2024-04-25T12:09:18.059Z"
   },
   {
    "duration": 28,
    "start_time": "2024-04-25T12:09:22.701Z"
   },
   {
    "duration": 26,
    "start_time": "2024-04-25T12:09:31.795Z"
   },
   {
    "duration": 6,
    "start_time": "2024-04-25T12:10:17.530Z"
   },
   {
    "duration": 18,
    "start_time": "2024-04-25T12:10:53.164Z"
   },
   {
    "duration": 4,
    "start_time": "2024-04-25T12:11:01.488Z"
   },
   {
    "duration": 7,
    "start_time": "2024-04-25T12:11:24.734Z"
   },
   {
    "duration": 19,
    "start_time": "2024-04-25T12:12:03.097Z"
   },
   {
    "duration": 5,
    "start_time": "2024-04-25T12:12:08.564Z"
   },
   {
    "duration": 18,
    "start_time": "2024-04-25T12:12:48.509Z"
   },
   {
    "duration": 3,
    "start_time": "2024-04-25T12:42:32.219Z"
   },
   {
    "duration": 2,
    "start_time": "2024-04-25T12:49:26.501Z"
   },
   {
    "duration": 3,
    "start_time": "2024-04-25T12:49:44.696Z"
   },
   {
    "duration": 4,
    "start_time": "2024-04-25T12:50:21.965Z"
   },
   {
    "duration": 6,
    "start_time": "2024-04-25T12:51:22.922Z"
   },
   {
    "duration": 7,
    "start_time": "2024-04-25T12:51:30.369Z"
   },
   {
    "duration": 7,
    "start_time": "2024-04-25T12:51:34.609Z"
   },
   {
    "duration": 5,
    "start_time": "2024-04-25T12:51:41.648Z"
   },
   {
    "duration": 5,
    "start_time": "2024-04-25T12:52:13.623Z"
   },
   {
    "duration": 5,
    "start_time": "2024-04-25T12:52:18.632Z"
   },
   {
    "duration": 6,
    "start_time": "2024-04-25T12:52:23.223Z"
   },
   {
    "duration": 5,
    "start_time": "2024-04-25T12:52:28.175Z"
   },
   {
    "duration": 6,
    "start_time": "2024-04-25T12:52:34.746Z"
   },
   {
    "duration": 5,
    "start_time": "2024-04-25T12:52:39.053Z"
   },
   {
    "duration": 5,
    "start_time": "2024-04-25T12:52:43.239Z"
   },
   {
    "duration": 6,
    "start_time": "2024-04-25T12:55:08.797Z"
   },
   {
    "duration": 6,
    "start_time": "2024-04-25T12:55:17.945Z"
   },
   {
    "duration": 6,
    "start_time": "2024-04-25T12:55:26.825Z"
   },
   {
    "duration": 5,
    "start_time": "2024-04-25T12:55:51.084Z"
   },
   {
    "duration": 5,
    "start_time": "2024-04-25T12:55:55.906Z"
   },
   {
    "duration": 5,
    "start_time": "2024-04-25T12:56:00.728Z"
   },
   {
    "duration": 5,
    "start_time": "2024-04-25T12:56:05.571Z"
   },
   {
    "duration": 6,
    "start_time": "2024-04-25T12:56:10.243Z"
   },
   {
    "duration": 5,
    "start_time": "2024-04-25T12:56:15.636Z"
   },
   {
    "duration": 5,
    "start_time": "2024-04-25T12:56:20.998Z"
   },
   {
    "duration": 17,
    "start_time": "2024-04-25T12:59:07.438Z"
   },
   {
    "duration": 3,
    "start_time": "2024-04-25T12:59:42.835Z"
   },
   {
    "duration": 3,
    "start_time": "2024-04-25T12:59:45.857Z"
   },
   {
    "duration": 13,
    "start_time": "2024-04-25T12:59:53.246Z"
   },
   {
    "duration": 12,
    "start_time": "2024-04-25T13:00:35.395Z"
   },
   {
    "duration": 45,
    "start_time": "2024-04-25T13:01:17.966Z"
   },
   {
    "duration": 6,
    "start_time": "2024-04-25T13:02:26.717Z"
   },
   {
    "duration": 393,
    "start_time": "2024-04-25T13:27:03.410Z"
   },
   {
    "duration": 229,
    "start_time": "2024-04-25T13:27:03.805Z"
   },
   {
    "duration": 426,
    "start_time": "2024-04-25T13:27:04.036Z"
   },
   {
    "duration": 56,
    "start_time": "2024-04-25T13:27:04.463Z"
   },
   {
    "duration": 3,
    "start_time": "2024-04-25T13:27:04.521Z"
   },
   {
    "duration": 15,
    "start_time": "2024-04-25T13:27:04.525Z"
   },
   {
    "duration": 88,
    "start_time": "2024-04-25T13:27:04.541Z"
   },
   {
    "duration": 19,
    "start_time": "2024-04-25T13:27:04.630Z"
   },
   {
    "duration": 20,
    "start_time": "2024-04-25T13:27:04.650Z"
   },
   {
    "duration": 23,
    "start_time": "2024-04-25T13:27:04.671Z"
   },
   {
    "duration": 28,
    "start_time": "2024-04-25T13:27:04.695Z"
   },
   {
    "duration": 9,
    "start_time": "2024-04-25T13:27:04.725Z"
   },
   {
    "duration": 21,
    "start_time": "2024-04-25T13:27:04.736Z"
   },
   {
    "duration": 29,
    "start_time": "2024-04-25T13:27:04.759Z"
   },
   {
    "duration": 21,
    "start_time": "2024-04-25T13:27:04.789Z"
   },
   {
    "duration": 187,
    "start_time": "2024-04-25T13:27:04.811Z"
   },
   {
    "duration": 20,
    "start_time": "2024-04-25T13:27:05.000Z"
   },
   {
    "duration": 14,
    "start_time": "2024-04-25T13:27:05.022Z"
   },
   {
    "duration": 162,
    "start_time": "2024-04-25T13:27:05.038Z"
   },
   {
    "duration": 9,
    "start_time": "2024-04-25T13:27:05.202Z"
   },
   {
    "duration": 141,
    "start_time": "2024-04-25T13:27:05.212Z"
   },
   {
    "duration": 260,
    "start_time": "2024-04-25T13:27:05.354Z"
   },
   {
    "duration": 207,
    "start_time": "2024-04-25T13:27:05.616Z"
   },
   {
    "duration": 156,
    "start_time": "2024-04-25T13:27:05.824Z"
   },
   {
    "duration": 79,
    "start_time": "2024-04-25T13:27:05.982Z"
   },
   {
    "duration": 15,
    "start_time": "2024-04-25T13:27:06.062Z"
   },
   {
    "duration": 737,
    "start_time": "2024-04-25T13:27:06.078Z"
   },
   {
    "duration": 43,
    "start_time": "2024-04-25T13:27:06.817Z"
   },
   {
    "duration": 8,
    "start_time": "2024-04-25T13:27:06.861Z"
   },
   {
    "duration": 38,
    "start_time": "2024-04-25T13:27:06.870Z"
   },
   {
    "duration": 47,
    "start_time": "2024-04-25T13:27:06.909Z"
   },
   {
    "duration": 14,
    "start_time": "2024-04-25T13:27:06.958Z"
   },
   {
    "duration": 44,
    "start_time": "2024-04-25T13:27:06.973Z"
   },
   {
    "duration": 60,
    "start_time": "2024-04-25T13:27:07.018Z"
   },
   {
    "duration": 6,
    "start_time": "2024-04-25T13:27:07.080Z"
   },
   {
    "duration": 437,
    "start_time": "2024-04-25T13:31:50.922Z"
   },
   {
    "duration": 371,
    "start_time": "2024-04-25T13:31:51.361Z"
   },
   {
    "duration": 465,
    "start_time": "2024-04-25T13:31:51.734Z"
   },
   {
    "duration": 55,
    "start_time": "2024-04-25T13:31:52.201Z"
   },
   {
    "duration": 3,
    "start_time": "2024-04-25T13:31:52.257Z"
   },
   {
    "duration": 4,
    "start_time": "2024-04-25T13:31:52.261Z"
   },
   {
    "duration": 212,
    "start_time": "2024-04-25T13:31:52.266Z"
   },
   {
    "duration": 21,
    "start_time": "2024-04-25T13:31:52.479Z"
   },
   {
    "duration": 16,
    "start_time": "2024-04-25T13:31:52.502Z"
   },
   {
    "duration": 13,
    "start_time": "2024-04-25T13:31:52.520Z"
   },
   {
    "duration": 18,
    "start_time": "2024-04-25T13:31:52.534Z"
   },
   {
    "duration": 10,
    "start_time": "2024-04-25T13:31:52.553Z"
   },
   {
    "duration": 22,
    "start_time": "2024-04-25T13:31:52.564Z"
   },
   {
    "duration": 5,
    "start_time": "2024-04-25T13:31:52.588Z"
   },
   {
    "duration": 26,
    "start_time": "2024-04-25T13:31:52.594Z"
   },
   {
    "duration": 9,
    "start_time": "2024-04-25T13:31:52.622Z"
   },
   {
    "duration": 19,
    "start_time": "2024-04-25T13:31:52.633Z"
   },
   {
    "duration": 5,
    "start_time": "2024-04-25T13:31:52.654Z"
   },
   {
    "duration": 178,
    "start_time": "2024-04-25T13:31:52.661Z"
   },
   {
    "duration": 9,
    "start_time": "2024-04-25T13:31:52.841Z"
   },
   {
    "duration": 120,
    "start_time": "2024-04-25T13:31:52.851Z"
   },
   {
    "duration": 245,
    "start_time": "2024-04-25T13:31:52.973Z"
   },
   {
    "duration": 194,
    "start_time": "2024-04-25T13:31:53.220Z"
   },
   {
    "duration": 173,
    "start_time": "2024-04-25T13:31:53.416Z"
   },
   {
    "duration": 44,
    "start_time": "2024-04-25T13:31:53.591Z"
   },
   {
    "duration": 16,
    "start_time": "2024-04-25T13:31:53.636Z"
   },
   {
    "duration": 626,
    "start_time": "2024-04-25T13:31:53.653Z"
   },
   {
    "duration": 51,
    "start_time": "2024-04-25T13:31:54.282Z"
   },
   {
    "duration": 7,
    "start_time": "2024-04-25T13:31:54.335Z"
   },
   {
    "duration": 14,
    "start_time": "2024-04-25T13:31:54.344Z"
   },
   {
    "duration": 15,
    "start_time": "2024-04-25T13:31:54.359Z"
   },
   {
    "duration": 10,
    "start_time": "2024-04-25T13:31:54.376Z"
   },
   {
    "duration": 33,
    "start_time": "2024-04-25T13:31:54.387Z"
   },
   {
    "duration": 19,
    "start_time": "2024-04-25T13:31:54.422Z"
   },
   {
    "duration": 5,
    "start_time": "2024-04-25T13:31:54.443Z"
   },
   {
    "duration": 10,
    "start_time": "2024-04-25T13:47:14.618Z"
   },
   {
    "duration": 429,
    "start_time": "2024-04-25T13:53:22.195Z"
   },
   {
    "duration": 215,
    "start_time": "2024-04-25T13:53:22.626Z"
   },
   {
    "duration": 443,
    "start_time": "2024-04-25T13:53:22.843Z"
   },
   {
    "duration": 58,
    "start_time": "2024-04-25T13:53:23.288Z"
   },
   {
    "duration": 3,
    "start_time": "2024-04-25T13:53:23.348Z"
   },
   {
    "duration": 5,
    "start_time": "2024-04-25T13:53:23.352Z"
   },
   {
    "duration": 69,
    "start_time": "2024-04-25T13:53:23.358Z"
   },
   {
    "duration": 17,
    "start_time": "2024-04-25T13:53:23.428Z"
   },
   {
    "duration": 14,
    "start_time": "2024-04-25T13:53:23.447Z"
   },
   {
    "duration": 11,
    "start_time": "2024-04-25T13:53:23.462Z"
   },
   {
    "duration": 20,
    "start_time": "2024-04-25T13:53:23.474Z"
   },
   {
    "duration": 12,
    "start_time": "2024-04-25T13:53:23.521Z"
   },
   {
    "duration": 6,
    "start_time": "2024-04-25T13:53:23.535Z"
   },
   {
    "duration": 7,
    "start_time": "2024-04-25T13:53:23.544Z"
   },
   {
    "duration": 5,
    "start_time": "2024-04-25T13:53:23.552Z"
   },
   {
    "duration": 11,
    "start_time": "2024-04-25T13:53:23.559Z"
   },
   {
    "duration": 54,
    "start_time": "2024-04-25T13:53:23.572Z"
   },
   {
    "duration": 4,
    "start_time": "2024-04-25T13:53:23.627Z"
   },
   {
    "duration": 163,
    "start_time": "2024-04-25T13:53:23.632Z"
   },
   {
    "duration": 8,
    "start_time": "2024-04-25T13:53:23.797Z"
   },
   {
    "duration": 113,
    "start_time": "2024-04-25T13:53:23.807Z"
   },
   {
    "duration": 243,
    "start_time": "2024-04-25T13:53:23.922Z"
   },
   {
    "duration": 214,
    "start_time": "2024-04-25T13:53:24.166Z"
   },
   {
    "duration": 163,
    "start_time": "2024-04-25T13:53:24.381Z"
   },
   {
    "duration": 33,
    "start_time": "2024-04-25T13:53:24.545Z"
   },
   {
    "duration": 13,
    "start_time": "2024-04-25T13:53:24.580Z"
   },
   {
    "duration": 630,
    "start_time": "2024-04-25T13:53:24.594Z"
   },
   {
    "duration": 43,
    "start_time": "2024-04-25T13:53:25.225Z"
   },
   {
    "duration": 6,
    "start_time": "2024-04-25T13:53:25.269Z"
   },
   {
    "duration": 12,
    "start_time": "2024-04-25T13:53:25.276Z"
   },
   {
    "duration": 33,
    "start_time": "2024-04-25T13:53:25.289Z"
   },
   {
    "duration": 9,
    "start_time": "2024-04-25T13:53:25.323Z"
   },
   {
    "duration": 7,
    "start_time": "2024-04-25T13:53:25.333Z"
   },
   {
    "duration": 26,
    "start_time": "2024-04-25T13:53:25.341Z"
   },
   {
    "duration": 22,
    "start_time": "2024-04-25T13:53:25.368Z"
   },
   {
    "duration": 9,
    "start_time": "2024-04-25T14:39:35.054Z"
   },
   {
    "duration": 8,
    "start_time": "2024-04-25T14:40:03.956Z"
   },
   {
    "duration": 143,
    "start_time": "2024-04-25T14:44:46.198Z"
   },
   {
    "duration": 136,
    "start_time": "2024-04-25T14:46:31.218Z"
   },
   {
    "duration": 138,
    "start_time": "2024-04-25T14:46:43.461Z"
   },
   {
    "duration": 144,
    "start_time": "2024-04-25T14:46:57.714Z"
   },
   {
    "duration": 99,
    "start_time": "2024-04-25T14:48:37.790Z"
   },
   {
    "duration": 138,
    "start_time": "2024-04-25T14:48:43.959Z"
   },
   {
    "duration": 142,
    "start_time": "2024-04-25T14:48:50.297Z"
   },
   {
    "duration": 212,
    "start_time": "2024-04-25T14:52:17.674Z"
   },
   {
    "duration": 152,
    "start_time": "2024-04-25T14:52:23.807Z"
   },
   {
    "duration": 149,
    "start_time": "2024-04-25T14:52:27.926Z"
   },
   {
    "duration": 212,
    "start_time": "2024-04-25T14:52:30.438Z"
   },
   {
    "duration": 71,
    "start_time": "2024-04-25T14:52:37.070Z"
   },
   {
    "duration": 68,
    "start_time": "2024-04-25T14:52:44.572Z"
   },
   {
    "duration": 76,
    "start_time": "2024-04-25T14:52:52.251Z"
   },
   {
    "duration": 68,
    "start_time": "2024-04-25T14:53:12.988Z"
   },
   {
    "duration": 352,
    "start_time": "2024-04-25T14:53:21.047Z"
   },
   {
    "duration": 239,
    "start_time": "2024-04-25T14:53:21.401Z"
   },
   {
    "duration": 482,
    "start_time": "2024-04-25T14:53:21.642Z"
   },
   {
    "duration": 53,
    "start_time": "2024-04-25T14:53:22.126Z"
   },
   {
    "duration": 2,
    "start_time": "2024-04-25T14:53:22.181Z"
   },
   {
    "duration": 3,
    "start_time": "2024-04-25T14:53:22.193Z"
   },
   {
    "duration": 83,
    "start_time": "2024-04-25T14:53:22.198Z"
   },
   {
    "duration": 26,
    "start_time": "2024-04-25T14:53:22.283Z"
   },
   {
    "duration": 21,
    "start_time": "2024-04-25T14:53:22.311Z"
   },
   {
    "duration": 13,
    "start_time": "2024-04-25T14:53:22.334Z"
   },
   {
    "duration": 18,
    "start_time": "2024-04-25T14:53:22.349Z"
   },
   {
    "duration": 10,
    "start_time": "2024-04-25T14:53:22.394Z"
   },
   {
    "duration": 7,
    "start_time": "2024-04-25T14:53:22.406Z"
   },
   {
    "duration": 6,
    "start_time": "2024-04-25T14:53:22.416Z"
   },
   {
    "duration": 10,
    "start_time": "2024-04-25T14:53:22.423Z"
   },
   {
    "duration": 5,
    "start_time": "2024-04-25T14:53:22.435Z"
   },
   {
    "duration": 14,
    "start_time": "2024-04-25T14:53:22.442Z"
   },
   {
    "duration": 56,
    "start_time": "2024-04-25T14:53:22.458Z"
   },
   {
    "duration": 4,
    "start_time": "2024-04-25T14:53:22.515Z"
   },
   {
    "duration": 72,
    "start_time": "2024-04-25T14:53:22.520Z"
   },
   {
    "duration": 0,
    "start_time": "2024-04-25T14:53:22.593Z"
   },
   {
    "duration": 0,
    "start_time": "2024-04-25T14:53:22.595Z"
   },
   {
    "duration": 0,
    "start_time": "2024-04-25T14:53:22.596Z"
   },
   {
    "duration": 0,
    "start_time": "2024-04-25T14:53:22.597Z"
   },
   {
    "duration": 0,
    "start_time": "2024-04-25T14:53:22.599Z"
   },
   {
    "duration": 0,
    "start_time": "2024-04-25T14:53:22.600Z"
   },
   {
    "duration": 0,
    "start_time": "2024-04-25T14:53:22.602Z"
   },
   {
    "duration": 0,
    "start_time": "2024-04-25T14:53:22.603Z"
   },
   {
    "duration": 0,
    "start_time": "2024-04-25T14:53:22.605Z"
   },
   {
    "duration": 0,
    "start_time": "2024-04-25T14:53:22.607Z"
   },
   {
    "duration": 0,
    "start_time": "2024-04-25T14:53:22.608Z"
   },
   {
    "duration": 0,
    "start_time": "2024-04-25T14:53:22.609Z"
   },
   {
    "duration": 0,
    "start_time": "2024-04-25T14:53:22.610Z"
   },
   {
    "duration": 0,
    "start_time": "2024-04-25T14:53:22.611Z"
   },
   {
    "duration": 0,
    "start_time": "2024-04-25T14:53:22.612Z"
   },
   {
    "duration": 0,
    "start_time": "2024-04-25T14:53:22.613Z"
   },
   {
    "duration": 74,
    "start_time": "2024-04-25T14:54:13.376Z"
   },
   {
    "duration": 76,
    "start_time": "2024-04-25T14:54:20.075Z"
   },
   {
    "duration": 161,
    "start_time": "2024-04-25T14:54:25.836Z"
   },
   {
    "duration": 136,
    "start_time": "2024-04-25T14:54:38.321Z"
   },
   {
    "duration": 66,
    "start_time": "2024-04-25T14:55:14.712Z"
   },
   {
    "duration": 140,
    "start_time": "2024-04-25T14:55:20.914Z"
   },
   {
    "duration": 146,
    "start_time": "2024-04-25T14:55:35.302Z"
   },
   {
    "duration": 148,
    "start_time": "2024-04-25T14:56:12.323Z"
   },
   {
    "duration": 150,
    "start_time": "2024-04-25T14:56:31.123Z"
   },
   {
    "duration": 195,
    "start_time": "2024-04-25T14:57:29.085Z"
   },
   {
    "duration": 415,
    "start_time": "2024-04-25T14:58:04.192Z"
   },
   {
    "duration": 240,
    "start_time": "2024-04-25T14:58:04.609Z"
   },
   {
    "duration": 501,
    "start_time": "2024-04-25T14:58:04.851Z"
   },
   {
    "duration": 55,
    "start_time": "2024-04-25T14:58:05.354Z"
   },
   {
    "duration": 94,
    "start_time": "2024-04-25T14:58:05.412Z"
   },
   {
    "duration": 29,
    "start_time": "2024-04-25T14:58:05.508Z"
   },
   {
    "duration": 169,
    "start_time": "2024-04-25T14:58:05.539Z"
   },
   {
    "duration": 18,
    "start_time": "2024-04-25T14:58:05.710Z"
   },
   {
    "duration": 18,
    "start_time": "2024-04-25T14:58:05.729Z"
   },
   {
    "duration": 31,
    "start_time": "2024-04-25T14:58:05.748Z"
   },
   {
    "duration": 39,
    "start_time": "2024-04-25T14:58:05.781Z"
   },
   {
    "duration": 33,
    "start_time": "2024-04-25T14:58:05.821Z"
   },
   {
    "duration": 12,
    "start_time": "2024-04-25T14:58:05.856Z"
   },
   {
    "duration": 16,
    "start_time": "2024-04-25T14:58:05.871Z"
   },
   {
    "duration": 39,
    "start_time": "2024-04-25T14:58:05.888Z"
   },
   {
    "duration": 44,
    "start_time": "2024-04-25T14:58:05.929Z"
   },
   {
    "duration": 40,
    "start_time": "2024-04-25T14:58:05.974Z"
   },
   {
    "duration": 30,
    "start_time": "2024-04-25T14:58:06.016Z"
   },
   {
    "duration": 21,
    "start_time": "2024-04-25T14:58:06.048Z"
   },
   {
    "duration": 223,
    "start_time": "2024-04-25T14:58:06.071Z"
   },
   {
    "duration": 8,
    "start_time": "2024-04-25T14:58:06.295Z"
   },
   {
    "duration": 158,
    "start_time": "2024-04-25T14:58:06.304Z"
   },
   {
    "duration": 247,
    "start_time": "2024-04-25T14:58:06.463Z"
   },
   {
    "duration": 212,
    "start_time": "2024-04-25T14:58:06.711Z"
   },
   {
    "duration": 162,
    "start_time": "2024-04-25T14:58:06.924Z"
   },
   {
    "duration": 44,
    "start_time": "2024-04-25T14:58:07.087Z"
   },
   {
    "duration": 15,
    "start_time": "2024-04-25T14:58:07.132Z"
   },
   {
    "duration": 650,
    "start_time": "2024-04-25T14:58:07.149Z"
   },
   {
    "duration": 45,
    "start_time": "2024-04-25T14:58:07.801Z"
   },
   {
    "duration": 8,
    "start_time": "2024-04-25T14:58:07.848Z"
   },
   {
    "duration": 11,
    "start_time": "2024-04-25T14:58:07.858Z"
   },
   {
    "duration": 35,
    "start_time": "2024-04-25T14:58:07.870Z"
   },
   {
    "duration": 10,
    "start_time": "2024-04-25T14:58:07.907Z"
   },
   {
    "duration": 147,
    "start_time": "2024-04-25T14:58:07.918Z"
   },
   {
    "duration": 59,
    "start_time": "2024-04-25T14:58:08.066Z"
   },
   {
    "duration": 16,
    "start_time": "2024-04-25T14:58:08.127Z"
   },
   {
    "duration": 432,
    "start_time": "2024-04-25T17:10:05.262Z"
   },
   {
    "duration": 239,
    "start_time": "2024-04-25T17:10:05.696Z"
   },
   {
    "duration": 491,
    "start_time": "2024-04-25T17:10:05.937Z"
   },
   {
    "duration": 58,
    "start_time": "2024-04-25T17:10:06.430Z"
   },
   {
    "duration": 99,
    "start_time": "2024-04-25T17:10:06.494Z"
   },
   {
    "duration": 29,
    "start_time": "2024-04-25T17:10:06.594Z"
   },
   {
    "duration": 103,
    "start_time": "2024-04-25T17:10:06.625Z"
   },
   {
    "duration": 19,
    "start_time": "2024-04-25T17:10:06.729Z"
   },
   {
    "duration": 38,
    "start_time": "2024-04-25T17:10:06.750Z"
   },
   {
    "duration": 52,
    "start_time": "2024-04-25T17:10:06.790Z"
   },
   {
    "duration": 77,
    "start_time": "2024-04-25T17:10:06.843Z"
   },
   {
    "duration": 85,
    "start_time": "2024-04-25T17:10:06.922Z"
   },
   {
    "duration": 53,
    "start_time": "2024-04-25T17:10:07.009Z"
   },
   {
    "duration": 53,
    "start_time": "2024-04-25T17:10:07.065Z"
   },
   {
    "duration": 64,
    "start_time": "2024-04-25T17:10:07.119Z"
   },
   {
    "duration": 56,
    "start_time": "2024-04-25T17:10:07.185Z"
   },
   {
    "duration": 68,
    "start_time": "2024-04-25T17:10:07.243Z"
   },
   {
    "duration": 125,
    "start_time": "2024-04-25T17:10:07.313Z"
   },
   {
    "duration": 28,
    "start_time": "2024-04-25T17:10:07.440Z"
   },
   {
    "duration": 220,
    "start_time": "2024-04-25T17:10:07.470Z"
   },
   {
    "duration": 9,
    "start_time": "2024-04-25T17:10:07.692Z"
   },
   {
    "duration": 131,
    "start_time": "2024-04-25T17:10:07.703Z"
   },
   {
    "duration": 278,
    "start_time": "2024-04-25T17:10:07.835Z"
   },
   {
    "duration": 209,
    "start_time": "2024-04-25T17:10:08.114Z"
   },
   {
    "duration": 160,
    "start_time": "2024-04-25T17:10:08.324Z"
   },
   {
    "duration": 39,
    "start_time": "2024-04-25T17:10:08.486Z"
   },
   {
    "duration": 15,
    "start_time": "2024-04-25T17:10:08.526Z"
   },
   {
    "duration": 699,
    "start_time": "2024-04-25T17:10:08.542Z"
   },
   {
    "duration": 57,
    "start_time": "2024-04-25T17:10:09.243Z"
   },
   {
    "duration": 10,
    "start_time": "2024-04-25T17:10:09.302Z"
   },
   {
    "duration": 123,
    "start_time": "2024-04-25T17:10:09.313Z"
   },
   {
    "duration": 82,
    "start_time": "2024-04-25T17:10:09.438Z"
   },
   {
    "duration": 30,
    "start_time": "2024-04-25T17:10:09.521Z"
   },
   {
    "duration": 12,
    "start_time": "2024-04-25T17:10:09.553Z"
   },
   {
    "duration": 56,
    "start_time": "2024-04-25T17:10:09.566Z"
   },
   {
    "duration": 21,
    "start_time": "2024-04-25T17:10:09.624Z"
   },
   {
    "duration": 73,
    "start_time": "2024-04-25T17:13:24.462Z"
   },
   {
    "duration": 73,
    "start_time": "2024-04-25T17:13:38.194Z"
   },
   {
    "duration": 80,
    "start_time": "2024-04-25T17:14:03.223Z"
   },
   {
    "duration": 113,
    "start_time": "2024-04-25T17:14:38.938Z"
   },
   {
    "duration": 98,
    "start_time": "2024-04-25T17:15:25.893Z"
   },
   {
    "duration": 10,
    "start_time": "2024-04-25T17:15:32.373Z"
   },
   {
    "duration": 83,
    "start_time": "2024-04-25T17:15:37.653Z"
   },
   {
    "duration": 80,
    "start_time": "2024-04-25T17:16:03.458Z"
   },
   {
    "duration": 78,
    "start_time": "2024-04-25T17:16:14.053Z"
   },
   {
    "duration": 115,
    "start_time": "2024-04-25T17:17:48.020Z"
   },
   {
    "duration": 128,
    "start_time": "2024-04-25T17:17:58.970Z"
   },
   {
    "duration": 80,
    "start_time": "2024-04-25T17:18:27.162Z"
   },
   {
    "duration": 155,
    "start_time": "2024-04-25T17:18:32.749Z"
   },
   {
    "duration": 86,
    "start_time": "2024-04-25T17:20:09.181Z"
   },
   {
    "duration": 153,
    "start_time": "2024-04-25T17:23:54.011Z"
   },
   {
    "duration": 248,
    "start_time": "2024-04-25T17:24:33.078Z"
   },
   {
    "duration": 259,
    "start_time": "2024-04-25T17:25:53.972Z"
   },
   {
    "duration": 314,
    "start_time": "2024-04-25T17:26:07.423Z"
   },
   {
    "duration": 7,
    "start_time": "2024-04-25T17:26:13.200Z"
   },
   {
    "duration": 200,
    "start_time": "2024-04-25T17:31:55.907Z"
   },
   {
    "duration": 536,
    "start_time": "2024-04-25T17:32:11.967Z"
   },
   {
    "duration": 201,
    "start_time": "2024-04-25T17:32:18.346Z"
   },
   {
    "duration": 220,
    "start_time": "2024-04-25T17:32:34.537Z"
   },
   {
    "duration": 235,
    "start_time": "2024-04-25T17:33:21.499Z"
   },
   {
    "duration": 245,
    "start_time": "2024-04-25T17:33:38.676Z"
   },
   {
    "duration": 155,
    "start_time": "2024-04-25T17:34:41.028Z"
   },
   {
    "duration": 186,
    "start_time": "2024-04-25T17:34:50.625Z"
   },
   {
    "duration": 201,
    "start_time": "2024-04-25T17:35:43.823Z"
   },
   {
    "duration": 262,
    "start_time": "2024-04-25T17:36:10.671Z"
   },
   {
    "duration": 199,
    "start_time": "2024-04-25T17:36:14.097Z"
   },
   {
    "duration": 7,
    "start_time": "2024-04-25T17:37:02.243Z"
   },
   {
    "duration": 9,
    "start_time": "2024-04-25T17:37:35.716Z"
   },
   {
    "duration": 11,
    "start_time": "2024-04-25T17:48:34.945Z"
   },
   {
    "duration": 14,
    "start_time": "2024-04-25T17:48:45.288Z"
   },
   {
    "duration": 17,
    "start_time": "2024-04-25T17:49:48.016Z"
   },
   {
    "duration": 22,
    "start_time": "2024-04-25T17:50:11.177Z"
   },
   {
    "duration": 31,
    "start_time": "2024-04-25T17:50:24.951Z"
   },
   {
    "duration": 24,
    "start_time": "2024-04-25T17:50:39.086Z"
   },
   {
    "duration": 25,
    "start_time": "2024-04-25T18:48:33.650Z"
   },
   {
    "duration": 710,
    "start_time": "2024-04-25T18:54:54.449Z"
   },
   {
    "duration": 599,
    "start_time": "2024-04-25T18:55:34.714Z"
   },
   {
    "duration": 1081,
    "start_time": "2024-04-25T19:02:08.666Z"
   },
   {
    "duration": 1095,
    "start_time": "2024-04-25T19:02:30.706Z"
   },
   {
    "duration": 12,
    "start_time": "2024-04-25T19:02:46.343Z"
   },
   {
    "duration": 14,
    "start_time": "2024-04-25T19:07:45.299Z"
   },
   {
    "duration": 22,
    "start_time": "2024-04-25T19:13:12.438Z"
   },
   {
    "duration": 13,
    "start_time": "2024-04-25T19:13:42.310Z"
   },
   {
    "duration": 16,
    "start_time": "2024-04-25T19:14:07.637Z"
   },
   {
    "duration": 16,
    "start_time": "2024-04-25T19:38:50.328Z"
   },
   {
    "duration": 10,
    "start_time": "2024-04-25T19:58:05.459Z"
   },
   {
    "duration": 55,
    "start_time": "2024-04-25T19:59:56.402Z"
   },
   {
    "duration": 13,
    "start_time": "2024-04-25T20:00:56.098Z"
   },
   {
    "duration": 432,
    "start_time": "2024-04-25T20:21:20.362Z"
   },
   {
    "duration": 223,
    "start_time": "2024-04-25T20:21:20.796Z"
   },
   {
    "duration": 422,
    "start_time": "2024-04-25T20:21:21.020Z"
   },
   {
    "duration": 62,
    "start_time": "2024-04-25T20:21:21.444Z"
   },
   {
    "duration": 3,
    "start_time": "2024-04-25T20:21:21.508Z"
   },
   {
    "duration": 29,
    "start_time": "2024-04-25T20:21:21.512Z"
   },
   {
    "duration": 81,
    "start_time": "2024-04-25T20:21:21.542Z"
   },
   {
    "duration": 27,
    "start_time": "2024-04-25T20:21:21.625Z"
   },
   {
    "duration": 15,
    "start_time": "2024-04-25T20:21:21.653Z"
   },
   {
    "duration": 23,
    "start_time": "2024-04-25T20:21:21.671Z"
   },
   {
    "duration": 20,
    "start_time": "2024-04-25T20:21:21.696Z"
   },
   {
    "duration": 10,
    "start_time": "2024-04-25T20:21:21.718Z"
   },
   {
    "duration": 24,
    "start_time": "2024-04-25T20:21:21.729Z"
   },
   {
    "duration": 15,
    "start_time": "2024-04-25T20:21:21.754Z"
   },
   {
    "duration": 23,
    "start_time": "2024-04-25T20:21:21.771Z"
   },
   {
    "duration": 6,
    "start_time": "2024-04-25T20:21:21.796Z"
   },
   {
    "duration": 12,
    "start_time": "2024-04-25T20:21:21.804Z"
   },
   {
    "duration": 28,
    "start_time": "2024-04-25T20:21:21.818Z"
   },
   {
    "duration": 5,
    "start_time": "2024-04-25T20:21:21.848Z"
   },
   {
    "duration": 217,
    "start_time": "2024-04-25T20:21:21.854Z"
   },
   {
    "duration": 8,
    "start_time": "2024-04-25T20:21:22.073Z"
   },
   {
    "duration": 102,
    "start_time": "2024-04-25T20:21:22.083Z"
   },
   {
    "duration": 265,
    "start_time": "2024-04-25T20:21:22.186Z"
   },
   {
    "duration": 8,
    "start_time": "2024-04-25T20:21:22.453Z"
   },
   {
    "duration": 259,
    "start_time": "2024-04-25T20:21:22.462Z"
   },
   {
    "duration": 8,
    "start_time": "2024-04-25T20:21:22.722Z"
   },
   {
    "duration": 219,
    "start_time": "2024-04-25T20:21:22.731Z"
   },
   {
    "duration": 9,
    "start_time": "2024-04-25T20:21:22.955Z"
   },
   {
    "duration": 44,
    "start_time": "2024-04-25T20:21:22.966Z"
   },
   {
    "duration": 49,
    "start_time": "2024-04-25T20:21:23.012Z"
   },
   {
    "duration": 34,
    "start_time": "2024-04-25T20:21:23.062Z"
   },
   {
    "duration": 711,
    "start_time": "2024-04-25T20:21:23.098Z"
   },
   {
    "duration": 18,
    "start_time": "2024-04-25T20:21:23.811Z"
   },
   {
    "duration": 28,
    "start_time": "2024-04-25T20:21:23.831Z"
   },
   {
    "duration": 70,
    "start_time": "2024-04-25T20:21:23.860Z"
   },
   {
    "duration": 8,
    "start_time": "2024-04-25T20:21:23.931Z"
   },
   {
    "duration": 17,
    "start_time": "2024-04-25T20:21:23.940Z"
   },
   {
    "duration": 23,
    "start_time": "2024-04-25T20:21:23.959Z"
   },
   {
    "duration": 23,
    "start_time": "2024-04-25T20:21:23.984Z"
   },
   {
    "duration": 31,
    "start_time": "2024-04-25T20:21:24.009Z"
   },
   {
    "duration": 25,
    "start_time": "2024-04-25T20:21:24.042Z"
   },
   {
    "duration": 22,
    "start_time": "2024-04-25T20:21:24.069Z"
   },
   {
    "duration": 421,
    "start_time": "2024-04-25T23:21:52.074Z"
   },
   {
    "duration": 257,
    "start_time": "2024-04-25T23:21:52.497Z"
   },
   {
    "duration": 491,
    "start_time": "2024-04-25T23:21:52.756Z"
   },
   {
    "duration": 63,
    "start_time": "2024-04-25T23:21:53.248Z"
   },
   {
    "duration": 2,
    "start_time": "2024-04-25T23:21:53.313Z"
   },
   {
    "duration": 5,
    "start_time": "2024-04-25T23:21:53.317Z"
   },
   {
    "duration": 79,
    "start_time": "2024-04-25T23:21:53.323Z"
   },
   {
    "duration": 22,
    "start_time": "2024-04-25T23:21:53.404Z"
   },
   {
    "duration": 28,
    "start_time": "2024-04-25T23:21:53.428Z"
   },
   {
    "duration": 16,
    "start_time": "2024-04-25T23:21:53.458Z"
   },
   {
    "duration": 23,
    "start_time": "2024-04-25T23:21:53.476Z"
   },
   {
    "duration": 13,
    "start_time": "2024-04-25T23:21:53.501Z"
   },
   {
    "duration": 10,
    "start_time": "2024-04-25T23:21:53.516Z"
   },
   {
    "duration": 8,
    "start_time": "2024-04-25T23:21:53.530Z"
   },
   {
    "duration": 32,
    "start_time": "2024-04-25T23:21:53.540Z"
   },
   {
    "duration": 21,
    "start_time": "2024-04-25T23:21:53.574Z"
   },
   {
    "duration": 21,
    "start_time": "2024-04-25T23:21:53.597Z"
   },
   {
    "duration": 20,
    "start_time": "2024-04-25T23:21:53.619Z"
   },
   {
    "duration": 15,
    "start_time": "2024-04-25T23:21:53.640Z"
   },
   {
    "duration": 205,
    "start_time": "2024-04-25T23:21:53.657Z"
   },
   {
    "duration": 14,
    "start_time": "2024-04-25T23:21:53.863Z"
   },
   {
    "duration": 94,
    "start_time": "2024-04-25T23:21:53.879Z"
   },
   {
    "duration": 299,
    "start_time": "2024-04-25T23:21:53.975Z"
   },
   {
    "duration": 10,
    "start_time": "2024-04-25T23:21:54.276Z"
   },
   {
    "duration": 288,
    "start_time": "2024-04-25T23:21:54.287Z"
   },
   {
    "duration": 8,
    "start_time": "2024-04-25T23:21:54.577Z"
   },
   {
    "duration": 213,
    "start_time": "2024-04-25T23:21:54.586Z"
   },
   {
    "duration": 8,
    "start_time": "2024-04-25T23:21:54.801Z"
   },
   {
    "duration": 25,
    "start_time": "2024-04-25T23:21:54.811Z"
   },
   {
    "duration": 61,
    "start_time": "2024-04-25T23:21:54.837Z"
   },
   {
    "duration": 15,
    "start_time": "2024-04-25T23:21:54.900Z"
   },
   {
    "duration": 723,
    "start_time": "2024-04-25T23:21:54.917Z"
   },
   {
    "duration": 36,
    "start_time": "2024-04-25T23:21:55.642Z"
   },
   {
    "duration": 13,
    "start_time": "2024-04-25T23:21:55.679Z"
   },
   {
    "duration": 83,
    "start_time": "2024-04-25T23:21:55.693Z"
   },
   {
    "duration": 9,
    "start_time": "2024-04-25T23:21:55.778Z"
   },
   {
    "duration": 10,
    "start_time": "2024-04-25T23:21:55.789Z"
   },
   {
    "duration": 15,
    "start_time": "2024-04-25T23:21:55.800Z"
   },
   {
    "duration": 15,
    "start_time": "2024-04-25T23:21:55.817Z"
   },
   {
    "duration": 9,
    "start_time": "2024-04-25T23:21:55.833Z"
   },
   {
    "duration": 10,
    "start_time": "2024-04-25T23:21:55.875Z"
   },
   {
    "duration": 17,
    "start_time": "2024-04-25T23:21:55.886Z"
   },
   {
    "duration": 8,
    "start_time": "2024-04-25T23:37:47.902Z"
   },
   {
    "duration": 9,
    "start_time": "2024-04-25T23:37:54.183Z"
   },
   {
    "duration": 10,
    "start_time": "2024-04-25T23:39:52.103Z"
   },
   {
    "duration": 384,
    "start_time": "2024-04-25T23:43:00.228Z"
   },
   {
    "duration": 274,
    "start_time": "2024-04-25T23:43:00.614Z"
   },
   {
    "duration": 503,
    "start_time": "2024-04-25T23:43:00.890Z"
   },
   {
    "duration": 59,
    "start_time": "2024-04-25T23:43:01.394Z"
   },
   {
    "duration": 3,
    "start_time": "2024-04-25T23:43:01.455Z"
   },
   {
    "duration": 48,
    "start_time": "2024-04-25T23:43:01.459Z"
   },
   {
    "duration": 106,
    "start_time": "2024-04-25T23:43:01.508Z"
   },
   {
    "duration": 20,
    "start_time": "2024-04-25T23:43:01.616Z"
   },
   {
    "duration": 18,
    "start_time": "2024-04-25T23:43:01.638Z"
   },
   {
    "duration": 28,
    "start_time": "2024-04-25T23:43:01.658Z"
   },
   {
    "duration": 34,
    "start_time": "2024-04-25T23:43:01.687Z"
   },
   {
    "duration": 11,
    "start_time": "2024-04-25T23:43:01.723Z"
   },
   {
    "duration": 8,
    "start_time": "2024-04-25T23:43:01.736Z"
   },
   {
    "duration": 6,
    "start_time": "2024-04-25T23:43:01.748Z"
   },
   {
    "duration": 31,
    "start_time": "2024-04-25T23:43:01.755Z"
   },
   {
    "duration": 11,
    "start_time": "2024-04-25T23:43:01.787Z"
   },
   {
    "duration": 47,
    "start_time": "2024-04-25T23:43:01.799Z"
   },
   {
    "duration": 23,
    "start_time": "2024-04-25T23:43:01.848Z"
   },
   {
    "duration": 10,
    "start_time": "2024-04-25T23:43:01.873Z"
   },
   {
    "duration": 186,
    "start_time": "2024-04-25T23:43:01.884Z"
   },
   {
    "duration": 9,
    "start_time": "2024-04-25T23:43:02.073Z"
   },
   {
    "duration": 128,
    "start_time": "2024-04-25T23:43:02.085Z"
   },
   {
    "duration": 315,
    "start_time": "2024-04-25T23:43:02.215Z"
   },
   {
    "duration": 8,
    "start_time": "2024-04-25T23:43:02.532Z"
   },
   {
    "duration": 271,
    "start_time": "2024-04-25T23:43:02.541Z"
   },
   {
    "duration": 8,
    "start_time": "2024-04-25T23:43:02.814Z"
   },
   {
    "duration": 221,
    "start_time": "2024-04-25T23:43:02.823Z"
   },
   {
    "duration": 10,
    "start_time": "2024-04-25T23:43:03.045Z"
   },
   {
    "duration": 40,
    "start_time": "2024-04-25T23:43:03.057Z"
   },
   {
    "duration": 37,
    "start_time": "2024-04-25T23:43:03.099Z"
   },
   {
    "duration": 46,
    "start_time": "2024-04-25T23:43:03.137Z"
   },
   {
    "duration": 770,
    "start_time": "2024-04-25T23:43:03.185Z"
   },
   {
    "duration": 29,
    "start_time": "2024-04-25T23:43:03.957Z"
   },
   {
    "duration": 14,
    "start_time": "2024-04-25T23:43:03.987Z"
   },
   {
    "duration": 72,
    "start_time": "2024-04-25T23:43:04.002Z"
   },
   {
    "duration": 9,
    "start_time": "2024-04-25T23:43:04.075Z"
   },
   {
    "duration": 9,
    "start_time": "2024-04-25T23:43:04.085Z"
   },
   {
    "duration": 16,
    "start_time": "2024-04-25T23:43:04.096Z"
   },
   {
    "duration": 12,
    "start_time": "2024-04-25T23:43:04.113Z"
   },
   {
    "duration": 9,
    "start_time": "2024-04-25T23:43:04.126Z"
   },
   {
    "duration": 43,
    "start_time": "2024-04-25T23:43:04.139Z"
   },
   {
    "duration": 13,
    "start_time": "2024-04-25T23:43:04.183Z"
   },
   {
    "duration": 11,
    "start_time": "2024-04-26T06:13:45.494Z"
   },
   {
    "duration": 10,
    "start_time": "2024-04-26T06:14:13.786Z"
   },
   {
    "duration": 11,
    "start_time": "2024-04-26T06:14:23.653Z"
   },
   {
    "duration": 11,
    "start_time": "2024-04-26T06:32:17.202Z"
   },
   {
    "duration": 11,
    "start_time": "2024-04-26T06:35:12.311Z"
   },
   {
    "duration": 13,
    "start_time": "2024-04-26T06:35:37.639Z"
   },
   {
    "duration": 412,
    "start_time": "2024-04-26T06:35:53.108Z"
   },
   {
    "duration": 231,
    "start_time": "2024-04-26T06:35:53.522Z"
   },
   {
    "duration": 480,
    "start_time": "2024-04-26T06:35:53.754Z"
   },
   {
    "duration": 59,
    "start_time": "2024-04-26T06:35:54.235Z"
   },
   {
    "duration": 3,
    "start_time": "2024-04-26T06:35:54.295Z"
   },
   {
    "duration": 16,
    "start_time": "2024-04-26T06:35:54.299Z"
   },
   {
    "duration": 69,
    "start_time": "2024-04-26T06:35:54.317Z"
   },
   {
    "duration": 19,
    "start_time": "2024-04-26T06:35:54.388Z"
   },
   {
    "duration": 18,
    "start_time": "2024-04-26T06:35:54.409Z"
   },
   {
    "duration": 14,
    "start_time": "2024-04-26T06:35:54.430Z"
   },
   {
    "duration": 20,
    "start_time": "2024-04-26T06:35:54.445Z"
   },
   {
    "duration": 36,
    "start_time": "2024-04-26T06:35:54.467Z"
   },
   {
    "duration": 12,
    "start_time": "2024-04-26T06:35:54.505Z"
   },
   {
    "duration": 39,
    "start_time": "2024-04-26T06:35:54.518Z"
   },
   {
    "duration": 75,
    "start_time": "2024-04-26T06:35:54.559Z"
   },
   {
    "duration": 32,
    "start_time": "2024-04-26T06:35:54.635Z"
   },
   {
    "duration": 8,
    "start_time": "2024-04-26T06:35:54.668Z"
   },
   {
    "duration": 14,
    "start_time": "2024-04-26T06:35:54.678Z"
   },
   {
    "duration": 4,
    "start_time": "2024-04-26T06:35:54.693Z"
   },
   {
    "duration": 202,
    "start_time": "2024-04-26T06:35:54.698Z"
   },
   {
    "duration": 8,
    "start_time": "2024-04-26T06:35:54.901Z"
   },
   {
    "duration": 106,
    "start_time": "2024-04-26T06:35:54.911Z"
   },
   {
    "duration": 262,
    "start_time": "2024-04-26T06:35:55.019Z"
   },
   {
    "duration": 12,
    "start_time": "2024-04-26T06:35:55.283Z"
   },
   {
    "duration": 256,
    "start_time": "2024-04-26T06:35:55.296Z"
   },
   {
    "duration": 8,
    "start_time": "2024-04-26T06:35:55.554Z"
   },
   {
    "duration": 213,
    "start_time": "2024-04-26T06:35:55.564Z"
   },
   {
    "duration": 16,
    "start_time": "2024-04-26T06:35:55.782Z"
   },
   {
    "duration": 25,
    "start_time": "2024-04-26T06:35:55.800Z"
   },
   {
    "duration": 37,
    "start_time": "2024-04-26T06:35:55.827Z"
   },
   {
    "duration": 40,
    "start_time": "2024-04-26T06:35:55.865Z"
   },
   {
    "duration": 671,
    "start_time": "2024-04-26T06:35:55.907Z"
   },
   {
    "duration": 24,
    "start_time": "2024-04-26T06:35:56.579Z"
   },
   {
    "duration": 21,
    "start_time": "2024-04-26T06:35:56.605Z"
   },
   {
    "duration": 42,
    "start_time": "2024-04-26T06:35:56.627Z"
   },
   {
    "duration": 27,
    "start_time": "2024-04-26T06:35:56.670Z"
   },
   {
    "duration": 7,
    "start_time": "2024-04-26T06:35:56.699Z"
   },
   {
    "duration": 42,
    "start_time": "2024-04-26T06:35:56.707Z"
   },
   {
    "duration": 101,
    "start_time": "2024-04-26T06:35:56.751Z"
   },
   {
    "duration": 0,
    "start_time": "2024-04-26T06:35:56.854Z"
   },
   {
    "duration": 0,
    "start_time": "2024-04-26T06:35:56.855Z"
   },
   {
    "duration": 0,
    "start_time": "2024-04-26T06:35:56.856Z"
   },
   {
    "duration": 0,
    "start_time": "2024-04-26T06:35:56.857Z"
   },
   {
    "duration": 11,
    "start_time": "2024-04-26T06:36:13.864Z"
   },
   {
    "duration": 11,
    "start_time": "2024-04-26T06:36:18.578Z"
   },
   {
    "duration": 424,
    "start_time": "2024-04-26T06:36:40.881Z"
   },
   {
    "duration": 230,
    "start_time": "2024-04-26T06:36:41.307Z"
   },
   {
    "duration": 427,
    "start_time": "2024-04-26T06:36:41.539Z"
   },
   {
    "duration": 57,
    "start_time": "2024-04-26T06:36:41.967Z"
   },
   {
    "duration": 2,
    "start_time": "2024-04-26T06:36:42.026Z"
   },
   {
    "duration": 5,
    "start_time": "2024-04-26T06:36:42.030Z"
   },
   {
    "duration": 71,
    "start_time": "2024-04-26T06:36:42.036Z"
   },
   {
    "duration": 19,
    "start_time": "2024-04-26T06:36:42.108Z"
   },
   {
    "duration": 41,
    "start_time": "2024-04-26T06:36:42.128Z"
   },
   {
    "duration": 35,
    "start_time": "2024-04-26T06:36:42.171Z"
   },
   {
    "duration": 51,
    "start_time": "2024-04-26T06:36:42.207Z"
   },
   {
    "duration": 20,
    "start_time": "2024-04-26T06:36:42.260Z"
   },
   {
    "duration": 23,
    "start_time": "2024-04-26T06:36:42.282Z"
   },
   {
    "duration": 6,
    "start_time": "2024-04-26T06:36:42.308Z"
   },
   {
    "duration": 17,
    "start_time": "2024-04-26T06:36:42.315Z"
   },
   {
    "duration": 27,
    "start_time": "2024-04-26T06:36:42.334Z"
   },
   {
    "duration": 32,
    "start_time": "2024-04-26T06:36:42.363Z"
   },
   {
    "duration": 21,
    "start_time": "2024-04-26T06:36:42.397Z"
   },
   {
    "duration": 4,
    "start_time": "2024-04-26T06:36:42.420Z"
   },
   {
    "duration": 195,
    "start_time": "2024-04-26T06:36:42.425Z"
   },
   {
    "duration": 8,
    "start_time": "2024-04-26T06:36:42.622Z"
   },
   {
    "duration": 99,
    "start_time": "2024-04-26T06:36:42.631Z"
   },
   {
    "duration": 276,
    "start_time": "2024-04-26T06:36:42.731Z"
   },
   {
    "duration": 7,
    "start_time": "2024-04-26T06:36:43.009Z"
   },
   {
    "duration": 250,
    "start_time": "2024-04-26T06:36:43.018Z"
   },
   {
    "duration": 10,
    "start_time": "2024-04-26T06:36:43.270Z"
   },
   {
    "duration": 209,
    "start_time": "2024-04-26T06:36:43.281Z"
   },
   {
    "duration": 8,
    "start_time": "2024-04-26T06:36:43.493Z"
   },
   {
    "duration": 25,
    "start_time": "2024-04-26T06:36:43.502Z"
   },
   {
    "duration": 33,
    "start_time": "2024-04-26T06:36:43.528Z"
   },
   {
    "duration": 43,
    "start_time": "2024-04-26T06:36:43.563Z"
   },
   {
    "duration": 705,
    "start_time": "2024-04-26T06:36:43.608Z"
   },
   {
    "duration": 17,
    "start_time": "2024-04-26T06:36:44.314Z"
   },
   {
    "duration": 25,
    "start_time": "2024-04-26T06:36:44.333Z"
   },
   {
    "duration": 59,
    "start_time": "2024-04-26T06:36:44.359Z"
   },
   {
    "duration": 8,
    "start_time": "2024-04-26T06:36:44.419Z"
   },
   {
    "duration": 28,
    "start_time": "2024-04-26T06:36:44.428Z"
   },
   {
    "duration": 21,
    "start_time": "2024-04-26T06:36:44.457Z"
   },
   {
    "duration": 29,
    "start_time": "2024-04-26T06:36:44.480Z"
   },
   {
    "duration": 49,
    "start_time": "2024-04-26T06:36:44.511Z"
   },
   {
    "duration": 22,
    "start_time": "2024-04-26T06:36:44.565Z"
   },
   {
    "duration": 35,
    "start_time": "2024-04-26T06:36:44.589Z"
   },
   {
    "duration": 49,
    "start_time": "2024-04-26T06:36:44.626Z"
   },
   {
    "duration": 12,
    "start_time": "2024-04-26T06:43:57.060Z"
   },
   {
    "duration": 11,
    "start_time": "2024-04-26T06:44:12.994Z"
   },
   {
    "duration": 11,
    "start_time": "2024-04-26T06:44:14.152Z"
   },
   {
    "duration": 11,
    "start_time": "2024-04-26T06:58:05.674Z"
   },
   {
    "duration": 9,
    "start_time": "2024-04-26T07:00:46.241Z"
   },
   {
    "duration": 10,
    "start_time": "2024-04-26T07:00:57.778Z"
   },
   {
    "duration": 14,
    "start_time": "2024-04-26T07:01:45.305Z"
   },
   {
    "duration": 357,
    "start_time": "2024-04-26T07:18:03.952Z"
   },
   {
    "duration": 238,
    "start_time": "2024-04-26T07:18:04.311Z"
   },
   {
    "duration": 529,
    "start_time": "2024-04-26T07:18:04.550Z"
   },
   {
    "duration": 54,
    "start_time": "2024-04-26T07:18:05.080Z"
   },
   {
    "duration": 2,
    "start_time": "2024-04-26T07:18:05.136Z"
   },
   {
    "duration": 28,
    "start_time": "2024-04-26T07:18:05.139Z"
   },
   {
    "duration": 128,
    "start_time": "2024-04-26T07:18:05.169Z"
   },
   {
    "duration": 52,
    "start_time": "2024-04-26T07:18:05.299Z"
   },
   {
    "duration": 58,
    "start_time": "2024-04-26T07:18:05.352Z"
   },
   {
    "duration": 94,
    "start_time": "2024-04-26T07:18:05.413Z"
   },
   {
    "duration": 30,
    "start_time": "2024-04-26T07:18:05.509Z"
   },
   {
    "duration": 166,
    "start_time": "2024-04-26T07:18:05.540Z"
   },
   {
    "duration": 36,
    "start_time": "2024-04-26T07:18:05.708Z"
   },
   {
    "duration": 49,
    "start_time": "2024-04-26T07:18:05.747Z"
   },
   {
    "duration": 39,
    "start_time": "2024-04-26T07:18:05.798Z"
   },
   {
    "duration": 50,
    "start_time": "2024-04-26T07:18:05.839Z"
   },
   {
    "duration": 52,
    "start_time": "2024-04-26T07:18:05.890Z"
   },
   {
    "duration": 66,
    "start_time": "2024-04-26T07:18:05.943Z"
   },
   {
    "duration": 57,
    "start_time": "2024-04-26T07:18:06.011Z"
   },
   {
    "duration": 211,
    "start_time": "2024-04-26T07:18:06.070Z"
   },
   {
    "duration": 13,
    "start_time": "2024-04-26T07:18:06.282Z"
   },
   {
    "duration": 149,
    "start_time": "2024-04-26T07:18:06.296Z"
   },
   {
    "duration": 259,
    "start_time": "2024-04-26T07:18:06.446Z"
   },
   {
    "duration": 7,
    "start_time": "2024-04-26T07:18:06.706Z"
   },
   {
    "duration": 349,
    "start_time": "2024-04-26T07:18:06.715Z"
   },
   {
    "duration": 8,
    "start_time": "2024-04-26T07:18:07.065Z"
   },
   {
    "duration": 245,
    "start_time": "2024-04-26T07:18:07.074Z"
   },
   {
    "duration": 7,
    "start_time": "2024-04-26T07:18:07.321Z"
   },
   {
    "duration": 83,
    "start_time": "2024-04-26T07:18:07.329Z"
   },
   {
    "duration": 82,
    "start_time": "2024-04-26T07:18:07.414Z"
   },
   {
    "duration": 20,
    "start_time": "2024-04-26T07:18:07.497Z"
   },
   {
    "duration": 715,
    "start_time": "2024-04-26T07:18:07.519Z"
   },
   {
    "duration": 19,
    "start_time": "2024-04-26T07:18:08.236Z"
   },
   {
    "duration": 39,
    "start_time": "2024-04-26T07:18:08.257Z"
   },
   {
    "duration": 45,
    "start_time": "2024-04-26T07:18:08.298Z"
   },
   {
    "duration": 7,
    "start_time": "2024-04-26T07:18:08.344Z"
   },
   {
    "duration": 41,
    "start_time": "2024-04-26T07:18:08.353Z"
   },
   {
    "duration": 21,
    "start_time": "2024-04-26T07:18:08.396Z"
   },
   {
    "duration": 11,
    "start_time": "2024-04-26T07:18:08.419Z"
   },
   {
    "duration": 56,
    "start_time": "2024-04-26T07:18:08.431Z"
   },
   {
    "duration": 14,
    "start_time": "2024-04-26T07:18:08.490Z"
   },
   {
    "duration": 9,
    "start_time": "2024-04-26T07:18:08.506Z"
   },
   {
    "duration": 20,
    "start_time": "2024-04-26T07:18:08.517Z"
   },
   {
    "duration": 15,
    "start_time": "2024-04-26T07:18:08.538Z"
   },
   {
    "duration": 362,
    "start_time": "2024-04-26T11:09:36.426Z"
   },
   {
    "duration": 265,
    "start_time": "2024-04-26T11:09:36.790Z"
   },
   {
    "duration": 480,
    "start_time": "2024-04-26T11:09:37.057Z"
   },
   {
    "duration": 65,
    "start_time": "2024-04-26T11:09:37.538Z"
   },
   {
    "duration": 2,
    "start_time": "2024-04-26T11:09:37.605Z"
   },
   {
    "duration": 9,
    "start_time": "2024-04-26T11:09:37.609Z"
   },
   {
    "duration": 69,
    "start_time": "2024-04-26T11:09:37.619Z"
   },
   {
    "duration": 20,
    "start_time": "2024-04-26T11:09:37.689Z"
   },
   {
    "duration": 18,
    "start_time": "2024-04-26T11:09:37.711Z"
   },
   {
    "duration": 14,
    "start_time": "2024-04-26T11:09:37.730Z"
   },
   {
    "duration": 38,
    "start_time": "2024-04-26T11:09:37.745Z"
   },
   {
    "duration": 10,
    "start_time": "2024-04-26T11:09:37.785Z"
   },
   {
    "duration": 13,
    "start_time": "2024-04-26T11:09:37.797Z"
   },
   {
    "duration": 26,
    "start_time": "2024-04-26T11:09:37.813Z"
   },
   {
    "duration": 9,
    "start_time": "2024-04-26T11:09:37.841Z"
   },
   {
    "duration": 6,
    "start_time": "2024-04-26T11:09:37.851Z"
   },
   {
    "duration": 15,
    "start_time": "2024-04-26T11:09:37.869Z"
   },
   {
    "duration": 16,
    "start_time": "2024-04-26T11:09:37.886Z"
   },
   {
    "duration": 5,
    "start_time": "2024-04-26T11:09:37.903Z"
   },
   {
    "duration": 216,
    "start_time": "2024-04-26T11:09:37.909Z"
   },
   {
    "duration": 9,
    "start_time": "2024-04-26T11:09:38.126Z"
   },
   {
    "duration": 107,
    "start_time": "2024-04-26T11:09:38.137Z"
   },
   {
    "duration": 283,
    "start_time": "2024-04-26T11:09:38.246Z"
   },
   {
    "duration": 8,
    "start_time": "2024-04-26T11:09:38.530Z"
   },
   {
    "duration": 265,
    "start_time": "2024-04-26T11:09:38.540Z"
   },
   {
    "duration": 9,
    "start_time": "2024-04-26T11:09:38.806Z"
   },
   {
    "duration": 221,
    "start_time": "2024-04-26T11:09:38.816Z"
   },
   {
    "duration": 9,
    "start_time": "2024-04-26T11:09:39.039Z"
   },
   {
    "duration": 39,
    "start_time": "2024-04-26T11:09:39.049Z"
   },
   {
    "duration": 37,
    "start_time": "2024-04-26T11:09:39.089Z"
   },
   {
    "duration": 16,
    "start_time": "2024-04-26T11:09:39.127Z"
   },
   {
    "duration": 724,
    "start_time": "2024-04-26T11:09:39.170Z"
   },
   {
    "duration": 25,
    "start_time": "2024-04-26T11:09:39.896Z"
   },
   {
    "duration": 16,
    "start_time": "2024-04-26T11:09:39.923Z"
   },
   {
    "duration": 74,
    "start_time": "2024-04-26T11:09:39.941Z"
   },
   {
    "duration": 8,
    "start_time": "2024-04-26T11:09:40.016Z"
   },
   {
    "duration": 15,
    "start_time": "2024-04-26T11:09:40.026Z"
   },
   {
    "duration": 36,
    "start_time": "2024-04-26T11:09:40.043Z"
   },
   {
    "duration": 10,
    "start_time": "2024-04-26T11:09:40.081Z"
   },
   {
    "duration": 18,
    "start_time": "2024-04-26T11:09:40.093Z"
   },
   {
    "duration": 9,
    "start_time": "2024-04-26T11:09:40.115Z"
   },
   {
    "duration": 17,
    "start_time": "2024-04-26T11:09:40.126Z"
   },
   {
    "duration": 39,
    "start_time": "2024-04-26T11:09:40.145Z"
   },
   {
    "duration": 7,
    "start_time": "2024-04-26T11:09:40.186Z"
   },
   {
    "duration": 409,
    "start_time": "2024-04-26T11:18:55.822Z"
   },
   {
    "duration": 245,
    "start_time": "2024-04-26T11:18:56.234Z"
   },
   {
    "duration": 470,
    "start_time": "2024-04-26T11:18:56.480Z"
   },
   {
    "duration": 62,
    "start_time": "2024-04-26T11:18:56.951Z"
   },
   {
    "duration": 2,
    "start_time": "2024-04-26T11:18:57.016Z"
   },
   {
    "duration": 7,
    "start_time": "2024-04-26T11:18:57.019Z"
   },
   {
    "duration": 81,
    "start_time": "2024-04-26T11:18:57.028Z"
   },
   {
    "duration": 23,
    "start_time": "2024-04-26T11:18:57.111Z"
   },
   {
    "duration": 18,
    "start_time": "2024-04-26T11:18:57.136Z"
   },
   {
    "duration": 14,
    "start_time": "2024-04-26T11:18:57.156Z"
   },
   {
    "duration": 21,
    "start_time": "2024-04-26T11:18:57.172Z"
   },
   {
    "duration": 12,
    "start_time": "2024-04-26T11:18:57.194Z"
   },
   {
    "duration": 10,
    "start_time": "2024-04-26T11:18:57.208Z"
   },
   {
    "duration": 49,
    "start_time": "2024-04-26T11:18:57.221Z"
   },
   {
    "duration": 8,
    "start_time": "2024-04-26T11:18:57.272Z"
   },
   {
    "duration": 7,
    "start_time": "2024-04-26T11:18:57.282Z"
   },
   {
    "duration": 15,
    "start_time": "2024-04-26T11:18:57.291Z"
   },
   {
    "duration": 18,
    "start_time": "2024-04-26T11:18:57.308Z"
   },
   {
    "duration": 6,
    "start_time": "2024-04-26T11:18:57.328Z"
   },
   {
    "duration": 217,
    "start_time": "2024-04-26T11:18:57.335Z"
   },
   {
    "duration": 20,
    "start_time": "2024-04-26T11:18:57.554Z"
   },
   {
    "duration": 106,
    "start_time": "2024-04-26T11:18:57.575Z"
   },
   {
    "duration": 304,
    "start_time": "2024-04-26T11:18:57.682Z"
   },
   {
    "duration": 8,
    "start_time": "2024-04-26T11:18:57.987Z"
   },
   {
    "duration": 272,
    "start_time": "2024-04-26T11:18:57.997Z"
   },
   {
    "duration": 9,
    "start_time": "2024-04-26T11:18:58.271Z"
   },
   {
    "duration": 232,
    "start_time": "2024-04-26T11:18:58.281Z"
   },
   {
    "duration": 10,
    "start_time": "2024-04-26T11:18:58.515Z"
   },
   {
    "duration": 48,
    "start_time": "2024-04-26T11:18:58.527Z"
   },
   {
    "duration": 44,
    "start_time": "2024-04-26T11:18:58.577Z"
   },
   {
    "duration": 19,
    "start_time": "2024-04-26T11:18:58.623Z"
   },
   {
    "duration": 745,
    "start_time": "2024-04-26T11:18:58.670Z"
   },
   {
    "duration": 19,
    "start_time": "2024-04-26T11:18:59.417Z"
   },
   {
    "duration": 36,
    "start_time": "2024-04-26T11:18:59.438Z"
   },
   {
    "duration": 48,
    "start_time": "2024-04-26T11:18:59.475Z"
   },
   {
    "duration": 9,
    "start_time": "2024-04-26T11:18:59.525Z"
   },
   {
    "duration": 39,
    "start_time": "2024-04-26T11:18:59.535Z"
   },
   {
    "duration": 31,
    "start_time": "2024-04-26T11:18:59.576Z"
   },
   {
    "duration": 11,
    "start_time": "2024-04-26T11:18:59.608Z"
   },
   {
    "duration": 18,
    "start_time": "2024-04-26T11:18:59.621Z"
   },
   {
    "duration": 9,
    "start_time": "2024-04-26T11:18:59.644Z"
   },
   {
    "duration": 25,
    "start_time": "2024-04-26T11:18:59.654Z"
   },
   {
    "duration": 17,
    "start_time": "2024-04-26T11:18:59.681Z"
   },
   {
    "duration": 7,
    "start_time": "2024-04-26T11:18:59.700Z"
   }
  ],
  "kernelspec": {
   "display_name": "Python 3 (ipykernel)",
   "language": "python",
   "name": "python3"
  },
  "language_info": {
   "codemirror_mode": {
    "name": "ipython",
    "version": 3
   },
   "file_extension": ".py",
   "mimetype": "text/x-python",
   "name": "python",
   "nbconvert_exporter": "python",
   "pygments_lexer": "ipython3",
   "version": "3.9.5"
  },
  "toc": {
   "base_numbering": 1,
   "nav_menu": {},
   "number_sections": true,
   "sideBar": true,
   "skip_h1_title": true,
   "title_cell": "Table of Contents",
   "title_sidebar": "Contents",
   "toc_cell": false,
   "toc_position": {},
   "toc_section_display": true,
   "toc_window_display": false
  }
 },
 "nbformat": 4,
 "nbformat_minor": 5
}
