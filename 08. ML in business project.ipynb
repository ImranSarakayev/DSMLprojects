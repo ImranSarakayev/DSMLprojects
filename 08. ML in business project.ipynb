{
 "cells": [
  {
   "cell_type": "markdown",
   "metadata": {},
   "source": [
    "Привет еще раз! меня зовут Люман. Сегодня я проверю твой проект.\n",
    "<br> Дальнейшее общение будет происходить на \"ты\" если это не вызывает никаких проблем.\n",
    "<br> Желательно реагировать на красные комментарии ('исправил', 'не понятно как исправить ошибку', ...)\n",
    "<br> Пожалуйста, не удаляй комментарии ревьюера, так как они повышают качество повторного ревью.\n",
    "\n",
    "Комментарии будут в <font color='green'>зеленой</font>, <font color='blue'>синей</font> или <font color='red'>красной</font> рамках:\n",
    "\n",
    "\n",
    "<div class=\"alert alert-block alert-success\">\n",
    "<b>Успех:</b> Если все сделано отлично\n",
    "</div>\n",
    "\n",
    "<div class=\"alert alert-block alert-info\">\n",
    "<b>Совет: </b> Если можно немного улучшить\n",
    "</div>\n",
    "\n",
    "<div class=\"alert alert-block alert-danger\">\n",
    "<b>Ошибка:</b> Если требуются исправления. Работа не может быть принята с красными комментариями.\n",
    "</div>\n",
    "\n",
    "-------------------\n",
    "\n",
    "Будет очень хорошо, если ты будешь помечать свои действия следующим образом:\n",
    "<div class=\"alert alert-block alert-warning\">\n",
    "<b>Комментарий студента:</b> ..\n",
    "</div>\n",
    "<div class=\"alert alert-block alert-warning\">\n",
    "<b>Изменения:</b> Были внесены следующие изменения ...\n",
    "</div>\n",
    "\n",
    "<font color='orange' style='font-size:24px; font-weight:bold'>Общее впечатление</font>\n",
    "* Спасибо за очередную качественную работу, было интересно ее проверять.\n",
    "- Я оставил некоторые советы надеюсь они будут полезными или интересными.\n",
    "- Есть небольшие недочеты, но думаю у тебя не составить труда их исправить\n",
    "- Жду обновленную работу!"
   ]
  },
  {
   "cell_type": "markdown",
   "metadata": {},
   "source": [
    "<div class=\"alert alert-block alert-warning\">\n",
    "<b>Комментарий студента:</b> Люман, привет! Рад снова получить от тебя обратную связь с ценными советами)\n",
    "</div>"
   ]
  },
  {
   "cell_type": "markdown",
   "metadata": {},
   "source": [
    "\n",
    "<font color='orange' style='font-size:24px; font-weight:bold'>Общее впечатление[5]</font>\n",
    "* Спасибо за усердность!\n",
    "- Было приятно с тобой сотрудничать.\n",
    "- Недочеты исправлены - работа полностью корректна\n",
    "- Не буду больше задерживать, продолжай в том же духе."
   ]
  },
  {
   "cell_type": "markdown",
   "metadata": {},
   "source": [
    "# Выбор локации для скважины"
   ]
  },
  {
   "cell_type": "markdown",
   "metadata": {},
   "source": [
    "Допустим, вы работаете в добывающей компании «ГлавРосГосНефть». Нужно решить, где бурить новую скважину.\n",
    "\n",
    "Вам предоставлены пробы нефти в трёх регионах: в каждом 10 000 месторождений, где измерили качество нефти и объём её запасов. Постройте модель машинного обучения, которая поможет определить регион, где добыча принесёт наибольшую прибыль. Проанализируйте возможную прибыль и риски техникой *Bootstrap.*\n",
    "\n",
    "Шаги для выбора локации:\n",
    "\n",
    "- В избранном регионе ищут месторождения, для каждого определяют значения признаков;\n",
    "- Строят модель и оценивают объём запасов;\n",
    "- Выбирают месторождения с самым высокими оценками значений. Количество месторождений зависит от бюджета компании и стоимости разработки одной скважины;\n",
    "- Прибыль равна суммарной прибыли отобранных месторождений."
   ]
  },
  {
   "cell_type": "markdown",
   "metadata": {},
   "source": []
  },
  {
   "cell_type": "code",
   "execution_count": 1,
   "metadata": {},
   "outputs": [],
   "source": [
    "import pandas as pd\n",
    "import numpy as np\n",
    "from sklearn.linear_model import LinearRegression\n",
    "from sklearn.model_selection import train_test_split\n",
    "from sklearn.preprocessing import StandardScaler\n",
    "from sklearn.metrics import mean_squared_error, r2_score, mean_absolute_error\n"
   ]
  },
  {
   "cell_type": "markdown",
   "metadata": {},
   "source": [
    "\n",
    "<div class=\"alert alert-block alert-success\">\n",
    "<b>Успех:</b> Импорты  на месте\n",
    "</div>\n"
   ]
  },
  {
   "cell_type": "markdown",
   "metadata": {},
   "source": [
    "## Загрузка и подготовка данных"
   ]
  },
  {
   "cell_type": "markdown",
   "metadata": {},
   "source": [
    "### Загрузка данных и первичная оценка"
   ]
  },
  {
   "cell_type": "code",
   "execution_count": 1,
   "metadata": {},
   "outputs": [
    {
     "ename": "NameError",
     "evalue": "name 'pd' is not defined",
     "output_type": "error",
     "traceback": [
      "\u001b[0;31m---------------------------------------------------------------------------\u001b[0m",
      "\u001b[0;31mNameError\u001b[0m                                 Traceback (most recent call last)",
      "\u001b[0;32m/tmp/ipykernel_64/3975388759.py\u001b[0m in \u001b[0;36m<module>\u001b[0;34m\u001b[0m\n\u001b[0;32m----> 1\u001b[0;31m \u001b[0mdata_1\u001b[0m \u001b[0;34m=\u001b[0m \u001b[0mpd\u001b[0m\u001b[0;34m.\u001b[0m\u001b[0mread_csv\u001b[0m\u001b[0;34m(\u001b[0m\u001b[0;34m'/datasets/geo_data_0.csv'\u001b[0m\u001b[0;34m)\u001b[0m\u001b[0;34m\u001b[0m\u001b[0;34m\u001b[0m\u001b[0m\n\u001b[0m\u001b[1;32m      2\u001b[0m \u001b[0mdata_2\u001b[0m \u001b[0;34m=\u001b[0m \u001b[0mpd\u001b[0m\u001b[0;34m.\u001b[0m\u001b[0mread_csv\u001b[0m\u001b[0;34m(\u001b[0m\u001b[0;34m'/datasets/geo_data_1.csv'\u001b[0m\u001b[0;34m)\u001b[0m\u001b[0;34m\u001b[0m\u001b[0;34m\u001b[0m\u001b[0m\n\u001b[1;32m      3\u001b[0m \u001b[0mdata_3\u001b[0m \u001b[0;34m=\u001b[0m \u001b[0mpd\u001b[0m\u001b[0;34m.\u001b[0m\u001b[0mread_csv\u001b[0m\u001b[0;34m(\u001b[0m\u001b[0;34m'/datasets/geo_data_2.csv'\u001b[0m\u001b[0;34m)\u001b[0m\u001b[0;34m\u001b[0m\u001b[0;34m\u001b[0m\u001b[0m\n",
      "\u001b[0;31mNameError\u001b[0m: name 'pd' is not defined"
     ]
    }
   ],
   "source": [
    "data_1 = pd.read_csv('/datasets/geo_data_0.csv')\n",
    "data_2 = pd.read_csv('/datasets/geo_data_1.csv')\n",
    "data_3 = pd.read_csv('/datasets/geo_data_2.csv')"
   ]
  },
  {
   "cell_type": "code",
   "execution_count": 3,
   "metadata": {
    "scrolled": true
   },
   "outputs": [
    {
     "name": "stdout",
     "output_type": "stream",
     "text": [
      "<class 'pandas.core.frame.DataFrame'>\n",
      "RangeIndex: 100000 entries, 0 to 99999\n",
      "Data columns (total 5 columns):\n",
      " #   Column   Non-Null Count   Dtype  \n",
      "---  ------   --------------   -----  \n",
      " 0   id       100000 non-null  object \n",
      " 1   f0       100000 non-null  float64\n",
      " 2   f1       100000 non-null  float64\n",
      " 3   f2       100000 non-null  float64\n",
      " 4   product  100000 non-null  float64\n",
      "dtypes: float64(4), object(1)\n",
      "memory usage: 3.8+ MB\n",
      "<class 'pandas.core.frame.DataFrame'>\n",
      "RangeIndex: 100000 entries, 0 to 99999\n",
      "Data columns (total 5 columns):\n",
      " #   Column   Non-Null Count   Dtype  \n",
      "---  ------   --------------   -----  \n",
      " 0   id       100000 non-null  object \n",
      " 1   f0       100000 non-null  float64\n",
      " 2   f1       100000 non-null  float64\n",
      " 3   f2       100000 non-null  float64\n",
      " 4   product  100000 non-null  float64\n",
      "dtypes: float64(4), object(1)\n",
      "memory usage: 3.8+ MB\n",
      "<class 'pandas.core.frame.DataFrame'>\n",
      "RangeIndex: 100000 entries, 0 to 99999\n",
      "Data columns (total 5 columns):\n",
      " #   Column   Non-Null Count   Dtype  \n",
      "---  ------   --------------   -----  \n",
      " 0   id       100000 non-null  object \n",
      " 1   f0       100000 non-null  float64\n",
      " 2   f1       100000 non-null  float64\n",
      " 3   f2       100000 non-null  float64\n",
      " 4   product  100000 non-null  float64\n",
      "dtypes: float64(4), object(1)\n",
      "memory usage: 3.8+ MB\n"
     ]
    },
    {
     "data": {
      "text/plain": [
       "None"
      ]
     },
     "metadata": {},
     "output_type": "display_data"
    },
    {
     "data": {
      "text/plain": [
       "None"
      ]
     },
     "metadata": {},
     "output_type": "display_data"
    },
    {
     "data": {
      "text/plain": [
       "None"
      ]
     },
     "metadata": {},
     "output_type": "display_data"
    }
   ],
   "source": [
    "display(data_1.info(), data_2.info(), data_3.info())"
   ]
  },
  {
   "cell_type": "code",
   "execution_count": 4,
   "metadata": {
    "scrolled": true
   },
   "outputs": [
    {
     "data": {
      "text/html": [
       "<div>\n",
       "<style scoped>\n",
       "    .dataframe tbody tr th:only-of-type {\n",
       "        vertical-align: middle;\n",
       "    }\n",
       "\n",
       "    .dataframe tbody tr th {\n",
       "        vertical-align: top;\n",
       "    }\n",
       "\n",
       "    .dataframe thead th {\n",
       "        text-align: right;\n",
       "    }\n",
       "</style>\n",
       "<table border=\"1\" class=\"dataframe\">\n",
       "  <thead>\n",
       "    <tr style=\"text-align: right;\">\n",
       "      <th></th>\n",
       "      <th>id</th>\n",
       "      <th>f0</th>\n",
       "      <th>f1</th>\n",
       "      <th>f2</th>\n",
       "      <th>product</th>\n",
       "    </tr>\n",
       "  </thead>\n",
       "  <tbody>\n",
       "    <tr>\n",
       "      <th>0</th>\n",
       "      <td>txEyH</td>\n",
       "      <td>0.705745</td>\n",
       "      <td>-0.497823</td>\n",
       "      <td>1.221170</td>\n",
       "      <td>105.280062</td>\n",
       "    </tr>\n",
       "    <tr>\n",
       "      <th>1</th>\n",
       "      <td>2acmU</td>\n",
       "      <td>1.334711</td>\n",
       "      <td>-0.340164</td>\n",
       "      <td>4.365080</td>\n",
       "      <td>73.037750</td>\n",
       "    </tr>\n",
       "    <tr>\n",
       "      <th>2</th>\n",
       "      <td>409Wp</td>\n",
       "      <td>1.022732</td>\n",
       "      <td>0.151990</td>\n",
       "      <td>1.419926</td>\n",
       "      <td>85.265647</td>\n",
       "    </tr>\n",
       "    <tr>\n",
       "      <th>3</th>\n",
       "      <td>iJLyR</td>\n",
       "      <td>-0.032172</td>\n",
       "      <td>0.139033</td>\n",
       "      <td>2.978566</td>\n",
       "      <td>168.620776</td>\n",
       "    </tr>\n",
       "    <tr>\n",
       "      <th>4</th>\n",
       "      <td>Xdl7t</td>\n",
       "      <td>1.988431</td>\n",
       "      <td>0.155413</td>\n",
       "      <td>4.751769</td>\n",
       "      <td>154.036647</td>\n",
       "    </tr>\n",
       "    <tr>\n",
       "      <th>...</th>\n",
       "      <td>...</td>\n",
       "      <td>...</td>\n",
       "      <td>...</td>\n",
       "      <td>...</td>\n",
       "      <td>...</td>\n",
       "    </tr>\n",
       "    <tr>\n",
       "      <th>99995</th>\n",
       "      <td>DLsed</td>\n",
       "      <td>0.971957</td>\n",
       "      <td>0.370953</td>\n",
       "      <td>6.075346</td>\n",
       "      <td>110.744026</td>\n",
       "    </tr>\n",
       "    <tr>\n",
       "      <th>99996</th>\n",
       "      <td>QKivN</td>\n",
       "      <td>1.392429</td>\n",
       "      <td>-0.382606</td>\n",
       "      <td>1.273912</td>\n",
       "      <td>122.346843</td>\n",
       "    </tr>\n",
       "    <tr>\n",
       "      <th>99997</th>\n",
       "      <td>3rnvd</td>\n",
       "      <td>1.029585</td>\n",
       "      <td>0.018787</td>\n",
       "      <td>-1.348308</td>\n",
       "      <td>64.375443</td>\n",
       "    </tr>\n",
       "    <tr>\n",
       "      <th>99998</th>\n",
       "      <td>7kl59</td>\n",
       "      <td>0.998163</td>\n",
       "      <td>-0.528582</td>\n",
       "      <td>1.583869</td>\n",
       "      <td>74.040764</td>\n",
       "    </tr>\n",
       "    <tr>\n",
       "      <th>99999</th>\n",
       "      <td>1CWhH</td>\n",
       "      <td>1.764754</td>\n",
       "      <td>-0.266417</td>\n",
       "      <td>5.722849</td>\n",
       "      <td>149.633246</td>\n",
       "    </tr>\n",
       "  </tbody>\n",
       "</table>\n",
       "<p>100000 rows × 5 columns</p>\n",
       "</div>"
      ],
      "text/plain": [
       "          id        f0        f1        f2     product\n",
       "0      txEyH  0.705745 -0.497823  1.221170  105.280062\n",
       "1      2acmU  1.334711 -0.340164  4.365080   73.037750\n",
       "2      409Wp  1.022732  0.151990  1.419926   85.265647\n",
       "3      iJLyR -0.032172  0.139033  2.978566  168.620776\n",
       "4      Xdl7t  1.988431  0.155413  4.751769  154.036647\n",
       "...      ...       ...       ...       ...         ...\n",
       "99995  DLsed  0.971957  0.370953  6.075346  110.744026\n",
       "99996  QKivN  1.392429 -0.382606  1.273912  122.346843\n",
       "99997  3rnvd  1.029585  0.018787 -1.348308   64.375443\n",
       "99998  7kl59  0.998163 -0.528582  1.583869   74.040764\n",
       "99999  1CWhH  1.764754 -0.266417  5.722849  149.633246\n",
       "\n",
       "[100000 rows x 5 columns]"
      ]
     },
     "metadata": {},
     "output_type": "display_data"
    },
    {
     "data": {
      "text/html": [
       "<div>\n",
       "<style scoped>\n",
       "    .dataframe tbody tr th:only-of-type {\n",
       "        vertical-align: middle;\n",
       "    }\n",
       "\n",
       "    .dataframe tbody tr th {\n",
       "        vertical-align: top;\n",
       "    }\n",
       "\n",
       "    .dataframe thead th {\n",
       "        text-align: right;\n",
       "    }\n",
       "</style>\n",
       "<table border=\"1\" class=\"dataframe\">\n",
       "  <thead>\n",
       "    <tr style=\"text-align: right;\">\n",
       "      <th></th>\n",
       "      <th>id</th>\n",
       "      <th>f0</th>\n",
       "      <th>f1</th>\n",
       "      <th>f2</th>\n",
       "      <th>product</th>\n",
       "    </tr>\n",
       "  </thead>\n",
       "  <tbody>\n",
       "    <tr>\n",
       "      <th>0</th>\n",
       "      <td>kBEdx</td>\n",
       "      <td>-15.001348</td>\n",
       "      <td>-8.276000</td>\n",
       "      <td>-0.005876</td>\n",
       "      <td>3.179103</td>\n",
       "    </tr>\n",
       "    <tr>\n",
       "      <th>1</th>\n",
       "      <td>62mP7</td>\n",
       "      <td>14.272088</td>\n",
       "      <td>-3.475083</td>\n",
       "      <td>0.999183</td>\n",
       "      <td>26.953261</td>\n",
       "    </tr>\n",
       "    <tr>\n",
       "      <th>2</th>\n",
       "      <td>vyE1P</td>\n",
       "      <td>6.263187</td>\n",
       "      <td>-5.948386</td>\n",
       "      <td>5.001160</td>\n",
       "      <td>134.766305</td>\n",
       "    </tr>\n",
       "    <tr>\n",
       "      <th>3</th>\n",
       "      <td>KcrkZ</td>\n",
       "      <td>-13.081196</td>\n",
       "      <td>-11.506057</td>\n",
       "      <td>4.999415</td>\n",
       "      <td>137.945408</td>\n",
       "    </tr>\n",
       "    <tr>\n",
       "      <th>4</th>\n",
       "      <td>AHL4O</td>\n",
       "      <td>12.702195</td>\n",
       "      <td>-8.147433</td>\n",
       "      <td>5.004363</td>\n",
       "      <td>134.766305</td>\n",
       "    </tr>\n",
       "  </tbody>\n",
       "</table>\n",
       "</div>"
      ],
      "text/plain": [
       "      id         f0         f1        f2     product\n",
       "0  kBEdx -15.001348  -8.276000 -0.005876    3.179103\n",
       "1  62mP7  14.272088  -3.475083  0.999183   26.953261\n",
       "2  vyE1P   6.263187  -5.948386  5.001160  134.766305\n",
       "3  KcrkZ -13.081196 -11.506057  4.999415  137.945408\n",
       "4  AHL4O  12.702195  -8.147433  5.004363  134.766305"
      ]
     },
     "metadata": {},
     "output_type": "display_data"
    },
    {
     "data": {
      "text/html": [
       "<div>\n",
       "<style scoped>\n",
       "    .dataframe tbody tr th:only-of-type {\n",
       "        vertical-align: middle;\n",
       "    }\n",
       "\n",
       "    .dataframe tbody tr th {\n",
       "        vertical-align: top;\n",
       "    }\n",
       "\n",
       "    .dataframe thead th {\n",
       "        text-align: right;\n",
       "    }\n",
       "</style>\n",
       "<table border=\"1\" class=\"dataframe\">\n",
       "  <thead>\n",
       "    <tr style=\"text-align: right;\">\n",
       "      <th></th>\n",
       "      <th>id</th>\n",
       "      <th>f0</th>\n",
       "      <th>f1</th>\n",
       "      <th>f2</th>\n",
       "      <th>product</th>\n",
       "    </tr>\n",
       "  </thead>\n",
       "  <tbody>\n",
       "    <tr>\n",
       "      <th>0</th>\n",
       "      <td>fwXo0</td>\n",
       "      <td>-1.146987</td>\n",
       "      <td>0.963328</td>\n",
       "      <td>-0.828965</td>\n",
       "      <td>27.758673</td>\n",
       "    </tr>\n",
       "    <tr>\n",
       "      <th>1</th>\n",
       "      <td>WJtFt</td>\n",
       "      <td>0.262778</td>\n",
       "      <td>0.269839</td>\n",
       "      <td>-2.530187</td>\n",
       "      <td>56.069697</td>\n",
       "    </tr>\n",
       "    <tr>\n",
       "      <th>2</th>\n",
       "      <td>ovLUW</td>\n",
       "      <td>0.194587</td>\n",
       "      <td>0.289035</td>\n",
       "      <td>-5.586433</td>\n",
       "      <td>62.871910</td>\n",
       "    </tr>\n",
       "    <tr>\n",
       "      <th>3</th>\n",
       "      <td>q6cA6</td>\n",
       "      <td>2.236060</td>\n",
       "      <td>-0.553760</td>\n",
       "      <td>0.930038</td>\n",
       "      <td>114.572842</td>\n",
       "    </tr>\n",
       "    <tr>\n",
       "      <th>4</th>\n",
       "      <td>WPMUX</td>\n",
       "      <td>-0.515993</td>\n",
       "      <td>1.716266</td>\n",
       "      <td>5.899011</td>\n",
       "      <td>149.600746</td>\n",
       "    </tr>\n",
       "  </tbody>\n",
       "</table>\n",
       "</div>"
      ],
      "text/plain": [
       "      id        f0        f1        f2     product\n",
       "0  fwXo0 -1.146987  0.963328 -0.828965   27.758673\n",
       "1  WJtFt  0.262778  0.269839 -2.530187   56.069697\n",
       "2  ovLUW  0.194587  0.289035 -5.586433   62.871910\n",
       "3  q6cA6  2.236060 -0.553760  0.930038  114.572842\n",
       "4  WPMUX -0.515993  1.716266  5.899011  149.600746"
      ]
     },
     "metadata": {},
     "output_type": "display_data"
    }
   ],
   "source": [
    "display(data_1, data_2.head(), data_3.head())"
   ]
  },
  {
   "cell_type": "code",
   "execution_count": 5,
   "metadata": {},
   "outputs": [
    {
     "data": {
      "text/plain": [
       "count    100000.000000\n",
       "mean         92.500000\n",
       "std          44.288691\n",
       "min           0.000000\n",
       "25%          56.497507\n",
       "50%          91.849972\n",
       "75%         128.564089\n",
       "max         185.364347\n",
       "Name: product, dtype: float64"
      ]
     },
     "metadata": {},
     "output_type": "display_data"
    },
    {
     "data": {
      "text/plain": [
       "count    100000.000000\n",
       "mean         68.825000\n",
       "std          45.944423\n",
       "min           0.000000\n",
       "25%          26.953261\n",
       "50%          57.085625\n",
       "75%         107.813044\n",
       "max         137.945408\n",
       "Name: product, dtype: float64"
      ]
     },
     "metadata": {},
     "output_type": "display_data"
    },
    {
     "data": {
      "text/plain": [
       "count    100000.000000\n",
       "mean         95.000000\n",
       "std          44.749921\n",
       "min           0.000000\n",
       "25%          59.450441\n",
       "50%          94.925613\n",
       "75%         130.595027\n",
       "max         190.029838\n",
       "Name: product, dtype: float64"
      ]
     },
     "metadata": {},
     "output_type": "display_data"
    }
   ],
   "source": [
    "display(data_1['product'].describe(), data_2['product'].describe(), data_3['product'].describe())"
   ]
  },
  {
   "cell_type": "markdown",
   "metadata": {},
   "source": [
    "Итого, загружены 3 таблицы, пропуски в данных отсутствуют, по формату данных также нет вопросов.\\\n",
    "Видимо где-то опечатка, месторождений не 10 000, а почти по 100 000 в каждом регионе, по крайней мере, если судить по уникальным id."
   ]
  },
  {
   "cell_type": "markdown",
   "metadata": {},
   "source": [
    "### Проверка на дубликаты"
   ]
  },
  {
   "cell_type": "markdown",
   "metadata": {},
   "source": [
    "Проверка на дубли"
   ]
  },
  {
   "cell_type": "code",
   "execution_count": 6,
   "metadata": {},
   "outputs": [
    {
     "data": {
      "text/plain": [
       "0"
      ]
     },
     "metadata": {},
     "output_type": "display_data"
    },
    {
     "data": {
      "text/plain": [
       "0"
      ]
     },
     "metadata": {},
     "output_type": "display_data"
    },
    {
     "data": {
      "text/plain": [
       "0"
      ]
     },
     "metadata": {},
     "output_type": "display_data"
    }
   ],
   "source": [
    "display(data_1.duplicated().sum(), data_2.duplicated().sum(), data_3.duplicated().sum())"
   ]
  },
  {
   "cell_type": "markdown",
   "metadata": {},
   "source": [
    "Полностью повторяющихся строк не выявлено. Также будет полезно проверить на дубликаты столбец id:"
   ]
  },
  {
   "cell_type": "code",
   "execution_count": 7,
   "metadata": {},
   "outputs": [
    {
     "data": {
      "text/plain": [
       "10"
      ]
     },
     "metadata": {},
     "output_type": "display_data"
    },
    {
     "data": {
      "text/plain": [
       "4"
      ]
     },
     "metadata": {},
     "output_type": "display_data"
    },
    {
     "data": {
      "text/plain": [
       "4"
      ]
     },
     "metadata": {},
     "output_type": "display_data"
    }
   ],
   "source": [
    "display(data_1['id'].duplicated().sum(), data_2['id'].duplicated().sum(), data_3['id'].duplicated().sum())"
   ]
  },
  {
   "cell_type": "markdown",
   "metadata": {},
   "source": [
    "В столбце id выявлено небольшое кол-во дубликатов, на которые можно взглянуть детальнее:"
   ]
  },
  {
   "cell_type": "code",
   "execution_count": 8,
   "metadata": {},
   "outputs": [
    {
     "data": {
      "text/html": [
       "<div>\n",
       "<style scoped>\n",
       "    .dataframe tbody tr th:only-of-type {\n",
       "        vertical-align: middle;\n",
       "    }\n",
       "\n",
       "    .dataframe tbody tr th {\n",
       "        vertical-align: top;\n",
       "    }\n",
       "\n",
       "    .dataframe thead th {\n",
       "        text-align: right;\n",
       "    }\n",
       "</style>\n",
       "<table border=\"1\" class=\"dataframe\">\n",
       "  <thead>\n",
       "    <tr style=\"text-align: right;\">\n",
       "      <th></th>\n",
       "      <th>id</th>\n",
       "      <th>f0</th>\n",
       "      <th>f1</th>\n",
       "      <th>f2</th>\n",
       "      <th>product</th>\n",
       "    </tr>\n",
       "  </thead>\n",
       "  <tbody>\n",
       "    <tr>\n",
       "      <th>7530</th>\n",
       "      <td>HZww2</td>\n",
       "      <td>1.061194</td>\n",
       "      <td>-0.373969</td>\n",
       "      <td>10.430210</td>\n",
       "      <td>158.828695</td>\n",
       "    </tr>\n",
       "    <tr>\n",
       "      <th>41724</th>\n",
       "      <td>bxg6G</td>\n",
       "      <td>-0.823752</td>\n",
       "      <td>0.546319</td>\n",
       "      <td>3.630479</td>\n",
       "      <td>93.007798</td>\n",
       "    </tr>\n",
       "    <tr>\n",
       "      <th>51970</th>\n",
       "      <td>A5aEY</td>\n",
       "      <td>-0.180335</td>\n",
       "      <td>0.935548</td>\n",
       "      <td>-2.094773</td>\n",
       "      <td>33.020205</td>\n",
       "    </tr>\n",
       "    <tr>\n",
       "      <th>63593</th>\n",
       "      <td>QcMuo</td>\n",
       "      <td>0.635635</td>\n",
       "      <td>-0.473422</td>\n",
       "      <td>0.862670</td>\n",
       "      <td>64.578675</td>\n",
       "    </tr>\n",
       "    <tr>\n",
       "      <th>66136</th>\n",
       "      <td>74z30</td>\n",
       "      <td>1.084962</td>\n",
       "      <td>-0.312358</td>\n",
       "      <td>6.990771</td>\n",
       "      <td>127.643327</td>\n",
       "    </tr>\n",
       "    <tr>\n",
       "      <th>69163</th>\n",
       "      <td>AGS9W</td>\n",
       "      <td>-0.933795</td>\n",
       "      <td>0.116194</td>\n",
       "      <td>-3.655896</td>\n",
       "      <td>19.230453</td>\n",
       "    </tr>\n",
       "    <tr>\n",
       "      <th>75715</th>\n",
       "      <td>Tdehs</td>\n",
       "      <td>0.112079</td>\n",
       "      <td>0.430296</td>\n",
       "      <td>3.218993</td>\n",
       "      <td>60.964018</td>\n",
       "    </tr>\n",
       "    <tr>\n",
       "      <th>90815</th>\n",
       "      <td>fiKDv</td>\n",
       "      <td>0.049883</td>\n",
       "      <td>0.841313</td>\n",
       "      <td>6.394613</td>\n",
       "      <td>137.346586</td>\n",
       "    </tr>\n",
       "    <tr>\n",
       "      <th>92341</th>\n",
       "      <td>TtcGQ</td>\n",
       "      <td>0.110711</td>\n",
       "      <td>1.022689</td>\n",
       "      <td>0.911381</td>\n",
       "      <td>101.318008</td>\n",
       "    </tr>\n",
       "    <tr>\n",
       "      <th>97785</th>\n",
       "      <td>bsk9y</td>\n",
       "      <td>0.378429</td>\n",
       "      <td>0.005837</td>\n",
       "      <td>0.160827</td>\n",
       "      <td>160.637302</td>\n",
       "    </tr>\n",
       "  </tbody>\n",
       "</table>\n",
       "</div>"
      ],
      "text/plain": [
       "          id        f0        f1         f2     product\n",
       "7530   HZww2  1.061194 -0.373969  10.430210  158.828695\n",
       "41724  bxg6G -0.823752  0.546319   3.630479   93.007798\n",
       "51970  A5aEY -0.180335  0.935548  -2.094773   33.020205\n",
       "63593  QcMuo  0.635635 -0.473422   0.862670   64.578675\n",
       "66136  74z30  1.084962 -0.312358   6.990771  127.643327\n",
       "69163  AGS9W -0.933795  0.116194  -3.655896   19.230453\n",
       "75715  Tdehs  0.112079  0.430296   3.218993   60.964018\n",
       "90815  fiKDv  0.049883  0.841313   6.394613  137.346586\n",
       "92341  TtcGQ  0.110711  1.022689   0.911381  101.318008\n",
       "97785  bsk9y  0.378429  0.005837   0.160827  160.637302"
      ]
     },
     "metadata": {},
     "output_type": "display_data"
    },
    {
     "data": {
      "text/html": [
       "<div>\n",
       "<style scoped>\n",
       "    .dataframe tbody tr th:only-of-type {\n",
       "        vertical-align: middle;\n",
       "    }\n",
       "\n",
       "    .dataframe tbody tr th {\n",
       "        vertical-align: top;\n",
       "    }\n",
       "\n",
       "    .dataframe thead th {\n",
       "        text-align: right;\n",
       "    }\n",
       "</style>\n",
       "<table border=\"1\" class=\"dataframe\">\n",
       "  <thead>\n",
       "    <tr style=\"text-align: right;\">\n",
       "      <th></th>\n",
       "      <th>id</th>\n",
       "      <th>f0</th>\n",
       "      <th>f1</th>\n",
       "      <th>f2</th>\n",
       "      <th>product</th>\n",
       "    </tr>\n",
       "  </thead>\n",
       "  <tbody>\n",
       "    <tr>\n",
       "      <th>1305</th>\n",
       "      <td>LHZR0</td>\n",
       "      <td>11.170835</td>\n",
       "      <td>-1.945066</td>\n",
       "      <td>3.002872</td>\n",
       "      <td>80.859783</td>\n",
       "    </tr>\n",
       "    <tr>\n",
       "      <th>2721</th>\n",
       "      <td>bfPNe</td>\n",
       "      <td>-9.494442</td>\n",
       "      <td>-5.463692</td>\n",
       "      <td>4.006042</td>\n",
       "      <td>110.992147</td>\n",
       "    </tr>\n",
       "    <tr>\n",
       "      <th>5849</th>\n",
       "      <td>5ltQ6</td>\n",
       "      <td>-3.435401</td>\n",
       "      <td>-12.296043</td>\n",
       "      <td>1.999796</td>\n",
       "      <td>57.085625</td>\n",
       "    </tr>\n",
       "    <tr>\n",
       "      <th>41906</th>\n",
       "      <td>LHZR0</td>\n",
       "      <td>-8.989672</td>\n",
       "      <td>-4.286607</td>\n",
       "      <td>2.009139</td>\n",
       "      <td>57.085625</td>\n",
       "    </tr>\n",
       "    <tr>\n",
       "      <th>47591</th>\n",
       "      <td>wt4Uk</td>\n",
       "      <td>-9.091098</td>\n",
       "      <td>-8.109279</td>\n",
       "      <td>-0.002314</td>\n",
       "      <td>3.179103</td>\n",
       "    </tr>\n",
       "    <tr>\n",
       "      <th>82178</th>\n",
       "      <td>bfPNe</td>\n",
       "      <td>-6.202799</td>\n",
       "      <td>-4.820045</td>\n",
       "      <td>2.995107</td>\n",
       "      <td>84.038886</td>\n",
       "    </tr>\n",
       "    <tr>\n",
       "      <th>82873</th>\n",
       "      <td>wt4Uk</td>\n",
       "      <td>10.259972</td>\n",
       "      <td>-9.376355</td>\n",
       "      <td>4.994297</td>\n",
       "      <td>134.766305</td>\n",
       "    </tr>\n",
       "    <tr>\n",
       "      <th>84461</th>\n",
       "      <td>5ltQ6</td>\n",
       "      <td>18.213839</td>\n",
       "      <td>2.191999</td>\n",
       "      <td>3.993869</td>\n",
       "      <td>107.813044</td>\n",
       "    </tr>\n",
       "  </tbody>\n",
       "</table>\n",
       "</div>"
      ],
      "text/plain": [
       "          id         f0         f1        f2     product\n",
       "1305   LHZR0  11.170835  -1.945066  3.002872   80.859783\n",
       "2721   bfPNe  -9.494442  -5.463692  4.006042  110.992147\n",
       "5849   5ltQ6  -3.435401 -12.296043  1.999796   57.085625\n",
       "41906  LHZR0  -8.989672  -4.286607  2.009139   57.085625\n",
       "47591  wt4Uk  -9.091098  -8.109279 -0.002314    3.179103\n",
       "82178  bfPNe  -6.202799  -4.820045  2.995107   84.038886\n",
       "82873  wt4Uk  10.259972  -9.376355  4.994297  134.766305\n",
       "84461  5ltQ6  18.213839   2.191999  3.993869  107.813044"
      ]
     },
     "metadata": {},
     "output_type": "display_data"
    },
    {
     "data": {
      "text/html": [
       "<div>\n",
       "<style scoped>\n",
       "    .dataframe tbody tr th:only-of-type {\n",
       "        vertical-align: middle;\n",
       "    }\n",
       "\n",
       "    .dataframe tbody tr th {\n",
       "        vertical-align: top;\n",
       "    }\n",
       "\n",
       "    .dataframe thead th {\n",
       "        text-align: right;\n",
       "    }\n",
       "</style>\n",
       "<table border=\"1\" class=\"dataframe\">\n",
       "  <thead>\n",
       "    <tr style=\"text-align: right;\">\n",
       "      <th></th>\n",
       "      <th>id</th>\n",
       "      <th>f0</th>\n",
       "      <th>f1</th>\n",
       "      <th>f2</th>\n",
       "      <th>product</th>\n",
       "    </tr>\n",
       "  </thead>\n",
       "  <tbody>\n",
       "    <tr>\n",
       "      <th>11449</th>\n",
       "      <td>VF7Jo</td>\n",
       "      <td>2.122656</td>\n",
       "      <td>-0.858275</td>\n",
       "      <td>5.746001</td>\n",
       "      <td>181.716817</td>\n",
       "    </tr>\n",
       "    <tr>\n",
       "      <th>28039</th>\n",
       "      <td>xCHr8</td>\n",
       "      <td>1.633027</td>\n",
       "      <td>0.368135</td>\n",
       "      <td>-2.378367</td>\n",
       "      <td>6.120525</td>\n",
       "    </tr>\n",
       "    <tr>\n",
       "      <th>43233</th>\n",
       "      <td>xCHr8</td>\n",
       "      <td>-0.847066</td>\n",
       "      <td>2.101796</td>\n",
       "      <td>5.597130</td>\n",
       "      <td>184.388641</td>\n",
       "    </tr>\n",
       "    <tr>\n",
       "      <th>44378</th>\n",
       "      <td>Vcm5J</td>\n",
       "      <td>-1.229484</td>\n",
       "      <td>-2.439204</td>\n",
       "      <td>1.222909</td>\n",
       "      <td>137.968290</td>\n",
       "    </tr>\n",
       "    <tr>\n",
       "      <th>45404</th>\n",
       "      <td>KUPhW</td>\n",
       "      <td>0.231846</td>\n",
       "      <td>-1.698941</td>\n",
       "      <td>4.990775</td>\n",
       "      <td>11.716299</td>\n",
       "    </tr>\n",
       "    <tr>\n",
       "      <th>49564</th>\n",
       "      <td>VF7Jo</td>\n",
       "      <td>-0.883115</td>\n",
       "      <td>0.560537</td>\n",
       "      <td>0.723601</td>\n",
       "      <td>136.233420</td>\n",
       "    </tr>\n",
       "    <tr>\n",
       "      <th>55967</th>\n",
       "      <td>KUPhW</td>\n",
       "      <td>1.211150</td>\n",
       "      <td>3.176408</td>\n",
       "      <td>5.543540</td>\n",
       "      <td>132.831802</td>\n",
       "    </tr>\n",
       "    <tr>\n",
       "      <th>95090</th>\n",
       "      <td>Vcm5J</td>\n",
       "      <td>2.587702</td>\n",
       "      <td>1.986875</td>\n",
       "      <td>2.482245</td>\n",
       "      <td>92.327572</td>\n",
       "    </tr>\n",
       "  </tbody>\n",
       "</table>\n",
       "</div>"
      ],
      "text/plain": [
       "          id        f0        f1        f2     product\n",
       "11449  VF7Jo  2.122656 -0.858275  5.746001  181.716817\n",
       "28039  xCHr8  1.633027  0.368135 -2.378367    6.120525\n",
       "43233  xCHr8 -0.847066  2.101796  5.597130  184.388641\n",
       "44378  Vcm5J -1.229484 -2.439204  1.222909  137.968290\n",
       "45404  KUPhW  0.231846 -1.698941  4.990775   11.716299\n",
       "49564  VF7Jo -0.883115  0.560537  0.723601  136.233420\n",
       "55967  KUPhW  1.211150  3.176408  5.543540  132.831802\n",
       "95090  Vcm5J  2.587702  1.986875  2.482245   92.327572"
      ]
     },
     "metadata": {},
     "output_type": "display_data"
    }
   ],
   "source": [
    "display(data_1[data_1['id'].duplicated()], data_2[data_2['id'].duplicated(keep = False)], data_3[data_3['id'].duplicated(keep = False)])"
   ]
  },
  {
   "cell_type": "markdown",
   "metadata": {},
   "source": [
    "Значения у повторяющихся столбцов абсолютно разные. При удалении дубликатов оставлю столбцы с наибольшием значением product (логика остальных столбцов неизвестна)."
   ]
  },
  {
   "cell_type": "code",
   "execution_count": 9,
   "metadata": {},
   "outputs": [
    {
     "data": {
      "text/plain": [
       "0"
      ]
     },
     "metadata": {},
     "output_type": "display_data"
    },
    {
     "data": {
      "text/plain": [
       "0"
      ]
     },
     "metadata": {},
     "output_type": "display_data"
    },
    {
     "data": {
      "text/plain": [
       "0"
      ]
     },
     "metadata": {},
     "output_type": "display_data"
    },
    {
     "data": {
      "text/plain": [
       "(99990, 5)"
      ]
     },
     "metadata": {},
     "output_type": "display_data"
    },
    {
     "data": {
      "text/plain": [
       "(99996, 5)"
      ]
     },
     "metadata": {},
     "output_type": "display_data"
    },
    {
     "data": {
      "text/plain": [
       "(99996, 5)"
      ]
     },
     "metadata": {},
     "output_type": "display_data"
    }
   ],
   "source": [
    "data_1 = data_1.sort_values(by = 'product', ascending = False).drop_duplicates(subset = ['id'], keep = 'first')\n",
    "data_2 = data_2.sort_values(by = 'product', ascending = False).drop_duplicates(subset = ['id'], keep = 'first')\n",
    "data_3 = data_3.sort_values(by = 'product', ascending = False).drop_duplicates(subset = ['id'], keep = 'first')\n",
    "display(data_1['id'].duplicated().sum(), data_2['id'].duplicated().sum(), data_3['id'].duplicated().sum())\n",
    "display(data_1.shape, data_2.shape, data_3.shape)"
   ]
  },
  {
   "cell_type": "markdown",
   "metadata": {},
   "source": [
    "Удаляем дубликаты и убеждаемся, что они удалены."
   ]
  },
  {
   "cell_type": "markdown",
   "metadata": {},
   "source": [
    "\n",
    "<div class=\"alert alert-block alert-success\">\n",
    "<b>Успех:</b> Данные осмотрены, но можно было бы еще как минимум изучить корреляции, так как мы планируем использовать линейные модели, а для них это важно. \n",
    "</div>\n",
    "\n",
    "\n",
    "<div class=\"alert alert-block alert-info\">\n",
    "<b>Совет:</b>  Советую обратить внимание на библиотеки sweetviz и ydata_profiling помогут в проведении более тщательного EDA анализа. Исследовательский анализ можно делать и с помощью ручного вызова функций дефолтных библиотек. Данные библиотеки хороши для максимизации комфорта презентации результатов анализа бизнес-пользователям.  \n",
    "\n",
    "Очень просты в использоовании, на вход кладется датафрейм: ydata_profiling.ProfileReport(df) \n",
    "</div>\n"
   ]
  },
  {
   "cell_type": "markdown",
   "metadata": {},
   "source": [
    "<div class=\"alert alert-block alert-warning\">\n",
    "<b>Комментарий студента:</b> у меня почему-то не получается импортировать ни sweetviz, ни ydata_profiling. Наверное, попробую завтра запустить в VS\n",
    "</div>"
   ]
  },
  {
   "cell_type": "markdown",
   "metadata": {},
   "source": [
    "## Обучение и проверка модели"
   ]
  },
  {
   "cell_type": "markdown",
   "metadata": {},
   "source": [
    "### Подготовка выборок"
   ]
  },
  {
   "cell_type": "code",
   "execution_count": 10,
   "metadata": {},
   "outputs": [],
   "source": [
    "model = LinearRegression()\n",
    "\n",
    "target_1 = data_1['product']\n",
    "features_1 = data_1.drop(['id', 'product'] , axis=1)\n",
    "\n",
    "target_2 = data_2['product']\n",
    "features_2 = data_2.drop(['id', 'product'] , axis=1)\n",
    "\n",
    "target_3 = data_3['product']\n",
    "features_3 = data_3.drop(['id', 'product'] , axis=1)"
   ]
  },
  {
   "cell_type": "code",
   "execution_count": 11,
   "metadata": {},
   "outputs": [],
   "source": [
    "features_1_train, features_1_valid, target_1_train, target_1_valid = train_test_split(\n",
    "    features_1, target_1, test_size=0.25, random_state=12345)\n",
    "features_2_train, features_2_valid, target_2_train, target_2_valid = train_test_split(\n",
    "    features_2, target_2, test_size=0.25, random_state=12345)\n",
    "features_3_train, features_3_valid, target_3_train, target_3_valid = train_test_split(\n",
    "    features_3, target_3, test_size=0.25, random_state=12345)"
   ]
  },
  {
   "cell_type": "markdown",
   "metadata": {},
   "source": [
    "### Запуск модели"
   ]
  },
  {
   "cell_type": "markdown",
   "metadata": {},
   "source": [
    "#### Регион 1"
   ]
  },
  {
   "cell_type": "code",
   "execution_count": 12,
   "metadata": {},
   "outputs": [],
   "source": [
    "model.fit(features_1_train, target_1_train)\n",
    "predicted_valid_1 = model.predict(features_1_valid)"
   ]
  },
  {
   "cell_type": "markdown",
   "metadata": {},
   "source": [
    "#### Регион 2"
   ]
  },
  {
   "cell_type": "code",
   "execution_count": 13,
   "metadata": {},
   "outputs": [],
   "source": [
    "model.fit(features_2_train, target_2_train)\n",
    "predicted_valid_2 = model.predict(features_2_valid)"
   ]
  },
  {
   "cell_type": "markdown",
   "metadata": {},
   "source": [
    "\n",
    "\n",
    "<div class=\"alert alert-block alert-danger\">\n",
    "    \n",
    "\n",
    "<b>Ошибка:</b>  Опечатка\n",
    "  \n",
    "</div>"
   ]
  },
  {
   "cell_type": "markdown",
   "metadata": {},
   "source": [
    "<div class=\"alert alert-block alert-warning\">\n",
    "<b>Исправлено:</b> Поправил\n",
    "</div>"
   ]
  },
  {
   "cell_type": "markdown",
   "metadata": {},
   "source": [
    "<div class=\"alert alert-block alert-success\">\n",
    "    \n",
    "<b>Успех[2]:</b> 👍\n",
    "</div>\n"
   ]
  },
  {
   "cell_type": "markdown",
   "metadata": {},
   "source": [
    "#### Регион 3"
   ]
  },
  {
   "cell_type": "code",
   "execution_count": 14,
   "metadata": {},
   "outputs": [],
   "source": [
    "model.fit(features_3_train, target_3_train)\n",
    "predicted_valid_3 = model.predict(features_3_valid)"
   ]
  },
  {
   "cell_type": "markdown",
   "metadata": {},
   "source": [
    "**Подведем итог работы модели для 3-х регионов:**"
   ]
  },
  {
   "cell_type": "code",
   "execution_count": 15,
   "metadata": {},
   "outputs": [
    {
     "name": "stdout",
     "output_type": "stream",
     "text": [
      "Регион 1: Предсказанный средний запас сырья - 92.59577423727681 | RMSE - 37.662476366738964 | R2 - 0.27330224887953236\n",
      "Регион 2: Предсказанный средний запас сырья - 68.55686699066834 | RMSE - 0.8869609598538721 | R2 - 0.9996249686647039\n",
      "Регион 3: Предсказанный средний запас сырья - 94.97837180756353 | RMSE - 40.084555496514156 | R2 - 0.19467854753013814\n"
     ]
    }
   ],
   "source": [
    "print('Регион 1:', 'Предсказанный средний запас сырья -', predicted_valid_1.mean(), \n",
    "      '| RMSE -', mean_squared_error(target_1_valid, predicted_valid_1) ** 0.5,\n",
    "     '| R2 -', r2_score(target_1_valid, predicted_valid_1))\n",
    "print('Регион 2:', 'Предсказанный средний запас сырья -', predicted_valid_2.mean(), \n",
    "      '| RMSE -', mean_squared_error(target_2_valid, predicted_valid_2) ** 0.5,\n",
    "     '| R2 -', r2_score(target_2_valid, predicted_valid_2))\n",
    "print('Регион 3:', 'Предсказанный средний запас сырья -', predicted_valid_3.mean(), \n",
    "      '| RMSE -', mean_squared_error(target_3_valid, predicted_valid_3) ** 0.5,\n",
    "     '| R2 -', r2_score(target_3_valid, predicted_valid_3))"
   ]
  },
  {
   "cell_type": "markdown",
   "metadata": {},
   "source": [
    "По метрикам видно, что модель более-менее показала результат по региону 1 и, в меньшей мере, по региону 3.\\\n",
    "По региону 2 результат работы модели очень плох."
   ]
  },
  {
   "cell_type": "markdown",
   "metadata": {},
   "source": [
    "\n",
    "\n",
    "<div class=\"alert alert-block alert-info\">\n",
    "<b>Совет: </b>  Можно было бы использовать циклы/функции и избежать дублирования кода. Дублирование кода, часто приводит к глупым ошибкам, которые тяжело отследить.\n",
    "</div>"
   ]
  },
  {
   "cell_type": "markdown",
   "metadata": {},
   "source": [
    "## Подготовка к расчёту прибыли"
   ]
  },
  {
   "cell_type": "markdown",
   "metadata": {},
   "source": [
    "### Сохраним в переменные основные вводные задачи"
   ]
  },
  {
   "cell_type": "code",
   "execution_count": 16,
   "metadata": {},
   "outputs": [],
   "source": [
    "# Кол-во точек для исследования\n",
    "SUBJECTS_RES = 500\n",
    "\n",
    "# Кол-во точек для выбора\n",
    "SUBJECTS_FIN = 200\n",
    "\n",
    "# Бюджет на разработку скважин в регионе, рублей\n",
    "COST = 10_000_000_000\n",
    "\n",
    "# Доход с единицы продукта (450 р * 1000)\n",
    "PRICE = 450000"
   ]
  },
  {
   "cell_type": "markdown",
   "metadata": {},
   "source": [
    "\n",
    "<div class=\"alert alert-block alert-info\">\n",
    "    \n",
    "<b>Совет:</b> Константы принято записывать в ВЕРХНЕМ РЕГИСТРЕ =) Читем здесь https://pythonworld.ru/osnovy/pep-8-rukovodstvo-po-napisaniyu-koda-na-python.html#section-29\n",
    "    \n",
    "А большие значение можно записывать так: `10_000_000_000`.\n",
    "</div> \n",
    "\n"
   ]
  },
  {
   "cell_type": "markdown",
   "metadata": {},
   "source": [
    "<div class=\"alert alert-block alert-warning\">\n",
    "<b>Комментарий студента:</b> поправил, PEP-8 добавил в закладки)\n",
    "</div>"
   ]
  },
  {
   "cell_type": "markdown",
   "metadata": {},
   "source": [
    "<div class=\"alert alert-block alert-success\">\n",
    "    \n",
    "<b>Успех[2]:</b> Правильное решение)\n",
    "</div>\n"
   ]
  },
  {
   "cell_type": "markdown",
   "metadata": {},
   "source": [
    "### Рассчитаем минимальный средний объем сырья на 1 скважину для безубыточной разработки"
   ]
  },
  {
   "cell_type": "code",
   "execution_count": 17,
   "metadata": {},
   "outputs": [
    {
     "name": "stdout",
     "output_type": "stream",
     "text": [
      "Минимальный средний объем сырья на 1 скважину: 111.11111111111111\n",
      "Средний объем сырья на 1 скважину по регионам: Регион 1 - 92.50173489259076 | Регион 2 - 68.82573913718996 | Регион 3 - 95.0013360752838\n"
     ]
    }
   ],
   "source": [
    "min_mean_product = COST/SUBJECTS_FIN/PRICE\n",
    "print('Минимальный средний объем сырья на 1 скважину:', min_mean_product)\n",
    "print('Средний объем сырья на 1 скважину по регионам:', 'Регион 1 -', target_1.mean(), \n",
    "      '| Регион 2 -', target_2.mean(), '| Регион 3 -', target_3.mean())"
   ]
  },
  {
   "cell_type": "markdown",
   "metadata": {},
   "source": [
    "По расчетам видно, что в средний запас сырья на 1 скважину в каждом регионе ниже среднего минимума для безубыточной разработки. По региону 2 он особенно низкий.\\\n",
    "Однако, также можно увидеть, что верхняя граница ящика (75%) значений по запасам скважен равен 107-130 и есть большое кол-во скважин, подходящих для безубыточной разработки.\\\n",
    "Далее проверим, какой показатель будет у 200 лучших скажин по предсказанию модели."
   ]
  },
  {
   "cell_type": "markdown",
   "metadata": {},
   "source": [
    "<div class=\"alert alert-block alert-success\">\n",
    "<b>Успех:</b> Значение для безубыточной разработки посчитано верно, с выводом согласен  \n",
    "</div>"
   ]
  },
  {
   "cell_type": "markdown",
   "metadata": {},
   "source": [
    "## Расчёт прибыли и рисков "
   ]
  },
  {
   "cell_type": "markdown",
   "metadata": {},
   "source": [
    "### Функция для расчета прибыли"
   ]
  },
  {
   "cell_type": "code",
   "execution_count": 18,
   "metadata": {},
   "outputs": [],
   "source": [
    "def total_income (df):\n",
    "    df = df.sort_values(by = 'predict', ascending = False).head(SUBJECTS_FIN)\n",
    "    region_income = df['target'].sum() * PRICE\n",
    "    total_income = region_income - COST\n",
    "    return total_income"
   ]
  },
  {
   "cell_type": "markdown",
   "metadata": {},
   "source": [
    "<div class=\"alert alert-block alert-danger\">\n",
    "<b>Ошибка:</b> Для выбора 200 лучших скважин нужно использовать предсказанные значения. А вот для подсчета прибыли должны использоваться настоящие значения соответствующих ячеек.\n",
    "\n",
    "</div>"
   ]
  },
  {
   "cell_type": "markdown",
   "metadata": {},
   "source": [
    "<div class=\"alert alert-block alert-warning\">\n",
    "<b>Исправлено:</b> Поправил логику расчета прибыли\n",
    "</div>"
   ]
  },
  {
   "cell_type": "markdown",
   "metadata": {},
   "source": [
    "<div class=\"alert alert-block alert-danger\">\n",
    "<b>Ошибка[2]:</b> Поправил, но не совсем как я просил. Нужно делать отбор/сортировку 200 лучших скважин по предсказаниям, а прибыль считать, используя выбранные скважины по таргетам. \n",
    "</div>"
   ]
  },
  {
   "cell_type": "markdown",
   "metadata": {},
   "source": [
    "<div class=\"alert alert-block alert-warning\">\n",
    "<b>Исправлено[2]:</b> Да, точно, исправил\n",
    "</div>"
   ]
  },
  {
   "cell_type": "markdown",
   "metadata": {},
   "source": [
    "<div class=\"alert alert-block alert-success\">\n",
    "<b>Успех[3]:</b> Теперь логически все правильно\n",
    "</div>"
   ]
  },
  {
   "cell_type": "markdown",
   "metadata": {},
   "source": [
    "<div class=\"alert alert-block alert-danger\">\n",
    "    \n",
    "<b>Ошибка[3]:</b> но увы  есть 1 неявный недочет: из-за того, что у нас техника бустрап выполняется с возвращением (replace=True), то могут отобраться скважины с одинаковым индексом, и тогда при подстановки предсказаний в таргеты мы получим не 200 скважин, а 200+ и прибыль получится завышенной (можешь вывести длину таргетов после подстановки - и убедишься в этом) \n",
    "\n",
    "    \n",
    "Тут я вижу три решения:\n",
    "    \n",
    "- самый быстрый: добавить еще ограничения для таргетов [:SUBJECTS_FIN]\n",
    "    \n",
    "- правильный: либо избавиться от дубликатных индексов, либо сбросить индексы для входных данных в начале функции прибыли.\n",
    "    \n",
    "- Правильный и лаконичный:  собрать таргеты и предсказания в датафрейм - тогда они и сэмплироваться и сортироватсья будут как единное целое.\n",
    "</div>\n",
    "\n"
   ]
  },
  {
   "cell_type": "markdown",
   "metadata": {},
   "source": [
    "<div class=\"alert alert-block alert-warning\">\n",
    "<b>Исправлено[3]:</b> Хм, судя по всему, наиболее полезные знания появляются именно на сборном проекте)\n",
    "    \n",
    "Попробовал применить метод с датафреймом, вроде как все получилось, прогнозные значения изменились - выросли по 2-м регионам и сильно упали по региону 2, что несколько напрягает - не закралась ли где-то еще какая-нибудь деталь. С другой стороны, если посмотреть с точки зрения бизнеса - такой выхлоп и должен быть от бизнеса (от 20% и выше от инвестиций)\n",
    "    \n",
    "Поправил как формулу расчета прибыли, так и бутстреп. Старый код оставил в маркдауне, на всякий случай.\n",
    "</div>"
   ]
  },
  {
   "cell_type": "markdown",
   "metadata": {},
   "source": [
    "<div class=\"alert alert-block alert-danger\">\n",
    "<b>Ответ[4]:</b> Работа с датафрейм в функции прибыли правильная, но ниже ты допустил ошибку:\n",
    "    \n",
    "`tar_pred = tar_pred.sample(n=SUBJECTS_RES, replace=True, random_state=state)`\n",
    "    \n",
    "Эта строка перезаписала исходный датафрейм, и если на первой итерации сэмплирование проводилось из 25 тысяч скважин, то все последующие уже из 500-ста скважин\n",
    "    \n",
    "P.S. Насчет бесполезности данного спринта ты зря так) на самом деле: ведь можно сказать, что весь проект посвящён теме бутстрепа). Совершенно бытовая ситуация - можно ли по одному опыту делать вывод? Например, мы один раз разбили кружку, можно ли по одному случаю утверждать, что мы суперспециалисты по разбиванию кружек? скорее всего нам надо, как минимум, знать а сколько раз мы брали кружку... предпоожим выясняется, что брали её 1000 раз с самой верхней полки и только раз разбили... - не такие уж мы и специалисты по разбиванияю....это один вывод. и т.д.)\n",
    "\n",
    "ВОт и здесь об этом же: ведь может так случиться, что модель предсказала не совсем верно. Тогда, сделав вывод только по одному замеру 200-от скважин, мы сделаем и ложные управленческие выводы. И тогда вопрос: а как подстраховаться от ложных выводов? И тогда на сцену выходит бутсреп (это что-то вроде моделирования ситуаций на подобие методов монте-карло). Идея бутсрепа такая: взглянем 1000 раз (вместо одно раза) на среднюю из 200-от скважин добычу. Т.е. посчитаем среднее средних.. И уже по нему будем делать вывод. Именно такой подход снизит вероятность сделать ошибочный вывод.\n",
    "\n",
    "\n",
    "Вообще, методы модеирования (симуляции) ситуаций - распространённый способ управленческого прогнозирования.\n",
    "\n",
    "</div>"
   ]
  },
  {
   "cell_type": "markdown",
   "metadata": {},
   "source": [
    "<div class=\"alert alert-block alert-warning\">\n",
    "<b>Исправлено[4]:</b> Ошибку исправил, в т.ч. скорректировал итоги.\n",
    "\n",
    "Насчет спринта, я тут скорее не о бесполезности, а о том, что было маловато информации о реальных кейсах и как оно бывает в жизни, какие ситуации и проблемы типичны и т.п. Вот этого лично мне не хватило) \n",
    "И рад, что выполняя проект узнал много полезного\n",
    "</div>"
   ]
  },
  {
   "cell_type": "markdown",
   "metadata": {},
   "source": [
    "\n",
    "<div class=\"alert alert-block alert-info\">\n",
    "<b>Совет[5]: </b> Если интересно изучить тему бутстрапа глубже - я оставлю  ниже несколько интересных и полезных ссылок по теме:\n",
    "        \n",
    "1. \"Bootstrap Hypothesis Testing in Statistics with Example\" \n",
    "        \n",
    "https://www.youtube.com/watch?v=9STZ7MxkNVg\n",
    "        \n",
    "2. \"How to Calculate Bootstrap Confidence Intervals For Machine Learning Results in Python\" \n",
    "        \n",
    "https://machinelearningmastery.com/calculate-bootstrap-confidence-intervals-machine-learning-results-python/\n",
    "        \n",
    "3. \"A Gentle Introduction to the Bootstrap Method\" \n",
    "\n",
    "https://machinelearningmastery.com/a-gentle-introduction-to-the-bootstrap-method/\n",
    "        \n",
    "4. \"An Introduction to the Bootstrap Method\" \n",
    "        \n",
    "https://towardsdatascience.com/an-introduction-to-the-bootstrap-method-58bcb51b4d60#:~:text=The%20basic%20idea%20of%20bootstrap,population%20mean)%20on%20sample%20data.&amp;text=A%20sample%20from%20population%20with%20sample%20size%20n\n",
    "        \n",
    "5. \"Bootstrapping and Resampling in Statistics with Example\" \n",
    "        \n",
    "        \n",
    "https://www.youtube.com/watch?v=O_Fj4q8lgmc\n",
    "\n",
    "6. Также одна из программ на рынке по этой теме управлненеческого моделирования - AnyLogic - интересный продукт. Можешь видео из интернета посмотреть по какому-нибудь примеру с её использованием. Тогда тема управленческого моделирования и бутстрапа может по-другому лечь.\n",
    "</div>\n",
    "\n"
   ]
  },
  {
   "cell_type": "markdown",
   "metadata": {},
   "source": [
    "По расчетам видно, что на предсказанных данных, лучший регион с максимальной прибылью - Регион 1."
   ]
  },
  {
   "cell_type": "markdown",
   "metadata": {},
   "source": [
    "### Считаем риски и доверительный интервал с помощью bootstrap"
   ]
  },
  {
   "cell_type": "code",
   "execution_count": 19,
   "metadata": {},
   "outputs": [],
   "source": [
    "state = np.random.RandomState(12345)"
   ]
  },
  {
   "cell_type": "markdown",
   "metadata": {},
   "source": [
    "def boot_income(target, predicts):\n",
    "    predicts = pd.Series(predicts, index = target.index, dtype = 'float64')\n",
    "    values = []\n",
    "    for i in range(1000):\n",
    "        predicts_sample = predicts.sample(n=SUBJECTS_RES, replace=True, random_state=state)\n",
    "        target_sample = target[predicts_sample.index]\n",
    "        values.append(total_income(target_sample, predicts_sample))\n",
    "        check = target.shape\n",
    "    values = pd.Series(values)\n",
    "    lower = values.quantile(0.025)\n",
    "    upper = values.quantile(0.975)\n",
    "    mean = values.mean()\n",
    "    risk = (values < 0).sum()/len(values)\n",
    "  \n",
    "    return mean, lower, upper, risk, check"
   ]
  },
  {
   "cell_type": "markdown",
   "metadata": {},
   "source": [
    "<div class=\"alert alert-block alert-success\">\n",
    "<b>Успех:</b> С бутстрапом  все в порядке (сэмплирование происходит с возвращением), метрики считаются верным образом!  \n",
    "</div>"
   ]
  },
  {
   "cell_type": "markdown",
   "metadata": {},
   "source": [
    "<div class=\"alert alert-block alert-danger\">\n",
    "<b>Ошибка:</b> А в чем смысл в твоей текущей реализации сэмплировать таргеты и подставлять индексы в предсказания?) Разве это не тоже самое, что сэмплировать сразу предсказания\n",
    "    \n",
    "P.S. Тебе нужно будет в функцию прибыли передавать и таргеты и предсказания, чтобы отсортировать и отобрать скважины по предсказаниям, а посчитать прибыль по таргетам\n",
    "</div>"
   ]
  },
  {
   "cell_type": "markdown",
   "metadata": {},
   "source": [
    "<div class=\"alert alert-block alert-warning\">\n",
    "<b>Комментарий студента:</b> Действительно, перечитал еще раз описание задачи - все так\n",
    "</div>"
   ]
  },
  {
   "cell_type": "markdown",
   "metadata": {},
   "source": [
    "<div class=\"alert alert-block alert-warning\">\n",
    "<b>Исправлено:</b> Поправил функцию - и результаты стали интереснее и логичнее)\n",
    "</div>"
   ]
  },
  {
   "cell_type": "markdown",
   "metadata": {},
   "source": [
    "<div class=\"alert alert-block alert-danger\">\n",
    "<b>Ошибка[2]:</b> Еще не совсем то, что нужно)"
   ]
  },
  {
   "cell_type": "markdown",
   "metadata": {},
   "source": [
    "<div class=\"alert alert-block alert-warning\">\n",
    "<b>Исправлено[2]:</b> Теперь вроде все как надо\n",
    "</div>"
   ]
  },
  {
   "cell_type": "markdown",
   "metadata": {},
   "source": [
    "print('Средняя прибыль', ' | Квантиль 2.5%', ' | Квантиль 97.5%', ' | Вероятность убытка')\n",
    "display(boot_income(target_1_valid, predicted_valid_1))\n",
    "display(boot_income(target_2_valid, predicted_valid_2))\n",
    "display(boot_income(target_3_valid, predicted_valid_3))"
   ]
  },
  {
   "cell_type": "code",
   "execution_count": 20,
   "metadata": {},
   "outputs": [],
   "source": [
    "def boot_income(target, predicts):\n",
    "    predicts = pd.Series(predicts, index = target.index, dtype = 'float64')\n",
    "    predicts_df = predicts.to_frame(name = 'predict')\n",
    "    target_df = target.to_frame(name = 'target')\n",
    "    tar_pred = pd.concat([target_df, predicts_df], axis = 1)\n",
    "    values = []\n",
    "    for i in range(1000):\n",
    "        tar_pred_sampled = tar_pred.sample(n=SUBJECTS_RES, replace=True, random_state=state)\n",
    "        values.append(total_income(tar_pred_sampled))\n",
    "    values = pd.Series(values)\n",
    "    lower = values.quantile(0.025)\n",
    "    upper = values.quantile(0.975)\n",
    "    mean = values.mean()\n",
    "    risk = (values < 0).sum()/len(values)\n",
    "  \n",
    "    return mean, lower, upper, risk"
   ]
  },
  {
   "cell_type": "code",
   "execution_count": 21,
   "metadata": {},
   "outputs": [
    {
     "data": {
      "text/plain": [
       "(408808230.7434647, -94004562.24368577, 912504633.4275926, 0.059)"
      ]
     },
     "metadata": {},
     "output_type": "display_data"
    },
    {
     "data": {
      "text/plain": [
       "(396531496.83119005, 15337828.978548719, 764569029.1750042, 0.019)"
      ]
     },
     "metadata": {},
     "output_type": "display_data"
    },
    {
     "data": {
      "text/plain": [
       "(307798850.0623721, -240056041.12206292, 838515883.1635386, 0.136)"
      ]
     },
     "metadata": {},
     "output_type": "display_data"
    }
   ],
   "source": [
    "display(boot_income(target_1_valid, predicted_valid_1))\n",
    "display(boot_income(target_2_valid, predicted_valid_2))\n",
    "display(boot_income(target_3_valid, predicted_valid_3))"
   ]
  },
  {
   "cell_type": "markdown",
   "metadata": {},
   "source": [
    "**Код ниже просто для проверки функции**"
   ]
  },
  {
   "cell_type": "code",
   "execution_count": 22,
   "metadata": {},
   "outputs": [
    {
     "data": {
      "text/plain": [
       "13250721037.279392"
      ]
     },
     "metadata": {},
     "output_type": "display_data"
    },
    {
     "data": {
      "text/plain": [
       "29446.046749509762"
      ]
     },
     "metadata": {},
     "output_type": "display_data"
    },
    {
     "data": {
      "text/plain": [
       "(200, 2)"
      ]
     },
     "metadata": {},
     "output_type": "display_data"
    }
   ],
   "source": [
    "predictss = pd.Series(predicted_valid_1,index = target_1_valid.index, dtype = 'float64')\n",
    "\n",
    "predictss_df = predictss.to_frame(name = 'predict')\n",
    "target_df = target_1_valid.to_frame(name = 'target')\n",
    "tabl = pd.concat([target_df, predictss_df], axis = 1)\n",
    "tabl = tabl.sort_values(by = 'predict', ascending = False).head(SUBJECTS_FIN)\n",
    "region_income = tabl['target'].sum() * PRICE\n",
    "display(region_income, tabl['target'].sum(), tabl.shape)"
   ]
  },
  {
   "cell_type": "markdown",
   "metadata": {},
   "source": [
    "Итого, что имеем:\n",
    "\n",
    "1. Для начала, повторим итоги работы модели:\\\n",
    "Регион 1: Предсказанный средний запас сырья - 92.59577423727681 | RMSE - 37.662476366738964 | R2 - 0.27330224887953236\\\n",
    "Регион 2: Предсказанный средний запас сырья - 68.55686699066834 | RMSE - 0.8869609598538721 | R2 - 0.9996249686647039\\\n",
    "Регион 3: Предсказанный средний запас сырья - 94.97837180756353 | RMSE - 40.084555496514156 | R2 - 0.19467854753013814\\\n",
    "\n",
    "По метрикам можно сделать вывод, что модель по региону 2 срабатывает практически идеально, хоть и средние запасы в нем несколько ниже, чем в других регионах.\n",
    "\n",
    "\n",
    "2. Теперь обратим внимание на результаты бутстрепа:\\\n",
    "Регион 1: Средняя прибыль: 408 808 230 | Квантиль 2.5%: -94 004 562 | Квантиль 97.5%: 912 504 633 | Риск убытка: 5.9%\\\n",
    "Регион 2: Средняя прибыль: 396 531 496 | Квантиль 2.5%: 15 337 828 | Квантиль 97.5%: 764 569 029 | Риск убытка: 1.9%\\\n",
    "Регион 3: Средняя прибыль: 307 798 850 | Квантиль 2.5%: -240 056 041 | Квантиль 97.5%: 838 515 883 | Риск убытка: 13.6%\n",
    "\n",
    "\n",
    "Выбор региона.\n",
    "\n",
    "**Регион 1:** Самая высокая оценка средней прибыли по результатам бутстрепа среди регионов - 409 млн потенциальной прибыли. При этом, доверительный интервал составляет от -94 млн до 912 млн, разброс получился широким. При этом регион показывает непроходной риск убытка - 5.9 %.\\\n",
    "**Регион 2:** Здесь немного ниже прогноз прибыли - 396 млн, при этом менее широкий разброс доверительного интервала (15 млн - 764 млн), а также приемлемый уровень риска убытков - 1.9%\\\n",
    "**Регион 3:** Кроме самых низких прогнозов прибыли, в данном регионе также самый высокий риск убытков - 13.6%, по условиям не проходит.\n",
    "\n",
    "По итогам прогноза, к разработке можно рекомендовать только Регион 2, по которому модель предсказывает относительно высокую прибыль и низкий уровень риска."
   ]
  },
  {
   "cell_type": "markdown",
   "metadata": {},
   "source": [
    "\n",
    "\n",
    "\n",
    "<div class=\"alert alert-block alert-info\">\n",
    "<b>Совет: </b>\n",
    "    \n",
    "Не забудь обновить выводы, если потребуется\n",
    "</div>         "
   ]
  },
  {
   "cell_type": "markdown",
   "metadata": {},
   "source": [
    "<div class=\"alert alert-block alert-warning\">\n",
    "<b>Исправлено:</b> Итоги скорректировал. Правда при каждом запуске результаты функции немного разнятся, но не думаю, что это будет значительно\n",
    "</div>"
   ]
  },
  {
   "cell_type": "markdown",
   "metadata": {},
   "source": [
    "<div class=\"alert alert-block alert-warning\">\n",
    "<b>Исправлено[2]:</b> Итоги дополнил\n",
    "</div>"
   ]
  },
  {
   "cell_type": "markdown",
   "metadata": {},
   "source": [
    "<div class=\"alert alert-block alert-warning\">\n",
    "<b>Исправлено[3]:</b> Итоги поправил в очередной раз\n",
    "</div>"
   ]
  },
  {
   "cell_type": "markdown",
   "metadata": {},
   "source": [
    "<div class=\"alert alert-block alert-success\">\n",
    "<b>Успех[5]:</b> Отлично, проведено детальное исследование и был выбран правильный регион!\n",
    "</div>\n"
   ]
  },
  {
   "cell_type": "markdown",
   "metadata": {},
   "source": [
    "\n",
    "\n",
    "\n",
    "<div class=\"alert alert-block alert-info\">\n",
    "<b>Совет[2]: </b> Если запускать заново код целиком - то все будет детерминировано, не волнуйся\n",
    "</div>         "
   ]
  },
  {
   "cell_type": "markdown",
   "metadata": {},
   "source": [
    "## Чек-лист готовности проекта"
   ]
  },
  {
   "cell_type": "markdown",
   "metadata": {},
   "source": [
    "Поставьте 'x' в выполненных пунктах. Далее нажмите Shift+Enter."
   ]
  },
  {
   "cell_type": "markdown",
   "metadata": {},
   "source": [
    "- [x]  Jupyter Notebook открыт\n",
    "- [x]  Весь код выполняется без ошибок\n",
    "- [x]  Ячейки с кодом расположены в порядке исполнения\n",
    "- [x]  Выполнен шаг 1: данные подготовлены\n",
    "- [x]  Выполнен шаг 2: модели обучены и проверены\n",
    "    - [x]  Данные корректно разбиты на обучающую и валидационную выборки\n",
    "    - [x]  Модели обучены, предсказания сделаны\n",
    "    - [x]  Предсказания и правильные ответы на валидационной выборке сохранены\n",
    "    - [x]  На экране напечатаны результаты\n",
    "    - [x]  Сделаны выводы\n",
    "- [x]  Выполнен шаг 3: проведена подготовка к расчёту прибыли\n",
    "    - [x]  Для всех ключевых значений созданы константы Python\n",
    "    - [x]  Посчитано минимальное среднее количество продукта в месторождениях региона, достаточное для разработки\n",
    "    - [x]  По предыдущему пункту сделаны выводы\n",
    "    - [x]  Написана функция расчёта прибыли\n",
    "- [x]  Выполнен шаг 4: посчитаны риски и прибыль\n",
    "    - [x]  Проведена процедура *Bootstrap*\n",
    "    - [x]  Все параметры бутстрепа соответствуют условию\n",
    "    - [x]  Найдены все нужные величины\n",
    "    - [x]  Предложен регион для разработки месторождения\n",
    "    - [x]  Выбор региона обоснован"
   ]
  },
  {
   "cell_type": "code",
   "execution_count": null,
   "metadata": {},
   "outputs": [],
   "source": []
  }
 ],
 "metadata": {
  "ExecuteTimeLog": [
   {
    "duration": 429,
    "start_time": "2024-05-29T12:36:21.589Z"
   },
   {
    "duration": 718,
    "start_time": "2024-05-29T17:47:12.229Z"
   },
   {
    "duration": 64,
    "start_time": "2024-05-29T17:47:49.794Z"
   },
   {
    "duration": 24,
    "start_time": "2024-05-29T17:51:40.604Z"
   },
   {
    "duration": 28,
    "start_time": "2024-05-29T17:52:20.821Z"
   },
   {
    "duration": 89,
    "start_time": "2024-05-30T13:05:46.374Z"
   },
   {
    "duration": 50,
    "start_time": "2024-05-30T13:05:56.018Z"
   },
   {
    "duration": 149,
    "start_time": "2024-05-30T13:06:07.050Z"
   },
   {
    "duration": 177,
    "start_time": "2024-05-30T13:06:32.467Z"
   },
   {
    "duration": 392,
    "start_time": "2024-05-30T14:06:36.645Z"
   },
   {
    "duration": 458,
    "start_time": "2024-05-30T14:06:37.039Z"
   },
   {
    "duration": 47,
    "start_time": "2024-05-30T14:06:37.500Z"
   },
   {
    "duration": 42,
    "start_time": "2024-05-30T14:06:37.549Z"
   },
   {
    "duration": 146,
    "start_time": "2024-05-30T14:06:37.592Z"
   },
   {
    "duration": 46,
    "start_time": "2024-05-30T14:07:07.602Z"
   },
   {
    "duration": 42,
    "start_time": "2024-05-30T14:07:32.062Z"
   },
   {
    "duration": 55,
    "start_time": "2024-05-30T14:08:04.221Z"
   },
   {
    "duration": 73,
    "start_time": "2024-05-30T14:11:21.846Z"
   },
   {
    "duration": 65,
    "start_time": "2024-05-30T14:12:25.776Z"
   },
   {
    "duration": 39,
    "start_time": "2024-05-30T14:14:30.187Z"
   },
   {
    "duration": 259,
    "start_time": "2024-05-30T14:24:01.173Z"
   },
   {
    "duration": 214,
    "start_time": "2024-05-30T14:24:30.049Z"
   },
   {
    "duration": 712,
    "start_time": "2024-05-30T14:34:38.993Z"
   },
   {
    "duration": 3,
    "start_time": "2024-05-30T14:36:19.118Z"
   },
   {
    "duration": 12,
    "start_time": "2024-05-30T14:42:52.859Z"
   },
   {
    "duration": 6,
    "start_time": "2024-05-30T14:48:18.825Z"
   },
   {
    "duration": 16,
    "start_time": "2024-05-30T14:48:37.210Z"
   },
   {
    "duration": 12,
    "start_time": "2024-05-30T14:49:37.473Z"
   },
   {
    "duration": 39,
    "start_time": "2024-05-30T14:53:55.667Z"
   },
   {
    "duration": 114,
    "start_time": "2024-05-30T14:55:28.776Z"
   },
   {
    "duration": 11,
    "start_time": "2024-05-30T14:55:36.942Z"
   },
   {
    "duration": 37,
    "start_time": "2024-05-30T15:00:38.554Z"
   },
   {
    "duration": 12,
    "start_time": "2024-05-30T15:00:40.348Z"
   },
   {
    "duration": 12,
    "start_time": "2024-05-30T15:00:41.712Z"
   },
   {
    "duration": 4,
    "start_time": "2024-05-30T15:02:51.751Z"
   },
   {
    "duration": 4,
    "start_time": "2024-05-30T15:03:02.974Z"
   },
   {
    "duration": 5,
    "start_time": "2024-05-30T15:03:15.216Z"
   },
   {
    "duration": 4,
    "start_time": "2024-05-30T15:03:24.412Z"
   },
   {
    "duration": 5,
    "start_time": "2024-05-30T15:03:58.054Z"
   },
   {
    "duration": 4,
    "start_time": "2024-05-30T15:04:19.723Z"
   },
   {
    "duration": 5,
    "start_time": "2024-05-30T15:04:39.126Z"
   },
   {
    "duration": 10,
    "start_time": "2024-05-30T15:05:40.268Z"
   },
   {
    "duration": 8,
    "start_time": "2024-05-30T15:06:16.379Z"
   },
   {
    "duration": 6,
    "start_time": "2024-05-30T15:06:27.009Z"
   },
   {
    "duration": 8,
    "start_time": "2024-05-30T15:06:56.953Z"
   },
   {
    "duration": 258,
    "start_time": "2024-05-30T15:28:03.034Z"
   },
   {
    "duration": 33,
    "start_time": "2024-05-30T15:28:18.724Z"
   },
   {
    "duration": 11,
    "start_time": "2024-05-30T15:31:55.244Z"
   },
   {
    "duration": 16,
    "start_time": "2024-05-30T15:33:24.080Z"
   },
   {
    "duration": 16,
    "start_time": "2024-05-30T15:33:29.974Z"
   },
   {
    "duration": 12,
    "start_time": "2024-05-30T15:33:36.992Z"
   },
   {
    "duration": 10,
    "start_time": "2024-05-30T15:33:48.330Z"
   },
   {
    "duration": 14,
    "start_time": "2024-05-30T15:34:06.683Z"
   },
   {
    "duration": 13,
    "start_time": "2024-05-30T15:34:10.509Z"
   },
   {
    "duration": 12,
    "start_time": "2024-05-30T15:34:28.162Z"
   },
   {
    "duration": 12,
    "start_time": "2024-05-30T15:35:43.046Z"
   },
   {
    "duration": 10,
    "start_time": "2024-05-30T15:35:52.969Z"
   },
   {
    "duration": 10,
    "start_time": "2024-05-30T15:36:00.571Z"
   },
   {
    "duration": 4,
    "start_time": "2024-05-30T15:48:03.429Z"
   },
   {
    "duration": 3,
    "start_time": "2024-05-30T15:48:09.033Z"
   },
   {
    "duration": 3,
    "start_time": "2024-05-30T16:11:11.555Z"
   },
   {
    "duration": 4,
    "start_time": "2024-05-30T16:11:49.260Z"
   },
   {
    "duration": 4,
    "start_time": "2024-05-30T16:13:17.354Z"
   },
   {
    "duration": 6,
    "start_time": "2024-05-30T16:15:38.813Z"
   },
   {
    "duration": 6,
    "start_time": "2024-05-30T16:15:57.134Z"
   },
   {
    "duration": 7,
    "start_time": "2024-05-30T16:16:12.106Z"
   },
   {
    "duration": 7,
    "start_time": "2024-05-30T16:16:23.622Z"
   },
   {
    "duration": 5,
    "start_time": "2024-05-30T17:04:53.070Z"
   },
   {
    "duration": 11,
    "start_time": "2024-05-30T17:05:20.819Z"
   },
   {
    "duration": 3,
    "start_time": "2024-05-30T17:06:15.069Z"
   },
   {
    "duration": 8,
    "start_time": "2024-05-30T17:06:17.863Z"
   },
   {
    "duration": 16,
    "start_time": "2024-05-30T17:06:43.013Z"
   },
   {
    "duration": 15,
    "start_time": "2024-05-30T17:06:58.244Z"
   },
   {
    "duration": 32,
    "start_time": "2024-05-30T17:07:05.092Z"
   },
   {
    "duration": 8,
    "start_time": "2024-05-30T17:07:28.178Z"
   },
   {
    "duration": 20,
    "start_time": "2024-05-30T17:07:29.022Z"
   },
   {
    "duration": 3,
    "start_time": "2024-05-30T17:07:59.077Z"
   },
   {
    "duration": 19,
    "start_time": "2024-05-30T17:08:01.129Z"
   },
   {
    "duration": 6,
    "start_time": "2024-05-30T17:08:37.004Z"
   },
   {
    "duration": 26,
    "start_time": "2024-05-30T17:08:37.375Z"
   },
   {
    "duration": 6,
    "start_time": "2024-05-30T17:08:42.899Z"
   },
   {
    "duration": 28,
    "start_time": "2024-05-30T17:08:43.567Z"
   },
   {
    "duration": 19,
    "start_time": "2024-05-30T17:09:07.768Z"
   },
   {
    "duration": 4,
    "start_time": "2024-05-30T17:09:12.840Z"
   },
   {
    "duration": 19,
    "start_time": "2024-05-30T17:09:13.120Z"
   },
   {
    "duration": 13,
    "start_time": "2024-05-30T17:09:57.297Z"
   },
   {
    "duration": 30,
    "start_time": "2024-05-30T17:09:57.796Z"
   },
   {
    "duration": 14,
    "start_time": "2024-05-30T17:10:19.381Z"
   },
   {
    "duration": 19,
    "start_time": "2024-05-30T17:10:20.039Z"
   },
   {
    "duration": 4,
    "start_time": "2024-05-30T17:10:38.188Z"
   },
   {
    "duration": 17,
    "start_time": "2024-05-30T17:10:38.616Z"
   },
   {
    "duration": 10,
    "start_time": "2024-05-30T17:11:32.552Z"
   },
   {
    "duration": 20,
    "start_time": "2024-05-30T17:11:48.700Z"
   },
   {
    "duration": 3,
    "start_time": "2024-05-30T17:12:10.363Z"
   },
   {
    "duration": 12,
    "start_time": "2024-05-30T17:12:11.766Z"
   },
   {
    "duration": 4,
    "start_time": "2024-05-30T17:12:37.502Z"
   },
   {
    "duration": 20,
    "start_time": "2024-05-30T17:12:38.039Z"
   },
   {
    "duration": 16,
    "start_time": "2024-05-30T17:12:47.953Z"
   },
   {
    "duration": 16,
    "start_time": "2024-05-30T17:12:53.453Z"
   },
   {
    "duration": 3,
    "start_time": "2024-05-30T17:14:07.657Z"
   },
   {
    "duration": 16,
    "start_time": "2024-05-30T17:14:08.043Z"
   },
   {
    "duration": 3,
    "start_time": "2024-05-30T17:22:13.592Z"
   },
   {
    "duration": 21,
    "start_time": "2024-05-30T17:27:20.877Z"
   },
   {
    "duration": 10,
    "start_time": "2024-05-30T17:27:34.645Z"
   },
   {
    "duration": 11,
    "start_time": "2024-05-30T17:27:49.558Z"
   },
   {
    "duration": 10,
    "start_time": "2024-05-30T17:30:10.838Z"
   },
   {
    "duration": 107,
    "start_time": "2024-05-30T17:30:59.075Z"
   },
   {
    "duration": 4,
    "start_time": "2024-05-30T17:33:31.701Z"
   },
   {
    "duration": 4,
    "start_time": "2024-05-30T17:34:07.323Z"
   },
   {
    "duration": 4,
    "start_time": "2024-05-30T17:34:33.959Z"
   },
   {
    "duration": 12,
    "start_time": "2024-05-30T17:34:35.061Z"
   },
   {
    "duration": 11,
    "start_time": "2024-05-30T17:35:06.593Z"
   },
   {
    "duration": 1155,
    "start_time": "2024-05-30T17:35:21.275Z"
   },
   {
    "duration": 1121,
    "start_time": "2024-05-30T17:35:29.680Z"
   },
   {
    "duration": 1087,
    "start_time": "2024-05-30T17:35:49.953Z"
   },
   {
    "duration": 1112,
    "start_time": "2024-05-30T17:36:39.181Z"
   },
   {
    "duration": 4,
    "start_time": "2024-05-30T17:40:24.895Z"
   },
   {
    "duration": 5,
    "start_time": "2024-05-30T17:40:39.378Z"
   },
   {
    "duration": 1138,
    "start_time": "2024-05-30T17:40:45.774Z"
   },
   {
    "duration": 4,
    "start_time": "2024-05-30T17:45:21.507Z"
   },
   {
    "duration": 4,
    "start_time": "2024-05-30T17:45:46.882Z"
   },
   {
    "duration": 1192,
    "start_time": "2024-05-30T17:46:09.545Z"
   },
   {
    "duration": 5,
    "start_time": "2024-05-30T17:47:27.191Z"
   },
   {
    "duration": 12,
    "start_time": "2024-05-30T17:47:28.416Z"
   },
   {
    "duration": 1094,
    "start_time": "2024-05-30T17:47:38.523Z"
   },
   {
    "duration": 491,
    "start_time": "2024-05-30T17:47:39.618Z"
   },
   {
    "duration": 44,
    "start_time": "2024-05-30T17:47:40.110Z"
   },
   {
    "duration": 55,
    "start_time": "2024-05-30T17:47:40.155Z"
   },
   {
    "duration": 32,
    "start_time": "2024-05-30T17:47:40.212Z"
   },
   {
    "duration": 182,
    "start_time": "2024-05-30T17:47:40.246Z"
   },
   {
    "duration": 66,
    "start_time": "2024-05-30T17:47:40.430Z"
   },
   {
    "duration": 69,
    "start_time": "2024-05-30T17:47:40.498Z"
   },
   {
    "duration": 263,
    "start_time": "2024-05-30T17:47:40.581Z"
   },
   {
    "duration": 9,
    "start_time": "2024-05-30T17:47:40.846Z"
   },
   {
    "duration": 52,
    "start_time": "2024-05-30T17:47:40.857Z"
   },
   {
    "duration": 74,
    "start_time": "2024-05-30T17:47:40.911Z"
   },
   {
    "duration": 104,
    "start_time": "2024-05-30T17:47:40.988Z"
   },
   {
    "duration": 91,
    "start_time": "2024-05-30T17:47:41.097Z"
   },
   {
    "duration": 93,
    "start_time": "2024-05-30T17:47:41.194Z"
   },
   {
    "duration": 4,
    "start_time": "2024-05-30T17:47:41.289Z"
   },
   {
    "duration": 89,
    "start_time": "2024-05-30T17:47:41.295Z"
   },
   {
    "duration": 14,
    "start_time": "2024-05-30T17:47:41.386Z"
   },
   {
    "duration": 20,
    "start_time": "2024-05-30T17:47:41.402Z"
   },
   {
    "duration": 2,
    "start_time": "2024-05-30T17:47:41.424Z"
   },
   {
    "duration": 5,
    "start_time": "2024-05-30T17:47:41.428Z"
   },
   {
    "duration": 6,
    "start_time": "2024-05-30T17:47:41.434Z"
   },
   {
    "duration": 139,
    "start_time": "2024-05-30T17:47:41.441Z"
   },
   {
    "duration": 4,
    "start_time": "2024-05-30T17:48:04.198Z"
   },
   {
    "duration": 1196,
    "start_time": "2024-05-30T17:48:05.637Z"
   },
   {
    "duration": 6,
    "start_time": "2024-05-30T17:48:25.589Z"
   },
   {
    "duration": 1222,
    "start_time": "2024-05-30T17:48:27.656Z"
   },
   {
    "duration": 6,
    "start_time": "2024-05-30T17:49:29.405Z"
   },
   {
    "duration": 12,
    "start_time": "2024-05-30T17:49:31.415Z"
   },
   {
    "duration": 12,
    "start_time": "2024-05-30T17:50:11.079Z"
   },
   {
    "duration": 1173,
    "start_time": "2024-05-30T17:50:13.885Z"
   },
   {
    "duration": 5,
    "start_time": "2024-05-30T17:50:59.893Z"
   },
   {
    "duration": 1246,
    "start_time": "2024-05-30T17:51:03.442Z"
   },
   {
    "duration": 1210,
    "start_time": "2024-05-30T17:51:19.071Z"
   },
   {
    "duration": 5,
    "start_time": "2024-05-30T17:51:59.624Z"
   },
   {
    "duration": 1238,
    "start_time": "2024-05-30T17:52:00.223Z"
   },
   {
    "duration": 4,
    "start_time": "2024-05-30T17:52:31.168Z"
   },
   {
    "duration": 1104,
    "start_time": "2024-05-30T17:52:31.800Z"
   },
   {
    "duration": 4,
    "start_time": "2024-05-30T17:52:44.555Z"
   },
   {
    "duration": 1241,
    "start_time": "2024-05-30T17:52:47.070Z"
   },
   {
    "duration": 6,
    "start_time": "2024-05-30T17:53:22.388Z"
   },
   {
    "duration": 1199,
    "start_time": "2024-05-30T17:53:23.350Z"
   },
   {
    "duration": 4,
    "start_time": "2024-05-30T17:53:35.939Z"
   },
   {
    "duration": 1098,
    "start_time": "2024-05-30T17:53:36.711Z"
   },
   {
    "duration": 4,
    "start_time": "2024-05-30T17:53:51.185Z"
   },
   {
    "duration": 1167,
    "start_time": "2024-05-30T17:53:53.617Z"
   },
   {
    "duration": 3,
    "start_time": "2024-05-30T17:54:38.239Z"
   },
   {
    "duration": 6,
    "start_time": "2024-05-30T17:54:44.041Z"
   },
   {
    "duration": 1115,
    "start_time": "2024-05-30T17:54:44.547Z"
   },
   {
    "duration": 4,
    "start_time": "2024-05-30T17:54:54.492Z"
   },
   {
    "duration": 1145,
    "start_time": "2024-05-30T17:54:55.294Z"
   },
   {
    "duration": 3536,
    "start_time": "2024-05-30T17:55:16.599Z"
   },
   {
    "duration": 6,
    "start_time": "2024-05-30T17:55:33.688Z"
   },
   {
    "duration": 3574,
    "start_time": "2024-05-30T17:55:35.293Z"
   },
   {
    "duration": 5,
    "start_time": "2024-05-30T17:56:04.329Z"
   },
   {
    "duration": 3492,
    "start_time": "2024-05-30T17:56:04.741Z"
   },
   {
    "duration": 3,
    "start_time": "2024-05-30T18:00:36.499Z"
   },
   {
    "duration": 6,
    "start_time": "2024-05-30T18:01:30.381Z"
   },
   {
    "duration": 5,
    "start_time": "2024-05-30T18:01:32.119Z"
   },
   {
    "duration": 3534,
    "start_time": "2024-05-30T18:01:33.136Z"
   },
   {
    "duration": 7,
    "start_time": "2024-05-30T18:03:15.381Z"
   },
   {
    "duration": 3460,
    "start_time": "2024-05-30T18:03:15.804Z"
   },
   {
    "duration": 5,
    "start_time": "2024-05-30T18:03:59.051Z"
   },
   {
    "duration": 3720,
    "start_time": "2024-05-30T18:04:00.368Z"
   },
   {
    "duration": 1140,
    "start_time": "2024-05-30T19:58:10.361Z"
   },
   {
    "duration": 433,
    "start_time": "2024-05-30T19:58:11.503Z"
   },
   {
    "duration": 47,
    "start_time": "2024-05-30T19:58:11.938Z"
   },
   {
    "duration": 51,
    "start_time": "2024-05-30T19:58:11.986Z"
   },
   {
    "duration": 47,
    "start_time": "2024-05-30T19:58:12.039Z"
   },
   {
    "duration": 160,
    "start_time": "2024-05-30T19:58:12.087Z"
   },
   {
    "duration": 45,
    "start_time": "2024-05-30T19:58:12.248Z"
   },
   {
    "duration": 87,
    "start_time": "2024-05-30T19:58:12.295Z"
   },
   {
    "duration": 249,
    "start_time": "2024-05-30T19:58:12.383Z"
   },
   {
    "duration": 9,
    "start_time": "2024-05-30T19:58:12.633Z"
   },
   {
    "duration": 78,
    "start_time": "2024-05-30T19:58:12.643Z"
   },
   {
    "duration": 65,
    "start_time": "2024-05-30T19:58:12.722Z"
   },
   {
    "duration": 198,
    "start_time": "2024-05-30T19:58:12.789Z"
   },
   {
    "duration": 108,
    "start_time": "2024-05-30T19:58:12.992Z"
   },
   {
    "duration": 198,
    "start_time": "2024-05-30T19:58:13.102Z"
   },
   {
    "duration": 28,
    "start_time": "2024-05-30T19:58:13.302Z"
   },
   {
    "duration": 29,
    "start_time": "2024-05-30T19:58:13.332Z"
   },
   {
    "duration": 58,
    "start_time": "2024-05-30T19:58:13.363Z"
   },
   {
    "duration": 44,
    "start_time": "2024-05-30T19:58:13.423Z"
   },
   {
    "duration": 55,
    "start_time": "2024-05-30T19:58:13.469Z"
   },
   {
    "duration": 45,
    "start_time": "2024-05-30T19:58:13.525Z"
   },
   {
    "duration": 3485,
    "start_time": "2024-05-30T19:58:13.572Z"
   },
   {
    "duration": 2,
    "start_time": "2024-05-30T20:00:51.738Z"
   },
   {
    "duration": 3,
    "start_time": "2024-05-30T20:00:56.378Z"
   },
   {
    "duration": 4,
    "start_time": "2024-05-30T20:00:56.823Z"
   },
   {
    "duration": 2662,
    "start_time": "2024-05-30T20:00:57.416Z"
   },
   {
    "duration": 4,
    "start_time": "2024-05-30T20:02:29.505Z"
   },
   {
    "duration": 2723,
    "start_time": "2024-05-30T20:02:30.016Z"
   },
   {
    "duration": 4,
    "start_time": "2024-05-30T20:03:12.210Z"
   },
   {
    "duration": 2687,
    "start_time": "2024-05-30T20:03:15.495Z"
   },
   {
    "duration": 102,
    "start_time": "2024-05-30T20:04:12.381Z"
   },
   {
    "duration": 0,
    "start_time": "2024-05-30T20:14:57.017Z"
   },
   {
    "duration": 21,
    "start_time": "2024-05-30T20:15:12.232Z"
   },
   {
    "duration": 30,
    "start_time": "2024-05-30T20:15:43.770Z"
   },
   {
    "duration": 5,
    "start_time": "2024-05-30T20:24:21.666Z"
   },
   {
    "duration": 2618,
    "start_time": "2024-05-30T20:24:27.344Z"
   },
   {
    "duration": 4,
    "start_time": "2024-05-30T20:24:38.958Z"
   },
   {
    "duration": 2591,
    "start_time": "2024-05-30T20:24:44.861Z"
   },
   {
    "duration": 5,
    "start_time": "2024-05-30T20:28:00.390Z"
   },
   {
    "duration": 4,
    "start_time": "2024-05-30T20:28:12.008Z"
   },
   {
    "duration": 2613,
    "start_time": "2024-05-30T20:28:13.205Z"
   },
   {
    "duration": 5,
    "start_time": "2024-05-30T20:28:31.932Z"
   },
   {
    "duration": 2822,
    "start_time": "2024-05-30T20:28:35.605Z"
   },
   {
    "duration": 4,
    "start_time": "2024-05-30T20:29:29.553Z"
   },
   {
    "duration": 2676,
    "start_time": "2024-05-30T20:29:30.448Z"
   },
   {
    "duration": 4,
    "start_time": "2024-05-30T20:29:52.845Z"
   },
   {
    "duration": 2589,
    "start_time": "2024-05-30T20:29:56.804Z"
   },
   {
    "duration": 4,
    "start_time": "2024-05-30T20:30:07.520Z"
   },
   {
    "duration": 2739,
    "start_time": "2024-05-30T20:30:11.770Z"
   },
   {
    "duration": 4,
    "start_time": "2024-05-30T20:30:59.100Z"
   },
   {
    "duration": 1056,
    "start_time": "2024-05-30T20:31:02.412Z"
   },
   {
    "duration": 5,
    "start_time": "2024-05-30T20:31:14.822Z"
   },
   {
    "duration": 2655,
    "start_time": "2024-05-30T20:31:17.764Z"
   },
   {
    "duration": 4,
    "start_time": "2024-05-30T20:31:51.256Z"
   },
   {
    "duration": 2633,
    "start_time": "2024-05-30T20:31:54.237Z"
   },
   {
    "duration": 5,
    "start_time": "2024-05-30T20:32:21.596Z"
   },
   {
    "duration": 2634,
    "start_time": "2024-05-30T20:32:23.240Z"
   },
   {
    "duration": 5,
    "start_time": "2024-05-30T20:32:41.002Z"
   },
   {
    "duration": 2630,
    "start_time": "2024-05-30T20:32:41.916Z"
   },
   {
    "duration": 2642,
    "start_time": "2024-05-30T20:35:05.878Z"
   },
   {
    "duration": 2684,
    "start_time": "2024-05-30T20:35:41.452Z"
   },
   {
    "duration": 2641,
    "start_time": "2024-05-30T20:35:53.465Z"
   },
   {
    "duration": 31,
    "start_time": "2024-05-30T20:36:00.901Z"
   },
   {
    "duration": 2646,
    "start_time": "2024-05-30T20:37:46.174Z"
   },
   {
    "duration": 29,
    "start_time": "2024-05-30T20:37:50.893Z"
   },
   {
    "duration": 6,
    "start_time": "2024-05-30T20:38:16.184Z"
   },
   {
    "duration": 2712,
    "start_time": "2024-05-30T20:38:17.976Z"
   },
   {
    "duration": 1156,
    "start_time": "2024-05-30T20:39:53.547Z"
   },
   {
    "duration": 410,
    "start_time": "2024-05-30T20:39:54.705Z"
   },
   {
    "duration": 45,
    "start_time": "2024-05-30T20:39:55.116Z"
   },
   {
    "duration": 41,
    "start_time": "2024-05-30T20:39:55.163Z"
   },
   {
    "duration": 35,
    "start_time": "2024-05-30T20:39:55.206Z"
   },
   {
    "duration": 155,
    "start_time": "2024-05-30T20:39:55.243Z"
   },
   {
    "duration": 43,
    "start_time": "2024-05-30T20:39:55.400Z"
   },
   {
    "duration": 80,
    "start_time": "2024-05-30T20:39:55.445Z"
   },
   {
    "duration": 240,
    "start_time": "2024-05-30T20:39:55.527Z"
   },
   {
    "duration": 18,
    "start_time": "2024-05-30T20:39:55.769Z"
   },
   {
    "duration": 53,
    "start_time": "2024-05-30T20:39:55.788Z"
   },
   {
    "duration": 51,
    "start_time": "2024-05-30T20:39:55.843Z"
   },
   {
    "duration": 189,
    "start_time": "2024-05-30T20:39:55.896Z"
   },
   {
    "duration": 94,
    "start_time": "2024-05-30T20:39:56.089Z"
   },
   {
    "duration": 104,
    "start_time": "2024-05-30T20:39:56.185Z"
   },
   {
    "duration": 4,
    "start_time": "2024-05-30T20:39:56.291Z"
   },
   {
    "duration": 96,
    "start_time": "2024-05-30T20:39:56.297Z"
   },
   {
    "duration": 10,
    "start_time": "2024-05-30T20:39:56.394Z"
   },
   {
    "duration": 7,
    "start_time": "2024-05-30T20:39:56.406Z"
   },
   {
    "duration": 18,
    "start_time": "2024-05-30T20:39:56.415Z"
   },
   {
    "duration": 34,
    "start_time": "2024-05-30T20:39:56.435Z"
   },
   {
    "duration": 2619,
    "start_time": "2024-05-30T20:39:56.471Z"
   },
   {
    "duration": 31,
    "start_time": "2024-05-30T20:39:59.092Z"
   },
   {
    "duration": 20,
    "start_time": "2024-05-30T20:40:50.889Z"
   },
   {
    "duration": 19,
    "start_time": "2024-05-30T20:41:29.890Z"
   },
   {
    "duration": 1061,
    "start_time": "2024-05-30T21:12:59.716Z"
   },
   {
    "duration": 430,
    "start_time": "2024-05-30T21:13:00.779Z"
   },
   {
    "duration": 46,
    "start_time": "2024-05-30T21:13:01.210Z"
   },
   {
    "duration": 75,
    "start_time": "2024-05-30T21:13:01.257Z"
   },
   {
    "duration": 44,
    "start_time": "2024-05-30T21:13:01.335Z"
   },
   {
    "duration": 187,
    "start_time": "2024-05-30T21:13:01.381Z"
   },
   {
    "duration": 50,
    "start_time": "2024-05-30T21:13:01.569Z"
   },
   {
    "duration": 90,
    "start_time": "2024-05-30T21:13:01.621Z"
   },
   {
    "duration": 270,
    "start_time": "2024-05-30T21:13:01.712Z"
   },
   {
    "duration": 8,
    "start_time": "2024-05-30T21:13:01.984Z"
   },
   {
    "duration": 56,
    "start_time": "2024-05-30T21:13:01.994Z"
   },
   {
    "duration": 31,
    "start_time": "2024-05-30T21:13:02.052Z"
   },
   {
    "duration": 129,
    "start_time": "2024-05-30T21:13:02.084Z"
   },
   {
    "duration": 100,
    "start_time": "2024-05-30T21:13:02.285Z"
   },
   {
    "duration": 106,
    "start_time": "2024-05-30T21:13:02.387Z"
   },
   {
    "duration": 119,
    "start_time": "2024-05-30T21:13:02.495Z"
   },
   {
    "duration": 13,
    "start_time": "2024-05-30T21:13:02.616Z"
   },
   {
    "duration": 11,
    "start_time": "2024-05-30T21:13:02.631Z"
   },
   {
    "duration": 6,
    "start_time": "2024-05-30T21:13:02.643Z"
   },
   {
    "duration": 13,
    "start_time": "2024-05-30T21:13:02.651Z"
   },
   {
    "duration": 15,
    "start_time": "2024-05-30T21:13:02.665Z"
   },
   {
    "duration": 2661,
    "start_time": "2024-05-30T21:13:02.682Z"
   },
   {
    "duration": 38,
    "start_time": "2024-05-30T21:13:05.345Z"
   },
   {
    "duration": 1079,
    "start_time": "2024-05-30T21:37:35.693Z"
   },
   {
    "duration": 399,
    "start_time": "2024-05-30T21:37:36.774Z"
   },
   {
    "duration": 46,
    "start_time": "2024-05-30T21:37:37.174Z"
   },
   {
    "duration": 25,
    "start_time": "2024-05-30T21:37:37.221Z"
   },
   {
    "duration": 49,
    "start_time": "2024-05-30T21:37:37.248Z"
   },
   {
    "duration": 132,
    "start_time": "2024-05-30T21:37:37.298Z"
   },
   {
    "duration": 55,
    "start_time": "2024-05-30T21:37:37.431Z"
   },
   {
    "duration": 79,
    "start_time": "2024-05-30T21:37:37.487Z"
   },
   {
    "duration": 229,
    "start_time": "2024-05-30T21:37:37.582Z"
   },
   {
    "duration": 9,
    "start_time": "2024-05-30T21:37:37.812Z"
   },
   {
    "duration": 41,
    "start_time": "2024-05-30T21:37:37.822Z"
   },
   {
    "duration": 29,
    "start_time": "2024-05-30T21:37:37.864Z"
   },
   {
    "duration": 91,
    "start_time": "2024-05-30T21:37:37.894Z"
   },
   {
    "duration": 103,
    "start_time": "2024-05-30T21:37:37.989Z"
   },
   {
    "duration": 189,
    "start_time": "2024-05-30T21:37:38.094Z"
   },
   {
    "duration": 3,
    "start_time": "2024-05-30T21:37:38.285Z"
   },
   {
    "duration": 10,
    "start_time": "2024-05-30T21:37:38.289Z"
   },
   {
    "duration": 3,
    "start_time": "2024-05-30T21:37:38.301Z"
   },
   {
    "duration": 4,
    "start_time": "2024-05-30T21:37:38.305Z"
   },
   {
    "duration": 7,
    "start_time": "2024-05-30T21:37:38.310Z"
   },
   {
    "duration": 8,
    "start_time": "2024-05-30T21:37:38.318Z"
   },
   {
    "duration": 2534,
    "start_time": "2024-05-30T21:37:38.327Z"
   },
   {
    "duration": 35,
    "start_time": "2024-05-30T21:37:40.862Z"
   },
   {
    "duration": 19,
    "start_time": "2024-05-30T21:37:53.907Z"
   },
   {
    "duration": 1084,
    "start_time": "2024-05-30T21:37:57.792Z"
   },
   {
    "duration": 402,
    "start_time": "2024-05-30T21:37:58.879Z"
   },
   {
    "duration": 44,
    "start_time": "2024-05-30T21:37:59.283Z"
   },
   {
    "duration": 26,
    "start_time": "2024-05-30T21:37:59.328Z"
   },
   {
    "duration": 28,
    "start_time": "2024-05-30T21:37:59.383Z"
   },
   {
    "duration": 138,
    "start_time": "2024-05-30T21:37:59.412Z"
   },
   {
    "duration": 50,
    "start_time": "2024-05-30T21:37:59.551Z"
   },
   {
    "duration": 80,
    "start_time": "2024-05-30T21:37:59.602Z"
   },
   {
    "duration": 234,
    "start_time": "2024-05-30T21:37:59.683Z"
   },
   {
    "duration": 10,
    "start_time": "2024-05-30T21:37:59.919Z"
   },
   {
    "duration": 34,
    "start_time": "2024-05-30T21:37:59.931Z"
   },
   {
    "duration": 15,
    "start_time": "2024-05-30T21:37:59.981Z"
   },
   {
    "duration": 185,
    "start_time": "2024-05-30T21:37:59.998Z"
   },
   {
    "duration": 197,
    "start_time": "2024-05-30T21:38:00.187Z"
   },
   {
    "duration": 104,
    "start_time": "2024-05-30T21:38:00.387Z"
   },
   {
    "duration": 63,
    "start_time": "2024-05-30T21:38:00.492Z"
   },
   {
    "duration": 33,
    "start_time": "2024-05-30T21:38:00.557Z"
   },
   {
    "duration": 38,
    "start_time": "2024-05-30T21:38:00.592Z"
   },
   {
    "duration": 52,
    "start_time": "2024-05-30T21:38:00.632Z"
   },
   {
    "duration": 43,
    "start_time": "2024-05-30T21:38:00.685Z"
   },
   {
    "duration": 86,
    "start_time": "2024-05-30T21:38:00.730Z"
   },
   {
    "duration": 2656,
    "start_time": "2024-05-30T21:38:00.818Z"
   },
   {
    "duration": 35,
    "start_time": "2024-05-30T21:38:03.476Z"
   },
   {
    "duration": 748,
    "start_time": "2024-05-30T21:39:22.087Z"
   },
   {
    "duration": 3,
    "start_time": "2024-05-30T21:40:54.413Z"
   },
   {
    "duration": 99,
    "start_time": "2024-05-30T21:41:39.350Z"
   },
   {
    "duration": 8,
    "start_time": "2024-05-30T21:41:44.402Z"
   },
   {
    "duration": 5,
    "start_time": "2024-05-30T21:44:26.460Z"
   },
   {
    "duration": 2734,
    "start_time": "2024-05-30T21:44:29.141Z"
   },
   {
    "duration": 5,
    "start_time": "2024-05-30T21:45:21.945Z"
   },
   {
    "duration": 2584,
    "start_time": "2024-05-30T21:45:24.181Z"
   },
   {
    "duration": 3,
    "start_time": "2024-05-30T21:46:11.384Z"
   },
   {
    "duration": 1096,
    "start_time": "2024-05-30T21:46:35.504Z"
   },
   {
    "duration": 398,
    "start_time": "2024-05-30T21:46:36.602Z"
   },
   {
    "duration": 42,
    "start_time": "2024-05-30T21:46:37.001Z"
   },
   {
    "duration": 43,
    "start_time": "2024-05-30T21:46:37.045Z"
   },
   {
    "duration": 26,
    "start_time": "2024-05-30T21:46:37.090Z"
   },
   {
    "duration": 133,
    "start_time": "2024-05-30T21:46:37.117Z"
   },
   {
    "duration": 55,
    "start_time": "2024-05-30T21:46:37.251Z"
   },
   {
    "duration": 76,
    "start_time": "2024-05-30T21:46:37.307Z"
   },
   {
    "duration": 210,
    "start_time": "2024-05-30T21:46:37.385Z"
   },
   {
    "duration": 9,
    "start_time": "2024-05-30T21:46:37.596Z"
   },
   {
    "duration": 29,
    "start_time": "2024-05-30T21:46:37.606Z"
   },
   {
    "duration": 47,
    "start_time": "2024-05-30T21:46:37.636Z"
   },
   {
    "duration": 98,
    "start_time": "2024-05-30T21:46:37.685Z"
   },
   {
    "duration": 104,
    "start_time": "2024-05-30T21:46:37.787Z"
   },
   {
    "duration": 102,
    "start_time": "2024-05-30T21:46:37.982Z"
   },
   {
    "duration": 3,
    "start_time": "2024-05-30T21:46:38.085Z"
   },
   {
    "duration": 10,
    "start_time": "2024-05-30T21:46:38.089Z"
   },
   {
    "duration": 4,
    "start_time": "2024-05-30T21:46:38.100Z"
   },
   {
    "duration": 3,
    "start_time": "2024-05-30T21:46:38.105Z"
   },
   {
    "duration": 7,
    "start_time": "2024-05-30T21:46:38.110Z"
   },
   {
    "duration": 6,
    "start_time": "2024-05-30T21:46:38.118Z"
   },
   {
    "duration": 2527,
    "start_time": "2024-05-30T21:46:38.126Z"
   },
   {
    "duration": 34,
    "start_time": "2024-05-30T21:46:40.655Z"
   },
   {
    "duration": 1025,
    "start_time": "2024-05-30T21:46:47.236Z"
   },
   {
    "duration": 423,
    "start_time": "2024-05-30T21:46:48.263Z"
   },
   {
    "duration": 46,
    "start_time": "2024-05-30T21:46:48.688Z"
   },
   {
    "duration": 49,
    "start_time": "2024-05-30T21:46:48.736Z"
   },
   {
    "duration": 29,
    "start_time": "2024-05-30T21:46:48.787Z"
   },
   {
    "duration": 157,
    "start_time": "2024-05-30T21:46:48.818Z"
   },
   {
    "duration": 44,
    "start_time": "2024-05-30T21:46:48.982Z"
   },
   {
    "duration": 82,
    "start_time": "2024-05-30T21:46:49.028Z"
   },
   {
    "duration": 254,
    "start_time": "2024-05-30T21:46:49.112Z"
   },
   {
    "duration": 10,
    "start_time": "2024-05-30T21:46:49.381Z"
   },
   {
    "duration": 31,
    "start_time": "2024-05-30T21:46:49.392Z"
   },
   {
    "duration": 58,
    "start_time": "2024-05-30T21:46:49.425Z"
   },
   {
    "duration": 102,
    "start_time": "2024-05-30T21:46:49.484Z"
   },
   {
    "duration": 193,
    "start_time": "2024-05-30T21:46:49.590Z"
   },
   {
    "duration": 99,
    "start_time": "2024-05-30T21:46:49.785Z"
   },
   {
    "duration": 4,
    "start_time": "2024-05-30T21:46:49.886Z"
   },
   {
    "duration": 90,
    "start_time": "2024-05-30T21:46:49.892Z"
   },
   {
    "duration": 3,
    "start_time": "2024-05-30T21:46:49.984Z"
   },
   {
    "duration": 4,
    "start_time": "2024-05-30T21:46:49.988Z"
   },
   {
    "duration": 5,
    "start_time": "2024-05-30T21:46:49.993Z"
   },
   {
    "duration": 4,
    "start_time": "2024-05-30T21:46:50.000Z"
   },
   {
    "duration": 2588,
    "start_time": "2024-05-30T21:46:50.005Z"
   },
   {
    "duration": 31,
    "start_time": "2024-05-30T21:46:52.595Z"
   },
   {
    "duration": 1089,
    "start_time": "2024-05-30T21:47:39.613Z"
   },
   {
    "duration": 410,
    "start_time": "2024-05-30T21:47:40.703Z"
   },
   {
    "duration": 45,
    "start_time": "2024-05-30T21:47:41.115Z"
   },
   {
    "duration": 43,
    "start_time": "2024-05-30T21:47:41.162Z"
   },
   {
    "duration": 64,
    "start_time": "2024-05-30T21:47:41.207Z"
   },
   {
    "duration": 133,
    "start_time": "2024-05-30T21:47:41.272Z"
   },
   {
    "duration": 43,
    "start_time": "2024-05-30T21:47:41.407Z"
   },
   {
    "duration": 83,
    "start_time": "2024-05-30T21:47:41.452Z"
   },
   {
    "duration": 244,
    "start_time": "2024-05-30T21:47:41.537Z"
   },
   {
    "duration": 9,
    "start_time": "2024-05-30T21:47:41.783Z"
   },
   {
    "duration": 31,
    "start_time": "2024-05-30T21:47:41.794Z"
   },
   {
    "duration": 56,
    "start_time": "2024-05-30T21:47:41.826Z"
   },
   {
    "duration": 101,
    "start_time": "2024-05-30T21:47:41.884Z"
   },
   {
    "duration": 105,
    "start_time": "2024-05-30T21:47:41.988Z"
   },
   {
    "duration": 189,
    "start_time": "2024-05-30T21:47:42.095Z"
   },
   {
    "duration": 3,
    "start_time": "2024-05-30T21:47:42.285Z"
   },
   {
    "duration": 31,
    "start_time": "2024-05-30T21:47:42.290Z"
   },
   {
    "duration": 15,
    "start_time": "2024-05-30T21:47:42.323Z"
   },
   {
    "duration": 22,
    "start_time": "2024-05-30T21:47:42.340Z"
   },
   {
    "duration": 21,
    "start_time": "2024-05-30T21:47:42.363Z"
   },
   {
    "duration": 2582,
    "start_time": "2024-05-30T21:47:42.386Z"
   },
   {
    "duration": 36,
    "start_time": "2024-05-30T21:47:44.969Z"
   },
   {
    "duration": 2517,
    "start_time": "2024-05-30T21:51:08.086Z"
   },
   {
    "duration": 4,
    "start_time": "2024-05-30T22:01:31.025Z"
   },
   {
    "duration": 3,
    "start_time": "2024-05-30T22:04:36.140Z"
   },
   {
    "duration": 3,
    "start_time": "2024-05-30T22:05:12.475Z"
   },
   {
    "duration": 6,
    "start_time": "2024-05-30T22:05:15.917Z"
   },
   {
    "duration": 2488,
    "start_time": "2024-05-30T22:05:18.329Z"
   },
   {
    "duration": 104,
    "start_time": "2024-05-30T22:07:00.180Z"
   },
   {
    "duration": 9,
    "start_time": "2024-05-30T22:07:56.290Z"
   },
   {
    "duration": 12,
    "start_time": "2024-05-30T22:08:45.880Z"
   },
   {
    "duration": 3,
    "start_time": "2024-05-30T22:08:55.041Z"
   },
   {
    "duration": 9,
    "start_time": "2024-05-30T22:10:10.506Z"
   },
   {
    "duration": 4,
    "start_time": "2024-05-30T22:10:15.636Z"
   },
   {
    "duration": 1085,
    "start_time": "2024-05-30T22:15:37.487Z"
   },
   {
    "duration": 406,
    "start_time": "2024-05-30T22:15:38.574Z"
   },
   {
    "duration": 45,
    "start_time": "2024-05-30T22:15:38.982Z"
   },
   {
    "duration": 25,
    "start_time": "2024-05-30T22:15:39.028Z"
   },
   {
    "duration": 49,
    "start_time": "2024-05-30T22:15:39.055Z"
   },
   {
    "duration": 137,
    "start_time": "2024-05-30T22:15:39.105Z"
   },
   {
    "duration": 49,
    "start_time": "2024-05-30T22:15:39.243Z"
   },
   {
    "duration": 89,
    "start_time": "2024-05-30T22:15:39.294Z"
   },
   {
    "duration": 234,
    "start_time": "2024-05-30T22:15:39.385Z"
   },
   {
    "duration": 10,
    "start_time": "2024-05-30T22:15:39.621Z"
   },
   {
    "duration": 54,
    "start_time": "2024-05-30T22:15:39.634Z"
   },
   {
    "duration": 17,
    "start_time": "2024-05-30T22:15:39.690Z"
   },
   {
    "duration": 72,
    "start_time": "2024-05-30T22:15:39.712Z"
   },
   {
    "duration": 212,
    "start_time": "2024-05-30T22:15:39.788Z"
   },
   {
    "duration": 181,
    "start_time": "2024-05-30T22:15:40.002Z"
   },
   {
    "duration": 3,
    "start_time": "2024-05-30T22:15:40.184Z"
   },
   {
    "duration": 113,
    "start_time": "2024-05-30T22:15:40.189Z"
   },
   {
    "duration": 0,
    "start_time": "2024-05-30T22:15:40.304Z"
   },
   {
    "duration": 0,
    "start_time": "2024-05-30T22:15:40.305Z"
   },
   {
    "duration": 0,
    "start_time": "2024-05-30T22:15:40.307Z"
   },
   {
    "duration": 0,
    "start_time": "2024-05-30T22:15:40.308Z"
   },
   {
    "duration": 0,
    "start_time": "2024-05-30T22:15:40.310Z"
   },
   {
    "duration": 7,
    "start_time": "2024-05-30T22:16:09.600Z"
   },
   {
    "duration": 1127,
    "start_time": "2024-05-30T22:16:13.959Z"
   },
   {
    "duration": 410,
    "start_time": "2024-05-30T22:16:15.088Z"
   },
   {
    "duration": 46,
    "start_time": "2024-05-30T22:16:15.500Z"
   },
   {
    "duration": 41,
    "start_time": "2024-05-30T22:16:15.548Z"
   },
   {
    "duration": 27,
    "start_time": "2024-05-30T22:16:15.591Z"
   },
   {
    "duration": 146,
    "start_time": "2024-05-30T22:16:15.619Z"
   },
   {
    "duration": 52,
    "start_time": "2024-05-30T22:16:15.766Z"
   },
   {
    "duration": 90,
    "start_time": "2024-05-30T22:16:15.820Z"
   },
   {
    "duration": 233,
    "start_time": "2024-05-30T22:16:15.912Z"
   },
   {
    "duration": 9,
    "start_time": "2024-05-30T22:16:16.147Z"
   },
   {
    "duration": 49,
    "start_time": "2024-05-30T22:16:16.158Z"
   },
   {
    "duration": 15,
    "start_time": "2024-05-30T22:16:16.209Z"
   },
   {
    "duration": 158,
    "start_time": "2024-05-30T22:16:16.225Z"
   },
   {
    "duration": 195,
    "start_time": "2024-05-30T22:16:16.388Z"
   },
   {
    "duration": 103,
    "start_time": "2024-05-30T22:16:16.586Z"
   },
   {
    "duration": 3,
    "start_time": "2024-05-30T22:16:16.691Z"
   },
   {
    "duration": 24,
    "start_time": "2024-05-30T22:16:16.696Z"
   },
   {
    "duration": 30,
    "start_time": "2024-05-30T22:16:16.722Z"
   },
   {
    "duration": 4,
    "start_time": "2024-05-30T22:16:16.754Z"
   },
   {
    "duration": 24,
    "start_time": "2024-05-30T22:16:16.759Z"
   },
   {
    "duration": 2559,
    "start_time": "2024-05-30T22:16:16.785Z"
   },
   {
    "duration": 43,
    "start_time": "2024-05-30T22:16:19.346Z"
   },
   {
    "duration": 1087,
    "start_time": "2024-05-31T10:45:23.925Z"
   },
   {
    "duration": 433,
    "start_time": "2024-05-31T10:45:25.013Z"
   },
   {
    "duration": 46,
    "start_time": "2024-05-31T10:45:25.448Z"
   },
   {
    "duration": 35,
    "start_time": "2024-05-31T10:45:25.497Z"
   },
   {
    "duration": 28,
    "start_time": "2024-05-31T10:45:25.534Z"
   },
   {
    "duration": 135,
    "start_time": "2024-05-31T10:45:25.582Z"
   },
   {
    "duration": 73,
    "start_time": "2024-05-31T10:45:25.720Z"
   },
   {
    "duration": 91,
    "start_time": "2024-05-31T10:45:25.794Z"
   },
   {
    "duration": 270,
    "start_time": "2024-05-31T10:45:25.887Z"
   },
   {
    "duration": 22,
    "start_time": "2024-05-31T10:45:26.161Z"
   },
   {
    "duration": 33,
    "start_time": "2024-05-31T10:45:26.184Z"
   },
   {
    "duration": 15,
    "start_time": "2024-05-31T10:45:26.218Z"
   },
   {
    "duration": 148,
    "start_time": "2024-05-31T10:45:26.235Z"
   },
   {
    "duration": 98,
    "start_time": "2024-05-31T10:45:26.385Z"
   },
   {
    "duration": 196,
    "start_time": "2024-05-31T10:45:26.485Z"
   },
   {
    "duration": 3,
    "start_time": "2024-05-31T10:45:26.684Z"
   },
   {
    "duration": 7,
    "start_time": "2024-05-31T10:45:26.688Z"
   },
   {
    "duration": 3,
    "start_time": "2024-05-31T10:45:26.697Z"
   },
   {
    "duration": 5,
    "start_time": "2024-05-31T10:45:26.701Z"
   },
   {
    "duration": 5,
    "start_time": "2024-05-31T10:45:26.708Z"
   },
   {
    "duration": 132,
    "start_time": "2024-05-31T10:45:26.714Z"
   },
   {
    "duration": 0,
    "start_time": "2024-05-31T10:45:26.848Z"
   },
   {
    "duration": 4,
    "start_time": "2024-05-31T10:46:04.123Z"
   },
   {
    "duration": 26,
    "start_time": "2024-05-31T10:46:08.267Z"
   },
   {
    "duration": 3,
    "start_time": "2024-05-31T10:46:44.241Z"
   },
   {
    "duration": 5,
    "start_time": "2024-05-31T10:46:46.182Z"
   },
   {
    "duration": 4623,
    "start_time": "2024-05-31T10:46:48.306Z"
   },
   {
    "duration": 4,
    "start_time": "2024-05-31T10:55:05.823Z"
   },
   {
    "duration": 5,
    "start_time": "2024-05-31T10:55:07.727Z"
   },
   {
    "duration": 3994,
    "start_time": "2024-05-31T10:55:10.181Z"
   },
   {
    "duration": 1113,
    "start_time": "2024-05-31T10:56:41.071Z"
   },
   {
    "duration": 447,
    "start_time": "2024-05-31T10:56:42.186Z"
   },
   {
    "duration": 53,
    "start_time": "2024-05-31T10:56:42.635Z"
   },
   {
    "duration": 25,
    "start_time": "2024-05-31T10:56:42.689Z"
   },
   {
    "duration": 26,
    "start_time": "2024-05-31T10:56:42.716Z"
   },
   {
    "duration": 149,
    "start_time": "2024-05-31T10:56:42.744Z"
   },
   {
    "duration": 43,
    "start_time": "2024-05-31T10:56:42.894Z"
   },
   {
    "duration": 81,
    "start_time": "2024-05-31T10:56:42.939Z"
   },
   {
    "duration": 231,
    "start_time": "2024-05-31T10:56:43.022Z"
   },
   {
    "duration": 8,
    "start_time": "2024-05-31T10:56:43.255Z"
   },
   {
    "duration": 41,
    "start_time": "2024-05-31T10:56:43.264Z"
   },
   {
    "duration": 14,
    "start_time": "2024-05-31T10:56:43.306Z"
   },
   {
    "duration": 174,
    "start_time": "2024-05-31T10:56:43.321Z"
   },
   {
    "duration": 14,
    "start_time": "2024-05-31T10:56:43.584Z"
   },
   {
    "duration": 182,
    "start_time": "2024-05-31T10:56:43.601Z"
   },
   {
    "duration": 3,
    "start_time": "2024-05-31T10:56:43.785Z"
   },
   {
    "duration": 12,
    "start_time": "2024-05-31T10:56:43.789Z"
   },
   {
    "duration": 4,
    "start_time": "2024-05-31T10:56:43.802Z"
   },
   {
    "duration": 4,
    "start_time": "2024-05-31T10:56:43.808Z"
   },
   {
    "duration": 9,
    "start_time": "2024-05-31T10:56:43.813Z"
   },
   {
    "duration": 3855,
    "start_time": "2024-05-31T10:56:43.823Z"
   },
   {
    "duration": 28,
    "start_time": "2024-05-31T10:56:47.682Z"
   },
   {
    "duration": 1086,
    "start_time": "2024-05-31T10:57:16.296Z"
   },
   {
    "duration": 453,
    "start_time": "2024-05-31T10:57:17.384Z"
   },
   {
    "duration": 69,
    "start_time": "2024-05-31T10:57:17.839Z"
   },
   {
    "duration": 31,
    "start_time": "2024-05-31T10:57:17.910Z"
   },
   {
    "duration": 52,
    "start_time": "2024-05-31T10:57:17.944Z"
   },
   {
    "duration": 140,
    "start_time": "2024-05-31T10:57:17.998Z"
   },
   {
    "duration": 54,
    "start_time": "2024-05-31T10:57:18.139Z"
   },
   {
    "duration": 65,
    "start_time": "2024-05-31T10:57:18.194Z"
   },
   {
    "duration": 242,
    "start_time": "2024-05-31T10:57:18.261Z"
   },
   {
    "duration": 9,
    "start_time": "2024-05-31T10:57:18.505Z"
   },
   {
    "duration": 33,
    "start_time": "2024-05-31T10:57:18.515Z"
   },
   {
    "duration": 36,
    "start_time": "2024-05-31T10:57:18.549Z"
   },
   {
    "duration": 103,
    "start_time": "2024-05-31T10:57:18.587Z"
   },
   {
    "duration": 190,
    "start_time": "2024-05-31T10:57:18.693Z"
   },
   {
    "duration": 105,
    "start_time": "2024-05-31T10:57:18.885Z"
   },
   {
    "duration": 4,
    "start_time": "2024-05-31T10:57:18.992Z"
   },
   {
    "duration": 92,
    "start_time": "2024-05-31T10:57:18.998Z"
   },
   {
    "duration": 6,
    "start_time": "2024-05-31T10:57:19.092Z"
   },
   {
    "duration": 4,
    "start_time": "2024-05-31T10:57:19.100Z"
   },
   {
    "duration": 5,
    "start_time": "2024-05-31T10:57:19.105Z"
   },
   {
    "duration": 3941,
    "start_time": "2024-05-31T10:57:19.111Z"
   },
   {
    "duration": 36,
    "start_time": "2024-05-31T10:57:23.054Z"
   },
   {
    "duration": 3,
    "start_time": "2024-05-31T11:00:57.192Z"
   },
   {
    "duration": 96,
    "start_time": "2024-05-31T11:00:57.624Z"
   },
   {
    "duration": 12,
    "start_time": "2024-05-31T11:01:03.284Z"
   },
   {
    "duration": 29,
    "start_time": "2024-05-31T11:01:24.187Z"
   },
   {
    "duration": 3,
    "start_time": "2024-05-31T11:02:21.407Z"
   },
   {
    "duration": 24,
    "start_time": "2024-05-31T11:02:22.675Z"
   },
   {
    "duration": 1455,
    "start_time": "2024-05-31T11:02:30.466Z"
   },
   {
    "duration": 3,
    "start_time": "2024-05-31T11:02:47.984Z"
   },
   {
    "duration": 19,
    "start_time": "2024-05-31T11:02:48.734Z"
   },
   {
    "duration": 10,
    "start_time": "2024-05-31T11:02:57.898Z"
   },
   {
    "duration": 4032,
    "start_time": "2024-05-31T11:03:00.473Z"
   },
   {
    "duration": 3,
    "start_time": "2024-05-31T11:03:36.567Z"
   },
   {
    "duration": 5,
    "start_time": "2024-05-31T11:04:43.723Z"
   },
   {
    "duration": 3976,
    "start_time": "2024-05-31T11:04:45.742Z"
   },
   {
    "duration": 6,
    "start_time": "2024-05-31T11:05:45.428Z"
   },
   {
    "duration": 3909,
    "start_time": "2024-05-31T11:05:47.397Z"
   },
   {
    "duration": 4,
    "start_time": "2024-05-31T11:05:57.457Z"
   },
   {
    "duration": 4037,
    "start_time": "2024-05-31T11:05:59.759Z"
   },
   {
    "duration": 1136,
    "start_time": "2024-05-31T11:41:12.787Z"
   },
   {
    "duration": 435,
    "start_time": "2024-05-31T11:41:13.925Z"
   },
   {
    "duration": 54,
    "start_time": "2024-05-31T11:41:14.362Z"
   },
   {
    "duration": 27,
    "start_time": "2024-05-31T11:41:14.419Z"
   },
   {
    "duration": 62,
    "start_time": "2024-05-31T11:41:14.448Z"
   },
   {
    "duration": 139,
    "start_time": "2024-05-31T11:41:14.511Z"
   },
   {
    "duration": 68,
    "start_time": "2024-05-31T11:41:14.651Z"
   },
   {
    "duration": 77,
    "start_time": "2024-05-31T11:41:14.721Z"
   },
   {
    "duration": 240,
    "start_time": "2024-05-31T11:41:14.800Z"
   },
   {
    "duration": 9,
    "start_time": "2024-05-31T11:41:15.042Z"
   },
   {
    "duration": 52,
    "start_time": "2024-05-31T11:41:15.053Z"
   },
   {
    "duration": 76,
    "start_time": "2024-05-31T11:41:15.107Z"
   },
   {
    "duration": 112,
    "start_time": "2024-05-31T11:41:15.186Z"
   },
   {
    "duration": 182,
    "start_time": "2024-05-31T11:41:15.303Z"
   },
   {
    "duration": 102,
    "start_time": "2024-05-31T11:41:15.487Z"
   },
   {
    "duration": 68,
    "start_time": "2024-05-31T11:41:15.591Z"
   },
   {
    "duration": 8,
    "start_time": "2024-05-31T11:41:15.661Z"
   },
   {
    "duration": 4,
    "start_time": "2024-05-31T11:41:15.682Z"
   },
   {
    "duration": 7,
    "start_time": "2024-05-31T11:41:15.687Z"
   },
   {
    "duration": 4,
    "start_time": "2024-05-31T11:41:15.696Z"
   },
   {
    "duration": 3966,
    "start_time": "2024-05-31T11:41:15.701Z"
   },
   {
    "duration": 37,
    "start_time": "2024-05-31T11:41:19.668Z"
   },
   {
    "duration": 4,
    "start_time": "2024-05-31T11:46:27.667Z"
   },
   {
    "duration": 5,
    "start_time": "2024-05-31T11:46:29.599Z"
   },
   {
    "duration": 3877,
    "start_time": "2024-05-31T11:46:31.709Z"
   },
   {
    "duration": 104,
    "start_time": "2024-05-31T11:47:39.426Z"
   },
   {
    "duration": 9,
    "start_time": "2024-05-31T11:48:51.573Z"
   },
   {
    "duration": 3,
    "start_time": "2024-05-31T11:49:26.088Z"
   },
   {
    "duration": 8,
    "start_time": "2024-05-31T11:49:26.585Z"
   },
   {
    "duration": 5,
    "start_time": "2024-05-31T11:50:09.247Z"
   },
   {
    "duration": 1480,
    "start_time": "2024-05-31T11:50:11.865Z"
   },
   {
    "duration": 4,
    "start_time": "2024-05-31T11:50:23.153Z"
   },
   {
    "duration": 1424,
    "start_time": "2024-05-31T11:50:25.454Z"
   },
   {
    "duration": 4,
    "start_time": "2024-05-31T11:50:55.751Z"
   },
   {
    "duration": 8,
    "start_time": "2024-05-31T11:50:57.725Z"
   },
   {
    "duration": 4001,
    "start_time": "2024-05-31T11:51:04.129Z"
   },
   {
    "duration": 5,
    "start_time": "2024-05-31T11:51:55.172Z"
   },
   {
    "duration": 1308,
    "start_time": "2024-05-31T11:51:58.019Z"
   },
   {
    "duration": 5,
    "start_time": "2024-05-31T11:52:36.589Z"
   },
   {
    "duration": 3912,
    "start_time": "2024-05-31T11:52:39.412Z"
   },
   {
    "duration": 5,
    "start_time": "2024-05-31T11:53:04.070Z"
   },
   {
    "duration": 3929,
    "start_time": "2024-05-31T11:53:06.770Z"
   },
   {
    "duration": 5,
    "start_time": "2024-05-31T11:54:13.445Z"
   },
   {
    "duration": 3925,
    "start_time": "2024-05-31T11:54:16.226Z"
   },
   {
    "duration": 1169,
    "start_time": "2024-05-31T11:54:26.055Z"
   },
   {
    "duration": 445,
    "start_time": "2024-05-31T11:54:27.226Z"
   },
   {
    "duration": 47,
    "start_time": "2024-05-31T11:54:27.673Z"
   },
   {
    "duration": 27,
    "start_time": "2024-05-31T11:54:27.722Z"
   },
   {
    "duration": 54,
    "start_time": "2024-05-31T11:54:27.751Z"
   },
   {
    "duration": 159,
    "start_time": "2024-05-31T11:54:27.807Z"
   },
   {
    "duration": 53,
    "start_time": "2024-05-31T11:54:27.968Z"
   },
   {
    "duration": 81,
    "start_time": "2024-05-31T11:54:28.022Z"
   },
   {
    "duration": 227,
    "start_time": "2024-05-31T11:54:28.105Z"
   },
   {
    "duration": 9,
    "start_time": "2024-05-31T11:54:28.333Z"
   },
   {
    "duration": 49,
    "start_time": "2024-05-31T11:54:28.343Z"
   },
   {
    "duration": 89,
    "start_time": "2024-05-31T11:54:28.393Z"
   },
   {
    "duration": 108,
    "start_time": "2024-05-31T11:54:28.484Z"
   },
   {
    "duration": 187,
    "start_time": "2024-05-31T11:54:28.597Z"
   },
   {
    "duration": 98,
    "start_time": "2024-05-31T11:54:28.787Z"
   },
   {
    "duration": 5,
    "start_time": "2024-05-31T11:54:28.887Z"
   },
   {
    "duration": 12,
    "start_time": "2024-05-31T11:54:28.982Z"
   },
   {
    "duration": 31,
    "start_time": "2024-05-31T11:54:28.995Z"
   },
   {
    "duration": 18,
    "start_time": "2024-05-31T11:54:29.028Z"
   },
   {
    "duration": 14,
    "start_time": "2024-05-31T11:54:29.048Z"
   },
   {
    "duration": 3923,
    "start_time": "2024-05-31T11:54:29.063Z"
   },
   {
    "duration": 32,
    "start_time": "2024-05-31T11:54:32.988Z"
   },
   {
    "duration": 1147,
    "start_time": "2024-05-31T12:07:22.504Z"
   },
   {
    "duration": 454,
    "start_time": "2024-05-31T12:07:23.653Z"
   },
   {
    "duration": 45,
    "start_time": "2024-05-31T12:07:24.109Z"
   },
   {
    "duration": 52,
    "start_time": "2024-05-31T12:07:24.156Z"
   },
   {
    "duration": 35,
    "start_time": "2024-05-31T12:07:24.209Z"
   },
   {
    "duration": 160,
    "start_time": "2024-05-31T12:07:24.246Z"
   },
   {
    "duration": 45,
    "start_time": "2024-05-31T12:07:24.407Z"
   },
   {
    "duration": 107,
    "start_time": "2024-05-31T12:07:24.453Z"
   },
   {
    "duration": 241,
    "start_time": "2024-05-31T12:07:24.562Z"
   },
   {
    "duration": 9,
    "start_time": "2024-05-31T12:07:24.806Z"
   },
   {
    "duration": 44,
    "start_time": "2024-05-31T12:07:24.816Z"
   },
   {
    "duration": 37,
    "start_time": "2024-05-31T12:07:24.862Z"
   },
   {
    "duration": 100,
    "start_time": "2024-05-31T12:07:24.902Z"
   },
   {
    "duration": 178,
    "start_time": "2024-05-31T12:07:25.003Z"
   },
   {
    "duration": 92,
    "start_time": "2024-05-31T12:07:25.191Z"
   },
   {
    "duration": 3,
    "start_time": "2024-05-31T12:07:25.285Z"
   },
   {
    "duration": 14,
    "start_time": "2024-05-31T12:07:25.289Z"
   },
   {
    "duration": 8,
    "start_time": "2024-05-31T12:07:25.305Z"
   },
   {
    "duration": 31,
    "start_time": "2024-05-31T12:07:25.315Z"
   },
   {
    "duration": 18,
    "start_time": "2024-05-31T12:07:25.348Z"
   },
   {
    "duration": 4088,
    "start_time": "2024-05-31T12:07:25.368Z"
   },
   {
    "duration": 42,
    "start_time": "2024-05-31T12:07:29.458Z"
   },
   {
    "duration": 12,
    "start_time": "2024-05-31T12:14:15.892Z"
   },
   {
    "duration": 1117,
    "start_time": "2024-05-31T12:14:22.991Z"
   },
   {
    "duration": 416,
    "start_time": "2024-05-31T12:14:24.110Z"
   },
   {
    "duration": 47,
    "start_time": "2024-05-31T12:14:24.528Z"
   },
   {
    "duration": 29,
    "start_time": "2024-05-31T12:14:24.577Z"
   },
   {
    "duration": 29,
    "start_time": "2024-05-31T12:14:24.609Z"
   },
   {
    "duration": 167,
    "start_time": "2024-05-31T12:14:24.640Z"
   },
   {
    "duration": 46,
    "start_time": "2024-05-31T12:14:24.808Z"
   },
   {
    "duration": 93,
    "start_time": "2024-05-31T12:14:24.855Z"
   },
   {
    "duration": 265,
    "start_time": "2024-05-31T12:14:24.949Z"
   },
   {
    "duration": 9,
    "start_time": "2024-05-31T12:14:25.216Z"
   },
   {
    "duration": 67,
    "start_time": "2024-05-31T12:14:25.227Z"
   },
   {
    "duration": 21,
    "start_time": "2024-05-31T12:14:25.296Z"
   },
   {
    "duration": 166,
    "start_time": "2024-05-31T12:14:25.319Z"
   },
   {
    "duration": 193,
    "start_time": "2024-05-31T12:14:25.490Z"
   },
   {
    "duration": 99,
    "start_time": "2024-05-31T12:14:25.685Z"
   },
   {
    "duration": 20,
    "start_time": "2024-05-31T12:14:25.786Z"
   },
   {
    "duration": 22,
    "start_time": "2024-05-31T12:14:25.808Z"
   },
   {
    "duration": 23,
    "start_time": "2024-05-31T12:14:25.832Z"
   },
   {
    "duration": 65,
    "start_time": "2024-05-31T12:14:25.857Z"
   },
   {
    "duration": 33,
    "start_time": "2024-05-31T12:14:25.924Z"
   },
   {
    "duration": 4068,
    "start_time": "2024-05-31T12:14:25.959Z"
   },
   {
    "duration": 31,
    "start_time": "2024-05-31T12:14:30.029Z"
   },
   {
    "duration": 3846,
    "start_time": "2024-05-31T14:28:52.621Z"
   },
   {
    "duration": 679,
    "start_time": "2024-05-31T14:28:56.468Z"
   },
   {
    "duration": 51,
    "start_time": "2024-05-31T14:28:57.149Z"
   },
   {
    "duration": 26,
    "start_time": "2024-05-31T14:28:57.202Z"
   },
   {
    "duration": 50,
    "start_time": "2024-05-31T14:28:57.231Z"
   },
   {
    "duration": 143,
    "start_time": "2024-05-31T14:28:57.283Z"
   },
   {
    "duration": 62,
    "start_time": "2024-05-31T14:28:57.427Z"
   },
   {
    "duration": 78,
    "start_time": "2024-05-31T14:28:57.490Z"
   },
   {
    "duration": 248,
    "start_time": "2024-05-31T14:28:57.569Z"
   },
   {
    "duration": 10,
    "start_time": "2024-05-31T14:28:57.818Z"
   },
   {
    "duration": 52,
    "start_time": "2024-05-31T14:28:57.829Z"
   },
   {
    "duration": 79,
    "start_time": "2024-05-31T14:28:57.883Z"
   },
   {
    "duration": 103,
    "start_time": "2024-05-31T14:28:57.964Z"
   },
   {
    "duration": 91,
    "start_time": "2024-05-31T14:28:58.071Z"
   },
   {
    "duration": 196,
    "start_time": "2024-05-31T14:28:58.165Z"
   },
   {
    "duration": 3,
    "start_time": "2024-05-31T14:28:58.363Z"
   },
   {
    "duration": 9,
    "start_time": "2024-05-31T14:28:58.367Z"
   },
   {
    "duration": 4,
    "start_time": "2024-05-31T14:28:58.378Z"
   },
   {
    "duration": 7,
    "start_time": "2024-05-31T14:28:58.383Z"
   },
   {
    "duration": 6,
    "start_time": "2024-05-31T14:28:58.391Z"
   },
   {
    "duration": 3939,
    "start_time": "2024-05-31T14:28:58.399Z"
   },
   {
    "duration": 40,
    "start_time": "2024-05-31T14:29:02.340Z"
   },
   {
    "duration": 4,
    "start_time": "2024-05-31T14:29:02.382Z"
   },
   {
    "duration": 4,
    "start_time": "2024-05-31T14:29:03.035Z"
   },
   {
    "duration": 4,
    "start_time": "2024-05-31T14:29:03.235Z"
   },
   {
    "duration": 4045,
    "start_time": "2024-05-31T14:29:04.685Z"
   },
   {
    "duration": 39,
    "start_time": "2024-05-31T14:29:08.732Z"
   },
   {
    "duration": 4,
    "start_time": "2024-05-31T14:30:58.737Z"
   },
   {
    "duration": 3,
    "start_time": "2024-05-31T14:31:00.251Z"
   },
   {
    "duration": 5,
    "start_time": "2024-05-31T14:31:00.335Z"
   },
   {
    "duration": 3884,
    "start_time": "2024-05-31T14:31:00.920Z"
   },
   {
    "duration": 30,
    "start_time": "2024-05-31T14:31:04.806Z"
   },
   {
    "duration": 5,
    "start_time": "2024-05-31T14:56:27.792Z"
   },
   {
    "duration": 3936,
    "start_time": "2024-05-31T14:56:30.347Z"
   },
   {
    "duration": 5,
    "start_time": "2024-05-31T14:58:12.119Z"
   },
   {
    "duration": 4,
    "start_time": "2024-05-31T14:58:18.455Z"
   },
   {
    "duration": 3880,
    "start_time": "2024-05-31T14:58:21.034Z"
   },
   {
    "duration": 4,
    "start_time": "2024-05-31T14:59:09.734Z"
   },
   {
    "duration": 4120,
    "start_time": "2024-05-31T14:59:12.866Z"
   },
   {
    "duration": 5,
    "start_time": "2024-05-31T14:59:40.827Z"
   },
   {
    "duration": 3841,
    "start_time": "2024-05-31T14:59:44.364Z"
   },
   {
    "duration": 5,
    "start_time": "2024-05-31T15:00:22.883Z"
   },
   {
    "duration": 6,
    "start_time": "2024-05-31T15:00:30.920Z"
   },
   {
    "duration": 3877,
    "start_time": "2024-05-31T15:00:33.425Z"
   },
   {
    "duration": 4,
    "start_time": "2024-05-31T15:00:53.817Z"
   },
   {
    "duration": 3826,
    "start_time": "2024-05-31T15:00:56.166Z"
   },
   {
    "duration": 5,
    "start_time": "2024-05-31T15:06:03.043Z"
   },
   {
    "duration": 130,
    "start_time": "2024-05-31T15:06:13.848Z"
   },
   {
    "duration": 3,
    "start_time": "2024-05-31T15:14:47.821Z"
   },
   {
    "duration": 11,
    "start_time": "2024-05-31T15:15:21.644Z"
   },
   {
    "duration": 12,
    "start_time": "2024-05-31T15:15:55.968Z"
   },
   {
    "duration": 9,
    "start_time": "2024-05-31T15:16:15.277Z"
   },
   {
    "duration": 12,
    "start_time": "2024-05-31T15:18:07.693Z"
   },
   {
    "duration": 13,
    "start_time": "2024-05-31T15:19:24.217Z"
   },
   {
    "duration": 18,
    "start_time": "2024-05-31T15:19:33.274Z"
   },
   {
    "duration": 10,
    "start_time": "2024-05-31T15:20:04.321Z"
   },
   {
    "duration": 18,
    "start_time": "2024-05-31T15:20:25.464Z"
   },
   {
    "duration": 20,
    "start_time": "2024-05-31T15:20:43.008Z"
   },
   {
    "duration": 20,
    "start_time": "2024-05-31T15:21:22.231Z"
   },
   {
    "duration": 1149,
    "start_time": "2024-05-31T15:21:26.274Z"
   },
   {
    "duration": 418,
    "start_time": "2024-05-31T15:21:27.426Z"
   },
   {
    "duration": 50,
    "start_time": "2024-05-31T15:21:27.845Z"
   },
   {
    "duration": 34,
    "start_time": "2024-05-31T15:21:27.896Z"
   },
   {
    "duration": 53,
    "start_time": "2024-05-31T15:21:27.932Z"
   },
   {
    "duration": 136,
    "start_time": "2024-05-31T15:21:27.987Z"
   },
   {
    "duration": 57,
    "start_time": "2024-05-31T15:21:28.125Z"
   },
   {
    "duration": 61,
    "start_time": "2024-05-31T15:21:28.184Z"
   },
   {
    "duration": 215,
    "start_time": "2024-05-31T15:21:28.247Z"
   },
   {
    "duration": 20,
    "start_time": "2024-05-31T15:21:28.463Z"
   },
   {
    "duration": 60,
    "start_time": "2024-05-31T15:21:28.484Z"
   },
   {
    "duration": 15,
    "start_time": "2024-05-31T15:21:28.545Z"
   },
   {
    "duration": 121,
    "start_time": "2024-05-31T15:21:28.562Z"
   },
   {
    "duration": 102,
    "start_time": "2024-05-31T15:21:28.687Z"
   },
   {
    "duration": 194,
    "start_time": "2024-05-31T15:21:28.791Z"
   },
   {
    "duration": 8,
    "start_time": "2024-05-31T15:21:28.987Z"
   },
   {
    "duration": 11,
    "start_time": "2024-05-31T15:21:28.997Z"
   },
   {
    "duration": 4,
    "start_time": "2024-05-31T15:21:29.009Z"
   },
   {
    "duration": 24,
    "start_time": "2024-05-31T15:21:29.015Z"
   },
   {
    "duration": 28,
    "start_time": "2024-05-31T15:21:29.041Z"
   },
   {
    "duration": 3885,
    "start_time": "2024-05-31T15:21:29.071Z"
   },
   {
    "duration": 4,
    "start_time": "2024-05-31T15:21:32.958Z"
   },
   {
    "duration": 25,
    "start_time": "2024-05-31T15:21:32.964Z"
   },
   {
    "duration": 114,
    "start_time": "2024-05-31T15:21:32.991Z"
   },
   {
    "duration": 0,
    "start_time": "2024-05-31T15:21:33.108Z"
   },
   {
    "duration": 22,
    "start_time": "2024-05-31T15:24:50.229Z"
   },
   {
    "duration": 19,
    "start_time": "2024-05-31T15:25:37.436Z"
   },
   {
    "duration": 24,
    "start_time": "2024-05-31T15:25:50.415Z"
   },
   {
    "duration": 16,
    "start_time": "2024-05-31T15:26:18.986Z"
   },
   {
    "duration": 5,
    "start_time": "2024-05-31T15:44:21.514Z"
   },
   {
    "duration": 2267,
    "start_time": "2024-05-31T15:44:35.324Z"
   },
   {
    "duration": 3,
    "start_time": "2024-05-31T15:45:54.728Z"
   },
   {
    "duration": 814,
    "start_time": "2024-05-31T15:46:02.465Z"
   },
   {
    "duration": 3,
    "start_time": "2024-05-31T15:48:27.200Z"
   },
   {
    "duration": 6,
    "start_time": "2024-05-31T15:48:53.061Z"
   },
   {
    "duration": 887,
    "start_time": "2024-05-31T15:48:54.185Z"
   },
   {
    "duration": 839,
    "start_time": "2024-05-31T15:49:17.402Z"
   },
   {
    "duration": 2457,
    "start_time": "2024-05-31T15:49:38.929Z"
   },
   {
    "duration": 3,
    "start_time": "2024-05-31T15:51:23.673Z"
   },
   {
    "duration": 6,
    "start_time": "2024-05-31T15:51:37.618Z"
   },
   {
    "duration": 670,
    "start_time": "2024-05-31T15:51:38.651Z"
   },
   {
    "duration": 6,
    "start_time": "2024-05-31T15:51:57.090Z"
   },
   {
    "duration": 1913,
    "start_time": "2024-05-31T15:52:00.189Z"
   },
   {
    "duration": 3,
    "start_time": "2024-05-31T15:52:48.539Z"
   },
   {
    "duration": 5,
    "start_time": "2024-05-31T15:53:21.429Z"
   },
   {
    "duration": 749,
    "start_time": "2024-05-31T15:53:22.501Z"
   },
   {
    "duration": 3,
    "start_time": "2024-05-31T15:55:24.385Z"
   },
   {
    "duration": 6,
    "start_time": "2024-05-31T15:55:30.132Z"
   },
   {
    "duration": 1905,
    "start_time": "2024-05-31T15:55:31.344Z"
   },
   {
    "duration": 1903,
    "start_time": "2024-05-31T15:55:38.680Z"
   },
   {
    "duration": 175,
    "start_time": "2024-05-31T15:56:36.781Z"
   },
   {
    "duration": 125,
    "start_time": "2024-05-31T15:56:46.704Z"
   },
   {
    "duration": 17,
    "start_time": "2024-05-31T15:59:31.078Z"
   },
   {
    "duration": 15,
    "start_time": "2024-05-31T16:00:47.136Z"
   },
   {
    "duration": 18,
    "start_time": "2024-05-31T16:01:03.683Z"
   },
   {
    "duration": 9,
    "start_time": "2024-05-31T16:01:09.406Z"
   },
   {
    "duration": 11,
    "start_time": "2024-05-31T16:01:25.574Z"
   },
   {
    "duration": 11,
    "start_time": "2024-05-31T16:01:41.222Z"
   },
   {
    "duration": 11,
    "start_time": "2024-05-31T16:01:52.908Z"
   },
   {
    "duration": 13,
    "start_time": "2024-05-31T16:02:45.517Z"
   },
   {
    "duration": 13,
    "start_time": "2024-05-31T16:02:58.787Z"
   },
   {
    "duration": 13,
    "start_time": "2024-05-31T16:03:20.793Z"
   },
   {
    "duration": 4,
    "start_time": "2024-05-31T16:04:41.755Z"
   },
   {
    "duration": 1906,
    "start_time": "2024-05-31T16:04:42.298Z"
   },
   {
    "duration": 1166,
    "start_time": "2024-05-31T16:05:26.943Z"
   },
   {
    "duration": 421,
    "start_time": "2024-05-31T16:05:28.111Z"
   },
   {
    "duration": 56,
    "start_time": "2024-05-31T16:05:28.536Z"
   },
   {
    "duration": 26,
    "start_time": "2024-05-31T16:05:28.594Z"
   },
   {
    "duration": 27,
    "start_time": "2024-05-31T16:05:28.621Z"
   },
   {
    "duration": 157,
    "start_time": "2024-05-31T16:05:28.649Z"
   },
   {
    "duration": 45,
    "start_time": "2024-05-31T16:05:28.808Z"
   },
   {
    "duration": 82,
    "start_time": "2024-05-31T16:05:28.854Z"
   },
   {
    "duration": 252,
    "start_time": "2024-05-31T16:05:28.938Z"
   },
   {
    "duration": 10,
    "start_time": "2024-05-31T16:05:29.192Z"
   },
   {
    "duration": 53,
    "start_time": "2024-05-31T16:05:29.203Z"
   },
   {
    "duration": 31,
    "start_time": "2024-05-31T16:05:29.258Z"
   },
   {
    "duration": 191,
    "start_time": "2024-05-31T16:05:29.293Z"
   },
   {
    "duration": 97,
    "start_time": "2024-05-31T16:05:29.486Z"
   },
   {
    "duration": 104,
    "start_time": "2024-05-31T16:05:29.586Z"
   },
   {
    "duration": 5,
    "start_time": "2024-05-31T16:05:29.782Z"
   },
   {
    "duration": 10,
    "start_time": "2024-05-31T16:05:29.789Z"
   },
   {
    "duration": 3,
    "start_time": "2024-05-31T16:05:29.801Z"
   },
   {
    "duration": 9,
    "start_time": "2024-05-31T16:05:29.805Z"
   },
   {
    "duration": 21,
    "start_time": "2024-05-31T16:05:29.816Z"
   },
   {
    "duration": 1897,
    "start_time": "2024-05-31T16:05:29.838Z"
   },
   {
    "duration": 12,
    "start_time": "2024-05-31T16:05:31.737Z"
   },
   {
    "duration": 649,
    "start_time": "2024-05-31T16:05:31.750Z"
   },
   {
    "duration": 28,
    "start_time": "2024-05-31T16:05:32.401Z"
   },
   {
    "duration": 1127,
    "start_time": "2024-05-31T16:06:51.049Z"
   },
   {
    "duration": 437,
    "start_time": "2024-05-31T16:06:52.177Z"
   },
   {
    "duration": 44,
    "start_time": "2024-05-31T16:06:52.615Z"
   },
   {
    "duration": 40,
    "start_time": "2024-05-31T16:06:52.661Z"
   },
   {
    "duration": 41,
    "start_time": "2024-05-31T16:06:52.703Z"
   },
   {
    "duration": 150,
    "start_time": "2024-05-31T16:06:52.746Z"
   },
   {
    "duration": 44,
    "start_time": "2024-05-31T16:06:52.898Z"
   },
   {
    "duration": 89,
    "start_time": "2024-05-31T16:06:52.944Z"
   },
   {
    "duration": 237,
    "start_time": "2024-05-31T16:06:53.034Z"
   },
   {
    "duration": 9,
    "start_time": "2024-05-31T16:06:53.283Z"
   },
   {
    "duration": 36,
    "start_time": "2024-05-31T16:06:53.294Z"
   },
   {
    "duration": 51,
    "start_time": "2024-05-31T16:06:53.332Z"
   },
   {
    "duration": 98,
    "start_time": "2024-05-31T16:06:53.385Z"
   },
   {
    "duration": 96,
    "start_time": "2024-05-31T16:06:53.488Z"
   },
   {
    "duration": 101,
    "start_time": "2024-05-31T16:06:53.587Z"
   },
   {
    "duration": 89,
    "start_time": "2024-05-31T16:06:53.693Z"
   },
   {
    "duration": 17,
    "start_time": "2024-05-31T16:06:53.784Z"
   },
   {
    "duration": 17,
    "start_time": "2024-05-31T16:06:53.803Z"
   },
   {
    "duration": 28,
    "start_time": "2024-05-31T16:06:53.822Z"
   },
   {
    "duration": 25,
    "start_time": "2024-05-31T16:06:53.851Z"
   },
   {
    "duration": 1960,
    "start_time": "2024-05-31T16:06:53.878Z"
   },
   {
    "duration": 14,
    "start_time": "2024-05-31T16:06:55.840Z"
   },
   {
    "duration": 1117,
    "start_time": "2024-05-31T16:23:28.660Z"
   },
   {
    "duration": 455,
    "start_time": "2024-05-31T16:23:29.779Z"
   },
   {
    "duration": 46,
    "start_time": "2024-05-31T16:23:30.236Z"
   },
   {
    "duration": 25,
    "start_time": "2024-05-31T16:23:30.284Z"
   },
   {
    "duration": 53,
    "start_time": "2024-05-31T16:23:30.310Z"
   },
   {
    "duration": 124,
    "start_time": "2024-05-31T16:23:30.364Z"
   },
   {
    "duration": 45,
    "start_time": "2024-05-31T16:23:30.489Z"
   },
   {
    "duration": 138,
    "start_time": "2024-05-31T16:23:30.536Z"
   },
   {
    "duration": 227,
    "start_time": "2024-05-31T16:23:30.676Z"
   },
   {
    "duration": 8,
    "start_time": "2024-05-31T16:23:30.906Z"
   },
   {
    "duration": 64,
    "start_time": "2024-05-31T16:23:30.916Z"
   },
   {
    "duration": 29,
    "start_time": "2024-05-31T16:23:30.981Z"
   },
   {
    "duration": 208,
    "start_time": "2024-05-31T16:23:31.011Z"
   },
   {
    "duration": 201,
    "start_time": "2024-05-31T16:23:31.225Z"
   },
   {
    "duration": 65,
    "start_time": "2024-05-31T16:23:31.429Z"
   },
   {
    "duration": 48,
    "start_time": "2024-05-31T16:23:31.583Z"
   },
   {
    "duration": 27,
    "start_time": "2024-05-31T16:23:31.633Z"
   },
   {
    "duration": 14,
    "start_time": "2024-05-31T16:23:31.662Z"
   },
   {
    "duration": 20,
    "start_time": "2024-05-31T16:23:31.677Z"
   },
   {
    "duration": 27,
    "start_time": "2024-05-31T16:23:31.699Z"
   },
   {
    "duration": 1935,
    "start_time": "2024-05-31T16:23:31.728Z"
   },
   {
    "duration": 20,
    "start_time": "2024-05-31T16:23:33.664Z"
   },
   {
    "duration": 3717,
    "start_time": "2024-05-31T19:13:48.070Z"
   },
   {
    "duration": 1781,
    "start_time": "2024-05-31T19:13:51.789Z"
   },
   {
    "duration": 42,
    "start_time": "2024-05-31T19:13:53.571Z"
   },
   {
    "duration": 25,
    "start_time": "2024-05-31T19:13:53.616Z"
   },
   {
    "duration": 24,
    "start_time": "2024-05-31T19:13:53.642Z"
   },
   {
    "duration": 151,
    "start_time": "2024-05-31T19:13:53.668Z"
   },
   {
    "duration": 43,
    "start_time": "2024-05-31T19:13:53.820Z"
   },
   {
    "duration": 81,
    "start_time": "2024-05-31T19:13:53.865Z"
   },
   {
    "duration": 222,
    "start_time": "2024-05-31T19:13:53.948Z"
   },
   {
    "duration": 8,
    "start_time": "2024-05-31T19:13:54.173Z"
   },
   {
    "duration": 29,
    "start_time": "2024-05-31T19:13:54.199Z"
   },
   {
    "duration": 72,
    "start_time": "2024-05-31T19:13:54.230Z"
   },
   {
    "duration": 100,
    "start_time": "2024-05-31T19:13:54.304Z"
   },
   {
    "duration": 100,
    "start_time": "2024-05-31T19:13:54.406Z"
   },
   {
    "duration": 193,
    "start_time": "2024-05-31T19:13:54.508Z"
   },
   {
    "duration": 3,
    "start_time": "2024-05-31T19:13:54.702Z"
   },
   {
    "duration": 6,
    "start_time": "2024-05-31T19:13:54.707Z"
   },
   {
    "duration": 3,
    "start_time": "2024-05-31T19:13:54.715Z"
   },
   {
    "duration": 4,
    "start_time": "2024-05-31T19:13:54.719Z"
   },
   {
    "duration": 5,
    "start_time": "2024-05-31T19:13:54.724Z"
   },
   {
    "duration": 1771,
    "start_time": "2024-05-31T19:13:54.731Z"
   },
   {
    "duration": 12,
    "start_time": "2024-05-31T19:13:56.504Z"
   },
   {
    "duration": 3,
    "start_time": "2024-05-31T19:14:45.082Z"
   },
   {
    "duration": 400,
    "start_time": "2024-05-31T19:14:45.087Z"
   },
   {
    "duration": 37,
    "start_time": "2024-05-31T19:14:45.489Z"
   },
   {
    "duration": 24,
    "start_time": "2024-05-31T19:14:45.528Z"
   },
   {
    "duration": 46,
    "start_time": "2024-05-31T19:14:45.554Z"
   },
   {
    "duration": 126,
    "start_time": "2024-05-31T19:14:45.602Z"
   },
   {
    "duration": 43,
    "start_time": "2024-05-31T19:14:45.729Z"
   },
   {
    "duration": 73,
    "start_time": "2024-05-31T19:14:45.773Z"
   },
   {
    "duration": 246,
    "start_time": "2024-05-31T19:14:45.848Z"
   },
   {
    "duration": 6,
    "start_time": "2024-05-31T19:14:46.099Z"
   },
   {
    "duration": 23,
    "start_time": "2024-05-31T19:14:46.107Z"
   },
   {
    "duration": 11,
    "start_time": "2024-05-31T19:14:46.131Z"
   },
   {
    "duration": 160,
    "start_time": "2024-05-31T19:14:46.144Z"
   },
   {
    "duration": 91,
    "start_time": "2024-05-31T19:14:46.309Z"
   },
   {
    "duration": 99,
    "start_time": "2024-05-31T19:14:46.403Z"
   },
   {
    "duration": 95,
    "start_time": "2024-05-31T19:14:46.504Z"
   },
   {
    "duration": 5,
    "start_time": "2024-05-31T19:14:46.601Z"
   },
   {
    "duration": 4,
    "start_time": "2024-05-31T19:14:46.608Z"
   },
   {
    "duration": 4,
    "start_time": "2024-05-31T19:14:46.613Z"
   },
   {
    "duration": 5,
    "start_time": "2024-05-31T19:14:46.618Z"
   },
   {
    "duration": 1655,
    "start_time": "2024-05-31T19:14:46.624Z"
   },
   {
    "duration": 11,
    "start_time": "2024-05-31T19:14:48.281Z"
   },
   {
    "duration": 4,
    "start_time": "2024-05-31T19:15:02.555Z"
   },
   {
    "duration": 93,
    "start_time": "2024-05-31T19:15:15.527Z"
   },
   {
    "duration": 4,
    "start_time": "2024-05-31T19:15:27.534Z"
   },
   {
    "duration": 10,
    "start_time": "2024-05-31T19:15:29.632Z"
   },
   {
    "duration": 5,
    "start_time": "2024-05-31T19:15:47.478Z"
   },
   {
    "duration": 1731,
    "start_time": "2024-05-31T19:15:47.646Z"
   },
   {
    "duration": 5,
    "start_time": "2024-05-31T19:18:28.753Z"
   },
   {
    "duration": 1652,
    "start_time": "2024-05-31T19:18:29.043Z"
   },
   {
    "duration": 3,
    "start_time": "2024-05-31T19:18:36.179Z"
   },
   {
    "duration": 5,
    "start_time": "2024-05-31T19:18:37.688Z"
   },
   {
    "duration": 1650,
    "start_time": "2024-05-31T19:18:37.870Z"
   },
   {
    "duration": 1134,
    "start_time": "2024-05-31T19:58:03.677Z"
   },
   {
    "duration": 414,
    "start_time": "2024-05-31T19:58:04.813Z"
   },
   {
    "duration": 54,
    "start_time": "2024-05-31T19:58:05.228Z"
   },
   {
    "duration": 25,
    "start_time": "2024-05-31T19:58:05.284Z"
   },
   {
    "duration": 34,
    "start_time": "2024-05-31T19:58:05.310Z"
   },
   {
    "duration": 138,
    "start_time": "2024-05-31T19:58:05.346Z"
   },
   {
    "duration": 42,
    "start_time": "2024-05-31T19:58:05.486Z"
   },
   {
    "duration": 81,
    "start_time": "2024-05-31T19:58:05.529Z"
   },
   {
    "duration": 219,
    "start_time": "2024-05-31T19:58:05.611Z"
   },
   {
    "duration": 10,
    "start_time": "2024-05-31T19:58:05.834Z"
   },
   {
    "duration": 62,
    "start_time": "2024-05-31T19:58:05.846Z"
   },
   {
    "duration": 21,
    "start_time": "2024-05-31T19:58:05.910Z"
   },
   {
    "duration": 101,
    "start_time": "2024-05-31T19:58:05.983Z"
   },
   {
    "duration": 197,
    "start_time": "2024-05-31T19:58:06.087Z"
   },
   {
    "duration": 99,
    "start_time": "2024-05-31T19:58:06.287Z"
   },
   {
    "duration": 18,
    "start_time": "2024-05-31T19:58:06.388Z"
   },
   {
    "duration": 20,
    "start_time": "2024-05-31T19:58:06.407Z"
   },
   {
    "duration": 7,
    "start_time": "2024-05-31T19:58:06.428Z"
   },
   {
    "duration": 10,
    "start_time": "2024-05-31T19:58:06.436Z"
   },
   {
    "duration": 5,
    "start_time": "2024-05-31T19:58:06.447Z"
   },
   {
    "duration": 1976,
    "start_time": "2024-05-31T19:58:06.453Z"
   },
   {
    "duration": 12,
    "start_time": "2024-05-31T19:58:08.431Z"
   },
   {
    "duration": 1065,
    "start_time": "2024-05-31T20:00:40.937Z"
   },
   {
    "duration": 429,
    "start_time": "2024-05-31T20:00:42.004Z"
   },
   {
    "duration": 57,
    "start_time": "2024-05-31T20:00:42.435Z"
   },
   {
    "duration": 28,
    "start_time": "2024-05-31T20:00:42.495Z"
   },
   {
    "duration": 58,
    "start_time": "2024-05-31T20:00:42.525Z"
   },
   {
    "duration": 140,
    "start_time": "2024-05-31T20:00:42.585Z"
   },
   {
    "duration": 42,
    "start_time": "2024-05-31T20:00:42.726Z"
   },
   {
    "duration": 72,
    "start_time": "2024-05-31T20:00:42.769Z"
   },
   {
    "duration": 230,
    "start_time": "2024-05-31T20:00:42.842Z"
   },
   {
    "duration": 9,
    "start_time": "2024-05-31T20:00:43.084Z"
   },
   {
    "duration": 39,
    "start_time": "2024-05-31T20:00:43.094Z"
   },
   {
    "duration": 48,
    "start_time": "2024-05-31T20:00:43.135Z"
   },
   {
    "duration": 98,
    "start_time": "2024-05-31T20:00:43.185Z"
   },
   {
    "duration": 199,
    "start_time": "2024-05-31T20:00:43.286Z"
   },
   {
    "duration": 97,
    "start_time": "2024-05-31T20:00:43.487Z"
   },
   {
    "duration": 12,
    "start_time": "2024-05-31T20:00:43.681Z"
   },
   {
    "duration": 12,
    "start_time": "2024-05-31T20:00:43.695Z"
   },
   {
    "duration": 15,
    "start_time": "2024-05-31T20:00:43.708Z"
   },
   {
    "duration": 12,
    "start_time": "2024-05-31T20:00:43.725Z"
   },
   {
    "duration": 10,
    "start_time": "2024-05-31T20:00:43.739Z"
   },
   {
    "duration": 2011,
    "start_time": "2024-05-31T20:00:43.750Z"
   },
   {
    "duration": 21,
    "start_time": "2024-05-31T20:00:45.762Z"
   },
   {
    "duration": 56,
    "start_time": "2024-05-31T20:12:20.821Z"
   },
   {
    "duration": 49,
    "start_time": "2024-06-01T09:09:39.967Z"
   }
  ],
  "kernelspec": {
   "display_name": "Python 3 (ipykernel)",
   "language": "python",
   "name": "python3"
  },
  "language_info": {
   "codemirror_mode": {
    "name": "ipython",
    "version": 3
   },
   "file_extension": ".py",
   "mimetype": "text/x-python",
   "name": "python",
   "nbconvert_exporter": "python",
   "pygments_lexer": "ipython3",
   "version": "3.9.5"
  },
  "toc": {
   "base_numbering": 1,
   "nav_menu": {},
   "number_sections": true,
   "sideBar": true,
   "skip_h1_title": true,
   "title_cell": "Table of Contents",
   "title_sidebar": "Contents",
   "toc_cell": false,
   "toc_position": {},
   "toc_section_display": true,
   "toc_window_display": true
  }
 },
 "nbformat": 4,
 "nbformat_minor": 2
}
