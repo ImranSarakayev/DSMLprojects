{
 "cells": [
  {
   "cell_type": "markdown",
   "metadata": {},
   "source": [
    "<div style=\"border:solid Chocolate 2px; padding: 40px\">\n",
    "\n",
    "<b> Имран, привет!👋</b>\n",
    "\n",
    "Меня зовут Алексей, и я буду ревьюером твоего проекта. \n",
    "\n",
    "Сразу хочу предложить в дальнейшем общаться на \"ты\" - надеюсь, так будет комфортнее:) Но если это неудобно, обязательно дай знать, и мы придумаем что-нибудь ещё!\n",
    "    \n",
    "Цель ревью - не искать ошибки в твоём проекте, а помочь тебе сделать твою работу ещё лучше, устранив недочёты и приблизив её к реальным задачам специалиста по работе с данными. Поэтому не расстраивайся, если что-то не получилось с первого раза - это нормально, и это поможет тебе вырасти!\n",
    "    \n",
    "Ты можешь найти мои комментарии, обозначенные <font color='green'>зеленым</font>, <font color='gold'>желтым</font> и <font color='red'>красным</font> цветами, например:\n",
    "\n",
    "<br/>\n",
    "\n",
    "<div class=\"alert alert-success\">\n",
    "<h2> Комментарий ревьюера <a class=\"tocSkip\"> </h2>\n",
    "\n",
    "<b>Все отлично!👍:</b> похвала, рекомендации «со звёздочкой», полезные лайфхаки, которые сделают и без того красивое решение ещё более элегантным.\n",
    "</div>\n",
    "\n",
    "<br/>\n",
    "\n",
    "<div class=\"alert alert-warning\">\n",
    "    <h2> Комментарий ревьюера <a class=\"tocSkip\"> </h2>\n",
    "    \n",
    "<b>Некоторые замечания и рекомендации⚠️:</b> некритичные ошибки или развивающие рекомендации на будущее. \n",
    "</div>\n",
    "\n",
    "\n",
    "<br/>\n",
    "<div class=\"alert alert-block alert-danger\">\n",
    "<h2> Комментарий ревьюера <a class=\"tocSkip\"></h2>\n",
    "\n",
    "    \n",
    "<b>На доработку❌:</b>\n",
    "критичные ошибки, которые обязательно нужно исправить.\n",
    "</div>\n",
    "\n",
    "    \n",
    "Пожалуйста, не удаляй мои комментарии, они будут особенно полезны для нашей работы в случае повторной проверки проекта. \n",
    "    \n",
    "Ты также можешь задавать свои вопросы, реагировать на мои комментарии, делать пометки и пояснения - полная творческая свобода! Но маленькая просьба - пускай они будут отличаться от моих комментариев, это поможет избежать путаницы в нашем общении:)\n",
    "Например, вот так:\n",
    "    \n",
    "<div class=\"alert alert-info\">\n",
    "<h2> Комментарий студента <a class=\"tocSkip\"> </h2>\n",
    "\n",
    "*твой текст*\n",
    "</div>\n",
    "    \n",
    "Давай посмотрим на твой проект!"
   ]
  },
  {
   "cell_type": "markdown",
   "metadata": {},
   "source": [
    "<div class=\"alert alert-info\">\n",
    "<h2> Комментарий студента <a class=\"tocSkip\"> </h2>\n",
    "\n",
    "Алексей, привет! Приятно познакомиться, на \"ты\" - без проблем.\n",
    "</div>"
   ]
  },
  {
   "cell_type": "markdown",
   "metadata": {
    "toc": true
   },
   "source": [
    "<h1>Содержание<span class=\"tocSkip\"></span></h1>\n",
    "<div class=\"toc\"><ul class=\"toc-item\"><li><span><a href=\"#Описание-задачи:-восстановление-золота-из-руды\" data-toc-modified-id=\"Описание-задачи:-восстановление-золота-из-руды-1\"><span class=\"toc-item-num\">1&nbsp;&nbsp;</span>Описание задачи: восстановление золота из руды</a></span><ul class=\"toc-item\"><li><span><a href=\"#Инструкция\" data-toc-modified-id=\"Инструкция-1.1\"><span class=\"toc-item-num\">1.1&nbsp;&nbsp;</span>Инструкция</a></span></li></ul></li><li><span><a href=\"#Подготовка-данных\" data-toc-modified-id=\"Подготовка-данных-2\"><span class=\"toc-item-num\">2&nbsp;&nbsp;</span>Подготовка данных</a></span><ul class=\"toc-item\"><li><span><a href=\"#Загрузка-данных\" data-toc-modified-id=\"Загрузка-данных-2.1\"><span class=\"toc-item-num\">2.1&nbsp;&nbsp;</span>Загрузка данных</a></span></li><li><span><a href=\"#Рассчитаем-эффективность-обогащения-для-rougher.output.recovery-на-выборке-train\" data-toc-modified-id=\"Рассчитаем-эффективность-обогащения-для-rougher.output.recovery-на-выборке-train-2.2\"><span class=\"toc-item-num\">2.2&nbsp;&nbsp;</span>Рассчитаем эффективность обогащения для rougher.output.recovery на выборке train</a></span></li><li><span><a href=\"#Вглянем-на-стобцы,-которые-есть-в-train-и-отсутствуют-в-test:\" data-toc-modified-id=\"Вглянем-на-стобцы,-которые-есть-в-train-и-отсутствуют-в-test:-2.3\"><span class=\"toc-item-num\">2.3&nbsp;&nbsp;</span>Вглянем на стобцы, которые есть в train и отсутствуют в test:</a></span></li><li><span><a href=\"#Предобработка-данных\" data-toc-modified-id=\"Предобработка-данных-2.4\"><span class=\"toc-item-num\">2.4&nbsp;&nbsp;</span>Предобработка данных</a></span></li><li><span><a href=\"#Итоги-этапа-Подготовка-данных\" data-toc-modified-id=\"Итоги-этапа-Подготовка-данных-2.5\"><span class=\"toc-item-num\">2.5&nbsp;&nbsp;</span>Итоги этапа Подготовка данных</a></span></li></ul></li><li><span><a href=\"#Анализ-данных\" data-toc-modified-id=\"Анализ-данных-3\"><span class=\"toc-item-num\">3&nbsp;&nbsp;</span>Анализ данных</a></span><ul class=\"toc-item\"><li><span><a href=\"#Наблюдаем-за-динамикой-концентрации-металлов-на-различных-этапах\" data-toc-modified-id=\"Наблюдаем-за-динамикой-концентрации-металлов-на-различных-этапах-3.1\"><span class=\"toc-item-num\">3.1&nbsp;&nbsp;</span>Наблюдаем за динамикой концентрации металлов на различных этапах</a></span></li><li><span><a href=\"#Сравнительный-анализ-распределения-размера-гранул-исходного-сырья-на-обучающей-и-тестовой-выборках\" data-toc-modified-id=\"Сравнительный-анализ-распределения-размера-гранул-исходного-сырья-на-обучающей-и-тестовой-выборках-3.2\"><span class=\"toc-item-num\">3.2&nbsp;&nbsp;</span>Сравнительный анализ распределения размера гранул исходного сырья на обучающей и тестовой выборках</a></span></li><li><span><a href=\"#Смотрим-суммарную-концентрацию-металлов-на-разных-стадиях-процесса\" data-toc-modified-id=\"Смотрим-суммарную-концентрацию-металлов-на-разных-стадиях-процесса-3.3\"><span class=\"toc-item-num\">3.3&nbsp;&nbsp;</span>Смотрим суммарную концентрацию металлов на разных стадиях процесса</a></span></li><li><span><a href=\"#Итоги-этапа-Анализ-данных\" data-toc-modified-id=\"Итоги-этапа-Анализ-данных-3.4\"><span class=\"toc-item-num\">3.4&nbsp;&nbsp;</span>Итоги этапа Анализ данных</a></span></li></ul></li><li><span><a href=\"#Модель\" data-toc-modified-id=\"Модель-4\"><span class=\"toc-item-num\">4&nbsp;&nbsp;</span>Модель</a></span><ul class=\"toc-item\"><li><span><a href=\"#Подготовим-выборки-для-моделей\" data-toc-modified-id=\"Подготовим-выборки-для-моделей-4.1\"><span class=\"toc-item-num\">4.1&nbsp;&nbsp;</span>Подготовим выборки для моделей</a></span></li><li><span><a href=\"#Создание-функций-для-sMAPE\" data-toc-modified-id=\"Создание-функций-для-sMAPE-4.2\"><span class=\"toc-item-num\">4.2&nbsp;&nbsp;</span>Создание функций для sMAPE</a></span></li><li><span><a href=\"#Выбор-лучшей-модели\" data-toc-modified-id=\"Выбор-лучшей-модели-4.3\"><span class=\"toc-item-num\">4.3&nbsp;&nbsp;</span>Выбор лучшей модели</a></span><ul class=\"toc-item\"><li><span><a href=\"#Дерево-решений\" data-toc-modified-id=\"Дерево-решений-4.3.1\"><span class=\"toc-item-num\">4.3.1&nbsp;&nbsp;</span>Дерево решений</a></span></li><li><span><a href=\"#Случайный-лес\" data-toc-modified-id=\"Случайный-лес-4.3.2\"><span class=\"toc-item-num\">4.3.2&nbsp;&nbsp;</span>Случайный лес</a></span></li><li><span><a href=\"#Линейная-регрессия\" data-toc-modified-id=\"Линейная-регрессия-4.3.3\"><span class=\"toc-item-num\">4.3.3&nbsp;&nbsp;</span>Линейная регрессия</a></span></li><li><span><a href=\"#Регрессия-Лассо\" data-toc-modified-id=\"Регрессия-Лассо-4.3.4\"><span class=\"toc-item-num\">4.3.4&nbsp;&nbsp;</span>Регрессия Лассо</a></span></li><li><span><a href=\"#Гребневая-регрессия\" data-toc-modified-id=\"Гребневая-регрессия-4.3.5\"><span class=\"toc-item-num\">4.3.5&nbsp;&nbsp;</span>Гребневая регрессия</a></span></li><li><span><a href=\"#Регрессия-Эластичная-сеть\" data-toc-modified-id=\"Регрессия-Эластичная-сеть-4.3.6\"><span class=\"toc-item-num\">4.3.6&nbsp;&nbsp;</span>Регрессия Эластичная сеть</a></span></li></ul></li><li><span><a href=\"#Лучшая-модель-и-итоговое-тестирование\" data-toc-modified-id=\"Лучшая-модель-и-итоговое-тестирование-4.4\"><span class=\"toc-item-num\">4.4&nbsp;&nbsp;</span>Лучшая модель и итоговое тестирование</a></span><ul class=\"toc-item\"><li><span><a href=\"#Выбор-лучшей-модели\" data-toc-modified-id=\"Выбор-лучшей-модели-4.4.1\"><span class=\"toc-item-num\">4.4.1&nbsp;&nbsp;</span>Выбор лучшей модели</a></span></li><li><span><a href=\"#Тестирование-модели-на-выборке-test\" data-toc-modified-id=\"Тестирование-модели-на-выборке-test-4.4.2\"><span class=\"toc-item-num\">4.4.2&nbsp;&nbsp;</span>Тестирование модели на выборке test</a></span></li></ul></li></ul></li><li><span><a href=\"#Итоги-проекта\" data-toc-modified-id=\"Итоги-проекта-5\"><span class=\"toc-item-num\">5&nbsp;&nbsp;</span>Итоги проекта</a></span></li><li><span><a href=\"#Комментарий-ревьюера:-общий-вывод-по-проекту.\" data-toc-modified-id=\"Комментарий-ревьюера:-общий-вывод-по-проекту.-6\"><span class=\"toc-item-num\">6&nbsp;&nbsp;</span>Комментарий ревьюера: общий вывод по проекту.</a></span></li><li><span><a href=\"#Комментарий-ревьюера:-итоговый-вывод-по-проекту.\" data-toc-modified-id=\"Комментарий-ревьюера:-итоговый-вывод-по-проекту.-7\"><span class=\"toc-item-num\">7&nbsp;&nbsp;</span>Комментарий ревьюера: итоговый вывод по проекту.</a></span></li></ul></div>"
   ]
  },
  {
   "cell_type": "markdown",
   "metadata": {},
   "source": [
    "# Описание задачи: восстановление золота из руды"
   ]
  },
  {
   "cell_type": "markdown",
   "metadata": {},
   "source": [
    "Подготовьте прототип модели машинного обучения для «Цифры». Компания разрабатывает решения для эффективной работы промышленных предприятий.\n",
    "\n",
    "Модель должна предсказать коэффициент восстановления золота из золотосодержащей руды. Используйте данные с параметрами добычи и очистки. \n",
    "\n",
    "Модель поможет оптимизировать производство, чтобы не запускать предприятие с убыточными характеристиками.\n",
    "\n",
    "Вам нужно:\n",
    "\n",
    "1. Подготовить данные;\n",
    "2. Провести исследовательский анализ данных;\n",
    "3. Построить и обучить модель.\n",
    "\n",
    "Чтобы выполнить проект, обращайтесь к библиотекам *pandas*, *matplotlib* и *sklearn.* Вам поможет их документация."
   ]
  },
  {
   "cell_type": "markdown",
   "metadata": {},
   "source": [
    "## Инструкция"
   ]
  },
  {
   "cell_type": "markdown",
   "metadata": {},
   "source": [
    "Инструкция по выполнению проекта\n",
    "1. Подготовьте данные\\\n",
    "    1.1. Откройте файлы и изучите их.\\\n",
    "    1.2. Проверьте, что эффективность обогащения рассчитана правильно. Вычислите её на обучающей выборке для признака rougher.output.recovery. Найдите MAE между вашими расчётами и значением признака. Опишите выводы.\\\n",
    "    1.3. Проанализируйте признаки, недоступные в тестовой выборке. Что это за параметры? К какому типу относятся?\\\n",
    "    1.4. Проведите предобработку данных.\n",
    "    \n",
    "    \n",
    "2. Проанализируйте данные\\\n",
    "    2.1. Посмотрите, как меняется концентрация металлов (Au, Ag, Pb) на различных этапах: в сырье, в черновом концентрате, в концентрате после первой очистки и в финальном концентрате. Какие особенности имеют распределения? Опишите выводы.\\\n",
    "    2.2.  Сравните распределения размеров гранул исходного сырья на обучающей и тестовой выборках. Если распределения сильно отличаются друг от друга, оценка модели будет неправильной.\\\n",
    "    2.3. Исследуйте суммарную концентрацию металлов на разных стадиях: в сырье, в черновом концентрате, в концентрате после первой очистки и в финальном концентрате.\n",
    "    \n",
    "    \n",
    "3. Постройте модель\\\n",
    "    3.1. Напишите функцию для вычисления итоговой sMAPE.\\\n",
    "    3.2. Обучите разные модели и оцените их качество кросс-валидацией. Выберите лучшую модель и проверьте её на тестовой выборке. Опишите выводы."
   ]
  },
  {
   "cell_type": "markdown",
   "metadata": {},
   "source": [
    "<div class=\"alert alert-success\">\n",
    "<h2> Комментарий ревьюера <a class=\"tocSkip\"> </h2>\n",
    "\n",
    "<b>Все отлично!👍:</b> Хорошее вступление!\n",
    "    \n",
    "В нём есть всё, что необходимо, чтобы понять суть проекта с первых строк отчёта!"
   ]
  },
  {
   "cell_type": "code",
   "execution_count": 1,
   "metadata": {},
   "outputs": [],
   "source": [
    "import pandas as pd\n",
    "import matplotlib.pyplot as plt\n",
    "import seaborn as sns\n",
    "import numpy as np\n",
    "#import sweetviz\n",
    "from ydata_profiling import ProfileReport\n",
    "from sklearn.tree import DecisionTreeRegressor\n",
    "from sklearn.ensemble import RandomForestRegressor\n",
    "from sklearn.linear_model import (Lasso, Ridge, ElasticNet, \n",
    "                                  LinearRegression)\n",
    "from sklearn.model_selection import (train_test_split, GridSearchCV,\n",
    "                                     cross_val_score, cross_val_predict)\n",
    "from sklearn.metrics import mean_absolute_error, make_scorer\n",
    "from sklearn.dummy import DummyRegressor\n",
    "from scipy.stats import ttest_ind"
   ]
  },
  {
   "cell_type": "code",
   "execution_count": 2,
   "metadata": {},
   "outputs": [],
   "source": [
    "import warnings\n",
    "warnings.filterwarnings('ignore')"
   ]
  },
  {
   "cell_type": "markdown",
   "metadata": {},
   "source": [
    "<div class=\"alert alert-success\">\n",
    "<h2> Комментарий ревьюера <a class=\"tocSkip\"> </h2>\n",
    "\n",
    "<b>Все отлично!👍:</b> Библиотеки импортировали - отлично!"
   ]
  },
  {
   "cell_type": "markdown",
   "metadata": {},
   "source": []
  },
  {
   "cell_type": "markdown",
   "metadata": {},
   "source": [
    "# Подготовка данных"
   ]
  },
  {
   "cell_type": "markdown",
   "metadata": {},
   "source": [
    "## Загрузка данных"
   ]
  },
  {
   "cell_type": "code",
   "execution_count": 3,
   "metadata": {},
   "outputs": [],
   "source": [
    "df_train = pd.read_csv('/datasets/gold_industry_train.csv', index_col = 'date')\n",
    "df_test = pd.read_csv('/datasets/gold_industry_test.csv', index_col = 'date')\n",
    "df_full = pd.read_csv('/datasets/gold_industry_full.csv', index_col = 'date')"
   ]
  },
  {
   "cell_type": "markdown",
   "metadata": {},
   "source": [
    "<div class=\"alert alert-success\">\n",
    "<h2> Комментарий ревьюера <a class=\"tocSkip\"> </h2>\n",
    "\n",
    "<b>Все отлично!👍</b> \n",
    "    \n",
    "Данные загрузили. Круто, что сразу задаёшь дату индексом:)\n",
    "    \n",
    "При считывании данных из файла здорово перестраховывать себя от ошибок, связанных, например, с неверным указанием пути к файлу. А иногда бывает, что работаешь с файлом локально, выгружаешь его на сервер, ожидая, что он будет принимать данные, которые лежат на том же сервере, а код падает с ошибкой, потому что путь к файлу не поменялся с локального на серверный.\n",
    "    \n",
    "Для этого, например, можно использовать конструкцию `try-except`: сначала пробуешь локальный путь, при возникновении ошибки используется серверный путь (подробнее можешь почитать тут: https://pythonworld.ru/tipy-dannyx-v-python/isklyucheniya-v-python-konstrukciya-try-except-dlya-obrabotki-isklyuchenij.html).\n",
    "    \n",
    "Но еще лучше использовать библиотеку `os` - её использование позволит тебе проверять существование указанных директорий (что может быть актуально при одновременной работа на локальном и сетевом окружении) и загружать данные из существующей директории, избегая ошибок. Как пример:\n",
    "    \n",
    "    import os\n",
    "\n",
    "    pth1 = '/folder_1/data.csv'\n",
    "    pth2 = '/folder_2/data.csv'\n",
    "    \n",
    "    if os.path.exists(pth1):\n",
    "        query_1 = pd.read_csv(pth1)\n",
    "    elif os.path.exists(pth2):\n",
    "        query_1 = pd.read_csv(pth2)\n",
    "    else:\n",
    "        print('Something is wrong')\n",
    "    \n",
    "Ещё на этапе считывания данных можно спарсить дату: за это действие отвечает параметр `parse_dates` метода `read_csv()`, в него нужно передать список с названием полей-дат, и в большинстве случаев дата будет корректно преобразована в нужный формат сразу:)"
   ]
  },
  {
   "cell_type": "code",
   "execution_count": 4,
   "metadata": {},
   "outputs": [
    {
     "name": "stdout",
     "output_type": "stream",
     "text": [
      "<class 'pandas.core.frame.DataFrame'>\n",
      "Index: 14579 entries, 2016-01-15 00:00:00 to 2017-12-09 13:59:59\n",
      "Data columns (total 86 columns):\n",
      " #   Column                                              Non-Null Count  Dtype  \n",
      "---  ------                                              --------------  -----  \n",
      " 0   rougher.input.feed_au                               14579 non-null  float64\n",
      " 1   rougher.input.feed_ag                               14579 non-null  float64\n",
      " 2   rougher.input.feed_pb                               14507 non-null  float64\n",
      " 3   rougher.input.feed_sol                              14502 non-null  float64\n",
      " 4   rougher.input.feed_rate                             14572 non-null  float64\n",
      " 5   rougher.input.feed_size                             14478 non-null  float64\n",
      " 6   rougher.input.floatbank10_sulfate                   14548 non-null  float64\n",
      " 7   rougher.input.floatbank10_xanthate                  14572 non-null  float64\n",
      " 8   rougher.state.floatbank10_a_air                     14579 non-null  float64\n",
      " 9   rougher.state.floatbank10_a_level                   14579 non-null  float64\n",
      " 10  rougher.state.floatbank10_b_air                     14579 non-null  float64\n",
      " 11  rougher.state.floatbank10_b_level                   14579 non-null  float64\n",
      " 12  rougher.state.floatbank10_c_air                     14579 non-null  float64\n",
      " 13  rougher.state.floatbank10_c_level                   14579 non-null  float64\n",
      " 14  rougher.state.floatbank10_d_air                     14579 non-null  float64\n",
      " 15  rougher.state.floatbank10_d_level                   14579 non-null  float64\n",
      " 16  rougher.state.floatbank10_e_air                     14150 non-null  float64\n",
      " 17  rougher.state.floatbank10_e_level                   14579 non-null  float64\n",
      " 18  rougher.state.floatbank10_f_air                     14579 non-null  float64\n",
      " 19  rougher.state.floatbank10_f_level                   14579 non-null  float64\n",
      " 20  rougher.input.floatbank11_sulfate                   14543 non-null  float64\n",
      " 21  rougher.input.floatbank11_xanthate                  14172 non-null  float64\n",
      " 22  rougher.calculation.sulfate_to_au_concentrate       14578 non-null  float64\n",
      " 23  rougher.calculation.floatbank10_sulfate_to_au_feed  14578 non-null  float64\n",
      " 24  rougher.calculation.floatbank11_sulfate_to_au_feed  14578 non-null  float64\n",
      " 25  rougher.calculation.au_pb_ratio                     14579 non-null  float64\n",
      " 26  rougher.output.concentrate_au                       14579 non-null  float64\n",
      " 27  rougher.output.concentrate_ag                       14579 non-null  float64\n",
      " 28  rougher.output.concentrate_pb                       14579 non-null  float64\n",
      " 29  rougher.output.concentrate_sol                      14561 non-null  float64\n",
      " 30  rougher.output.recovery                             14579 non-null  float64\n",
      " 31  rougher.output.tail_au                              14579 non-null  float64\n",
      " 32  rougher.output.tail_ag                              14578 non-null  float64\n",
      " 33  rougher.output.tail_pb                              14579 non-null  float64\n",
      " 34  rougher.output.tail_sol                             14579 non-null  float64\n",
      " 35  primary_cleaner.input.sulfate                       14556 non-null  float64\n",
      " 36  primary_cleaner.input.depressant                    14551 non-null  float64\n",
      " 37  primary_cleaner.input.feed_size                     14579 non-null  float64\n",
      " 38  primary_cleaner.input.xanthate                      14518 non-null  float64\n",
      " 39  primary_cleaner.state.floatbank8_a_air              14576 non-null  float64\n",
      " 40  primary_cleaner.state.floatbank8_a_level            14579 non-null  float64\n",
      " 41  primary_cleaner.state.floatbank8_b_air              14576 non-null  float64\n",
      " 42  primary_cleaner.state.floatbank8_b_level            14579 non-null  float64\n",
      " 43  primary_cleaner.state.floatbank8_c_air              14579 non-null  float64\n",
      " 44  primary_cleaner.state.floatbank8_c_level            14579 non-null  float64\n",
      " 45  primary_cleaner.state.floatbank8_d_air              14578 non-null  float64\n",
      " 46  primary_cleaner.state.floatbank8_d_level            14579 non-null  float64\n",
      " 47  primary_cleaner.output.concentrate_au               14579 non-null  float64\n",
      " 48  primary_cleaner.output.concentrate_ag               14579 non-null  float64\n",
      " 49  primary_cleaner.output.concentrate_pb               14491 non-null  float64\n",
      " 50  primary_cleaner.output.concentrate_sol              14314 non-null  float64\n",
      " 51  primary_cleaner.output.tail_au                      14579 non-null  float64\n",
      " 52  primary_cleaner.output.tail_ag                      14575 non-null  float64\n",
      " 53  primary_cleaner.output.tail_pb                      14573 non-null  float64\n",
      " 54  primary_cleaner.output.tail_sol                     14534 non-null  float64\n",
      " 55  secondary_cleaner.state.floatbank2_a_air            14485 non-null  float64\n",
      " 56  secondary_cleaner.state.floatbank2_a_level          14579 non-null  float64\n",
      " 57  secondary_cleaner.state.floatbank2_b_air            14557 non-null  float64\n",
      " 58  secondary_cleaner.state.floatbank2_b_level          14579 non-null  float64\n",
      " 59  secondary_cleaner.state.floatbank3_a_air            14567 non-null  float64\n",
      " 60  secondary_cleaner.state.floatbank3_a_level          14579 non-null  float64\n",
      " 61  secondary_cleaner.state.floatbank3_b_air            14579 non-null  float64\n",
      " 62  secondary_cleaner.state.floatbank3_b_level          14579 non-null  float64\n",
      " 63  secondary_cleaner.state.floatbank4_a_air            14574 non-null  float64\n",
      " 64  secondary_cleaner.state.floatbank4_a_level          14579 non-null  float64\n",
      " 65  secondary_cleaner.state.floatbank4_b_air            14579 non-null  float64\n",
      " 66  secondary_cleaner.state.floatbank4_b_level          14579 non-null  float64\n",
      " 67  secondary_cleaner.state.floatbank5_a_air            14579 non-null  float64\n",
      " 68  secondary_cleaner.state.floatbank5_a_level          14579 non-null  float64\n",
      " 69  secondary_cleaner.state.floatbank5_b_air            14579 non-null  float64\n",
      " 70  secondary_cleaner.state.floatbank5_b_level          14579 non-null  float64\n",
      " 71  secondary_cleaner.state.floatbank6_a_air            14578 non-null  float64\n",
      " 72  secondary_cleaner.state.floatbank6_a_level          14579 non-null  float64\n",
      " 73  secondary_cleaner.output.tail_au                    14579 non-null  float64\n",
      " 74  secondary_cleaner.output.tail_ag                    14578 non-null  float64\n",
      " 75  secondary_cleaner.output.tail_pb                    14575 non-null  float64\n",
      " 76  secondary_cleaner.output.tail_sol                   13659 non-null  float64\n",
      " 77  final.output.concentrate_au                         14579 non-null  float64\n",
      " 78  final.output.concentrate_ag                         14578 non-null  float64\n",
      " 79  final.output.concentrate_pb                         14578 non-null  float64\n",
      " 80  final.output.concentrate_sol                        14387 non-null  float64\n",
      " 81  final.output.recovery                               14579 non-null  float64\n",
      " 82  final.output.tail_au                                14579 non-null  float64\n",
      " 83  final.output.tail_ag                                14578 non-null  float64\n",
      " 84  final.output.tail_pb                                14504 non-null  float64\n",
      " 85  final.output.tail_sol                               14574 non-null  float64\n",
      "dtypes: float64(86)\n",
      "memory usage: 9.7+ MB\n"
     ]
    },
    {
     "data": {
      "text/plain": [
       "None"
      ]
     },
     "metadata": {},
     "output_type": "display_data"
    },
    {
     "data": {
      "text/html": [
       "<div>\n",
       "<style scoped>\n",
       "    .dataframe tbody tr th:only-of-type {\n",
       "        vertical-align: middle;\n",
       "    }\n",
       "\n",
       "    .dataframe tbody tr th {\n",
       "        vertical-align: top;\n",
       "    }\n",
       "\n",
       "    .dataframe thead th {\n",
       "        text-align: right;\n",
       "    }\n",
       "</style>\n",
       "<table border=\"1\" class=\"dataframe\">\n",
       "  <thead>\n",
       "    <tr style=\"text-align: right;\">\n",
       "      <th></th>\n",
       "      <th>rougher.input.feed_au</th>\n",
       "      <th>rougher.input.feed_ag</th>\n",
       "      <th>rougher.input.feed_pb</th>\n",
       "      <th>rougher.input.feed_sol</th>\n",
       "      <th>rougher.input.feed_rate</th>\n",
       "      <th>rougher.input.feed_size</th>\n",
       "      <th>rougher.input.floatbank10_sulfate</th>\n",
       "      <th>rougher.input.floatbank10_xanthate</th>\n",
       "      <th>rougher.state.floatbank10_a_air</th>\n",
       "      <th>rougher.state.floatbank10_a_level</th>\n",
       "      <th>...</th>\n",
       "      <th>secondary_cleaner.output.tail_sol</th>\n",
       "      <th>final.output.concentrate_au</th>\n",
       "      <th>final.output.concentrate_ag</th>\n",
       "      <th>final.output.concentrate_pb</th>\n",
       "      <th>final.output.concentrate_sol</th>\n",
       "      <th>final.output.recovery</th>\n",
       "      <th>final.output.tail_au</th>\n",
       "      <th>final.output.tail_ag</th>\n",
       "      <th>final.output.tail_pb</th>\n",
       "      <th>final.output.tail_sol</th>\n",
       "    </tr>\n",
       "    <tr>\n",
       "      <th>date</th>\n",
       "      <th></th>\n",
       "      <th></th>\n",
       "      <th></th>\n",
       "      <th></th>\n",
       "      <th></th>\n",
       "      <th></th>\n",
       "      <th></th>\n",
       "      <th></th>\n",
       "      <th></th>\n",
       "      <th></th>\n",
       "      <th></th>\n",
       "      <th></th>\n",
       "      <th></th>\n",
       "      <th></th>\n",
       "      <th></th>\n",
       "      <th></th>\n",
       "      <th></th>\n",
       "      <th></th>\n",
       "      <th></th>\n",
       "      <th></th>\n",
       "      <th></th>\n",
       "    </tr>\n",
       "  </thead>\n",
       "  <tbody>\n",
       "    <tr>\n",
       "      <th>2016-01-15 00:00:00</th>\n",
       "      <td>6.486150</td>\n",
       "      <td>6.100378</td>\n",
       "      <td>2.284912</td>\n",
       "      <td>36.808594</td>\n",
       "      <td>523.546326</td>\n",
       "      <td>55.486599</td>\n",
       "      <td>11.986616</td>\n",
       "      <td>6.007990</td>\n",
       "      <td>999.706909</td>\n",
       "      <td>-404.066986</td>\n",
       "      <td>...</td>\n",
       "      <td>8.764648</td>\n",
       "      <td>42.192020</td>\n",
       "      <td>6.055403</td>\n",
       "      <td>9.889648</td>\n",
       "      <td>5.507324</td>\n",
       "      <td>70.541216</td>\n",
       "      <td>2.143149</td>\n",
       "      <td>10.411962</td>\n",
       "      <td>0.895447</td>\n",
       "      <td>16.904297</td>\n",
       "    </tr>\n",
       "    <tr>\n",
       "      <th>2016-01-15 01:00:00</th>\n",
       "      <td>6.478583</td>\n",
       "      <td>6.161113</td>\n",
       "      <td>2.266033</td>\n",
       "      <td>35.753385</td>\n",
       "      <td>525.290581</td>\n",
       "      <td>57.278666</td>\n",
       "      <td>11.971193</td>\n",
       "      <td>6.005766</td>\n",
       "      <td>1000.286398</td>\n",
       "      <td>-400.065196</td>\n",
       "      <td>...</td>\n",
       "      <td>9.001494</td>\n",
       "      <td>42.701629</td>\n",
       "      <td>6.029369</td>\n",
       "      <td>9.968944</td>\n",
       "      <td>5.257781</td>\n",
       "      <td>69.266198</td>\n",
       "      <td>2.224930</td>\n",
       "      <td>10.462676</td>\n",
       "      <td>0.927452</td>\n",
       "      <td>16.634514</td>\n",
       "    </tr>\n",
       "    <tr>\n",
       "      <th>2016-01-15 02:00:00</th>\n",
       "      <td>6.362222</td>\n",
       "      <td>6.116455</td>\n",
       "      <td>2.159622</td>\n",
       "      <td>35.971630</td>\n",
       "      <td>530.026610</td>\n",
       "      <td>57.510649</td>\n",
       "      <td>11.920603</td>\n",
       "      <td>6.197377</td>\n",
       "      <td>999.719565</td>\n",
       "      <td>-400.074028</td>\n",
       "      <td>...</td>\n",
       "      <td>8.842896</td>\n",
       "      <td>42.657501</td>\n",
       "      <td>6.055926</td>\n",
       "      <td>10.213995</td>\n",
       "      <td>5.383759</td>\n",
       "      <td>68.116445</td>\n",
       "      <td>2.257889</td>\n",
       "      <td>10.507046</td>\n",
       "      <td>0.953716</td>\n",
       "      <td>16.208849</td>\n",
       "    </tr>\n",
       "    <tr>\n",
       "      <th>2016-01-15 03:00:00</th>\n",
       "      <td>6.118189</td>\n",
       "      <td>6.043309</td>\n",
       "      <td>2.037807</td>\n",
       "      <td>36.862241</td>\n",
       "      <td>542.590390</td>\n",
       "      <td>57.792734</td>\n",
       "      <td>11.630094</td>\n",
       "      <td>6.203177</td>\n",
       "      <td>999.814770</td>\n",
       "      <td>-400.200179</td>\n",
       "      <td>...</td>\n",
       "      <td>9.122857</td>\n",
       "      <td>42.689819</td>\n",
       "      <td>6.047977</td>\n",
       "      <td>9.977019</td>\n",
       "      <td>4.858634</td>\n",
       "      <td>68.347543</td>\n",
       "      <td>2.146849</td>\n",
       "      <td>10.422762</td>\n",
       "      <td>0.883763</td>\n",
       "      <td>16.532835</td>\n",
       "    </tr>\n",
       "    <tr>\n",
       "      <th>2016-01-15 04:00:00</th>\n",
       "      <td>5.663707</td>\n",
       "      <td>6.060915</td>\n",
       "      <td>1.786875</td>\n",
       "      <td>34.347666</td>\n",
       "      <td>540.531893</td>\n",
       "      <td>56.047189</td>\n",
       "      <td>10.957755</td>\n",
       "      <td>6.198826</td>\n",
       "      <td>999.678690</td>\n",
       "      <td>-399.752729</td>\n",
       "      <td>...</td>\n",
       "      <td>8.871028</td>\n",
       "      <td>42.774141</td>\n",
       "      <td>6.148599</td>\n",
       "      <td>10.142511</td>\n",
       "      <td>4.939416</td>\n",
       "      <td>66.927016</td>\n",
       "      <td>2.055292</td>\n",
       "      <td>10.360302</td>\n",
       "      <td>0.792826</td>\n",
       "      <td>16.525686</td>\n",
       "    </tr>\n",
       "  </tbody>\n",
       "</table>\n",
       "<p>5 rows × 86 columns</p>\n",
       "</div>"
      ],
      "text/plain": [
       "                     rougher.input.feed_au  rougher.input.feed_ag  \\\n",
       "date                                                                \n",
       "2016-01-15 00:00:00               6.486150               6.100378   \n",
       "2016-01-15 01:00:00               6.478583               6.161113   \n",
       "2016-01-15 02:00:00               6.362222               6.116455   \n",
       "2016-01-15 03:00:00               6.118189               6.043309   \n",
       "2016-01-15 04:00:00               5.663707               6.060915   \n",
       "\n",
       "                     rougher.input.feed_pb  rougher.input.feed_sol  \\\n",
       "date                                                                 \n",
       "2016-01-15 00:00:00               2.284912               36.808594   \n",
       "2016-01-15 01:00:00               2.266033               35.753385   \n",
       "2016-01-15 02:00:00               2.159622               35.971630   \n",
       "2016-01-15 03:00:00               2.037807               36.862241   \n",
       "2016-01-15 04:00:00               1.786875               34.347666   \n",
       "\n",
       "                     rougher.input.feed_rate  rougher.input.feed_size  \\\n",
       "date                                                                    \n",
       "2016-01-15 00:00:00               523.546326                55.486599   \n",
       "2016-01-15 01:00:00               525.290581                57.278666   \n",
       "2016-01-15 02:00:00               530.026610                57.510649   \n",
       "2016-01-15 03:00:00               542.590390                57.792734   \n",
       "2016-01-15 04:00:00               540.531893                56.047189   \n",
       "\n",
       "                     rougher.input.floatbank10_sulfate  \\\n",
       "date                                                     \n",
       "2016-01-15 00:00:00                          11.986616   \n",
       "2016-01-15 01:00:00                          11.971193   \n",
       "2016-01-15 02:00:00                          11.920603   \n",
       "2016-01-15 03:00:00                          11.630094   \n",
       "2016-01-15 04:00:00                          10.957755   \n",
       "\n",
       "                     rougher.input.floatbank10_xanthate  \\\n",
       "date                                                      \n",
       "2016-01-15 00:00:00                            6.007990   \n",
       "2016-01-15 01:00:00                            6.005766   \n",
       "2016-01-15 02:00:00                            6.197377   \n",
       "2016-01-15 03:00:00                            6.203177   \n",
       "2016-01-15 04:00:00                            6.198826   \n",
       "\n",
       "                     rougher.state.floatbank10_a_air  \\\n",
       "date                                                   \n",
       "2016-01-15 00:00:00                       999.706909   \n",
       "2016-01-15 01:00:00                      1000.286398   \n",
       "2016-01-15 02:00:00                       999.719565   \n",
       "2016-01-15 03:00:00                       999.814770   \n",
       "2016-01-15 04:00:00                       999.678690   \n",
       "\n",
       "                     rougher.state.floatbank10_a_level  ...  \\\n",
       "date                                                    ...   \n",
       "2016-01-15 00:00:00                        -404.066986  ...   \n",
       "2016-01-15 01:00:00                        -400.065196  ...   \n",
       "2016-01-15 02:00:00                        -400.074028  ...   \n",
       "2016-01-15 03:00:00                        -400.200179  ...   \n",
       "2016-01-15 04:00:00                        -399.752729  ...   \n",
       "\n",
       "                     secondary_cleaner.output.tail_sol  \\\n",
       "date                                                     \n",
       "2016-01-15 00:00:00                           8.764648   \n",
       "2016-01-15 01:00:00                           9.001494   \n",
       "2016-01-15 02:00:00                           8.842896   \n",
       "2016-01-15 03:00:00                           9.122857   \n",
       "2016-01-15 04:00:00                           8.871028   \n",
       "\n",
       "                     final.output.concentrate_au  final.output.concentrate_ag  \\\n",
       "date                                                                            \n",
       "2016-01-15 00:00:00                    42.192020                     6.055403   \n",
       "2016-01-15 01:00:00                    42.701629                     6.029369   \n",
       "2016-01-15 02:00:00                    42.657501                     6.055926   \n",
       "2016-01-15 03:00:00                    42.689819                     6.047977   \n",
       "2016-01-15 04:00:00                    42.774141                     6.148599   \n",
       "\n",
       "                     final.output.concentrate_pb  \\\n",
       "date                                               \n",
       "2016-01-15 00:00:00                     9.889648   \n",
       "2016-01-15 01:00:00                     9.968944   \n",
       "2016-01-15 02:00:00                    10.213995   \n",
       "2016-01-15 03:00:00                     9.977019   \n",
       "2016-01-15 04:00:00                    10.142511   \n",
       "\n",
       "                     final.output.concentrate_sol  final.output.recovery  \\\n",
       "date                                                                       \n",
       "2016-01-15 00:00:00                      5.507324              70.541216   \n",
       "2016-01-15 01:00:00                      5.257781              69.266198   \n",
       "2016-01-15 02:00:00                      5.383759              68.116445   \n",
       "2016-01-15 03:00:00                      4.858634              68.347543   \n",
       "2016-01-15 04:00:00                      4.939416              66.927016   \n",
       "\n",
       "                     final.output.tail_au  final.output.tail_ag  \\\n",
       "date                                                              \n",
       "2016-01-15 00:00:00              2.143149             10.411962   \n",
       "2016-01-15 01:00:00              2.224930             10.462676   \n",
       "2016-01-15 02:00:00              2.257889             10.507046   \n",
       "2016-01-15 03:00:00              2.146849             10.422762   \n",
       "2016-01-15 04:00:00              2.055292             10.360302   \n",
       "\n",
       "                     final.output.tail_pb  final.output.tail_sol  \n",
       "date                                                              \n",
       "2016-01-15 00:00:00              0.895447              16.904297  \n",
       "2016-01-15 01:00:00              0.927452              16.634514  \n",
       "2016-01-15 02:00:00              0.953716              16.208849  \n",
       "2016-01-15 03:00:00              0.883763              16.532835  \n",
       "2016-01-15 04:00:00              0.792826              16.525686  \n",
       "\n",
       "[5 rows x 86 columns]"
      ]
     },
     "metadata": {},
     "output_type": "display_data"
    }
   ],
   "source": [
    "display(df_train.info(), df_train.head())"
   ]
  },
  {
   "cell_type": "code",
   "execution_count": 5,
   "metadata": {},
   "outputs": [
    {
     "name": "stdout",
     "output_type": "stream",
     "text": [
      "<class 'pandas.core.frame.DataFrame'>\n",
      "Index: 4860 entries, 2017-12-09 14:59:59 to 2018-08-18 10:59:59\n",
      "Data columns (total 52 columns):\n",
      " #   Column                                      Non-Null Count  Dtype  \n",
      "---  ------                                      --------------  -----  \n",
      " 0   rougher.input.feed_au                       4860 non-null   float64\n",
      " 1   rougher.input.feed_ag                       4860 non-null   float64\n",
      " 2   rougher.input.feed_pb                       4832 non-null   float64\n",
      " 3   rougher.input.feed_sol                      4838 non-null   float64\n",
      " 4   rougher.input.feed_rate                     4856 non-null   float64\n",
      " 5   rougher.input.feed_size                     4816 non-null   float64\n",
      " 6   rougher.input.floatbank10_sulfate           4857 non-null   float64\n",
      " 7   rougher.input.floatbank10_xanthate          4859 non-null   float64\n",
      " 8   rougher.state.floatbank10_a_air             4859 non-null   float64\n",
      " 9   rougher.state.floatbank10_a_level           4859 non-null   float64\n",
      " 10  rougher.state.floatbank10_b_air             4859 non-null   float64\n",
      " 11  rougher.state.floatbank10_b_level           4859 non-null   float64\n",
      " 12  rougher.state.floatbank10_c_air             4859 non-null   float64\n",
      " 13  rougher.state.floatbank10_c_level           4859 non-null   float64\n",
      " 14  rougher.state.floatbank10_d_air             4860 non-null   float64\n",
      " 15  rougher.state.floatbank10_d_level           4860 non-null   float64\n",
      " 16  rougher.state.floatbank10_e_air             4853 non-null   float64\n",
      " 17  rougher.state.floatbank10_e_level           4860 non-null   float64\n",
      " 18  rougher.state.floatbank10_f_air             4860 non-null   float64\n",
      " 19  rougher.state.floatbank10_f_level           4860 non-null   float64\n",
      " 20  rougher.input.floatbank11_sulfate           4852 non-null   float64\n",
      " 21  rougher.input.floatbank11_xanthate          4814 non-null   float64\n",
      " 22  primary_cleaner.input.sulfate               4859 non-null   float64\n",
      " 23  primary_cleaner.input.depressant            4851 non-null   float64\n",
      " 24  primary_cleaner.input.feed_size             4860 non-null   float64\n",
      " 25  primary_cleaner.input.xanthate              4817 non-null   float64\n",
      " 26  primary_cleaner.state.floatbank8_a_air      4859 non-null   float64\n",
      " 27  primary_cleaner.state.floatbank8_a_level    4859 non-null   float64\n",
      " 28  primary_cleaner.state.floatbank8_b_air      4859 non-null   float64\n",
      " 29  primary_cleaner.state.floatbank8_b_level    4859 non-null   float64\n",
      " 30  primary_cleaner.state.floatbank8_c_air      4858 non-null   float64\n",
      " 31  primary_cleaner.state.floatbank8_c_level    4859 non-null   float64\n",
      " 32  primary_cleaner.state.floatbank8_d_air      4858 non-null   float64\n",
      " 33  primary_cleaner.state.floatbank8_d_level    4859 non-null   float64\n",
      " 34  secondary_cleaner.state.floatbank2_a_air    4734 non-null   float64\n",
      " 35  secondary_cleaner.state.floatbank2_a_level  4859 non-null   float64\n",
      " 36  secondary_cleaner.state.floatbank2_b_air    4859 non-null   float64\n",
      " 37  secondary_cleaner.state.floatbank2_b_level  4859 non-null   float64\n",
      " 38  secondary_cleaner.state.floatbank3_a_air    4859 non-null   float64\n",
      " 39  secondary_cleaner.state.floatbank3_a_level  4859 non-null   float64\n",
      " 40  secondary_cleaner.state.floatbank3_b_air    4859 non-null   float64\n",
      " 41  secondary_cleaner.state.floatbank3_b_level  4859 non-null   float64\n",
      " 42  secondary_cleaner.state.floatbank4_a_air    4859 non-null   float64\n",
      " 43  secondary_cleaner.state.floatbank4_a_level  4859 non-null   float64\n",
      " 44  secondary_cleaner.state.floatbank4_b_air    4859 non-null   float64\n",
      " 45  secondary_cleaner.state.floatbank4_b_level  4859 non-null   float64\n",
      " 46  secondary_cleaner.state.floatbank5_a_air    4859 non-null   float64\n",
      " 47  secondary_cleaner.state.floatbank5_a_level  4859 non-null   float64\n",
      " 48  secondary_cleaner.state.floatbank5_b_air    4859 non-null   float64\n",
      " 49  secondary_cleaner.state.floatbank5_b_level  4859 non-null   float64\n",
      " 50  secondary_cleaner.state.floatbank6_a_air    4859 non-null   float64\n",
      " 51  secondary_cleaner.state.floatbank6_a_level  4859 non-null   float64\n",
      "dtypes: float64(52)\n",
      "memory usage: 2.0+ MB\n"
     ]
    },
    {
     "data": {
      "text/plain": [
       "None"
      ]
     },
     "metadata": {},
     "output_type": "display_data"
    },
    {
     "data": {
      "text/html": [
       "<div>\n",
       "<style scoped>\n",
       "    .dataframe tbody tr th:only-of-type {\n",
       "        vertical-align: middle;\n",
       "    }\n",
       "\n",
       "    .dataframe tbody tr th {\n",
       "        vertical-align: top;\n",
       "    }\n",
       "\n",
       "    .dataframe thead th {\n",
       "        text-align: right;\n",
       "    }\n",
       "</style>\n",
       "<table border=\"1\" class=\"dataframe\">\n",
       "  <thead>\n",
       "    <tr style=\"text-align: right;\">\n",
       "      <th></th>\n",
       "      <th>rougher.input.feed_au</th>\n",
       "      <th>rougher.input.feed_ag</th>\n",
       "      <th>rougher.input.feed_pb</th>\n",
       "      <th>rougher.input.feed_sol</th>\n",
       "      <th>rougher.input.feed_rate</th>\n",
       "      <th>rougher.input.feed_size</th>\n",
       "      <th>rougher.input.floatbank10_sulfate</th>\n",
       "      <th>rougher.input.floatbank10_xanthate</th>\n",
       "      <th>rougher.state.floatbank10_a_air</th>\n",
       "      <th>rougher.state.floatbank10_a_level</th>\n",
       "      <th>...</th>\n",
       "      <th>secondary_cleaner.state.floatbank4_a_air</th>\n",
       "      <th>secondary_cleaner.state.floatbank4_a_level</th>\n",
       "      <th>secondary_cleaner.state.floatbank4_b_air</th>\n",
       "      <th>secondary_cleaner.state.floatbank4_b_level</th>\n",
       "      <th>secondary_cleaner.state.floatbank5_a_air</th>\n",
       "      <th>secondary_cleaner.state.floatbank5_a_level</th>\n",
       "      <th>secondary_cleaner.state.floatbank5_b_air</th>\n",
       "      <th>secondary_cleaner.state.floatbank5_b_level</th>\n",
       "      <th>secondary_cleaner.state.floatbank6_a_air</th>\n",
       "      <th>secondary_cleaner.state.floatbank6_a_level</th>\n",
       "    </tr>\n",
       "    <tr>\n",
       "      <th>date</th>\n",
       "      <th></th>\n",
       "      <th></th>\n",
       "      <th></th>\n",
       "      <th></th>\n",
       "      <th></th>\n",
       "      <th></th>\n",
       "      <th></th>\n",
       "      <th></th>\n",
       "      <th></th>\n",
       "      <th></th>\n",
       "      <th></th>\n",
       "      <th></th>\n",
       "      <th></th>\n",
       "      <th></th>\n",
       "      <th></th>\n",
       "      <th></th>\n",
       "      <th></th>\n",
       "      <th></th>\n",
       "      <th></th>\n",
       "      <th></th>\n",
       "      <th></th>\n",
       "    </tr>\n",
       "  </thead>\n",
       "  <tbody>\n",
       "    <tr>\n",
       "      <th>2017-12-09 14:59:59</th>\n",
       "      <td>4.365491</td>\n",
       "      <td>6.158718</td>\n",
       "      <td>3.875727</td>\n",
       "      <td>39.135119</td>\n",
       "      <td>555.820208</td>\n",
       "      <td>94.544358</td>\n",
       "      <td>6.146982</td>\n",
       "      <td>9.308612</td>\n",
       "      <td>1196.238112</td>\n",
       "      <td>-299.862743</td>\n",
       "      <td>...</td>\n",
       "      <td>23.018622</td>\n",
       "      <td>-500.492702</td>\n",
       "      <td>20.020205</td>\n",
       "      <td>-500.220296</td>\n",
       "      <td>17.963512</td>\n",
       "      <td>-499.939490</td>\n",
       "      <td>12.990306</td>\n",
       "      <td>-500.080993</td>\n",
       "      <td>19.990336</td>\n",
       "      <td>-499.191575</td>\n",
       "    </tr>\n",
       "    <tr>\n",
       "      <th>2017-12-09 15:59:59</th>\n",
       "      <td>4.362781</td>\n",
       "      <td>6.048130</td>\n",
       "      <td>3.902537</td>\n",
       "      <td>39.713906</td>\n",
       "      <td>544.731687</td>\n",
       "      <td>123.742430</td>\n",
       "      <td>6.210119</td>\n",
       "      <td>9.297709</td>\n",
       "      <td>1201.904177</td>\n",
       "      <td>-299.907308</td>\n",
       "      <td>...</td>\n",
       "      <td>23.024963</td>\n",
       "      <td>-501.153409</td>\n",
       "      <td>20.054122</td>\n",
       "      <td>-500.314711</td>\n",
       "      <td>17.979515</td>\n",
       "      <td>-499.272871</td>\n",
       "      <td>12.992404</td>\n",
       "      <td>-499.976268</td>\n",
       "      <td>20.013986</td>\n",
       "      <td>-500.625471</td>\n",
       "    </tr>\n",
       "    <tr>\n",
       "      <th>2017-12-09 16:59:59</th>\n",
       "      <td>5.081681</td>\n",
       "      <td>6.082745</td>\n",
       "      <td>4.564078</td>\n",
       "      <td>37.208683</td>\n",
       "      <td>558.155110</td>\n",
       "      <td>82.610855</td>\n",
       "      <td>7.363824</td>\n",
       "      <td>9.003562</td>\n",
       "      <td>1200.826926</td>\n",
       "      <td>-300.124116</td>\n",
       "      <td>...</td>\n",
       "      <td>22.993827</td>\n",
       "      <td>-501.559663</td>\n",
       "      <td>20.029144</td>\n",
       "      <td>-500.000662</td>\n",
       "      <td>18.012723</td>\n",
       "      <td>-500.024764</td>\n",
       "      <td>13.016445</td>\n",
       "      <td>-500.058432</td>\n",
       "      <td>19.973767</td>\n",
       "      <td>-501.394155</td>\n",
       "    </tr>\n",
       "    <tr>\n",
       "      <th>2017-12-09 17:59:59</th>\n",
       "      <td>5.145949</td>\n",
       "      <td>6.084374</td>\n",
       "      <td>4.768124</td>\n",
       "      <td>36.808874</td>\n",
       "      <td>539.713765</td>\n",
       "      <td>77.984784</td>\n",
       "      <td>6.927072</td>\n",
       "      <td>8.955597</td>\n",
       "      <td>1199.292489</td>\n",
       "      <td>-299.778385</td>\n",
       "      <td>...</td>\n",
       "      <td>23.032807</td>\n",
       "      <td>-501.287889</td>\n",
       "      <td>19.977466</td>\n",
       "      <td>-500.159903</td>\n",
       "      <td>17.980463</td>\n",
       "      <td>-500.504602</td>\n",
       "      <td>12.949071</td>\n",
       "      <td>-500.009937</td>\n",
       "      <td>20.010332</td>\n",
       "      <td>-508.337973</td>\n",
       "    </tr>\n",
       "    <tr>\n",
       "      <th>2017-12-09 18:59:59</th>\n",
       "      <td>5.735249</td>\n",
       "      <td>6.165220</td>\n",
       "      <td>4.512346</td>\n",
       "      <td>37.810642</td>\n",
       "      <td>558.713584</td>\n",
       "      <td>86.434874</td>\n",
       "      <td>7.823471</td>\n",
       "      <td>7.490356</td>\n",
       "      <td>1198.005449</td>\n",
       "      <td>-300.283401</td>\n",
       "      <td>...</td>\n",
       "      <td>23.001911</td>\n",
       "      <td>-499.947838</td>\n",
       "      <td>20.023735</td>\n",
       "      <td>-499.713680</td>\n",
       "      <td>17.990955</td>\n",
       "      <td>-500.334769</td>\n",
       "      <td>13.007523</td>\n",
       "      <td>-499.968459</td>\n",
       "      <td>19.995999</td>\n",
       "      <td>-499.788805</td>\n",
       "    </tr>\n",
       "  </tbody>\n",
       "</table>\n",
       "<p>5 rows × 52 columns</p>\n",
       "</div>"
      ],
      "text/plain": [
       "                     rougher.input.feed_au  rougher.input.feed_ag  \\\n",
       "date                                                                \n",
       "2017-12-09 14:59:59               4.365491               6.158718   \n",
       "2017-12-09 15:59:59               4.362781               6.048130   \n",
       "2017-12-09 16:59:59               5.081681               6.082745   \n",
       "2017-12-09 17:59:59               5.145949               6.084374   \n",
       "2017-12-09 18:59:59               5.735249               6.165220   \n",
       "\n",
       "                     rougher.input.feed_pb  rougher.input.feed_sol  \\\n",
       "date                                                                 \n",
       "2017-12-09 14:59:59               3.875727               39.135119   \n",
       "2017-12-09 15:59:59               3.902537               39.713906   \n",
       "2017-12-09 16:59:59               4.564078               37.208683   \n",
       "2017-12-09 17:59:59               4.768124               36.808874   \n",
       "2017-12-09 18:59:59               4.512346               37.810642   \n",
       "\n",
       "                     rougher.input.feed_rate  rougher.input.feed_size  \\\n",
       "date                                                                    \n",
       "2017-12-09 14:59:59               555.820208                94.544358   \n",
       "2017-12-09 15:59:59               544.731687               123.742430   \n",
       "2017-12-09 16:59:59               558.155110                82.610855   \n",
       "2017-12-09 17:59:59               539.713765                77.984784   \n",
       "2017-12-09 18:59:59               558.713584                86.434874   \n",
       "\n",
       "                     rougher.input.floatbank10_sulfate  \\\n",
       "date                                                     \n",
       "2017-12-09 14:59:59                           6.146982   \n",
       "2017-12-09 15:59:59                           6.210119   \n",
       "2017-12-09 16:59:59                           7.363824   \n",
       "2017-12-09 17:59:59                           6.927072   \n",
       "2017-12-09 18:59:59                           7.823471   \n",
       "\n",
       "                     rougher.input.floatbank10_xanthate  \\\n",
       "date                                                      \n",
       "2017-12-09 14:59:59                            9.308612   \n",
       "2017-12-09 15:59:59                            9.297709   \n",
       "2017-12-09 16:59:59                            9.003562   \n",
       "2017-12-09 17:59:59                            8.955597   \n",
       "2017-12-09 18:59:59                            7.490356   \n",
       "\n",
       "                     rougher.state.floatbank10_a_air  \\\n",
       "date                                                   \n",
       "2017-12-09 14:59:59                      1196.238112   \n",
       "2017-12-09 15:59:59                      1201.904177   \n",
       "2017-12-09 16:59:59                      1200.826926   \n",
       "2017-12-09 17:59:59                      1199.292489   \n",
       "2017-12-09 18:59:59                      1198.005449   \n",
       "\n",
       "                     rougher.state.floatbank10_a_level  ...  \\\n",
       "date                                                    ...   \n",
       "2017-12-09 14:59:59                        -299.862743  ...   \n",
       "2017-12-09 15:59:59                        -299.907308  ...   \n",
       "2017-12-09 16:59:59                        -300.124116  ...   \n",
       "2017-12-09 17:59:59                        -299.778385  ...   \n",
       "2017-12-09 18:59:59                        -300.283401  ...   \n",
       "\n",
       "                     secondary_cleaner.state.floatbank4_a_air  \\\n",
       "date                                                            \n",
       "2017-12-09 14:59:59                                 23.018622   \n",
       "2017-12-09 15:59:59                                 23.024963   \n",
       "2017-12-09 16:59:59                                 22.993827   \n",
       "2017-12-09 17:59:59                                 23.032807   \n",
       "2017-12-09 18:59:59                                 23.001911   \n",
       "\n",
       "                     secondary_cleaner.state.floatbank4_a_level  \\\n",
       "date                                                              \n",
       "2017-12-09 14:59:59                                 -500.492702   \n",
       "2017-12-09 15:59:59                                 -501.153409   \n",
       "2017-12-09 16:59:59                                 -501.559663   \n",
       "2017-12-09 17:59:59                                 -501.287889   \n",
       "2017-12-09 18:59:59                                 -499.947838   \n",
       "\n",
       "                     secondary_cleaner.state.floatbank4_b_air  \\\n",
       "date                                                            \n",
       "2017-12-09 14:59:59                                 20.020205   \n",
       "2017-12-09 15:59:59                                 20.054122   \n",
       "2017-12-09 16:59:59                                 20.029144   \n",
       "2017-12-09 17:59:59                                 19.977466   \n",
       "2017-12-09 18:59:59                                 20.023735   \n",
       "\n",
       "                     secondary_cleaner.state.floatbank4_b_level  \\\n",
       "date                                                              \n",
       "2017-12-09 14:59:59                                 -500.220296   \n",
       "2017-12-09 15:59:59                                 -500.314711   \n",
       "2017-12-09 16:59:59                                 -500.000662   \n",
       "2017-12-09 17:59:59                                 -500.159903   \n",
       "2017-12-09 18:59:59                                 -499.713680   \n",
       "\n",
       "                     secondary_cleaner.state.floatbank5_a_air  \\\n",
       "date                                                            \n",
       "2017-12-09 14:59:59                                 17.963512   \n",
       "2017-12-09 15:59:59                                 17.979515   \n",
       "2017-12-09 16:59:59                                 18.012723   \n",
       "2017-12-09 17:59:59                                 17.980463   \n",
       "2017-12-09 18:59:59                                 17.990955   \n",
       "\n",
       "                     secondary_cleaner.state.floatbank5_a_level  \\\n",
       "date                                                              \n",
       "2017-12-09 14:59:59                                 -499.939490   \n",
       "2017-12-09 15:59:59                                 -499.272871   \n",
       "2017-12-09 16:59:59                                 -500.024764   \n",
       "2017-12-09 17:59:59                                 -500.504602   \n",
       "2017-12-09 18:59:59                                 -500.334769   \n",
       "\n",
       "                     secondary_cleaner.state.floatbank5_b_air  \\\n",
       "date                                                            \n",
       "2017-12-09 14:59:59                                 12.990306   \n",
       "2017-12-09 15:59:59                                 12.992404   \n",
       "2017-12-09 16:59:59                                 13.016445   \n",
       "2017-12-09 17:59:59                                 12.949071   \n",
       "2017-12-09 18:59:59                                 13.007523   \n",
       "\n",
       "                     secondary_cleaner.state.floatbank5_b_level  \\\n",
       "date                                                              \n",
       "2017-12-09 14:59:59                                 -500.080993   \n",
       "2017-12-09 15:59:59                                 -499.976268   \n",
       "2017-12-09 16:59:59                                 -500.058432   \n",
       "2017-12-09 17:59:59                                 -500.009937   \n",
       "2017-12-09 18:59:59                                 -499.968459   \n",
       "\n",
       "                     secondary_cleaner.state.floatbank6_a_air  \\\n",
       "date                                                            \n",
       "2017-12-09 14:59:59                                 19.990336   \n",
       "2017-12-09 15:59:59                                 20.013986   \n",
       "2017-12-09 16:59:59                                 19.973767   \n",
       "2017-12-09 17:59:59                                 20.010332   \n",
       "2017-12-09 18:59:59                                 19.995999   \n",
       "\n",
       "                     secondary_cleaner.state.floatbank6_a_level  \n",
       "date                                                             \n",
       "2017-12-09 14:59:59                                 -499.191575  \n",
       "2017-12-09 15:59:59                                 -500.625471  \n",
       "2017-12-09 16:59:59                                 -501.394155  \n",
       "2017-12-09 17:59:59                                 -508.337973  \n",
       "2017-12-09 18:59:59                                 -499.788805  \n",
       "\n",
       "[5 rows x 52 columns]"
      ]
     },
     "metadata": {},
     "output_type": "display_data"
    }
   ],
   "source": [
    "display(df_test.info(), df_test.head())"
   ]
  },
  {
   "cell_type": "code",
   "execution_count": 6,
   "metadata": {},
   "outputs": [
    {
     "name": "stdout",
     "output_type": "stream",
     "text": [
      "<class 'pandas.core.frame.DataFrame'>\n",
      "Index: 19439 entries, 2016-01-15 00:00:00 to 2018-08-18 10:59:59\n",
      "Data columns (total 86 columns):\n",
      " #   Column                                              Non-Null Count  Dtype  \n",
      "---  ------                                              --------------  -----  \n",
      " 0   rougher.input.feed_au                               19439 non-null  float64\n",
      " 1   rougher.input.feed_ag                               19439 non-null  float64\n",
      " 2   rougher.input.feed_pb                               19339 non-null  float64\n",
      " 3   rougher.input.feed_sol                              19340 non-null  float64\n",
      " 4   rougher.input.feed_rate                             19428 non-null  float64\n",
      " 5   rougher.input.feed_size                             19294 non-null  float64\n",
      " 6   rougher.input.floatbank10_sulfate                   19405 non-null  float64\n",
      " 7   rougher.input.floatbank10_xanthate                  19431 non-null  float64\n",
      " 8   rougher.state.floatbank10_a_air                     19438 non-null  float64\n",
      " 9   rougher.state.floatbank10_a_level                   19438 non-null  float64\n",
      " 10  rougher.state.floatbank10_b_air                     19438 non-null  float64\n",
      " 11  rougher.state.floatbank10_b_level                   19438 non-null  float64\n",
      " 12  rougher.state.floatbank10_c_air                     19438 non-null  float64\n",
      " 13  rougher.state.floatbank10_c_level                   19438 non-null  float64\n",
      " 14  rougher.state.floatbank10_d_air                     19439 non-null  float64\n",
      " 15  rougher.state.floatbank10_d_level                   19439 non-null  float64\n",
      " 16  rougher.state.floatbank10_e_air                     19003 non-null  float64\n",
      " 17  rougher.state.floatbank10_e_level                   19439 non-null  float64\n",
      " 18  rougher.state.floatbank10_f_air                     19439 non-null  float64\n",
      " 19  rougher.state.floatbank10_f_level                   19439 non-null  float64\n",
      " 20  rougher.input.floatbank11_sulfate                   19395 non-null  float64\n",
      " 21  rougher.input.floatbank11_xanthate                  18986 non-null  float64\n",
      " 22  rougher.calculation.sulfate_to_au_concentrate       19437 non-null  float64\n",
      " 23  rougher.calculation.floatbank10_sulfate_to_au_feed  19437 non-null  float64\n",
      " 24  rougher.calculation.floatbank11_sulfate_to_au_feed  19437 non-null  float64\n",
      " 25  rougher.calculation.au_pb_ratio                     19439 non-null  float64\n",
      " 26  rougher.output.concentrate_au                       19439 non-null  float64\n",
      " 27  rougher.output.concentrate_ag                       19439 non-null  float64\n",
      " 28  rougher.output.concentrate_pb                       19439 non-null  float64\n",
      " 29  rougher.output.concentrate_sol                      19416 non-null  float64\n",
      " 30  rougher.output.recovery                             19439 non-null  float64\n",
      " 31  rougher.output.tail_au                              19439 non-null  float64\n",
      " 32  rougher.output.tail_ag                              19438 non-null  float64\n",
      " 33  rougher.output.tail_pb                              19439 non-null  float64\n",
      " 34  rougher.output.tail_sol                             19439 non-null  float64\n",
      " 35  primary_cleaner.input.sulfate                       19415 non-null  float64\n",
      " 36  primary_cleaner.input.depressant                    19402 non-null  float64\n",
      " 37  primary_cleaner.input.feed_size                     19439 non-null  float64\n",
      " 38  primary_cleaner.input.xanthate                      19335 non-null  float64\n",
      " 39  primary_cleaner.state.floatbank8_a_air              19435 non-null  float64\n",
      " 40  primary_cleaner.state.floatbank8_a_level            19438 non-null  float64\n",
      " 41  primary_cleaner.state.floatbank8_b_air              19435 non-null  float64\n",
      " 42  primary_cleaner.state.floatbank8_b_level            19438 non-null  float64\n",
      " 43  primary_cleaner.state.floatbank8_c_air              19437 non-null  float64\n",
      " 44  primary_cleaner.state.floatbank8_c_level            19438 non-null  float64\n",
      " 45  primary_cleaner.state.floatbank8_d_air              19436 non-null  float64\n",
      " 46  primary_cleaner.state.floatbank8_d_level            19438 non-null  float64\n",
      " 47  primary_cleaner.output.concentrate_au               19439 non-null  float64\n",
      " 48  primary_cleaner.output.concentrate_ag               19439 non-null  float64\n",
      " 49  primary_cleaner.output.concentrate_pb               19323 non-null  float64\n",
      " 50  primary_cleaner.output.concentrate_sol              19069 non-null  float64\n",
      " 51  primary_cleaner.output.tail_au                      19439 non-null  float64\n",
      " 52  primary_cleaner.output.tail_ag                      19435 non-null  float64\n",
      " 53  primary_cleaner.output.tail_pb                      19418 non-null  float64\n",
      " 54  primary_cleaner.output.tail_sol                     19377 non-null  float64\n",
      " 55  secondary_cleaner.state.floatbank2_a_air            19219 non-null  float64\n",
      " 56  secondary_cleaner.state.floatbank2_a_level          19438 non-null  float64\n",
      " 57  secondary_cleaner.state.floatbank2_b_air            19416 non-null  float64\n",
      " 58  secondary_cleaner.state.floatbank2_b_level          19438 non-null  float64\n",
      " 59  secondary_cleaner.state.floatbank3_a_air            19426 non-null  float64\n",
      " 60  secondary_cleaner.state.floatbank3_a_level          19438 non-null  float64\n",
      " 61  secondary_cleaner.state.floatbank3_b_air            19438 non-null  float64\n",
      " 62  secondary_cleaner.state.floatbank3_b_level          19438 non-null  float64\n",
      " 63  secondary_cleaner.state.floatbank4_a_air            19433 non-null  float64\n",
      " 64  secondary_cleaner.state.floatbank4_a_level          19438 non-null  float64\n",
      " 65  secondary_cleaner.state.floatbank4_b_air            19438 non-null  float64\n",
      " 66  secondary_cleaner.state.floatbank4_b_level          19438 non-null  float64\n",
      " 67  secondary_cleaner.state.floatbank5_a_air            19438 non-null  float64\n",
      " 68  secondary_cleaner.state.floatbank5_a_level          19438 non-null  float64\n",
      " 69  secondary_cleaner.state.floatbank5_b_air            19438 non-null  float64\n",
      " 70  secondary_cleaner.state.floatbank5_b_level          19438 non-null  float64\n",
      " 71  secondary_cleaner.state.floatbank6_a_air            19437 non-null  float64\n",
      " 72  secondary_cleaner.state.floatbank6_a_level          19438 non-null  float64\n",
      " 73  secondary_cleaner.output.tail_au                    19439 non-null  float64\n",
      " 74  secondary_cleaner.output.tail_ag                    19437 non-null  float64\n",
      " 75  secondary_cleaner.output.tail_pb                    19427 non-null  float64\n",
      " 76  secondary_cleaner.output.tail_sol                   17691 non-null  float64\n",
      " 77  final.output.concentrate_au                         19439 non-null  float64\n",
      " 78  final.output.concentrate_ag                         19438 non-null  float64\n",
      " 79  final.output.concentrate_pb                         19438 non-null  float64\n",
      " 80  final.output.concentrate_sol                        19228 non-null  float64\n",
      " 81  final.output.recovery                               19439 non-null  float64\n",
      " 82  final.output.tail_au                                19439 non-null  float64\n",
      " 83  final.output.tail_ag                                19438 non-null  float64\n",
      " 84  final.output.tail_pb                                19338 non-null  float64\n",
      " 85  final.output.tail_sol                               19433 non-null  float64\n",
      "dtypes: float64(86)\n",
      "memory usage: 12.9+ MB\n"
     ]
    },
    {
     "data": {
      "text/plain": [
       "None"
      ]
     },
     "metadata": {},
     "output_type": "display_data"
    },
    {
     "data": {
      "text/html": [
       "<div>\n",
       "<style scoped>\n",
       "    .dataframe tbody tr th:only-of-type {\n",
       "        vertical-align: middle;\n",
       "    }\n",
       "\n",
       "    .dataframe tbody tr th {\n",
       "        vertical-align: top;\n",
       "    }\n",
       "\n",
       "    .dataframe thead th {\n",
       "        text-align: right;\n",
       "    }\n",
       "</style>\n",
       "<table border=\"1\" class=\"dataframe\">\n",
       "  <thead>\n",
       "    <tr style=\"text-align: right;\">\n",
       "      <th></th>\n",
       "      <th>rougher.input.feed_au</th>\n",
       "      <th>rougher.input.feed_ag</th>\n",
       "      <th>rougher.input.feed_pb</th>\n",
       "      <th>rougher.input.feed_sol</th>\n",
       "      <th>rougher.input.feed_rate</th>\n",
       "      <th>rougher.input.feed_size</th>\n",
       "      <th>rougher.input.floatbank10_sulfate</th>\n",
       "      <th>rougher.input.floatbank10_xanthate</th>\n",
       "      <th>rougher.state.floatbank10_a_air</th>\n",
       "      <th>rougher.state.floatbank10_a_level</th>\n",
       "      <th>...</th>\n",
       "      <th>secondary_cleaner.output.tail_sol</th>\n",
       "      <th>final.output.concentrate_au</th>\n",
       "      <th>final.output.concentrate_ag</th>\n",
       "      <th>final.output.concentrate_pb</th>\n",
       "      <th>final.output.concentrate_sol</th>\n",
       "      <th>final.output.recovery</th>\n",
       "      <th>final.output.tail_au</th>\n",
       "      <th>final.output.tail_ag</th>\n",
       "      <th>final.output.tail_pb</th>\n",
       "      <th>final.output.tail_sol</th>\n",
       "    </tr>\n",
       "    <tr>\n",
       "      <th>date</th>\n",
       "      <th></th>\n",
       "      <th></th>\n",
       "      <th></th>\n",
       "      <th></th>\n",
       "      <th></th>\n",
       "      <th></th>\n",
       "      <th></th>\n",
       "      <th></th>\n",
       "      <th></th>\n",
       "      <th></th>\n",
       "      <th></th>\n",
       "      <th></th>\n",
       "      <th></th>\n",
       "      <th></th>\n",
       "      <th></th>\n",
       "      <th></th>\n",
       "      <th></th>\n",
       "      <th></th>\n",
       "      <th></th>\n",
       "      <th></th>\n",
       "      <th></th>\n",
       "    </tr>\n",
       "  </thead>\n",
       "  <tbody>\n",
       "    <tr>\n",
       "      <th>2016-01-15 00:00:00</th>\n",
       "      <td>6.486150</td>\n",
       "      <td>6.100378</td>\n",
       "      <td>2.284912</td>\n",
       "      <td>36.808594</td>\n",
       "      <td>523.546326</td>\n",
       "      <td>55.486599</td>\n",
       "      <td>11.986616</td>\n",
       "      <td>6.007990</td>\n",
       "      <td>999.706909</td>\n",
       "      <td>-404.066986</td>\n",
       "      <td>...</td>\n",
       "      <td>8.764648</td>\n",
       "      <td>42.192020</td>\n",
       "      <td>6.055403</td>\n",
       "      <td>9.889648</td>\n",
       "      <td>5.507324</td>\n",
       "      <td>70.541216</td>\n",
       "      <td>2.143149</td>\n",
       "      <td>10.411962</td>\n",
       "      <td>0.895447</td>\n",
       "      <td>16.904297</td>\n",
       "    </tr>\n",
       "    <tr>\n",
       "      <th>2016-01-15 01:00:00</th>\n",
       "      <td>6.478583</td>\n",
       "      <td>6.161113</td>\n",
       "      <td>2.266033</td>\n",
       "      <td>35.753385</td>\n",
       "      <td>525.290581</td>\n",
       "      <td>57.278666</td>\n",
       "      <td>11.971193</td>\n",
       "      <td>6.005766</td>\n",
       "      <td>1000.286398</td>\n",
       "      <td>-400.065196</td>\n",
       "      <td>...</td>\n",
       "      <td>9.001494</td>\n",
       "      <td>42.701629</td>\n",
       "      <td>6.029369</td>\n",
       "      <td>9.968944</td>\n",
       "      <td>5.257781</td>\n",
       "      <td>69.266198</td>\n",
       "      <td>2.224930</td>\n",
       "      <td>10.462676</td>\n",
       "      <td>0.927452</td>\n",
       "      <td>16.634514</td>\n",
       "    </tr>\n",
       "    <tr>\n",
       "      <th>2016-01-15 02:00:00</th>\n",
       "      <td>6.362222</td>\n",
       "      <td>6.116455</td>\n",
       "      <td>2.159622</td>\n",
       "      <td>35.971630</td>\n",
       "      <td>530.026610</td>\n",
       "      <td>57.510649</td>\n",
       "      <td>11.920603</td>\n",
       "      <td>6.197377</td>\n",
       "      <td>999.719565</td>\n",
       "      <td>-400.074028</td>\n",
       "      <td>...</td>\n",
       "      <td>8.842896</td>\n",
       "      <td>42.657501</td>\n",
       "      <td>6.055926</td>\n",
       "      <td>10.213995</td>\n",
       "      <td>5.383759</td>\n",
       "      <td>68.116445</td>\n",
       "      <td>2.257889</td>\n",
       "      <td>10.507046</td>\n",
       "      <td>0.953716</td>\n",
       "      <td>16.208849</td>\n",
       "    </tr>\n",
       "    <tr>\n",
       "      <th>2016-01-15 03:00:00</th>\n",
       "      <td>6.118189</td>\n",
       "      <td>6.043309</td>\n",
       "      <td>2.037807</td>\n",
       "      <td>36.862241</td>\n",
       "      <td>542.590390</td>\n",
       "      <td>57.792734</td>\n",
       "      <td>11.630094</td>\n",
       "      <td>6.203177</td>\n",
       "      <td>999.814770</td>\n",
       "      <td>-400.200179</td>\n",
       "      <td>...</td>\n",
       "      <td>9.122857</td>\n",
       "      <td>42.689819</td>\n",
       "      <td>6.047977</td>\n",
       "      <td>9.977019</td>\n",
       "      <td>4.858634</td>\n",
       "      <td>68.347543</td>\n",
       "      <td>2.146849</td>\n",
       "      <td>10.422762</td>\n",
       "      <td>0.883763</td>\n",
       "      <td>16.532835</td>\n",
       "    </tr>\n",
       "    <tr>\n",
       "      <th>2016-01-15 04:00:00</th>\n",
       "      <td>5.663707</td>\n",
       "      <td>6.060915</td>\n",
       "      <td>1.786875</td>\n",
       "      <td>34.347666</td>\n",
       "      <td>540.531893</td>\n",
       "      <td>56.047189</td>\n",
       "      <td>10.957755</td>\n",
       "      <td>6.198826</td>\n",
       "      <td>999.678690</td>\n",
       "      <td>-399.752729</td>\n",
       "      <td>...</td>\n",
       "      <td>8.871028</td>\n",
       "      <td>42.774141</td>\n",
       "      <td>6.148599</td>\n",
       "      <td>10.142511</td>\n",
       "      <td>4.939416</td>\n",
       "      <td>66.927016</td>\n",
       "      <td>2.055292</td>\n",
       "      <td>10.360302</td>\n",
       "      <td>0.792826</td>\n",
       "      <td>16.525686</td>\n",
       "    </tr>\n",
       "  </tbody>\n",
       "</table>\n",
       "<p>5 rows × 86 columns</p>\n",
       "</div>"
      ],
      "text/plain": [
       "                     rougher.input.feed_au  rougher.input.feed_ag  \\\n",
       "date                                                                \n",
       "2016-01-15 00:00:00               6.486150               6.100378   \n",
       "2016-01-15 01:00:00               6.478583               6.161113   \n",
       "2016-01-15 02:00:00               6.362222               6.116455   \n",
       "2016-01-15 03:00:00               6.118189               6.043309   \n",
       "2016-01-15 04:00:00               5.663707               6.060915   \n",
       "\n",
       "                     rougher.input.feed_pb  rougher.input.feed_sol  \\\n",
       "date                                                                 \n",
       "2016-01-15 00:00:00               2.284912               36.808594   \n",
       "2016-01-15 01:00:00               2.266033               35.753385   \n",
       "2016-01-15 02:00:00               2.159622               35.971630   \n",
       "2016-01-15 03:00:00               2.037807               36.862241   \n",
       "2016-01-15 04:00:00               1.786875               34.347666   \n",
       "\n",
       "                     rougher.input.feed_rate  rougher.input.feed_size  \\\n",
       "date                                                                    \n",
       "2016-01-15 00:00:00               523.546326                55.486599   \n",
       "2016-01-15 01:00:00               525.290581                57.278666   \n",
       "2016-01-15 02:00:00               530.026610                57.510649   \n",
       "2016-01-15 03:00:00               542.590390                57.792734   \n",
       "2016-01-15 04:00:00               540.531893                56.047189   \n",
       "\n",
       "                     rougher.input.floatbank10_sulfate  \\\n",
       "date                                                     \n",
       "2016-01-15 00:00:00                          11.986616   \n",
       "2016-01-15 01:00:00                          11.971193   \n",
       "2016-01-15 02:00:00                          11.920603   \n",
       "2016-01-15 03:00:00                          11.630094   \n",
       "2016-01-15 04:00:00                          10.957755   \n",
       "\n",
       "                     rougher.input.floatbank10_xanthate  \\\n",
       "date                                                      \n",
       "2016-01-15 00:00:00                            6.007990   \n",
       "2016-01-15 01:00:00                            6.005766   \n",
       "2016-01-15 02:00:00                            6.197377   \n",
       "2016-01-15 03:00:00                            6.203177   \n",
       "2016-01-15 04:00:00                            6.198826   \n",
       "\n",
       "                     rougher.state.floatbank10_a_air  \\\n",
       "date                                                   \n",
       "2016-01-15 00:00:00                       999.706909   \n",
       "2016-01-15 01:00:00                      1000.286398   \n",
       "2016-01-15 02:00:00                       999.719565   \n",
       "2016-01-15 03:00:00                       999.814770   \n",
       "2016-01-15 04:00:00                       999.678690   \n",
       "\n",
       "                     rougher.state.floatbank10_a_level  ...  \\\n",
       "date                                                    ...   \n",
       "2016-01-15 00:00:00                        -404.066986  ...   \n",
       "2016-01-15 01:00:00                        -400.065196  ...   \n",
       "2016-01-15 02:00:00                        -400.074028  ...   \n",
       "2016-01-15 03:00:00                        -400.200179  ...   \n",
       "2016-01-15 04:00:00                        -399.752729  ...   \n",
       "\n",
       "                     secondary_cleaner.output.tail_sol  \\\n",
       "date                                                     \n",
       "2016-01-15 00:00:00                           8.764648   \n",
       "2016-01-15 01:00:00                           9.001494   \n",
       "2016-01-15 02:00:00                           8.842896   \n",
       "2016-01-15 03:00:00                           9.122857   \n",
       "2016-01-15 04:00:00                           8.871028   \n",
       "\n",
       "                     final.output.concentrate_au  final.output.concentrate_ag  \\\n",
       "date                                                                            \n",
       "2016-01-15 00:00:00                    42.192020                     6.055403   \n",
       "2016-01-15 01:00:00                    42.701629                     6.029369   \n",
       "2016-01-15 02:00:00                    42.657501                     6.055926   \n",
       "2016-01-15 03:00:00                    42.689819                     6.047977   \n",
       "2016-01-15 04:00:00                    42.774141                     6.148599   \n",
       "\n",
       "                     final.output.concentrate_pb  \\\n",
       "date                                               \n",
       "2016-01-15 00:00:00                     9.889648   \n",
       "2016-01-15 01:00:00                     9.968944   \n",
       "2016-01-15 02:00:00                    10.213995   \n",
       "2016-01-15 03:00:00                     9.977019   \n",
       "2016-01-15 04:00:00                    10.142511   \n",
       "\n",
       "                     final.output.concentrate_sol  final.output.recovery  \\\n",
       "date                                                                       \n",
       "2016-01-15 00:00:00                      5.507324              70.541216   \n",
       "2016-01-15 01:00:00                      5.257781              69.266198   \n",
       "2016-01-15 02:00:00                      5.383759              68.116445   \n",
       "2016-01-15 03:00:00                      4.858634              68.347543   \n",
       "2016-01-15 04:00:00                      4.939416              66.927016   \n",
       "\n",
       "                     final.output.tail_au  final.output.tail_ag  \\\n",
       "date                                                              \n",
       "2016-01-15 00:00:00              2.143149             10.411962   \n",
       "2016-01-15 01:00:00              2.224930             10.462676   \n",
       "2016-01-15 02:00:00              2.257889             10.507046   \n",
       "2016-01-15 03:00:00              2.146849             10.422762   \n",
       "2016-01-15 04:00:00              2.055292             10.360302   \n",
       "\n",
       "                     final.output.tail_pb  final.output.tail_sol  \n",
       "date                                                              \n",
       "2016-01-15 00:00:00              0.895447              16.904297  \n",
       "2016-01-15 01:00:00              0.927452              16.634514  \n",
       "2016-01-15 02:00:00              0.953716              16.208849  \n",
       "2016-01-15 03:00:00              0.883763              16.532835  \n",
       "2016-01-15 04:00:00              0.792826              16.525686  \n",
       "\n",
       "[5 rows x 86 columns]"
      ]
     },
     "metadata": {},
     "output_type": "display_data"
    }
   ],
   "source": [
    "display(df_full.info(), df_full.head())"
   ]
  },
  {
   "cell_type": "code",
   "execution_count": 7,
   "metadata": {
    "scrolled": true
   },
   "outputs": [
    {
     "data": {
      "text/plain": [
       "0"
      ]
     },
     "metadata": {},
     "output_type": "display_data"
    },
    {
     "data": {
      "text/plain": [
       "0"
      ]
     },
     "metadata": {},
     "output_type": "display_data"
    },
    {
     "data": {
      "text/plain": [
       "0"
      ]
     },
     "metadata": {},
     "output_type": "display_data"
    }
   ],
   "source": [
    "display(df_full.duplicated().sum(), df_train.duplicated().sum(), df_test.duplicated().sum())"
   ]
  },
  {
   "cell_type": "markdown",
   "metadata": {},
   "source": [
    "Итак, данные загружены. Сразу бросается в глаза, что в выборке test только 53 столбца против 87 в выборках full и train. На этот момент далее обратим внимание подробнее.\n",
    "\n",
    "Также, практически в каждом столбце любой выборки есть некоторое кол-во пустых значений, в основном незначительное.\n",
    "\n",
    "Явные дубликаты отсутствуют.\n",
    "\n"
   ]
  },
  {
   "cell_type": "markdown",
   "metadata": {},
   "source": [
    "<div class=\"alert alert-success\">\n",
    "<h2> Комментарий ревьюера <a class=\"tocSkip\"> </h2>\n",
    "\n",
    "<b>Все отлично!👍</b> Первичный анализ данных выполнен."
   ]
  },
  {
   "cell_type": "markdown",
   "metadata": {},
   "source": [
    "## Рассчитаем эффективность обогащения для rougher.output.recovery на выборке train"
   ]
  },
  {
   "cell_type": "code",
   "execution_count": 8,
   "metadata": {},
   "outputs": [],
   "source": [
    "rougher_output_recovery_train = ((df_train['rougher.output.concentrate_au'] * \n",
    "                                 (df_train['rougher.input.feed_au'] - df_train['rougher.output.tail_au']))/\n",
    "                                 (df_train['rougher.input.feed_au'] * (df_train['rougher.output.concentrate_au'] \n",
    "                                                                       - df_train['rougher.output.tail_au']))) * 100"
   ]
  },
  {
   "cell_type": "code",
   "execution_count": 9,
   "metadata": {},
   "outputs": [
    {
     "name": "stdout",
     "output_type": "stream",
     "text": [
      "MAE этапа флотации: 9.83758577644259e-15\n",
      "RMAE этапа флотации: 9.918460453337801e-08\n",
      "Средняя rougher.output.recovery: 82.52119968211336\n",
      "Средняя rougher_output_recovery_train: 82.52119968211336\n"
     ]
    }
   ],
   "source": [
    "print('MAE этапа флотации:', mean_absolute_error(df_train['rougher.output.recovery'], rougher_output_recovery_train))\n",
    "print('RMAE этапа флотации:', (mean_absolute_error(df_train['rougher.output.recovery'], rougher_output_recovery_train))**0.5)\n",
    "print('Средняя rougher.output.recovery:', df_train['rougher.output.recovery'].mean())\n",
    "print('Средняя rougher_output_recovery_train:', rougher_output_recovery_train.mean())"
   ]
  },
  {
   "cell_type": "markdown",
   "metadata": {},
   "source": [
    "Вывод: можно сказать, что эффективность рассчитана верно, об этом говорит низкий MAE, а также идентичные средние значения."
   ]
  },
  {
   "cell_type": "markdown",
   "metadata": {},
   "source": [
    "<div class=\"alert alert-success\">\n",
    "<h2> Комментарий ревьюера <a class=\"tocSkip\"> </h2>\n",
    "\n",
    "<b>Все отлично!👍:</b> Оценили `MAE` между исходным и расчётным значением эффективности обогащения и убедились, что эффективность обогащения рассчитана правильно - отлично!\n",
    "</div>"
   ]
  },
  {
   "cell_type": "markdown",
   "metadata": {},
   "source": [
    "## Вглянем на стобцы, которые есть в train и отсутствуют в test:"
   ]
  },
  {
   "cell_type": "code",
   "execution_count": 10,
   "metadata": {
    "scrolled": true
   },
   "outputs": [
    {
     "data": {
      "text/plain": [
       "{'final.output.concentrate_ag',\n",
       " 'final.output.concentrate_au',\n",
       " 'final.output.concentrate_pb',\n",
       " 'final.output.concentrate_sol',\n",
       " 'final.output.recovery',\n",
       " 'final.output.tail_ag',\n",
       " 'final.output.tail_au',\n",
       " 'final.output.tail_pb',\n",
       " 'final.output.tail_sol',\n",
       " 'primary_cleaner.output.concentrate_ag',\n",
       " 'primary_cleaner.output.concentrate_au',\n",
       " 'primary_cleaner.output.concentrate_pb',\n",
       " 'primary_cleaner.output.concentrate_sol',\n",
       " 'primary_cleaner.output.tail_ag',\n",
       " 'primary_cleaner.output.tail_au',\n",
       " 'primary_cleaner.output.tail_pb',\n",
       " 'primary_cleaner.output.tail_sol',\n",
       " 'rougher.calculation.au_pb_ratio',\n",
       " 'rougher.calculation.floatbank10_sulfate_to_au_feed',\n",
       " 'rougher.calculation.floatbank11_sulfate_to_au_feed',\n",
       " 'rougher.calculation.sulfate_to_au_concentrate',\n",
       " 'rougher.output.concentrate_ag',\n",
       " 'rougher.output.concentrate_au',\n",
       " 'rougher.output.concentrate_pb',\n",
       " 'rougher.output.concentrate_sol',\n",
       " 'rougher.output.recovery',\n",
       " 'rougher.output.tail_ag',\n",
       " 'rougher.output.tail_au',\n",
       " 'rougher.output.tail_pb',\n",
       " 'rougher.output.tail_sol',\n",
       " 'secondary_cleaner.output.tail_ag',\n",
       " 'secondary_cleaner.output.tail_au',\n",
       " 'secondary_cleaner.output.tail_pb',\n",
       " 'secondary_cleaner.output.tail_sol'}"
      ]
     },
     "metadata": {},
     "output_type": "display_data"
    }
   ],
   "source": [
    "columns_not_in_test = set(df_train.columns) - set(df_test.columns)\n",
    "display(columns_not_in_test)"
   ]
  },
  {
   "cell_type": "markdown",
   "metadata": {},
   "source": [
    "Как видно из списка, в тестовой выборке нет столбцов, обозначающих выходные параметры продукты на различных стадиях процесса."
   ]
  },
  {
   "cell_type": "markdown",
   "metadata": {},
   "source": [
    "<div class=\"alert alert-success\">\n",
    "<h2> Комментарий ревьюера <a class=\"tocSkip\"> </h2>\n",
    "\n",
    "<b>Все отлично!👍:</b> Проанализировали разницу в признаках между выборками. "
   ]
  },
  {
   "cell_type": "markdown",
   "metadata": {},
   "source": [
    "<div class=\"alert alert-block alert-danger\">\n",
    "<h2> Комментарий ревьюера <a class=\"tocSkip\"></h2>\n",
    "\n",
    "    \n",
    "<b>На доработку❌:</b> Здесь стоит вспомнить разницу между онлайн и оффлайн метриками: исходя из понимания, что тестовая выборка имитирует работу модели в реальных условиях протекания технологического процесса, давай подумаем, почему в `train` есть признаки, которые недоступны в `test`?\n",
    "    \n",
    "Нужно сделать вывод о причине расхожедния количества признаков между `train` и `test`."
   ]
  },
  {
   "cell_type": "markdown",
   "metadata": {},
   "source": [
    "<div class=\"alert alert-info\">\n",
    "<h2> Комментарий студента <a class=\"tocSkip\"> </h2>\n",
    "\n",
    "Дополняю:    \n",
    "    \n",
    "Предположительно, отсутствие некоторых данных связано с тем, что в тестовой выборке содержатся параметры, которые известны до запуска процесса - следовательно, в нее не попадают параметры, которые формируются по мере прохождения каждого из этапов процесса. Показатели содержания веществ по итогам каждого этапа, как в черновом концентрате, так и в отвальных хвостах как раз становятся известными по окончанию соответствующего процесса.\n",
    "</div>"
   ]
  },
  {
   "cell_type": "markdown",
   "metadata": {},
   "source": [
    "<div class=\"alert alert-success\">\n",
    "<h2> Комментарий ревьюера v.2 <a class=\"tocSkip\"> </h2>\n",
    "\n",
    "<b>Все отлично!👍:</b> Всё верно!"
   ]
  },
  {
   "cell_type": "markdown",
   "metadata": {},
   "source": [
    "## Предобработка данных"
   ]
  },
  {
   "cell_type": "markdown",
   "metadata": {},
   "source": [
    "На этапе ознакомления с данными было выявлено, что дубликатов нет, однако, встречаются пустые значения в большистве столбцов.\n",
    "\n",
    "Из условий задачи мы знаем, что соседние по индексу (дата+время) параметры часто близки по значениям. Исходя из этого, заполним пустые значения соседними. В нашем случае, датасеты уже отсортированы по индексу от ранних к поздним. Пропуским заполним с помощью метода ffil()"
   ]
  },
  {
   "cell_type": "code",
   "execution_count": 11,
   "metadata": {
    "scrolled": false
   },
   "outputs": [],
   "source": [
    "dfs = [df_train, df_test, df_full]\n",
    "for i in dfs:\n",
    "    i.ffill(inplace = True, axis = 0)"
   ]
  },
  {
   "cell_type": "code",
   "execution_count": 12,
   "metadata": {},
   "outputs": [
    {
     "name": "stdout",
     "output_type": "stream",
     "text": [
      "<class 'pandas.core.frame.DataFrame'>\n",
      "Index: 14579 entries, 2016-01-15 00:00:00 to 2017-12-09 13:59:59\n",
      "Data columns (total 86 columns):\n",
      " #   Column                                              Non-Null Count  Dtype  \n",
      "---  ------                                              --------------  -----  \n",
      " 0   rougher.input.feed_au                               14579 non-null  float64\n",
      " 1   rougher.input.feed_ag                               14579 non-null  float64\n",
      " 2   rougher.input.feed_pb                               14579 non-null  float64\n",
      " 3   rougher.input.feed_sol                              14579 non-null  float64\n",
      " 4   rougher.input.feed_rate                             14579 non-null  float64\n",
      " 5   rougher.input.feed_size                             14579 non-null  float64\n",
      " 6   rougher.input.floatbank10_sulfate                   14579 non-null  float64\n",
      " 7   rougher.input.floatbank10_xanthate                  14579 non-null  float64\n",
      " 8   rougher.state.floatbank10_a_air                     14579 non-null  float64\n",
      " 9   rougher.state.floatbank10_a_level                   14579 non-null  float64\n",
      " 10  rougher.state.floatbank10_b_air                     14579 non-null  float64\n",
      " 11  rougher.state.floatbank10_b_level                   14579 non-null  float64\n",
      " 12  rougher.state.floatbank10_c_air                     14579 non-null  float64\n",
      " 13  rougher.state.floatbank10_c_level                   14579 non-null  float64\n",
      " 14  rougher.state.floatbank10_d_air                     14579 non-null  float64\n",
      " 15  rougher.state.floatbank10_d_level                   14579 non-null  float64\n",
      " 16  rougher.state.floatbank10_e_air                     14579 non-null  float64\n",
      " 17  rougher.state.floatbank10_e_level                   14579 non-null  float64\n",
      " 18  rougher.state.floatbank10_f_air                     14579 non-null  float64\n",
      " 19  rougher.state.floatbank10_f_level                   14579 non-null  float64\n",
      " 20  rougher.input.floatbank11_sulfate                   14579 non-null  float64\n",
      " 21  rougher.input.floatbank11_xanthate                  14579 non-null  float64\n",
      " 22  rougher.calculation.sulfate_to_au_concentrate       14579 non-null  float64\n",
      " 23  rougher.calculation.floatbank10_sulfate_to_au_feed  14579 non-null  float64\n",
      " 24  rougher.calculation.floatbank11_sulfate_to_au_feed  14579 non-null  float64\n",
      " 25  rougher.calculation.au_pb_ratio                     14579 non-null  float64\n",
      " 26  rougher.output.concentrate_au                       14579 non-null  float64\n",
      " 27  rougher.output.concentrate_ag                       14579 non-null  float64\n",
      " 28  rougher.output.concentrate_pb                       14579 non-null  float64\n",
      " 29  rougher.output.concentrate_sol                      14579 non-null  float64\n",
      " 30  rougher.output.recovery                             14579 non-null  float64\n",
      " 31  rougher.output.tail_au                              14579 non-null  float64\n",
      " 32  rougher.output.tail_ag                              14579 non-null  float64\n",
      " 33  rougher.output.tail_pb                              14579 non-null  float64\n",
      " 34  rougher.output.tail_sol                             14579 non-null  float64\n",
      " 35  primary_cleaner.input.sulfate                       14579 non-null  float64\n",
      " 36  primary_cleaner.input.depressant                    14579 non-null  float64\n",
      " 37  primary_cleaner.input.feed_size                     14579 non-null  float64\n",
      " 38  primary_cleaner.input.xanthate                      14579 non-null  float64\n",
      " 39  primary_cleaner.state.floatbank8_a_air              14579 non-null  float64\n",
      " 40  primary_cleaner.state.floatbank8_a_level            14579 non-null  float64\n",
      " 41  primary_cleaner.state.floatbank8_b_air              14579 non-null  float64\n",
      " 42  primary_cleaner.state.floatbank8_b_level            14579 non-null  float64\n",
      " 43  primary_cleaner.state.floatbank8_c_air              14579 non-null  float64\n",
      " 44  primary_cleaner.state.floatbank8_c_level            14579 non-null  float64\n",
      " 45  primary_cleaner.state.floatbank8_d_air              14579 non-null  float64\n",
      " 46  primary_cleaner.state.floatbank8_d_level            14579 non-null  float64\n",
      " 47  primary_cleaner.output.concentrate_au               14579 non-null  float64\n",
      " 48  primary_cleaner.output.concentrate_ag               14579 non-null  float64\n",
      " 49  primary_cleaner.output.concentrate_pb               14579 non-null  float64\n",
      " 50  primary_cleaner.output.concentrate_sol              14579 non-null  float64\n",
      " 51  primary_cleaner.output.tail_au                      14579 non-null  float64\n",
      " 52  primary_cleaner.output.tail_ag                      14579 non-null  float64\n",
      " 53  primary_cleaner.output.tail_pb                      14579 non-null  float64\n",
      " 54  primary_cleaner.output.tail_sol                     14579 non-null  float64\n",
      " 55  secondary_cleaner.state.floatbank2_a_air            14579 non-null  float64\n",
      " 56  secondary_cleaner.state.floatbank2_a_level          14579 non-null  float64\n",
      " 57  secondary_cleaner.state.floatbank2_b_air            14579 non-null  float64\n",
      " 58  secondary_cleaner.state.floatbank2_b_level          14579 non-null  float64\n",
      " 59  secondary_cleaner.state.floatbank3_a_air            14579 non-null  float64\n",
      " 60  secondary_cleaner.state.floatbank3_a_level          14579 non-null  float64\n",
      " 61  secondary_cleaner.state.floatbank3_b_air            14579 non-null  float64\n",
      " 62  secondary_cleaner.state.floatbank3_b_level          14579 non-null  float64\n",
      " 63  secondary_cleaner.state.floatbank4_a_air            14579 non-null  float64\n",
      " 64  secondary_cleaner.state.floatbank4_a_level          14579 non-null  float64\n",
      " 65  secondary_cleaner.state.floatbank4_b_air            14579 non-null  float64\n",
      " 66  secondary_cleaner.state.floatbank4_b_level          14579 non-null  float64\n",
      " 67  secondary_cleaner.state.floatbank5_a_air            14579 non-null  float64\n",
      " 68  secondary_cleaner.state.floatbank5_a_level          14579 non-null  float64\n",
      " 69  secondary_cleaner.state.floatbank5_b_air            14579 non-null  float64\n",
      " 70  secondary_cleaner.state.floatbank5_b_level          14579 non-null  float64\n",
      " 71  secondary_cleaner.state.floatbank6_a_air            14579 non-null  float64\n",
      " 72  secondary_cleaner.state.floatbank6_a_level          14579 non-null  float64\n",
      " 73  secondary_cleaner.output.tail_au                    14579 non-null  float64\n",
      " 74  secondary_cleaner.output.tail_ag                    14579 non-null  float64\n",
      " 75  secondary_cleaner.output.tail_pb                    14579 non-null  float64\n",
      " 76  secondary_cleaner.output.tail_sol                   14579 non-null  float64\n",
      " 77  final.output.concentrate_au                         14579 non-null  float64\n",
      " 78  final.output.concentrate_ag                         14579 non-null  float64\n",
      " 79  final.output.concentrate_pb                         14579 non-null  float64\n",
      " 80  final.output.concentrate_sol                        14579 non-null  float64\n",
      " 81  final.output.recovery                               14579 non-null  float64\n",
      " 82  final.output.tail_au                                14579 non-null  float64\n",
      " 83  final.output.tail_ag                                14579 non-null  float64\n",
      " 84  final.output.tail_pb                                14579 non-null  float64\n",
      " 85  final.output.tail_sol                               14579 non-null  float64\n",
      "dtypes: float64(86)\n",
      "memory usage: 10.2+ MB\n"
     ]
    },
    {
     "data": {
      "text/plain": [
       "None"
      ]
     },
     "metadata": {},
     "output_type": "display_data"
    },
    {
     "name": "stdout",
     "output_type": "stream",
     "text": [
      "<class 'pandas.core.frame.DataFrame'>\n",
      "Index: 4860 entries, 2017-12-09 14:59:59 to 2018-08-18 10:59:59\n",
      "Data columns (total 52 columns):\n",
      " #   Column                                      Non-Null Count  Dtype  \n",
      "---  ------                                      --------------  -----  \n",
      " 0   rougher.input.feed_au                       4860 non-null   float64\n",
      " 1   rougher.input.feed_ag                       4860 non-null   float64\n",
      " 2   rougher.input.feed_pb                       4860 non-null   float64\n",
      " 3   rougher.input.feed_sol                      4860 non-null   float64\n",
      " 4   rougher.input.feed_rate                     4860 non-null   float64\n",
      " 5   rougher.input.feed_size                     4860 non-null   float64\n",
      " 6   rougher.input.floatbank10_sulfate           4860 non-null   float64\n",
      " 7   rougher.input.floatbank10_xanthate          4860 non-null   float64\n",
      " 8   rougher.state.floatbank10_a_air             4860 non-null   float64\n",
      " 9   rougher.state.floatbank10_a_level           4860 non-null   float64\n",
      " 10  rougher.state.floatbank10_b_air             4860 non-null   float64\n",
      " 11  rougher.state.floatbank10_b_level           4860 non-null   float64\n",
      " 12  rougher.state.floatbank10_c_air             4860 non-null   float64\n",
      " 13  rougher.state.floatbank10_c_level           4860 non-null   float64\n",
      " 14  rougher.state.floatbank10_d_air             4860 non-null   float64\n",
      " 15  rougher.state.floatbank10_d_level           4860 non-null   float64\n",
      " 16  rougher.state.floatbank10_e_air             4860 non-null   float64\n",
      " 17  rougher.state.floatbank10_e_level           4860 non-null   float64\n",
      " 18  rougher.state.floatbank10_f_air             4860 non-null   float64\n",
      " 19  rougher.state.floatbank10_f_level           4860 non-null   float64\n",
      " 20  rougher.input.floatbank11_sulfate           4860 non-null   float64\n",
      " 21  rougher.input.floatbank11_xanthate          4860 non-null   float64\n",
      " 22  primary_cleaner.input.sulfate               4860 non-null   float64\n",
      " 23  primary_cleaner.input.depressant            4860 non-null   float64\n",
      " 24  primary_cleaner.input.feed_size             4860 non-null   float64\n",
      " 25  primary_cleaner.input.xanthate              4860 non-null   float64\n",
      " 26  primary_cleaner.state.floatbank8_a_air      4860 non-null   float64\n",
      " 27  primary_cleaner.state.floatbank8_a_level    4860 non-null   float64\n",
      " 28  primary_cleaner.state.floatbank8_b_air      4860 non-null   float64\n",
      " 29  primary_cleaner.state.floatbank8_b_level    4860 non-null   float64\n",
      " 30  primary_cleaner.state.floatbank8_c_air      4860 non-null   float64\n",
      " 31  primary_cleaner.state.floatbank8_c_level    4860 non-null   float64\n",
      " 32  primary_cleaner.state.floatbank8_d_air      4860 non-null   float64\n",
      " 33  primary_cleaner.state.floatbank8_d_level    4860 non-null   float64\n",
      " 34  secondary_cleaner.state.floatbank2_a_air    4860 non-null   float64\n",
      " 35  secondary_cleaner.state.floatbank2_a_level  4860 non-null   float64\n",
      " 36  secondary_cleaner.state.floatbank2_b_air    4860 non-null   float64\n",
      " 37  secondary_cleaner.state.floatbank2_b_level  4860 non-null   float64\n",
      " 38  secondary_cleaner.state.floatbank3_a_air    4860 non-null   float64\n",
      " 39  secondary_cleaner.state.floatbank3_a_level  4860 non-null   float64\n",
      " 40  secondary_cleaner.state.floatbank3_b_air    4860 non-null   float64\n",
      " 41  secondary_cleaner.state.floatbank3_b_level  4860 non-null   float64\n",
      " 42  secondary_cleaner.state.floatbank4_a_air    4860 non-null   float64\n",
      " 43  secondary_cleaner.state.floatbank4_a_level  4860 non-null   float64\n",
      " 44  secondary_cleaner.state.floatbank4_b_air    4860 non-null   float64\n",
      " 45  secondary_cleaner.state.floatbank4_b_level  4860 non-null   float64\n",
      " 46  secondary_cleaner.state.floatbank5_a_air    4860 non-null   float64\n",
      " 47  secondary_cleaner.state.floatbank5_a_level  4860 non-null   float64\n",
      " 48  secondary_cleaner.state.floatbank5_b_air    4860 non-null   float64\n",
      " 49  secondary_cleaner.state.floatbank5_b_level  4860 non-null   float64\n",
      " 50  secondary_cleaner.state.floatbank6_a_air    4860 non-null   float64\n",
      " 51  secondary_cleaner.state.floatbank6_a_level  4860 non-null   float64\n",
      "dtypes: float64(52)\n",
      "memory usage: 2.0+ MB\n"
     ]
    },
    {
     "data": {
      "text/plain": [
       "None"
      ]
     },
     "metadata": {},
     "output_type": "display_data"
    },
    {
     "name": "stdout",
     "output_type": "stream",
     "text": [
      "<class 'pandas.core.frame.DataFrame'>\n",
      "Index: 19439 entries, 2016-01-15 00:00:00 to 2018-08-18 10:59:59\n",
      "Data columns (total 86 columns):\n",
      " #   Column                                              Non-Null Count  Dtype  \n",
      "---  ------                                              --------------  -----  \n",
      " 0   rougher.input.feed_au                               19439 non-null  float64\n",
      " 1   rougher.input.feed_ag                               19439 non-null  float64\n",
      " 2   rougher.input.feed_pb                               19439 non-null  float64\n",
      " 3   rougher.input.feed_sol                              19439 non-null  float64\n",
      " 4   rougher.input.feed_rate                             19439 non-null  float64\n",
      " 5   rougher.input.feed_size                             19439 non-null  float64\n",
      " 6   rougher.input.floatbank10_sulfate                   19439 non-null  float64\n",
      " 7   rougher.input.floatbank10_xanthate                  19439 non-null  float64\n",
      " 8   rougher.state.floatbank10_a_air                     19439 non-null  float64\n",
      " 9   rougher.state.floatbank10_a_level                   19439 non-null  float64\n",
      " 10  rougher.state.floatbank10_b_air                     19439 non-null  float64\n",
      " 11  rougher.state.floatbank10_b_level                   19439 non-null  float64\n",
      " 12  rougher.state.floatbank10_c_air                     19439 non-null  float64\n",
      " 13  rougher.state.floatbank10_c_level                   19439 non-null  float64\n",
      " 14  rougher.state.floatbank10_d_air                     19439 non-null  float64\n",
      " 15  rougher.state.floatbank10_d_level                   19439 non-null  float64\n",
      " 16  rougher.state.floatbank10_e_air                     19439 non-null  float64\n",
      " 17  rougher.state.floatbank10_e_level                   19439 non-null  float64\n",
      " 18  rougher.state.floatbank10_f_air                     19439 non-null  float64\n",
      " 19  rougher.state.floatbank10_f_level                   19439 non-null  float64\n",
      " 20  rougher.input.floatbank11_sulfate                   19439 non-null  float64\n",
      " 21  rougher.input.floatbank11_xanthate                  19439 non-null  float64\n",
      " 22  rougher.calculation.sulfate_to_au_concentrate       19439 non-null  float64\n",
      " 23  rougher.calculation.floatbank10_sulfate_to_au_feed  19439 non-null  float64\n",
      " 24  rougher.calculation.floatbank11_sulfate_to_au_feed  19439 non-null  float64\n",
      " 25  rougher.calculation.au_pb_ratio                     19439 non-null  float64\n",
      " 26  rougher.output.concentrate_au                       19439 non-null  float64\n",
      " 27  rougher.output.concentrate_ag                       19439 non-null  float64\n",
      " 28  rougher.output.concentrate_pb                       19439 non-null  float64\n",
      " 29  rougher.output.concentrate_sol                      19439 non-null  float64\n",
      " 30  rougher.output.recovery                             19439 non-null  float64\n",
      " 31  rougher.output.tail_au                              19439 non-null  float64\n",
      " 32  rougher.output.tail_ag                              19439 non-null  float64\n",
      " 33  rougher.output.tail_pb                              19439 non-null  float64\n",
      " 34  rougher.output.tail_sol                             19439 non-null  float64\n",
      " 35  primary_cleaner.input.sulfate                       19439 non-null  float64\n",
      " 36  primary_cleaner.input.depressant                    19439 non-null  float64\n",
      " 37  primary_cleaner.input.feed_size                     19439 non-null  float64\n",
      " 38  primary_cleaner.input.xanthate                      19439 non-null  float64\n",
      " 39  primary_cleaner.state.floatbank8_a_air              19439 non-null  float64\n",
      " 40  primary_cleaner.state.floatbank8_a_level            19439 non-null  float64\n",
      " 41  primary_cleaner.state.floatbank8_b_air              19439 non-null  float64\n",
      " 42  primary_cleaner.state.floatbank8_b_level            19439 non-null  float64\n",
      " 43  primary_cleaner.state.floatbank8_c_air              19439 non-null  float64\n",
      " 44  primary_cleaner.state.floatbank8_c_level            19439 non-null  float64\n",
      " 45  primary_cleaner.state.floatbank8_d_air              19439 non-null  float64\n",
      " 46  primary_cleaner.state.floatbank8_d_level            19439 non-null  float64\n",
      " 47  primary_cleaner.output.concentrate_au               19439 non-null  float64\n",
      " 48  primary_cleaner.output.concentrate_ag               19439 non-null  float64\n",
      " 49  primary_cleaner.output.concentrate_pb               19439 non-null  float64\n",
      " 50  primary_cleaner.output.concentrate_sol              19439 non-null  float64\n",
      " 51  primary_cleaner.output.tail_au                      19439 non-null  float64\n",
      " 52  primary_cleaner.output.tail_ag                      19439 non-null  float64\n",
      " 53  primary_cleaner.output.tail_pb                      19439 non-null  float64\n",
      " 54  primary_cleaner.output.tail_sol                     19439 non-null  float64\n",
      " 55  secondary_cleaner.state.floatbank2_a_air            19439 non-null  float64\n",
      " 56  secondary_cleaner.state.floatbank2_a_level          19439 non-null  float64\n",
      " 57  secondary_cleaner.state.floatbank2_b_air            19439 non-null  float64\n",
      " 58  secondary_cleaner.state.floatbank2_b_level          19439 non-null  float64\n",
      " 59  secondary_cleaner.state.floatbank3_a_air            19439 non-null  float64\n",
      " 60  secondary_cleaner.state.floatbank3_a_level          19439 non-null  float64\n",
      " 61  secondary_cleaner.state.floatbank3_b_air            19439 non-null  float64\n",
      " 62  secondary_cleaner.state.floatbank3_b_level          19439 non-null  float64\n",
      " 63  secondary_cleaner.state.floatbank4_a_air            19439 non-null  float64\n",
      " 64  secondary_cleaner.state.floatbank4_a_level          19439 non-null  float64\n",
      " 65  secondary_cleaner.state.floatbank4_b_air            19439 non-null  float64\n",
      " 66  secondary_cleaner.state.floatbank4_b_level          19439 non-null  float64\n",
      " 67  secondary_cleaner.state.floatbank5_a_air            19439 non-null  float64\n",
      " 68  secondary_cleaner.state.floatbank5_a_level          19439 non-null  float64\n",
      " 69  secondary_cleaner.state.floatbank5_b_air            19439 non-null  float64\n",
      " 70  secondary_cleaner.state.floatbank5_b_level          19439 non-null  float64\n",
      " 71  secondary_cleaner.state.floatbank6_a_air            19439 non-null  float64\n",
      " 72  secondary_cleaner.state.floatbank6_a_level          19439 non-null  float64\n",
      " 73  secondary_cleaner.output.tail_au                    19439 non-null  float64\n",
      " 74  secondary_cleaner.output.tail_ag                    19439 non-null  float64\n",
      " 75  secondary_cleaner.output.tail_pb                    19439 non-null  float64\n",
      " 76  secondary_cleaner.output.tail_sol                   19439 non-null  float64\n",
      " 77  final.output.concentrate_au                         19439 non-null  float64\n",
      " 78  final.output.concentrate_ag                         19439 non-null  float64\n",
      " 79  final.output.concentrate_pb                         19439 non-null  float64\n",
      " 80  final.output.concentrate_sol                        19439 non-null  float64\n",
      " 81  final.output.recovery                               19439 non-null  float64\n",
      " 82  final.output.tail_au                                19439 non-null  float64\n",
      " 83  final.output.tail_ag                                19439 non-null  float64\n",
      " 84  final.output.tail_pb                                19439 non-null  float64\n",
      " 85  final.output.tail_sol                               19439 non-null  float64\n",
      "dtypes: float64(86)\n",
      "memory usage: 12.9+ MB\n"
     ]
    },
    {
     "data": {
      "text/plain": [
       "None"
      ]
     },
     "metadata": {},
     "output_type": "display_data"
    }
   ],
   "source": [
    "for i in dfs:\n",
    "    display(i.info())"
   ]
  },
  {
   "cell_type": "markdown",
   "metadata": {},
   "source": [
    "Видим, что пустые значения заполнены."
   ]
  },
  {
   "cell_type": "markdown",
   "metadata": {},
   "source": [
    "<div class=\"alert alert-success\">\n",
    "<h2> Комментарий ревьюера <a class=\"tocSkip\"> </h2>\n",
    "\n",
    "<b>Все отлично!👍:</b> Обработали пропуски с помощью стратегии заполнения `forward fill`, а также пояснили причину выбора такой стратегии - отлично!\n",
    "</div>"
   ]
  },
  {
   "cell_type": "markdown",
   "metadata": {},
   "source": [
    "## Итоги этапа Подготовка данных"
   ]
  },
  {
   "cell_type": "markdown",
   "metadata": {},
   "source": [
    "Итого, что сделано по этапу:\n",
    "1. Загружены библиотеки и данные для работы;\n",
    "2. Данные проверены на дубликаты и пустые значения: дубликаты не обнаружены, пустые значения заполнены соседними (предыдущими);\n",
    "3. Рассчитана эффективность для этапа Флотация в выборке train: корректность расчета эффективности (исходная) подтверждена."
   ]
  },
  {
   "cell_type": "markdown",
   "metadata": {},
   "source": [
    "# Анализ данных"
   ]
  },
  {
   "cell_type": "markdown",
   "metadata": {},
   "source": [
    "## Наблюдаем за динамикой концентрации металлов на различных этапах"
   ]
  },
  {
   "cell_type": "markdown",
   "metadata": {},
   "source": [
    "Для визуализации распределений хорошо подойдет distplot"
   ]
  },
  {
   "cell_type": "code",
   "execution_count": 13,
   "metadata": {},
   "outputs": [
    {
     "data": {
      "image/png": "[encoded data removed]",
      "text/plain": [
       "<Figure size 720x504 with 1 Axes>"
      ]
     },
     "metadata": {
      "needs_background": "light"
     },
     "output_type": "display_data"
    },
    {
     "data": {
      "image/png": "[encoded data removed]",
      "text/plain": [
       "<Figure size 720x504 with 1 Axes>"
      ]
     },
     "metadata": {
      "needs_background": "light"
     },
     "output_type": "display_data"
    },
    {
     "data": {
      "image/png": "[encoded data removed]",
      "text/plain": [
       "<Figure size 720x504 with 1 Axes>"
      ]
     },
     "metadata": {
      "needs_background": "light"
     },
     "output_type": "display_data"
    }
   ],
   "source": [
    "metal = [('au', 'золота'), ('ag', 'серебра'), ('pb', 'свинца')]\n",
    "stage = [('rougher.input.feed_', 'Исходное сырье'), \n",
    "         ('rougher.output.concentrate_', 'Флотация'), \n",
    "               ('primary_cleaner.output.concentrate_', 'Первый этап очистки'), \n",
    "               ('final.output.concentrate_', 'Второй этап очистки')]\n",
    "for q in metal:\n",
    "    plt.figure(figsize = (10, 7))\n",
    "    for w in stage:\n",
    "        ax = sns.distplot(df_full[w[0] + q[0]], label = w[1])\n",
    "        plt.legend()\n",
    "        _ = ax.set(title='Динамика концентрации ' + q[1] + ' на этапах процесса',\n",
    "                   xlabel='Распределение концeнтрации ' + q[1],\n",
    "                  ylabel = 'Уровень концентрации')\n",
    "    plt.show()"
   ]
  },
  {
   "cell_type": "markdown",
   "metadata": {},
   "source": [
    "1) Первое, что бросается в глаза - наличие заметного кол-ва выбросов на отметке 0, перед работой с моделями от них нужно избавиться. В целом распределения можно считать нормальными.\n",
    "\n",
    "2) Концентрация золота: самые высокие значения концентрации наблюдаются на флотации и 2-й очистке. Вероятно, в отвальном хвосте после флотации наиболее высокая концентрация золота, в сравнении с хвостами других этапов.\n",
    "\n",
    "3) Концентрация серебра показывает рост с каждым последующиим этапом процесса. При этом, его распреление не столь равномерно, как в случае с золотом.\n",
    "\n",
    "4) Распрелеление концентрации свинца по этапам схожа с золотом по динамике, но распределение значений ближе к распределению серебра.\n",
    "\n",
    "**Update после добавления концентрации металлов в исходном сырье:**\n",
    "- концентрация металлов в исходном сырье практически не имеет аномальных значений - они появляются в большей степени после флотации, в меньшей - на оставшихся этапах;\n",
    "- концентрация золота выглядит интересно: ее значения не отличаются в значительной степени от этапа к этапу (кроме 1-й очистки), тогда как, например, концентрация серебра показывает значительный рост ко 2-му этапу очистки. Возможно, такова особенность тех. процесса;\n",
    "- также значения концентрации серебра в исходном сырье показывает 2-й выраженный пик значений, который размывается на последующих этапах. С концентрацией золота ситуация похожая, но пик менее выражен."
   ]
  },
  {
   "cell_type": "markdown",
   "metadata": {},
   "source": [
    "Здесь возникают вопросы касательно значений 0: их становится много в черновом концентрате и чуть меньше в финальном.\n",
    "Нулевые значения вызывают сомнения в их корректности, врядли возможно такое, что после флотации не остается следов ни одного из металлов."
   ]
  },
  {
   "cell_type": "markdown",
   "metadata": {},
   "source": [
    "<div class=\"alert alert-success\">\n",
    "<h2> Комментарий ревьюера <a class=\"tocSkip\"> </h2>\n",
    "\n",
    "<b>Все отлично!👍:</b> Исследована концентрация металлов на разных стадиях обработки, проанализирована динамика концентрации в зависимости от этапа техпроцесса - отлично, тут всё верно.\n",
    "    \n",
    "Круто, что были отмечены нулевые значения - это действительно аномалия, подлежащая удалению.\n",
    "</div>"
   ]
  },
  {
   "cell_type": "markdown",
   "metadata": {},
   "source": [
    "<div class=\"alert alert-block alert-danger\">\n",
    "<h2> Комментарий ревьюера <a class=\"tocSkip\"></h2>\n",
    "\n",
    "    \n",
    "<b>На доработку❌:</b>\n",
    "\n",
    "1. Концентрацию металлов также нужно исследовать на этапе `rougher.input.feed_`.\n",
    "        \n",
    "2. На данном этапе следует также избавиться от аномалий - предполагается, что на этапе анализа суммарной концентрации аномалии уже были обнаружены и удалены. "
   ]
  },
  {
   "cell_type": "markdown",
   "metadata": {},
   "source": [
    "<div class=\"alert alert-info\">\n",
    "<h2> Комментарий студента <a class=\"tocSkip\"> </h2>\n",
    "\n",
    "Действительно, что-то я проморгал этот момент. Добавил.\n",
    "    \n",
    "Вывод также дополнен.\n",
    "    \n",
    "Ниже чистим от аномалий:\n",
    "</div>"
   ]
  },
  {
   "cell_type": "markdown",
   "metadata": {},
   "source": [
    "<div class=\"alert alert-success\">\n",
    "<h2> Комментарий ревьюера v.2 <a class=\"tocSkip\"> </h2>\n",
    "\n",
    "<b>Все отлично!👍:</b> Учтено."
   ]
  },
  {
   "cell_type": "code",
   "execution_count": 14,
   "metadata": {},
   "outputs": [
    {
     "data": {
      "text/plain": [
       "(18848, 90)"
      ]
     },
     "execution_count": 14,
     "metadata": {},
     "output_type": "execute_result"
    }
   ],
   "source": [
    "df_full['total_input_metal'] = (df_full['rougher.input.feed_au'] + df_full['rougher.input.feed_ag']+\n",
    "                          df_full['rougher.input.feed_pb'] + df_full['rougher.input.feed_sol'])\n",
    "df_full['total_rougher_metal'] = (df_full['rougher.output.concentrate_au'] + df_full['rougher.output.concentrate_ag']+\n",
    "                          df_full['rougher.output.concentrate_pb'] + df_full['rougher.output.concentrate_sol'])\n",
    "df_full['total_primary_metal'] = (df_full['primary_cleaner.output.concentrate_au'] + df_full['primary_cleaner.output.concentrate_ag']+\n",
    "                          df_full['primary_cleaner.output.concentrate_pb'] + df_full['primary_cleaner.output.concentrate_sol'])\n",
    "df_full['total_final_metal'] = (df_full['final.output.concentrate_au'] + df_full['final.output.concentrate_ag']+\n",
    "                          df_full['final.output.concentrate_pb'] + df_full['final.output.concentrate_sol'])\n",
    "\n",
    "df_full_nz = df_full[(df_full['total_input_metal'] > 0) & (df_full['total_rougher_metal'] > 0) & \n",
    "                         (df_full['total_primary_metal'] > 0) & (df_full['total_final_metal'] > 0)]\n",
    "df_full_nz.shape"
   ]
  },
  {
   "cell_type": "markdown",
   "metadata": {},
   "source": [
    "Строки с нулевыми значениями суммарного содержания металлов удалены. Датафрейм без аномальных значений df_full_nz."
   ]
  },
  {
   "cell_type": "markdown",
   "metadata": {},
   "source": [
    "## Сравнительный анализ распределения размера гранул исходного сырья на обучающей и тестовой выборках"
   ]
  },
  {
   "cell_type": "markdown",
   "metadata": {},
   "source": [
    "Здесь можем просто наложить две гистограммы:"
   ]
  },
  {
   "cell_type": "code",
   "execution_count": 15,
   "metadata": {},
   "outputs": [
    {
     "data": {
      "image/png": "[encoded data removed]",
      "text/plain": [
       "<Figure size 720x504 with 1 Axes>"
      ]
     },
     "metadata": {
      "needs_background": "light"
     },
     "output_type": "display_data"
    }
   ],
   "source": [
    "plt.figure(figsize = (10,7))\n",
    "sns.distplot(df_train['rougher.input.feed_size'], label='Обучающая выборка')\n",
    "sns.distplot(df_test['rougher.input.feed_size'], label='Тестовая выборка')\n",
    "plt.legend()\n",
    "plt.show()"
   ]
  },
  {
   "cell_type": "markdown",
   "metadata": {},
   "source": [
    "<div class=\"alert alert-success\">\n",
    "<h2> Комментарий ревьюера <a class=\"tocSkip\"> </h2>\n",
    "\n",
    "<b>Все отлично!👍:</b> Сравнили размеры гранул сырья на обучающей и тестовой выборках - отлично, распределения между выборками действительно схожи, следовательно модель будет корректно работать.\n",
    "    \n",
    "Здорово, что используешь гистограмму плотности для оценки распределения непрерывных переменных."
   ]
  },
  {
   "cell_type": "markdown",
   "metadata": {},
   "source": [
    "Также, будет не лишним оценить различия более конкретно - с помощью ttest:"
   ]
  },
  {
   "cell_type": "markdown",
   "metadata": {},
   "source": [
    "<div class=\"alert alert-info\">\n",
    "<h2> Комментарий студента <a class=\"tocSkip\"> </h2>\n",
    "\n",
    "В данном случае equal_var решил оставить True (по умолчанию), т.к. на мой взгляд, дисперсии можно считать равными.\n",
    "Ниже дополнительно вызвал decribe для оценки, по которому можно увидеть, что std отличаются незначительно.\n",
    "</div>"
   ]
  },
  {
   "cell_type": "markdown",
   "metadata": {},
   "source": [
    "<div class=\"alert alert-warning\">\n",
    "    <h2> Комментарий ревьюера v.2 <a class=\"tocSkip\"> </h2>\n",
    "\n",
    "<b>Некоторые замечания и рекомендации⚠️:</b> Если выборки отличаются по размеру более чем на 25%, `equal_var` нужно настраивать на `False` для корректной работы теста."
   ]
  },
  {
   "cell_type": "code",
   "execution_count": 16,
   "metadata": {},
   "outputs": [
    {
     "data": {
      "text/plain": [
       "count    14579.000000\n",
       "mean        59.070865\n",
       "std         22.903811\n",
       "min          0.049194\n",
       "25%         47.322462\n",
       "50%         54.464259\n",
       "75%         64.469177\n",
       "max        484.967466\n",
       "Name: rougher.input.feed_size, dtype: float64"
      ]
     },
     "metadata": {},
     "output_type": "display_data"
    },
    {
     "data": {
      "text/plain": [
       "count    4860.000000\n",
       "mean       59.136150\n",
       "std        19.512497\n",
       "min         0.046369\n",
       "25%        47.610795\n",
       "50%        55.461058\n",
       "75%        66.538910\n",
       "max       363.989699\n",
       "Name: rougher.input.feed_size, dtype: float64"
      ]
     },
     "metadata": {},
     "output_type": "display_data"
    }
   ],
   "source": [
    "display(df_train['rougher.input.feed_size'].describe())\n",
    "display(df_test['rougher.input.feed_size'].describe())"
   ]
  },
  {
   "cell_type": "markdown",
   "metadata": {},
   "source": [
    "<div class=\"alert alert-info\">\n",
    "<h2> Комментарий студента <a class=\"tocSkip\"> </h2>\n",
    "\n",
    "Гипотезы следующие:\n",
    "    \n",
    "H0: Средние значения размеров гранул равны.\n",
    "    \n",
    "H1: Среднее значение гранул в тренировочной выборке больше или меньше, чем в тестовой.\n",
    "</div>"
   ]
  },
  {
   "cell_type": "code",
   "execution_count": 17,
   "metadata": {},
   "outputs": [
    {
     "name": "stdout",
     "output_type": "stream",
     "text": [
      "P-value 0.8584827363512197\n",
      "Нулевая гипотеза не отвергается\n"
     ]
    }
   ],
   "source": [
    "alpha = 0.5\n",
    "\n",
    "result_ttest = ttest_ind(df_train['rougher.input.feed_size'], df_test['rougher.input.feed_size'], alternative = 'two-sided')\n",
    "\n",
    "print('P-value', result_ttest.pvalue)\n",
    "if result_ttest.pvalue < alpha:\n",
    "    print('Нулевая гипотеза отвергается')\n",
    "else:\n",
    "    print('Нулевая гипотеза не отвергается')"
   ]
  },
  {
   "cell_type": "markdown",
   "metadata": {},
   "source": [
    "В итоге, распределение размера гранул в обучающей и тестовой выборке не имеет значительных различий."
   ]
  },
  {
   "cell_type": "markdown",
   "metadata": {},
   "source": [
    "<div class=\"alert alert-success\">\n",
    "<h2> Комментарий ревьюера <a class=\"tocSkip\"> </h2>\n",
    "\n",
    "<b>Все отлично!👍:</b> Круто, что дополняешь графический анализ статистическим тестом."
   ]
  },
  {
   "cell_type": "markdown",
   "metadata": {},
   "source": [
    "<div class=\"alert alert-block alert-danger\">\n",
    "<h2> Комментарий ревьюера <a class=\"tocSkip\"></h2>\n",
    "\n",
    "    \n",
    "<b>На доработку❌:</b> Перед применением тестов не забывай сформулировать гипотезы - нулевую и альтернативную. Также не забывай про настройку `equal_var`."
   ]
  },
  {
   "cell_type": "markdown",
   "metadata": {},
   "source": [
    "<div class=\"alert alert-info\">\n",
    "<h2> Комментарий студента <a class=\"tocSkip\"> </h2>\n",
    "\n",
    "оформил тест как положено\n",
    "</div>"
   ]
  },
  {
   "cell_type": "markdown",
   "metadata": {},
   "source": [
    "<div class=\"alert alert-success\">\n",
    "<h2> Комментарий ревьюера v.2 <a class=\"tocSkip\"> </h2>\n",
    "\n",
    "<b>Все отлично!👍:</b> Учтено."
   ]
  },
  {
   "cell_type": "markdown",
   "metadata": {},
   "source": [
    "## Смотрим суммарную концентрацию металлов на разных стадиях процесса"
   ]
  },
  {
   "cell_type": "code",
   "execution_count": 18,
   "metadata": {
    "scrolled": false
   },
   "outputs": [
    {
     "data": {
      "image/png": "[encoded data removed]",
      "text/plain": [
       "<Figure size 720x504 with 1 Axes>"
      ]
     },
     "metadata": {
      "needs_background": "light"
     },
     "output_type": "display_data"
    },
    {
     "data": {
      "image/png": "[encoded data removed]",
      "text/plain": [
       "<Figure size 720x504 with 1 Axes>"
      ]
     },
     "metadata": {
      "needs_background": "light"
     },
     "output_type": "display_data"
    },
    {
     "data": {
      "image/png": "[encoded data removed]",
      "text/plain": [
       "<Figure size 720x504 with 1 Axes>"
      ]
     },
     "metadata": {
      "needs_background": "light"
     },
     "output_type": "display_data"
    },
    {
     "data": {
      "image/png": "[encoded data removed]",
      "text/plain": [
       "<Figure size 720x504 with 1 Axes>"
      ]
     },
     "metadata": {
      "needs_background": "light"
     },
     "output_type": "display_data"
    }
   ],
   "source": [
    "stage_c = [('rougher.input.feed_', 'Концентрация веществ в исходном сырье'), \n",
    "           ('rougher.output.concentrate_', 'Концентрация веществ в черновом концентрате'), \n",
    "           ('primary_cleaner.output.concentrate_', 'Концентрация веществ после первой очистки'), \n",
    "           ('final.output.concentrate_', 'Концентрация веществ в финальном концентрате')]\n",
    "\n",
    "for stage in stage_c:\n",
    "    plt.figure(figsize = (10, 7))\n",
    "    total_conc = (df_full_nz[stage[0] + 'au'] + df_full_nz[stage[0] + 'ag'] + \n",
    "                  df_full_nz[stage[0] + 'pb'] + df_full_nz[stage[0] + 'sol'])\n",
    "    plt.title(stage[1])\n",
    "    plt.xlabel('Кол-во значений')\n",
    "    plt.ylabel('Концентрация')\n",
    "    sns.distplot(total_conc)  \n",
    "    plt.show()"
   ]
  },
  {
   "cell_type": "markdown",
   "metadata": {},
   "source": [
    "<div class=\"alert alert-success\">\n",
    "<h2> Комментарий ревьюера <a class=\"tocSkip\"> </h2>\n",
    "\n",
    "<b>Все отлично!👍:</b> Исследована суммарная концентрация металлов на разных стадиях техпроцесса - отлично!"
   ]
  },
  {
   "cell_type": "markdown",
   "metadata": {},
   "source": [
    "<div class=\"alert alert-block alert-danger\">\n",
    "<h2> Комментарий ревьюера <a class=\"tocSkip\"></h2>\n",
    "\n",
    "    \n",
    "<b>На доработку❌:</b>\n",
    "\n",
    "1. Суммарную концентрацию металлов также нужно исследовать на этапе `primary_cleaner.output.concentrate_`.\n",
    "        \n",
    "2. Нужно сделать вывод о динамике суммарной концентрации металлов."
   ]
  },
  {
   "cell_type": "markdown",
   "metadata": {},
   "source": [
    "<div class=\"alert alert-success\">\n",
    "<h2> Комментарий ревьюера v.2 <a class=\"tocSkip\"> </h2>\n",
    "\n",
    "<b>Все отлично!👍:</b> Учтено."
   ]
  },
  {
   "cell_type": "markdown",
   "metadata": {},
   "source": [
    "<div class=\"alert alert-info\">\n",
    "<h2> Комментарий студента <a class=\"tocSkip\"> </h2>\n",
    "\n",
    "1. Упущенный этап добавлен в исследование;    \n",
    "    \n",
    "2. В целом, распределение суммарной концентрации металлов на разных этапах явно показывает, что распределение с каждым этапом сдвигается вправо. Это ожидаемо - логично, что с каждым последующим этапом очистки суммарная концентрация металлов растёт.\n",
    "</div>"
   ]
  },
  {
   "cell_type": "markdown",
   "metadata": {},
   "source": [
    "<div class=\"alert alert-block alert-danger\">\n",
    "<h2> Комментарий ревьюера <a class=\"tocSkip\"></h2>\n",
    "\n",
    "    \n",
    "<b>На доработку❌:</b> Очищено от аномалий два этапа из четырёх."
   ]
  },
  {
   "cell_type": "markdown",
   "metadata": {},
   "source": [
    "<div class=\"alert alert-success\">\n",
    "<h2> Комментарий ревьюера v.2 <a class=\"tocSkip\"> </h2>\n",
    "\n",
    "<b>Все отлично!👍:</b> Учтено."
   ]
  },
  {
   "cell_type": "markdown",
   "metadata": {},
   "source": [
    "<div class=\"alert alert-block alert-danger\">\n",
    "<h2> Комментарий ревьюера <a class=\"tocSkip\"></h2>\n",
    "\n",
    "    \n",
    "<b>На доработку❌:</b> Удаление аномалий должно быть выполнено ранее. "
   ]
  },
  {
   "cell_type": "markdown",
   "metadata": {},
   "source": [
    "<div class=\"alert alert-info\">\n",
    "<h2> Комментарий студента <a class=\"tocSkip\"> </h2>\n",
    "\n",
    "Работа с аномалиями перенесена выше, в п. 3.1.\n",
    "    \n",
    "Также к теме аномалий - на распределении концентрации веществ после первой очистки остается некоторый уровень аномальных значений, однако, здесь есть деталь: именно в этом этапе есть 117 значений с показателем менее 5%, тогда как в других этапах таких значений не больше 5 (на следующей строке проверка). \n",
    "\n",
    "В целом, не вижу критичности, если оставить как есть. \n",
    "</div>"
   ]
  },
  {
   "cell_type": "markdown",
   "metadata": {},
   "source": [
    "<div class=\"alert alert-success\">\n",
    "<h2> Комментарий ревьюера v.2 <a class=\"tocSkip\"> </h2>\n",
    "\n",
    "<b>Все отлично!👍:</b> Да, такое малое количество можно игнорировать, но в целом очень важно удалить именно нули."
   ]
  },
  {
   "cell_type": "code",
   "execution_count": 19,
   "metadata": {},
   "outputs": [
    {
     "data": {
      "text/plain": [
       "(5, 90)"
      ]
     },
     "metadata": {},
     "output_type": "display_data"
    },
    {
     "data": {
      "text/plain": [
       "(5, 90)"
      ]
     },
     "metadata": {},
     "output_type": "display_data"
    },
    {
     "data": {
      "text/plain": [
       "(117, 90)"
      ]
     },
     "metadata": {},
     "output_type": "display_data"
    },
    {
     "data": {
      "text/plain": [
       "(1, 90)"
      ]
     },
     "metadata": {},
     "output_type": "display_data"
    }
   ],
   "source": [
    "display(df_full_nz[df_full_nz['total_input_metal'] < 0.05].shape)\n",
    "display(df_full_nz[df_full_nz['total_rougher_metal'] < 0.05].shape)\n",
    "display(df_full_nz[df_full_nz['total_primary_metal'] < 0.05].shape)\n",
    "display(df_full_nz[df_full_nz['total_final_metal'] < 0.05].shape)"
   ]
  },
  {
   "cell_type": "markdown",
   "metadata": {},
   "source": [
    "## Итоги этапа Анализ данных"
   ]
  },
  {
   "cell_type": "markdown",
   "metadata": {},
   "source": [
    "Проанализирована динамика концентрации различных металлов по этапам процесса:\n",
    "\n",
    "1. Очевидно наличие заметного кол-ва выбросов на отметке 0, перед работой с моделями от них нужно избавиться. В целом распределения можно считать нормальными.\n",
    "        1.2. Концентрация золота: самые высокие значения концентрации наблюдаются на флотации и 2-й очистке. Вероятно, в отвальном хвосте после флотации наиболее высокая концентрация золота, в сравнении с хвостами других этапов.\\\n",
    "        1.3. Концентрация серебра показывает рост с каждым последующиим этапом процесса. При этом, его распреление не столь равномерно, как в случае с золотом.\n",
    "        1.4. Распрелеление концентрации свинца по этапам схожа с золотом по динамике, но распределение значений ближе к распределению серебра.\n",
    "\n",
    "2. Также проанализировано распределение размера гранул исходного сырья на обучающей и тестовой выборках. Вывод - значительных различий в распределении нет.\n",
    "\n",
    "\n",
    "3. Выполнен анализ суммарной концетрании металлов на различных этапах процесса. Распределение суммарной концентрации металлов на разных этапах явно показывает, что распределение с каждым этапом сдвигается вправо. Это ожидаемо - логично, что с каждым последующим этапом очистки суммарная концентрация металлов растёт.\n"
   ]
  },
  {
   "cell_type": "markdown",
   "metadata": {},
   "source": [
    "<div class=\"alert alert-success\">\n",
    "<h2> Комментарий ревьюера <a class=\"tocSkip\"> </h2>\n",
    "\n",
    "<b>Все отлично!👍:</b> Молодец, что не забываешь про промежуточные выводы."
   ]
  },
  {
   "cell_type": "markdown",
   "metadata": {},
   "source": [
    "# Модель"
   ]
  },
  {
   "cell_type": "markdown",
   "metadata": {},
   "source": [
    "## Подготовим выборки для моделей"
   ]
  },
  {
   "cell_type": "markdown",
   "metadata": {},
   "source": [
    "Т.к. ранее были удалены аномальные значения, необходимо соответственно обновить выборки test и train. Кроме этого, добавим целевые признаки в тест.\n",
    "\n",
    "Здесь имеет значение 1 важный момент: часть данных отсутствует в выборке test, но есть в выборке train ввиду того, что эти данные собираются значительно позже.\n",
    "Исходя из этого условия можно предположить, что модель необходимо обучать на данных, аналогичных test."
   ]
  },
  {
   "cell_type": "code",
   "execution_count": 20,
   "metadata": {},
   "outputs": [],
   "source": [
    "df_train_final = df_full.loc[df_train.index]\n",
    "df_test_final = df_full.loc[df_test.index]"
   ]
  },
  {
   "cell_type": "markdown",
   "metadata": {},
   "source": [
    "<div class=\"alert alert-success\">\n",
    "<h2> Комментарий ревьюера <a class=\"tocSkip\"> </h2>\n",
    "\n",
    "<b>Все отлично!👍:</b> Аномали отброшены."
   ]
  },
  {
   "cell_type": "code",
   "execution_count": 21,
   "metadata": {},
   "outputs": [],
   "source": [
    "df_train_final = df_train_final[(df_train_final['total_input_metal'] > 0) & (df_train_final['total_rougher_metal'] > 0) & \n",
    "                                (df_train_final['total_primary_metal'] > 0) & (df_train_final['total_final_metal'] > 0)]\n",
    "                                \n",
    "df_test_final = df_test_final[(df_test_final['total_input_metal'] > 0) & (df_test_final['total_rougher_metal'] > 0) & \n",
    "                                (df_test_final['total_primary_metal'] > 0) & (df_test_final['total_final_metal'] > 0)]"
   ]
  },
  {
   "cell_type": "code",
   "execution_count": 22,
   "metadata": {},
   "outputs": [
    {
     "data": {
      "text/plain": [
       "(13988, 54)"
      ]
     },
     "metadata": {},
     "output_type": "display_data"
    },
    {
     "data": {
      "text/plain": [
       "(4860, 54)"
      ]
     },
     "metadata": {},
     "output_type": "display_data"
    }
   ],
   "source": [
    "df_test_final = df_test_final.loc[:, df_test.columns]\n",
    "df_test_final[['rougher.output.recovery', 'final.output.recovery']] = df_full[['rougher.output.recovery', \n",
    "                                                                               'final.output.recovery']]\n",
    "df_train_final = df_train_final.loc[:, df_test_final.columns]\n",
    "                              \n",
    "display(df_train_final.shape, df_test_final.shape)"
   ]
  },
  {
   "cell_type": "markdown",
   "metadata": {},
   "source": [
    "<div class=\"alert alert-success\">\n",
    "<h2> Комментарий ревьюера <a class=\"tocSkip\"> </h2>\n",
    "\n",
    "<b>Все отлично!👍:</b> Синхронизировали тренировочную и тестовую выборки по набору признаков - хорошо!\n",
    "</div>"
   ]
  },
  {
   "cell_type": "markdown",
   "metadata": {},
   "source": [
    "Теперь сформируем итоговые выборки для работы моделей:"
   ]
  },
  {
   "cell_type": "code",
   "execution_count": 23,
   "metadata": {},
   "outputs": [
    {
     "data": {
      "text/plain": [
       "(13988, 52)"
      ]
     },
     "metadata": {},
     "output_type": "display_data"
    },
    {
     "data": {
      "text/plain": [
       "(13988,)"
      ]
     },
     "metadata": {},
     "output_type": "display_data"
    },
    {
     "data": {
      "text/plain": [
       "(13988,)"
      ]
     },
     "metadata": {},
     "output_type": "display_data"
    },
    {
     "data": {
      "text/plain": [
       "(4860, 52)"
      ]
     },
     "metadata": {},
     "output_type": "display_data"
    },
    {
     "data": {
      "text/plain": [
       "(4860,)"
      ]
     },
     "metadata": {},
     "output_type": "display_data"
    },
    {
     "data": {
      "text/plain": [
       "(4860,)"
      ]
     },
     "metadata": {},
     "output_type": "display_data"
    }
   ],
   "source": [
    "train_features = df_train_final.drop(['rougher.output.recovery', 'final.output.recovery'], axis = 1)\n",
    "train_target_r = df_train_final['rougher.output.recovery']\n",
    "train_target_f = df_train_final['final.output.recovery']\n",
    "\n",
    "test_features = df_test_final.drop(['rougher.output.recovery', 'final.output.recovery'], axis = 1)\n",
    "test_target_r = df_test_final['rougher.output.recovery']\n",
    "test_target_f = df_test_final['final.output.recovery']\n",
    "\n",
    "display(train_features.shape, train_target_r.shape, train_target_f.shape,\n",
    "       test_features.shape, test_target_r.shape, test_target_f.shape)"
   ]
  },
  {
   "cell_type": "markdown",
   "metadata": {},
   "source": [
    "<div class=\"alert alert-success\">\n",
    "<h2> Комментарий ревьюера <a class=\"tocSkip\"> </h2>\n",
    "\n",
    "<b>Все отлично!👍:</b> Выделили признаки для обучения и целевые признаки - отлично!\n",
    "</div>"
   ]
  },
  {
   "cell_type": "markdown",
   "metadata": {},
   "source": [
    "## Создание функций для sMAPE"
   ]
  },
  {
   "cell_type": "code",
   "execution_count": 24,
   "metadata": {},
   "outputs": [],
   "source": [
    "def smape(target, predicted):\n",
    "    return (1 / len(target) * np.sum(2 * np.abs(target - predicted) / \n",
    "                                    (np.abs(target) + np.abs(predicted)) * 100))\n",
    "def smape_final(rougher, final):\n",
    "    return 0.25*rougher + 0.75*final"
   ]
  },
  {
   "cell_type": "markdown",
   "metadata": {},
   "source": [
    "## Выбор лучшей модели"
   ]
  },
  {
   "cell_type": "markdown",
   "metadata": {},
   "source": [
    "Далее обучим несколько моделей и посчитаем sMAPE для каждой"
   ]
  },
  {
   "cell_type": "code",
   "execution_count": 25,
   "metadata": {},
   "outputs": [],
   "source": [
    "from numpy.random import RandomState\n",
    "state = RandomState(12345)"
   ]
  },
  {
   "cell_type": "code",
   "execution_count": 26,
   "metadata": {},
   "outputs": [],
   "source": [
    "smape_grid = make_scorer(smape, greater_is_better = False)"
   ]
  },
  {
   "cell_type": "markdown",
   "metadata": {},
   "source": [
    "<div class=\"alert alert-success\">\n",
    "<h2> Комментарий ревьюера <a class=\"tocSkip\"> </h2>\n",
    "\n",
    "<b>Все отлично!👍:</b> Есть функции для частного и взвешенного `sMAPE`, а также пользовательский скорринг для кросс-валидации - супер!\n",
    "</div>"
   ]
  },
  {
   "cell_type": "markdown",
   "metadata": {},
   "source": [
    "### Дерево решений"
   ]
  },
  {
   "cell_type": "code",
   "execution_count": 27,
   "metadata": {},
   "outputs": [
    {
     "name": "stdout",
     "output_type": "stream",
     "text": [
      "Tree_Rougher Лучшие параметры: {'max_depth': 6}\n",
      "Tree_Rougher Лучший sMAPE: 6.706010046229364\n",
      "Tree_Final Лучшие параметры: {'max_depth': 3}\n",
      "Tree_Final Лучший sMAPE: 9.151524513511035\n",
      "Tree Лучший итоговый sMAPE: 8.540145896690618\n",
      "CPU times: user 27.4 s, sys: 79.1 ms, total: 27.5 s\n",
      "Wall time: 27.5 s\n"
     ]
    }
   ],
   "source": [
    "%%time\n",
    "model_tree = DecisionTreeRegressor(random_state = state)\n",
    "parametrs_tree = {'max_depth': range(1, 10, 1)}\n",
    "\n",
    "grid_tree_r = GridSearchCV(model_tree, parametrs_tree, cv=5, scoring = smape_grid)\n",
    "grid_tree_f = GridSearchCV(model_tree, parametrs_tree, cv=5, scoring = smape_grid)\n",
    "\n",
    "grid_tree_r.fit(train_features, train_target_r)\n",
    "grid_tree_f.fit(train_features, train_target_f)\n",
    "\n",
    "print('Tree_Rougher Лучшие параметры:', grid_tree_r.best_params_)\n",
    "print('Tree_Rougher Лучший sMAPE:', abs(grid_tree_r.best_score_))\n",
    "print('Tree_Final Лучшие параметры:', grid_tree_f.best_params_)\n",
    "print('Tree_Final Лучший sMAPE:', abs(grid_tree_f.best_score_))\n",
    "print('Tree Лучший итоговый sMAPE:', abs(smape_final(grid_tree_r.best_score_, grid_tree_f.best_score_)))"
   ]
  },
  {
   "cell_type": "markdown",
   "metadata": {},
   "source": [
    "<div class=\"alert alert-block alert-danger\">\n",
    "<h2> Комментарий ревьюера <a class=\"tocSkip\"></h2>\n",
    "\n",
    "    \n",
    "<b>На доработку❌:</b>\n",
    "\n",
    "Как видишь, твоя метрика имеет отрицательное значение - это особеность работы `make_scorer` с настроенным параметром `greater_is_better=False`: так как метрика `sMAPE` применяется для задач регрессии, то она тем лучше, чем ниже - это нужно учитывать при создании скорринга для кросс-валидации, так как по умолчанию инструменты подбора гиперпараметров и поиска лучшей модели вроде `GridSearchCV` умеют только максимизировать метрику качества. Поэтому при создании скорринга с помощью `make_scorer` важно настроить параметр `greater_is_better=False`, чтобы оптимизируемая метрика минимизировалась, а не максимизировалась - таким образом задача максимизации будет решаться через задачу минимизации обратной функции.\n",
    "    \n",
    "Поэтому при выводе метрики на экран её стоит сделать положительной: взять по модулю, домножить на `-1` или просто указать `-` при выводе на экран, вроде `print(-a)`.\n",
    "        \n",
    "</div>"
   ]
  },
  {
   "cell_type": "markdown",
   "metadata": {},
   "source": [
    "<div class=\"alert alert-info\">\n",
    "<h2> Комментарий студента <a class=\"tocSkip\"> </h2>\n",
    "\n",
    "В итоге поправил вывод модулем в каждой модели.\n",
    "    \n",
    "Но здесь есть проблема - при наличии отрицательных значений также возможен некорректный выбор лучшей модели, к примеру она может показать лучший результат -7 согласно условиям отбора, при наличии более лучших результатов -6, -2 и т.д. \n",
    "Я попытался решить эту проблему путем извлечения модуля в теле функции, но оно не сработало.\\\n",
    "    Хочется услышать твое мнение по этому вопросу.\n",
    "</div>"
   ]
  },
  {
   "cell_type": "markdown",
   "metadata": {},
   "source": [
    "<div class=\"alert alert-success\">\n",
    "<h2> Комментарий ревьюера v.2 <a class=\"tocSkip\"> </h2>\n",
    "\n",
    "<b>Все отлично!👍:</b> Эта проблема решается непосредственно на уровне поиска лучшей модели за счёт `greater_is_better = False` у `make_scorer` - алоритм учитывает направление оптимизации и всё равно выдаёт лучшую модель. Тут только нужно поправить знак метрики."
   ]
  },
  {
   "cell_type": "markdown",
   "metadata": {},
   "source": [
    "### Случайный лес"
   ]
  },
  {
   "cell_type": "raw",
   "metadata": {},
   "source": [
    "%%time\n",
    "model_forest = RandomForestRegressor(random_state = state)\n",
    "parametrs_forest = {'max_depth': range(1, 20, 2),\n",
    "                 'n_estimators': range(1, 51, 6)}\n",
    "\n",
    "grid_forest_r = GridSearchCV(model_forest, parametrs_forest, cv=5, scoring = smape_grid)\n",
    "grid_forest_f = GridSearchCV(model_forest, parametrs_forest, cv=5, scoring = smape_grid)\n",
    "\n",
    "grid_forest_r.fit(train_features, train_target_r)\n",
    "grid_forest_f.fit(train_features, train_target_f)\n",
    "\n",
    "print('Forest_Rougher Лучшие параметры:', grid_forest_r.best_params_)\n",
    "print('Forest_Rougher Лучший sMAPE:', grid_forest_r.best_score_)\n",
    "print('Forest_Final Лучшие параметры:', grid_forest_f.best_params_)\n",
    "print('Forest_Final Лучший sMAPE:', grid_forest_f.best_score_)\n",
    "print('Tree Лучший итоговый sMAPE:', smape_final(grid_forest_r.best_score_, grid_forest_f.best_score_))"
   ]
  },
  {
   "cell_type": "markdown",
   "metadata": {},
   "source": [
    "**Здесь пришлось изменить тип ячейки с кодом на маркдаун - время расчета 2 часа 8 минут. Результат работы модели зафиксирован в итогах.**"
   ]
  },
  {
   "cell_type": "markdown",
   "metadata": {},
   "source": [
    "### Линейная регрессия"
   ]
  },
  {
   "cell_type": "code",
   "execution_count": 28,
   "metadata": {},
   "outputs": [
    {
     "name": "stdout",
     "output_type": "stream",
     "text": [
      "Linear_Rougher средний sMAPE: 7.039186251866072\n",
      "Linear_Final средний sMAPE: 9.477923458692736\n",
      "Linear Лучший итоговый sMAPE: 8.86823915698607\n",
      "CPU times: user 914 ms, sys: 1.32 s, total: 2.23 s\n",
      "Wall time: 2.22 s\n"
     ]
    }
   ],
   "source": [
    "%%time\n",
    "model_linear = LinearRegression()\n",
    "\n",
    "cross_linear_r = cross_val_score(model_linear, train_features, train_target_r, \n",
    "                                 scoring = smape_grid, cv = 5)\n",
    "cross_linear_f = cross_val_score(model_linear, train_features, train_target_f, \n",
    "                                 scoring = smape_grid, cv = 5)\n",
    "\n",
    "print('Linear_Rougher средний sMAPE:', abs(cross_linear_r.mean()))\n",
    "print('Linear_Final средний sMAPE:', abs(cross_linear_f.mean()))\n",
    "print('Linear Лучший итоговый sMAPE:', abs(smape_final(cross_linear_r.mean(), cross_linear_f.mean())))"
   ]
  },
  {
   "cell_type": "markdown",
   "metadata": {},
   "source": [
    "### Регрессия Лассо"
   ]
  },
  {
   "cell_type": "code",
   "execution_count": 29,
   "metadata": {},
   "outputs": [
    {
     "name": "stdout",
     "output_type": "stream",
     "text": [
      "Lasso_Rougher средний sMAPE: 6.999307651507502\n",
      "Lasso_Final средний sMAPE: 9.530051960089997\n",
      "Lasso Лучший итоговый sMAPE: 8.897365882944372\n",
      "CPU times: user 6.23 s, sys: 8.04 s, total: 14.3 s\n",
      "Wall time: 14.5 s\n"
     ]
    }
   ],
   "source": [
    "%%time\n",
    "model_lasso = Lasso(random_state = state)\n",
    "\n",
    "lasso_r = cross_val_score(model_lasso, train_features, train_target_r, \n",
    "                          scoring = smape_grid, cv = 5)\n",
    "lasso_f = cross_val_score(model_lasso, train_features, train_target_f, \n",
    "                          scoring = smape_grid, cv = 5)\n",
    "\n",
    "print('Lasso_Rougher средний sMAPE:', abs(lasso_r.mean()))\n",
    "print('Lasso_Final средний sMAPE:', abs(lasso_f.mean()))\n",
    "print('Lasso Лучший итоговый sMAPE:', abs(smape_final(lasso_r.mean(), lasso_f.mean())))"
   ]
  },
  {
   "cell_type": "markdown",
   "metadata": {},
   "source": [
    "<div class=\"alert alert-block alert-danger\">\n",
    "<h2> Комментарий ревьюера <a class=\"tocSkip\"></h2>\n",
    "\n",
    "    \n",
    "<b>На доработку❌:</b> Тут и ниже не забывай настроить `random_state`."
   ]
  },
  {
   "cell_type": "markdown",
   "metadata": {},
   "source": [
    "<div class=\"alert alert-info\">\n",
    "<h2> Комментарий студента <a class=\"tocSkip\"> </h2>\n",
    "    \n",
    "Сделано\n",
    "</div>"
   ]
  },
  {
   "cell_type": "markdown",
   "metadata": {},
   "source": [
    "<div class=\"alert alert-success\">\n",
    "<h2> Комментарий ревьюера v.2 <a class=\"tocSkip\"> </h2>\n",
    "\n",
    "<b>Все отлично!👍:</b> Учтено."
   ]
  },
  {
   "cell_type": "markdown",
   "metadata": {},
   "source": [
    "### Гребневая регрессия"
   ]
  },
  {
   "cell_type": "code",
   "execution_count": 30,
   "metadata": {},
   "outputs": [
    {
     "name": "stdout",
     "output_type": "stream",
     "text": [
      "Ridge_Rougher средний sMAPE: 7.038772689001865\n",
      "Ridge_Final средний sMAPE: 9.47751891772818\n",
      "Ridge Лучший итоговый sMAPE: 8.8678323605466\n",
      "CPU times: user 329 ms, sys: 331 ms, total: 660 ms\n",
      "Wall time: 697 ms\n"
     ]
    }
   ],
   "source": [
    "%%time\n",
    "model_ridge = Ridge(random_state = state)\n",
    "\n",
    "ridge_r = cross_val_score(model_ridge, train_features, train_target_r, \n",
    "                          scoring = smape_grid, cv = 5)\n",
    "ridge_f = cross_val_score(model_ridge, train_features, train_target_f, \n",
    "                          scoring = smape_grid, cv = 5)\n",
    "\n",
    "print('Ridge_Rougher средний sMAPE:', abs(ridge_r.mean()))\n",
    "print('Ridge_Final средний sMAPE:', abs(ridge_f.mean()))\n",
    "print('Ridge Лучший итоговый sMAPE:', abs(smape_final(ridge_r.mean(), ridge_f.mean())))"
   ]
  },
  {
   "cell_type": "markdown",
   "metadata": {},
   "source": [
    "### Регрессия Эластичная сеть"
   ]
  },
  {
   "cell_type": "code",
   "execution_count": 31,
   "metadata": {},
   "outputs": [
    {
     "name": "stdout",
     "output_type": "stream",
     "text": [
      "ElasticNet_Rougher средний sMAPE: 6.776161852133089\n",
      "ElasticNet_Final средний sMAPE: 9.370038533981742\n",
      "ElasticNet Лучший итоговый sMAPE: 8.721569363519578\n",
      "CPU times: user 8.91 s, sys: 10.5 s, total: 19.4 s\n",
      "Wall time: 19.4 s\n"
     ]
    }
   ],
   "source": [
    "%%time\n",
    "model_elanet = ElasticNet(random_state = state)\n",
    "\n",
    "elastic_r = cross_val_score(model_elanet, train_features, train_target_r, \n",
    "                            scoring = smape_grid, cv = 5)\n",
    "elastic_f = cross_val_score(model_elanet, train_features, train_target_f, \n",
    "                            scoring = smape_grid, cv = 5)\n",
    "\n",
    "print('ElasticNet_Rougher средний sMAPE:', abs(elastic_r.mean()))\n",
    "print('ElasticNet_Final средний sMAPE:', abs(elastic_f.mean()))\n",
    "print('ElasticNet Лучший итоговый sMAPE:', abs(smape_final(elastic_r.mean(), elastic_f.mean())))"
   ]
  },
  {
   "cell_type": "markdown",
   "metadata": {},
   "source": [
    "## Лучшая модель и итоговое тестирование"
   ]
  },
  {
   "cell_type": "markdown",
   "metadata": {},
   "source": [
    "### Выбор лучшей модели"
   ]
  },
  {
   "cell_type": "markdown",
   "metadata": {},
   "source": [
    "Подведем итоги проверки моделей:\n",
    "1) model_tree итоговый sMAPE: 8.542481632246151 (при max_depth 6 для rougher и 3 для final)\\\n",
    "~~2) model_forest итоговый sMAPE: -11.322568434328776 (rougher: max_depth = 5, n_estimators = 31; final: max_depth = 5, n_estimators = 31)~~\\\n",
    "здесь не стал по новой обучать модель, т.к. очень затратно по времени при не самом лучшем результате\\\n",
    "3) model_linear средний sMAPE: 8.86823915698607\\\n",
    "4) model_lasso средний sMAPE: 8.897365882944372\\\n",
    "5) model_ridge средний sMAPE: 8.8678323605466\\\n",
    "6) model_elanet средний sMAPE: 8.721569363519578\\\n",
    "\n",
    "Лучшей моделию оказалась model_tree, далее проверим модель с помощью dummy, а после применим на тестовой выборке."
   ]
  },
  {
   "cell_type": "markdown",
   "metadata": {},
   "source": [
    "<div class=\"alert alert-success\">\n",
    "<h2> Комментарий ревьюера <a class=\"tocSkip\"> </h2>\n",
    "\n",
    "<b>Все отлично!👍:</b> Найдена лучшая модель."
   ]
  },
  {
   "cell_type": "code",
   "execution_count": 32,
   "metadata": {},
   "outputs": [
    {
     "name": "stdout",
     "output_type": "stream",
     "text": [
      "dummy_mean Итоговое sMAPE: 9.08919245590066\n"
     ]
    }
   ],
   "source": [
    "model_dummy_r = DummyRegressor(strategy = 'mean')\n",
    "model_dummy_f = DummyRegressor(strategy = 'mean')\n",
    "\n",
    "model_dummy_r.fit(train_features, train_target_r)\n",
    "model_dummy_f.fit(train_features, train_target_f)\n",
    "\n",
    "dummy_predictions_r = model_dummy_r.predict(train_features)\n",
    "dummy_predictions_f = model_dummy_f.predict(train_features)\n",
    "\n",
    "print('dummy_mean Итоговое sMAPE:', smape_final(smape(train_target_r, dummy_predictions_r), \n",
    "                                           smape(train_target_f, dummy_predictions_f)))"
   ]
  },
  {
   "cell_type": "code",
   "execution_count": 33,
   "metadata": {},
   "outputs": [
    {
     "name": "stdout",
     "output_type": "stream",
     "text": [
      "dummy_const Итоговое sMAPE: 34.119454742396144\n"
     ]
    }
   ],
   "source": [
    "model_dummy_r_c = DummyRegressor(strategy = 'constant', constant = 100)\n",
    "model_dummy_f_c = DummyRegressor(strategy = 'constant', constant = 100)\n",
    "\n",
    "model_dummy_r_c.fit(train_features, train_target_r)\n",
    "model_dummy_f_c.fit(train_features, train_target_f)\n",
    "\n",
    "dummy_predictions_r_c = model_dummy_r_c.predict(train_features)\n",
    "dummy_predictions_f_c = model_dummy_f_c.predict(train_features)\n",
    "\n",
    "print('dummy_const Итоговое sMAPE:', smape_final(smape(train_target_r, dummy_predictions_r_c), \n",
    "                                           smape(train_target_f, dummy_predictions_f_c)))"
   ]
  },
  {
   "cell_type": "markdown",
   "metadata": {},
   "source": [
    "В целом, model_tree показала несколько лучший результат, чем dummy, однако по сути разница небольшая."
   ]
  },
  {
   "cell_type": "markdown",
   "metadata": {},
   "source": [
    "<div class=\"alert alert-success\">\n",
    "<h2> Комментарий ревьюера <a class=\"tocSkip\"> </h2>\n",
    "\n",
    "<b>Все отлично!👍:</b> Круто, что оцениваешь качество константной модели."
   ]
  },
  {
   "cell_type": "markdown",
   "metadata": {},
   "source": [
    "### Тестирование модели на выборке test"
   ]
  },
  {
   "cell_type": "code",
   "execution_count": 34,
   "metadata": {},
   "outputs": [
    {
     "name": "stdout",
     "output_type": "stream",
     "text": [
      "Итоговый sMAPE на тестовой выборке: 7.111127094031028\n",
      "CPU times: user 682 ms, sys: 10.6 ms, total: 693 ms\n",
      "Wall time: 699 ms\n"
     ]
    }
   ],
   "source": [
    "%%time\n",
    "\n",
    "model_tree_best_r = DecisionTreeRegressor(max_depth = 6, random_state = state)\n",
    "model_tree_best_f = DecisionTreeRegressor(max_depth = 3, random_state = state)\n",
    "\n",
    "model_tree_best_r.fit(train_features, train_target_r)\n",
    "model_tree_best_f.fit(train_features, train_target_f)\n",
    "\n",
    "predict_r = model_tree_best_r.predict(test_features)\n",
    "predict_f = model_tree_best_f.predict(test_features)\n",
    "\n",
    "print('Итоговый sMAPE на тестовой выборке:', smape_final(smape(test_target_r, predict_r), \n",
    "                                                         smape(test_target_f, predict_f)))"
   ]
  },
  {
   "cell_type": "markdown",
   "metadata": {},
   "source": [
    "sMAPE на тестовой выборке получился 7.111, что в в целом можно считать неплохим результатом."
   ]
  },
  {
   "cell_type": "markdown",
   "metadata": {},
   "source": [
    "<div class=\"alert alert-success\">\n",
    "    \n",
    "<h2> Комментарий ревьюера <a class=\"tocSkip\"> </h2>\n",
    "\n",
    "<b>Все отлично!👍:</b> Лучшую модель оценили на `test` - отличный результат!"
   ]
  },
  {
   "cell_type": "markdown",
   "metadata": {},
   "source": [
    "# Итоги проекта"
   ]
  },
  {
   "cell_type": "markdown",
   "metadata": {},
   "source": [
    "Что было сделано в рамках задачи:\n",
    "\n",
    "1. Импортированы необходимые библиотеки и датафреймы для выполнения задачи.\n",
    "\n",
    "\n",
    "2. Датафреймы изучены. Основные выводы:\n",
    "        2.1. Разница в кол-ве параметров выборки test в сравнении с train и full. Согласно условиям задачи, не все данные доступны в моменте. Это важный момент для дальнейшей работы - значит модель необходимо обучать на тех данных, которые будут доступны в нужный момент, а в данном случае это набор параметров из выборки test.\n",
    "        2.2. В выборке test отсутствуют параметры, которые характеризуют результаты этапов процесса: флотация, первая и вторая очистки, финальный результат. Скорее всего, это связано с тем, что в тестовой выборке содержатся параметры, которые известны до запуска процесса - следовательно, в нее не попадают параметры, которые формируются по мере прохождения каждого из этапов процесса. Показатели содержания веществ по итогам каждого этапа, как в черновом концентрате, так и в отвальных хвостах как раз становятся известными по окончании соответствующего процесса. \n",
    "        2.3. Явные дубликаты не выявлены.\n",
    "        2.4. Вявлено незначительное кол-во NaN в большинстве столбцов каждого датафрейма.\n",
    "        \n",
    "\n",
    "3. Датафреймы подготовлены:\n",
    "        3.1. Провалидирован расчет эффективности обогощения на этапе Флотация (rougher).\n",
    "        3.2. Заполнены пропуски методом замены на предшествующее значение - ввиду того, что согласно условиям задачи, расположенные рядом значения элементов часто похожи.\n",
    "        \n",
    "\n",
    "4. Анализ параметров:\n",
    "        4.1. Проанализирована динамика концентрации различных металлов по этапам процесса:\n",
    "            4.1.1. Очевидно наличие заметного кол-ва выбросов на отметке 0, перед работой с моделями от них нужно избавиться. В целом распределения можно считать нормальными.\n",
    "            4.1.2. Концентрация золота: самые высокие значения концентрации наблюдаются на флотации и 2-й очистке. Вероятно, в отвальном хвосте после флотации наиболее высокая концентрация золота, в сравнении с хвостами других этапов.\n",
    "            4.1.3. Концентрация серебра показывает рост с каждым последующиим этапом процесса. При этом, его распреление не столь равномерно, как в случае с золотом.\n",
    "            4.1.4. Распрелеление концентрации свинца по этапам схожа с золотом по динамике, но распределение значений ближе к распределению серебра.\n",
    "\n",
    "        4.2. Также проанализировано распределение размера гранул исходного сырья на обучающей и тестовой выборках. Вывод - значительных различий в распределении нет.\n",
    "\n",
    "        4.3. Выполнен анализ суммарной концетрании металлов на различных этапах процесса. В целом, распределение суммарной концентрации металлов на разных этапах явно показывает, что распределение с каждым этапом сдвигается вправо. Это ожидаемо - логично, что с каждым последующим этапом очистки суммарная концентрация металлов растёт.\n",
    "        \n",
    "\n",
    "5. Работа с моделями:\n",
    "        5.1. Подготовлены выборки для обучения и работы моделей.\n",
    "        5.2. Создана функция для расчета sMAPE и итоговой sMAPE.\n",
    "        5.3. Инициализированы модели:\n",
    "            5.3.1. Дерево решений с подбором гиперпараметров. Итого получили sMAPE: 8.542 при (max_depth_rougher = 6 и max_depth_final = 3).\n",
    "            ~~5.3.2. Случайный лес с подбором гиперпараметров. Итого получили sMAPE: -11.323 при (max_depth = 5 и n_estumators = 31).~~\n",
    "            5.3.3. Линейная регрессия, итоговый sMAPE: 8.868\n",
    "            5.3.4. Регрессия Лассо, итоговый sMAPE: 8.897\n",
    "            5.3.5. Гребневая регрессия, итоговый sMAPE: 8.868\n",
    "            5.3.6. Регрессия Эластичная сеть, итоговый sMAPE: 8.722\n",
    "        5.4. Определена лучшая модель - Дерево решений. Модель дополнительно проверена с помощью DummyRegressor со стратениями mean и constant.\n",
    "        5.5. Модель протестирована на тестовой выборки, достигнут итоговый sMAPE 7.111, что, вероятно, можно считать приемлемым отклонением."
   ]
  },
  {
   "cell_type": "markdown",
   "metadata": {},
   "source": [
    "<div style=\"border:solid Chocolate 2px; padding: 40px\">\n",
    "\n",
    "# Комментарий ревьюера: общий вывод по проекту.\n",
    "\n",
    "Имран, проект получился на довольно хорошем уровне - отличная работа над проектом, молодец!\n",
    "\n",
    "Мне нравится твой аналитический подход к выполнению проекта, ты соблюдаешь структуру работы, выполняешь её последовательно - это очень хорошо! Шаги проекта выполнены по порядку согласно плану проекта, нет смысловых и структурных ям. Важно, что не забываешь про выводы.\n",
    "\n",
    "Работа с моделями также выполнена отлично: исследовано несколько алгоритмов, проведён подбор гиперпараметров с помощью `GridSearchCV`, выполнена промежуточная оценка моделей на кросс-валидации - молодец!\n",
    "    \n",
    "Над проектом ещё стоит поработать - есть рекомендации по дополнению некоторых твоих шагов проекта. Такие рекомендации я отметил жёлтыми комментариями. Будет здорово, если ты учтёшь их - так проект станет структурно и содержательно более совершенным.\n",
    "    \n",
    "Также в работе есть критические замечания. К этим замечаниям я оставил пояснительные комментарии красного цвета, в которых перечислил возможные варианты дальнейших действий. Уверен, ты быстро с этим управишься:)\n",
    "    \n",
    "Если о том, что нужно сделать в рамках комментариев, будут возникать вопросы - оставь их, пожалуйста, в комментариях, и я отвечу на них во время следующего ревью.\n",
    "    \n",
    "Также буду рад ответить на любые твои вопросы по проекту или на какие-либо другие, если они у тебя имеются - оставь их в комментариях, и я постараюсь ответить:)\n",
    "    \n",
    "Жду твой проект на повторном ревью. До встречи:)"
   ]
  },
  {
   "cell_type": "markdown",
   "metadata": {},
   "source": [
    "<div class=\"alert alert-info\">\n",
    "<h2> Комментарий студента <a class=\"tocSkip\"> </h2>\n",
    "    \n",
    "Большое спасибо за советы и рекомендации по улучшению работы!\n",
    "\n",
    "Исправил недочеты, а также скорректировал подитоги/итог в соответствии с изменениями.\n",
    "</div>"
   ]
  },
  {
   "cell_type": "markdown",
   "metadata": {},
   "source": [
    "<div style=\"border:solid Chocolate 2px; padding: 40px\">\n",
    "\n",
    "# Комментарий ревьюера: итоговый вывод по проекту.\n",
    "\n",
    "Имран, все замечания учтены - проект принят!\n",
    "    \n",
    "Спасибо за хорошую работу над проектом, желаю успехов в дальнейшем обучении:)"
   ]
  }
 ],
 "metadata": {
  "ExecuteTimeLog": [
   {
    "duration": 47,
    "start_time": "2024-06-01T12:42:47.837Z"
   },
   {
    "duration": 40,
    "start_time": "2024-06-01T12:43:10.992Z"
   },
   {
    "duration": 35,
    "start_time": "2024-06-01T12:44:05.811Z"
   },
   {
    "duration": 40,
    "start_time": "2024-06-01T12:44:12.803Z"
   },
   {
    "duration": 44,
    "start_time": "2024-06-01T12:44:19.298Z"
   },
   {
    "duration": 2916,
    "start_time": "2024-06-02T10:42:51.029Z"
   },
   {
    "duration": 965,
    "start_time": "2024-06-02T10:42:53.947Z"
   },
   {
    "duration": 45,
    "start_time": "2024-06-02T10:42:54.914Z"
   },
   {
    "duration": 40,
    "start_time": "2024-06-02T10:42:54.980Z"
   },
   {
    "duration": 62,
    "start_time": "2024-06-02T10:42:55.022Z"
   },
   {
    "duration": 2,
    "start_time": "2024-06-02T10:44:29.829Z"
   },
   {
    "duration": 4,
    "start_time": "2024-06-02T10:44:40.912Z"
   },
   {
    "duration": 212,
    "start_time": "2024-06-02T10:45:09.946Z"
   },
   {
    "duration": 5,
    "start_time": "2024-06-02T10:46:21.195Z"
   },
   {
    "duration": 270,
    "start_time": "2024-06-02T11:55:21.573Z"
   },
   {
    "duration": 20,
    "start_time": "2024-06-02T11:56:25.363Z"
   },
   {
    "duration": 5,
    "start_time": "2024-06-02T12:30:50.454Z"
   },
   {
    "duration": 24,
    "start_time": "2024-06-03T08:32:12.879Z"
   },
   {
    "duration": 4,
    "start_time": "2024-06-03T08:32:29.330Z"
   },
   {
    "duration": 4,
    "start_time": "2024-06-03T08:32:54.423Z"
   },
   {
    "duration": 5,
    "start_time": "2024-06-03T08:35:07.566Z"
   },
   {
    "duration": 6,
    "start_time": "2024-06-03T08:37:35.392Z"
   },
   {
    "duration": 12,
    "start_time": "2024-06-03T08:38:16.340Z"
   },
   {
    "duration": 5,
    "start_time": "2024-06-03T08:38:29.860Z"
   },
   {
    "duration": 8,
    "start_time": "2024-06-03T08:38:32.303Z"
   },
   {
    "duration": 7,
    "start_time": "2024-06-03T08:43:41.639Z"
   },
   {
    "duration": 9,
    "start_time": "2024-06-03T08:44:19.113Z"
   },
   {
    "duration": 68,
    "start_time": "2024-06-03T08:45:24.430Z"
   },
   {
    "duration": 6,
    "start_time": "2024-06-03T08:45:41.309Z"
   },
   {
    "duration": 9,
    "start_time": "2024-06-03T08:45:44.674Z"
   },
   {
    "duration": 4,
    "start_time": "2024-06-03T08:46:05.983Z"
   },
   {
    "duration": 7,
    "start_time": "2024-06-03T08:46:06.694Z"
   },
   {
    "duration": 5,
    "start_time": "2024-06-03T08:46:21.867Z"
   },
   {
    "duration": 7,
    "start_time": "2024-06-03T08:46:23.211Z"
   },
   {
    "duration": 5,
    "start_time": "2024-06-03T08:46:36.472Z"
   },
   {
    "duration": 7,
    "start_time": "2024-06-03T08:46:37.113Z"
   },
   {
    "duration": 28,
    "start_time": "2024-06-03T10:17:47.043Z"
   },
   {
    "duration": 20,
    "start_time": "2024-06-03T10:19:02.566Z"
   },
   {
    "duration": 19,
    "start_time": "2024-06-03T10:19:53.323Z"
   },
   {
    "duration": 19,
    "start_time": "2024-06-03T10:20:12.580Z"
   },
   {
    "duration": 14,
    "start_time": "2024-06-03T10:21:59.488Z"
   },
   {
    "duration": 268,
    "start_time": "2024-06-03T10:22:26.658Z"
   },
   {
    "duration": 284,
    "start_time": "2024-06-03T10:22:45.924Z"
   },
   {
    "duration": 58,
    "start_time": "2024-06-03T10:23:07.102Z"
   },
   {
    "duration": 55,
    "start_time": "2024-06-03T10:23:31.114Z"
   },
   {
    "duration": 2842,
    "start_time": "2024-06-03T10:24:28.323Z"
   },
   {
    "duration": 953,
    "start_time": "2024-06-03T10:24:31.168Z"
   },
   {
    "duration": 60,
    "start_time": "2024-06-03T10:24:32.122Z"
   },
   {
    "duration": 33,
    "start_time": "2024-06-03T10:24:32.183Z"
   },
   {
    "duration": 37,
    "start_time": "2024-06-03T10:24:32.218Z"
   },
   {
    "duration": 276,
    "start_time": "2024-06-03T10:24:32.257Z"
   },
   {
    "duration": 12,
    "start_time": "2024-06-03T10:24:32.535Z"
   },
   {
    "duration": 32,
    "start_time": "2024-06-03T10:24:32.549Z"
   },
   {
    "duration": 8,
    "start_time": "2024-06-03T10:24:32.583Z"
   },
   {
    "duration": 9,
    "start_time": "2024-06-03T10:24:32.594Z"
   },
   {
    "duration": 78,
    "start_time": "2024-06-03T10:24:32.605Z"
   },
   {
    "duration": 53,
    "start_time": "2024-06-03T10:24:50.134Z"
   },
   {
    "duration": 55,
    "start_time": "2024-06-03T10:24:57.370Z"
   },
   {
    "duration": 65,
    "start_time": "2024-06-03T10:27:53.976Z"
   },
   {
    "duration": 59,
    "start_time": "2024-06-03T10:29:01.452Z"
   },
   {
    "duration": 17,
    "start_time": "2024-06-03T10:29:06.485Z"
   },
   {
    "duration": 46,
    "start_time": "2024-06-03T10:29:11.307Z"
   },
   {
    "duration": 5,
    "start_time": "2024-06-03T10:59:49.531Z"
   },
   {
    "duration": 197,
    "start_time": "2024-06-03T11:11:51.326Z"
   },
   {
    "duration": 358632,
    "start_time": "2024-06-03T11:12:15.178Z"
   },
   {
    "duration": 21,
    "start_time": "2024-06-03T11:55:56.853Z"
   },
   {
    "duration": 3920,
    "start_time": "2024-06-03T11:56:48.075Z"
   },
   {
    "duration": 3716,
    "start_time": "2024-06-03T11:57:09.634Z"
   },
   {
    "duration": 3903,
    "start_time": "2024-06-03T11:57:19.298Z"
   },
   {
    "duration": 3571,
    "start_time": "2024-06-03T11:58:13.512Z"
   },
   {
    "duration": 3691,
    "start_time": "2024-06-03T11:59:46.281Z"
   },
   {
    "duration": 2679,
    "start_time": "2024-06-03T12:00:33.497Z"
   },
   {
    "duration": 2259,
    "start_time": "2024-06-03T12:00:50.302Z"
   },
   {
    "duration": 2257,
    "start_time": "2024-06-03T12:01:28.473Z"
   },
   {
    "duration": 24,
    "start_time": "2024-06-03T12:01:39.269Z"
   },
   {
    "duration": 2362,
    "start_time": "2024-06-03T12:02:42.918Z"
   },
   {
    "duration": 54,
    "start_time": "2024-06-03T12:04:54.482Z"
   },
   {
    "duration": 4743,
    "start_time": "2024-06-03T12:05:01.003Z"
   },
   {
    "duration": 3614,
    "start_time": "2024-06-03T12:05:05.748Z"
   },
   {
    "duration": 46,
    "start_time": "2024-06-03T12:05:09.364Z"
   },
   {
    "duration": 34,
    "start_time": "2024-06-03T12:05:09.412Z"
   },
   {
    "duration": 66,
    "start_time": "2024-06-03T12:05:09.448Z"
   },
   {
    "duration": 267,
    "start_time": "2024-06-03T12:05:09.515Z"
   },
   {
    "duration": 13,
    "start_time": "2024-06-03T12:05:09.783Z"
   },
   {
    "duration": 34,
    "start_time": "2024-06-03T12:05:09.797Z"
   },
   {
    "duration": 26,
    "start_time": "2024-06-03T12:05:09.833Z"
   },
   {
    "duration": 16,
    "start_time": "2024-06-03T12:05:09.862Z"
   },
   {
    "duration": 26,
    "start_time": "2024-06-03T12:05:09.879Z"
   },
   {
    "duration": 75,
    "start_time": "2024-06-03T12:05:09.907Z"
   },
   {
    "duration": 3913,
    "start_time": "2024-06-03T12:05:09.983Z"
   },
   {
    "duration": 3,
    "start_time": "2024-06-03T12:09:08.146Z"
   },
   {
    "duration": 2803,
    "start_time": "2024-06-03T12:09:13.702Z"
   },
   {
    "duration": 2,
    "start_time": "2024-06-03T12:09:16.507Z"
   },
   {
    "duration": 962,
    "start_time": "2024-06-03T12:09:16.511Z"
   },
   {
    "duration": 43,
    "start_time": "2024-06-03T12:09:17.475Z"
   },
   {
    "duration": 34,
    "start_time": "2024-06-03T12:09:17.520Z"
   },
   {
    "duration": 61,
    "start_time": "2024-06-03T12:09:17.556Z"
   },
   {
    "duration": 266,
    "start_time": "2024-06-03T12:09:17.619Z"
   },
   {
    "duration": 13,
    "start_time": "2024-06-03T12:09:17.887Z"
   },
   {
    "duration": 16,
    "start_time": "2024-06-03T12:09:17.902Z"
   },
   {
    "duration": 13,
    "start_time": "2024-06-03T12:09:17.920Z"
   },
   {
    "duration": 34,
    "start_time": "2024-06-03T12:09:17.935Z"
   },
   {
    "duration": 18,
    "start_time": "2024-06-03T12:09:17.970Z"
   },
   {
    "duration": 50,
    "start_time": "2024-06-03T12:09:17.990Z"
   },
   {
    "duration": 3838,
    "start_time": "2024-06-03T12:09:18.042Z"
   },
   {
    "duration": 621,
    "start_time": "2024-06-03T12:21:07.099Z"
   },
   {
    "duration": 578,
    "start_time": "2024-06-03T12:21:16.706Z"
   },
   {
    "duration": 735,
    "start_time": "2024-06-03T12:21:32.615Z"
   },
   {
    "duration": 563,
    "start_time": "2024-06-03T12:23:06.187Z"
   },
   {
    "duration": 612,
    "start_time": "2024-06-03T12:23:21.023Z"
   },
   {
    "duration": 647,
    "start_time": "2024-06-03T12:23:46.244Z"
   },
   {
    "duration": 18,
    "start_time": "2024-06-03T12:24:01.161Z"
   },
   {
    "duration": 567,
    "start_time": "2024-06-03T12:24:07.358Z"
   },
   {
    "duration": 855,
    "start_time": "2024-06-03T12:25:54.530Z"
   },
   {
    "duration": 583,
    "start_time": "2024-06-03T12:27:11.682Z"
   },
   {
    "duration": 580,
    "start_time": "2024-06-03T12:27:47.929Z"
   },
   {
    "duration": 654,
    "start_time": "2024-06-03T12:28:01.987Z"
   },
   {
    "duration": 16,
    "start_time": "2024-06-03T12:28:16.174Z"
   },
   {
    "duration": 579,
    "start_time": "2024-06-03T12:28:22.724Z"
   },
   {
    "duration": 606,
    "start_time": "2024-06-03T12:30:33.587Z"
   },
   {
    "duration": 735,
    "start_time": "2024-06-03T12:31:16.158Z"
   },
   {
    "duration": 568,
    "start_time": "2024-06-03T12:31:55.520Z"
   },
   {
    "duration": 517,
    "start_time": "2024-06-03T12:32:43.985Z"
   },
   {
    "duration": 559,
    "start_time": "2024-06-03T12:32:55.506Z"
   },
   {
    "duration": 625,
    "start_time": "2024-06-03T12:33:04.025Z"
   },
   {
    "duration": 17,
    "start_time": "2024-06-03T12:33:22.957Z"
   },
   {
    "duration": 777,
    "start_time": "2024-06-03T12:33:31.759Z"
   },
   {
    "duration": 904,
    "start_time": "2024-06-03T12:33:59.517Z"
   },
   {
    "duration": 604,
    "start_time": "2024-06-03T12:34:05.167Z"
   },
   {
    "duration": 615,
    "start_time": "2024-06-03T12:38:29.525Z"
   },
   {
    "duration": 859,
    "start_time": "2024-06-03T12:38:45.800Z"
   },
   {
    "duration": 548,
    "start_time": "2024-06-03T12:39:34.057Z"
   },
   {
    "duration": 546,
    "start_time": "2024-06-03T12:40:41.856Z"
   },
   {
    "duration": 488,
    "start_time": "2024-06-03T12:41:38.016Z"
   },
   {
    "duration": 602,
    "start_time": "2024-06-03T12:41:43.891Z"
   },
   {
    "duration": 596,
    "start_time": "2024-06-03T12:43:38.613Z"
   },
   {
    "duration": 716,
    "start_time": "2024-06-03T12:43:48.209Z"
   },
   {
    "duration": 560,
    "start_time": "2024-06-03T12:43:55.038Z"
   },
   {
    "duration": 554,
    "start_time": "2024-06-03T12:45:16.059Z"
   },
   {
    "duration": 531,
    "start_time": "2024-06-03T12:45:33.558Z"
   },
   {
    "duration": 634,
    "start_time": "2024-06-03T12:49:34.535Z"
   },
   {
    "duration": 8,
    "start_time": "2024-06-03T14:11:27.320Z"
   },
   {
    "duration": 4,
    "start_time": "2024-06-03T14:11:32.018Z"
   },
   {
    "duration": 71,
    "start_time": "2024-06-03T14:13:40.474Z"
   },
   {
    "duration": 8,
    "start_time": "2024-06-03T14:13:48.526Z"
   },
   {
    "duration": 2748,
    "start_time": "2024-06-03T16:51:57.409Z"
   },
   {
    "duration": 2,
    "start_time": "2024-06-03T16:52:00.159Z"
   },
   {
    "duration": 990,
    "start_time": "2024-06-03T16:52:00.163Z"
   },
   {
    "duration": 51,
    "start_time": "2024-06-03T16:52:01.154Z"
   },
   {
    "duration": 39,
    "start_time": "2024-06-03T16:52:01.208Z"
   },
   {
    "duration": 70,
    "start_time": "2024-06-03T16:52:01.249Z"
   },
   {
    "duration": 289,
    "start_time": "2024-06-03T16:52:01.321Z"
   },
   {
    "duration": 12,
    "start_time": "2024-06-03T16:52:01.611Z"
   },
   {
    "duration": 72,
    "start_time": "2024-06-03T16:52:01.625Z"
   },
   {
    "duration": 68,
    "start_time": "2024-06-03T16:52:01.699Z"
   },
   {
    "duration": 77,
    "start_time": "2024-06-03T16:52:01.769Z"
   },
   {
    "duration": 68,
    "start_time": "2024-06-03T16:52:01.848Z"
   },
   {
    "duration": 198,
    "start_time": "2024-06-03T16:52:01.919Z"
   },
   {
    "duration": 3838,
    "start_time": "2024-06-03T16:52:02.120Z"
   },
   {
    "duration": 574,
    "start_time": "2024-06-03T16:52:05.960Z"
   },
   {
    "duration": 5,
    "start_time": "2024-06-03T16:52:06.536Z"
   },
   {
    "duration": 264,
    "start_time": "2024-06-03T16:52:06.542Z"
   },
   {
    "duration": 19,
    "start_time": "2024-06-03T16:53:01.472Z"
   },
   {
    "duration": 17,
    "start_time": "2024-06-03T16:53:51.441Z"
   },
   {
    "duration": 17,
    "start_time": "2024-06-03T16:56:40.972Z"
   },
   {
    "duration": 20,
    "start_time": "2024-06-03T16:58:47.279Z"
   },
   {
    "duration": 23,
    "start_time": "2024-06-03T16:59:04.859Z"
   },
   {
    "duration": 17,
    "start_time": "2024-06-03T17:01:26.906Z"
   },
   {
    "duration": 14,
    "start_time": "2024-06-03T17:03:13.729Z"
   },
   {
    "duration": 15,
    "start_time": "2024-06-03T17:04:02.969Z"
   },
   {
    "duration": 14,
    "start_time": "2024-06-03T17:05:12.696Z"
   },
   {
    "duration": 745,
    "start_time": "2024-06-03T17:05:25.534Z"
   },
   {
    "duration": 14,
    "start_time": "2024-06-03T17:06:19.273Z"
   },
   {
    "duration": 819,
    "start_time": "2024-06-03T17:06:52.415Z"
   },
   {
    "duration": 797,
    "start_time": "2024-06-03T17:07:03.388Z"
   },
   {
    "duration": 914,
    "start_time": "2024-06-03T17:07:17.197Z"
   },
   {
    "duration": 19,
    "start_time": "2024-06-03T17:10:37.053Z"
   },
   {
    "duration": 732,
    "start_time": "2024-06-03T17:11:34.304Z"
   },
   {
    "duration": 1661,
    "start_time": "2024-06-03T17:11:53.540Z"
   },
   {
    "duration": 1486,
    "start_time": "2024-06-03T17:12:30.636Z"
   },
   {
    "duration": 15,
    "start_time": "2024-06-03T17:12:54.787Z"
   },
   {
    "duration": 16,
    "start_time": "2024-06-03T17:13:51.236Z"
   },
   {
    "duration": 752,
    "start_time": "2024-06-03T17:14:04.925Z"
   },
   {
    "duration": 1394,
    "start_time": "2024-06-03T17:17:23.530Z"
   },
   {
    "duration": 1617,
    "start_time": "2024-06-03T17:18:03.160Z"
   },
   {
    "duration": 1418,
    "start_time": "2024-06-03T17:18:40.365Z"
   },
   {
    "duration": 1564,
    "start_time": "2024-06-03T17:19:37.034Z"
   },
   {
    "duration": 15,
    "start_time": "2024-06-03T17:23:47.238Z"
   },
   {
    "duration": 10,
    "start_time": "2024-06-03T17:24:02.284Z"
   },
   {
    "duration": 1544,
    "start_time": "2024-06-03T17:25:05.691Z"
   },
   {
    "duration": 1356,
    "start_time": "2024-06-03T17:25:35.843Z"
   },
   {
    "duration": 28,
    "start_time": "2024-06-03T18:01:25.788Z"
   },
   {
    "duration": 45,
    "start_time": "2024-06-03T18:01:38.821Z"
   },
   {
    "duration": 35,
    "start_time": "2024-06-03T18:02:07.701Z"
   },
   {
    "duration": 87,
    "start_time": "2024-06-03T18:03:40.771Z"
   },
   {
    "duration": 22,
    "start_time": "2024-06-03T18:03:49.701Z"
   },
   {
    "duration": 5,
    "start_time": "2024-06-03T18:05:59.093Z"
   },
   {
    "duration": 5,
    "start_time": "2024-06-03T18:06:12.258Z"
   },
   {
    "duration": 66,
    "start_time": "2024-06-03T18:06:53.676Z"
   },
   {
    "duration": 24,
    "start_time": "2024-06-03T18:06:58.948Z"
   },
   {
    "duration": 13,
    "start_time": "2024-06-03T18:07:54.735Z"
   },
   {
    "duration": 1224,
    "start_time": "2024-06-03T18:08:19.073Z"
   },
   {
    "duration": 700,
    "start_time": "2024-06-03T18:09:19.212Z"
   },
   {
    "duration": 30,
    "start_time": "2024-06-03T18:10:06.449Z"
   },
   {
    "duration": 18,
    "start_time": "2024-06-03T18:11:02.464Z"
   },
   {
    "duration": 18,
    "start_time": "2024-06-03T18:11:29.218Z"
   },
   {
    "duration": 11,
    "start_time": "2024-06-03T18:11:45.778Z"
   },
   {
    "duration": 5,
    "start_time": "2024-06-03T18:12:08.911Z"
   },
   {
    "duration": 16,
    "start_time": "2024-06-03T18:12:16.372Z"
   },
   {
    "duration": 1348,
    "start_time": "2024-06-03T18:12:18.944Z"
   },
   {
    "duration": 59,
    "start_time": "2024-06-03T18:14:46.838Z"
   },
   {
    "duration": 2451,
    "start_time": "2024-06-04T09:35:47.175Z"
   },
   {
    "duration": 3,
    "start_time": "2024-06-04T09:35:49.628Z"
   },
   {
    "duration": 740,
    "start_time": "2024-06-04T09:35:49.633Z"
   },
   {
    "duration": 43,
    "start_time": "2024-06-04T09:35:50.375Z"
   },
   {
    "duration": 26,
    "start_time": "2024-06-04T09:35:50.420Z"
   },
   {
    "duration": 30,
    "start_time": "2024-06-04T09:35:50.448Z"
   },
   {
    "duration": 250,
    "start_time": "2024-06-04T09:35:50.479Z"
   },
   {
    "duration": 9,
    "start_time": "2024-06-04T09:35:50.730Z"
   },
   {
    "duration": 21,
    "start_time": "2024-06-04T09:35:50.741Z"
   },
   {
    "duration": 6,
    "start_time": "2024-06-04T09:35:50.763Z"
   },
   {
    "duration": 29,
    "start_time": "2024-06-04T09:35:50.770Z"
   },
   {
    "duration": 21,
    "start_time": "2024-06-04T09:35:50.801Z"
   },
   {
    "duration": 39,
    "start_time": "2024-06-04T09:35:50.823Z"
   },
   {
    "duration": 3372,
    "start_time": "2024-06-04T09:35:50.864Z"
   },
   {
    "duration": 556,
    "start_time": "2024-06-04T09:35:54.237Z"
   },
   {
    "duration": 5,
    "start_time": "2024-06-04T09:35:54.795Z"
   },
   {
    "duration": 1314,
    "start_time": "2024-06-04T09:35:54.801Z"
   },
   {
    "duration": 32,
    "start_time": "2024-06-04T09:35:56.116Z"
   },
   {
    "duration": 1257,
    "start_time": "2024-06-04T09:35:56.149Z"
   },
   {
    "duration": 63,
    "start_time": "2024-06-04T09:35:57.410Z"
   },
   {
    "duration": 172,
    "start_time": "2024-06-04T09:46:59.744Z"
   },
   {
    "duration": 22,
    "start_time": "2024-06-04T09:47:17.152Z"
   },
   {
    "duration": 21,
    "start_time": "2024-06-04T09:47:26.710Z"
   },
   {
    "duration": 14,
    "start_time": "2024-06-04T09:47:47.276Z"
   },
   {
    "duration": 22,
    "start_time": "2024-06-04T09:47:57.960Z"
   },
   {
    "duration": 10,
    "start_time": "2024-06-04T09:48:49.830Z"
   },
   {
    "duration": 719,
    "start_time": "2024-06-04T09:49:25.050Z"
   },
   {
    "duration": 699,
    "start_time": "2024-06-04T09:49:35.626Z"
   },
   {
    "duration": 31,
    "start_time": "2024-06-04T09:49:36.988Z"
   },
   {
    "duration": 2523,
    "start_time": "2024-06-04T09:49:45.579Z"
   },
   {
    "duration": 5,
    "start_time": "2024-06-04T09:49:48.104Z"
   },
   {
    "duration": 708,
    "start_time": "2024-06-04T09:49:48.110Z"
   },
   {
    "duration": 35,
    "start_time": "2024-06-04T09:49:48.819Z"
   },
   {
    "duration": 58,
    "start_time": "2024-06-04T09:49:48.857Z"
   },
   {
    "duration": 43,
    "start_time": "2024-06-04T09:49:48.917Z"
   },
   {
    "duration": 247,
    "start_time": "2024-06-04T09:49:48.962Z"
   },
   {
    "duration": 873,
    "start_time": "2024-06-04T09:49:49.210Z"
   },
   {
    "duration": 0,
    "start_time": "2024-06-04T09:49:50.086Z"
   },
   {
    "duration": 0,
    "start_time": "2024-06-04T09:49:50.087Z"
   },
   {
    "duration": 0,
    "start_time": "2024-06-04T09:49:50.088Z"
   },
   {
    "duration": 0,
    "start_time": "2024-06-04T09:49:50.089Z"
   },
   {
    "duration": 0,
    "start_time": "2024-06-04T09:49:50.091Z"
   },
   {
    "duration": 0,
    "start_time": "2024-06-04T09:49:50.091Z"
   },
   {
    "duration": 0,
    "start_time": "2024-06-04T09:49:50.092Z"
   },
   {
    "duration": 0,
    "start_time": "2024-06-04T09:49:50.093Z"
   },
   {
    "duration": 0,
    "start_time": "2024-06-04T09:49:50.094Z"
   },
   {
    "duration": 0,
    "start_time": "2024-06-04T09:49:50.097Z"
   },
   {
    "duration": 0,
    "start_time": "2024-06-04T09:49:50.099Z"
   },
   {
    "duration": 0,
    "start_time": "2024-06-04T09:49:50.100Z"
   },
   {
    "duration": 0,
    "start_time": "2024-06-04T09:49:50.101Z"
   },
   {
    "duration": 2405,
    "start_time": "2024-06-04T09:50:27.052Z"
   },
   {
    "duration": 3,
    "start_time": "2024-06-04T09:50:29.459Z"
   },
   {
    "duration": 775,
    "start_time": "2024-06-04T09:50:29.463Z"
   },
   {
    "duration": 37,
    "start_time": "2024-06-04T09:50:30.239Z"
   },
   {
    "duration": 44,
    "start_time": "2024-06-04T09:50:30.278Z"
   },
   {
    "duration": 31,
    "start_time": "2024-06-04T09:50:30.323Z"
   },
   {
    "duration": 234,
    "start_time": "2024-06-04T09:50:30.355Z"
   },
   {
    "duration": 18,
    "start_time": "2024-06-04T09:50:30.591Z"
   },
   {
    "duration": 41,
    "start_time": "2024-06-04T09:50:30.611Z"
   },
   {
    "duration": 79,
    "start_time": "2024-06-04T09:50:30.654Z"
   },
   {
    "duration": 40,
    "start_time": "2024-06-04T09:50:30.735Z"
   },
   {
    "duration": 77,
    "start_time": "2024-06-04T09:50:30.777Z"
   },
   {
    "duration": 3337,
    "start_time": "2024-06-04T09:50:30.856Z"
   },
   {
    "duration": 516,
    "start_time": "2024-06-04T09:50:34.196Z"
   },
   {
    "duration": 4,
    "start_time": "2024-06-04T09:50:34.713Z"
   },
   {
    "duration": 1385,
    "start_time": "2024-06-04T09:50:34.719Z"
   },
   {
    "duration": 28,
    "start_time": "2024-06-04T09:50:36.105Z"
   },
   {
    "duration": 1274,
    "start_time": "2024-06-04T09:50:36.135Z"
   },
   {
    "duration": 870,
    "start_time": "2024-06-04T09:50:37.411Z"
   },
   {
    "duration": 0,
    "start_time": "2024-06-04T09:50:38.283Z"
   },
   {
    "duration": 13,
    "start_time": "2024-06-04T09:50:49.852Z"
   },
   {
    "duration": 18,
    "start_time": "2024-06-04T09:51:06.022Z"
   },
   {
    "duration": 9,
    "start_time": "2024-06-04T09:51:38.723Z"
   },
   {
    "duration": 42,
    "start_time": "2024-06-04T09:52:59.354Z"
   },
   {
    "duration": 15,
    "start_time": "2024-06-04T09:53:08.080Z"
   },
   {
    "duration": 36,
    "start_time": "2024-06-04T09:53:50.986Z"
   },
   {
    "duration": 22,
    "start_time": "2024-06-04T09:54:06.291Z"
   },
   {
    "duration": 15,
    "start_time": "2024-06-04T09:55:06.480Z"
   },
   {
    "duration": 25,
    "start_time": "2024-06-04T09:55:23.809Z"
   },
   {
    "duration": 12,
    "start_time": "2024-06-04T09:55:40.582Z"
   },
   {
    "duration": 19,
    "start_time": "2024-06-04T10:01:31.734Z"
   },
   {
    "duration": 753,
    "start_time": "2024-06-04T10:02:35.275Z"
   },
   {
    "duration": 22,
    "start_time": "2024-06-04T10:02:52.846Z"
   },
   {
    "duration": 72,
    "start_time": "2024-06-04T10:03:10.341Z"
   },
   {
    "duration": 21,
    "start_time": "2024-06-04T10:03:17.975Z"
   },
   {
    "duration": 32,
    "start_time": "2024-06-04T10:03:23.127Z"
   },
   {
    "duration": 18,
    "start_time": "2024-06-04T10:13:38.849Z"
   },
   {
    "duration": 19,
    "start_time": "2024-06-04T10:14:02.718Z"
   },
   {
    "duration": 10,
    "start_time": "2024-06-04T10:15:59.924Z"
   },
   {
    "duration": 59,
    "start_time": "2024-06-04T10:16:47.576Z"
   },
   {
    "duration": 10,
    "start_time": "2024-06-04T10:17:01.830Z"
   },
   {
    "duration": 12,
    "start_time": "2024-06-04T10:18:22.809Z"
   },
   {
    "duration": 70,
    "start_time": "2024-06-04T10:20:43.877Z"
   },
   {
    "duration": 15,
    "start_time": "2024-06-04T10:20:54.751Z"
   },
   {
    "duration": 2370,
    "start_time": "2024-06-04T10:22:31.730Z"
   },
   {
    "duration": 3,
    "start_time": "2024-06-04T10:22:34.102Z"
   },
   {
    "duration": 714,
    "start_time": "2024-06-04T10:22:34.108Z"
   },
   {
    "duration": 35,
    "start_time": "2024-06-04T10:22:34.824Z"
   },
   {
    "duration": 47,
    "start_time": "2024-06-04T10:22:34.862Z"
   },
   {
    "duration": 29,
    "start_time": "2024-06-04T10:22:34.910Z"
   },
   {
    "duration": 234,
    "start_time": "2024-06-04T10:22:34.941Z"
   },
   {
    "duration": 5,
    "start_time": "2024-06-04T10:22:35.176Z"
   },
   {
    "duration": 71,
    "start_time": "2024-06-04T10:22:35.182Z"
   },
   {
    "duration": 72,
    "start_time": "2024-06-04T10:22:35.255Z"
   },
   {
    "duration": 38,
    "start_time": "2024-06-04T10:22:35.328Z"
   },
   {
    "duration": 59,
    "start_time": "2024-06-04T10:22:35.367Z"
   },
   {
    "duration": 3423,
    "start_time": "2024-06-04T10:22:35.427Z"
   },
   {
    "duration": 545,
    "start_time": "2024-06-04T10:22:38.852Z"
   },
   {
    "duration": 11,
    "start_time": "2024-06-04T10:22:39.398Z"
   },
   {
    "duration": 1294,
    "start_time": "2024-06-04T10:22:39.410Z"
   },
   {
    "duration": 32,
    "start_time": "2024-06-04T10:22:40.705Z"
   },
   {
    "duration": 1276,
    "start_time": "2024-06-04T10:22:40.739Z"
   },
   {
    "duration": 197,
    "start_time": "2024-06-04T10:22:42.016Z"
   },
   {
    "duration": 0,
    "start_time": "2024-06-04T10:22:42.215Z"
   },
   {
    "duration": 0,
    "start_time": "2024-06-04T10:22:42.215Z"
   },
   {
    "duration": 22,
    "start_time": "2024-06-04T10:25:23.036Z"
   },
   {
    "duration": 22,
    "start_time": "2024-06-04T10:27:33.414Z"
   },
   {
    "duration": 15,
    "start_time": "2024-06-04T10:27:56.989Z"
   },
   {
    "duration": 2341,
    "start_time": "2024-06-04T10:28:04.244Z"
   },
   {
    "duration": 3,
    "start_time": "2024-06-04T10:28:06.586Z"
   },
   {
    "duration": 730,
    "start_time": "2024-06-04T10:28:06.590Z"
   },
   {
    "duration": 32,
    "start_time": "2024-06-04T10:28:07.322Z"
   },
   {
    "duration": 24,
    "start_time": "2024-06-04T10:28:07.356Z"
   },
   {
    "duration": 54,
    "start_time": "2024-06-04T10:28:07.381Z"
   },
   {
    "duration": 227,
    "start_time": "2024-06-04T10:28:07.436Z"
   },
   {
    "duration": 4,
    "start_time": "2024-06-04T10:28:07.664Z"
   },
   {
    "duration": 6,
    "start_time": "2024-06-04T10:28:07.670Z"
   },
   {
    "duration": 5,
    "start_time": "2024-06-04T10:28:07.679Z"
   },
   {
    "duration": 25,
    "start_time": "2024-06-04T10:28:07.686Z"
   },
   {
    "duration": 35,
    "start_time": "2024-06-04T10:28:07.712Z"
   },
   {
    "duration": 3311,
    "start_time": "2024-06-04T10:28:07.748Z"
   },
   {
    "duration": 534,
    "start_time": "2024-06-04T10:28:11.060Z"
   },
   {
    "duration": 4,
    "start_time": "2024-06-04T10:28:11.595Z"
   },
   {
    "duration": 1399,
    "start_time": "2024-06-04T10:28:11.600Z"
   },
   {
    "duration": 40,
    "start_time": "2024-06-04T10:28:13.001Z"
   },
   {
    "duration": 1256,
    "start_time": "2024-06-04T10:28:13.043Z"
   },
   {
    "duration": 17,
    "start_time": "2024-06-04T10:28:14.301Z"
   },
   {
    "duration": 27,
    "start_time": "2024-06-04T10:28:14.319Z"
   },
   {
    "duration": 61,
    "start_time": "2024-06-04T10:28:14.348Z"
   },
   {
    "duration": 93,
    "start_time": "2024-06-04T10:32:21.407Z"
   },
   {
    "duration": 64,
    "start_time": "2024-06-04T10:32:37.979Z"
   },
   {
    "duration": 61,
    "start_time": "2024-06-04T10:33:32.066Z"
   },
   {
    "duration": 76,
    "start_time": "2024-06-04T10:35:16.968Z"
   },
   {
    "duration": 2393,
    "start_time": "2024-06-04T10:35:23.443Z"
   },
   {
    "duration": 2,
    "start_time": "2024-06-04T10:35:25.838Z"
   },
   {
    "duration": 711,
    "start_time": "2024-06-04T10:35:25.842Z"
   },
   {
    "duration": 34,
    "start_time": "2024-06-04T10:35:26.554Z"
   },
   {
    "duration": 39,
    "start_time": "2024-06-04T10:35:26.590Z"
   },
   {
    "duration": 30,
    "start_time": "2024-06-04T10:35:26.631Z"
   },
   {
    "duration": 239,
    "start_time": "2024-06-04T10:35:26.663Z"
   },
   {
    "duration": 8,
    "start_time": "2024-06-04T10:35:26.903Z"
   },
   {
    "duration": 23,
    "start_time": "2024-06-04T10:35:26.913Z"
   },
   {
    "duration": 4,
    "start_time": "2024-06-04T10:35:26.938Z"
   },
   {
    "duration": 11,
    "start_time": "2024-06-04T10:35:26.943Z"
   },
   {
    "duration": 37,
    "start_time": "2024-06-04T10:35:26.955Z"
   },
   {
    "duration": 3456,
    "start_time": "2024-06-04T10:35:26.993Z"
   },
   {
    "duration": 571,
    "start_time": "2024-06-04T10:35:30.451Z"
   },
   {
    "duration": 4,
    "start_time": "2024-06-04T10:35:31.023Z"
   },
   {
    "duration": 1387,
    "start_time": "2024-06-04T10:35:31.029Z"
   },
   {
    "duration": 32,
    "start_time": "2024-06-04T10:35:32.418Z"
   },
   {
    "duration": 1252,
    "start_time": "2024-06-04T10:35:32.451Z"
   },
   {
    "duration": 66,
    "start_time": "2024-06-04T10:35:33.709Z"
   },
   {
    "duration": 0,
    "start_time": "2024-06-04T10:35:33.776Z"
   },
   {
    "duration": 0,
    "start_time": "2024-06-04T10:35:33.777Z"
   },
   {
    "duration": 30,
    "start_time": "2024-06-04T10:36:42.307Z"
   },
   {
    "duration": 2425,
    "start_time": "2024-06-04T16:39:27.504Z"
   },
   {
    "duration": 2,
    "start_time": "2024-06-04T16:39:29.930Z"
   },
   {
    "duration": 764,
    "start_time": "2024-06-04T16:39:29.934Z"
   },
   {
    "duration": 46,
    "start_time": "2024-06-04T16:39:30.700Z"
   },
   {
    "duration": 40,
    "start_time": "2024-06-04T16:39:30.747Z"
   },
   {
    "duration": 46,
    "start_time": "2024-06-04T16:39:30.789Z"
   },
   {
    "duration": 237,
    "start_time": "2024-06-04T16:39:30.837Z"
   },
   {
    "duration": 5,
    "start_time": "2024-06-04T16:39:31.076Z"
   },
   {
    "duration": 77,
    "start_time": "2024-06-04T16:39:31.082Z"
   },
   {
    "duration": 118,
    "start_time": "2024-06-04T16:39:31.162Z"
   },
   {
    "duration": 94,
    "start_time": "2024-06-04T16:39:31.281Z"
   },
   {
    "duration": 65,
    "start_time": "2024-06-04T16:39:31.376Z"
   },
   {
    "duration": 3397,
    "start_time": "2024-06-04T16:39:31.443Z"
   },
   {
    "duration": 562,
    "start_time": "2024-06-04T16:39:34.842Z"
   },
   {
    "duration": 4,
    "start_time": "2024-06-04T16:39:35.409Z"
   },
   {
    "duration": 1415,
    "start_time": "2024-06-04T16:39:35.415Z"
   },
   {
    "duration": 30,
    "start_time": "2024-06-04T16:39:36.832Z"
   },
   {
    "duration": 1245,
    "start_time": "2024-06-04T16:39:36.864Z"
   },
   {
    "duration": 32,
    "start_time": "2024-06-04T16:39:38.111Z"
   },
   {
    "duration": 12,
    "start_time": "2024-06-04T16:39:38.144Z"
   },
   {
    "duration": 64,
    "start_time": "2024-06-04T16:39:38.158Z"
   },
   {
    "duration": 4,
    "start_time": "2024-06-04T16:41:12.219Z"
   },
   {
    "duration": 3,
    "start_time": "2024-06-04T16:49:32.851Z"
   },
   {
    "duration": 3,
    "start_time": "2024-06-04T16:54:43.367Z"
   },
   {
    "duration": 2,
    "start_time": "2024-06-04T16:55:11.975Z"
   },
   {
    "duration": 174,
    "start_time": "2024-06-04T16:56:45.527Z"
   },
   {
    "duration": 4,
    "start_time": "2024-06-04T17:23:26.308Z"
   },
   {
    "duration": 2,
    "start_time": "2024-06-04T17:28:23.777Z"
   },
   {
    "duration": 31588,
    "start_time": "2024-06-04T17:29:19.500Z"
   },
   {
    "duration": 194011,
    "start_time": "2024-06-04T17:30:03.267Z"
   },
   {
    "duration": 194763,
    "start_time": "2024-06-04T17:40:22.564Z"
   },
   {
    "duration": 39569,
    "start_time": "2024-06-04T17:46:38.450Z"
   },
   {
    "duration": 2614870,
    "start_time": "2024-06-04T17:47:26.113Z"
   },
   {
    "duration": 5953,
    "start_time": "2024-06-04T18:31:37.490Z"
   },
   {
    "duration": 64,
    "start_time": "2024-06-04T18:31:46.963Z"
   },
   {
    "duration": 2443,
    "start_time": "2024-06-04T18:32:05.667Z"
   },
   {
    "duration": 11,
    "start_time": "2024-06-04T18:35:04.557Z"
   },
   {
    "duration": 11,
    "start_time": "2024-06-04T18:35:16.813Z"
   },
   {
    "duration": 4310,
    "start_time": "2024-06-04T18:35:25.005Z"
   },
   {
    "duration": 3961,
    "start_time": "2024-06-04T18:35:39.552Z"
   },
   {
    "duration": 60,
    "start_time": "2024-06-04T18:37:06.151Z"
   },
   {
    "duration": 2534,
    "start_time": "2024-06-04T18:37:11.376Z"
   },
   {
    "duration": 62,
    "start_time": "2024-06-04T18:40:08.799Z"
   },
   {
    "duration": 10,
    "start_time": "2024-06-04T18:40:27.329Z"
   },
   {
    "duration": 4,
    "start_time": "2024-06-04T18:40:49.806Z"
   },
   {
    "duration": 55,
    "start_time": "2024-06-04T18:41:58.756Z"
   },
   {
    "duration": 2061,
    "start_time": "2024-06-04T18:42:24.550Z"
   },
   {
    "duration": 15403,
    "start_time": "2024-06-04T18:43:08.810Z"
   },
   {
    "duration": 857,
    "start_time": "2024-06-04T18:44:28.258Z"
   },
   {
    "duration": 884,
    "start_time": "2024-06-04T18:44:49.031Z"
   },
   {
    "duration": 18034,
    "start_time": "2024-06-04T18:45:41.479Z"
   },
   {
    "duration": 2403,
    "start_time": "2024-06-04T18:50:20.907Z"
   },
   {
    "duration": 2563,
    "start_time": "2024-06-04T18:51:12.352Z"
   },
   {
    "duration": 17569,
    "start_time": "2024-06-04T18:52:33.069Z"
   },
   {
    "duration": 19318,
    "start_time": "2024-06-04T18:53:08.295Z"
   },
   {
    "duration": 2341,
    "start_time": "2024-06-04T18:53:36.455Z"
   },
   {
    "duration": 3,
    "start_time": "2024-06-04T18:53:38.798Z"
   },
   {
    "duration": 697,
    "start_time": "2024-06-04T18:53:38.802Z"
   },
   {
    "duration": 37,
    "start_time": "2024-06-04T18:53:39.500Z"
   },
   {
    "duration": 25,
    "start_time": "2024-06-04T18:53:39.540Z"
   },
   {
    "duration": 58,
    "start_time": "2024-06-04T18:53:39.567Z"
   },
   {
    "duration": 237,
    "start_time": "2024-06-04T18:53:39.626Z"
   },
   {
    "duration": 6,
    "start_time": "2024-06-04T18:53:39.864Z"
   },
   {
    "duration": 8,
    "start_time": "2024-06-04T18:53:39.871Z"
   },
   {
    "duration": 4,
    "start_time": "2024-06-04T18:53:39.880Z"
   },
   {
    "duration": 28,
    "start_time": "2024-06-04T18:53:39.885Z"
   },
   {
    "duration": 35,
    "start_time": "2024-06-04T18:53:39.914Z"
   },
   {
    "duration": 3297,
    "start_time": "2024-06-04T18:53:39.950Z"
   },
   {
    "duration": 560,
    "start_time": "2024-06-04T18:53:43.249Z"
   },
   {
    "duration": 4,
    "start_time": "2024-06-04T18:53:43.810Z"
   },
   {
    "duration": 1298,
    "start_time": "2024-06-04T18:53:43.815Z"
   },
   {
    "duration": 29,
    "start_time": "2024-06-04T18:53:45.114Z"
   },
   {
    "duration": 1309,
    "start_time": "2024-06-04T18:53:45.145Z"
   },
   {
    "duration": 59,
    "start_time": "2024-06-04T18:53:46.455Z"
   },
   {
    "duration": 12,
    "start_time": "2024-06-04T18:53:46.516Z"
   },
   {
    "duration": 9,
    "start_time": "2024-06-04T18:53:46.529Z"
   },
   {
    "duration": 14,
    "start_time": "2024-06-04T18:53:46.539Z"
   },
   {
    "duration": 11,
    "start_time": "2024-06-04T18:53:46.554Z"
   },
   {
    "duration": 29259,
    "start_time": "2024-06-04T18:53:46.566Z"
   },
   {
    "duration": 1968424,
    "start_time": "2024-06-04T18:54:15.826Z"
   },
   {
    "duration": 2465,
    "start_time": "2024-06-04T19:27:04.252Z"
   },
   {
    "duration": 14394,
    "start_time": "2024-06-04T19:27:06.719Z"
   },
   {
    "duration": 1004,
    "start_time": "2024-06-04T19:27:21.114Z"
   },
   {
    "duration": 17892,
    "start_time": "2024-06-04T19:27:22.120Z"
   },
   {
    "duration": 7697874,
    "start_time": "2024-06-04T19:28:06.970Z"
   },
   {
    "duration": 3779,
    "start_time": "2024-06-04T21:36:24.846Z"
   },
   {
    "duration": 72016,
    "start_time": "2024-06-04T21:36:28.708Z"
   },
   {
    "duration": 1079,
    "start_time": "2024-06-04T21:37:40.730Z"
   },
   {
    "duration": 76902,
    "start_time": "2024-06-04T21:37:41.815Z"
   },
   {
    "duration": 3,
    "start_time": "2024-06-04T21:54:19.195Z"
   },
   {
    "duration": 73,
    "start_time": "2024-06-04T22:00:05.505Z"
   },
   {
    "duration": 6,
    "start_time": "2024-06-04T22:00:30.293Z"
   },
   {
    "duration": 558,
    "start_time": "2024-06-04T22:06:00.934Z"
   },
   {
    "duration": 7,
    "start_time": "2024-06-05T05:35:24.790Z"
   },
   {
    "duration": 7,
    "start_time": "2024-06-05T05:35:41.924Z"
   },
   {
    "duration": 2363,
    "start_time": "2024-06-05T05:36:05.792Z"
   },
   {
    "duration": 2,
    "start_time": "2024-06-05T05:36:08.157Z"
   },
   {
    "duration": 696,
    "start_time": "2024-06-05T05:36:08.161Z"
   },
   {
    "duration": 34,
    "start_time": "2024-06-05T05:36:08.859Z"
   },
   {
    "duration": 25,
    "start_time": "2024-06-05T05:36:08.910Z"
   },
   {
    "duration": 29,
    "start_time": "2024-06-05T05:36:08.936Z"
   },
   {
    "duration": 234,
    "start_time": "2024-06-05T05:36:08.966Z"
   },
   {
    "duration": 10,
    "start_time": "2024-06-05T05:36:09.202Z"
   },
   {
    "duration": 19,
    "start_time": "2024-06-05T05:36:09.214Z"
   },
   {
    "duration": 12,
    "start_time": "2024-06-05T05:36:09.234Z"
   },
   {
    "duration": 13,
    "start_time": "2024-06-05T05:36:09.248Z"
   },
   {
    "duration": 35,
    "start_time": "2024-06-05T05:36:09.262Z"
   },
   {
    "duration": 3219,
    "start_time": "2024-06-05T05:36:09.308Z"
   },
   {
    "duration": 590,
    "start_time": "2024-06-05T05:36:12.530Z"
   },
   {
    "duration": 3,
    "start_time": "2024-06-05T05:36:13.121Z"
   },
   {
    "duration": 1377,
    "start_time": "2024-06-05T05:36:13.125Z"
   },
   {
    "duration": 36,
    "start_time": "2024-06-05T05:36:14.503Z"
   },
   {
    "duration": 1259,
    "start_time": "2024-06-05T05:36:14.541Z"
   },
   {
    "duration": 32,
    "start_time": "2024-06-05T05:36:15.801Z"
   },
   {
    "duration": 20,
    "start_time": "2024-06-05T05:36:15.835Z"
   },
   {
    "duration": 5,
    "start_time": "2024-06-05T05:36:15.856Z"
   },
   {
    "duration": 8,
    "start_time": "2024-06-05T05:36:15.862Z"
   },
   {
    "duration": 5,
    "start_time": "2024-06-05T05:36:15.871Z"
   },
   {
    "duration": 29079,
    "start_time": "2024-06-05T05:36:15.877Z"
   },
   {
    "duration": 2358,
    "start_time": "2024-06-05T05:36:44.957Z"
   },
   {
    "duration": 14397,
    "start_time": "2024-06-05T05:36:47.318Z"
   },
   {
    "duration": 993,
    "start_time": "2024-06-05T05:37:01.717Z"
   },
   {
    "duration": 20003,
    "start_time": "2024-06-05T05:37:02.712Z"
   },
   {
    "duration": 98,
    "start_time": "2024-06-05T05:37:22.718Z"
   },
   {
    "duration": 93,
    "start_time": "2024-06-05T05:37:22.819Z"
   },
   {
    "duration": 631,
    "start_time": "2024-06-05T05:37:22.913Z"
   },
   {
    "duration": 1976,
    "start_time": "2024-06-05T11:47:25.116Z"
   },
   {
    "duration": 0,
    "start_time": "2024-06-05T11:47:27.094Z"
   },
   {
    "duration": 0,
    "start_time": "2024-06-05T11:47:27.096Z"
   },
   {
    "duration": 0,
    "start_time": "2024-06-05T11:47:27.097Z"
   },
   {
    "duration": 0,
    "start_time": "2024-06-05T11:47:27.098Z"
   },
   {
    "duration": 0,
    "start_time": "2024-06-05T11:47:27.099Z"
   },
   {
    "duration": 0,
    "start_time": "2024-06-05T11:47:27.100Z"
   },
   {
    "duration": 0,
    "start_time": "2024-06-05T11:47:27.101Z"
   },
   {
    "duration": 0,
    "start_time": "2024-06-05T11:47:27.103Z"
   },
   {
    "duration": 0,
    "start_time": "2024-06-05T11:47:27.104Z"
   },
   {
    "duration": 0,
    "start_time": "2024-06-05T11:47:27.104Z"
   },
   {
    "duration": 0,
    "start_time": "2024-06-05T11:47:27.106Z"
   },
   {
    "duration": 0,
    "start_time": "2024-06-05T11:47:27.107Z"
   },
   {
    "duration": 0,
    "start_time": "2024-06-05T11:47:27.108Z"
   },
   {
    "duration": 0,
    "start_time": "2024-06-05T11:47:27.109Z"
   },
   {
    "duration": 0,
    "start_time": "2024-06-05T11:47:27.110Z"
   },
   {
    "duration": 1,
    "start_time": "2024-06-05T11:47:27.111Z"
   },
   {
    "duration": 0,
    "start_time": "2024-06-05T11:47:27.113Z"
   },
   {
    "duration": 0,
    "start_time": "2024-06-05T11:47:27.114Z"
   },
   {
    "duration": 0,
    "start_time": "2024-06-05T11:47:27.146Z"
   },
   {
    "duration": 9165,
    "start_time": "2024-06-05T11:48:30.924Z"
   },
   {
    "duration": 3,
    "start_time": "2024-06-05T11:48:40.091Z"
   },
   {
    "duration": 1396,
    "start_time": "2024-06-05T11:48:40.095Z"
   },
   {
    "duration": 42,
    "start_time": "2024-06-05T11:48:41.493Z"
   },
   {
    "duration": 30,
    "start_time": "2024-06-05T11:48:41.537Z"
   },
   {
    "duration": 31,
    "start_time": "2024-06-05T11:48:41.568Z"
   },
   {
    "duration": 192,
    "start_time": "2024-06-05T11:48:41.601Z"
   },
   {
    "duration": 6,
    "start_time": "2024-06-05T11:48:41.797Z"
   },
   {
    "duration": 16,
    "start_time": "2024-06-05T11:48:41.806Z"
   },
   {
    "duration": 6,
    "start_time": "2024-06-05T11:48:41.848Z"
   },
   {
    "duration": 14,
    "start_time": "2024-06-05T11:48:41.855Z"
   },
   {
    "duration": 69,
    "start_time": "2024-06-05T11:48:41.871Z"
   },
   {
    "duration": 720,
    "start_time": "2024-06-05T11:48:41.941Z"
   },
   {
    "duration": 0,
    "start_time": "2024-06-05T11:48:42.663Z"
   },
   {
    "duration": 0,
    "start_time": "2024-06-05T11:48:42.665Z"
   },
   {
    "duration": 0,
    "start_time": "2024-06-05T11:48:42.666Z"
   },
   {
    "duration": 0,
    "start_time": "2024-06-05T11:48:42.668Z"
   },
   {
    "duration": 0,
    "start_time": "2024-06-05T11:48:42.670Z"
   },
   {
    "duration": 0,
    "start_time": "2024-06-05T11:48:42.671Z"
   },
   {
    "duration": 0,
    "start_time": "2024-06-05T11:48:42.673Z"
   },
   {
    "duration": 563,
    "start_time": "2024-06-05T11:49:40.989Z"
   },
   {
    "duration": 5,
    "start_time": "2024-06-05T11:49:41.821Z"
   },
   {
    "duration": 639,
    "start_time": "2024-06-05T11:49:42.652Z"
   },
   {
    "duration": 25,
    "start_time": "2024-06-05T11:49:44.004Z"
   },
   {
    "duration": 639,
    "start_time": "2024-06-05T11:49:45.966Z"
   },
   {
    "duration": 17,
    "start_time": "2024-06-05T11:49:51.269Z"
   },
   {
    "duration": 16,
    "start_time": "2024-06-05T11:49:56.989Z"
   },
   {
    "duration": 31,
    "start_time": "2024-06-05T11:50:01.287Z"
   },
   {
    "duration": 21,
    "start_time": "2024-06-05T11:50:28.237Z"
   },
   {
    "duration": 13,
    "start_time": "2024-06-05T11:50:29.792Z"
   },
   {
    "duration": 36,
    "start_time": "2024-06-05T11:50:32.564Z"
   },
   {
    "duration": 2394,
    "start_time": "2024-06-05T13:15:19.694Z"
   },
   {
    "duration": 2,
    "start_time": "2024-06-05T13:15:22.090Z"
   },
   {
    "duration": 702,
    "start_time": "2024-06-05T13:15:22.094Z"
   },
   {
    "duration": 41,
    "start_time": "2024-06-05T13:15:22.798Z"
   },
   {
    "duration": 27,
    "start_time": "2024-06-05T13:15:22.841Z"
   },
   {
    "duration": 53,
    "start_time": "2024-06-05T13:15:22.870Z"
   },
   {
    "duration": 230,
    "start_time": "2024-06-05T13:15:22.925Z"
   },
   {
    "duration": 4,
    "start_time": "2024-06-05T13:15:23.157Z"
   },
   {
    "duration": 27,
    "start_time": "2024-06-05T13:15:23.162Z"
   },
   {
    "duration": 5,
    "start_time": "2024-06-05T13:15:23.191Z"
   },
   {
    "duration": 12,
    "start_time": "2024-06-05T13:15:23.197Z"
   },
   {
    "duration": 39,
    "start_time": "2024-06-05T13:15:23.210Z"
   },
   {
    "duration": 3273,
    "start_time": "2024-06-05T13:15:23.250Z"
   },
   {
    "duration": 563,
    "start_time": "2024-06-05T13:15:26.524Z"
   },
   {
    "duration": 4,
    "start_time": "2024-06-05T13:15:27.088Z"
   },
   {
    "duration": 1311,
    "start_time": "2024-06-05T13:15:27.093Z"
   },
   {
    "duration": 29,
    "start_time": "2024-06-05T13:15:28.408Z"
   },
   {
    "duration": 1284,
    "start_time": "2024-06-05T13:15:28.438Z"
   },
   {
    "duration": 13,
    "start_time": "2024-06-05T13:15:29.723Z"
   },
   {
    "duration": 17,
    "start_time": "2024-06-05T13:15:29.737Z"
   },
   {
    "duration": 11,
    "start_time": "2024-06-05T13:15:29.755Z"
   },
   {
    "duration": 25,
    "start_time": "2024-06-05T13:15:29.767Z"
   },
   {
    "duration": 15,
    "start_time": "2024-06-05T13:15:29.794Z"
   },
   {
    "duration": 5,
    "start_time": "2024-06-05T13:15:29.810Z"
   },
   {
    "duration": 14,
    "start_time": "2024-06-05T13:15:29.816Z"
   },
   {
    "duration": 29094,
    "start_time": "2024-06-05T13:15:29.832Z"
   },
   {
    "duration": 216,
    "start_time": "2024-06-05T13:15:58.927Z"
   },
   {
    "duration": 55,
    "start_time": "2024-06-05T13:15:59.146Z"
   },
   {
    "duration": 57,
    "start_time": "2024-06-05T13:15:59.202Z"
   },
   {
    "duration": 58,
    "start_time": "2024-06-05T13:15:59.261Z"
   },
   {
    "duration": 8,
    "start_time": "2024-06-05T13:15:59.321Z"
   },
   {
    "duration": 43,
    "start_time": "2024-06-05T13:15:59.330Z"
   },
   {
    "duration": 531,
    "start_time": "2024-06-05T13:15:59.374Z"
   },
   {
    "duration": 15468,
    "start_time": "2024-06-05T13:17:13.242Z"
   },
   {
    "duration": 889,
    "start_time": "2024-06-05T13:18:07.126Z"
   },
   {
    "duration": 19517,
    "start_time": "2024-06-05T13:18:11.696Z"
   },
   {
    "duration": 4171,
    "start_time": "2024-06-05T13:25:35.335Z"
   },
   {
    "duration": 36,
    "start_time": "2024-06-05T13:54:16.171Z"
   },
   {
    "duration": 531,
    "start_time": "2024-06-05T13:54:22.675Z"
   },
   {
    "duration": 1164,
    "start_time": "2024-06-05T13:54:32.131Z"
   },
   {
    "duration": 1755,
    "start_time": "2024-06-05T13:58:55.354Z"
   },
   {
    "duration": 1604,
    "start_time": "2024-06-05T13:59:24.906Z"
   },
   {
    "duration": 2357,
    "start_time": "2024-06-05T14:00:54.202Z"
   },
   {
    "duration": 2,
    "start_time": "2024-06-05T14:00:56.560Z"
   },
   {
    "duration": 711,
    "start_time": "2024-06-05T14:00:56.563Z"
   },
   {
    "duration": 37,
    "start_time": "2024-06-05T14:00:57.276Z"
   },
   {
    "duration": 25,
    "start_time": "2024-06-05T14:00:57.314Z"
   },
   {
    "duration": 29,
    "start_time": "2024-06-05T14:00:57.340Z"
   },
   {
    "duration": 244,
    "start_time": "2024-06-05T14:00:57.370Z"
   },
   {
    "duration": 5,
    "start_time": "2024-06-05T14:00:57.615Z"
   },
   {
    "duration": 9,
    "start_time": "2024-06-05T14:00:57.621Z"
   },
   {
    "duration": 4,
    "start_time": "2024-06-05T14:00:57.632Z"
   },
   {
    "duration": 10,
    "start_time": "2024-06-05T14:00:57.637Z"
   },
   {
    "duration": 61,
    "start_time": "2024-06-05T14:00:57.649Z"
   },
   {
    "duration": 4271,
    "start_time": "2024-06-05T14:00:57.711Z"
   },
   {
    "duration": 44,
    "start_time": "2024-06-05T14:01:01.983Z"
   },
   {
    "duration": 566,
    "start_time": "2024-06-05T14:01:02.028Z"
   },
   {
    "duration": 4,
    "start_time": "2024-06-05T14:01:02.596Z"
   },
   {
    "duration": 1892,
    "start_time": "2024-06-05T14:01:02.608Z"
   },
   {
    "duration": 1199,
    "start_time": "2024-06-05T14:01:04.501Z"
   },
   {
    "duration": 17,
    "start_time": "2024-06-05T14:01:05.702Z"
   },
   {
    "duration": 194,
    "start_time": "2024-06-05T14:01:05.721Z"
   },
   {
    "duration": 0,
    "start_time": "2024-06-05T14:01:05.917Z"
   },
   {
    "duration": 0,
    "start_time": "2024-06-05T14:01:05.919Z"
   },
   {
    "duration": 0,
    "start_time": "2024-06-05T14:01:05.920Z"
   },
   {
    "duration": 0,
    "start_time": "2024-06-05T14:01:05.922Z"
   },
   {
    "duration": 0,
    "start_time": "2024-06-05T14:01:05.923Z"
   },
   {
    "duration": 0,
    "start_time": "2024-06-05T14:01:05.924Z"
   },
   {
    "duration": 0,
    "start_time": "2024-06-05T14:01:05.925Z"
   },
   {
    "duration": 0,
    "start_time": "2024-06-05T14:01:05.926Z"
   },
   {
    "duration": 0,
    "start_time": "2024-06-05T14:01:05.927Z"
   },
   {
    "duration": 0,
    "start_time": "2024-06-05T14:01:05.928Z"
   },
   {
    "duration": 0,
    "start_time": "2024-06-05T14:01:05.929Z"
   },
   {
    "duration": 0,
    "start_time": "2024-06-05T14:01:05.929Z"
   },
   {
    "duration": 0,
    "start_time": "2024-06-05T14:01:05.930Z"
   },
   {
    "duration": 26,
    "start_time": "2024-06-05T14:04:01.305Z"
   },
   {
    "duration": 1620,
    "start_time": "2024-06-05T14:04:06.689Z"
   },
   {
    "duration": 11,
    "start_time": "2024-06-05T14:08:58.547Z"
   },
   {
    "duration": 15,
    "start_time": "2024-06-05T14:27:02.576Z"
   },
   {
    "duration": 5,
    "start_time": "2024-06-05T14:27:18.445Z"
   },
   {
    "duration": 15,
    "start_time": "2024-06-05T14:28:26.157Z"
   },
   {
    "duration": 4,
    "start_time": "2024-06-05T14:28:32.753Z"
   },
   {
    "duration": 4,
    "start_time": "2024-06-05T16:36:08.542Z"
   },
   {
    "duration": 5,
    "start_time": "2024-06-05T16:36:44.656Z"
   },
   {
    "duration": 132,
    "start_time": "2024-06-05T16:37:23.937Z"
   },
   {
    "duration": 656,
    "start_time": "2024-06-05T16:37:29.125Z"
   },
   {
    "duration": 1684,
    "start_time": "2024-06-05T16:37:34.715Z"
   },
   {
    "duration": 17,
    "start_time": "2024-06-05T16:37:55.065Z"
   },
   {
    "duration": 11,
    "start_time": "2024-06-05T16:38:04.142Z"
   },
   {
    "duration": 1705,
    "start_time": "2024-06-05T16:38:11.399Z"
   },
   {
    "duration": 48,
    "start_time": "2024-06-05T16:39:40.588Z"
   },
   {
    "duration": 1857,
    "start_time": "2024-06-05T16:40:37.962Z"
   },
   {
    "duration": 62,
    "start_time": "2024-06-05T16:41:41.066Z"
   },
   {
    "duration": 28,
    "start_time": "2024-06-05T16:41:45.662Z"
   },
   {
    "duration": 10,
    "start_time": "2024-06-05T16:41:56.449Z"
   },
   {
    "duration": 1652,
    "start_time": "2024-06-05T16:43:04.640Z"
   },
   {
    "duration": 13,
    "start_time": "2024-06-05T16:44:11.493Z"
   },
   {
    "duration": 1692,
    "start_time": "2024-06-05T16:44:15.628Z"
   },
   {
    "duration": 19,
    "start_time": "2024-06-05T16:45:30.358Z"
   },
   {
    "duration": 9,
    "start_time": "2024-06-05T16:45:37.809Z"
   },
   {
    "duration": 30,
    "start_time": "2024-06-05T16:49:59.734Z"
   },
   {
    "duration": 34,
    "start_time": "2024-06-05T16:50:13.140Z"
   },
   {
    "duration": 30,
    "start_time": "2024-06-05T16:50:46.020Z"
   },
   {
    "duration": 19,
    "start_time": "2024-06-05T16:50:55.627Z"
   },
   {
    "duration": 19,
    "start_time": "2024-06-05T16:51:01.806Z"
   },
   {
    "duration": 2310,
    "start_time": "2024-06-05T16:54:26.727Z"
   },
   {
    "duration": 2,
    "start_time": "2024-06-05T16:54:29.039Z"
   },
   {
    "duration": 739,
    "start_time": "2024-06-05T16:54:29.043Z"
   },
   {
    "duration": 40,
    "start_time": "2024-06-05T16:54:29.784Z"
   },
   {
    "duration": 24,
    "start_time": "2024-06-05T16:54:29.825Z"
   },
   {
    "duration": 28,
    "start_time": "2024-06-05T16:54:29.850Z"
   },
   {
    "duration": 236,
    "start_time": "2024-06-05T16:54:29.879Z"
   },
   {
    "duration": 5,
    "start_time": "2024-06-05T16:54:30.116Z"
   },
   {
    "duration": 32,
    "start_time": "2024-06-05T16:54:30.122Z"
   },
   {
    "duration": 38,
    "start_time": "2024-06-05T16:54:30.156Z"
   },
   {
    "duration": 17,
    "start_time": "2024-06-05T16:54:30.195Z"
   },
   {
    "duration": 45,
    "start_time": "2024-06-05T16:54:30.213Z"
   },
   {
    "duration": 4170,
    "start_time": "2024-06-05T16:54:30.259Z"
   },
   {
    "duration": 33,
    "start_time": "2024-06-05T16:54:34.430Z"
   },
   {
    "duration": 23,
    "start_time": "2024-06-05T16:54:34.465Z"
   },
   {
    "duration": 494,
    "start_time": "2024-06-05T16:54:34.509Z"
   },
   {
    "duration": 14,
    "start_time": "2024-06-05T16:54:35.004Z"
   },
   {
    "duration": 4,
    "start_time": "2024-06-05T16:54:35.019Z"
   },
   {
    "duration": 1766,
    "start_time": "2024-06-05T16:54:35.025Z"
   },
   {
    "duration": 19,
    "start_time": "2024-06-05T16:54:36.793Z"
   },
   {
    "duration": 180,
    "start_time": "2024-06-05T16:54:36.813Z"
   },
   {
    "duration": 0,
    "start_time": "2024-06-05T16:54:36.995Z"
   },
   {
    "duration": 0,
    "start_time": "2024-06-05T16:54:36.996Z"
   },
   {
    "duration": 0,
    "start_time": "2024-06-05T16:54:36.996Z"
   },
   {
    "duration": 0,
    "start_time": "2024-06-05T16:54:36.998Z"
   },
   {
    "duration": 0,
    "start_time": "2024-06-05T16:54:36.998Z"
   },
   {
    "duration": 0,
    "start_time": "2024-06-05T16:54:36.999Z"
   },
   {
    "duration": 0,
    "start_time": "2024-06-05T16:54:37.009Z"
   },
   {
    "duration": 0,
    "start_time": "2024-06-05T16:54:37.010Z"
   },
   {
    "duration": 0,
    "start_time": "2024-06-05T16:54:37.011Z"
   },
   {
    "duration": 0,
    "start_time": "2024-06-05T16:54:37.012Z"
   },
   {
    "duration": 0,
    "start_time": "2024-06-05T16:54:37.012Z"
   },
   {
    "duration": 0,
    "start_time": "2024-06-05T16:54:37.013Z"
   },
   {
    "duration": 0,
    "start_time": "2024-06-05T16:54:37.014Z"
   },
   {
    "duration": 37,
    "start_time": "2024-06-05T16:57:56.451Z"
   },
   {
    "duration": 22,
    "start_time": "2024-06-05T16:58:36.718Z"
   },
   {
    "duration": 20,
    "start_time": "2024-06-05T16:59:19.222Z"
   },
   {
    "duration": 10,
    "start_time": "2024-06-05T16:59:46.996Z"
   },
   {
    "duration": 10,
    "start_time": "2024-06-05T17:10:32.426Z"
   },
   {
    "duration": 12,
    "start_time": "2024-06-05T17:10:52.146Z"
   },
   {
    "duration": 12,
    "start_time": "2024-06-05T17:11:25.036Z"
   },
   {
    "duration": 2286,
    "start_time": "2024-06-05T17:11:36.339Z"
   },
   {
    "duration": 2,
    "start_time": "2024-06-05T17:11:38.627Z"
   },
   {
    "duration": 682,
    "start_time": "2024-06-05T17:11:38.630Z"
   },
   {
    "duration": 32,
    "start_time": "2024-06-05T17:11:39.313Z"
   },
   {
    "duration": 34,
    "start_time": "2024-06-05T17:11:39.347Z"
   },
   {
    "duration": 56,
    "start_time": "2024-06-05T17:11:39.383Z"
   },
   {
    "duration": 248,
    "start_time": "2024-06-05T17:11:39.440Z"
   },
   {
    "duration": 6,
    "start_time": "2024-06-05T17:11:39.689Z"
   },
   {
    "duration": 8,
    "start_time": "2024-06-05T17:11:39.708Z"
   },
   {
    "duration": 7,
    "start_time": "2024-06-05T17:11:39.717Z"
   },
   {
    "duration": 26,
    "start_time": "2024-06-05T17:11:39.725Z"
   },
   {
    "duration": 38,
    "start_time": "2024-06-05T17:11:39.753Z"
   },
   {
    "duration": 4090,
    "start_time": "2024-06-05T17:11:39.792Z"
   },
   {
    "duration": 31,
    "start_time": "2024-06-05T17:11:43.884Z"
   },
   {
    "duration": 475,
    "start_time": "2024-06-05T17:11:43.916Z"
   },
   {
    "duration": 21,
    "start_time": "2024-06-05T17:11:44.392Z"
   },
   {
    "duration": 4,
    "start_time": "2024-06-05T17:11:44.414Z"
   },
   {
    "duration": 1783,
    "start_time": "2024-06-05T17:11:44.419Z"
   },
   {
    "duration": 9,
    "start_time": "2024-06-05T17:11:46.204Z"
   },
   {
    "duration": 23,
    "start_time": "2024-06-05T17:11:46.214Z"
   },
   {
    "duration": 13,
    "start_time": "2024-06-05T17:11:46.238Z"
   },
   {
    "duration": 10,
    "start_time": "2024-06-05T17:11:46.252Z"
   },
   {
    "duration": 11,
    "start_time": "2024-06-05T17:11:46.264Z"
   },
   {
    "duration": 33,
    "start_time": "2024-06-05T17:11:46.276Z"
   },
   {
    "duration": 3,
    "start_time": "2024-06-05T17:11:46.311Z"
   },
   {
    "duration": 8,
    "start_time": "2024-06-05T17:11:46.315Z"
   },
   {
    "duration": 27342,
    "start_time": "2024-06-05T17:11:46.324Z"
   },
   {
    "duration": 238,
    "start_time": "2024-06-05T17:12:13.668Z"
   },
   {
    "duration": 15509,
    "start_time": "2024-06-05T17:12:13.908Z"
   },
   {
    "duration": 806,
    "start_time": "2024-06-05T17:12:29.509Z"
   },
   {
    "duration": 19892,
    "start_time": "2024-06-05T17:12:30.317Z"
   },
   {
    "duration": 8,
    "start_time": "2024-06-05T17:12:50.211Z"
   },
   {
    "duration": 92,
    "start_time": "2024-06-05T17:12:50.221Z"
   },
   {
    "duration": 496,
    "start_time": "2024-06-05T17:12:50.314Z"
   },
   {
    "duration": 2568,
    "start_time": "2024-06-05T17:14:01.645Z"
   },
   {
    "duration": 14016,
    "start_time": "2024-06-05T17:14:13.294Z"
   },
   {
    "duration": 932,
    "start_time": "2024-06-05T17:14:54.984Z"
   },
   {
    "duration": 21028,
    "start_time": "2024-06-05T17:14:58.785Z"
   },
   {
    "duration": 19797,
    "start_time": "2024-06-05T17:17:02.916Z"
   },
   {
    "duration": 20067,
    "start_time": "2024-06-05T17:17:51.346Z"
   },
   {
    "duration": 3,
    "start_time": "2024-06-05T17:18:51.561Z"
   },
   {
    "duration": 5,
    "start_time": "2024-06-05T17:20:57.869Z"
   },
   {
    "duration": 2348,
    "start_time": "2024-06-05T17:22:23.336Z"
   },
   {
    "duration": 2,
    "start_time": "2024-06-05T17:22:25.685Z"
   },
   {
    "duration": 715,
    "start_time": "2024-06-05T17:22:25.688Z"
   },
   {
    "duration": 35,
    "start_time": "2024-06-05T17:22:26.405Z"
   },
   {
    "duration": 27,
    "start_time": "2024-06-05T17:22:26.443Z"
   },
   {
    "duration": 60,
    "start_time": "2024-06-05T17:22:26.471Z"
   },
   {
    "duration": 221,
    "start_time": "2024-06-05T17:22:26.532Z"
   },
   {
    "duration": 5,
    "start_time": "2024-06-05T17:22:26.754Z"
   },
   {
    "duration": 7,
    "start_time": "2024-06-05T17:22:26.760Z"
   },
   {
    "duration": 6,
    "start_time": "2024-06-05T17:22:26.768Z"
   },
   {
    "duration": 8,
    "start_time": "2024-06-05T17:22:26.775Z"
   },
   {
    "duration": 54,
    "start_time": "2024-06-05T17:22:26.784Z"
   },
   {
    "duration": 4358,
    "start_time": "2024-06-05T17:22:26.839Z"
   },
   {
    "duration": 33,
    "start_time": "2024-06-05T17:22:31.199Z"
   },
   {
    "duration": 653,
    "start_time": "2024-06-05T17:22:31.233Z"
   },
   {
    "duration": 22,
    "start_time": "2024-06-05T17:22:31.888Z"
   },
   {
    "duration": 40,
    "start_time": "2024-06-05T17:22:31.911Z"
   },
   {
    "duration": 1741,
    "start_time": "2024-06-05T17:22:31.952Z"
   },
   {
    "duration": 15,
    "start_time": "2024-06-05T17:22:33.695Z"
   },
   {
    "duration": 20,
    "start_time": "2024-06-05T17:22:33.711Z"
   },
   {
    "duration": 28,
    "start_time": "2024-06-05T17:22:33.733Z"
   },
   {
    "duration": 14,
    "start_time": "2024-06-05T17:22:33.763Z"
   },
   {
    "duration": 33,
    "start_time": "2024-06-05T17:22:33.778Z"
   },
   {
    "duration": 4,
    "start_time": "2024-06-05T17:22:33.812Z"
   },
   {
    "duration": 6,
    "start_time": "2024-06-05T17:22:33.818Z"
   },
   {
    "duration": 5,
    "start_time": "2024-06-05T17:22:33.826Z"
   },
   {
    "duration": 27152,
    "start_time": "2024-06-05T17:22:33.832Z"
   },
   {
    "duration": 2326,
    "start_time": "2024-06-05T17:23:00.986Z"
   },
   {
    "duration": 15515,
    "start_time": "2024-06-05T17:23:03.314Z"
   },
   {
    "duration": 807,
    "start_time": "2024-06-05T17:23:18.910Z"
   },
   {
    "duration": 19102,
    "start_time": "2024-06-05T17:23:19.810Z"
   },
   {
    "duration": 9,
    "start_time": "2024-06-05T17:23:38.914Z"
   },
   {
    "duration": 109,
    "start_time": "2024-06-05T17:23:38.924Z"
   },
   {
    "duration": 507,
    "start_time": "2024-06-05T17:23:39.108Z"
   },
   {
    "duration": 193,
    "start_time": "2024-06-05T17:24:35.182Z"
   },
   {
    "duration": 3,
    "start_time": "2024-06-05T17:24:43.378Z"
   },
   {
    "duration": 27049,
    "start_time": "2024-06-05T17:25:38.072Z"
   },
   {
    "duration": 3,
    "start_time": "2024-06-05T17:28:31.051Z"
   },
   {
    "duration": 27208,
    "start_time": "2024-06-05T17:28:34.269Z"
   },
   {
    "duration": 3,
    "start_time": "2024-06-05T17:29:37.987Z"
   },
   {
    "duration": 27128,
    "start_time": "2024-06-05T17:29:40.237Z"
   },
   {
    "duration": 67,
    "start_time": "2024-06-05T17:30:27.022Z"
   },
   {
    "duration": 27273,
    "start_time": "2024-06-05T17:30:45.742Z"
   },
   {
    "duration": 3,
    "start_time": "2024-06-05T17:31:59.722Z"
   },
   {
    "duration": 26935,
    "start_time": "2024-06-05T17:32:02.760Z"
   },
   {
    "duration": 3,
    "start_time": "2024-06-05T17:33:01.624Z"
   },
   {
    "duration": 26903,
    "start_time": "2024-06-05T17:34:00.963Z"
   },
   {
    "duration": 3,
    "start_time": "2024-06-05T17:36:13.000Z"
   },
   {
    "duration": 1955,
    "start_time": "2024-06-05T17:36:20.354Z"
   },
   {
    "duration": 3,
    "start_time": "2024-06-05T17:37:41.214Z"
   },
   {
    "duration": 4,
    "start_time": "2024-06-05T17:37:49.592Z"
   },
   {
    "duration": 2495,
    "start_time": "2024-06-05T17:38:30.118Z"
   },
   {
    "duration": 14687,
    "start_time": "2024-06-05T17:39:15.127Z"
   },
   {
    "duration": 981,
    "start_time": "2024-06-05T17:39:39.129Z"
   },
   {
    "duration": 41,
    "start_time": "2024-06-05T17:39:50.267Z"
   },
   {
    "duration": 20224,
    "start_time": "2024-06-05T17:40:16.889Z"
   },
   {
    "duration": 666,
    "start_time": "2024-06-05T17:48:53.875Z"
   },
   {
    "duration": 2363,
    "start_time": "2024-06-05T17:49:27.531Z"
   },
   {
    "duration": 2,
    "start_time": "2024-06-05T17:49:29.895Z"
   },
   {
    "duration": 688,
    "start_time": "2024-06-05T17:49:29.899Z"
   },
   {
    "duration": 40,
    "start_time": "2024-06-05T17:49:30.588Z"
   },
   {
    "duration": 40,
    "start_time": "2024-06-05T17:49:30.630Z"
   },
   {
    "duration": 52,
    "start_time": "2024-06-05T17:49:30.671Z"
   },
   {
    "duration": 231,
    "start_time": "2024-06-05T17:49:30.725Z"
   },
   {
    "duration": 5,
    "start_time": "2024-06-05T17:49:30.957Z"
   },
   {
    "duration": 55,
    "start_time": "2024-06-05T17:49:30.963Z"
   },
   {
    "duration": 26,
    "start_time": "2024-06-05T17:49:31.020Z"
   },
   {
    "duration": 46,
    "start_time": "2024-06-05T17:49:31.047Z"
   },
   {
    "duration": 45,
    "start_time": "2024-06-05T17:49:31.095Z"
   },
   {
    "duration": 4184,
    "start_time": "2024-06-05T17:49:31.141Z"
   },
   {
    "duration": 26,
    "start_time": "2024-06-05T17:49:35.327Z"
   },
   {
    "duration": 548,
    "start_time": "2024-06-05T17:49:35.355Z"
   },
   {
    "duration": 13,
    "start_time": "2024-06-05T17:49:35.905Z"
   },
   {
    "duration": 5,
    "start_time": "2024-06-05T17:49:35.919Z"
   },
   {
    "duration": 1793,
    "start_time": "2024-06-05T17:49:35.925Z"
   },
   {
    "duration": 9,
    "start_time": "2024-06-05T17:49:37.720Z"
   },
   {
    "duration": 15,
    "start_time": "2024-06-05T17:49:37.730Z"
   },
   {
    "duration": 16,
    "start_time": "2024-06-05T17:49:37.746Z"
   },
   {
    "duration": 11,
    "start_time": "2024-06-05T17:49:37.763Z"
   },
   {
    "duration": 40,
    "start_time": "2024-06-05T17:49:37.775Z"
   },
   {
    "duration": 3,
    "start_time": "2024-06-05T17:49:37.817Z"
   },
   {
    "duration": 6,
    "start_time": "2024-06-05T17:49:37.821Z"
   },
   {
    "duration": 8,
    "start_time": "2024-06-05T17:49:37.828Z"
   },
   {
    "duration": 27324,
    "start_time": "2024-06-05T17:49:37.838Z"
   },
   {
    "duration": 2348,
    "start_time": "2024-06-05T17:50:05.163Z"
   },
   {
    "duration": 13204,
    "start_time": "2024-06-05T17:50:07.513Z"
   },
   {
    "duration": 1097,
    "start_time": "2024-06-05T17:50:20.719Z"
   },
   {
    "duration": 19900,
    "start_time": "2024-06-05T17:50:21.817Z"
   },
   {
    "duration": 99,
    "start_time": "2024-06-05T17:50:41.718Z"
   },
   {
    "duration": 8,
    "start_time": "2024-06-05T17:50:41.908Z"
   },
   {
    "duration": 708,
    "start_time": "2024-06-05T17:50:41.917Z"
   },
   {
    "duration": 2361,
    "start_time": "2024-06-05T18:05:59.443Z"
   },
   {
    "duration": 3,
    "start_time": "2024-06-05T18:06:01.806Z"
   },
   {
    "duration": 857,
    "start_time": "2024-06-05T18:06:01.811Z"
   },
   {
    "duration": 40,
    "start_time": "2024-06-05T18:06:02.670Z"
   },
   {
    "duration": 527,
    "start_time": "2024-06-05T18:06:02.711Z"
   },
   {
    "duration": 36,
    "start_time": "2024-06-05T18:06:03.239Z"
   },
   {
    "duration": 209,
    "start_time": "2024-06-05T18:06:03.276Z"
   },
   {
    "duration": 5,
    "start_time": "2024-06-05T18:06:03.486Z"
   },
   {
    "duration": 27,
    "start_time": "2024-06-05T18:06:03.492Z"
   },
   {
    "duration": 29,
    "start_time": "2024-06-05T18:06:03.523Z"
   },
   {
    "duration": 29,
    "start_time": "2024-06-05T18:06:03.554Z"
   },
   {
    "duration": 63,
    "start_time": "2024-06-05T18:06:03.584Z"
   },
   {
    "duration": 4243,
    "start_time": "2024-06-05T18:06:03.648Z"
   },
   {
    "duration": 35,
    "start_time": "2024-06-05T18:06:07.893Z"
   },
   {
    "duration": 506,
    "start_time": "2024-06-05T18:06:07.930Z"
   },
   {
    "duration": 11,
    "start_time": "2024-06-05T18:06:08.437Z"
   },
   {
    "duration": 4,
    "start_time": "2024-06-05T18:06:08.449Z"
   },
   {
    "duration": 1741,
    "start_time": "2024-06-05T18:06:08.454Z"
   },
   {
    "duration": 20,
    "start_time": "2024-06-05T18:06:10.196Z"
   },
   {
    "duration": 18,
    "start_time": "2024-06-05T18:06:10.217Z"
   },
   {
    "duration": 13,
    "start_time": "2024-06-05T18:06:10.237Z"
   },
   {
    "duration": 11,
    "start_time": "2024-06-05T18:06:10.251Z"
   },
   {
    "duration": 20,
    "start_time": "2024-06-05T18:06:10.263Z"
   },
   {
    "duration": 27,
    "start_time": "2024-06-05T18:06:10.284Z"
   },
   {
    "duration": 4,
    "start_time": "2024-06-05T18:06:10.313Z"
   },
   {
    "duration": 10,
    "start_time": "2024-06-05T18:06:10.318Z"
   },
   {
    "duration": 27553,
    "start_time": "2024-06-05T18:06:10.329Z"
   },
   {
    "duration": 2228,
    "start_time": "2024-06-05T18:06:37.886Z"
   },
   {
    "duration": 14496,
    "start_time": "2024-06-05T18:06:40.118Z"
   },
   {
    "duration": 701,
    "start_time": "2024-06-05T18:06:54.616Z"
   },
   {
    "duration": 19399,
    "start_time": "2024-06-05T18:06:55.319Z"
   },
   {
    "duration": 99,
    "start_time": "2024-06-05T18:07:14.810Z"
   },
   {
    "duration": 8,
    "start_time": "2024-06-05T18:07:14.910Z"
   },
   {
    "duration": 712,
    "start_time": "2024-06-05T18:07:14.919Z"
   }
  ],
  "celltoolbar": "Отсутствует",
  "kernelspec": {
   "display_name": "Python 3 (ipykernel)",
   "language": "python",
   "name": "python3"
  },
  "language_info": {
   "codemirror_mode": {
    "name": "ipython",
    "version": 3
   },
   "file_extension": ".py",
   "mimetype": "text/x-python",
   "name": "python",
   "nbconvert_exporter": "python",
   "pygments_lexer": "ipython3",
   "version": "3.9.5"
  },
  "toc": {
   "base_numbering": 1,
   "nav_menu": {},
   "number_sections": true,
   "sideBar": true,
   "skip_h1_title": false,
   "title_cell": "Содержание",
   "title_sidebar": "Contents",
   "toc_cell": true,
   "toc_position": {},
   "toc_section_display": true,
   "toc_window_display": true
  }
 },
 "nbformat": 4,
 "nbformat_minor": 2
}
