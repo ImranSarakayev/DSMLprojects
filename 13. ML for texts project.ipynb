{
 "cells": [
  {
   "cell_type": "markdown",
   "metadata": {},
   "source": [
    "<img src=\"http://s3.amazonaws.com/pix.iemoji.com/images/emoji/apple/ios-12/256/waving-hand.png\" align=left width=44, heigth=44>\n",
    "<div class=\"alert alert-info\">\n",
    "<b> Комментарий ревьюера</b>\n",
    "\n",
    "\n",
    "Привет, Имран! Давай знакомиться! Меня зовут Дмитрий, и я буду проверять твой проект. Сразу предлагаю общение на «ты» 🙂, но если тебе это не комфортно, то дай знать, и мы перейдем на «вы». \n",
    "\n",
    "Моя основная цель — не указать на совершенные тобою ошибки, а поделиться своим опытом и помочь тебе погрузиться в увлекательный мир работы с данными и вырасти в крепкого профи. Это отдаленная цель. А ближайшая - сделать твою работу еще лучше )).\n",
    "   \n",
    "    \n",
    "Все ключевые этапы в работе выполнены, и я вижу что с проектом ты справшяешься. Есть моменты, которые нужно доработать, но я уверен, у тебя все получится.\n",
    "        \n",
    "Расскажу как обычно проходит проверка:    \n",
    "Бывают моменты, которые требуют пристального внимания. Комментарии по ним выделены <span style='background-color:#F7B3A4'> красным цветом </span> и обозначены значком 🛑. После их доработки проект будет принят.  🙂\n",
    " \n",
    "<span style='background-color:#B7EBA7'> Зеленым цветом </span> и значком ✅ отмечены удачные и элегантные решения, на которые можно опираться в будущих проектах. Или советы «со звездочкой», которые помогут тебе в будущем.\n",
    "\n",
    "<span style='background-color:#F9EDA6'>Жёлтым цветом </span> и значком ⚠️ выделено то, что в следующий раз можно сделать по-другому. Ты можешь учесть эти комментарии при выполнении будущих заданий или доработать проект сейчас (однако это не обязательно).\n",
    "\n",
    "Давай работать над проектом в диалоге: **если ты что-то меняешь в проекте по моим рекомендациям — пиши об этом**. Выбери для своих комментариев какой-то заметный цвет, так мне будет легче отследить изменения. Пожалуйста, **не перемещай, не изменяй и не удаляй мои комментарии**. Всё это поможет выполнить повторную проверку твоего проекта оперативнее. \n",
    "</div>"
   ]
  },
  {
   "cell_type": "markdown",
   "metadata": {},
   "source": [
    "<div class=\"alert\" style=\"background-color:#ead7f7;color:#8737bf\">\n",
    "    <font size=\"3\"><b>Комментарий студента:</b></font>\n",
    "   \n",
    "Дмитрий, привет! Приятно познакомиться, конечно, можем на \"ты\". Огромное спасибо за советы и подсказки, а также за рекомендации!\n",
    "\n",
    "</div>"
   ]
  },
  {
   "cell_type": "markdown",
   "metadata": {},
   "source": [
    "<img src=\"http://s3.amazonaws.com/pix.iemoji.com/images/emoji/apple/ios-12/256/waving-hand.png\" align=left width=44, heigth=44>\n",
    "<div class=\"alert alert-info\">\n",
    "<b> Комментарий ревьюера v2</b>\n",
    "\n",
    "Привет! 🤝\n",
    "\n",
    "Давай посмотрим на обновленый проект.\n",
    "</div>"
   ]
  },
  {
   "cell_type": "markdown",
   "metadata": {
    "toc": true
   },
   "source": [
    "<h1>Содержание<span class=\"tocSkip\"></span></h1>\n",
    "<div class=\"toc\"><ul class=\"toc-item\"><li><span><a href=\"#Подготовка\" data-toc-modified-id=\"Подготовка-1\"><span class=\"toc-item-num\">1&nbsp;&nbsp;</span>Подготовка</a></span><ul class=\"toc-item\"><li><span><a href=\"#Загрузим-и-ознакомимся-с-данными\" data-toc-modified-id=\"Загрузим-и-ознакомимся-с-данными-1.1\"><span class=\"toc-item-num\">1.1&nbsp;&nbsp;</span>Загрузим и ознакомимся с данными</a></span></li><li><span><a href=\"#Исследуем-целевой-признак\" data-toc-modified-id=\"Исследуем-целевой-признак-1.2\"><span class=\"toc-item-num\">1.2&nbsp;&nbsp;</span>Исследуем целевой признак</a></span></li></ul></li><li><span><a href=\"#Обучение\" data-toc-modified-id=\"Обучение-2\"><span class=\"toc-item-num\">2&nbsp;&nbsp;</span>Обучение</a></span><ul class=\"toc-item\"><li><span><a href=\"#Загрузка-предобученной-модели-и-токенизация\" data-toc-modified-id=\"Загрузка-предобученной-модели-и-токенизация-2.1\"><span class=\"toc-item-num\">2.1&nbsp;&nbsp;</span>Загрузка предобученной модели и токенизация</a></span></li><li><span><a href=\"#Создание-эмбеддингов\" data-toc-modified-id=\"Создание-эмбеддингов-2.2\"><span class=\"toc-item-num\">2.2&nbsp;&nbsp;</span>Создание эмбеддингов</a></span></li><li><span><a href=\"#Обучим-и-протестируем-несколько-моделей\" data-toc-modified-id=\"Обучим-и-протестируем-несколько-моделей-2.3\"><span class=\"toc-item-num\">2.3&nbsp;&nbsp;</span>Обучим и протестируем несколько моделей</a></span></li><li><span><a href=\"#Попробую-немного-иной-подход-в-подборе-моделей-(старый-код-выше-в-маркдауне):\" data-toc-modified-id=\"Попробую-немного-иной-подход-в-подборе-моделей-(старый-код-выше-в-маркдауне):-2.4\"><span class=\"toc-item-num\">2.4&nbsp;&nbsp;</span>Попробую немного иной подход в подборе моделей (старый код выше в маркдауне):</a></span></li><li><span><a href=\"#Проверяем-лучшую-модель-на-тестовой-выборке\" data-toc-modified-id=\"Проверяем-лучшую-модель-на-тестовой-выборке-2.5\"><span class=\"toc-item-num\">2.5&nbsp;&nbsp;</span>Проверяем лучшую модель на тестовой выборке</a></span></li></ul></li><li><span><a href=\"#Выводы\" data-toc-modified-id=\"Выводы-3\"><span class=\"toc-item-num\">3&nbsp;&nbsp;</span>Выводы</a></span></li><li><span><a href=\"#Чек-лист-проверки\" data-toc-modified-id=\"Чек-лист-проверки-4\"><span class=\"toc-item-num\">4&nbsp;&nbsp;</span>Чек-лист проверки</a></span></li></ul></div>"
   ]
  },
  {
   "cell_type": "markdown",
   "metadata": {},
   "source": [
    "**Привет!\n",
    "Никак не получается достичь целевого показателя, не могу понять, в чем причина, многое перебробовал. Подскажи, пожалуйста, быть может есть неочевидная для меня ошибка.\\\n",
    "Балансировка классов только ухудшает показатели, а при переборе ГП все равно не хватает 2-3% до целевого показателя**"
   ]
  },
  {
   "cell_type": "markdown",
   "metadata": {},
   "source": [
    "# Проект для «Викишоп» с использованием BERT"
   ]
  },
  {
   "cell_type": "markdown",
   "metadata": {},
   "source": [
    "Интернет-магазин «Викишоп» запускает новый сервис. Теперь пользователи могут редактировать и дополнять описания товаров, как в вики-сообществах. То есть клиенты предлагают свои правки и комментируют изменения других. Магазину нужен инструмент, который будет искать токсичные комментарии и отправлять их на модерацию. \n",
    "\n",
    "Обучите модель классифицировать комментарии на позитивные и негативные. В вашем распоряжении набор данных с разметкой о токсичности правок.\n",
    "\n",
    "Постройте модель со значением метрики качества *F1* не меньше 0.75. \n",
    "\n",
    "**Инструкция по выполнению проекта**\n",
    "\n",
    "1. Загрузите и подготовьте данные.\n",
    "2. Обучите разные модели. \n",
    "3. Сделайте выводы.\n",
    "\n",
    "Для выполнения проекта применять *BERT* необязательно, но вы можете попробовать.\n",
    "\n",
    "**Описание данных**\n",
    "\n",
    "Данные находятся в файле `toxic_comments.csv`. Столбец *text* в нём содержит текст комментария, а *toxic* — целевой признак."
   ]
  },
  {
   "cell_type": "markdown",
   "metadata": {},
   "source": [
    "## Подготовка"
   ]
  },
  {
   "cell_type": "markdown",
   "metadata": {},
   "source": [
    "Импортируем библиотеки:"
   ]
  },
  {
   "cell_type": "code",
   "execution_count": 39,
   "metadata": {},
   "outputs": [],
   "source": [
    "import numpy as np\n",
    "import pandas as pd\n",
    "import torch\n",
    "import transformers\n",
    "from transformers import BertTokenizer, BertModel\n",
    "from tqdm import notebook\n",
    "from sklearn.preprocessing import StandardScaler\n",
    "from sklearn.model_selection import (train_test_split, \n",
    "                                     cross_val_score,\n",
    "                                       GridSearchCV,\n",
    "                                       cross_validate)\n",
    "from sklearn.metrics import f1_score, make_scorer\n",
    "from sklearn.linear_model import LogisticRegression\n",
    "from sklearn.utils import shuffle\n",
    "from catboost import CatBoostClassifier\n",
    "from numpy.random import RandomState\n",
    "from lightgbm import LGBMClassifier\n",
    "import re\n",
    "from imblearn.over_sampling import SMOTE\n",
    "from sklearn.dummy import DummyClassifier\n",
    "\n",
    "\n"
   ]
  },
  {
   "cell_type": "markdown",
   "metadata": {},
   "source": [
    "<img src=\"https://emojigraph.org/media/apple/check-mark-button_2705.png\" align=left width=33, heigth=33>\n",
    "<div class=\"alert alert-success\">\n",
    "Отлично, все нужные библиотеки импортированы в начале ноутбука.Это хорошая практика.</div>"
   ]
  },
  {
   "cell_type": "markdown",
   "metadata": {},
   "source": [
    "### Загрузим и ознакомимся с данными"
   ]
  },
  {
   "cell_type": "code",
   "execution_count": 2,
   "metadata": {},
   "outputs": [],
   "source": [
    "data = pd.read_csv('toxic_comments.csv')"
   ]
  },
  {
   "cell_type": "code",
   "execution_count": 3,
   "metadata": {},
   "outputs": [
    {
     "name": "stdout",
     "output_type": "stream",
     "text": [
      "<class 'pandas.core.frame.DataFrame'>\n",
      "RangeIndex: 159292 entries, 0 to 159291\n",
      "Data columns (total 3 columns):\n",
      " #   Column      Non-Null Count   Dtype \n",
      "---  ------      --------------   ----- \n",
      " 0   Unnamed: 0  159292 non-null  int64 \n",
      " 1   text        159292 non-null  object\n",
      " 2   toxic       159292 non-null  int64 \n",
      "dtypes: int64(2), object(1)\n",
      "memory usage: 3.6+ MB\n"
     ]
    },
    {
     "data": {
      "text/plain": [
       "None"
      ]
     },
     "metadata": {},
     "output_type": "display_data"
    },
    {
     "data": {
      "text/html": [
       "<div>\n",
       "<style scoped>\n",
       "    .dataframe tbody tr th:only-of-type {\n",
       "        vertical-align: middle;\n",
       "    }\n",
       "\n",
       "    .dataframe tbody tr th {\n",
       "        vertical-align: top;\n",
       "    }\n",
       "\n",
       "    .dataframe thead th {\n",
       "        text-align: right;\n",
       "    }\n",
       "</style>\n",
       "<table border=\"1\" class=\"dataframe\">\n",
       "  <thead>\n",
       "    <tr style=\"text-align: right;\">\n",
       "      <th></th>\n",
       "      <th>Unnamed: 0</th>\n",
       "      <th>text</th>\n",
       "      <th>toxic</th>\n",
       "    </tr>\n",
       "  </thead>\n",
       "  <tbody>\n",
       "    <tr>\n",
       "      <th>0</th>\n",
       "      <td>0</td>\n",
       "      <td>Explanation\\nWhy the edits made under my usern...</td>\n",
       "      <td>0</td>\n",
       "    </tr>\n",
       "    <tr>\n",
       "      <th>1</th>\n",
       "      <td>1</td>\n",
       "      <td>D'aww! He matches this background colour I'm s...</td>\n",
       "      <td>0</td>\n",
       "    </tr>\n",
       "    <tr>\n",
       "      <th>2</th>\n",
       "      <td>2</td>\n",
       "      <td>Hey man, I'm really not trying to edit war. It...</td>\n",
       "      <td>0</td>\n",
       "    </tr>\n",
       "    <tr>\n",
       "      <th>3</th>\n",
       "      <td>3</td>\n",
       "      <td>\"\\nMore\\nI can't make any real suggestions on ...</td>\n",
       "      <td>0</td>\n",
       "    </tr>\n",
       "    <tr>\n",
       "      <th>4</th>\n",
       "      <td>4</td>\n",
       "      <td>You, sir, are my hero. Any chance you remember...</td>\n",
       "      <td>0</td>\n",
       "    </tr>\n",
       "    <tr>\n",
       "      <th>...</th>\n",
       "      <td>...</td>\n",
       "      <td>...</td>\n",
       "      <td>...</td>\n",
       "    </tr>\n",
       "    <tr>\n",
       "      <th>159287</th>\n",
       "      <td>159446</td>\n",
       "      <td>\":::::And for the second time of asking, when ...</td>\n",
       "      <td>0</td>\n",
       "    </tr>\n",
       "    <tr>\n",
       "      <th>159288</th>\n",
       "      <td>159447</td>\n",
       "      <td>You should be ashamed of yourself \\n\\nThat is ...</td>\n",
       "      <td>0</td>\n",
       "    </tr>\n",
       "    <tr>\n",
       "      <th>159289</th>\n",
       "      <td>159448</td>\n",
       "      <td>Spitzer \\n\\nUmm, theres no actual article for ...</td>\n",
       "      <td>0</td>\n",
       "    </tr>\n",
       "    <tr>\n",
       "      <th>159290</th>\n",
       "      <td>159449</td>\n",
       "      <td>And it looks like it was actually you who put ...</td>\n",
       "      <td>0</td>\n",
       "    </tr>\n",
       "    <tr>\n",
       "      <th>159291</th>\n",
       "      <td>159450</td>\n",
       "      <td>\"\\nAnd ... I really don't think you understand...</td>\n",
       "      <td>0</td>\n",
       "    </tr>\n",
       "  </tbody>\n",
       "</table>\n",
       "<p>159292 rows × 3 columns</p>\n",
       "</div>"
      ],
      "text/plain": [
       "        Unnamed: 0                                               text  toxic\n",
       "0                0  Explanation\\nWhy the edits made under my usern...      0\n",
       "1                1  D'aww! He matches this background colour I'm s...      0\n",
       "2                2  Hey man, I'm really not trying to edit war. It...      0\n",
       "3                3  \"\\nMore\\nI can't make any real suggestions on ...      0\n",
       "4                4  You, sir, are my hero. Any chance you remember...      0\n",
       "...            ...                                                ...    ...\n",
       "159287      159446  \":::::And for the second time of asking, when ...      0\n",
       "159288      159447  You should be ashamed of yourself \\n\\nThat is ...      0\n",
       "159289      159448  Spitzer \\n\\nUmm, theres no actual article for ...      0\n",
       "159290      159449  And it looks like it was actually you who put ...      0\n",
       "159291      159450  \"\\nAnd ... I really don't think you understand...      0\n",
       "\n",
       "[159292 rows x 3 columns]"
      ]
     },
     "metadata": {},
     "output_type": "display_data"
    }
   ],
   "source": [
    "display(data.info(), data)"
   ]
  },
  {
   "cell_type": "markdown",
   "metadata": {},
   "source": [
    "<img src=\"https://emojigraph.org/media/apple/check-mark-button_2705.png\" align=left width=33, heigth=33>\n",
    "<div class=\"alert alert-success\">\n",
    "Данные загружены и есть первое знакомство.</div>"
   ]
  },
  {
   "cell_type": "markdown",
   "metadata": {},
   "source": [
    "<img src=\"https://upload.wikimedia.org/wikipedia/commons/b/ba/Warning_sign_4.0.png\" align=left width=44, heigth=33>\n",
    "<div class=\"alert alert-warning\">\n",
    "А вот оборачивать результат работы метода  .info() в функцию print() или display() это лишнее. Метод  info() и сам напечатает тебе нужную информацию. А вот через print()/display() ты выводишь только то,что данный метод возвращает - т.е. None\n",
    "</div>"
   ]
  },
  {
   "cell_type": "markdown",
   "metadata": {},
   "source": [
    "<div class=\"alert\" style=\"background-color:#ead7f7;color:#8737bf\">\n",
    "    <font size=\"3\"><b>Комментарий студента:</b></font>\n",
    "   \n",
    "Да, согласен, насколько я знаю, display или print нужен в случаях, когда необходимо вывести несколько объектов/параметров на экран\n",
    "</div>"
   ]
  },
  {
   "cell_type": "markdown",
   "metadata": {},
   "source": [
    "<img src=\"https://upload.wikimedia.org/wikipedia/commons/b/ba/Warning_sign_4.0.png\" align=left width=44, heigth=33>\n",
    "<div class=\"alert alert-warning\">\n",
    " <b>v2</b>  \n",
    "\n",
    "Обычно - да, но в случае info(), там print уже работает \"под капотом\". А вызывая принудительно display ты выводишь только строчку None    \n",
    "    \n",
    "</div>"
   ]
  },
  {
   "cell_type": "markdown",
   "metadata": {},
   "source": [
    "Итак, в нашем датафрейме 3 столбца: Unnamed, text и toxic. Что необходимо сделать дальше:\n",
    "1. Unnamed - похож на старые индексы, которые, возможно, остались после некоторых манипуляций с датафреймом. Нам он не понадобится, поэтому удалим его.\n",
    "2. text - содержит непостредственно тексты комментариев, пропусков нет. Есть лишние символы /n, попробуем их заменить на пробелы.\n",
    "3. toxic - признак токсичного комментария, также без пропусков."
   ]
  },
  {
   "cell_type": "code",
   "execution_count": 4,
   "metadata": {},
   "outputs": [],
   "source": [
    "data.drop('Unnamed: 0', axis = 1, inplace = True)"
   ]
  },
  {
   "cell_type": "markdown",
   "metadata": {},
   "source": [
    "<img src=\"https://emojigraph.org/media/apple/check-mark-button_2705.png\" align=left width=33, heigth=33>\n",
    "<div class=\"alert alert-success\">\n",
    "    \n",
    "Да, все верно, столбец `'Unnamed: 0'` можно безболезненно удалить. Это \"старый\" индекс, который похоже забыли при пересохранении датасета.</div>"
   ]
  },
  {
   "cell_type": "code",
   "execution_count": 5,
   "metadata": {},
   "outputs": [
    {
     "data": {
      "text/plain": [
       "0"
      ]
     },
     "execution_count": 5,
     "metadata": {},
     "output_type": "execute_result"
    }
   ],
   "source": [
    "data.duplicated().sum()"
   ]
  },
  {
   "cell_type": "code",
   "execution_count": 6,
   "metadata": {
    "scrolled": true
   },
   "outputs": [
    {
     "data": {
      "text/plain": [
       "0"
      ]
     },
     "execution_count": 6,
     "metadata": {},
     "output_type": "execute_result"
    }
   ],
   "source": [
    "data['text'].duplicated().sum()"
   ]
  },
  {
   "cell_type": "code",
   "execution_count": 7,
   "metadata": {},
   "outputs": [],
   "source": [
    "data['text'] = data['text'].str.replace('\\n', ' ')"
   ]
  },
  {
   "cell_type": "code",
   "execution_count": 8,
   "metadata": {},
   "outputs": [
    {
     "data": {
      "text/html": [
       "<div>\n",
       "<style scoped>\n",
       "    .dataframe tbody tr th:only-of-type {\n",
       "        vertical-align: middle;\n",
       "    }\n",
       "\n",
       "    .dataframe tbody tr th {\n",
       "        vertical-align: top;\n",
       "    }\n",
       "\n",
       "    .dataframe thead th {\n",
       "        text-align: right;\n",
       "    }\n",
       "</style>\n",
       "<table border=\"1\" class=\"dataframe\">\n",
       "  <thead>\n",
       "    <tr style=\"text-align: right;\">\n",
       "      <th></th>\n",
       "      <th>text</th>\n",
       "      <th>toxic</th>\n",
       "    </tr>\n",
       "  </thead>\n",
       "  <tbody>\n",
       "    <tr>\n",
       "      <th>0</th>\n",
       "      <td>Explanation Why the edits made under my userna...</td>\n",
       "      <td>0</td>\n",
       "    </tr>\n",
       "    <tr>\n",
       "      <th>1</th>\n",
       "      <td>D'aww! He matches this background colour I'm s...</td>\n",
       "      <td>0</td>\n",
       "    </tr>\n",
       "    <tr>\n",
       "      <th>2</th>\n",
       "      <td>Hey man, I'm really not trying to edit war. It...</td>\n",
       "      <td>0</td>\n",
       "    </tr>\n",
       "    <tr>\n",
       "      <th>3</th>\n",
       "      <td>\" More I can't make any real suggestions on im...</td>\n",
       "      <td>0</td>\n",
       "    </tr>\n",
       "    <tr>\n",
       "      <th>4</th>\n",
       "      <td>You, sir, are my hero. Any chance you remember...</td>\n",
       "      <td>0</td>\n",
       "    </tr>\n",
       "  </tbody>\n",
       "</table>\n",
       "</div>"
      ],
      "text/plain": [
       "                                                text  toxic\n",
       "0  Explanation Why the edits made under my userna...      0\n",
       "1  D'aww! He matches this background colour I'm s...      0\n",
       "2  Hey man, I'm really not trying to edit war. It...      0\n",
       "3  \" More I can't make any real suggestions on im...      0\n",
       "4  You, sir, are my hero. Any chance you remember...      0"
      ]
     },
     "execution_count": 8,
     "metadata": {},
     "output_type": "execute_result"
    }
   ],
   "source": [
    "data.head()"
   ]
  },
  {
   "cell_type": "code",
   "execution_count": 12,
   "metadata": {},
   "outputs": [],
   "source": [
    "def clean_text(text):\n",
    "    text = text.lower()\n",
    "    text = re.sub(r'<[^>]+>', '', text)  # Удаление HTML-тегов\n",
    "    text = re.sub(r'http\\S+|www\\S+|https\\S+', '', text, flags=re.MULTILINE)  # Удаление ссылок\n",
    "    text = re.sub(r'\\d+', '', text)  # Удаление чисел\n",
    "    text = re.sub(r'[^a-zA-Z0-9\\s.,\\-:;\\']', '', text)  # Удаление всех символов, кроме букв, цифр и пробелов\n",
    "    text = text.strip()  # Удаление пробелов в начале и конце строки\n",
    "    return text"
   ]
  },
  {
   "cell_type": "markdown",
   "metadata": {},
   "source": [
    "<img src=\"https://emojigraph.org/media/apple/check-mark-button_2705.png\" align=left width=33, heigth=33>\n",
    "<div class=\"alert alert-success\">\n",
    "Учитывая что ты делаеш ьпредобрабтку для BERT я бы оставил еще знаки препинания, т.к. эта модель обучалась на оригинальных \"сырых\" текстах, и предобработку в данном случае есть смысл производить только для того, чтобы подчистить наши тексты от явного мусора</div>"
   ]
  },
  {
   "cell_type": "markdown",
   "metadata": {},
   "source": [
    "<div class=\"alert\" style=\"background-color:#ead7f7;color:#8737bf\">\n",
    "    <font size=\"3\"><b>Комментарий студента:</b></font>\n",
    "   \n",
    "Чуть подправил функцию, чтобы основные знаки препинания были сохранены</div>"
   ]
  },
  {
   "cell_type": "markdown",
   "metadata": {},
   "source": [
    "<img src=\"https://emojigraph.org/media/apple/check-mark-button_2705.png\" align=left width=33, heigth=33>\n",
    "<div class=\"alert alert-success\">\n",
    "    <b>v2</b> 👍 </div>"
   ]
  },
  {
   "cell_type": "code",
   "execution_count": 13,
   "metadata": {},
   "outputs": [],
   "source": [
    "data['text_cleaned'] = data['text'].apply(clean_text)"
   ]
  },
  {
   "cell_type": "code",
   "execution_count": 14,
   "metadata": {},
   "outputs": [
    {
     "data": {
      "text/html": [
       "<div>\n",
       "<style scoped>\n",
       "    .dataframe tbody tr th:only-of-type {\n",
       "        vertical-align: middle;\n",
       "    }\n",
       "\n",
       "    .dataframe tbody tr th {\n",
       "        vertical-align: top;\n",
       "    }\n",
       "\n",
       "    .dataframe thead th {\n",
       "        text-align: right;\n",
       "    }\n",
       "</style>\n",
       "<table border=\"1\" class=\"dataframe\">\n",
       "  <thead>\n",
       "    <tr style=\"text-align: right;\">\n",
       "      <th></th>\n",
       "      <th>text</th>\n",
       "      <th>toxic</th>\n",
       "      <th>text_cleaned</th>\n",
       "    </tr>\n",
       "  </thead>\n",
       "  <tbody>\n",
       "    <tr>\n",
       "      <th>0</th>\n",
       "      <td>Explanation Why the edits made under my userna...</td>\n",
       "      <td>0</td>\n",
       "      <td>explanation why the edits made under my userna...</td>\n",
       "    </tr>\n",
       "    <tr>\n",
       "      <th>1</th>\n",
       "      <td>D'aww! He matches this background colour I'm s...</td>\n",
       "      <td>0</td>\n",
       "      <td>d'aww he matches this background colour i'm se...</td>\n",
       "    </tr>\n",
       "    <tr>\n",
       "      <th>2</th>\n",
       "      <td>Hey man, I'm really not trying to edit war. It...</td>\n",
       "      <td>0</td>\n",
       "      <td>hey man, i'm really not trying to edit war. it...</td>\n",
       "    </tr>\n",
       "    <tr>\n",
       "      <th>3</th>\n",
       "      <td>\" More I can't make any real suggestions on im...</td>\n",
       "      <td>0</td>\n",
       "      <td>more i can't make any real suggestions on impr...</td>\n",
       "    </tr>\n",
       "    <tr>\n",
       "      <th>4</th>\n",
       "      <td>You, sir, are my hero. Any chance you remember...</td>\n",
       "      <td>0</td>\n",
       "      <td>you, sir, are my hero. any chance you remember...</td>\n",
       "    </tr>\n",
       "  </tbody>\n",
       "</table>\n",
       "</div>"
      ],
      "text/plain": [
       "                                                text  toxic  \\\n",
       "0  Explanation Why the edits made under my userna...      0   \n",
       "1  D'aww! He matches this background colour I'm s...      0   \n",
       "2  Hey man, I'm really not trying to edit war. It...      0   \n",
       "3  \" More I can't make any real suggestions on im...      0   \n",
       "4  You, sir, are my hero. Any chance you remember...      0   \n",
       "\n",
       "                                        text_cleaned  \n",
       "0  explanation why the edits made under my userna...  \n",
       "1  d'aww he matches this background colour i'm se...  \n",
       "2  hey man, i'm really not trying to edit war. it...  \n",
       "3  more i can't make any real suggestions on impr...  \n",
       "4  you, sir, are my hero. any chance you remember...  "
      ]
     },
     "execution_count": 14,
     "metadata": {},
     "output_type": "execute_result"
    }
   ],
   "source": [
    "data.head()"
   ]
  },
  {
   "cell_type": "markdown",
   "metadata": {},
   "source": [
    "От ненужного столбца избавились, а также провели проверку на дубликаты - не обнаружены. Кроме этого, избавились от лишних символов в колонке text_cleaned"
   ]
  },
  {
   "cell_type": "markdown",
   "metadata": {},
   "source": [
    "<img src=\"https://emojigraph.org/media/apple/check-mark-button_2705.png\" align=left width=33, heigth=33>\n",
    "<div class=\"alert alert-success\">\n",
    " 👍 </div>"
   ]
  },
  {
   "cell_type": "markdown",
   "metadata": {},
   "source": [
    "### Исследуем целевой признак"
   ]
  },
  {
   "cell_type": "code",
   "execution_count": 15,
   "metadata": {},
   "outputs": [
    {
     "data": {
      "text/html": [
       "<div>\n",
       "<style scoped>\n",
       "    .dataframe tbody tr th:only-of-type {\n",
       "        vertical-align: middle;\n",
       "    }\n",
       "\n",
       "    .dataframe tbody tr th {\n",
       "        vertical-align: top;\n",
       "    }\n",
       "\n",
       "    .dataframe thead th {\n",
       "        text-align: right;\n",
       "    }\n",
       "</style>\n",
       "<table border=\"1\" class=\"dataframe\">\n",
       "  <thead>\n",
       "    <tr style=\"text-align: right;\">\n",
       "      <th></th>\n",
       "      <th>text</th>\n",
       "      <th>text_cleaned</th>\n",
       "    </tr>\n",
       "    <tr>\n",
       "      <th>toxic</th>\n",
       "      <th></th>\n",
       "      <th></th>\n",
       "    </tr>\n",
       "  </thead>\n",
       "  <tbody>\n",
       "    <tr>\n",
       "      <th>0</th>\n",
       "      <td>143106</td>\n",
       "      <td>143106</td>\n",
       "    </tr>\n",
       "    <tr>\n",
       "      <th>1</th>\n",
       "      <td>16186</td>\n",
       "      <td>16186</td>\n",
       "    </tr>\n",
       "  </tbody>\n",
       "</table>\n",
       "</div>"
      ],
      "text/plain": [
       "         text  text_cleaned\n",
       "toxic                      \n",
       "0      143106        143106\n",
       "1       16186         16186"
      ]
     },
     "execution_count": 15,
     "metadata": {},
     "output_type": "execute_result"
    }
   ],
   "source": [
    "data.pivot_table(index = 'toxic', aggfunc = 'count')"
   ]
  },
  {
   "cell_type": "markdown",
   "metadata": {},
   "source": [
    "<img src=\"https://emojigraph.org/media/apple/check-mark-button_2705.png\" align=left width=33, heigth=33>\n",
    "<div class=\"alert alert-success\">\n",
    "Молодец, исследован баланс классов. Это важная информация для задачи классификации.</div>"
   ]
  },
  {
   "cell_type": "markdown",
   "metadata": {},
   "source": [
    "Видно явный дисбаланс классов, в соотношении примерно 1 к 9"
   ]
  },
  {
   "cell_type": "markdown",
   "metadata": {},
   "source": [
    "## Обучение"
   ]
  },
  {
   "cell_type": "markdown",
   "metadata": {},
   "source": [
    "Подготовим выборки features и target"
   ]
  },
  {
   "cell_type": "code",
   "execution_count": 17,
   "metadata": {},
   "outputs": [],
   "source": [
    "features = data['text_cleaned']\n",
    "target = data['toxic']"
   ]
  },
  {
   "cell_type": "markdown",
   "metadata": {},
   "source": [
    "### Загрузка предобученной модели и токенизация"
   ]
  },
  {
   "cell_type": "markdown",
   "metadata": {},
   "source": [
    "**Важно: весь код работы с BERT переведен в маркдаун во избежание повторных расчетов при перезапусках. Эмбеддинги были сохранены в файл и будут подгружаться вместо расчетов** "
   ]
  },
  {
   "cell_type": "code",
   "execution_count": 18,
   "metadata": {},
   "outputs": [],
   "source": [
    "device = torch.device('cuda:0' if torch.cuda.is_available() else 'cpu')"
   ]
  },
  {
   "cell_type": "code",
   "execution_count": 19,
   "metadata": {},
   "outputs": [
    {
     "data": {
      "application/vnd.jupyter.widget-view+json": {
       "model_id": "2a375bc059504ac39d19b04845bc81e9",
       "version_major": 2,
       "version_minor": 0
      },
      "text/plain": [
       "tokenizer_config.json:   0%|          | 0.00/174 [00:00<?, ?B/s]"
      ]
     },
     "metadata": {},
     "output_type": "display_data"
    },
    {
     "name": "stderr",
     "output_type": "stream",
     "text": [
      "c:\\Users\\isara\\AppData\\Local\\Programs\\Python\\Python311\\Lib\\site-packages\\huggingface_hub\\file_download.py:157: UserWarning: `huggingface_hub` cache-system uses symlinks by default to efficiently store duplicated files but your machine does not support them in C:\\Users\\isara\\.cache\\huggingface\\hub\\models--unitary--toxic-bert. Caching files will still work but in a degraded version that might require more space on your disk. This warning can be disabled by setting the `HF_HUB_DISABLE_SYMLINKS_WARNING` environment variable. For more details, see https://huggingface.co/docs/huggingface_hub/how-to-cache#limitations.\n",
      "To support symlinks on Windows, you either need to activate Developer Mode or to run Python as an administrator. In order to see activate developer mode, see this article: https://docs.microsoft.com/en-us/windows/apps/get-started/enable-your-device-for-development\n",
      "  warnings.warn(message)\n"
     ]
    },
    {
     "data": {
      "application/vnd.jupyter.widget-view+json": {
       "model_id": "006d189ca46645a3b7c8cf091bdc35e1",
       "version_major": 2,
       "version_minor": 0
      },
      "text/plain": [
       "vocab.txt:   0%|          | 0.00/232k [00:00<?, ?B/s]"
      ]
     },
     "metadata": {},
     "output_type": "display_data"
    },
    {
     "data": {
      "application/vnd.jupyter.widget-view+json": {
       "model_id": "f7dcc5453b6d47e8b692c620932a5124",
       "version_major": 2,
       "version_minor": 0
      },
      "text/plain": [
       "special_tokens_map.json:   0%|          | 0.00/112 [00:00<?, ?B/s]"
      ]
     },
     "metadata": {},
     "output_type": "display_data"
    },
    {
     "data": {
      "application/vnd.jupyter.widget-view+json": {
       "model_id": "a5b68ace75fa4ff69f8747e6a4f2b0de",
       "version_major": 2,
       "version_minor": 0
      },
      "text/plain": [
       "config.json:   0%|          | 0.00/811 [00:00<?, ?B/s]"
      ]
     },
     "metadata": {},
     "output_type": "display_data"
    },
    {
     "data": {
      "application/vnd.jupyter.widget-view+json": {
       "model_id": "6e397956aa644e90a40e900635b5e8b1",
       "version_major": 2,
       "version_minor": 0
      },
      "text/plain": [
       "model.safetensors:   0%|          | 0.00/438M [00:00<?, ?B/s]"
      ]
     },
     "metadata": {},
     "output_type": "display_data"
    }
   ],
   "source": [
    "tokenizer = BertTokenizer.from_pretrained('unitary/toxic-bert')\n",
    "model = BertModel.from_pretrained('unitary/toxic-bert').to(device)"
   ]
  },
  {
   "cell_type": "code",
   "execution_count": 20,
   "metadata": {},
   "outputs": [],
   "source": [
    "tokenized = features.apply(\n",
    "    lambda x: tokenizer.encode(x, add_special_tokens=True, truncation = True))\n",
    "\n",
    "max_len = 0\n",
    "for i in tokenized.values:\n",
    "    if len(i) > max_len:\n",
    "        max_len = len(i)\n",
    "\n",
    "padded = np.array([i + [0]*(max_len - len(i)) for i in tokenized.values])\n",
    "\n",
    "attention_mask = np.where(padded != 0, 1, 0)"
   ]
  },
  {
   "cell_type": "markdown",
   "metadata": {},
   "source": [
    "<img src=\"https://emojigraph.org/media/apple/check-mark-button_2705.png\" align=left width=33, heigth=33>\n",
    "<div class=\"alert alert-success\">\n",
    " 👍 </div>"
   ]
  },
  {
   "cell_type": "markdown",
   "metadata": {},
   "source": [
    "### Создание эмбеддингов"
   ]
  },
  {
   "cell_type": "code",
   "execution_count": 21,
   "metadata": {},
   "outputs": [
    {
     "data": {
      "application/vnd.jupyter.widget-view+json": {
       "model_id": "8c42d40b48e24a29a10055a5a9b3b88d",
       "version_major": 2,
       "version_minor": 0
      },
      "text/plain": [
       "  0%|          | 0/1593 [00:00<?, ?it/s]"
      ]
     },
     "metadata": {},
     "output_type": "display_data"
    },
    {
     "name": "stderr",
     "output_type": "stream",
     "text": [
      "c:\\Users\\isara\\AppData\\Local\\Programs\\Python\\Python311\\Lib\\site-packages\\transformers\\models\\bert\\modeling_bert.py:439: UserWarning: 1Torch was not compiled with flash attention. (Triggered internally at ..\\aten\\src\\ATen\\native\\transformers\\cuda\\sdp_utils.cpp:455.)\n",
      "  attn_output = torch.nn.functional.scaled_dot_product_attention(\n"
     ]
    }
   ],
   "source": [
    "batch_size = 100\n",
    "embeddings = [] \n",
    "for i in notebook.tqdm(range((padded.shape[0] // batch_size)+1)):\n",
    "    batch = torch.LongTensor(padded[batch_size * i:batch_size * (i+1)]).to(device)\n",
    "    attention_mask_batch = torch.LongTensor(attention_mask[batch_size * i:batch_size * (i+1)]).to(device)\n",
    "\n",
    "    with torch.no_grad():\n",
    "        batch_embeddings = model(batch, attention_mask = attention_mask_batch)\n",
    "    \n",
    "    embeddings.append(batch_embeddings[0][:,0,:].cpu().numpy())"
   ]
  },
  {
   "cell_type": "markdown",
   "metadata": {
    "scrolled": true
   },
   "source": [
    "Эмбеддинги созданы, объединим их в 1 массив, а также на всякий случай сохраним в файл."
   ]
  },
  {
   "cell_type": "markdown",
   "metadata": {},
   "source": [
    "<img src=\"https://upload.wikimedia.org/wikipedia/commons/b/ba/Warning_sign_4.0.png\" align=left width=44, heigth=33>\n",
    "<div class=\"alert alert-warning\">\n",
    "Чтобы код стабильно работал и на компьюетрах с GPU и без лучше использовать .to(device), а не .to('cuda') \n",
    "\n",
    "</div>"
   ]
  },
  {
   "cell_type": "markdown",
   "metadata": {},
   "source": [
    "<div class=\"alert\" style=\"background-color:#ead7f7;color:#8737bf\">\n",
    "    <font size=\"3\"><b>Комментарий студента:</b></font>\n",
    "   \n",
    "Поправил. Перенос расчетов на GPU был для меня настоящей победой с долгой битвой, поэтому просочились всякие странности)</div>"
   ]
  },
  {
   "cell_type": "markdown",
   "metadata": {},
   "source": [
    "<img src=\"https://emojigraph.org/media/apple/check-mark-button_2705.png\" align=left width=33, heigth=33>\n",
    "<div class=\"alert alert-success\">\n",
    " <b>v2</b> да, это действительно не просто, зато как  прокачивает \"инженерную интуицию\" ))).\n",
    "\n",
    "    \n",
    "</div>"
   ]
  },
  {
   "cell_type": "code",
   "execution_count": 22,
   "metadata": {},
   "outputs": [],
   "source": [
    "features_emb = np.concatenate(embeddings)\n",
    "np.savetxt(\"features_emb_bert_toxic.csv\", features_emb, delimiter = ',')"
   ]
  },
  {
   "cell_type": "markdown",
   "metadata": {},
   "source": [
    "Итого, для создания батчей потребовалось почти 4 часа, сохраним результат в файл, чтобы при перезапуске кода не создавать батчи по новой\n",
    "\n",
    "**UPD - 4 часа уходило на расчет только части датасета, с подключением GPU на полные модели BERT стало уходить ~45 минут на весь датасет. Но в файлик все равно сохраняю результат - импорт все же занимает менее минуты**"
   ]
  },
  {
   "cell_type": "markdown",
   "metadata": {},
   "source": [
    "<img src=\"https://emojigraph.org/media/apple/check-mark-button_2705.png\" align=left width=33, heigth=33>\n",
    "<div class=\"alert alert-success\">\n",
    " 👍 </div>"
   ]
  },
  {
   "cell_type": "markdown",
   "metadata": {},
   "source": [
    "### Обучим и протестируем несколько моделей"
   ]
  },
  {
   "cell_type": "markdown",
   "metadata": {},
   "source": [
    "Используем признаки от bert, импорт признаков актуален при перезапуске проекта"
   ]
  },
  {
   "cell_type": "markdown",
   "metadata": {},
   "source": [
    "features_emb = pd.read_csv('features_emb_clear_bert.csv', header=None)\n",
    "features_emb.head()"
   ]
  },
  {
   "cell_type": "markdown",
   "metadata": {},
   "source": [
    "Для начала подготовим обучающую и тестовую выборки"
   ]
  },
  {
   "cell_type": "code",
   "execution_count": 24,
   "metadata": {},
   "outputs": [
    {
     "data": {
      "text/plain": [
       "(127433, 768)"
      ]
     },
     "metadata": {},
     "output_type": "display_data"
    },
    {
     "data": {
      "text/plain": [
       "(31859, 768)"
      ]
     },
     "metadata": {},
     "output_type": "display_data"
    },
    {
     "data": {
      "text/plain": [
       "(127433,)"
      ]
     },
     "metadata": {},
     "output_type": "display_data"
    },
    {
     "data": {
      "text/plain": [
       "(31859,)"
      ]
     },
     "metadata": {},
     "output_type": "display_data"
    }
   ],
   "source": [
    "features_train, features_test, target_train, target_test = train_test_split(\n",
    "    features_emb, target.values, test_size = .20, random_state = 12345)\n",
    "display(features_train.shape, features_test.shape, target_train.shape, target_test.shape)\n"
   ]
  },
  {
   "cell_type": "markdown",
   "metadata": {},
   "source": [
    "**Важно - прошлый код я перевел в маркдаун, т.к. решил структурировать побор моделей немного иначе. Новый расчет после старого кода.**"
   ]
  },
  {
   "cell_type": "markdown",
   "metadata": {},
   "source": [
    "**Логистическая регрессия**"
   ]
  },
  {
   "cell_type": "markdown",
   "metadata": {},
   "source": [
    "f1_scorer = make_scorer(f1_score)\n",
    "state = RandomState(12345)\n",
    "\n",
    "model_logreg = LogisticRegression()\n",
    "log_param_grid = {\n",
    "    'C': [0.1, 1, 5, 10],\n",
    "    'max_iter': [50, 100, 300, 500, 1000],\n",
    "    'solver': ['liblinear'],\n",
    "    'random_state': [state]}\n",
    "\n",
    "model_log_grid = GridSearchCV(model_logreg, log_param_grid, scoring = 'f1_macro')\n",
    "model_log_grid.fit(features_train, target_train)\n",
    "\n",
    "print(f'Best Parameters for Logistic Regression: {model_log_grid.best_params_}')\n",
    "print(f'Best CV F1 Score for Logistic Regression: {model_log_grid.best_score_}')"
   ]
  },
  {
   "cell_type": "markdown",
   "metadata": {},
   "source": [
    "<img src=\"https://upload.wikimedia.org/wikipedia/commons/thumb/8/81/Stop_sign.png/240px-Stop_sign.png\" align=left width=35, heigth=35>\n",
    "<div class=\"alert alert-danger\">\n",
    "Метрика 'f1_macro' - это метрика для многоклассовой классификации, а мы  решаем задачу обычной бинарной классификации, поэтому пожалуйста используй обычную метрику f1</div>"
   ]
  },
  {
   "cell_type": "markdown",
   "metadata": {},
   "source": [
    "<img src=\"https://upload.wikimedia.org/wikipedia/commons/thumb/8/81/Stop_sign.png/240px-Stop_sign.png\" align=left width=35, heigth=35>\n",
    "<div class=\"alert alert-danger\"> \n",
    "Не стоит раньше времени подглядывать в тестовую выборку. Вначале обучим все модели и выберем лучшую по оценкам на крос-валидации и только потом протестируем лучшую модель.</div>"
   ]
  },
  {
   "cell_type": "markdown",
   "metadata": {},
   "source": [
    "<img src=\"https://upload.wikimedia.org/wikipedia/commons/thumb/8/81/Stop_sign.png/240px-Stop_sign.png\" align=left width=35, heigth=35>\n",
    "<div class=\"alert alert-danger\"> \n",
    " Я не буду дублировать предыдущие два красных комментария, но пожалуйста исправь их везде ниже..</div>"
   ]
  },
  {
   "cell_type": "markdown",
   "metadata": {},
   "source": [
    "<div class=\"alert\" style=\"background-color:#ead7f7;color:#8737bf\">\n",
    "    <font size=\"3\"><b>Комментарий студента:</b></font>\n",
    "   \n",
    "Поправил везде. Выбор лучшей модели, а также ее тестирование в конце проекта\n",
    "</div>"
   ]
  },
  {
   "cell_type": "markdown",
   "metadata": {},
   "source": [
    "<img src=\"https://emojigraph.org/media/apple/check-mark-button_2705.png\" align=left width=33, heigth=33>\n",
    "<div class=\"alert alert-success\">\n",
    "    <b>v2</b> 👍 </div>"
   ]
  },
  {
   "cell_type": "markdown",
   "metadata": {},
   "source": [
    "**Catboost:**"
   ]
  },
  {
   "cell_type": "markdown",
   "metadata": {},
   "source": [
    "model_catboost = CatBoostClassifier()\n",
    "catboost_param_grid = {\n",
    "    'iterations': [500, 1000],\n",
    "    'learning_rate': [0.05, 0.1, 0.3, 0.5],\n",
    "    'verbose': [False]\n",
    "}\n",
    "\n",
    "model_cb_grid = GridSearchCV(model_catboost, catboost_param_grid, scoring = 'f1_macro')\n",
    "model_cb_grid.fit(features_train, target_train)\n",
    "\n",
    "print(f'Best Parameters for CatBoost: {model_cb_grid.best_params_}')\n",
    "print(f'Best CV F1 Score for CatBoost: {model_cb_grid.best_score_}')"
   ]
  },
  {
   "cell_type": "markdown",
   "metadata": {},
   "source": [
    "**LightGBM:**"
   ]
  },
  {
   "cell_type": "markdown",
   "metadata": {},
   "source": [
    "model_lgbm = LGBMClassifier()\n",
    "lgbm_param_grid = {\n",
    "    'num_leaves': [50, 70, 100], \n",
    "    'learning_rate': [0.01, 0.1, 0.3, 0.5], \n",
    "    'random_state': [state],\n",
    "    'verbose': [-1]\n",
    "    }\n",
    "\n",
    "model_lgbm_grid = GridSearchCV(model_lgbm, lgbm_param_grid, scoring = 'f1_macro')\n",
    "model_lgbm_grid.fit(features_train, target_train)\n",
    "\n",
    "print(f'Best Parameters for LGBM: {model_lgbm_grid.best_params_}')\n",
    "print(f'Best CV F1 Score for LGBM: {model_lgbm_grid.best_score_}')\n"
   ]
  },
  {
   "cell_type": "markdown",
   "metadata": {},
   "source": [
    "<img src=\"https://upload.wikimedia.org/wikipedia/commons/thumb/8/81/Stop_sign.png/240px-Stop_sign.png\" align=left width=35, heigth=35>\n",
    "<div class=\"alert alert-danger\"> \n",
    "И вот только сейчас, когда ты исследовал все модели нужно выбрать одну, самую лучшую, используя оценки полученные с помощью кросс-валидации и эту модель протестировать..</div>"
   ]
  },
  {
   "cell_type": "markdown",
   "metadata": {},
   "source": [
    "### Попробую немного иной подход в подборе моделей (старый код выше в маркдауне):"
   ]
  },
  {
   "cell_type": "code",
   "execution_count": 26,
   "metadata": {},
   "outputs": [],
   "source": [
    "\n",
    "f1_scorer = make_scorer(f1_score)\n",
    "state = RandomState(12345)\n",
    "\n",
    "\n",
    "models = [\n",
    "    {\n",
    "        'model': LogisticRegression(),\n",
    "        'params': {\n",
    "            'C': [0.1, 1, 5, 10],\n",
    "            'max_iter': [300, 500, 1000],\n",
    "            'solver': ['liblinear'],\n",
    "            'random_state': [state]\n",
    "        }\n",
    "    },\n",
    "    {\n",
    "        'model': CatBoostClassifier(),\n",
    "        'params': {\n",
    "            'iterations': [500, 1000],\n",
    "            'learning_rate': [0.05, 0.1, 0.3, 0.5],\n",
    "            'verbose': [False]\n",
    "        }\n",
    "    },\n",
    "    {\n",
    "        'model': LGBMClassifier(),\n",
    "        'params': {\n",
    "            'num_leaves': [50, 70, 100], \n",
    "            'learning_rate': [0.01, 0.1, 0.3, 0.5], \n",
    "            'random_state': [state],\n",
    "            'verbose': [-1]\n",
    "        }\n",
    "    }\n",
    "    \n",
    "\n",
    "]"
   ]
  },
  {
   "cell_type": "code",
   "execution_count": 33,
   "metadata": {},
   "outputs": [
    {
     "name": "stdout",
     "output_type": "stream",
     "text": [
      "Модель: LogisticRegression\n",
      "Лучшие параметры: {'C': 0.1, 'max_iter': 300, 'random_state': RandomState(MT19937) at 0x19C71867E40, 'solver': 'liblinear'}\n",
      "Средний F1 на обучающей выборке: 0.9366401670139911\n",
      "Средний F1 на валидационной выборке: 0.930258820705814\n",
      "------------------------------\n",
      "Модель: CatBoostClassifier\n",
      "Лучшие параметры: {'iterations': 1000, 'learning_rate': 0.05, 'verbose': False}\n",
      "Средний F1 на обучающей выборке: 0.9868495068477792\n",
      "Средний F1 на валидационной выборке: 0.9298056465306754\n",
      "------------------------------\n",
      "Модель: LGBMClassifier\n",
      "Лучшие параметры: {'learning_rate': 0.1, 'num_leaves': 70, 'random_state': RandomState(MT19937) at 0x19C71867E40, 'verbose': -1}\n",
      "Средний F1 на обучающей выборке: 0.9995271550816754\n",
      "Средний F1 на валидационной выборке: 0.9290320615426768\n",
      "------------------------------\n"
     ]
    }
   ],
   "source": [
    "for m in models:\n",
    "    grid_search = GridSearchCV(estimator = m['model'], param_grid = m['params'], scoring = f1_scorer)\n",
    "    grid_search.fit(features_train, target_train)\n",
    "    best_model = grid_search.best_estimator_\n",
    "\n",
    "    scores = cross_validate(best_model, features_train, target_train, scoring=f1_scorer, cv=5, return_train_score=True)\n",
    "    \n",
    "    print(f\"Модель: {m['model'].__class__.__name__}\")\n",
    "    print(f\"Лучшие параметры: {grid_search.best_params_}\")\n",
    "    print(f\"Средний F1 на обучающей выборке: {np.mean(scores['train_score'])}\")\n",
    "    print(f\"Средний F1 на валидационной выборке: {np.mean(scores['test_score'])}\")\n",
    "    print(\"-\" * 30)"
   ]
  },
  {
   "cell_type": "code",
   "execution_count": 34,
   "metadata": {},
   "outputs": [
    {
     "data": {
      "text/html": [
       "<style>#sk-container-id-2 {\n",
       "  /* Definition of color scheme common for light and dark mode */\n",
       "  --sklearn-color-text: black;\n",
       "  --sklearn-color-line: gray;\n",
       "  /* Definition of color scheme for unfitted estimators */\n",
       "  --sklearn-color-unfitted-level-0: #fff5e6;\n",
       "  --sklearn-color-unfitted-level-1: #f6e4d2;\n",
       "  --sklearn-color-unfitted-level-2: #ffe0b3;\n",
       "  --sklearn-color-unfitted-level-3: chocolate;\n",
       "  /* Definition of color scheme for fitted estimators */\n",
       "  --sklearn-color-fitted-level-0: #f0f8ff;\n",
       "  --sklearn-color-fitted-level-1: #d4ebff;\n",
       "  --sklearn-color-fitted-level-2: #b3dbfd;\n",
       "  --sklearn-color-fitted-level-3: cornflowerblue;\n",
       "\n",
       "  /* Specific color for light theme */\n",
       "  --sklearn-color-text-on-default-background: var(--sg-text-color, var(--theme-code-foreground, var(--jp-content-font-color1, black)));\n",
       "  --sklearn-color-background: var(--sg-background-color, var(--theme-background, var(--jp-layout-color0, white)));\n",
       "  --sklearn-color-border-box: var(--sg-text-color, var(--theme-code-foreground, var(--jp-content-font-color1, black)));\n",
       "  --sklearn-color-icon: #696969;\n",
       "\n",
       "  @media (prefers-color-scheme: dark) {\n",
       "    /* Redefinition of color scheme for dark theme */\n",
       "    --sklearn-color-text-on-default-background: var(--sg-text-color, var(--theme-code-foreground, var(--jp-content-font-color1, white)));\n",
       "    --sklearn-color-background: var(--sg-background-color, var(--theme-background, var(--jp-layout-color0, #111)));\n",
       "    --sklearn-color-border-box: var(--sg-text-color, var(--theme-code-foreground, var(--jp-content-font-color1, white)));\n",
       "    --sklearn-color-icon: #878787;\n",
       "  }\n",
       "}\n",
       "\n",
       "#sk-container-id-2 {\n",
       "  color: var(--sklearn-color-text);\n",
       "}\n",
       "\n",
       "#sk-container-id-2 pre {\n",
       "  padding: 0;\n",
       "}\n",
       "\n",
       "#sk-container-id-2 input.sk-hidden--visually {\n",
       "  border: 0;\n",
       "  clip: rect(1px 1px 1px 1px);\n",
       "  clip: rect(1px, 1px, 1px, 1px);\n",
       "  height: 1px;\n",
       "  margin: -1px;\n",
       "  overflow: hidden;\n",
       "  padding: 0;\n",
       "  position: absolute;\n",
       "  width: 1px;\n",
       "}\n",
       "\n",
       "#sk-container-id-2 div.sk-dashed-wrapped {\n",
       "  border: 1px dashed var(--sklearn-color-line);\n",
       "  margin: 0 0.4em 0.5em 0.4em;\n",
       "  box-sizing: border-box;\n",
       "  padding-bottom: 0.4em;\n",
       "  background-color: var(--sklearn-color-background);\n",
       "}\n",
       "\n",
       "#sk-container-id-2 div.sk-container {\n",
       "  /* jupyter's `normalize.less` sets `[hidden] { display: none; }`\n",
       "     but bootstrap.min.css set `[hidden] { display: none !important; }`\n",
       "     so we also need the `!important` here to be able to override the\n",
       "     default hidden behavior on the sphinx rendered scikit-learn.org.\n",
       "     See: https://github.com/scikit-learn/scikit-learn/issues/21755 */\n",
       "  display: inline-block !important;\n",
       "  position: relative;\n",
       "}\n",
       "\n",
       "#sk-container-id-2 div.sk-text-repr-fallback {\n",
       "  display: none;\n",
       "}\n",
       "\n",
       "div.sk-parallel-item,\n",
       "div.sk-serial,\n",
       "div.sk-item {\n",
       "  /* draw centered vertical line to link estimators */\n",
       "  background-image: linear-gradient(var(--sklearn-color-text-on-default-background), var(--sklearn-color-text-on-default-background));\n",
       "  background-size: 2px 100%;\n",
       "  background-repeat: no-repeat;\n",
       "  background-position: center center;\n",
       "}\n",
       "\n",
       "/* Parallel-specific style estimator block */\n",
       "\n",
       "#sk-container-id-2 div.sk-parallel-item::after {\n",
       "  content: \"\";\n",
       "  width: 100%;\n",
       "  border-bottom: 2px solid var(--sklearn-color-text-on-default-background);\n",
       "  flex-grow: 1;\n",
       "}\n",
       "\n",
       "#sk-container-id-2 div.sk-parallel {\n",
       "  display: flex;\n",
       "  align-items: stretch;\n",
       "  justify-content: center;\n",
       "  background-color: var(--sklearn-color-background);\n",
       "  position: relative;\n",
       "}\n",
       "\n",
       "#sk-container-id-2 div.sk-parallel-item {\n",
       "  display: flex;\n",
       "  flex-direction: column;\n",
       "}\n",
       "\n",
       "#sk-container-id-2 div.sk-parallel-item:first-child::after {\n",
       "  align-self: flex-end;\n",
       "  width: 50%;\n",
       "}\n",
       "\n",
       "#sk-container-id-2 div.sk-parallel-item:last-child::after {\n",
       "  align-self: flex-start;\n",
       "  width: 50%;\n",
       "}\n",
       "\n",
       "#sk-container-id-2 div.sk-parallel-item:only-child::after {\n",
       "  width: 0;\n",
       "}\n",
       "\n",
       "/* Serial-specific style estimator block */\n",
       "\n",
       "#sk-container-id-2 div.sk-serial {\n",
       "  display: flex;\n",
       "  flex-direction: column;\n",
       "  align-items: center;\n",
       "  background-color: var(--sklearn-color-background);\n",
       "  padding-right: 1em;\n",
       "  padding-left: 1em;\n",
       "}\n",
       "\n",
       "\n",
       "/* Toggleable style: style used for estimator/Pipeline/ColumnTransformer box that is\n",
       "clickable and can be expanded/collapsed.\n",
       "- Pipeline and ColumnTransformer use this feature and define the default style\n",
       "- Estimators will overwrite some part of the style using the `sk-estimator` class\n",
       "*/\n",
       "\n",
       "/* Pipeline and ColumnTransformer style (default) */\n",
       "\n",
       "#sk-container-id-2 div.sk-toggleable {\n",
       "  /* Default theme specific background. It is overwritten whether we have a\n",
       "  specific estimator or a Pipeline/ColumnTransformer */\n",
       "  background-color: var(--sklearn-color-background);\n",
       "}\n",
       "\n",
       "/* Toggleable label */\n",
       "#sk-container-id-2 label.sk-toggleable__label {\n",
       "  cursor: pointer;\n",
       "  display: block;\n",
       "  width: 100%;\n",
       "  margin-bottom: 0;\n",
       "  padding: 0.5em;\n",
       "  box-sizing: border-box;\n",
       "  text-align: center;\n",
       "}\n",
       "\n",
       "#sk-container-id-2 label.sk-toggleable__label-arrow:before {\n",
       "  /* Arrow on the left of the label */\n",
       "  content: \"▸\";\n",
       "  float: left;\n",
       "  margin-right: 0.25em;\n",
       "  color: var(--sklearn-color-icon);\n",
       "}\n",
       "\n",
       "#sk-container-id-2 label.sk-toggleable__label-arrow:hover:before {\n",
       "  color: var(--sklearn-color-text);\n",
       "}\n",
       "\n",
       "/* Toggleable content - dropdown */\n",
       "\n",
       "#sk-container-id-2 div.sk-toggleable__content {\n",
       "  max-height: 0;\n",
       "  max-width: 0;\n",
       "  overflow: hidden;\n",
       "  text-align: left;\n",
       "  /* unfitted */\n",
       "  background-color: var(--sklearn-color-unfitted-level-0);\n",
       "}\n",
       "\n",
       "#sk-container-id-2 div.sk-toggleable__content.fitted {\n",
       "  /* fitted */\n",
       "  background-color: var(--sklearn-color-fitted-level-0);\n",
       "}\n",
       "\n",
       "#sk-container-id-2 div.sk-toggleable__content pre {\n",
       "  margin: 0.2em;\n",
       "  border-radius: 0.25em;\n",
       "  color: var(--sklearn-color-text);\n",
       "  /* unfitted */\n",
       "  background-color: var(--sklearn-color-unfitted-level-0);\n",
       "}\n",
       "\n",
       "#sk-container-id-2 div.sk-toggleable__content.fitted pre {\n",
       "  /* unfitted */\n",
       "  background-color: var(--sklearn-color-fitted-level-0);\n",
       "}\n",
       "\n",
       "#sk-container-id-2 input.sk-toggleable__control:checked~div.sk-toggleable__content {\n",
       "  /* Expand drop-down */\n",
       "  max-height: 200px;\n",
       "  max-width: 100%;\n",
       "  overflow: auto;\n",
       "}\n",
       "\n",
       "#sk-container-id-2 input.sk-toggleable__control:checked~label.sk-toggleable__label-arrow:before {\n",
       "  content: \"▾\";\n",
       "}\n",
       "\n",
       "/* Pipeline/ColumnTransformer-specific style */\n",
       "\n",
       "#sk-container-id-2 div.sk-label input.sk-toggleable__control:checked~label.sk-toggleable__label {\n",
       "  color: var(--sklearn-color-text);\n",
       "  background-color: var(--sklearn-color-unfitted-level-2);\n",
       "}\n",
       "\n",
       "#sk-container-id-2 div.sk-label.fitted input.sk-toggleable__control:checked~label.sk-toggleable__label {\n",
       "  background-color: var(--sklearn-color-fitted-level-2);\n",
       "}\n",
       "\n",
       "/* Estimator-specific style */\n",
       "\n",
       "/* Colorize estimator box */\n",
       "#sk-container-id-2 div.sk-estimator input.sk-toggleable__control:checked~label.sk-toggleable__label {\n",
       "  /* unfitted */\n",
       "  background-color: var(--sklearn-color-unfitted-level-2);\n",
       "}\n",
       "\n",
       "#sk-container-id-2 div.sk-estimator.fitted input.sk-toggleable__control:checked~label.sk-toggleable__label {\n",
       "  /* fitted */\n",
       "  background-color: var(--sklearn-color-fitted-level-2);\n",
       "}\n",
       "\n",
       "#sk-container-id-2 div.sk-label label.sk-toggleable__label,\n",
       "#sk-container-id-2 div.sk-label label {\n",
       "  /* The background is the default theme color */\n",
       "  color: var(--sklearn-color-text-on-default-background);\n",
       "}\n",
       "\n",
       "/* On hover, darken the color of the background */\n",
       "#sk-container-id-2 div.sk-label:hover label.sk-toggleable__label {\n",
       "  color: var(--sklearn-color-text);\n",
       "  background-color: var(--sklearn-color-unfitted-level-2);\n",
       "}\n",
       "\n",
       "/* Label box, darken color on hover, fitted */\n",
       "#sk-container-id-2 div.sk-label.fitted:hover label.sk-toggleable__label.fitted {\n",
       "  color: var(--sklearn-color-text);\n",
       "  background-color: var(--sklearn-color-fitted-level-2);\n",
       "}\n",
       "\n",
       "/* Estimator label */\n",
       "\n",
       "#sk-container-id-2 div.sk-label label {\n",
       "  font-family: monospace;\n",
       "  font-weight: bold;\n",
       "  display: inline-block;\n",
       "  line-height: 1.2em;\n",
       "}\n",
       "\n",
       "#sk-container-id-2 div.sk-label-container {\n",
       "  text-align: center;\n",
       "}\n",
       "\n",
       "/* Estimator-specific */\n",
       "#sk-container-id-2 div.sk-estimator {\n",
       "  font-family: monospace;\n",
       "  border: 1px dotted var(--sklearn-color-border-box);\n",
       "  border-radius: 0.25em;\n",
       "  box-sizing: border-box;\n",
       "  margin-bottom: 0.5em;\n",
       "  /* unfitted */\n",
       "  background-color: var(--sklearn-color-unfitted-level-0);\n",
       "}\n",
       "\n",
       "#sk-container-id-2 div.sk-estimator.fitted {\n",
       "  /* fitted */\n",
       "  background-color: var(--sklearn-color-fitted-level-0);\n",
       "}\n",
       "\n",
       "/* on hover */\n",
       "#sk-container-id-2 div.sk-estimator:hover {\n",
       "  /* unfitted */\n",
       "  background-color: var(--sklearn-color-unfitted-level-2);\n",
       "}\n",
       "\n",
       "#sk-container-id-2 div.sk-estimator.fitted:hover {\n",
       "  /* fitted */\n",
       "  background-color: var(--sklearn-color-fitted-level-2);\n",
       "}\n",
       "\n",
       "/* Specification for estimator info (e.g. \"i\" and \"?\") */\n",
       "\n",
       "/* Common style for \"i\" and \"?\" */\n",
       "\n",
       ".sk-estimator-doc-link,\n",
       "a:link.sk-estimator-doc-link,\n",
       "a:visited.sk-estimator-doc-link {\n",
       "  float: right;\n",
       "  font-size: smaller;\n",
       "  line-height: 1em;\n",
       "  font-family: monospace;\n",
       "  background-color: var(--sklearn-color-background);\n",
       "  border-radius: 1em;\n",
       "  height: 1em;\n",
       "  width: 1em;\n",
       "  text-decoration: none !important;\n",
       "  margin-left: 1ex;\n",
       "  /* unfitted */\n",
       "  border: var(--sklearn-color-unfitted-level-1) 1pt solid;\n",
       "  color: var(--sklearn-color-unfitted-level-1);\n",
       "}\n",
       "\n",
       ".sk-estimator-doc-link.fitted,\n",
       "a:link.sk-estimator-doc-link.fitted,\n",
       "a:visited.sk-estimator-doc-link.fitted {\n",
       "  /* fitted */\n",
       "  border: var(--sklearn-color-fitted-level-1) 1pt solid;\n",
       "  color: var(--sklearn-color-fitted-level-1);\n",
       "}\n",
       "\n",
       "/* On hover */\n",
       "div.sk-estimator:hover .sk-estimator-doc-link:hover,\n",
       ".sk-estimator-doc-link:hover,\n",
       "div.sk-label-container:hover .sk-estimator-doc-link:hover,\n",
       ".sk-estimator-doc-link:hover {\n",
       "  /* unfitted */\n",
       "  background-color: var(--sklearn-color-unfitted-level-3);\n",
       "  color: var(--sklearn-color-background);\n",
       "  text-decoration: none;\n",
       "}\n",
       "\n",
       "div.sk-estimator.fitted:hover .sk-estimator-doc-link.fitted:hover,\n",
       ".sk-estimator-doc-link.fitted:hover,\n",
       "div.sk-label-container:hover .sk-estimator-doc-link.fitted:hover,\n",
       ".sk-estimator-doc-link.fitted:hover {\n",
       "  /* fitted */\n",
       "  background-color: var(--sklearn-color-fitted-level-3);\n",
       "  color: var(--sklearn-color-background);\n",
       "  text-decoration: none;\n",
       "}\n",
       "\n",
       "/* Span, style for the box shown on hovering the info icon */\n",
       ".sk-estimator-doc-link span {\n",
       "  display: none;\n",
       "  z-index: 9999;\n",
       "  position: relative;\n",
       "  font-weight: normal;\n",
       "  right: .2ex;\n",
       "  padding: .5ex;\n",
       "  margin: .5ex;\n",
       "  width: min-content;\n",
       "  min-width: 20ex;\n",
       "  max-width: 50ex;\n",
       "  color: var(--sklearn-color-text);\n",
       "  box-shadow: 2pt 2pt 4pt #999;\n",
       "  /* unfitted */\n",
       "  background: var(--sklearn-color-unfitted-level-0);\n",
       "  border: .5pt solid var(--sklearn-color-unfitted-level-3);\n",
       "}\n",
       "\n",
       ".sk-estimator-doc-link.fitted span {\n",
       "  /* fitted */\n",
       "  background: var(--sklearn-color-fitted-level-0);\n",
       "  border: var(--sklearn-color-fitted-level-3);\n",
       "}\n",
       "\n",
       ".sk-estimator-doc-link:hover span {\n",
       "  display: block;\n",
       "}\n",
       "\n",
       "/* \"?\"-specific style due to the `<a>` HTML tag */\n",
       "\n",
       "#sk-container-id-2 a.estimator_doc_link {\n",
       "  float: right;\n",
       "  font-size: 1rem;\n",
       "  line-height: 1em;\n",
       "  font-family: monospace;\n",
       "  background-color: var(--sklearn-color-background);\n",
       "  border-radius: 1rem;\n",
       "  height: 1rem;\n",
       "  width: 1rem;\n",
       "  text-decoration: none;\n",
       "  /* unfitted */\n",
       "  color: var(--sklearn-color-unfitted-level-1);\n",
       "  border: var(--sklearn-color-unfitted-level-1) 1pt solid;\n",
       "}\n",
       "\n",
       "#sk-container-id-2 a.estimator_doc_link.fitted {\n",
       "  /* fitted */\n",
       "  border: var(--sklearn-color-fitted-level-1) 1pt solid;\n",
       "  color: var(--sklearn-color-fitted-level-1);\n",
       "}\n",
       "\n",
       "/* On hover */\n",
       "#sk-container-id-2 a.estimator_doc_link:hover {\n",
       "  /* unfitted */\n",
       "  background-color: var(--sklearn-color-unfitted-level-3);\n",
       "  color: var(--sklearn-color-background);\n",
       "  text-decoration: none;\n",
       "}\n",
       "\n",
       "#sk-container-id-2 a.estimator_doc_link.fitted:hover {\n",
       "  /* fitted */\n",
       "  background-color: var(--sklearn-color-fitted-level-3);\n",
       "}\n",
       "</style><div id=\"sk-container-id-2\" class=\"sk-top-container\"><div class=\"sk-text-repr-fallback\"><pre>LGBMClassifier(num_leaves=70,\n",
       "               random_state=RandomState(MT19937) at 0x19B37A27340, verbose=-1)</pre><b>In a Jupyter environment, please rerun this cell to show the HTML representation or trust the notebook. <br />On GitHub, the HTML representation is unable to render, please try loading this page with nbviewer.org.</b></div><div class=\"sk-container\" hidden><div class=\"sk-item\"><div class=\"sk-estimator fitted sk-toggleable\"><input class=\"sk-toggleable__control sk-hidden--visually\" id=\"sk-estimator-id-2\" type=\"checkbox\" checked><label for=\"sk-estimator-id-2\" class=\"sk-toggleable__label fitted sk-toggleable__label-arrow fitted\">&nbsp;LGBMClassifier<span class=\"sk-estimator-doc-link fitted\">i<span>Fitted</span></span></label><div class=\"sk-toggleable__content fitted\"><pre>LGBMClassifier(num_leaves=70,\n",
       "               random_state=RandomState(MT19937) at 0x19B37A27340, verbose=-1)</pre></div> </div></div></div></div>"
      ],
      "text/plain": [
       "LGBMClassifier(num_leaves=70,\n",
       "               random_state=RandomState(MT19937) at 0x19B37A27340, verbose=-1)"
      ]
     },
     "execution_count": 34,
     "metadata": {},
     "output_type": "execute_result"
    }
   ],
   "source": [
    "best_model"
   ]
  },
  {
   "cell_type": "markdown",
   "metadata": {},
   "source": [
    "**Сохраним результаты подбора моделей:**\n",
    "\n",
    "Модель: LogisticRegression\\\n",
    "Лучшие параметры: {'C': 0.1, 'max_iter': 300, 'random_state': RandomState(MT19937) at 0x19C71867E40, 'solver': 'liblinear'}\\\n",
    "Средний F1 на обучающей выборке: 0.9366401670139911\\\n",
    "Средний F1 на валидационной выборке: 0.930258820705814\\\n",
    "\n",
    "------------------------------\n",
    "\n",
    "Модель: CatBoostClassifier\\\n",
    "Лучшие параметры: {'iterations': 1000, 'learning_rate': 0.05, 'verbose': False}\\\n",
    "Средний F1 на обучающей выборке: 0.9868495068477792\\\n",
    "Средний F1 на валидационной выборке: 0.9298056465306754\\\n",
    "\n",
    "------------------------------\n",
    "\n",
    "Модель: LGBMClassifier\\\n",
    "Лучшие параметры: {'learning_rate': 0.1, 'num_leaves': 70, 'random_state': RandomState(MT19937) at 0x19C71867E40, 'verbose': -1}\\\n",
    "Средний F1 на обучающей выборке: 0.9995271550816754\\\n",
    "Средний F1 на валидационной выборке: 0.9290320615426768\\\n",
    "\n",
    "\n",
    "**Результаты моделей оказались очень близки друг к другу, но лучшей все же оказалась LGBMClassifier. В целом, имеет смысл проверить все модели на тестовой выборке**\n"
   ]
  },
  {
   "cell_type": "markdown",
   "metadata": {},
   "source": [
    "### Проверяем лучшую модель на тестовой выборке"
   ]
  },
  {
   "cell_type": "code",
   "execution_count": 36,
   "metadata": {},
   "outputs": [
    {
     "name": "stdout",
     "output_type": "stream",
     "text": [
      "F1-мера для LGBM Тест: 0.9356852950359038\n"
     ]
    }
   ],
   "source": [
    "# Проверяем лучшую модель на тестовой выборке:\n",
    "print('F1-мера для LGBM Тест:', f1_score(target_test, best_model.predict(features_test)))"
   ]
  },
  {
   "cell_type": "markdown",
   "metadata": {},
   "source": [
    "Получилось - результат намного выше целевого значения, F1-мера для лучшей модели составила: 0.9356852950359038"
   ]
  },
  {
   "cell_type": "markdown",
   "metadata": {},
   "source": [
    "Ради интереса проверим и оставшиеся модели:"
   ]
  },
  {
   "cell_type": "code",
   "execution_count": 38,
   "metadata": {},
   "outputs": [
    {
     "name": "stdout",
     "output_type": "stream",
     "text": [
      "F1-мера для Логистической регрессии Тест: 0.940405616224649\n",
      "F1-мера для CatBoost Тест: 0.9352473084724606\n"
     ]
    }
   ],
   "source": [
    "logreg_best = LogisticRegression(C = 0.1, max_iter = 300, random_state = state, solver = 'liblinear')\n",
    "logreg_best.fit(features_train, target_train)\n",
    "\n",
    "catboost_best = CatBoostClassifier(iterations = 1000, learning_rate = 0.05, verbose = False)\n",
    "catboost_best.fit(features_train, target_train)\n",
    "\n",
    "print('F1-мера для Логистической регрессии Тест:', f1_score(target_test, logreg_best.predict(features_test)))\n",
    "print('F1-мера для CatBoost Тест:', f1_score(target_test, catboost_best.predict(features_test)))"
   ]
  },
  {
   "cell_type": "markdown",
   "metadata": {},
   "source": [
    "Итого, на тестовой выборке лучшей оказалось модель Логистическая регрессия, но необходимо отметить - результаты всех моделей оказались очень близки."
   ]
  },
  {
   "cell_type": "markdown",
   "metadata": {},
   "source": [
    "Теперь сравним результаты наших моделей с dummy:"
   ]
  },
  {
   "cell_type": "code",
   "execution_count": 41,
   "metadata": {},
   "outputs": [
    {
     "name": "stdout",
     "output_type": "stream",
     "text": [
      "F1-мера для Dummy Тест: 0.0972200652275198\n"
     ]
    }
   ],
   "source": [
    "dummy = DummyClassifier(strategy = \"stratified\")\n",
    "dummy.fit(features_train, target_train)\n",
    "print('F1-мера для Dummy Тест:', f1_score(target_test, dummy.predict(features_test)))\n"
   ]
  },
  {
   "cell_type": "markdown",
   "metadata": {},
   "source": [
    "В целом, результат ожидаемый."
   ]
  },
  {
   "cell_type": "markdown",
   "metadata": {},
   "source": [
    "## Выводы"
   ]
  },
  {
   "cell_type": "markdown",
   "metadata": {},
   "source": [
    "\n",
    "В рамках задачи по проекту можно отметить следующее:\n",
    "\n",
    "1. В работу был принят датасет из 159292 текстов, по которым были проставлены признаки токсичности. В рамках предобработки, был удален лишний столбец \"unnamed: 0\", а также удалены лишние символы из текстов. Пропуски в данных и дубликаты не были обнаружены. Также был выявлен сильный дисбаланс классов - соотношение составило примерно 1 к 9, в польу 0-класса. Забегая вперед, можно отметить, что балансировка классов в данном случае не пригодилась.\n",
    "\n",
    "2. С помощью предобученной модели BERT - unitary/toxic-bert была произведена токенизация текстов и создание эмбеддингов. Здесь можно отметить, что base-bert, distil-, tiny- bert не приводили к нужным результатам - здесь требовалась конфигурация, направленная на токсичные тексты. В итоге удалось создать нужные эмбеддинги для определния токсичных комментариев.\n",
    "\n",
    "3. С помощью GridSearchCV и cross_validate были обучены модели с подборобом гиперпараметров: LogisticRegression, CatBoostClassifier, LGBMClassifier. Лучшей моделью автоматически был определен LGBMClassifier. Но, результаты всех моделей были близки.\n",
    "\n",
    "4. На тестовой выборке была протестирована лучшая модель, ее результат составил f1 = 0.9356852950359038. При этом,  f1 Логистической регрессии = 0.940405616224649, f1 CatBoost = 0.9352473084724606, иными словами, результаты на тестовой выборке оказались также очень близки."
   ]
  },
  {
   "cell_type": "markdown",
   "metadata": {},
   "source": [
    "## Чек-лист проверки"
   ]
  },
  {
   "cell_type": "markdown",
   "metadata": {},
   "source": [
    "- [x]  Jupyter Notebook открыт\n",
    "- [x]  Весь код выполняется без ошибок\n",
    "- [x]  Ячейки с кодом расположены в порядке исполнения\n",
    "- [x]  Данные загружены и подготовлены\n",
    "- [x]  Модели обучены\n",
    "- [x]  Значение метрики *F1* не меньше 0.75\n",
    "- [x]  Выводы написаны"
   ]
  },
  {
   "cell_type": "markdown",
   "metadata": {},
   "source": [
    "<img src=\"http://s3.amazonaws.com/pix.iemoji.com/images/emoji/apple/ios-12/256/waving-hand.png\" align=left width=44, heigth=44>\n",
    "<div class=\"alert alert-info\">\n",
    "<b> комментарий ревьюера</b>\n",
    "Ты правильно выполнил самую сложную часть и получил признаки из  текста с использованием предобученной модели BERT.\n",
    "    \n",
    "Метрика получилась достаточно низкая. Что же делать и как её увеличить? К сожалению врядли получится достичь нужного значения метрики, даже увеличив объем данных (хотя шансы приблизиться к отметке 0,75 есть, если использовать все данные и долго подбирать гиперпараметры моделей). Но почему? Это же хваленый трансформер, про который сейчас говорят из каждого утюга.  Дело в том, что ты используешь \"обычный\" BERT, обученный на обычных текстах и похоже признаки, которые мы получаем с его помощью плохо подходят для решения нашей задачи. Можно дообучить эту модель на наших данных, но это сложно и выходит за рамки проекта.  Самый доступный выход - найти модель, уже обученную на определение токсичности. И такие модели легко находятся на HugingFace по ключевому слову toxic.  Мой лидер - unitary/toxic-bert. С этой моделью легко получается 0,9 или даже 0,95.\n",
    "     \n",
    "</div>"
   ]
  },
  {
   "cell_type": "markdown",
   "metadata": {},
   "source": [
    "<div class=\"alert\" style=\"background-color:#ead7f7;color:#8737bf\">\n",
    "    <font size=\"3\"><b>Комментарий студента:</b></font>\n",
    "Да уж, я полагал, что полновесный BERT умеет в т.ч. и в токсичность на должном уровне, даже идеи не было поискать toxic - friendly варианты BERT. Показательный случай на будущее, большое спасибо, что направил!\n",
    "\n",
    "UPD - результат unitary/toxic-bert впечатляет, стремится к 0.95 по всем протестированным моделям!\n",
    "</div>"
   ]
  },
  {
   "cell_type": "markdown",
   "metadata": {},
   "source": [
    "<img src=\"http://s3.amazonaws.com/pix.iemoji.com/images/emoji/apple/ios-12/256/waving-hand.png\" align=left width=44, heigth=44>\n",
    "<div class=\"alert alert-info\">\n",
    "<b> Заключительный комментарий v2</b>\n",
    "\n",
    "Ну уж если быть совсем \"честным\", то было бы неплохо проверить (в карточке модели), что авторы этой модели не показывали ей наш датасет... Такая проблема с утечками последнее время часто возникает с большими моделями, в обучении которых попадают данные из разных бенчмарков.\n",
    "    \n",
    " ---------------   \n",
    "    \n",
    "Проект принят. Поздравляю и желаю дальнейших успехов!\n",
    "</div>"
   ]
  },
  {
   "cell_type": "markdown",
   "metadata": {},
   "source": [
    "<img src=\"http://s3.amazonaws.com/pix.iemoji.com/images/emoji/apple/ios-12/256/waving-hand.png\" align=left width=44, heigth=44>\n",
    "<div class=\"alert alert-info\">\n",
    "<b> рекомендации по доп. материалам</b>\n",
    "Если решишь погрузиться в область работы с текстами, очень советую несколько продвинутых бесплатных курсов.\n",
    "    \n",
    "   - Отличный бесплатный курс от Школы глубокого обучения МФТИ (https://stepik.org/org/dlschool), старт курса каждые пол года. Два семестра, один по основам и компьютерному зрению, второй по обработке естественного языка. Проходить нужно именно в таком порядке,т.к. почти весь современный NLP построен на нейронках.\n",
    "    \n",
    "   - \"Нейронные сети и компьютерное зрение\" от Samsung Research Russia (https://stepik.org/course/50352/syllabus). Есть также продолжение по NLP.  \n",
    "   - Трек NLP от сообщества ODS https://ods.ai/tracks/nlp-course-autumn-22\n",
    "    \n",
    "    \n",
    "А если на тебя произвели впечатление возможности ChatGPT и хочешь попробовать использовать возможности больших языковых моделей для решения своих задач, могу порекомендовать следующие курсы (первые две ссылки на английском, зато последняя подборка лекций на русском).\n",
    "    \n",
    "  - https://www.coursera.org/learn/generative-ai-with-llms  (можно прослужать бесплатно)\n",
    "  - Короткие курсы на сайте https://www.deeplearning.ai/short-courses/  Самый свежак - как писать промпты, как использовать LLM для создания собственных приложений (например как создать бота на основе ChatGPT, который будет отвечать на вопросы по внутренней документации компании).  \n",
    "  - https://www.promptingguide.ai/introduction/settings\n",
    "  - https://www.youtube.com/watch?v=l-l82uNwyu8&list=PLy6K3_Hx-udj6n1S88Vslyw2QVxSXLP2c    \n",
    "    \n",
    "    \n",
    "    \n",
    "    \n",
    "Также можно обратиться к туториалу по использованию языковых моделей на HugingFace. Обрати внимание, для больше чем половины материалов доступен перевод на русский, хотя можно читать и на языке оригинала. \n",
    "    \n",
    "  https://huggingface.co/learn/nlp-course   \n",
    " \n",
    "</div>"
   ]
  },
  {
   "cell_type": "markdown",
   "metadata": {},
   "source": [
    "<div class=\"alert\" style=\"background-color:#ead7f7;color:#8737bf\">\n",
    "    <font size=\"3\"><b>Комментарий студента:</b></font>\n",
    "Однозначно да, на курсе Практикума материалов весьма мало по теме, поэтому обязательно нужно дополнительное изучение, спасибо за подборку!\n",
    "</div>"
   ]
  },
  {
   "cell_type": "markdown",
   "metadata": {},
   "source": [
    "<img src=\"https://emojigraph.org/media/apple/check-mark-button_2705.png\" align=left width=33, heigth=33>\n",
    "<div class=\"alert alert-success\">\n",
    "    <b>v2</b> 🙏 </div>"
   ]
  },
  {
   "cell_type": "markdown",
   "metadata": {},
   "source": []
  }
 ],
 "metadata": {
  "ExecuteTimeLog": [
   {
    "duration": 1970,
    "start_time": "2024-07-05T15:18:07.676Z"
   },
   {
    "duration": 24,
    "start_time": "2024-07-05T15:24:05.146Z"
   },
   {
    "duration": 4,
    "start_time": "2024-07-05T15:25:55.256Z"
   },
   {
    "duration": 3132,
    "start_time": "2024-07-05T15:27:29.774Z"
   },
   {
    "duration": 35,
    "start_time": "2024-07-05T15:27:49.882Z"
   },
   {
    "duration": 42,
    "start_time": "2024-07-05T15:28:12.652Z"
   },
   {
    "duration": 149,
    "start_time": "2024-07-05T15:28:29.398Z"
   },
   {
    "duration": 31,
    "start_time": "2024-07-05T15:29:20.645Z"
   },
   {
    "duration": 27,
    "start_time": "2024-07-05T15:34:11.607Z"
   },
   {
    "duration": 15,
    "start_time": "2024-07-05T15:34:23.380Z"
   },
   {
    "duration": 8,
    "start_time": "2024-07-05T15:34:32.593Z"
   },
   {
    "duration": 8,
    "start_time": "2024-07-05T15:34:56.374Z"
   },
   {
    "duration": 8,
    "start_time": "2024-07-05T15:35:02.595Z"
   },
   {
    "duration": 1982,
    "start_time": "2024-07-05T15:35:09.676Z"
   },
   {
    "duration": 920,
    "start_time": "2024-07-05T15:35:11.660Z"
   },
   {
    "duration": 31,
    "start_time": "2024-07-05T15:35:12.582Z"
   },
   {
    "duration": 8,
    "start_time": "2024-07-05T15:35:12.614Z"
   },
   {
    "duration": 6,
    "start_time": "2024-07-05T15:35:19.717Z"
   },
   {
    "duration": 229,
    "start_time": "2024-07-05T15:35:45.101Z"
   },
   {
    "duration": 67,
    "start_time": "2024-07-05T15:36:01.826Z"
   },
   {
    "duration": 190,
    "start_time": "2024-07-05T15:36:16.020Z"
   },
   {
    "duration": 18,
    "start_time": "2024-07-05T15:36:16.899Z"
   },
   {
    "duration": 435,
    "start_time": "2024-07-05T15:38:01.329Z"
   },
   {
    "duration": 143,
    "start_time": "2024-07-05T15:38:43.164Z"
   },
   {
    "duration": 141396,
    "start_time": "2024-07-05T15:40:29.624Z"
   },
   {
    "duration": 2300,
    "start_time": "2024-07-05T15:43:50.613Z"
   },
   {
    "duration": 3026,
    "start_time": "2024-07-05T15:43:52.915Z"
   },
   {
    "duration": 27,
    "start_time": "2024-07-05T15:43:55.943Z"
   },
   {
    "duration": 6,
    "start_time": "2024-07-05T15:43:55.971Z"
   },
   {
    "duration": 220,
    "start_time": "2024-07-05T15:43:55.979Z"
   },
   {
    "duration": 73,
    "start_time": "2024-07-05T15:43:56.200Z"
   },
   {
    "duration": 84919,
    "start_time": "2024-07-05T15:43:56.274Z"
   },
   {
    "duration": 0,
    "start_time": "2024-07-05T15:45:21.195Z"
   },
   {
    "duration": 0,
    "start_time": "2024-07-05T15:45:21.197Z"
   },
   {
    "duration": 2195,
    "start_time": "2024-07-05T15:46:24.016Z"
   },
   {
    "duration": 779,
    "start_time": "2024-07-05T15:46:26.213Z"
   },
   {
    "duration": 28,
    "start_time": "2024-07-05T15:46:26.993Z"
   },
   {
    "duration": 8,
    "start_time": "2024-07-05T15:46:27.022Z"
   },
   {
    "duration": 230,
    "start_time": "2024-07-05T15:46:27.031Z"
   },
   {
    "duration": 67,
    "start_time": "2024-07-05T15:46:27.263Z"
   },
   {
    "duration": 193271,
    "start_time": "2024-07-05T15:46:27.331Z"
   },
   {
    "duration": 125,
    "start_time": "2024-07-05T15:50:19.283Z"
   },
   {
    "duration": 128,
    "start_time": "2024-07-05T15:50:36.274Z"
   },
   {
    "duration": 11,
    "start_time": "2024-07-05T15:51:08.488Z"
   },
   {
    "duration": 58,
    "start_time": "2024-07-05T15:54:35.472Z"
   },
   {
    "duration": 9,
    "start_time": "2024-07-05T15:54:46.660Z"
   },
   {
    "duration": 119,
    "start_time": "2024-07-05T15:54:53.768Z"
   },
   {
    "duration": 2,
    "start_time": "2024-07-05T15:55:06.638Z"
   },
   {
    "duration": 31,
    "start_time": "2024-07-05T15:55:10.514Z"
   },
   {
    "duration": 37,
    "start_time": "2024-07-05T15:55:29.214Z"
   },
   {
    "duration": 3,
    "start_time": "2024-07-05T18:46:42.127Z"
   },
   {
    "duration": 2,
    "start_time": "2024-07-05T19:00:06.702Z"
   },
   {
    "duration": 1240,
    "start_time": "2024-07-05T19:04:09.332Z"
   },
   {
    "duration": 3725,
    "start_time": "2024-07-05T19:04:40.129Z"
   },
   {
    "duration": 3,
    "start_time": "2024-07-05T19:04:57.225Z"
   },
   {
    "duration": 3585,
    "start_time": "2024-07-05T19:04:57.229Z"
   },
   {
    "duration": 812,
    "start_time": "2024-07-05T19:05:00.816Z"
   },
   {
    "duration": 33,
    "start_time": "2024-07-05T19:05:01.629Z"
   },
   {
    "duration": 13,
    "start_time": "2024-07-05T19:05:01.664Z"
   },
   {
    "duration": 249,
    "start_time": "2024-07-05T19:05:01.679Z"
   },
   {
    "duration": 71,
    "start_time": "2024-07-05T19:05:01.930Z"
   },
   {
    "duration": 35,
    "start_time": "2024-07-05T19:05:02.002Z"
   },
   {
    "duration": 2,
    "start_time": "2024-07-05T19:05:02.039Z"
   },
   {
    "duration": 6937,
    "start_time": "2024-07-05T19:06:03.635Z"
   },
   {
    "duration": 301,
    "start_time": "2024-07-05T19:09:04.436Z"
   },
   {
    "duration": 4,
    "start_time": "2024-07-05T19:10:28.885Z"
   },
   {
    "duration": 2321,
    "start_time": "2024-07-05T19:10:28.890Z"
   },
   {
    "duration": 3052,
    "start_time": "2024-07-05T19:10:31.212Z"
   },
   {
    "duration": 29,
    "start_time": "2024-07-05T19:10:34.266Z"
   },
   {
    "duration": 8,
    "start_time": "2024-07-05T19:10:34.297Z"
   },
   {
    "duration": 234,
    "start_time": "2024-07-05T19:10:34.306Z"
   },
   {
    "duration": 73,
    "start_time": "2024-07-05T19:10:34.542Z"
   },
   {
    "duration": 30,
    "start_time": "2024-07-05T19:10:34.616Z"
   },
   {
    "duration": 3,
    "start_time": "2024-07-05T19:10:34.647Z"
   },
   {
    "duration": 158,
    "start_time": "2024-07-05T19:10:34.651Z"
   },
   {
    "duration": 0,
    "start_time": "2024-07-05T19:10:34.811Z"
   },
   {
    "duration": 2590,
    "start_time": "2024-07-05T19:11:09.444Z"
   },
   {
    "duration": 2257,
    "start_time": "2024-07-05T19:11:12.036Z"
   },
   {
    "duration": 808,
    "start_time": "2024-07-05T19:11:14.294Z"
   },
   {
    "duration": 30,
    "start_time": "2024-07-05T19:11:15.104Z"
   },
   {
    "duration": 10,
    "start_time": "2024-07-05T19:11:15.135Z"
   },
   {
    "duration": 233,
    "start_time": "2024-07-05T19:11:15.146Z"
   },
   {
    "duration": 66,
    "start_time": "2024-07-05T19:11:15.381Z"
   },
   {
    "duration": 41,
    "start_time": "2024-07-05T19:11:15.449Z"
   },
   {
    "duration": 2,
    "start_time": "2024-07-05T19:11:15.491Z"
   },
   {
    "duration": 143,
    "start_time": "2024-07-05T19:11:15.495Z"
   },
   {
    "duration": 0,
    "start_time": "2024-07-05T19:11:15.639Z"
   },
   {
    "duration": 4,
    "start_time": "2024-07-05T19:11:55.081Z"
   },
   {
    "duration": 3791,
    "start_time": "2024-07-05T19:11:55.087Z"
   },
   {
    "duration": 800,
    "start_time": "2024-07-05T19:11:58.880Z"
   },
   {
    "duration": 29,
    "start_time": "2024-07-05T19:11:59.681Z"
   },
   {
    "duration": 8,
    "start_time": "2024-07-05T19:11:59.712Z"
   },
   {
    "duration": 231,
    "start_time": "2024-07-05T19:11:59.721Z"
   },
   {
    "duration": 76,
    "start_time": "2024-07-05T19:11:59.954Z"
   },
   {
    "duration": 53,
    "start_time": "2024-07-05T19:12:00.032Z"
   },
   {
    "duration": 28,
    "start_time": "2024-07-05T19:12:00.087Z"
   },
   {
    "duration": 3809,
    "start_time": "2024-07-05T19:12:00.117Z"
   },
   {
    "duration": 3,
    "start_time": "2024-07-05T19:13:45.799Z"
   },
   {
    "duration": 3763,
    "start_time": "2024-07-05T19:13:45.804Z"
   },
   {
    "duration": 3066,
    "start_time": "2024-07-05T19:13:49.568Z"
   },
   {
    "duration": 32,
    "start_time": "2024-07-05T19:13:52.635Z"
   },
   {
    "duration": 8,
    "start_time": "2024-07-05T19:13:52.668Z"
   },
   {
    "duration": 217,
    "start_time": "2024-07-05T19:13:52.678Z"
   },
   {
    "duration": 74,
    "start_time": "2024-07-05T19:13:52.897Z"
   },
   {
    "duration": 32,
    "start_time": "2024-07-05T19:13:52.972Z"
   },
   {
    "duration": 2,
    "start_time": "2024-07-05T19:13:53.005Z"
   },
   {
    "duration": 3490,
    "start_time": "2024-07-05T19:13:53.008Z"
   },
   {
    "duration": 43388,
    "start_time": "2024-07-05T19:13:56.500Z"
   }
  ],
  "kernelspec": {
   "display_name": "Python 3 (ipykernel)",
   "language": "python",
   "name": "python3"
  },
  "language_info": {
   "codemirror_mode": {
    "name": "ipython",
    "version": 3
   },
   "file_extension": ".py",
   "mimetype": "text/x-python",
   "name": "python",
   "nbconvert_exporter": "python",
   "pygments_lexer": "ipython3",
   "version": "3.9.5"
  },
  "toc": {
   "base_numbering": 1,
   "nav_menu": {},
   "number_sections": true,
   "sideBar": true,
   "skip_h1_title": true,
   "title_cell": "Содержание",
   "title_sidebar": "Contents",
   "toc_cell": true,
   "toc_position": {
    "height": "calc(100% - 180px)",
    "left": "10px",
    "top": "150px",
    "width": "302.391px"
   },
   "toc_section_display": true,
   "toc_window_display": false
  }
 },
 "nbformat": 4,
 "nbformat_minor": 4
}
