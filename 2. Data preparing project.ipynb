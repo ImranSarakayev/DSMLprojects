{
 "cells": [
  {
   "cell_type": "markdown",
   "id": "4ada3036",
   "metadata": {},
   "source": [
    "<div style=\"border:solid Chocolate 2px; padding: 40px\">\n",
    "\n",
    "<b>Имран, приветствую!</b>\n",
    "\n",
    "Буду рада с тобой познакомиться. Меня зовут Евгения и я буду ревьюером твоего проекта. Если ты не против, то предлагаю общаться на \"ты\":) Если удобнее на \"вы\", то нет проблем, только скажи об этом.\n",
    "\n",
    "В процессе работы ты встретишь комментарии <font color='green'>зеленого</font>, <font color='gold'>желтого</font> и <font color='red'>красного</font> цветов. Что они значат, смотри ниже:\n",
    "    <br/>\n",
    "\n",
    "<div class=\"alert alert-success\">\n",
    "<h2> Комментарий ревьюера <a class=\"tocSkip\"> </h2>\n",
    "\n",
    "<b>Отлично!✅:</b> Решение на этом шаге является полностью правильным.\n",
    "</div>\n",
    "\n",
    "<br/>\n",
    "\n",
    "<div class=\"alert alert-warning\">\n",
    "    <h2> Комментарий ревьюера <a class=\"tocSkip\"> </h2>\n",
    "    \n",
    "<b>Можно лучше⚠️:</b> Решение на этом шаге станет еще лучше, если внести небольшие коррективы.\n",
    "</div>\n",
    "\n",
    "\n",
    "<br/>\n",
    "<div class=\"alert alert-block alert-danger\">\n",
    "<h2> Комментарий ревьюера <a class=\"tocSkip\"></h2>\n",
    "\n",
    "    \n",
    "<b>Необходимо исправить❌:</b>\n",
    " Решение на этом шаге требует существенной переработки и внесения правок. Напоминаю, что проект не может быть принят с первого раза, если ревью содержит комментарии, рекомендующие доработать шаги.\n",
    "</div>\n",
    "    \n",
    "Увидев мой комментарий, не удаляй его, он будет очень полезен в случае повторной проверки работы😊\n",
    "    \n",
    "Свой комментарий помечай так, как показано ниже, тогда нам будет легче вести диалог, а мне выполнить повторную проверку проекта.\n",
    "    <div class=\"alert alert-info\"> <b>Комментарий студента: </b> </div>\n",
    "    \n"
   ]
  },
  {
   "cell_type": "markdown",
   "id": "34a4e1f5",
   "metadata": {
    "deletable": false,
    "editable": false,
    "id": "c81daeeb"
   },
   "source": [
    "# Исследование надежности заемщиков\n"
   ]
  },
  {
   "cell_type": "markdown",
   "id": "58158636",
   "metadata": {
    "deletable": false,
    "editable": false,
    "id": "827c20bf"
   },
   "source": [
    "Во второй части проекта вы выполните шаги 3 и 4. Их вручную проверит ревьюер.\n",
    "Чтобы вам не пришлось писать код заново для шагов 1 и 2, мы добавили авторские решения в ячейки с кодом. \n",
    "\n"
   ]
  },
  {
   "cell_type": "markdown",
   "id": "79d05a0f",
   "metadata": {
    "deletable": false,
    "editable": false,
    "id": "744d7639"
   },
   "source": [
    "## Откройте таблицу и изучите общую информацию о данных"
   ]
  },
  {
   "cell_type": "markdown",
   "id": "36b355a5",
   "metadata": {
    "deletable": false,
    "editable": false,
    "id": "e7a14c31"
   },
   "source": [
    "**Задание 1. Импортируйте библиотеку pandas. Считайте данные из csv-файла в датафрейм и сохраните в переменную `data`. Путь к файлу:**\n",
    "\n",
    "`/datasets/data.csv`"
   ]
  },
  {
   "cell_type": "code",
   "execution_count": 1,
   "id": "a4b7fc2b",
   "metadata": {
    "deletable": false,
    "id": "7bcf75c9"
   },
   "outputs": [],
   "source": [
    "import pandas as pd\n",
    "\n",
    "try:\n",
    "    data = pd.read_csv('/datasets/data.csv')\n",
    "except:\n",
    "    data = pd.read_csv('https://code.s3.yandex.net/datasets/data.csv')"
   ]
  },
  {
   "cell_type": "markdown",
   "id": "94e2dcc6",
   "metadata": {
    "deletable": false,
    "editable": false,
    "id": "b8038fe3"
   },
   "source": [
    "**Задание 2. Выведите первые 20 строчек датафрейма `data` на экран.**"
   ]
  },
  {
   "cell_type": "code",
   "execution_count": 2,
   "id": "8e0e4984",
   "metadata": {
    "deletable": false,
    "id": "2a7cab99",
    "outputId": "1a8f3ef2-d323-4ec2-ddf7-89670b5944c4"
   },
   "outputs": [
    {
     "data": {
      "text/html": [
       "<div>\n",
       "<style scoped>\n",
       "    .dataframe tbody tr th:only-of-type {\n",
       "        vertical-align: middle;\n",
       "    }\n",
       "\n",
       "    .dataframe tbody tr th {\n",
       "        vertical-align: top;\n",
       "    }\n",
       "\n",
       "    .dataframe thead th {\n",
       "        text-align: right;\n",
       "    }\n",
       "</style>\n",
       "<table border=\"1\" class=\"dataframe\">\n",
       "  <thead>\n",
       "    <tr style=\"text-align: right;\">\n",
       "      <th></th>\n",
       "      <th>children</th>\n",
       "      <th>days_employed</th>\n",
       "      <th>dob_years</th>\n",
       "      <th>education</th>\n",
       "      <th>education_id</th>\n",
       "      <th>family_status</th>\n",
       "      <th>family_status_id</th>\n",
       "      <th>gender</th>\n",
       "      <th>income_type</th>\n",
       "      <th>debt</th>\n",
       "      <th>total_income</th>\n",
       "      <th>purpose</th>\n",
       "    </tr>\n",
       "  </thead>\n",
       "  <tbody>\n",
       "    <tr>\n",
       "      <th>0</th>\n",
       "      <td>1</td>\n",
       "      <td>-8437.673028</td>\n",
       "      <td>42</td>\n",
       "      <td>высшее</td>\n",
       "      <td>0</td>\n",
       "      <td>женат / замужем</td>\n",
       "      <td>0</td>\n",
       "      <td>F</td>\n",
       "      <td>сотрудник</td>\n",
       "      <td>0</td>\n",
       "      <td>253875.639453</td>\n",
       "      <td>покупка жилья</td>\n",
       "    </tr>\n",
       "    <tr>\n",
       "      <th>1</th>\n",
       "      <td>1</td>\n",
       "      <td>-4024.803754</td>\n",
       "      <td>36</td>\n",
       "      <td>среднее</td>\n",
       "      <td>1</td>\n",
       "      <td>женат / замужем</td>\n",
       "      <td>0</td>\n",
       "      <td>F</td>\n",
       "      <td>сотрудник</td>\n",
       "      <td>0</td>\n",
       "      <td>112080.014102</td>\n",
       "      <td>приобретение автомобиля</td>\n",
       "    </tr>\n",
       "    <tr>\n",
       "      <th>2</th>\n",
       "      <td>0</td>\n",
       "      <td>-5623.422610</td>\n",
       "      <td>33</td>\n",
       "      <td>Среднее</td>\n",
       "      <td>1</td>\n",
       "      <td>женат / замужем</td>\n",
       "      <td>0</td>\n",
       "      <td>M</td>\n",
       "      <td>сотрудник</td>\n",
       "      <td>0</td>\n",
       "      <td>145885.952297</td>\n",
       "      <td>покупка жилья</td>\n",
       "    </tr>\n",
       "    <tr>\n",
       "      <th>3</th>\n",
       "      <td>3</td>\n",
       "      <td>-4124.747207</td>\n",
       "      <td>32</td>\n",
       "      <td>среднее</td>\n",
       "      <td>1</td>\n",
       "      <td>женат / замужем</td>\n",
       "      <td>0</td>\n",
       "      <td>M</td>\n",
       "      <td>сотрудник</td>\n",
       "      <td>0</td>\n",
       "      <td>267628.550329</td>\n",
       "      <td>дополнительное образование</td>\n",
       "    </tr>\n",
       "    <tr>\n",
       "      <th>4</th>\n",
       "      <td>0</td>\n",
       "      <td>340266.072047</td>\n",
       "      <td>53</td>\n",
       "      <td>среднее</td>\n",
       "      <td>1</td>\n",
       "      <td>гражданский брак</td>\n",
       "      <td>1</td>\n",
       "      <td>F</td>\n",
       "      <td>пенсионер</td>\n",
       "      <td>0</td>\n",
       "      <td>158616.077870</td>\n",
       "      <td>сыграть свадьбу</td>\n",
       "    </tr>\n",
       "    <tr>\n",
       "      <th>5</th>\n",
       "      <td>0</td>\n",
       "      <td>-926.185831</td>\n",
       "      <td>27</td>\n",
       "      <td>высшее</td>\n",
       "      <td>0</td>\n",
       "      <td>гражданский брак</td>\n",
       "      <td>1</td>\n",
       "      <td>M</td>\n",
       "      <td>компаньон</td>\n",
       "      <td>0</td>\n",
       "      <td>255763.565419</td>\n",
       "      <td>покупка жилья</td>\n",
       "    </tr>\n",
       "    <tr>\n",
       "      <th>6</th>\n",
       "      <td>0</td>\n",
       "      <td>-2879.202052</td>\n",
       "      <td>43</td>\n",
       "      <td>высшее</td>\n",
       "      <td>0</td>\n",
       "      <td>женат / замужем</td>\n",
       "      <td>0</td>\n",
       "      <td>F</td>\n",
       "      <td>компаньон</td>\n",
       "      <td>0</td>\n",
       "      <td>240525.971920</td>\n",
       "      <td>операции с жильем</td>\n",
       "    </tr>\n",
       "    <tr>\n",
       "      <th>7</th>\n",
       "      <td>0</td>\n",
       "      <td>-152.779569</td>\n",
       "      <td>50</td>\n",
       "      <td>СРЕДНЕЕ</td>\n",
       "      <td>1</td>\n",
       "      <td>женат / замужем</td>\n",
       "      <td>0</td>\n",
       "      <td>M</td>\n",
       "      <td>сотрудник</td>\n",
       "      <td>0</td>\n",
       "      <td>135823.934197</td>\n",
       "      <td>образование</td>\n",
       "    </tr>\n",
       "    <tr>\n",
       "      <th>8</th>\n",
       "      <td>2</td>\n",
       "      <td>-6929.865299</td>\n",
       "      <td>35</td>\n",
       "      <td>ВЫСШЕЕ</td>\n",
       "      <td>0</td>\n",
       "      <td>гражданский брак</td>\n",
       "      <td>1</td>\n",
       "      <td>F</td>\n",
       "      <td>сотрудник</td>\n",
       "      <td>0</td>\n",
       "      <td>95856.832424</td>\n",
       "      <td>на проведение свадьбы</td>\n",
       "    </tr>\n",
       "    <tr>\n",
       "      <th>9</th>\n",
       "      <td>0</td>\n",
       "      <td>-2188.756445</td>\n",
       "      <td>41</td>\n",
       "      <td>среднее</td>\n",
       "      <td>1</td>\n",
       "      <td>женат / замужем</td>\n",
       "      <td>0</td>\n",
       "      <td>M</td>\n",
       "      <td>сотрудник</td>\n",
       "      <td>0</td>\n",
       "      <td>144425.938277</td>\n",
       "      <td>покупка жилья для семьи</td>\n",
       "    </tr>\n",
       "    <tr>\n",
       "      <th>10</th>\n",
       "      <td>2</td>\n",
       "      <td>-4171.483647</td>\n",
       "      <td>36</td>\n",
       "      <td>высшее</td>\n",
       "      <td>0</td>\n",
       "      <td>женат / замужем</td>\n",
       "      <td>0</td>\n",
       "      <td>M</td>\n",
       "      <td>компаньон</td>\n",
       "      <td>0</td>\n",
       "      <td>113943.491460</td>\n",
       "      <td>покупка недвижимости</td>\n",
       "    </tr>\n",
       "    <tr>\n",
       "      <th>11</th>\n",
       "      <td>0</td>\n",
       "      <td>-792.701887</td>\n",
       "      <td>40</td>\n",
       "      <td>среднее</td>\n",
       "      <td>1</td>\n",
       "      <td>женат / замужем</td>\n",
       "      <td>0</td>\n",
       "      <td>F</td>\n",
       "      <td>сотрудник</td>\n",
       "      <td>0</td>\n",
       "      <td>77069.234271</td>\n",
       "      <td>покупка коммерческой недвижимости</td>\n",
       "    </tr>\n",
       "    <tr>\n",
       "      <th>12</th>\n",
       "      <td>0</td>\n",
       "      <td>NaN</td>\n",
       "      <td>65</td>\n",
       "      <td>среднее</td>\n",
       "      <td>1</td>\n",
       "      <td>гражданский брак</td>\n",
       "      <td>1</td>\n",
       "      <td>M</td>\n",
       "      <td>пенсионер</td>\n",
       "      <td>0</td>\n",
       "      <td>NaN</td>\n",
       "      <td>сыграть свадьбу</td>\n",
       "    </tr>\n",
       "    <tr>\n",
       "      <th>13</th>\n",
       "      <td>0</td>\n",
       "      <td>-1846.641941</td>\n",
       "      <td>54</td>\n",
       "      <td>неоконченное высшее</td>\n",
       "      <td>2</td>\n",
       "      <td>женат / замужем</td>\n",
       "      <td>0</td>\n",
       "      <td>F</td>\n",
       "      <td>сотрудник</td>\n",
       "      <td>0</td>\n",
       "      <td>130458.228857</td>\n",
       "      <td>приобретение автомобиля</td>\n",
       "    </tr>\n",
       "    <tr>\n",
       "      <th>14</th>\n",
       "      <td>0</td>\n",
       "      <td>-1844.956182</td>\n",
       "      <td>56</td>\n",
       "      <td>высшее</td>\n",
       "      <td>0</td>\n",
       "      <td>гражданский брак</td>\n",
       "      <td>1</td>\n",
       "      <td>F</td>\n",
       "      <td>компаньон</td>\n",
       "      <td>1</td>\n",
       "      <td>165127.911772</td>\n",
       "      <td>покупка жилой недвижимости</td>\n",
       "    </tr>\n",
       "    <tr>\n",
       "      <th>15</th>\n",
       "      <td>1</td>\n",
       "      <td>-972.364419</td>\n",
       "      <td>26</td>\n",
       "      <td>среднее</td>\n",
       "      <td>1</td>\n",
       "      <td>женат / замужем</td>\n",
       "      <td>0</td>\n",
       "      <td>F</td>\n",
       "      <td>сотрудник</td>\n",
       "      <td>0</td>\n",
       "      <td>116820.904450</td>\n",
       "      <td>строительство собственной недвижимости</td>\n",
       "    </tr>\n",
       "    <tr>\n",
       "      <th>16</th>\n",
       "      <td>0</td>\n",
       "      <td>-1719.934226</td>\n",
       "      <td>35</td>\n",
       "      <td>среднее</td>\n",
       "      <td>1</td>\n",
       "      <td>женат / замужем</td>\n",
       "      <td>0</td>\n",
       "      <td>F</td>\n",
       "      <td>сотрудник</td>\n",
       "      <td>0</td>\n",
       "      <td>289202.704229</td>\n",
       "      <td>недвижимость</td>\n",
       "    </tr>\n",
       "    <tr>\n",
       "      <th>17</th>\n",
       "      <td>0</td>\n",
       "      <td>-2369.999720</td>\n",
       "      <td>33</td>\n",
       "      <td>высшее</td>\n",
       "      <td>0</td>\n",
       "      <td>гражданский брак</td>\n",
       "      <td>1</td>\n",
       "      <td>M</td>\n",
       "      <td>сотрудник</td>\n",
       "      <td>0</td>\n",
       "      <td>90410.586745</td>\n",
       "      <td>строительство недвижимости</td>\n",
       "    </tr>\n",
       "    <tr>\n",
       "      <th>18</th>\n",
       "      <td>0</td>\n",
       "      <td>400281.136913</td>\n",
       "      <td>53</td>\n",
       "      <td>среднее</td>\n",
       "      <td>1</td>\n",
       "      <td>вдовец / вдова</td>\n",
       "      <td>2</td>\n",
       "      <td>F</td>\n",
       "      <td>пенсионер</td>\n",
       "      <td>0</td>\n",
       "      <td>56823.777243</td>\n",
       "      <td>на покупку подержанного автомобиля</td>\n",
       "    </tr>\n",
       "    <tr>\n",
       "      <th>19</th>\n",
       "      <td>0</td>\n",
       "      <td>-10038.818549</td>\n",
       "      <td>48</td>\n",
       "      <td>СРЕДНЕЕ</td>\n",
       "      <td>1</td>\n",
       "      <td>в разводе</td>\n",
       "      <td>3</td>\n",
       "      <td>F</td>\n",
       "      <td>сотрудник</td>\n",
       "      <td>0</td>\n",
       "      <td>242831.107982</td>\n",
       "      <td>на покупку своего автомобиля</td>\n",
       "    </tr>\n",
       "  </tbody>\n",
       "</table>\n",
       "</div>"
      ],
      "text/plain": [
       "    children  days_employed  dob_years            education  education_id  \\\n",
       "0          1   -8437.673028         42               высшее             0   \n",
       "1          1   -4024.803754         36              среднее             1   \n",
       "2          0   -5623.422610         33              Среднее             1   \n",
       "3          3   -4124.747207         32              среднее             1   \n",
       "4          0  340266.072047         53              среднее             1   \n",
       "5          0    -926.185831         27               высшее             0   \n",
       "6          0   -2879.202052         43               высшее             0   \n",
       "7          0    -152.779569         50              СРЕДНЕЕ             1   \n",
       "8          2   -6929.865299         35               ВЫСШЕЕ             0   \n",
       "9          0   -2188.756445         41              среднее             1   \n",
       "10         2   -4171.483647         36               высшее             0   \n",
       "11         0    -792.701887         40              среднее             1   \n",
       "12         0            NaN         65              среднее             1   \n",
       "13         0   -1846.641941         54  неоконченное высшее             2   \n",
       "14         0   -1844.956182         56               высшее             0   \n",
       "15         1    -972.364419         26              среднее             1   \n",
       "16         0   -1719.934226         35              среднее             1   \n",
       "17         0   -2369.999720         33               высшее             0   \n",
       "18         0  400281.136913         53              среднее             1   \n",
       "19         0  -10038.818549         48              СРЕДНЕЕ             1   \n",
       "\n",
       "       family_status  family_status_id gender income_type  debt  \\\n",
       "0    женат / замужем                 0      F   сотрудник     0   \n",
       "1    женат / замужем                 0      F   сотрудник     0   \n",
       "2    женат / замужем                 0      M   сотрудник     0   \n",
       "3    женат / замужем                 0      M   сотрудник     0   \n",
       "4   гражданский брак                 1      F   пенсионер     0   \n",
       "5   гражданский брак                 1      M   компаньон     0   \n",
       "6    женат / замужем                 0      F   компаньон     0   \n",
       "7    женат / замужем                 0      M   сотрудник     0   \n",
       "8   гражданский брак                 1      F   сотрудник     0   \n",
       "9    женат / замужем                 0      M   сотрудник     0   \n",
       "10   женат / замужем                 0      M   компаньон     0   \n",
       "11   женат / замужем                 0      F   сотрудник     0   \n",
       "12  гражданский брак                 1      M   пенсионер     0   \n",
       "13   женат / замужем                 0      F   сотрудник     0   \n",
       "14  гражданский брак                 1      F   компаньон     1   \n",
       "15   женат / замужем                 0      F   сотрудник     0   \n",
       "16   женат / замужем                 0      F   сотрудник     0   \n",
       "17  гражданский брак                 1      M   сотрудник     0   \n",
       "18    вдовец / вдова                 2      F   пенсионер     0   \n",
       "19         в разводе                 3      F   сотрудник     0   \n",
       "\n",
       "     total_income                                 purpose  \n",
       "0   253875.639453                           покупка жилья  \n",
       "1   112080.014102                 приобретение автомобиля  \n",
       "2   145885.952297                           покупка жилья  \n",
       "3   267628.550329              дополнительное образование  \n",
       "4   158616.077870                         сыграть свадьбу  \n",
       "5   255763.565419                           покупка жилья  \n",
       "6   240525.971920                       операции с жильем  \n",
       "7   135823.934197                             образование  \n",
       "8    95856.832424                   на проведение свадьбы  \n",
       "9   144425.938277                 покупка жилья для семьи  \n",
       "10  113943.491460                    покупка недвижимости  \n",
       "11   77069.234271       покупка коммерческой недвижимости  \n",
       "12            NaN                         сыграть свадьбу  \n",
       "13  130458.228857                 приобретение автомобиля  \n",
       "14  165127.911772              покупка жилой недвижимости  \n",
       "15  116820.904450  строительство собственной недвижимости  \n",
       "16  289202.704229                            недвижимость  \n",
       "17   90410.586745              строительство недвижимости  \n",
       "18   56823.777243      на покупку подержанного автомобиля  \n",
       "19  242831.107982            на покупку своего автомобиля  "
      ]
     },
     "execution_count": 2,
     "metadata": {},
     "output_type": "execute_result"
    }
   ],
   "source": [
    "data.head(20)"
   ]
  },
  {
   "cell_type": "markdown",
   "id": "75358667",
   "metadata": {
    "deletable": false,
    "editable": false,
    "id": "1c12e233"
   },
   "source": [
    "**Задание 3. Выведите основную информацию о датафрейме с помощью метода `info()`.**"
   ]
  },
  {
   "cell_type": "code",
   "execution_count": 3,
   "id": "dc5a6e03",
   "metadata": {
    "deletable": false,
    "id": "2b757bca",
    "outputId": "15376089-8dad-46c9-b520-c05248d43158"
   },
   "outputs": [
    {
     "name": "stdout",
     "output_type": "stream",
     "text": [
      "<class 'pandas.core.frame.DataFrame'>\n",
      "RangeIndex: 21525 entries, 0 to 21524\n",
      "Data columns (total 12 columns):\n",
      " #   Column            Non-Null Count  Dtype  \n",
      "---  ------            --------------  -----  \n",
      " 0   children          21525 non-null  int64  \n",
      " 1   days_employed     19351 non-null  float64\n",
      " 2   dob_years         21525 non-null  int64  \n",
      " 3   education         21525 non-null  object \n",
      " 4   education_id      21525 non-null  int64  \n",
      " 5   family_status     21525 non-null  object \n",
      " 6   family_status_id  21525 non-null  int64  \n",
      " 7   gender            21525 non-null  object \n",
      " 8   income_type       21525 non-null  object \n",
      " 9   debt              21525 non-null  int64  \n",
      " 10  total_income      19351 non-null  float64\n",
      " 11  purpose           21525 non-null  object \n",
      "dtypes: float64(2), int64(5), object(5)\n",
      "memory usage: 2.0+ MB\n"
     ]
    }
   ],
   "source": [
    "data.info()"
   ]
  },
  {
   "cell_type": "markdown",
   "id": "7fa738f9",
   "metadata": {
    "deletable": false,
    "editable": false,
    "id": "333ec665"
   },
   "source": [
    "## Предобработка данных"
   ]
  },
  {
   "cell_type": "markdown",
   "id": "73c51fab",
   "metadata": {
    "deletable": false,
    "editable": false,
    "id": "02d92d53"
   },
   "source": [
    "### Удаление пропусков"
   ]
  },
  {
   "cell_type": "markdown",
   "id": "ffba5e3c",
   "metadata": {
    "deletable": false,
    "editable": false,
    "id": "cd84967c"
   },
   "source": [
    "**Задание 4. Выведите количество пропущенных значений для каждого столбца. Используйте комбинацию двух методов.**"
   ]
  },
  {
   "cell_type": "code",
   "execution_count": 4,
   "id": "7f8ccb0d",
   "metadata": {
    "deletable": false,
    "id": "7f9b2309",
    "outputId": "81f4d817-781c-465c-ed15-91ce4446810d"
   },
   "outputs": [
    {
     "data": {
      "text/plain": [
       "children               0\n",
       "days_employed       2174\n",
       "dob_years              0\n",
       "education              0\n",
       "education_id           0\n",
       "family_status          0\n",
       "family_status_id       0\n",
       "gender                 0\n",
       "income_type            0\n",
       "debt                   0\n",
       "total_income        2174\n",
       "purpose                0\n",
       "dtype: int64"
      ]
     },
     "execution_count": 4,
     "metadata": {},
     "output_type": "execute_result"
    }
   ],
   "source": [
    "data.isna().sum()"
   ]
  },
  {
   "cell_type": "markdown",
   "id": "2a8b05b0",
   "metadata": {
    "deletable": false,
    "editable": false,
    "id": "db86e27b"
   },
   "source": [
    "**Задание 5. В двух столбцах есть пропущенные значения. Один из них — `days_employed`. Пропуски в этом столбце вы обработаете на следующем этапе. Другой столбец с пропущенными значениями — `total_income` — хранит данные о доходах. На сумму дохода сильнее всего влияет тип занятости, поэтому заполнить пропуски в этом столбце нужно медианным значением по каждому типу из столбца `income_type`. Например, у человека с типом занятости `сотрудник` пропуск в столбце `total_income` должен быть заполнен медианным доходом среди всех записей с тем же типом.**"
   ]
  },
  {
   "cell_type": "code",
   "execution_count": 5,
   "id": "f783e532",
   "metadata": {
    "deletable": false,
    "id": "42006a93"
   },
   "outputs": [],
   "source": [
    "for t in data['income_type'].unique():\n",
    "    data.loc[(data['income_type'] == t) & (data['total_income'].isna()), 'total_income'] = \\\n",
    "    data.loc[(data['income_type'] == t), 'total_income'].median()"
   ]
  },
  {
   "cell_type": "markdown",
   "id": "877907c9",
   "metadata": {
    "deletable": false,
    "editable": false,
    "id": "89da5ece"
   },
   "source": [
    "### Обработка аномальных значений"
   ]
  },
  {
   "cell_type": "markdown",
   "id": "102111b8",
   "metadata": {
    "deletable": false,
    "editable": false,
    "id": "57964554"
   },
   "source": [
    "**Задание 6. В данных могут встречаться артефакты (аномалии) — значения, которые не отражают действительность и появились по какой-то ошибке. таким артефактом будет отрицательное количество дней трудового стажа в столбце `days_employed`. Для реальных данных это нормально. Обработайте значения в этом столбце: замените все отрицательные значения положительными с помощью метода `abs()`.**"
   ]
  },
  {
   "cell_type": "code",
   "execution_count": 6,
   "id": "1c1974f2",
   "metadata": {
    "deletable": false,
    "id": "f6f055bf"
   },
   "outputs": [],
   "source": [
    "data['days_employed'] = data['days_employed'].abs()"
   ]
  },
  {
   "cell_type": "markdown",
   "id": "39c3168f",
   "metadata": {
    "deletable": false,
    "editable": false,
    "id": "6107dd2f"
   },
   "source": [
    "**Задание 7. Для каждого типа занятости выведите медианное значение трудового стажа `days_employed` в днях.**"
   ]
  },
  {
   "cell_type": "code",
   "execution_count": 7,
   "id": "168fa575",
   "metadata": {
    "deletable": false,
    "id": "85a5faf6",
    "outputId": "801ef80e-522b-4668-f34e-565af7432bcf"
   },
   "outputs": [
    {
     "data": {
      "text/plain": [
       "income_type\n",
       "безработный        366413.652744\n",
       "в декрете            3296.759962\n",
       "госслужащий          2689.368353\n",
       "компаньон            1547.382223\n",
       "пенсионер          365213.306266\n",
       "предприниматель       520.848083\n",
       "сотрудник            1574.202821\n",
       "студент               578.751554\n",
       "Name: days_employed, dtype: float64"
      ]
     },
     "execution_count": 7,
     "metadata": {},
     "output_type": "execute_result"
    }
   ],
   "source": [
    "data.groupby('income_type')['days_employed'].agg('median')"
   ]
  },
  {
   "cell_type": "markdown",
   "id": "0c76e8a1",
   "metadata": {
    "deletable": false,
    "editable": false,
    "id": "38d1a030"
   },
   "source": [
    "У двух типов (безработные и пенсионеры) получатся аномально большие значения. Исправить такие значения сложно, поэтому оставьте их как есть. Тем более этот столбец не понадобится вам для исследования."
   ]
  },
  {
   "cell_type": "markdown",
   "id": "4b6dae60",
   "metadata": {
    "deletable": false,
    "editable": false,
    "id": "d8a9f147"
   },
   "source": [
    "**Задание 8. Выведите перечень уникальных значений столбца `children`.**"
   ]
  },
  {
   "cell_type": "code",
   "execution_count": 8,
   "id": "04e359dd",
   "metadata": {
    "deletable": false,
    "id": "ef5056eb",
    "outputId": "6975b15c-7f95-4697-d16d-a0c79b657b03"
   },
   "outputs": [
    {
     "data": {
      "text/plain": [
       "array([ 1,  0,  3,  2, -1,  4, 20,  5])"
      ]
     },
     "execution_count": 8,
     "metadata": {},
     "output_type": "execute_result"
    }
   ],
   "source": [
    "data['children'].unique()"
   ]
  },
  {
   "cell_type": "markdown",
   "id": "f5858462",
   "metadata": {
    "deletable": false,
    "editable": false,
    "id": "40b9ebf2"
   },
   "source": [
    "**Задание 9. В столбце `children` есть два аномальных значения. Удалите строки, в которых встречаются такие аномальные значения из датафрейма `data`.**"
   ]
  },
  {
   "cell_type": "code",
   "execution_count": 9,
   "id": "fd10fcac",
   "metadata": {
    "deletable": false,
    "id": "3ff9801d"
   },
   "outputs": [],
   "source": [
    "data = data[(data['children'] != -1) & (data['children'] != 20)]"
   ]
  },
  {
   "cell_type": "markdown",
   "id": "c19ccd8c",
   "metadata": {
    "deletable": false,
    "editable": false,
    "id": "bbc4d0ce"
   },
   "source": [
    "**Задание 10. Ещё раз выведите перечень уникальных значений столбца `children`, чтобы убедиться, что артефакты удалены.**"
   ]
  },
  {
   "cell_type": "code",
   "execution_count": 10,
   "id": "7a356392",
   "metadata": {
    "deletable": false,
    "id": "ad4fa8b7",
    "outputId": "b2097101-d49d-44d9-901b-32a65c9463d1"
   },
   "outputs": [
    {
     "data": {
      "text/plain": [
       "array([1, 0, 3, 2, 4, 5])"
      ]
     },
     "execution_count": 10,
     "metadata": {},
     "output_type": "execute_result"
    }
   ],
   "source": [
    "data['children'].unique()"
   ]
  },
  {
   "cell_type": "markdown",
   "id": "1d2059cd",
   "metadata": {
    "deletable": false,
    "editable": false,
    "id": "75440b63"
   },
   "source": [
    "### Удаление пропусков (продолжение)"
   ]
  },
  {
   "cell_type": "markdown",
   "id": "172ab250",
   "metadata": {
    "deletable": false,
    "editable": false,
    "id": "f4ea573f"
   },
   "source": [
    "**Задание 11. Заполните пропуски в столбце `days_employed` медианными значениями по каждого типа занятости `income_type`.**"
   ]
  },
  {
   "cell_type": "code",
   "execution_count": 11,
   "id": "5b83ad5c",
   "metadata": {
    "deletable": false,
    "id": "af6b1a7e"
   },
   "outputs": [],
   "source": [
    "for t in data['income_type'].unique():\n",
    "    data.loc[(data['income_type'] == t) & (data['days_employed'].isna()), 'days_employed'] = \\\n",
    "    data.loc[(data['income_type'] == t), 'days_employed'].median()"
   ]
  },
  {
   "cell_type": "markdown",
   "id": "1213f8c2",
   "metadata": {
    "deletable": false,
    "editable": false,
    "id": "2753f40d"
   },
   "source": [
    "**Задание 12. Убедитесь, что все пропуски заполнены. Проверьте себя и ещё раз выведите количество пропущенных значений для каждого столбца с помощью двух методов.**"
   ]
  },
  {
   "cell_type": "code",
   "execution_count": 12,
   "id": "6aea1606",
   "metadata": {
    "deletable": false,
    "id": "55f78bc2",
    "outputId": "8da1e4e1-358e-4e87-98c9-f261bce0a7b2"
   },
   "outputs": [
    {
     "data": {
      "text/plain": [
       "children            0\n",
       "days_employed       0\n",
       "dob_years           0\n",
       "education           0\n",
       "education_id        0\n",
       "family_status       0\n",
       "family_status_id    0\n",
       "gender              0\n",
       "income_type         0\n",
       "debt                0\n",
       "total_income        0\n",
       "purpose             0\n",
       "dtype: int64"
      ]
     },
     "execution_count": 12,
     "metadata": {},
     "output_type": "execute_result"
    }
   ],
   "source": [
    "data.isna().sum()"
   ]
  },
  {
   "cell_type": "markdown",
   "id": "da3e3afe",
   "metadata": {
    "deletable": false,
    "editable": false,
    "id": "ddc81e43"
   },
   "source": [
    "### Изменение типов данных"
   ]
  },
  {
   "cell_type": "markdown",
   "id": "c05efc44",
   "metadata": {
    "deletable": false,
    "editable": false,
    "id": "42d19d24"
   },
   "source": [
    "**Задание 13. Замените вещественный тип данных в столбце `total_income` на целочисленный с помощью метода `astype()`.**"
   ]
  },
  {
   "cell_type": "code",
   "execution_count": 13,
   "id": "27f4b4c8",
   "metadata": {
    "deletable": false,
    "id": "920b65ad"
   },
   "outputs": [],
   "source": [
    "data['total_income'] = data['total_income'].astype(int)"
   ]
  },
  {
   "cell_type": "markdown",
   "id": "9308f8b8",
   "metadata": {
    "deletable": false,
    "editable": false,
    "id": "80c420ba"
   },
   "source": [
    "### Обработка дубликатов"
   ]
  },
  {
   "cell_type": "markdown",
   "id": "1984687f",
   "metadata": {
    "deletable": false,
    "editable": false
   },
   "source": [
    "**Задание 14. Обработайте неявные дубликаты в столбце `education`. В этом столбце есть одни и те же значения, но записанные по-разному: с использованием заглавных и строчных букв. Приведите их к нижнему регистру. Проверьте остальные столбцы.**"
   ]
  },
  {
   "cell_type": "code",
   "execution_count": 14,
   "id": "f556c35f",
   "metadata": {
    "deletable": false
   },
   "outputs": [],
   "source": [
    "data['education'] = data['education'].str.lower()"
   ]
  },
  {
   "cell_type": "markdown",
   "id": "d116bfa4",
   "metadata": {
    "deletable": false,
    "editable": false,
    "id": "dc587695"
   },
   "source": [
    "**Задание 15. Выведите на экран количество строк-дубликатов в данных. Если такие строки присутствуют, удалите их.**"
   ]
  },
  {
   "cell_type": "code",
   "execution_count": 15,
   "id": "f785af47",
   "metadata": {
    "deletable": false,
    "id": "3ee445e4",
    "outputId": "9684deba-1934-42d1-99e1-cda61740f822"
   },
   "outputs": [
    {
     "data": {
      "text/plain": [
       "71"
      ]
     },
     "execution_count": 15,
     "metadata": {},
     "output_type": "execute_result"
    }
   ],
   "source": [
    "data.duplicated().sum()"
   ]
  },
  {
   "cell_type": "code",
   "execution_count": 16,
   "id": "51e53b68",
   "metadata": {
    "deletable": false,
    "id": "8575fe05"
   },
   "outputs": [],
   "source": [
    "data = data.drop_duplicates()"
   ]
  },
  {
   "cell_type": "markdown",
   "id": "43ebd286",
   "metadata": {
    "deletable": false,
    "editable": false,
    "id": "9904cf55"
   },
   "source": [
    "### Категоризация данных"
   ]
  },
  {
   "cell_type": "markdown",
   "id": "5c6e74fe",
   "metadata": {
    "deletable": false,
    "editable": false,
    "id": "72fcc8a2"
   },
   "source": [
    "**Задание 16. На основании диапазонов, указанных ниже, создайте в датафрейме `data` столбец `total_income_category` с категориями:**\n",
    "\n",
    "- 0–30000 — `'E'`;\n",
    "- 30001–50000 — `'D'`;\n",
    "- 50001–200000 — `'C'`;\n",
    "- 200001–1000000 — `'B'`;\n",
    "- 1000001 и выше — `'A'`.\n",
    "\n",
    "\n",
    "**Например, кредитополучателю с доходом 25000 нужно назначить категорию `'E'`, а клиенту, получающему 235000, — `'B'`. Используйте собственную функцию с именем `categorize_income()` и метод `apply()`.**"
   ]
  },
  {
   "cell_type": "code",
   "execution_count": 17,
   "id": "8ea0a012",
   "metadata": {
    "deletable": false,
    "id": "e1771346"
   },
   "outputs": [],
   "source": [
    "def categorize_income(income):\n",
    "    try:\n",
    "        if 0 <= income <= 30000:\n",
    "            return 'E'\n",
    "        elif 30001 <= income <= 50000:\n",
    "            return 'D'\n",
    "        elif 50001 <= income <= 200000:\n",
    "            return 'C'\n",
    "        elif 200001 <= income <= 1000000:\n",
    "            return 'B'\n",
    "        elif income >= 1000001:\n",
    "            return 'A'\n",
    "    except:\n",
    "        pass"
   ]
  },
  {
   "cell_type": "code",
   "execution_count": 18,
   "id": "3aef0f76",
   "metadata": {
    "deletable": false,
    "id": "d5f3586d"
   },
   "outputs": [],
   "source": [
    "data['total_income_category'] = data['total_income'].apply(categorize_income)"
   ]
  },
  {
   "cell_type": "markdown",
   "id": "10394f00",
   "metadata": {
    "deletable": false,
    "editable": false,
    "id": "dde49b5c"
   },
   "source": [
    "**Задание 17. Выведите на экран перечень уникальных целей взятия кредита из столбца `purpose`.**"
   ]
  },
  {
   "cell_type": "code",
   "execution_count": 19,
   "id": "1af2aff3",
   "metadata": {
    "deletable": false,
    "id": "f67ce9b3",
    "outputId": "673c12d9-7d7e-4ae0-9812-c622c89dd244"
   },
   "outputs": [
    {
     "data": {
      "text/plain": [
       "array(['покупка жилья', 'приобретение автомобиля',\n",
       "       'дополнительное образование', 'сыграть свадьбу',\n",
       "       'операции с жильем', 'образование', 'на проведение свадьбы',\n",
       "       'покупка жилья для семьи', 'покупка недвижимости',\n",
       "       'покупка коммерческой недвижимости', 'покупка жилой недвижимости',\n",
       "       'строительство собственной недвижимости', 'недвижимость',\n",
       "       'строительство недвижимости', 'на покупку подержанного автомобиля',\n",
       "       'на покупку своего автомобиля',\n",
       "       'операции с коммерческой недвижимостью',\n",
       "       'строительство жилой недвижимости', 'жилье',\n",
       "       'операции со своей недвижимостью', 'автомобили',\n",
       "       'заняться образованием', 'сделка с подержанным автомобилем',\n",
       "       'получение образования', 'автомобиль', 'свадьба',\n",
       "       'получение дополнительного образования', 'покупка своего жилья',\n",
       "       'операции с недвижимостью', 'получение высшего образования',\n",
       "       'свой автомобиль', 'сделка с автомобилем',\n",
       "       'профильное образование', 'высшее образование',\n",
       "       'покупка жилья для сдачи', 'на покупку автомобиля', 'ремонт жилью',\n",
       "       'заняться высшим образованием'], dtype=object)"
      ]
     },
     "execution_count": 19,
     "metadata": {},
     "output_type": "execute_result"
    }
   ],
   "source": [
    "data['purpose'].unique()"
   ]
  },
  {
   "cell_type": "markdown",
   "id": "2d542feb",
   "metadata": {
    "deletable": false,
    "editable": false,
    "id": "85d0aef0"
   },
   "source": [
    "**Задание 18. Создайте функцию, которая на основании данных из столбца `purpose` сформирует новый столбец `purpose_category`, в который войдут следующие категории:**\n",
    "\n",
    "- `'операции с автомобилем'`,\n",
    "- `'операции с недвижимостью'`,\n",
    "- `'проведение свадьбы'`,\n",
    "- `'получение образования'`.\n",
    "\n",
    "**Например, если в столбце `purpose` находится подстрока `'на покупку автомобиля'`, то в столбце `purpose_category` должна появиться строка `'операции с автомобилем'`.**\n",
    "\n",
    "**Используйте собственную функцию с именем `categorize_purpose()` и метод `apply()`. Изучите данные в столбце `purpose` и определите, какие подстроки помогут вам правильно определить категорию.**"
   ]
  },
  {
   "cell_type": "code",
   "execution_count": 20,
   "id": "e2e59fe2",
   "metadata": {
    "deletable": false,
    "id": "e149fab4"
   },
   "outputs": [],
   "source": [
    "def categorize_purpose(row):\n",
    "    try:\n",
    "        if 'автом' in row:\n",
    "            return 'операции с автомобилем'\n",
    "        elif 'жил' in row or 'недвиж' in row:\n",
    "            return 'операции с недвижимостью'\n",
    "        elif 'свад' in row:\n",
    "            return 'проведение свадьбы'\n",
    "        elif 'образов' in row:\n",
    "            return 'получение образования'\n",
    "    except:\n",
    "        return 'нет категории'"
   ]
  },
  {
   "cell_type": "code",
   "execution_count": 21,
   "id": "f6868769",
   "metadata": {
    "deletable": false,
    "id": "bf36e69b"
   },
   "outputs": [],
   "source": [
    "data['purpose_category'] = data['purpose'].apply(categorize_purpose)"
   ]
  },
  {
   "cell_type": "markdown",
   "id": "980a3297",
   "metadata": {},
   "source": [
    "<div class=\"alert alert-success\">\n",
    "<h2> Комментарий ревьюера <a class=\"tocSkip\"> </h2>\n",
    "\n",
    "<b>Отлично!✅:</b> Имран, молодец, отлично выполнил предобработку!\n",
    "</div>"
   ]
  },
  {
   "cell_type": "markdown",
   "id": "63bdf94a",
   "metadata": {
    "deletable": false,
    "editable": false,
    "id": "09b242bf"
   },
   "source": [
    "### Шаг 3. Исследуйте данные и ответьте на вопросы"
   ]
  },
  {
   "cell_type": "markdown",
   "id": "90c04385",
   "metadata": {
    "deletable": false,
    "editable": false,
    "id": "c5d66278"
   },
   "source": [
    "#### 3.1 Есть ли зависимость между количеством детей и возвратом кредита в срок?"
   ]
  },
  {
   "cell_type": "code",
   "execution_count": 22,
   "id": "da54be5d",
   "metadata": {
    "deletable": false,
    "id": "2cacfc4a"
   },
   "outputs": [
    {
     "data": {
      "text/html": [
       "<div>\n",
       "<style scoped>\n",
       "    .dataframe tbody tr th:only-of-type {\n",
       "        vertical-align: middle;\n",
       "    }\n",
       "\n",
       "    .dataframe tbody tr th {\n",
       "        vertical-align: top;\n",
       "    }\n",
       "\n",
       "    .dataframe thead th {\n",
       "        text-align: right;\n",
       "    }\n",
       "</style>\n",
       "<table border=\"1\" class=\"dataframe\">\n",
       "  <thead>\n",
       "    <tr style=\"text-align: right;\">\n",
       "      <th>debt</th>\n",
       "      <th>0</th>\n",
       "      <th>1</th>\n",
       "      <th>debt_percent</th>\n",
       "    </tr>\n",
       "    <tr>\n",
       "      <th>children</th>\n",
       "      <th></th>\n",
       "      <th></th>\n",
       "      <th></th>\n",
       "    </tr>\n",
       "  </thead>\n",
       "  <tbody>\n",
       "    <tr>\n",
       "      <th>0</th>\n",
       "      <td>13028.0</td>\n",
       "      <td>1063.0</td>\n",
       "      <td>0.075438</td>\n",
       "    </tr>\n",
       "    <tr>\n",
       "      <th>1</th>\n",
       "      <td>4364.0</td>\n",
       "      <td>444.0</td>\n",
       "      <td>0.092346</td>\n",
       "    </tr>\n",
       "    <tr>\n",
       "      <th>2</th>\n",
       "      <td>1858.0</td>\n",
       "      <td>194.0</td>\n",
       "      <td>0.094542</td>\n",
       "    </tr>\n",
       "    <tr>\n",
       "      <th>3</th>\n",
       "      <td>303.0</td>\n",
       "      <td>27.0</td>\n",
       "      <td>0.081818</td>\n",
       "    </tr>\n",
       "    <tr>\n",
       "      <th>4</th>\n",
       "      <td>37.0</td>\n",
       "      <td>4.0</td>\n",
       "      <td>0.097561</td>\n",
       "    </tr>\n",
       "    <tr>\n",
       "      <th>5</th>\n",
       "      <td>9.0</td>\n",
       "      <td>NaN</td>\n",
       "      <td>NaN</td>\n",
       "    </tr>\n",
       "  </tbody>\n",
       "</table>\n",
       "</div>"
      ],
      "text/plain": [
       "debt            0       1  debt_percent\n",
       "children                               \n",
       "0         13028.0  1063.0      0.075438\n",
       "1          4364.0   444.0      0.092346\n",
       "2          1858.0   194.0      0.094542\n",
       "3           303.0    27.0      0.081818\n",
       "4            37.0     4.0      0.097561\n",
       "5             9.0     NaN           NaN"
      ]
     },
     "metadata": {},
     "output_type": "display_data"
    }
   ],
   "source": [
    "data_pivot = data.pivot_table(index = 'children', columns = 'debt', values = 'gender', aggfunc = 'count')\n",
    "data_pivot['debt_percent'] = data_pivot[1]/(data_pivot[0] + data_pivot[1])\n",
    "display(data_pivot)"
   ]
  },
  {
   "cell_type": "markdown",
   "id": "5da266ea",
   "metadata": {},
   "source": [
    "<div class=\"alert alert-success\">\n",
    "<h2> Комментарий ревьюера <a class=\"tocSkip\"> </h2>\n",
    "\n",
    "<b>Отлично!✅:</b> Cупер, верно сгруппировал данные для анализа!\n",
    "\n",
    "</div>"
   ]
  },
  {
   "cell_type": "markdown",
   "id": "af2f5e12",
   "metadata": {},
   "source": [
    "<div class=\"alert alert-warning\">\n",
    "    <h2> Комментарий ревьюера <a class=\"tocSkip\"> </h2>\n",
    "    \n",
    "<b>Можно лучше⚠️:</b> Рекомендую использовать функцию `display()` вместо `print()` для вывода таблиц в Jupyter Notebook.\n",
    "</div>"
   ]
  },
  {
   "cell_type": "markdown",
   "id": "bf78736a",
   "metadata": {},
   "source": [
    " <div class=\"alert alert-info\"> <b>Комментарий студента: </b> \n",
    "    \n",
    "Спасибо за комментарий про dislpay - запомнил</div>"
   ]
  },
  {
   "cell_type": "markdown",
   "id": "83d9865f",
   "metadata": {},
   "source": [
    "<div class=\"alert alert-success\">\n",
    "<h2> Комментарий ревьюера v2<a class=\"tocSkip\"> </h2>\n",
    "\n",
    "<b>Отлично!✅:</b> Вот, так лучше!\n",
    "\n",
    "</div>"
   ]
  },
  {
   "cell_type": "markdown",
   "id": "53ebc041",
   "metadata": {
    "deletable": false,
    "id": "3a6b99ec"
   },
   "source": [
    "**Вывод: прослеживается зависимость между наличием детей и уровнем возврата кредита в срок - у заемщиков, которые не имеют детей уровень просрочки составляет 7,5%, тогда, как заемщики с 1 или 2-мя детьми (самые массовые категории с детьми) имеют уровень просрочки более 9%.\n",
    "При этом, можно отметить, что заемщики с 3-5 детьми выбиваются из общей картины, но их доли не существенны, и, следовательно не репрезентативны для общих выводов.** "
   ]
  },
  {
   "cell_type": "markdown",
   "id": "8ae05c68",
   "metadata": {},
   "source": [
    "<div class=\"alert alert-warning\">\n",
    "    <h2> Комментарий ревьюера <a class=\"tocSkip\"> </h2>\n",
    "    \n",
    "<b>Можно лучше⚠️:</b> Ты правильно обратил внимание на то, что выборки несбалансированны и сложно сделать общий вывод. Поэтому лучше, для выявления зависимости, сравнить самые многочисленные категории - семьи с 0, 1 и 2 детьми. У тебя не хватает общего вывода, если мы все обобщим то, что наблюдаем с ростом количества детей в семьях?\n",
    "</div>"
   ]
  },
  {
   "cell_type": "markdown",
   "id": "dd423cf7",
   "metadata": {},
   "source": [
    " <div class=\"alert alert-info\"> <b>Комментарий студента: </b> \n",
    "        \n",
    "Дополненный вывод - если сравнить самые многочисленные категории заемщиков - без детей, с 1 ребенком и 2-мя детьми, выходит следующее:\n",
    "    \n",
    "1) наблюдается значительная разница в уровне просроченных платежей между заемщиками без детей и с 1 ребенком: 7,5% против 9,2%. Выходит, что заемщик с 1 ребенком относительно на 26% хуже соблюдает свои обязательства, чем заемщики без детей.\n",
    "\n",
    "2) если сравнить заемщиков с 1 ребенком и 2-мя детьми: 9,23% против 9,45% - можно сделать вывод, что заемщики с двумя детьми немного хуже выполняют свои обязательства, на первый взгляд может показаться, что с ростом кол-ва детей ухудшается платежная дисциплина заемщиков, однако для однозначного вывода недостаточно данных по заемщикам с 3-мя, 4-мя детьми и тд  </div>"
   ]
  },
  {
   "cell_type": "markdown",
   "id": "dfacf5ae",
   "metadata": {},
   "source": [
    "<div class=\"alert alert-success\">\n",
    "<h2> Комментарий ревьюера v2<a class=\"tocSkip\"> </h2>\n",
    "\n",
    "<b>Отлично!✅:</b> Отлично!\n",
    "\n",
    "</div>"
   ]
  },
  {
   "cell_type": "markdown",
   "id": "c4df48eb",
   "metadata": {
    "deletable": false,
    "editable": false,
    "id": "97be82ca"
   },
   "source": [
    "#### 3.2 Есть ли зависимость между семейным положением и возвратом кредита в срок?"
   ]
  },
  {
   "cell_type": "code",
   "execution_count": 26,
   "id": "2949e26e",
   "metadata": {
    "deletable": false,
    "id": "dc3f7ee8"
   },
   "outputs": [
    {
     "data": {
      "text/html": [
       "<div>\n",
       "<style scoped>\n",
       "    .dataframe tbody tr th:only-of-type {\n",
       "        vertical-align: middle;\n",
       "    }\n",
       "\n",
       "    .dataframe tbody tr th {\n",
       "        vertical-align: top;\n",
       "    }\n",
       "\n",
       "    .dataframe thead th {\n",
       "        text-align: right;\n",
       "    }\n",
       "</style>\n",
       "<table border=\"1\" class=\"dataframe\">\n",
       "  <thead>\n",
       "    <tr style=\"text-align: right;\">\n",
       "      <th>debt</th>\n",
       "      <th>0</th>\n",
       "      <th>1</th>\n",
       "      <th>debt_percent</th>\n",
       "    </tr>\n",
       "    <tr>\n",
       "      <th>family_status</th>\n",
       "      <th></th>\n",
       "      <th></th>\n",
       "      <th></th>\n",
       "    </tr>\n",
       "  </thead>\n",
       "  <tbody>\n",
       "    <tr>\n",
       "      <th>Не женат / не замужем</th>\n",
       "      <td>2523</td>\n",
       "      <td>273</td>\n",
       "      <td>0.097639</td>\n",
       "    </tr>\n",
       "    <tr>\n",
       "      <th>в разводе</th>\n",
       "      <td>1105</td>\n",
       "      <td>84</td>\n",
       "      <td>0.070648</td>\n",
       "    </tr>\n",
       "    <tr>\n",
       "      <th>вдовец / вдова</th>\n",
       "      <td>888</td>\n",
       "      <td>63</td>\n",
       "      <td>0.066246</td>\n",
       "    </tr>\n",
       "    <tr>\n",
       "      <th>гражданский брак</th>\n",
       "      <td>3749</td>\n",
       "      <td>385</td>\n",
       "      <td>0.093130</td>\n",
       "    </tr>\n",
       "    <tr>\n",
       "      <th>женат / замужем</th>\n",
       "      <td>11334</td>\n",
       "      <td>927</td>\n",
       "      <td>0.075606</td>\n",
       "    </tr>\n",
       "  </tbody>\n",
       "</table>\n",
       "</div>"
      ],
      "text/plain": [
       "debt                       0    1  debt_percent\n",
       "family_status                                  \n",
       "Не женат / не замужем   2523  273      0.097639\n",
       "в разводе               1105   84      0.070648\n",
       "вдовец / вдова           888   63      0.066246\n",
       "гражданский брак        3749  385      0.093130\n",
       "женат / замужем        11334  927      0.075606"
      ]
     },
     "metadata": {},
     "output_type": "display_data"
    }
   ],
   "source": [
    "data_pivot_fam = data.pivot_table(index = 'family_status', columns = 'debt', values = 'gender', aggfunc = 'count')\n",
    "data_pivot_fam['debt_percent'] = data_pivot_fam[1]/(data_pivot_fam[0] + data_pivot_fam[1])\n",
    "display(data_pivot_fam)"
   ]
  },
  {
   "cell_type": "markdown",
   "id": "745a9c54",
   "metadata": {
    "deletable": false,
    "id": "1cef7837"
   },
   "source": [
    "**Вывод: в данном случае можно подвести следующий итог:\n",
    "1) женатые, а также разведенные - имеет более низкий уровень просрочки;\n",
    "\n",
    "2) не женатые, а также проживающие в гражданском браке - значительно хуже дисциплинированны в части соблюдения своих обязательств;\n",
    "\n",
    "3) самый лучший показатель соблюдения сроков платежа - у вдовствующих заемщиков, но они являются самой малочисленной категорией. В целом напрашивается вывод, что заемщики имеющие/имевшие узаконенные семейные отношения являются более дисциплинированными в части соблюдения своих обязательств** "
   ]
  },
  {
   "cell_type": "markdown",
   "id": "70e52a9b",
   "metadata": {},
   "source": [
    "<div class=\"alert alert-success\">\n",
    "<h2> Комментарий ревьюера <a class=\"tocSkip\"> </h2>\n",
    "\n",
    "<b>Отлично!✅:</b> Абсолютно правильно, заемщики состоящие или состоявшие в браке реже допускают просрочку!\n",
    "\n",
    "</div>"
   ]
  },
  {
   "cell_type": "markdown",
   "id": "f330ea1f",
   "metadata": {
    "deletable": false,
    "editable": false,
    "id": "1e8b2fca"
   },
   "source": [
    "#### 3.3 Есть ли зависимость между уровнем дохода и возвратом кредита в срок?"
   ]
  },
  {
   "cell_type": "code",
   "execution_count": 29,
   "id": "4ca09df5",
   "metadata": {
    "deletable": false,
    "id": "cd7e3720"
   },
   "outputs": [
    {
     "data": {
      "text/html": [
       "<div>\n",
       "<style scoped>\n",
       "    .dataframe tbody tr th:only-of-type {\n",
       "        vertical-align: middle;\n",
       "    }\n",
       "\n",
       "    .dataframe tbody tr th {\n",
       "        vertical-align: top;\n",
       "    }\n",
       "\n",
       "    .dataframe thead th {\n",
       "        text-align: right;\n",
       "    }\n",
       "</style>\n",
       "<table border=\"1\" class=\"dataframe\">\n",
       "  <thead>\n",
       "    <tr style=\"text-align: right;\">\n",
       "      <th>debt</th>\n",
       "      <th>0</th>\n",
       "      <th>1</th>\n",
       "      <th>debt_percent</th>\n",
       "    </tr>\n",
       "    <tr>\n",
       "      <th>total_income_category</th>\n",
       "      <th></th>\n",
       "      <th></th>\n",
       "      <th></th>\n",
       "    </tr>\n",
       "  </thead>\n",
       "  <tbody>\n",
       "    <tr>\n",
       "      <th>A</th>\n",
       "      <td>23</td>\n",
       "      <td>2</td>\n",
       "      <td>0.080000</td>\n",
       "    </tr>\n",
       "    <tr>\n",
       "      <th>B</th>\n",
       "      <td>4660</td>\n",
       "      <td>354</td>\n",
       "      <td>0.070602</td>\n",
       "    </tr>\n",
       "    <tr>\n",
       "      <th>C</th>\n",
       "      <td>14568</td>\n",
       "      <td>1353</td>\n",
       "      <td>0.084982</td>\n",
       "    </tr>\n",
       "    <tr>\n",
       "      <th>D</th>\n",
       "      <td>328</td>\n",
       "      <td>21</td>\n",
       "      <td>0.060172</td>\n",
       "    </tr>\n",
       "    <tr>\n",
       "      <th>E</th>\n",
       "      <td>20</td>\n",
       "      <td>2</td>\n",
       "      <td>0.090909</td>\n",
       "    </tr>\n",
       "  </tbody>\n",
       "</table>\n",
       "</div>"
      ],
      "text/plain": [
       "debt                       0     1  debt_percent\n",
       "total_income_category                           \n",
       "A                         23     2      0.080000\n",
       "B                       4660   354      0.070602\n",
       "C                      14568  1353      0.084982\n",
       "D                        328    21      0.060172\n",
       "E                         20     2      0.090909"
      ]
     },
     "metadata": {},
     "output_type": "display_data"
    },
    {
     "data": {
      "text/html": [
       "<div>\n",
       "<style scoped>\n",
       "    .dataframe tbody tr th:only-of-type {\n",
       "        vertical-align: middle;\n",
       "    }\n",
       "\n",
       "    .dataframe tbody tr th {\n",
       "        vertical-align: top;\n",
       "    }\n",
       "\n",
       "    .dataframe thead th {\n",
       "        text-align: right;\n",
       "    }\n",
       "</style>\n",
       "<table border=\"1\" class=\"dataframe\">\n",
       "  <thead>\n",
       "    <tr style=\"text-align: right;\">\n",
       "      <th>debt</th>\n",
       "      <th>0</th>\n",
       "      <th>1</th>\n",
       "      <th>debt_percent</th>\n",
       "    </tr>\n",
       "    <tr>\n",
       "      <th>total_income_category_c</th>\n",
       "      <th></th>\n",
       "      <th></th>\n",
       "      <th></th>\n",
       "    </tr>\n",
       "  </thead>\n",
       "  <tbody>\n",
       "    <tr>\n",
       "      <th>A</th>\n",
       "      <td>23</td>\n",
       "      <td>2</td>\n",
       "      <td>0.080000</td>\n",
       "    </tr>\n",
       "    <tr>\n",
       "      <th>B1</th>\n",
       "      <td>185</td>\n",
       "      <td>12</td>\n",
       "      <td>0.060914</td>\n",
       "    </tr>\n",
       "    <tr>\n",
       "      <th>B2</th>\n",
       "      <td>1160</td>\n",
       "      <td>92</td>\n",
       "      <td>0.073482</td>\n",
       "    </tr>\n",
       "    <tr>\n",
       "      <th>B3</th>\n",
       "      <td>3315</td>\n",
       "      <td>250</td>\n",
       "      <td>0.070126</td>\n",
       "    </tr>\n",
       "    <tr>\n",
       "      <th>C1</th>\n",
       "      <td>4335</td>\n",
       "      <td>403</td>\n",
       "      <td>0.085057</td>\n",
       "    </tr>\n",
       "    <tr>\n",
       "      <th>C2</th>\n",
       "      <td>6491</td>\n",
       "      <td>619</td>\n",
       "      <td>0.087060</td>\n",
       "    </tr>\n",
       "    <tr>\n",
       "      <th>C3</th>\n",
       "      <td>3742</td>\n",
       "      <td>331</td>\n",
       "      <td>0.081267</td>\n",
       "    </tr>\n",
       "    <tr>\n",
       "      <th>D</th>\n",
       "      <td>328</td>\n",
       "      <td>21</td>\n",
       "      <td>0.060172</td>\n",
       "    </tr>\n",
       "    <tr>\n",
       "      <th>E</th>\n",
       "      <td>20</td>\n",
       "      <td>2</td>\n",
       "      <td>0.090909</td>\n",
       "    </tr>\n",
       "  </tbody>\n",
       "</table>\n",
       "</div>"
      ],
      "text/plain": [
       "debt                        0    1  debt_percent\n",
       "total_income_category_c                         \n",
       "A                          23    2      0.080000\n",
       "B1                        185   12      0.060914\n",
       "B2                       1160   92      0.073482\n",
       "B3                       3315  250      0.070126\n",
       "C1                       4335  403      0.085057\n",
       "C2                       6491  619      0.087060\n",
       "C3                       3742  331      0.081267\n",
       "D                         328   21      0.060172\n",
       "E                          20    2      0.090909"
      ]
     },
     "metadata": {},
     "output_type": "display_data"
    }
   ],
   "source": [
    "data_pivot_inc = data.pivot_table(index = 'total_income_category', columns = 'debt', values = 'gender', aggfunc = 'count')\n",
    "data_pivot_inc['debt_percent'] = data_pivot_inc[1]/(data_pivot_inc[0] + data_pivot_inc[1])\n",
    "display(data_pivot_inc)\n",
    "\n",
    "\n",
    "# для интереса разобью категорию С на 3 (С1, С2, C3) и B аналогично:\n",
    "def categorize_income_c(income):\n",
    "    try:\n",
    "        if 0 <= income <= 30000:\n",
    "            return 'E'\n",
    "        elif 30001 <= income <= 50000:\n",
    "            return 'D'\n",
    "        elif 50001 <= income <= 100000:\n",
    "            return 'C3'\n",
    "        elif 100001 <= income <= 150000:\n",
    "            return 'C2'\n",
    "        elif 150001 <= income <= 200000:\n",
    "            return 'C1'\n",
    "        elif 200001 <= income <= 300000:\n",
    "            return 'B3'\n",
    "        elif 300001 <= income <= 500000:\n",
    "            return 'B2'\n",
    "        elif 500001 <= income <= 1000000:\n",
    "            return 'B1'\n",
    "        elif income >= 1000001:\n",
    "            return 'A'\n",
    "    except:\n",
    "        pass\n",
    "data['total_income_category_c'] = data['total_income'].apply(categorize_income_c)\n",
    "\n",
    "data_pivot_inc_c = data.pivot_table(index = 'total_income_category_c', columns = 'debt', values = 'gender', aggfunc = 'count')\n",
    "data_pivot_inc_c['debt_percent'] = data_pivot_inc_c[1]/(data_pivot_inc_c[0] + data_pivot_inc_c[1])\n",
    "display(data_pivot_inc_c)"
   ]
  },
  {
   "cell_type": "markdown",
   "id": "767cb4d4",
   "metadata": {
    "deletable": false,
    "id": "e8593def"
   },
   "source": [
    "**Выводы: зависимость есть\n",
    "\n",
    "1) категория С получилось слишком объемной - от 50 тыс до 200 тыс - здесь явно необходимо ее декомпозировать;\n",
    "\n",
    "2) если работать с тем, что есть выходит, что категория D (при небольшом доходе) имеет более низкий уровень просрочки, однако она недостаточно объёмна, чтобы можно было сделать однозначные выводы \n",
    "\n",
    "При более детальной разбивке, среди значимых по объему сегментов:\n",
    "1) самая дисциплинированная категория - B3 (200-300 тыс)\n",
    "\n",
    "2) самый высокий риск (а также и доля заемщиков) - в категории С2 (100-150 тыс) ** "
   ]
  },
  {
   "cell_type": "markdown",
   "id": "386910f7",
   "metadata": {},
   "source": [
    "<div class=\"alert alert-warning\">\n",
    "    <h2> Комментарий ревьюера <a class=\"tocSkip\"> </h2>\n",
    "    \n",
    "<b>Можно лучше⚠️:</b> Какую зависимость мы наблюдаем, если сравним самые многочисленные категории?\n",
    "</div>"
   ]
  },
  {
   "cell_type": "markdown",
   "id": "3b6940db",
   "metadata": {},
   "source": [
    " <div class=\"alert alert-info\"> <b>Комментарий студента: </b> \n",
    "        \n",
    "Дополненный вывод - если сравнить самые многочисленные категории заемщиков - c доходом от 200 000 до 1000 000 (B) и от 50 000 до 200 000 (С):\n",
    "    \n",
    "1) Категория B является наиболее дисциплинированной в погашения платежей\n",
    "\n",
    "2) Категория С является самой многочисленной, при этом имея практически самый худший уровень соблюдения своих обязательств. Учитывая, что данная категория занимает около 75% от всех клиентов, здесь необходим дополнительный анализ в связке с другими параметрами  </div>"
   ]
  },
  {
   "cell_type": "markdown",
   "id": "46fc6f11",
   "metadata": {},
   "source": [
    "<div class=\"alert alert-success\">\n",
    "<h2> Комментарий ревьюера v2<a class=\"tocSkip\"> </h2>\n",
    "\n",
    "<b>Отлично!✅:</b> Принято!\n",
    "\n",
    "</div>"
   ]
  },
  {
   "cell_type": "markdown",
   "id": "f148a881",
   "metadata": {
    "deletable": false,
    "editable": false,
    "id": "99ecbd1f"
   },
   "source": [
    "#### 3.4 Как разные цели кредита влияют на его возврат в срок?"
   ]
  },
  {
   "cell_type": "code",
   "execution_count": 25,
   "id": "1268c460",
   "metadata": {
    "deletable": false,
    "id": "2b687290"
   },
   "outputs": [
    {
     "name": "stdout",
     "output_type": "stream",
     "text": [
      "debt                         0    1  debt_percent\n",
      "purpose_category                                 \n",
      "операции с автомобилем    3879  400      0.093480\n",
      "операции с недвижимостью  9971  780      0.072551\n",
      "получение образования     3619  369      0.092528\n",
      "проведение свадьбы        2130  183      0.079118\n"
     ]
    }
   ],
   "source": [
    "data_pivot_p = data.pivot_table(index = 'purpose_category', columns = 'debt', values = 'gender', aggfunc = 'count')\n",
    "data_pivot_p['debt_percent'] = data_pivot_p[1]/(data_pivot_p[0] + data_pivot_p[1])\n",
    "print(data_pivot_p)"
   ]
  },
  {
   "cell_type": "markdown",
   "id": "2415033b",
   "metadata": {
    "deletable": false,
    "id": "b4bb2ce6"
   },
   "source": [
    "**Вывод: зависимость есть\n",
    "Заёмщики с целями автомобиль и образование хуже соблюдают свои обязательства, гипотетически по следующим причинам:\n",
    "1) авто - появляются расходы на содержание авто, а также вероятность форс-мажоров и непредвиденных трат\n",
    "\n",
    "2) образование - возможны проблемы с монетизацией полученного образования в начале деятельности\n",
    "** "
   ]
  },
  {
   "cell_type": "markdown",
   "id": "b5ce42bb",
   "metadata": {},
   "source": [
    "<div class=\"alert alert-success\">\n",
    "<h2> Комментарий ревьюера <a class=\"tocSkip\"> </h2>\n",
    "\n",
    "<b>Отлично!✅:</b> Молодец, верно определил более и менее рискованные для банка категории заемщиков по целям кредита!\n",
    "</div>"
   ]
  },
  {
   "cell_type": "markdown",
   "id": "424e5e9a",
   "metadata": {
    "deletable": false,
    "editable": false,
    "id": "09c3ac4c"
   },
   "source": [
    "#### 3.5 Приведите возможные причины появления пропусков в исходных данных."
   ]
  },
  {
   "cell_type": "markdown",
   "id": "1eefc5ba",
   "metadata": {
    "deletable": false,
    "id": "9da2ceda"
   },
   "source": [
    "*Ответ: есть пара наиболее вероятных вариантов:\n",
    "1) либо заемщик никогда не работал, и поэтому нет данных о стаже и доходе;\n",
    "\n",
    "2) либо заемщик на данный момент безработный, а данные о ранней деятельности не попали в период запроса датасета\n",
    "* "
   ]
  },
  {
   "cell_type": "markdown",
   "id": "37f531a1",
   "metadata": {},
   "source": [
    "<div class=\"alert alert-warning\">\n",
    "    <h2> Комментарий ревьюера <a class=\"tocSkip\"> </h2>\n",
    "    \n",
    "<b>Можно лучше⚠️:</b> Ты правильно указала человеческий фактор, как наиболее возможную причину образования пропусков в данных. Но какая причина еще может вызвать потерю данных? Например, если произошел какой-то сбой в системе.\n",
    "</div>"
   ]
  },
  {
   "cell_type": "markdown",
   "id": "921abc91",
   "metadata": {},
   "source": [
    " <div class=\"alert alert-info\"> <b>Комментарий студента: </b> \n",
    "        \n",
    "Да, совсем не подумал о техническом аспекте проблемы с пропущенными значениями  </div>"
   ]
  },
  {
   "cell_type": "markdown",
   "id": "cb0d9b91",
   "metadata": {},
   "source": [
    "<div class=\"alert alert-success\">\n",
    "<h2> Комментарий ревьюера v2<a class=\"tocSkip\"> </h2>\n",
    "\n",
    "<b>Отлично!✅:</b> Обычно, это два фактора - человеческий и технический!\n",
    "\n",
    "</div>"
   ]
  },
  {
   "cell_type": "markdown",
   "id": "aff46158",
   "metadata": {
    "deletable": false,
    "editable": false,
    "id": "7b0487d6"
   },
   "source": [
    "#### 3.6 Объясните, почему заполнить пропуски медианным значением — лучшее решение для количественных переменных."
   ]
  },
  {
   "cell_type": "markdown",
   "id": "2c4d3a7a",
   "metadata": {
    "deletable": false,
    "id": "7ecf2b8e"
   },
   "source": [
    "*Ответ: дело в том, что медиана дает более точную картину, для понимания общей ситуации, нежели среднее значение. Среднее значение может дать искаженную картину, когда несколько аномальных значений может сиильно повлиять на общую картину, тогда, как с медианой такого влияния не будет.* "
   ]
  },
  {
   "cell_type": "markdown",
   "id": "b9b9708e",
   "metadata": {},
   "source": [
    "<div class=\"alert alert-success\">\n",
    "<h2> Комментарий ревьюера <a class=\"tocSkip\"> </h2>\n",
    "\n",
    "<b>Отлично!✅:</b> Правильно, медиана менее чувствительна к выбросам!\n",
    "</div>"
   ]
  },
  {
   "cell_type": "markdown",
   "id": "4d141f1f",
   "metadata": {
    "deletable": false,
    "editable": false,
    "id": "6db5255a"
   },
   "source": [
    "### Шаг 4: общий вывод."
   ]
  },
  {
   "cell_type": "markdown",
   "id": "43192e4e",
   "metadata": {
    "deletable": false,
    "id": "bad65432"
   },
   "source": [
    "Итого по изученным параметрам:\n",
    "1) Наличие детей - заемщики без детей имеют более высокий риск просрочки платежа;\n",
    "\n",
    "2) Семейное положение - заемщики, официально не состоящие и не состоявшие в браке - имеют более высокий риск просрочки платежа;\n",
    "\n",
    "3) Уровень дохода - здесь картина получается не такой однозначной, но все же, сегмент С (а особенно С1 и С2) является более рисковым с точки зрения просрочки платежей;\n",
    "\n",
    "4) Цели кредита - Авто и Образование несут существенно более риски просрочки платежей.\n",
    "\n",
    "Анализ необходимо углублять, т.к. наверняка больше инсайдов появится при кросс-анализе параметров. "
   ]
  },
  {
   "cell_type": "markdown",
   "id": "294e94e7",
   "metadata": {},
   "source": [
    "<br/>\n",
    "<div class=\"alert alert-block alert-danger\">\n",
    "<h2> Комментарий ревьюера <a class=\"tocSkip\"></h2>\n",
    "<b>Необходимо исправить❌:</b>\n",
    "Имран, общий вывод - обязательный и важный элемент работы. Его нужно сформулировать, взяв основные результаты из всех шагов проекта. Начать нужно с того, с какими данными мы работали и какие действия провели на этапе предобработки, а закончить выявленными при ответе на вопросы зависимостями и рекомендациями заказчику по улучшению сбора данных и скоринга. Заказчик, зачастую, читает только общий вывод исследования - поэтому он должен быть максимально информативным. \n",
    "</div>"
   ]
  },
  {
   "cell_type": "markdown",
   "id": "c42fda29",
   "metadata": {},
   "source": [
    "<div class=\"alert alert-info\"> <b>Комментарий студента: </b> \n",
    "        \n",
    "Общий вывод, попытка 2\n",
    "\n",
    "Задача: определить, влияет ли семейное положение и количество детей клиента на факт погашения кредита в срок.\n",
    "    \n",
    "Данные для анализа: Таблица на 21525 строк и 12 столбцов:\n",
    "    \n",
    "    -children (количество детей)\n",
    "    -days_employed (кол-во дней рабочего стажа)\n",
    "    -dob_years (возраст клиента в годах)\n",
    "    -education (уровень образования клиента)\n",
    "    -education_id (идентификатор уровня образования клиента)\n",
    "    -family_status (семейное положение)\n",
    "    -family_status_id (идентификатор семейного положения)\n",
    "    -gender (пол клиента)\n",
    "    -income_type (тип занятости)\n",
    "    -debt (признак наличия просроченной задолженности в истории платежей)\n",
    "    -total_income (ежемесячный доход)\n",
    "    -purpose (цель кредита)\n",
    "        \n",
    "На этапе предобработки были выполнены следующие действия с данными:\n",
    "    \n",
    "    1. Обнаружены пустые значения для столбцов days_employed и total_income в кол-ве 2174. Для столбца days_employed также обнаружены аномальные значения (отрицательные):\n",
    "    а) пустые значения в столбце total_income были заполнены медианным значением соответствущего income_type;\n",
    "    б) отрицательные значения в столбце days_employed были заменены на положительные;\n",
    "    в) пустые значения в столбце days_employed были заполнены медианным значениям соответствущего income_type.\n",
    "    \n",
    "    2. Выявлены и удалены анмальные значения столбца children (отрицательное и подозрительно большое - 20).\n",
    "    \n",
    "    3. Изменен формат данных столбца total_income - с вещественного (float) на целочисленный (int).\n",
    "    \n",
    "    4. На основе столбца purpose создан новый столбце - purpose_category, в котором различные цели кредита были объеденены в несколько основных групп.\n",
    "    \n",
    "    5. На основе столбца total_income были созданы столбцы total_income_category и total_income_category_c, в которых различные уровни доходов клиента были объеденены в несколько основых групп.\n",
    "    \n",
    "    \n",
    "По итогам анализа сформированы следующие выводы:\n",
    "    \n",
    "    1) Наличие детей\n",
    "    -наблюдается значительная разница в уровне просроченных платежей между заемщиками без детей и с 1 ребенком: 7,5% против 9,2%. Выходит, что заемщик с 1 ребенком относительно на 26% хуже соблюдает свои обязательства, чем заемщики без детей.\n",
    "    -если сравнить заемщиков с 1 ребенком и 2-мя детьми: 9,23% против 9,45% - можно сделать вывод, что заемщики с двумя детьми немного хуже выполняют свои обязательства, на первый взгляд может показаться, что с ростом кол-ва детей ухудшается платежная дисциплина заемщиков, однако для однозначного вывода недостаточно данных по заемщикам с 3-мя, 4-мя детьми и тд\n",
    "\n",
    "    2) Семейное положение \n",
    "    -женатые, а также разведенные - имеет более низкий уровень просрочки, 7% и 7.6% соответственно;\n",
    "    -не женатые, а также проживающие в гражданском браке - значительно хуже дисциплинированны в части соблюдения своих обязательств, 9.8% и 9.3% соответственно;\n",
    "    -самый лучший показатель соблюдения сроков платежа - у вдовствующих заемщиков (6.6%), но они являются самой малочисленной категорией. В целом напрашивается вывод, что заемщики имеющие/имевшие узаконенные семейные отношения являются более дисциплинированными в части соблюдения своих обязательств.\n",
    "    \n",
    "    3) Уровень дохода, если сравнить самые многочисленные категории заемщиков - c доходом от 200 000 до 1000 000 (B) и от 50 000 до 200 000 (С)\n",
    "    -Категория B является наиболее дисциплинированной в погашения платежей - уровень просрочки 7.1% \n",
    "    -Категория С является самой многочисленной, при этом имея практически самый худший уровень соблюдения своих обязательств - уровень просрочки составлет 8.5%. Учитывая, что данная категория занимает около 75% от всех клиентов, здесь необходим дополнительный анализ в связке с другими параметрами.\n",
    "    \n",
    "    4) Цель кредита\n",
    "    - из 4х основных категорий по целям кредита, наиболее высокие риски просрочки у категорий 'операции с авто' и 'получение образования' - около 9.3% просрочки платежей против примерно 7.5% просрочки платежей у остальных категорий. \n",
    "</div>"
   ]
  },
  {
   "cell_type": "markdown",
   "id": "b01991ac",
   "metadata": {},
   "source": [
    "<div class=\"alert alert-success\">\n",
    "<h2> Комментарий ревьюера v2<a class=\"tocSkip\"> </h2>\n",
    "\n",
    "<b>Отлично!✅:</b> Имран, привет! Молодец, оперативно и верно доработал проект. Здорово, что учел не только замечания, но и рекомендации. Благодарю за обратную связь, работа принята, удачи в обучении!)\n",
    "\n",
    "</div>"
   ]
  },
  {
   "cell_type": "markdown",
   "id": "06144f59",
   "metadata": {},
   "source": [
    "<div style=\"border:solid Chocolate 2px; padding: 40px\">\n",
    "Имран, давай подведем итоги. Ты большой молодец, что старался и проделал такую большую работу. Шаг 1 и 2 ты выполнил без проблем, что очень хорошо:)\n",
    "    \n",
    "    Разберем над чем стоит поработать:\n",
    "    \n",
    "    1. Оформить общий вывод.\n",
    "    \n",
    "    2. Рекомендую:\n",
    "    - учитывать несбалансированность выборок;\n",
    "    - использовать функцию `display()` для вывода таблиц;\n",
    "    - указать еще один фактор, влияющий на появление пропусков.\n",
    "    \n",
    "    Пересмотри работу и исправь ошибки. Обязательно пиши, если я могу тебе еще чем-то помочь. Удачи!)\n",
    "  "
   ]
  },
  {
   "cell_type": "code",
   "execution_count": null,
   "id": "adbd65ae",
   "metadata": {},
   "outputs": [],
   "source": []
  }
 ],
 "metadata": {
  "ExecuteTimeLog": [
   {
    "duration": 59,
    "start_time": "2024-03-08T21:19:59.104Z"
   },
   {
    "duration": 482,
    "start_time": "2024-03-08T21:20:11.673Z"
   },
   {
    "duration": 20,
    "start_time": "2024-03-08T21:20:12.157Z"
   },
   {
    "duration": 15,
    "start_time": "2024-03-08T21:20:12.179Z"
   },
   {
    "duration": 11,
    "start_time": "2024-03-08T21:20:12.196Z"
   },
   {
    "duration": 54,
    "start_time": "2024-03-08T21:20:12.209Z"
   },
   {
    "duration": 4,
    "start_time": "2024-03-08T21:20:12.265Z"
   },
   {
    "duration": 9,
    "start_time": "2024-03-08T21:20:12.270Z"
   },
   {
    "duration": 4,
    "start_time": "2024-03-08T21:20:12.280Z"
   },
   {
    "duration": 8,
    "start_time": "2024-03-08T21:20:12.285Z"
   },
   {
    "duration": 10,
    "start_time": "2024-03-08T21:20:12.317Z"
   },
   {
    "duration": 37,
    "start_time": "2024-03-08T21:20:12.329Z"
   },
   {
    "duration": 9,
    "start_time": "2024-03-08T21:20:12.367Z"
   },
   {
    "duration": 3,
    "start_time": "2024-03-08T21:20:12.378Z"
   },
   {
    "duration": 36,
    "start_time": "2024-03-08T21:20:12.382Z"
   },
   {
    "duration": 26,
    "start_time": "2024-03-08T21:20:12.420Z"
   },
   {
    "duration": 16,
    "start_time": "2024-03-08T21:20:12.448Z"
   },
   {
    "duration": 3,
    "start_time": "2024-03-08T21:20:12.465Z"
   },
   {
    "duration": 11,
    "start_time": "2024-03-08T21:20:12.470Z"
   },
   {
    "duration": 7,
    "start_time": "2024-03-08T21:20:12.482Z"
   },
   {
    "duration": 28,
    "start_time": "2024-03-08T21:20:12.491Z"
   },
   {
    "duration": 16,
    "start_time": "2024-03-08T21:20:12.521Z"
   },
   {
    "duration": 3,
    "start_time": "2024-03-08T21:20:12.538Z"
   },
   {
    "duration": 9,
    "start_time": "2024-03-08T21:20:12.542Z"
   },
   {
    "duration": 4,
    "start_time": "2024-03-08T21:20:12.553Z"
   },
   {
    "duration": 9,
    "start_time": "2024-03-08T21:20:12.559Z"
   },
   {
    "duration": 7,
    "start_time": "2024-03-08T21:22:05.402Z"
   },
   {
    "duration": 31,
    "start_time": "2024-03-08T21:22:27.712Z"
   },
   {
    "duration": 67,
    "start_time": "2024-03-08T21:23:13.170Z"
   },
   {
    "duration": 72,
    "start_time": "2024-03-08T21:23:20.882Z"
   },
   {
    "duration": 5,
    "start_time": "2024-03-08T21:23:26.227Z"
   },
   {
    "duration": 77,
    "start_time": "2024-03-08T21:27:12.977Z"
   },
   {
    "duration": 64,
    "start_time": "2024-03-08T21:27:52.122Z"
   },
   {
    "duration": 20,
    "start_time": "2024-03-08T21:27:58.952Z"
   },
   {
    "duration": 8,
    "start_time": "2024-03-08T21:29:22.659Z"
   },
   {
    "duration": 22,
    "start_time": "2024-03-08T21:29:27.857Z"
   },
   {
    "duration": 23,
    "start_time": "2024-03-08T21:30:08.216Z"
   },
   {
    "duration": 15,
    "start_time": "2024-03-08T21:30:22.657Z"
   },
   {
    "duration": 2,
    "start_time": "2024-03-08T21:32:34.811Z"
   },
   {
    "duration": 12,
    "start_time": "2024-03-08T21:32:41.065Z"
   },
   {
    "duration": 18,
    "start_time": "2024-03-08T21:33:01.744Z"
   },
   {
    "duration": 14,
    "start_time": "2024-03-08T21:34:26.162Z"
   },
   {
    "duration": 17,
    "start_time": "2024-03-08T21:34:37.256Z"
   },
   {
    "duration": 17,
    "start_time": "2024-03-08T21:42:36.152Z"
   },
   {
    "duration": 17,
    "start_time": "2024-03-08T21:43:02.552Z"
   },
   {
    "duration": 16,
    "start_time": "2024-03-08T21:51:49.272Z"
   },
   {
    "duration": 29,
    "start_time": "2024-03-08T22:00:14.666Z"
   },
   {
    "duration": 54,
    "start_time": "2024-03-08T22:01:08.003Z"
   },
   {
    "duration": 54,
    "start_time": "2024-03-08T22:03:04.259Z"
   },
   {
    "duration": 49,
    "start_time": "2024-03-08T22:03:11.926Z"
   },
   {
    "duration": 44,
    "start_time": "2024-03-08T22:03:47.723Z"
   },
   {
    "duration": 64,
    "start_time": "2024-03-08T22:05:02.386Z"
   },
   {
    "duration": 37,
    "start_time": "2024-03-08T22:05:10.252Z"
   },
   {
    "duration": 71,
    "start_time": "2024-03-08T22:05:26.898Z"
   },
   {
    "duration": 21,
    "start_time": "2024-03-08T22:11:50.200Z"
   },
   {
    "duration": 637,
    "start_time": "2024-03-13T06:51:45.330Z"
   },
   {
    "duration": 25,
    "start_time": "2024-03-13T06:51:45.968Z"
   },
   {
    "duration": 17,
    "start_time": "2024-03-13T06:51:45.994Z"
   },
   {
    "duration": 10,
    "start_time": "2024-03-13T06:51:46.013Z"
   },
   {
    "duration": 37,
    "start_time": "2024-03-13T06:51:46.026Z"
   },
   {
    "duration": 3,
    "start_time": "2024-03-13T06:51:46.081Z"
   },
   {
    "duration": 10,
    "start_time": "2024-03-13T06:51:46.086Z"
   },
   {
    "duration": 4,
    "start_time": "2024-03-13T06:51:46.097Z"
   },
   {
    "duration": 13,
    "start_time": "2024-03-13T06:51:46.103Z"
   },
   {
    "duration": 5,
    "start_time": "2024-03-13T06:51:46.117Z"
   },
   {
    "duration": 61,
    "start_time": "2024-03-13T06:51:46.124Z"
   },
   {
    "duration": 10,
    "start_time": "2024-03-13T06:51:46.187Z"
   },
   {
    "duration": 4,
    "start_time": "2024-03-13T06:51:46.198Z"
   },
   {
    "duration": 22,
    "start_time": "2024-03-13T06:51:46.204Z"
   },
   {
    "duration": 48,
    "start_time": "2024-03-13T06:51:46.227Z"
   },
   {
    "duration": 22,
    "start_time": "2024-03-13T06:51:46.277Z"
   },
   {
    "duration": 4,
    "start_time": "2024-03-13T06:51:46.301Z"
   },
   {
    "duration": 14,
    "start_time": "2024-03-13T06:51:46.307Z"
   },
   {
    "duration": 6,
    "start_time": "2024-03-13T06:51:46.322Z"
   },
   {
    "duration": 3,
    "start_time": "2024-03-13T06:51:46.329Z"
   },
   {
    "duration": 12,
    "start_time": "2024-03-13T06:51:46.334Z"
   },
   {
    "duration": 46,
    "start_time": "2024-03-13T06:51:46.347Z"
   },
   {
    "duration": 16,
    "start_time": "2024-03-13T06:51:46.395Z"
   },
   {
    "duration": 44,
    "start_time": "2024-03-13T06:51:46.412Z"
   },
   {
    "duration": 38,
    "start_time": "2024-03-13T06:51:46.458Z"
   },
   {
    "duration": 19,
    "start_time": "2024-03-13T06:52:14.735Z"
   },
   {
    "duration": 41,
    "start_time": "2024-03-13T06:52:25.660Z"
   },
   {
    "duration": 86,
    "start_time": "2024-03-13T07:19:19.539Z"
   },
   {
    "duration": 48,
    "start_time": "2024-03-13T07:19:29.337Z"
   }
  ],
  "colab": {
   "name": "dpp_template_part2.ipynb",
   "provenance": []
  },
  "kernelspec": {
   "display_name": "Python 3 (ipykernel)",
   "language": "python",
   "name": "python3"
  },
  "language_info": {
   "codemirror_mode": {
    "name": "ipython",
    "version": 3
   },
   "file_extension": ".py",
   "mimetype": "text/x-python",
   "name": "python",
   "nbconvert_exporter": "python",
   "pygments_lexer": "ipython3",
   "version": "3.9.5"
  },
  "toc": {
   "base_numbering": 1,
   "nav_menu": {},
   "number_sections": true,
   "sideBar": true,
   "skip_h1_title": true,
   "title_cell": "Table of Contents",
   "title_sidebar": "Contents",
   "toc_cell": false,
   "toc_position": {},
   "toc_section_display": true,
   "toc_window_display": false
  }
 },
 "nbformat": 4,
 "nbformat_minor": 5
}
