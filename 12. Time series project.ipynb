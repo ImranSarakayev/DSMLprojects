{
 "cells": [
  {
   "cell_type": "markdown",
   "metadata": {
    "toc": true
   },
   "source": [
    "<h1>Содержание<span class=\"tocSkip\"></span></h1>\n",
    "<div class=\"toc\"><ul class=\"toc-item\"><li><span><a href=\"#Подготовка\" data-toc-modified-id=\"Подготовка-1\"><span class=\"toc-item-num\">1&nbsp;&nbsp;</span>Подготовка</a></span></li><li><span><a href=\"#Анализ\" data-toc-modified-id=\"Анализ-2\"><span class=\"toc-item-num\">2&nbsp;&nbsp;</span>Анализ</a></span><ul class=\"toc-item\"><li><span><a href=\"#Скользящее-среднее\" data-toc-modified-id=\"Скользящее-среднее-2.1\"><span class=\"toc-item-num\">2.1&nbsp;&nbsp;</span>Скользящее среднее</a></span></li><li><span><a href=\"#Тренды/сезонность\" data-toc-modified-id=\"Тренды/сезонность-2.2\"><span class=\"toc-item-num\">2.2&nbsp;&nbsp;</span>Тренды/сезонность</a></span></li><li><span><a href=\"#Стационарные-ряды\" data-toc-modified-id=\"Стационарные-ряды-2.3\"><span class=\"toc-item-num\">2.3&nbsp;&nbsp;</span>Стационарные ряды</a></span></li></ul></li><li><span><a href=\"#Обучение\" data-toc-modified-id=\"Обучение-3\"><span class=\"toc-item-num\">3&nbsp;&nbsp;</span>Обучение</a></span><ul class=\"toc-item\"><li><span><a href=\"#Добавление-признаков\" data-toc-modified-id=\"Добавление-признаков-3.1\"><span class=\"toc-item-num\">3.1&nbsp;&nbsp;</span>Добавление признаков</a></span></li><li><span><a href=\"#Переходим-к-моделям\" data-toc-modified-id=\"Переходим-к-моделям-3.2\"><span class=\"toc-item-num\">3.2&nbsp;&nbsp;</span>Переходим к моделям</a></span><ul class=\"toc-item\"><li><span><a href=\"#Датасет-New\" data-toc-modified-id=\"Датасет-New-3.2.1\"><span class=\"toc-item-num\">3.2.1&nbsp;&nbsp;</span>Датасет New</a></span><ul class=\"toc-item\"><li><span><a href=\"#Проверяем-CatBoost\" data-toc-modified-id=\"Проверяем-CatBoost-3.2.1.1\"><span class=\"toc-item-num\">3.2.1.1&nbsp;&nbsp;</span>Проверяем CatBoost</a></span></li><li><span><a href=\"#Проверяем-LighGBM\" data-toc-modified-id=\"Проверяем-LighGBM-3.2.1.2\"><span class=\"toc-item-num\">3.2.1.2&nbsp;&nbsp;</span>Проверяем LighGBM</a></span></li><li><span><a href=\"#Проверяем-RandomForest\" data-toc-modified-id=\"Проверяем-RandomForest-3.2.1.3\"><span class=\"toc-item-num\">3.2.1.3&nbsp;&nbsp;</span>Проверяем RandomForest</a></span></li><li><span><a href=\"#Итоги\" data-toc-modified-id=\"Итоги-3.2.1.4\"><span class=\"toc-item-num\">3.2.1.4&nbsp;&nbsp;</span>Итоги</a></span></li></ul></li><li><span><a href=\"#Набор-параметров-датасета-№1\" data-toc-modified-id=\"Набор-параметров-датасета-№1-3.2.2\"><span class=\"toc-item-num\">3.2.2&nbsp;&nbsp;</span><del>Набор параметров датасета №1</del></a></span><ul class=\"toc-item\"><li><span><a href=\"#Формируем-выборки-для-модели\" data-toc-modified-id=\"Формируем-выборки-для-модели-3.2.2.1\"><span class=\"toc-item-num\">3.2.2.1&nbsp;&nbsp;</span>Формируем выборки для модели</a></span></li><li><span><a href=\"#Испытываем-CatBoost-с-перебором-гиперпараметров\" data-toc-modified-id=\"Испытываем-CatBoost-с-перебором-гиперпараметров-3.2.2.2\"><span class=\"toc-item-num\">3.2.2.2&nbsp;&nbsp;</span>Испытываем CatBoost с перебором гиперпараметров</a></span></li><li><span><a href=\"#Испытываем-LightGBM-с-перебором-гиперпараметров\" data-toc-modified-id=\"Испытываем-LightGBM-с-перебором-гиперпараметров-3.2.2.3\"><span class=\"toc-item-num\">3.2.2.3&nbsp;&nbsp;</span>Испытываем LightGBM с перебором гиперпараметров</a></span></li><li><span><a href=\"#Испытываем-RandomForest-с-перебором-гиперпараметров\" data-toc-modified-id=\"Испытываем-RandomForest-с-перебором-гиперпараметров-3.2.2.4\"><span class=\"toc-item-num\">3.2.2.4&nbsp;&nbsp;</span>Испытываем RandomForest с перебором гиперпараметров</a></span></li></ul></li><li><span><a href=\"#Набор-параметров-датасета-№2\" data-toc-modified-id=\"Набор-параметров-датасета-№2-3.2.3\"><span class=\"toc-item-num\">3.2.3&nbsp;&nbsp;</span><del>Набор параметров датасета №2</del></a></span><ul class=\"toc-item\"><li><span><a href=\"#Формируем-выборки-для-модели\" data-toc-modified-id=\"Формируем-выборки-для-модели-3.2.3.1\"><span class=\"toc-item-num\">3.2.3.1&nbsp;&nbsp;</span>Формируем выборки для модели</a></span></li><li><span><a href=\"#Испытываем-CatBoost-с-перебором-гиперпараметров\" data-toc-modified-id=\"Испытываем-CatBoost-с-перебором-гиперпараметров-3.2.3.2\"><span class=\"toc-item-num\">3.2.3.2&nbsp;&nbsp;</span>Испытываем CatBoost с перебором гиперпараметров</a></span></li><li><span><a href=\"#Испытываем-LightGBM-с-перебором-гиперпараметров\" data-toc-modified-id=\"Испытываем-LightGBM-с-перебором-гиперпараметров-3.2.3.3\"><span class=\"toc-item-num\">3.2.3.3&nbsp;&nbsp;</span>Испытываем LightGBM с перебором гиперпараметров</a></span></li><li><span><a href=\"#Испытываем-RandomForest-с-перебором-гиперпараметров\" data-toc-modified-id=\"Испытываем-RandomForest-с-перебором-гиперпараметров-3.2.3.4\"><span class=\"toc-item-num\">3.2.3.4&nbsp;&nbsp;</span>Испытываем RandomForest с перебором гиперпараметров</a></span></li></ul></li><li><span><a href=\"#Набор-параметров-датасета-№3\" data-toc-modified-id=\"Набор-параметров-датасета-№3-3.2.4\"><span class=\"toc-item-num\">3.2.4&nbsp;&nbsp;</span><del>Набор параметров датасета №3</del></a></span><ul class=\"toc-item\"><li><span><a href=\"#Формируем-выборки-для-модели\" data-toc-modified-id=\"Формируем-выборки-для-модели-3.2.4.1\"><span class=\"toc-item-num\">3.2.4.1&nbsp;&nbsp;</span>Формируем выборки для модели</a></span></li><li><span><a href=\"#Испытываем-CatBoost-с-перебором-гиперпараметров\" data-toc-modified-id=\"Испытываем-CatBoost-с-перебором-гиперпараметров-3.2.4.2\"><span class=\"toc-item-num\">3.2.4.2&nbsp;&nbsp;</span>Испытываем CatBoost с перебором гиперпараметров</a></span></li><li><span><a href=\"#Испытываем-LightGBM-с-перебором-гиперпараметров\" data-toc-modified-id=\"Испытываем-LightGBM-с-перебором-гиперпараметров-3.2.4.3\"><span class=\"toc-item-num\">3.2.4.3&nbsp;&nbsp;</span>Испытываем LightGBM с перебором гиперпараметров</a></span></li><li><span><a href=\"#Испытываем-RandomForest-с-перебором-гиперпараметров\" data-toc-modified-id=\"Испытываем-RandomForest-с-перебором-гиперпараметров-3.2.4.4\"><span class=\"toc-item-num\">3.2.4.4&nbsp;&nbsp;</span>Испытываем RandomForest с перебором гиперпараметров</a></span></li></ul></li></ul></li><li><span><a href=\"#Подведем-итоги\" data-toc-modified-id=\"Подведем-итоги-3.3\"><span class=\"toc-item-num\">3.3&nbsp;&nbsp;</span>Подведем итоги</a></span></li></ul></li><li><span><a href=\"#Тестирование\" data-toc-modified-id=\"Тестирование-4\"><span class=\"toc-item-num\">4&nbsp;&nbsp;</span>Тестирование</a></span></li><li><span><a href=\"#Итоги-проекта\" data-toc-modified-id=\"Итоги-проекта-5\"><span class=\"toc-item-num\">5&nbsp;&nbsp;</span>Итоги проекта</a></span></li><li><span><a href=\"#Чек-лист-проверки\" data-toc-modified-id=\"Чек-лист-проверки-6\"><span class=\"toc-item-num\">6&nbsp;&nbsp;</span>Чек-лист проверки</a></span></li></ul></div>"
   ]
  },
  {
   "cell_type": "markdown",
   "metadata": {},
   "source": [
    "<div class=\"alert alert-info\">\n",
    "<font size=\"5\"><b>Комментарий ревьюера</b></font>\n",
    "\n",
    "Привет Имран! Меня зовут Марат, и я буду твоим ревьюером. Спешу сообщить что все ключевые этапы в работе выполнены,  с задачей тебе удалось справиться. По поводу обращения - в IT сфере принято общаться на «ты» :) Но, если привычней на «вы», дай знать. Как ревьюера моя задача помочь тебе в развитии, дав хорошие советы. Я внимательно посмотрю твой код, ознакомлюсь с твоими выводами и оставлю комментарии. Где то могу предложить небольшие исправление в коде, но ненавязчиво. Где потребуются уточнения, я оставлю много наводящих вопросов. Они помогут тебя с поиском верного решения.\n",
    "\n",
    "Все мои комментарии размечены по цветам, для лучшего восприятия. \n",
    "    \n",
    "<div class=\"alert alert-success\">Зеленым цветом и словом «Успех» отмечены особо удачные и элегантные решения, которыми ты можешь гордиться. </div>\n",
    "        \n",
    "<div class=\"alert alert-warning\">Желтым и значком словом «Совет», помечены решения у которых есть альтернативные решения, более оптимальные. Ты можешь найти их сразу и доработать проект, или отложить это на потом, для будущих проектах. Проект будет принят и без их доработки. </div>\n",
    "        \n",
    "<div class=\"alert alert-danger\"> Красным цветом и значком словом «Ошибка» помечу твои решения, на которые стоит обратить внимание прежде всего. После их доработки проект будет принят. </div>\n",
    "        \n",
    "Залог успеха - работа сообща, взаимное уважение и работа в диалоге. Поэтому, помечай свои ответные комментарии на мои реплики заметным цветом или курсивом, так мне будет легче их отслеживать. Пожалуйста, не изменяй и не удаляй мои комментарии. Все это поможет выполнить повторную проверку быстрей.\n",
    "\n",
    "</div>"
   ]
  },
  {
   "cell_type": "markdown",
   "metadata": {},
   "source": [
    "<div class=\"alert alert-block alert-info\">\n",
    "<b>Комментарий студента:</b> \n",
    "    \n",
    "Марат, привет! Приятно познакомиться, конечно, можем на \"ты\".\n",
    "</div>"
   ]
  },
  {
   "cell_type": "markdown",
   "metadata": {},
   "source": [
    "<div class=\"alert alert-success\">\n",
    "<font size=\"5\"><b>Комментарий ревьюераV2</b></font>\n",
    "\n",
    "\n",
    "\n",
    "Успех 👍:\n",
    "\n",
    "\n",
    "\n",
    "Привет Имран!  Взаимно\n",
    "    \n",
    "\n",
    "\n",
    " "
   ]
  },
  {
   "cell_type": "markdown",
   "metadata": {},
   "source": [
    "#  Прогнозирование заказов такси"
   ]
  },
  {
   "cell_type": "markdown",
   "metadata": {},
   "source": [
    "Компания «Чётенькое такси» собрала исторические данные о заказах такси в аэропортах. Чтобы привлекать больше водителей в период пиковой нагрузки, нужно спрогнозировать количество заказов такси на следующий час. Постройте модель для такого предсказания.\n",
    "\n",
    "Значение метрики *RMSE* на тестовой выборке должно быть не больше 48.\n",
    "\n",
    "Вам нужно:\n",
    "\n",
    "1. Загрузить данные и выполнить их ресемплирование по одному часу.\n",
    "2. Проанализировать данные.\n",
    "3. Обучить разные модели с различными гиперпараметрами. Сделать тестовую выборку размером 10% от исходных данных.\n",
    "4. Проверить данные на тестовой выборке и сделать выводы.\n",
    "\n",
    "\n",
    "Данные лежат в файле `taxi.csv`. Количество заказов находится в столбце `num_orders` (от англ. *number of orders*, «число заказов»)."
   ]
  },
  {
   "cell_type": "code",
   "execution_count": 1,
   "metadata": {},
   "outputs": [],
   "source": [
    "import pandas as pd\n",
    "import matplotlib.pyplot as plt\n",
    "import numpy as np\n",
    "import seaborn as sns\n",
    "import sklearn\n",
    "from numpy.random import RandomState\n",
    "from statsmodels.tsa.seasonal import seasonal_decompose\n",
    "from statsmodels.graphics.tsaplots import plot_acf\n",
    "\n",
    "from sklearn.metrics import mean_squared_error, make_scorer\n",
    "from sklearn.model_selection import (train_test_split, \n",
    "                                     TimeSeriesSplit, \n",
    "                                     GridSearchCV)\n",
    "from sklearn.ensemble import RandomForestRegressor\n",
    "from sklearn.linear_model import LinearRegression\n",
    "from sklearn.dummy import DummyRegressor\n",
    "from sklearn.inspection import permutation_importance\n",
    "from catboost import CatBoostRegressor\n",
    "from lightgbm import LGBMRegressor\n",
    "from statsmodels.tsa.stattools import adfuller\n",
    "\n",
    "import warnings\n",
    "warnings.filterwarnings('ignore')"
   ]
  },
  {
   "cell_type": "markdown",
   "metadata": {},
   "source": [
    "## Подготовка"
   ]
  },
  {
   "cell_type": "code",
   "execution_count": 2,
   "metadata": {},
   "outputs": [
    {
     "data": {
      "text/plain": [
       "True"
      ]
     },
     "execution_count": 2,
     "metadata": {},
     "output_type": "execute_result"
    }
   ],
   "source": [
    "data = pd.read_csv('/datasets/taxi.csv', index_col=[0], parse_dates=[0])\n",
    "data.sort_index(inplace=True)\n",
    "data.index.is_monotonic"
   ]
  },
  {
   "cell_type": "markdown",
   "metadata": {},
   "source": [
    "<div class=\"alert alert-success\">\n",
    "<font size=\"5\"><b>Комментарий ревьюера</b></font>\n",
    "\n",
    "\n",
    "\n",
    "Успех 👍:\n",
    "\n",
    "\n",
    " \n",
    "👍 index_col=[0], parse_dates=[0]\n",
    "\n",
    "\n",
    " "
   ]
  },
  {
   "cell_type": "code",
   "execution_count": 3,
   "metadata": {},
   "outputs": [
    {
     "name": "stdout",
     "output_type": "stream",
     "text": [
      "<class 'pandas.core.frame.DataFrame'>\n",
      "DatetimeIndex: 26496 entries, 2018-03-01 00:00:00 to 2018-08-31 23:50:00\n",
      "Data columns (total 1 columns):\n",
      " #   Column      Non-Null Count  Dtype\n",
      "---  ------      --------------  -----\n",
      " 0   num_orders  26496 non-null  int64\n",
      "dtypes: int64(1)\n",
      "memory usage: 414.0 KB\n"
     ]
    },
    {
     "data": {
      "text/plain": [
       "None"
      ]
     },
     "metadata": {},
     "output_type": "display_data"
    },
    {
     "data": {
      "text/html": [
       "<div>\n",
       "<style scoped>\n",
       "    .dataframe tbody tr th:only-of-type {\n",
       "        vertical-align: middle;\n",
       "    }\n",
       "\n",
       "    .dataframe tbody tr th {\n",
       "        vertical-align: top;\n",
       "    }\n",
       "\n",
       "    .dataframe thead th {\n",
       "        text-align: right;\n",
       "    }\n",
       "</style>\n",
       "<table border=\"1\" class=\"dataframe\">\n",
       "  <thead>\n",
       "    <tr style=\"text-align: right;\">\n",
       "      <th></th>\n",
       "      <th>num_orders</th>\n",
       "    </tr>\n",
       "    <tr>\n",
       "      <th>datetime</th>\n",
       "      <th></th>\n",
       "    </tr>\n",
       "  </thead>\n",
       "  <tbody>\n",
       "    <tr>\n",
       "      <th>2018-03-01 00:00:00</th>\n",
       "      <td>9</td>\n",
       "    </tr>\n",
       "    <tr>\n",
       "      <th>2018-03-01 00:10:00</th>\n",
       "      <td>14</td>\n",
       "    </tr>\n",
       "    <tr>\n",
       "      <th>2018-03-01 00:20:00</th>\n",
       "      <td>28</td>\n",
       "    </tr>\n",
       "    <tr>\n",
       "      <th>2018-03-01 00:30:00</th>\n",
       "      <td>20</td>\n",
       "    </tr>\n",
       "    <tr>\n",
       "      <th>2018-03-01 00:40:00</th>\n",
       "      <td>32</td>\n",
       "    </tr>\n",
       "  </tbody>\n",
       "</table>\n",
       "</div>"
      ],
      "text/plain": [
       "                     num_orders\n",
       "datetime                       \n",
       "2018-03-01 00:00:00           9\n",
       "2018-03-01 00:10:00          14\n",
       "2018-03-01 00:20:00          28\n",
       "2018-03-01 00:30:00          20\n",
       "2018-03-01 00:40:00          32"
      ]
     },
     "metadata": {},
     "output_type": "display_data"
    }
   ],
   "source": [
    "display(data.info(), \n",
    "        data.head())"
   ]
  },
  {
   "cell_type": "code",
   "execution_count": 4,
   "metadata": {},
   "outputs": [
    {
     "name": "stdout",
     "output_type": "stream",
     "text": [
      "<class 'pandas.core.frame.DataFrame'>\n",
      "DatetimeIndex: 4416 entries, 2018-03-01 00:00:00 to 2018-08-31 23:00:00\n",
      "Freq: H\n",
      "Data columns (total 1 columns):\n",
      " #   Column      Non-Null Count  Dtype\n",
      "---  ------      --------------  -----\n",
      " 0   num_orders  4416 non-null   int64\n",
      "dtypes: int64(1)\n",
      "memory usage: 69.0 KB\n"
     ]
    },
    {
     "data": {
      "text/plain": [
       "None"
      ]
     },
     "metadata": {},
     "output_type": "display_data"
    },
    {
     "data": {
      "text/html": [
       "<div>\n",
       "<style scoped>\n",
       "    .dataframe tbody tr th:only-of-type {\n",
       "        vertical-align: middle;\n",
       "    }\n",
       "\n",
       "    .dataframe tbody tr th {\n",
       "        vertical-align: top;\n",
       "    }\n",
       "\n",
       "    .dataframe thead th {\n",
       "        text-align: right;\n",
       "    }\n",
       "</style>\n",
       "<table border=\"1\" class=\"dataframe\">\n",
       "  <thead>\n",
       "    <tr style=\"text-align: right;\">\n",
       "      <th></th>\n",
       "      <th>num_orders</th>\n",
       "    </tr>\n",
       "    <tr>\n",
       "      <th>datetime</th>\n",
       "      <th></th>\n",
       "    </tr>\n",
       "  </thead>\n",
       "  <tbody>\n",
       "    <tr>\n",
       "      <th>2018-03-01 00:00:00</th>\n",
       "      <td>124</td>\n",
       "    </tr>\n",
       "    <tr>\n",
       "      <th>2018-03-01 01:00:00</th>\n",
       "      <td>85</td>\n",
       "    </tr>\n",
       "    <tr>\n",
       "      <th>2018-03-01 02:00:00</th>\n",
       "      <td>71</td>\n",
       "    </tr>\n",
       "    <tr>\n",
       "      <th>2018-03-01 03:00:00</th>\n",
       "      <td>66</td>\n",
       "    </tr>\n",
       "    <tr>\n",
       "      <th>2018-03-01 04:00:00</th>\n",
       "      <td>43</td>\n",
       "    </tr>\n",
       "  </tbody>\n",
       "</table>\n",
       "</div>"
      ],
      "text/plain": [
       "                     num_orders\n",
       "datetime                       \n",
       "2018-03-01 00:00:00         124\n",
       "2018-03-01 01:00:00          85\n",
       "2018-03-01 02:00:00          71\n",
       "2018-03-01 03:00:00          66\n",
       "2018-03-01 04:00:00          43"
      ]
     },
     "metadata": {},
     "output_type": "display_data"
    }
   ],
   "source": [
    "data = data.resample('1H').sum()\n",
    "display(data.info(), \n",
    "        data.head())"
   ]
  },
  {
   "cell_type": "markdown",
   "metadata": {},
   "source": [
    "<div class=\"alert alert-success\">\n",
    "<font size=\"5\"><b>Комментарий ревьюера</b></font>\n",
    "\n",
    "\n",
    "\n",
    "Успех 👍:\n",
    "\n",
    "\n",
    "\n",
    "👍.resample('1H').sum()\n",
    "\n",
    "\n",
    "Именно это требуется по заданию \n",
    "    \n",
    "    \n"
   ]
  },
  {
   "cell_type": "markdown",
   "metadata": {},
   "source": [
    "Данные загружены, произведен ресемплинг.\n",
    "\n",
    "На выходе имеем 4416 строк, индекс в виде даты-времени и количество заказов такси (целевой признак)."
   ]
  },
  {
   "cell_type": "markdown",
   "metadata": {},
   "source": [
    "<div class=\"alert alert-danger\">\n",
    "<font size=\"5\"><b>Комментарий ревьюера</b></font>\n",
    "\n",
    "\n",
    "\n",
    "Ошибка ❌:\n",
    "\n",
    "\n",
    "\n",
    "Нужна проверочка что у нас даты идут последовательно, либо без проверки можешь отсортировать\n"
   ]
  },
  {
   "cell_type": "markdown",
   "metadata": {},
   "source": [
    "<div class=\"alert alert-block alert-info\">\n",
    "<b>Комментарий студента:</b> \n",
    "    \n",
    "Да, действительно, сортировка необходима именно здесь, добавил ее в первый шаг с импортом данных\n",
    "</div>"
   ]
  },
  {
   "cell_type": "markdown",
   "metadata": {},
   "source": [
    "<div class=\"alert alert-success\">\n",
    "<font size=\"5\"><b>Комментарий ревьюераV2</b></font>\n",
    "\n",
    "\n",
    "\n",
    "Успех 👍:\n",
    "\n",
    "\n",
    "\n",
    "👍\n",
    "\n",
    "(Да ниже я у тебя видел, но это нужно было сделать до построения графиков и .resample('1H').sum())\n",
    " "
   ]
  },
  {
   "cell_type": "markdown",
   "metadata": {},
   "source": [
    "## Анализ"
   ]
  },
  {
   "cell_type": "markdown",
   "metadata": {},
   "source": [
    "Данные проанализируем в контексте скользящего среднего, сезонности/трендов и стационарных рядов."
   ]
  },
  {
   "cell_type": "markdown",
   "metadata": {},
   "source": [
    "### Скользящее среднее"
   ]
  },
  {
   "cell_type": "code",
   "execution_count": 5,
   "metadata": {
    "scrolled": true
   },
   "outputs": [
    {
     "data": {
      "text/plain": [
       "<function matplotlib.pyplot.show(close=None, block=None)>"
      ]
     },
     "execution_count": 5,
     "metadata": {},
     "output_type": "execute_result"
    },
    {
     "data": {
      "image/png": "[encoded data removed]",
      "text/plain": [
       "<Figure size 1440x504 with 1 Axes>"
      ]
     },
     "metadata": {
      "needs_background": "light"
     },
     "output_type": "display_data"
    }
   ],
   "source": [
    "data_r = data.copy()\n",
    "data_r['rolling_mean'] = data_r.shift().rolling(6).mean() \n",
    "plt.figure(figsize = (20, 7))\n",
    "plt.plot(data)\n",
    "plt.show"
   ]
  },
  {
   "cell_type": "markdown",
   "metadata": {},
   "source": [
    "По скольщящему среднему можно наблюдать тренд по росту заказов такси. Также, можно отметить некоторые выбросы по заказам между августом и сентябрем. Возможно, это связано с подготовкой к школьному сезону."
   ]
  },
  {
   "cell_type": "markdown",
   "metadata": {},
   "source": [
    "### Тренды/сезонность"
   ]
  },
  {
   "cell_type": "code",
   "execution_count": 6,
   "metadata": {
    "scrolled": false
   },
   "outputs": [
    {
     "data": {
      "image/png": "[encoded data removed]",
      "text/plain": [
       "<Figure size 1080x1080 with 3 Axes>"
      ]
     },
     "metadata": {
      "needs_background": "light"
     },
     "output_type": "display_data"
    }
   ],
   "source": [
    "decomposed = seasonal_decompose(data)\n",
    "\n",
    "plt.figure(figsize=(15, 15))\n",
    "plt.subplot(311)\n",
    "\n",
    "decomposed.trend.plot(ax=plt.gca())\n",
    "plt.title('Trend')\n",
    "plt.subplot(312)\n",
    "decomposed.seasonal.plot(ax=plt.gca())\n",
    "plt.title('Seasonality')\n",
    "plt.subplot(313)\n",
    "decomposed.resid.plot(ax=plt.gca())\n",
    "plt.title('Residuals')\n",
    "plt.tight_layout()"
   ]
  },
  {
   "cell_type": "markdown",
   "metadata": {},
   "source": [
    "Здесь, опять же, прослеживается тренд по росту заказов такси с марта по сентябрь. При этом, есть также и сезонность, скорее всего внутри недели."
   ]
  },
  {
   "cell_type": "markdown",
   "metadata": {},
   "source": [
    "<div class=\"alert alert-danger\">\n",
    "<font size=\"5\"><b>Комментарий ревьюера</b></font>\n",
    "\n",
    "\n",
    "\n",
    "Ошибка ❌:\n",
    "\n",
    "\n",
    "\n",
    "Действительно логично предположить недельную сезонность, так давай на нее посомтрим.  То же самое относительно часов\n",
    "    \n",
    "    \n",
    "\n",
    "<div class=\"alert alert-warning\">\n",
    "\n",
    "\n",
    "\n",
    "Совет 🤔:\n",
    "\n",
    "\n",
    "- Можно построить какие-то усреднённые оценки по дням недели и часам для всего периода.  А чтобы было понятно что полученная средняя - это не \"средняя  температура по больнице\" добавить  дисперсию (или разброс от максимального до минимального значения).  Либо можно взять за какую-то неделю из-за какой-то день (хотя конечно это нельзя назвать презентативной оценкой)\n",
    "    \n",
    "        "
   ]
  },
  {
   "cell_type": "markdown",
   "metadata": {},
   "source": [
    "<div class=\"alert alert-block alert-info\">\n",
    "<b>Комментарий студента:</b> \n",
    "    \n",
    "Дополняю ниже\n",
    "</div>"
   ]
  },
  {
   "cell_type": "markdown",
   "metadata": {},
   "source": [
    "Попробую подручными средствами, ниже агрегированные данные по часам, график отражает средние, максимальные и минимальные. Дисперсию не стал использовать, т.к. она сильно искажает график, думаю, что min/max все покажут.\n",
    "\n",
    "Здесь можно проследить часовую сезональность: в раннее утро заказов минимум, затем, примерно в 7-10 утра идет рост с небольшими колебаниями, пик достигается к 16-17 часам, после чего иодет небольшой спад к 19 и рост до следущего пика к полуночи."
   ]
  },
  {
   "cell_type": "code",
   "execution_count": 7,
   "metadata": {},
   "outputs": [
    {
     "data": {
      "image/png": "[encoded data removed]",
      "text/plain": [
       "<Figure size 1080x576 with 1 Axes>"
      ]
     },
     "metadata": {
      "needs_background": "light"
     },
     "output_type": "display_data"
    }
   ],
   "source": [
    "data_h = data.copy()\n",
    "data_h['hour'] = data.index.hour\n",
    "data_h.head()\n",
    "data_hg = data_h.pivot_table(index=['hour'],\n",
    "                                values=['num_orders'],\n",
    "                                aggfunc=['mean', 'max', 'min'])\n",
    "\n",
    "plt.figure(figsize = (15, 8))\n",
    "plt.xticks(range(0, 25, 1))\n",
    "sns.lineplot(data = data_hg)\n",
    "plt.show()"
   ]
  },
  {
   "cell_type": "markdown",
   "metadata": {},
   "source": [
    "<div class=\"alert alert-success\">\n",
    "<font size=\"5\"><b>Комментарий ревьюераV2</b></font>\n",
    "\n",
    "\n",
    "\n",
    "Успех 👍:\n",
    "\n",
    "\n",
    "\n",
    "Здорово что использовала агрегированные показатель,  так конечно всё гораздо солиднее\n",
    "\n",
    "\n",
    " "
   ]
  },
  {
   "cell_type": "markdown",
   "metadata": {},
   "source": [
    "Теперь попробуем оценить сезонность по дням недели.\n",
    "\n",
    "Можно наблюдать повышенно кол-во заказов в понедельник (0), которое падает во вторник и растет к пятнице. На выходных видно снижение заказов."
   ]
  },
  {
   "cell_type": "code",
   "execution_count": 8,
   "metadata": {},
   "outputs": [
    {
     "data": {
      "image/png": "[encoded data removed]",
      "text/plain": [
       "<Figure size 1080x576 with 1 Axes>"
      ]
     },
     "metadata": {
      "needs_background": "light"
     },
     "output_type": "display_data"
    }
   ],
   "source": [
    "data_wd = data.copy()\n",
    "data_wd = data_wd.resample('1D').sum()\n",
    "data_wd['weekday'] = data_wd.index.weekday\n",
    "data_wd = data_wd.pivot_table(index=['weekday'],\n",
    "                                values=['num_orders'],\n",
    "                                aggfunc=['mean', 'max', 'min'])\n",
    "\n",
    "plt.figure(figsize = (15, 8))\n",
    "sns.lineplot(data = data_wd)\n",
    "plt.show()"
   ]
  },
  {
   "cell_type": "markdown",
   "metadata": {},
   "source": [
    "<div class=\"alert alert-warning\">\n",
    "<font size=\"5\"><b>Комментарий ревьюераV2</b></font>\n",
    "\n",
    "\n",
    "\n",
    "Совет 🤔:\n",
    "\n",
    "\n",
    "Только вот мне кажется у американцев ноль - это воскресенье (Но это не точно), надеюсь проверочку ты сделал"
   ]
  },
  {
   "cell_type": "markdown",
   "metadata": {},
   "source": [
    "### Стационарные ряды"
   ]
  },
  {
   "cell_type": "code",
   "execution_count": 9,
   "metadata": {},
   "outputs": [
    {
     "data": {
      "text/plain": [
       "<AxesSubplot:xlabel='datetime'>"
      ]
     },
     "execution_count": 9,
     "metadata": {},
     "output_type": "execute_result"
    },
    {
     "data": {
      "text/plain": [
       "<Figure size 1440x504 with 0 Axes>"
      ]
     },
     "metadata": {},
     "output_type": "display_data"
    },
    {
     "data": {
      "image/png": "[encoded data removed]",
      "text/plain": [
       "<Figure size 432x288 with 1 Axes>"
      ]
     },
     "metadata": {
      "needs_background": "light"
     },
     "output_type": "display_data"
    }
   ],
   "source": [
    "data_s = data.copy()\n",
    "data_s['mean'] = data_s['num_orders'].rolling(6).mean()\n",
    "data_s['std'] = data_s['num_orders'].rolling(6).std()\n",
    "plt.figure(figsize = (20, 7))\n",
    "data_s.plot()"
   ]
  },
  {
   "cell_type": "markdown",
   "metadata": {},
   "source": [
    "Здесь можно сделать вывод, что наш временной ряд не является стационарным - среднее, а также стандартное отклонение показывают динамику роста."
   ]
  },
  {
   "cell_type": "markdown",
   "metadata": {},
   "source": [
    "\n",
    "<div class=\"alert alert-warning\">\n",
    "<font size=\"5\"><b>Комментарий ревьюера</b></font>\n",
    "\n",
    "\n",
    "\n",
    "Совет 🤔:\n",
    "\n",
    "\n",
    "Проверку на стационарность можно осуществить с помощью теста   Дики-Фуллера, или использовать KPSS критерий "
   ]
  },
  {
   "cell_type": "markdown",
   "metadata": {},
   "source": [
    "<div class=\"alert alert-block alert-info\">\n",
    "<b>Комментарий студента:</b> \n",
    "    \n",
    "Пробую:</div>"
   ]
  },
  {
   "cell_type": "code",
   "execution_count": 10,
   "metadata": {},
   "outputs": [
    {
     "data": {
      "text/plain": [
       "(-3.0689242890279558,\n",
       " 0.028940051402612906,\n",
       " 30,\n",
       " 4385,\n",
       " {'1%': -3.431842162413052,\n",
       "  '5%': -2.8621993540813637,\n",
       "  '10%': -2.567120978470452},\n",
       " 41728.71357827463)"
      ]
     },
     "metadata": {},
     "output_type": "display_data"
    }
   ],
   "source": [
    "diki = adfuller(data_s['num_orders'])\n",
    "display(diki)"
   ]
  },
  {
   "cell_type": "markdown",
   "metadata": {},
   "source": [
    "Судя по итогам, ряд все таки стационарен (не до конца пока все понял, но показатель adf и низкий pvalue вроде как говорят об этом)"
   ]
  },
  {
   "cell_type": "markdown",
   "metadata": {},
   "source": [
    "<div class=\"alert alert-warning\">\n",
    "<font size=\"5\"><b>Комментарий ревьюераV2</b></font>\n",
    "\n",
    "\n",
    "\n",
    "Совет 🤔:\n",
    "\n",
    "\n",
    "Тут зависит от уровня доверия, и от дополнительных параметров. В зависимости от этого наш ряд может в одних случаях получаться стационарным, другие случаях не стационарный "
   ]
  },
  {
   "cell_type": "markdown",
   "metadata": {},
   "source": [
    "## Обучение"
   ]
  },
  {
   "cell_type": "markdown",
   "metadata": {},
   "source": [
    "### Добавление признаков"
   ]
  },
  {
   "cell_type": "markdown",
   "metadata": {},
   "source": [
    "Для обучения моделей добавим в выборку признаки на основе даты и времени."
   ]
  },
  {
   "cell_type": "code",
   "execution_count": 11,
   "metadata": {},
   "outputs": [],
   "source": [
    "def make_features(data, max_lag, rolling_mean_size):\n",
    "\n",
    "    data['dayofweek'] = data.index.dayofweek\n",
    "    data['hour'] = data.index.hour\n",
    "    \n",
    "    for lag in range(1, max_lag + 1):\n",
    "        data['lag_{}'.format(lag)] = data['num_orders'].shift(lag)\n",
    "    data['rolling_mean'] = data['num_orders'].shift().rolling(rolling_mean_size).mean() "
   ]
  },
  {
   "cell_type": "markdown",
   "metadata": {},
   "source": [
    "\n",
    "<div class=\"alert alert-danger\">\n",
    "<font size=\"5\"><b>Комментарий ревьюера</b></font>\n",
    "\n",
    "\n",
    "\n",
    "Ошибка ❌:\n",
    "\n",
    "\n",
    "- не хватает учёта часовой сезонности  \n",
    "\n",
    "    \n",
    "    \n",
    "- а в чём смысл использовать month,  если у нас информация только за несколько месяцев? Чтобы говорить о какой-то цикличности, нам нужна информация за несколько лет (или хотя бы за год). К тому же возможно от этого будет  вред,  если использовать месяц в качестве количественного признака.  Ведь мы подадим в наши модели признаки за месяц от  3 до 8,  причём тренд у нас растущий, может быть такое что модель решит что чем больше номер месяца тем больше вызовов?! И что будет когда нам надо будет сделать прогноз на первый месяц следующего года? Получается мы даем модели кривые данные   \n",
    "    \n",
    "        \n",
    "    \n",
    "\n",
    "<div class=\"alert alert-warning\">\n",
    " \n",
    "\n",
    "\n",
    "Совет 🤔:\n",
    "\n",
    "\n",
    "    \n",
    "\n",
    "    \n",
    "- day сомнителен,  трудно представить что здесь может существовать какая-то сезонность (можно конечно пофантазировать что где-то в середине или конце месяцев люди получают зарплаты,  и могут позволить себе чаще ездить на такси) \n",
    "    \n",
    "    \n",
    "    \n",
    "- хорошо бы как то обосновать  max_lag и rolling_mean_size. Это можно сделать аналитически ведь мы обнаружили повторяющиеся колебания в определенные периоды дня, которые мы можем задать через указание часа. Или попробовать посчитать (автокорреляцию)[https://www.dmitrymakarov.ru/intro/time-series-20/]. Или можно попробовать сделать  подбор с помощью того же GridSearhCV, ориентируясь на метрику \n",
    "    \n",
    "    \n",
    " \n",
    "    \n"
   ]
  },
  {
   "cell_type": "markdown",
   "metadata": {},
   "source": [
    "<div class=\"alert alert-block alert-info\">\n",
    "<b>Комментарий студента:</b> \n",
    "    \n",
    "Соглашусь, здесь day и month неинформативны, а также добавил час. Ниже попробую посмотреть автокорреляцию для max_lag и rolling_mean_size)\n",
    "</div>"
   ]
  },
  {
   "cell_type": "code",
   "execution_count": 12,
   "metadata": {},
   "outputs": [
    {
     "data": {
      "image/png": "[encoded data removed]",
      "text/plain": [
       "<Figure size 432x288 with 1 Axes>"
      ]
     },
     "metadata": {
      "needs_background": "light"
     },
     "output_type": "display_data"
    }
   ],
   "source": [
    "plot_acf(data, lags = np.arange(1, 25))\n",
    "plt.axis('tight')\n",
    "plt.show()"
   ]
  },
  {
   "cell_type": "markdown",
   "metadata": {},
   "source": [
    "По лагам выходит интересная картина, некая корреляция есть на любом уровне, а максимальная наблюдается на 1,2 и 22-24. Попробую использовать их все."
   ]
  },
  {
   "cell_type": "markdown",
   "metadata": {},
   "source": [
    "<div class=\"alert alert-success\">\n",
    "<font size=\"5\"><b>Комментарий ревьюераV2</b></font>\n",
    "\n",
    "\n",
    "\n",
    "Успех 👍:\n",
    "\n",
    "\n",
    "\n",
    "Кстати весьма логично (Понятно что число заказов час назад имеют высокую корреляцию с нынешним часом и с часом 24 часа назад).  Кстати можно было взять лаг побольше, возможно там пересекается суточная корреляция (сегоднешний 6:00 утра коррелируется с шестью утрами вчерашнего и позавчерашнего итд днями  -это логично,  и при этом может наложиться корреляция 24 и 7*24 - недельный  То есть если взять лаг побольше возможно мы бы увидели этот наложенный всплеск)\n",
    "\n",
    "\n",
    " "
   ]
  },
  {
   "cell_type": "markdown",
   "metadata": {},
   "source": [
    "Для rolling_mean_size попробую пойти несколько иначе"
   ]
  },
  {
   "cell_type": "code",
   "execution_count": 13,
   "metadata": {},
   "outputs": [
    {
     "name": "stdout",
     "output_type": "stream",
     "text": [
      "            num_orders         1         2         3         4         5  \\\n",
      "num_orders    1.000000  0.624138  0.604753  0.556788  0.518818  0.495734   \n",
      "1             0.624138  1.000000  0.901060  0.824197  0.753074  0.696915   \n",
      "2             0.604753  0.901060  1.000000  0.949302  0.888110  0.827803   \n",
      "3             0.556788  0.824197  0.949302  1.000000  0.965684  0.916978   \n",
      "4             0.518818  0.753074  0.888110  0.965684  1.000000  0.974535   \n",
      "5             0.495734  0.696915  0.827803  0.916978  0.974535  1.000000   \n",
      "6             0.484648  0.657145  0.778725  0.867431  0.935489  0.980264   \n",
      "7             0.488784  0.630901  0.742982  0.826230  0.894939  0.948695   \n",
      "8             0.495765  0.620150  0.721316  0.797141  0.861646  0.916015   \n",
      "9             0.494949  0.614446  0.710266  0.778671  0.837675  0.888860   \n",
      "10            0.493754  0.604265  0.699939  0.765963  0.820446  0.867969   \n",
      "11            0.500701  0.595200  0.688125  0.754245  0.807625  0.852227   \n",
      "12            0.508535  0.594279  0.681218  0.744345  0.797420  0.841164   \n",
      "13            0.512633  0.595078  0.679588  0.738435  0.789071  0.832493   \n",
      "14            0.510035  0.593395  0.677753  0.735387  0.783211  0.824918   \n",
      "15            0.505702  0.586451  0.672114  0.730596  0.778305  0.818372   \n",
      "16            0.505945  0.578479  0.663292  0.723009  0.771898  0.812384   \n",
      "17            0.504540  0.575077  0.656415  0.714928  0.764579  0.806080   \n",
      "18            0.499210  0.570545  0.651431  0.707837  0.756648  0.798852   \n",
      "19            0.493566  0.562726  0.644177  0.700916  0.748624  0.790465   \n",
      "20            0.490381  0.554768  0.635068  0.692376  0.740648  0.781920   \n",
      "21            0.491447  0.549363  0.627327  0.683556  0.732168  0.773954   \n",
      "22            0.503162  0.548005  0.623085  0.677108  0.724540  0.766418   \n",
      "23            0.524928  0.556682  0.626384  0.676707  0.721463  0.761740   \n",
      "24            0.553520  0.574792  0.640072  0.684899  0.725588  0.762812   \n",
      "\n",
      "                   6         7         8         9  ...        15        16  \\\n",
      "num_orders  0.484648  0.488784  0.495765  0.494949  ...  0.505702  0.505945   \n",
      "1           0.657145  0.630901  0.620150  0.614446  ...  0.586451  0.578479   \n",
      "2           0.778725  0.742982  0.721316  0.710266  ...  0.672114  0.663292   \n",
      "3           0.867431  0.826230  0.797141  0.778671  ...  0.730596  0.723009   \n",
      "4           0.935489  0.894939  0.861646  0.837675  ...  0.778305  0.771898   \n",
      "5           0.980264  0.948695  0.916015  0.888860  ...  0.818372  0.812384   \n",
      "6           1.000000  0.984279  0.958821  0.932223  ...  0.852884  0.845941   \n",
      "7           0.984279  1.000000  0.987366  0.966641  ...  0.882172  0.874627   \n",
      "8           0.958821  0.987366  1.000000  0.989675  ...  0.905842  0.898557   \n",
      "9           0.932223  0.966641  0.989675  1.000000  ...  0.925527  0.918125   \n",
      "10          0.909194  0.944329  0.972303  0.991313  ...  0.943311  0.934952   \n",
      "11          0.890910  0.924551  0.953234  0.976443  ...  0.959646  0.950312   \n",
      "12          0.877554  0.909117  0.936480  0.960195  ...  0.974341  0.964360   \n",
      "13          0.868187  0.897849  0.923388  0.945895  ...  0.986791  0.977144   \n",
      "14          0.860468  0.889635  0.913582  0.934522  ...  0.995737  0.988146   \n",
      "15          0.852884  0.882172  0.905842  0.925527  ...  1.000000  0.996164   \n",
      "16          0.845941  0.874627  0.898557  0.918125  ...  0.996164  1.000000   \n",
      "17          0.840131  0.868142  0.891609  0.911411  ...  0.989322  0.996556   \n",
      "18          0.833889  0.862459  0.885433  0.904874  ...  0.981421  0.990371   \n",
      "19          0.826330  0.855938  0.879540  0.898663  ...  0.973825  0.983116   \n",
      "20          0.817694  0.848165  0.872786  0.892574  ...  0.966991  0.975999   \n",
      "21          0.809365  0.839848  0.865268  0.885986  ...  0.961005  0.969602   \n",
      "22          0.802171  0.832304  0.857693  0.879080  ...  0.955746  0.964019   \n",
      "23          0.797113  0.827211  0.852035  0.873179  ...  0.951093  0.959413   \n",
      "24          0.796145  0.825364  0.849704  0.869992  ...  0.947347  0.955727   \n",
      "\n",
      "                  17        18        19        20        21        22  \\\n",
      "num_orders  0.504540  0.499210  0.493566  0.490381  0.491447  0.503162   \n",
      "1           0.575077  0.570545  0.562726  0.554768  0.549363  0.548005   \n",
      "2           0.656415  0.651431  0.644177  0.635068  0.627327  0.623085   \n",
      "3           0.714928  0.707837  0.700916  0.692376  0.683556  0.677108   \n",
      "4           0.764579  0.756648  0.748624  0.740648  0.732168  0.724540   \n",
      "5           0.806080  0.798852  0.790465  0.781920  0.773954  0.766418   \n",
      "6           0.840131  0.833889  0.826330  0.817694  0.809365  0.802171   \n",
      "7           0.868142  0.862459  0.855938  0.848165  0.839848  0.832304   \n",
      "8           0.891609  0.885433  0.879540  0.872786  0.865268  0.857693   \n",
      "9           0.911411  0.904874  0.898663  0.892574  0.885986  0.879080   \n",
      "10          0.928174  0.921895  0.915479  0.909231  0.903285  0.897191   \n",
      "11          0.942738  0.936460  0.930369  0.924037  0.918009  0.912484   \n",
      "12          0.955928  0.948964  0.942931  0.936954  0.930881  0.925272   \n",
      "13          0.968135  0.960419  0.953824  0.947948  0.942214  0.936549   \n",
      "14          0.979439  0.971228  0.964012  0.957679  0.952064  0.946692   \n",
      "15          0.989322  0.981421  0.973825  0.966991  0.961005  0.955746   \n",
      "16          0.996556  0.990371  0.983116  0.975999  0.969602  0.964019   \n",
      "17          1.000000  0.996883  0.991213  0.984464  0.977832  0.971887   \n",
      "18          0.996883  1.000000  0.997145  0.991893  0.985620  0.979476   \n",
      "19          0.991213  0.997145  1.000000  0.997373  0.992502  0.986708   \n",
      "20          0.984464  0.991893  0.997373  1.000000  0.997575  0.993077   \n",
      "21          0.977832  0.985620  0.992502  0.997575  1.000000  0.997767   \n",
      "22          0.971887  0.979476  0.986708  0.993077  0.997767  1.000000   \n",
      "23          0.966934  0.974149  0.981167  0.987825  0.993682  0.997968   \n",
      "24          0.963191  0.970004  0.976607  0.982991  0.989053  0.994341   \n",
      "\n",
      "                  23        24  \n",
      "num_orders  0.524928  0.553520  \n",
      "1           0.556682  0.574792  \n",
      "2           0.626384  0.640072  \n",
      "3           0.676707  0.684899  \n",
      "4           0.721463  0.725588  \n",
      "5           0.761740  0.762812  \n",
      "6           0.797113  0.796145  \n",
      "7           0.827211  0.825364  \n",
      "8           0.852035  0.849704  \n",
      "9           0.873179  0.869992  \n",
      "10          0.891712  0.888015  \n",
      "11          0.907590  0.904016  \n",
      "12          0.920761  0.917487  \n",
      "13          0.931848  0.928718  \n",
      "14          0.941845  0.938372  \n",
      "15          0.951093  0.947347  \n",
      "16          0.959413  0.955727  \n",
      "17          0.966934  0.963191  \n",
      "18          0.974149  0.970004  \n",
      "19          0.981167  0.976607  \n",
      "20          0.987825  0.982991  \n",
      "21          0.993682  0.989053  \n",
      "22          0.997968  0.994341  \n",
      "23          1.000000  0.998180  \n",
      "24          0.998180  1.000000  \n",
      "\n",
      "[25 rows x 25 columns]\n"
     ]
    }
   ],
   "source": [
    "data_roll = data.copy()\n",
    "\n",
    "for i in range(1, 25):\n",
    "    data_roll[i] = data_roll['num_orders'].shift().rolling(i).mean()\n",
    "\n",
    "print(data_roll.corr())"
   ]
  },
  {
   "cell_type": "markdown",
   "metadata": {},
   "source": [
    "Кажется, что есть смысл брать за сутки - корреляция +/- одинаковая "
   ]
  },
  {
   "cell_type": "markdown",
   "metadata": {},
   "source": [
    "### Переходим к моделям"
   ]
  },
  {
   "cell_type": "markdown",
   "metadata": {},
   "source": [
    "<div class=\"alert alert-block alert-info\">\n",
    "<b>Комментарий студента:</b> \n",
    "    \n",
    "Если ты непротив, я добавлю сверху еще 1 подраздел с новыми характеристиками датасета, в котором обучу модели с учетом замечаний в 1-й версии\n",
    "</div>"
   ]
  },
  {
   "cell_type": "markdown",
   "metadata": {},
   "source": [
    "<div class=\"alert alert-success\">\n",
    "<font size=\"5\"><b>Комментарий ревьюераV2</b></font>\n",
    "\n",
    "\n",
    "\n",
    "Успех 👍:\n",
    "\n",
    "\n",
    "\n",
    "Хорошо\n",
    "\n",
    "\n",
    " "
   ]
  },
  {
   "cell_type": "markdown",
   "metadata": {},
   "source": [
    "#### Датасет New"
   ]
  },
  {
   "cell_type": "code",
   "execution_count": 14,
   "metadata": {},
   "outputs": [],
   "source": [
    "state = RandomState(12345)"
   ]
  },
  {
   "cell_type": "code",
   "execution_count": 15,
   "metadata": {},
   "outputs": [
    {
     "data": {
      "text/plain": [
       "(4416, 28)"
      ]
     },
     "execution_count": 15,
     "metadata": {},
     "output_type": "execute_result"
    }
   ],
   "source": [
    "data_new = data.copy()\n",
    "make_features(data_new, 24, 24)\n",
    "data_new.shape"
   ]
  },
  {
   "cell_type": "markdown",
   "metadata": {},
   "source": [
    "Датасет готов"
   ]
  },
  {
   "cell_type": "code",
   "execution_count": 16,
   "metadata": {},
   "outputs": [
    {
     "data": {
      "text/plain": [
       "(3950, 27)"
      ]
     },
     "metadata": {},
     "output_type": "display_data"
    },
    {
     "data": {
      "text/plain": [
       "(3950,)"
      ]
     },
     "metadata": {},
     "output_type": "display_data"
    },
    {
     "data": {
      "text/plain": [
       "(442, 27)"
      ]
     },
     "metadata": {},
     "output_type": "display_data"
    },
    {
     "data": {
      "text/plain": [
       "(442,)"
      ]
     },
     "metadata": {},
     "output_type": "display_data"
    }
   ],
   "source": [
    "train_new, test_new = train_test_split(data_new, shuffle = False, test_size = 0.1, random_state = state)\n",
    "train_new = train_new.dropna()\n",
    "   \n",
    "train_features_new = train_new.drop('num_orders', axis = 1)\n",
    "train_target_new = train_new['num_orders']\n",
    "test_features_new = test_new.drop('num_orders', axis = 1)\n",
    "test_target_new = test_new['num_orders']\n",
    "display(train_features_new.shape, train_target_new.shape, \n",
    "        test_features_new.shape, test_target_new.shape)"
   ]
  },
  {
   "cell_type": "markdown",
   "metadata": {},
   "source": [
    "##### Проверяем CatBoost"
   ]
  },
  {
   "cell_type": "code",
   "execution_count": 17,
   "metadata": {},
   "outputs": [],
   "source": [
    "timecv = TimeSeriesSplit()"
   ]
  },
  {
   "cell_type": "code",
   "execution_count": 18,
   "metadata": {},
   "outputs": [
    {
     "name": "stdout",
     "output_type": "stream",
     "text": [
      "CatBoost Лучшие параметры: {'iterations': 300, 'learning_rate': 0.3, 'verbose': False}\n",
      "CatBoost Лучший rmse: 24.83156969510071\n",
      "CPU times: user 59.4 s, sys: 714 ms, total: 1min\n",
      "Wall time: 1min 25s\n"
     ]
    }
   ],
   "source": [
    "%%time\n",
    "model_cb = CatBoostRegressor()\n",
    "hyper_par_cb = [{'learning_rate': [0.3, 0.5, 0.7],\n",
    "                'iterations': [100, 300, 500],\n",
    "               'verbose': [False]}]\n",
    "\n",
    "model_cb_grid = GridSearchCV(model_cb, hyper_par_cb, scoring = \"neg_mean_squared_error\", cv = timecv)\n",
    "model_cb_grid.fit(train_features_new, train_target_new)\n",
    "\n",
    "cb_best_par = model_cb_grid.best_params_\n",
    "cb_best_rmse = abs(model_cb_grid.best_score_) ** 0.5\n",
    "\n",
    "print('CatBoost Лучшие параметры:', cb_best_par)\n",
    "print('CatBoost Лучший rmse:', cb_best_rmse)"
   ]
  },
  {
   "cell_type": "markdown",
   "metadata": {},
   "source": [
    "##### Проверяем LighGBM"
   ]
  },
  {
   "cell_type": "code",
   "execution_count": 19,
   "metadata": {},
   "outputs": [
    {
     "name": "stdout",
     "output_type": "stream",
     "text": [
      "LightGBM Лучшие параметры: {'learning_rate': 0.3, 'num_leaves': 10, 'random_state': RandomState(MT19937) at 0x7F7E08501E40}\n",
      "LightGBM Лучший rmse: 25.78586910427055\n",
      "CPU times: user 18min 9s, sys: 3.12 s, total: 18min 12s\n",
      "Wall time: 18min 15s\n"
     ]
    }
   ],
   "source": [
    "%%time\n",
    "model_lgbm = LGBMRegressor()\n",
    "hyper_par_lgbm = [{'num_leaves': [10, 30, 50, 100], \n",
    "              'learning_rate': [0.3, 0.5, 0.7], \n",
    "              'random_state': [state]}]\n",
    "\n",
    "model_lgbm_grid = GridSearchCV(model_lgbm, hyper_par_lgbm, scoring = \"neg_mean_squared_error\", cv = timecv)\n",
    "model_lgbm_grid.fit(train_features_new, train_target_new)\n",
    "\n",
    "lgbm_best_par = model_lgbm_grid.best_params_\n",
    "lgbm_best_rmse = abs(model_lgbm_grid.best_score_) ** 0.5\n",
    "\n",
    "print('LightGBM Лучшие параметры:', lgbm_best_par)\n",
    "print('LightGBM Лучший rmse:', lgbm_best_rmse)"
   ]
  },
  {
   "cell_type": "markdown",
   "metadata": {},
   "source": [
    "##### Проверяем RandomForest"
   ]
  },
  {
   "cell_type": "code",
   "execution_count": 20,
   "metadata": {},
   "outputs": [
    {
     "name": "stdout",
     "output_type": "stream",
     "text": [
      "RandomForest Лучшие параметры: {'max_depth': 21, 'n_estimators': 101}\n",
      "RandomForest Лучший rmse: 25.490520089204082\n",
      "CPU times: user 9min 45s, sys: 542 ms, total: 9min 45s\n",
      "Wall time: 9min 46s\n"
     ]
    }
   ],
   "source": [
    "%%time\n",
    "model_rf = RandomForestRegressor(random_state = state)\n",
    "hyper_par_rf = [{'max_depth': range(1, 22, 2), \n",
    "              'n_estimators': range(1, 102, 10)}]\n",
    "\n",
    "model_rf_grid = GridSearchCV(model_rf, hyper_par_rf, scoring = \"neg_mean_squared_error\", cv = timecv)\n",
    "model_rf_grid.fit(train_features_new, train_target_new)\n",
    "\n",
    "rf_best_par = model_rf_grid.best_params_\n",
    "rf_best_rmse = abs(model_rf_grid.best_score_) ** 0.5\n",
    "\n",
    "print('RandomForest Лучшие параметры:', rf_best_par)\n",
    "print('RandomForest Лучший rmse:', rf_best_rmse)"
   ]
  },
  {
   "cell_type": "code",
   "execution_count": 21,
   "metadata": {},
   "outputs": [],
   "source": [
    "test_cb = mean_squared_error(test_target_new, model_cb_grid.predict(test_features_new)) ** 0.5\n",
    "test_lgbm = mean_squared_error(test_target_new, model_lgbm_grid.predict(test_features_new)) ** 0.5\n",
    "test_rf = mean_squared_error(test_target_new, model_rf_grid.predict(test_features_new)) ** 0.5"
   ]
  },
  {
   "cell_type": "markdown",
   "metadata": {},
   "source": [
    "##### Итоги"
   ]
  },
  {
   "cell_type": "code",
   "execution_count": 22,
   "metadata": {},
   "outputs": [
    {
     "data": {
      "text/plain": [
       "45.17810654807807"
      ]
     },
     "metadata": {},
     "output_type": "display_data"
    }
   ],
   "source": [
    "model_linear = LinearRegression()\n",
    "model_linear.fit(train_features_new, train_target_new)\n",
    "display(mean_squared_error(test_target_new, model_linear.predict(test_features_new)) ** 0.5)"
   ]
  },
  {
   "cell_type": "code",
   "execution_count": 23,
   "metadata": {
    "scrolled": true
   },
   "outputs": [
    {
     "data": {
      "text/html": [
       "<div>\n",
       "<style scoped>\n",
       "    .dataframe tbody tr th:only-of-type {\n",
       "        vertical-align: middle;\n",
       "    }\n",
       "\n",
       "    .dataframe tbody tr th {\n",
       "        vertical-align: top;\n",
       "    }\n",
       "\n",
       "    .dataframe thead th {\n",
       "        text-align: right;\n",
       "    }\n",
       "</style>\n",
       "<table border=\"1\" class=\"dataframe\">\n",
       "  <thead>\n",
       "    <tr style=\"text-align: right;\">\n",
       "      <th></th>\n",
       "      <th>Лучший RMSE</th>\n",
       "      <th>RMSE Test</th>\n",
       "    </tr>\n",
       "  </thead>\n",
       "  <tbody>\n",
       "    <tr>\n",
       "      <th>CatBoost</th>\n",
       "      <td>24.831570</td>\n",
       "      <td>42.154918</td>\n",
       "    </tr>\n",
       "    <tr>\n",
       "      <th>LightGBM</th>\n",
       "      <td>25.785869</td>\n",
       "      <td>42.452611</td>\n",
       "    </tr>\n",
       "    <tr>\n",
       "      <th>RandomForest</th>\n",
       "      <td>25.490520</td>\n",
       "      <td>44.052866</td>\n",
       "    </tr>\n",
       "  </tbody>\n",
       "</table>\n",
       "</div>"
      ],
      "text/plain": [
       "              Лучший RMSE  RMSE Test\n",
       "CatBoost        24.831570  42.154918\n",
       "LightGBM        25.785869  42.452611\n",
       "RandomForest    25.490520  44.052866"
      ]
     },
     "metadata": {},
     "output_type": "display_data"
    }
   ],
   "source": [
    "results_new = pd.DataFrame({'Лучший RMSE': [cb_best_rmse, lgbm_best_rmse, rf_best_rmse],\n",
    "                        'RMSE Test': [test_cb, test_lgbm, test_rf]},\n",
    "                      index = ['CatBoost', 'LightGBM', 'RandomForest'])\n",
    "display(results_new)"
   ]
  },
  {
   "cell_type": "markdown",
   "metadata": {},
   "source": [
    "**Лучшие модели - CatBosst и LightGBM показали близкие результаты. Цель проекта достигнута. Также примеательно, что линейная регрессия также показала неплохой результат (проходной) при самой низкой скорости и без кросс-валидаций**"
   ]
  },
  {
   "cell_type": "markdown",
   "metadata": {},
   "source": [
    "На примере CatBoost и RandomForest смотрю на признаки данных.\\\n",
    "С RandomForest понятно, расставлены признаки с весами в модели, в целом противоречий к ним у меня нет.\\\n",
    "CatBoost при этом показывает итерации, без признаков"
   ]
  },
  {
   "cell_type": "code",
   "execution_count": 24,
   "metadata": {},
   "outputs": [
    {
     "name": "stdout",
     "output_type": "stream",
     "text": [
      "Learning rate set to 0.050868\n",
      "0:\tlearn: 37.7859911\ttotal: 6.08ms\tremaining: 6.08s\n",
      "1:\tlearn: 36.8888598\ttotal: 11.7ms\tremaining: 5.86s\n",
      "2:\tlearn: 36.0557468\ttotal: 17.3ms\tremaining: 5.74s\n",
      "3:\tlearn: 35.2481658\ttotal: 22.7ms\tremaining: 5.66s\n",
      "4:\tlearn: 34.5389161\ttotal: 27.9ms\tremaining: 5.56s\n",
      "5:\tlearn: 33.9067371\ttotal: 33.2ms\tremaining: 5.49s\n",
      "6:\tlearn: 33.3305684\ttotal: 38.5ms\tremaining: 5.46s\n",
      "7:\tlearn: 32.7280883\ttotal: 43.9ms\tremaining: 5.44s\n",
      "8:\tlearn: 32.1106949\ttotal: 50.2ms\tremaining: 5.53s\n",
      "9:\tlearn: 31.5821336\ttotal: 55.9ms\tremaining: 5.53s\n",
      "10:\tlearn: 31.0649833\ttotal: 61.7ms\tremaining: 5.55s\n",
      "11:\tlearn: 30.6105649\ttotal: 67.5ms\tremaining: 5.56s\n",
      "12:\tlearn: 30.1825471\ttotal: 73ms\tremaining: 5.54s\n",
      "13:\tlearn: 29.7281291\ttotal: 78.7ms\tremaining: 5.54s\n",
      "14:\tlearn: 29.3343188\ttotal: 84.4ms\tremaining: 5.54s\n",
      "15:\tlearn: 28.9748717\ttotal: 89.8ms\tremaining: 5.52s\n",
      "16:\tlearn: 28.6304684\ttotal: 95.3ms\tremaining: 5.51s\n",
      "17:\tlearn: 28.3200231\ttotal: 101ms\tremaining: 5.5s\n",
      "18:\tlearn: 27.9956405\ttotal: 106ms\tremaining: 5.49s\n",
      "19:\tlearn: 27.7066383\ttotal: 112ms\tremaining: 5.47s\n",
      "20:\tlearn: 27.4484574\ttotal: 117ms\tremaining: 5.44s\n",
      "21:\tlearn: 27.1782754\ttotal: 122ms\tremaining: 5.43s\n",
      "22:\tlearn: 26.9246421\ttotal: 127ms\tremaining: 5.41s\n",
      "23:\tlearn: 26.7038127\ttotal: 133ms\tremaining: 5.41s\n",
      "24:\tlearn: 26.4792984\ttotal: 138ms\tremaining: 5.4s\n",
      "25:\tlearn: 26.2754161\ttotal: 145ms\tremaining: 5.44s\n",
      "26:\tlearn: 26.0958550\ttotal: 150ms\tremaining: 5.42s\n",
      "27:\tlearn: 25.9073781\ttotal: 156ms\tremaining: 5.41s\n",
      "28:\tlearn: 25.7420645\ttotal: 161ms\tremaining: 5.4s\n",
      "29:\tlearn: 25.5751488\ttotal: 167ms\tremaining: 5.39s\n",
      "30:\tlearn: 25.4213459\ttotal: 172ms\tremaining: 5.38s\n",
      "31:\tlearn: 25.2882739\ttotal: 179ms\tremaining: 5.41s\n",
      "32:\tlearn: 25.1130628\ttotal: 185ms\tremaining: 5.41s\n",
      "33:\tlearn: 24.9755190\ttotal: 190ms\tremaining: 5.4s\n",
      "34:\tlearn: 24.8553137\ttotal: 195ms\tremaining: 5.38s\n",
      "35:\tlearn: 24.7452238\ttotal: 200ms\tremaining: 5.37s\n",
      "36:\tlearn: 24.6218547\ttotal: 206ms\tremaining: 5.35s\n",
      "37:\tlearn: 24.5246584\ttotal: 211ms\tremaining: 5.35s\n",
      "38:\tlearn: 24.4505207\ttotal: 217ms\tremaining: 5.34s\n",
      "39:\tlearn: 24.3460548\ttotal: 222ms\tremaining: 5.32s\n",
      "40:\tlearn: 24.2441681\ttotal: 227ms\tremaining: 5.31s\n",
      "41:\tlearn: 24.1633990\ttotal: 233ms\tremaining: 5.3s\n",
      "42:\tlearn: 24.0651647\ttotal: 238ms\tremaining: 5.29s\n",
      "43:\tlearn: 23.9861141\ttotal: 244ms\tremaining: 5.29s\n",
      "44:\tlearn: 23.9098953\ttotal: 249ms\tremaining: 5.29s\n",
      "45:\tlearn: 23.8326842\ttotal: 255ms\tremaining: 5.29s\n",
      "46:\tlearn: 23.7441012\ttotal: 261ms\tremaining: 5.28s\n",
      "47:\tlearn: 23.6765573\ttotal: 266ms\tremaining: 5.28s\n",
      "48:\tlearn: 23.6139373\ttotal: 272ms\tremaining: 5.27s\n",
      "49:\tlearn: 23.5417576\ttotal: 277ms\tremaining: 5.26s\n",
      "50:\tlearn: 23.4704648\ttotal: 283ms\tremaining: 5.26s\n",
      "51:\tlearn: 23.4229211\ttotal: 288ms\tremaining: 5.25s\n",
      "52:\tlearn: 23.3030179\ttotal: 293ms\tremaining: 5.24s\n",
      "53:\tlearn: 23.2686326\ttotal: 299ms\tremaining: 5.23s\n",
      "54:\tlearn: 23.2509548\ttotal: 306ms\tremaining: 5.25s\n",
      "55:\tlearn: 23.1993724\ttotal: 311ms\tremaining: 5.24s\n",
      "56:\tlearn: 23.1894106\ttotal: 316ms\tremaining: 5.23s\n",
      "57:\tlearn: 23.1226493\ttotal: 322ms\tremaining: 5.22s\n",
      "58:\tlearn: 23.0557582\ttotal: 327ms\tremaining: 5.22s\n",
      "59:\tlearn: 23.0264803\ttotal: 333ms\tremaining: 5.21s\n",
      "60:\tlearn: 22.9790201\ttotal: 338ms\tremaining: 5.2s\n",
      "61:\tlearn: 22.9201420\ttotal: 343ms\tremaining: 5.19s\n",
      "62:\tlearn: 22.8540895\ttotal: 349ms\tremaining: 5.18s\n",
      "63:\tlearn: 22.8133656\ttotal: 354ms\tremaining: 5.18s\n",
      "64:\tlearn: 22.7534679\ttotal: 359ms\tremaining: 5.17s\n",
      "65:\tlearn: 22.7459432\ttotal: 365ms\tremaining: 5.16s\n",
      "66:\tlearn: 22.7091991\ttotal: 370ms\tremaining: 5.15s\n",
      "67:\tlearn: 22.6641253\ttotal: 375ms\tremaining: 5.14s\n",
      "68:\tlearn: 22.6158959\ttotal: 380ms\tremaining: 5.13s\n",
      "69:\tlearn: 22.5734828\ttotal: 386ms\tremaining: 5.13s\n",
      "70:\tlearn: 22.5607619\ttotal: 391ms\tremaining: 5.12s\n",
      "71:\tlearn: 22.5125110\ttotal: 397ms\tremaining: 5.11s\n",
      "72:\tlearn: 22.4633198\ttotal: 402ms\tremaining: 5.1s\n",
      "73:\tlearn: 22.4314529\ttotal: 407ms\tremaining: 5.09s\n",
      "74:\tlearn: 22.3848654\ttotal: 412ms\tremaining: 5.09s\n",
      "75:\tlearn: 22.3374369\ttotal: 418ms\tremaining: 5.08s\n",
      "76:\tlearn: 22.3291238\ttotal: 423ms\tremaining: 5.07s\n",
      "77:\tlearn: 22.3230228\ttotal: 428ms\tremaining: 5.06s\n",
      "78:\tlearn: 22.3120510\ttotal: 433ms\tremaining: 5.05s\n",
      "79:\tlearn: 22.3060268\ttotal: 438ms\tremaining: 5.04s\n",
      "80:\tlearn: 22.2965272\ttotal: 443ms\tremaining: 5.03s\n",
      "81:\tlearn: 22.2908260\ttotal: 448ms\tremaining: 5.02s\n",
      "82:\tlearn: 22.2291345\ttotal: 453ms\tremaining: 5.01s\n",
      "83:\tlearn: 22.2222749\ttotal: 459ms\tremaining: 5s\n",
      "84:\tlearn: 22.2148042\ttotal: 464ms\tremaining: 4.99s\n",
      "85:\tlearn: 22.1784872\ttotal: 470ms\tremaining: 5s\n",
      "86:\tlearn: 22.1619014\ttotal: 478ms\tremaining: 5.02s\n",
      "87:\tlearn: 22.0980332\ttotal: 486ms\tremaining: 5.04s\n",
      "88:\tlearn: 22.0561496\ttotal: 492ms\tremaining: 5.03s\n",
      "89:\tlearn: 22.0253547\ttotal: 497ms\tremaining: 5.03s\n",
      "90:\tlearn: 21.9818558\ttotal: 503ms\tremaining: 5.02s\n",
      "91:\tlearn: 21.9758241\ttotal: 508ms\tremaining: 5.01s\n",
      "92:\tlearn: 21.9310394\ttotal: 513ms\tremaining: 5.01s\n",
      "93:\tlearn: 21.9244761\ttotal: 519ms\tremaining: 5s\n",
      "94:\tlearn: 21.9174114\ttotal: 524ms\tremaining: 4.99s\n",
      "95:\tlearn: 21.8879631\ttotal: 529ms\tremaining: 4.98s\n",
      "96:\tlearn: 21.8644455\ttotal: 534ms\tremaining: 4.97s\n",
      "97:\tlearn: 21.8574145\ttotal: 540ms\tremaining: 4.97s\n",
      "98:\tlearn: 21.8335328\ttotal: 546ms\tremaining: 4.97s\n",
      "99:\tlearn: 21.8050402\ttotal: 551ms\tremaining: 4.96s\n",
      "100:\tlearn: 21.7758054\ttotal: 556ms\tremaining: 4.95s\n",
      "101:\tlearn: 21.7227699\ttotal: 562ms\tremaining: 4.94s\n",
      "102:\tlearn: 21.7057603\ttotal: 567ms\tremaining: 4.93s\n",
      "103:\tlearn: 21.6475355\ttotal: 572ms\tremaining: 4.93s\n",
      "104:\tlearn: 21.6100962\ttotal: 577ms\tremaining: 4.92s\n",
      "105:\tlearn: 21.5998809\ttotal: 583ms\tremaining: 4.91s\n",
      "106:\tlearn: 21.5762686\ttotal: 588ms\tremaining: 4.91s\n",
      "107:\tlearn: 21.5445939\ttotal: 593ms\tremaining: 4.9s\n",
      "108:\tlearn: 21.5249334\ttotal: 598ms\tremaining: 4.89s\n",
      "109:\tlearn: 21.4805676\ttotal: 604ms\tremaining: 4.88s\n",
      "110:\tlearn: 21.4629311\ttotal: 609ms\tremaining: 4.88s\n",
      "111:\tlearn: 21.4268260\ttotal: 614ms\tremaining: 4.87s\n",
      "112:\tlearn: 21.4041842\ttotal: 619ms\tremaining: 4.86s\n",
      "113:\tlearn: 21.3938106\ttotal: 624ms\tremaining: 4.85s\n",
      "114:\tlearn: 21.3498902\ttotal: 630ms\tremaining: 4.84s\n",
      "115:\tlearn: 21.3285016\ttotal: 635ms\tremaining: 4.84s\n",
      "116:\tlearn: 21.3153768\ttotal: 640ms\tremaining: 4.83s\n",
      "117:\tlearn: 21.2971531\ttotal: 646ms\tremaining: 4.83s\n",
      "118:\tlearn: 21.2797792\ttotal: 651ms\tremaining: 4.82s\n",
      "119:\tlearn: 21.2736880\ttotal: 656ms\tremaining: 4.81s\n",
      "120:\tlearn: 21.2359127\ttotal: 661ms\tremaining: 4.8s\n",
      "121:\tlearn: 21.2080295\ttotal: 666ms\tremaining: 4.79s\n",
      "122:\tlearn: 21.1909407\ttotal: 673ms\tremaining: 4.8s\n",
      "123:\tlearn: 21.1519540\ttotal: 680ms\tremaining: 4.8s\n",
      "124:\tlearn: 21.1200745\ttotal: 685ms\tremaining: 4.79s\n",
      "125:\tlearn: 21.0890730\ttotal: 690ms\tremaining: 4.79s\n",
      "126:\tlearn: 21.0581635\ttotal: 695ms\tremaining: 4.78s\n",
      "127:\tlearn: 21.0398628\ttotal: 700ms\tremaining: 4.77s\n",
      "128:\tlearn: 21.0199727\ttotal: 705ms\tremaining: 4.76s\n",
      "129:\tlearn: 20.9991086\ttotal: 710ms\tremaining: 4.75s\n",
      "130:\tlearn: 20.9646929\ttotal: 716ms\tremaining: 4.75s\n",
      "131:\tlearn: 20.9484645\ttotal: 721ms\tremaining: 4.74s\n",
      "132:\tlearn: 20.9204656\ttotal: 726ms\tremaining: 4.73s\n",
      "133:\tlearn: 20.8980945\ttotal: 731ms\tremaining: 4.72s\n",
      "134:\tlearn: 20.8835264\ttotal: 736ms\tremaining: 4.72s\n",
      "135:\tlearn: 20.8560600\ttotal: 741ms\tremaining: 4.71s\n",
      "136:\tlearn: 20.8228636\ttotal: 747ms\tremaining: 4.7s\n",
      "137:\tlearn: 20.7837077\ttotal: 752ms\tremaining: 4.7s\n",
      "138:\tlearn: 20.7629826\ttotal: 757ms\tremaining: 4.69s\n",
      "139:\tlearn: 20.7512644\ttotal: 762ms\tremaining: 4.68s\n",
      "140:\tlearn: 20.7346637\ttotal: 768ms\tremaining: 4.68s\n",
      "141:\tlearn: 20.7151473\ttotal: 773ms\tremaining: 4.67s\n",
      "142:\tlearn: 20.6871159\ttotal: 778ms\tremaining: 4.67s\n",
      "143:\tlearn: 20.6766328\ttotal: 784ms\tremaining: 4.66s\n",
      "144:\tlearn: 20.6637852\ttotal: 789ms\tremaining: 4.65s\n",
      "145:\tlearn: 20.6356290\ttotal: 794ms\tremaining: 4.64s\n",
      "146:\tlearn: 20.6106253\ttotal: 800ms\tremaining: 4.64s\n",
      "147:\tlearn: 20.6073602\ttotal: 805ms\tremaining: 4.63s\n",
      "148:\tlearn: 20.5734228\ttotal: 810ms\tremaining: 4.62s\n",
      "149:\tlearn: 20.5694544\ttotal: 815ms\tremaining: 4.62s\n",
      "150:\tlearn: 20.5343074\ttotal: 820ms\tremaining: 4.61s\n",
      "151:\tlearn: 20.5247980\ttotal: 825ms\tremaining: 4.6s\n",
      "152:\tlearn: 20.4837489\ttotal: 831ms\tremaining: 4.6s\n",
      "153:\tlearn: 20.4659107\ttotal: 837ms\tremaining: 4.6s\n",
      "154:\tlearn: 20.4549100\ttotal: 842ms\tremaining: 4.59s\n",
      "155:\tlearn: 20.4433051\ttotal: 847ms\tremaining: 4.58s\n",
      "156:\tlearn: 20.4399400\ttotal: 853ms\tremaining: 4.58s\n",
      "157:\tlearn: 20.4305704\ttotal: 857ms\tremaining: 4.57s\n",
      "158:\tlearn: 20.4153972\ttotal: 862ms\tremaining: 4.56s\n",
      "159:\tlearn: 20.3989784\ttotal: 868ms\tremaining: 4.55s\n",
      "160:\tlearn: 20.3682656\ttotal: 873ms\tremaining: 4.55s\n",
      "161:\tlearn: 20.3467450\ttotal: 878ms\tremaining: 4.54s\n",
      "162:\tlearn: 20.3177852\ttotal: 884ms\tremaining: 4.54s\n",
      "163:\tlearn: 20.3008568\ttotal: 889ms\tremaining: 4.53s\n",
      "164:\tlearn: 20.2746267\ttotal: 894ms\tremaining: 4.52s\n",
      "165:\tlearn: 20.2696025\ttotal: 899ms\tremaining: 4.52s\n",
      "166:\tlearn: 20.2653396\ttotal: 904ms\tremaining: 4.51s\n",
      "167:\tlearn: 20.2495237\ttotal: 909ms\tremaining: 4.5s\n",
      "168:\tlearn: 20.2345226\ttotal: 914ms\tremaining: 4.5s\n",
      "169:\tlearn: 20.2320212\ttotal: 920ms\tremaining: 4.49s\n",
      "170:\tlearn: 20.2058964\ttotal: 925ms\tremaining: 4.48s\n",
      "171:\tlearn: 20.1946761\ttotal: 930ms\tremaining: 4.48s\n",
      "172:\tlearn: 20.1650199\ttotal: 935ms\tremaining: 4.47s\n",
      "173:\tlearn: 20.1514665\ttotal: 941ms\tremaining: 4.46s\n",
      "174:\tlearn: 20.1120674\ttotal: 946ms\tremaining: 4.46s\n",
      "175:\tlearn: 20.1076734\ttotal: 952ms\tremaining: 4.45s\n",
      "176:\tlearn: 20.0816332\ttotal: 957ms\tremaining: 4.45s\n",
      "177:\tlearn: 20.0509002\ttotal: 962ms\tremaining: 4.44s\n",
      "178:\tlearn: 20.0263122\ttotal: 967ms\tremaining: 4.44s\n",
      "179:\tlearn: 20.0117403\ttotal: 973ms\tremaining: 4.43s\n",
      "180:\tlearn: 19.9856597\ttotal: 978ms\tremaining: 4.42s\n",
      "181:\tlearn: 19.9746412\ttotal: 983ms\tremaining: 4.42s\n",
      "182:\tlearn: 19.9718808\ttotal: 988ms\tremaining: 4.41s\n",
      "183:\tlearn: 19.9481911\ttotal: 994ms\tremaining: 4.41s\n",
      "184:\tlearn: 19.9197777\ttotal: 999ms\tremaining: 4.4s\n",
      "185:\tlearn: 19.8983901\ttotal: 1s\tremaining: 4.39s\n",
      "186:\tlearn: 19.8948319\ttotal: 1.01s\tremaining: 4.39s\n",
      "187:\tlearn: 19.8743338\ttotal: 1.01s\tremaining: 4.38s\n",
      "188:\tlearn: 19.8434147\ttotal: 1.02s\tremaining: 4.38s\n",
      "189:\tlearn: 19.8140174\ttotal: 1.02s\tremaining: 4.37s\n",
      "190:\tlearn: 19.7864667\ttotal: 1.03s\tremaining: 4.37s\n",
      "191:\tlearn: 19.7562415\ttotal: 1.04s\tremaining: 4.36s\n",
      "192:\tlearn: 19.7456894\ttotal: 1.04s\tremaining: 4.35s\n",
      "193:\tlearn: 19.7302894\ttotal: 1.05s\tremaining: 4.35s\n",
      "194:\tlearn: 19.6979759\ttotal: 1.05s\tremaining: 4.34s\n",
      "195:\tlearn: 19.6816442\ttotal: 1.06s\tremaining: 4.34s\n",
      "196:\tlearn: 19.6678712\ttotal: 1.06s\tremaining: 4.33s\n",
      "197:\tlearn: 19.6639003\ttotal: 1.07s\tremaining: 4.33s\n",
      "198:\tlearn: 19.6597814\ttotal: 1.07s\tremaining: 4.32s\n",
      "199:\tlearn: 19.6475223\ttotal: 1.08s\tremaining: 4.32s\n",
      "200:\tlearn: 19.6343999\ttotal: 1.08s\tremaining: 4.31s\n",
      "201:\tlearn: 19.6316514\ttotal: 1.09s\tremaining: 4.3s\n",
      "202:\tlearn: 19.6270900\ttotal: 1.09s\tremaining: 4.3s\n",
      "203:\tlearn: 19.6248370\ttotal: 1.1s\tremaining: 4.29s\n",
      "204:\tlearn: 19.6127219\ttotal: 1.1s\tremaining: 4.29s\n",
      "205:\tlearn: 19.5836731\ttotal: 1.11s\tremaining: 4.28s\n",
      "206:\tlearn: 19.5586963\ttotal: 1.11s\tremaining: 4.27s\n",
      "207:\tlearn: 19.5203388\ttotal: 1.12s\tremaining: 4.27s\n",
      "208:\tlearn: 19.5179657\ttotal: 1.13s\tremaining: 4.26s\n",
      "209:\tlearn: 19.5001727\ttotal: 1.13s\tremaining: 4.26s\n",
      "210:\tlearn: 19.4723156\ttotal: 1.14s\tremaining: 4.25s\n",
      "211:\tlearn: 19.4697152\ttotal: 1.14s\tremaining: 4.25s\n",
      "212:\tlearn: 19.4594723\ttotal: 1.15s\tremaining: 4.24s\n",
      "213:\tlearn: 19.4315115\ttotal: 1.15s\tremaining: 4.24s\n",
      "214:\tlearn: 19.3975051\ttotal: 1.16s\tremaining: 4.23s\n",
      "215:\tlearn: 19.3628653\ttotal: 1.16s\tremaining: 4.22s\n",
      "216:\tlearn: 19.3392149\ttotal: 1.17s\tremaining: 4.22s\n",
      "217:\tlearn: 19.3201632\ttotal: 1.17s\tremaining: 4.21s\n",
      "218:\tlearn: 19.3135299\ttotal: 1.18s\tremaining: 4.21s\n",
      "219:\tlearn: 19.2970475\ttotal: 1.19s\tremaining: 4.2s\n",
      "220:\tlearn: 19.2755107\ttotal: 1.19s\tremaining: 4.2s\n",
      "221:\tlearn: 19.2739033\ttotal: 1.2s\tremaining: 4.19s\n",
      "222:\tlearn: 19.2463400\ttotal: 1.2s\tremaining: 4.19s\n",
      "223:\tlearn: 19.2226896\ttotal: 1.21s\tremaining: 4.18s\n",
      "224:\tlearn: 19.2031190\ttotal: 1.21s\tremaining: 4.18s\n",
      "225:\tlearn: 19.1838836\ttotal: 1.22s\tremaining: 4.17s\n",
      "226:\tlearn: 19.1571634\ttotal: 1.22s\tremaining: 4.17s\n",
      "227:\tlearn: 19.1339902\ttotal: 1.23s\tremaining: 4.16s\n",
      "228:\tlearn: 19.1043097\ttotal: 1.24s\tremaining: 4.16s\n",
      "229:\tlearn: 19.0774775\ttotal: 1.24s\tremaining: 4.16s\n",
      "230:\tlearn: 19.0524075\ttotal: 1.25s\tremaining: 4.15s\n",
      "231:\tlearn: 19.0254698\ttotal: 1.25s\tremaining: 4.14s\n",
      "232:\tlearn: 19.0025190\ttotal: 1.26s\tremaining: 4.14s\n",
      "233:\tlearn: 18.9873228\ttotal: 1.26s\tremaining: 4.13s\n",
      "234:\tlearn: 18.9632280\ttotal: 1.27s\tremaining: 4.13s\n",
      "235:\tlearn: 18.9615793\ttotal: 1.27s\tremaining: 4.12s\n",
      "236:\tlearn: 18.9385729\ttotal: 1.28s\tremaining: 4.12s\n",
      "237:\tlearn: 18.9106760\ttotal: 1.28s\tremaining: 4.11s\n",
      "238:\tlearn: 18.8891447\ttotal: 1.29s\tremaining: 4.11s\n",
      "239:\tlearn: 18.8562479\ttotal: 1.3s\tremaining: 4.1s\n",
      "240:\tlearn: 18.8384901\ttotal: 1.3s\tremaining: 4.1s\n",
      "241:\tlearn: 18.8166362\ttotal: 1.31s\tremaining: 4.09s\n",
      "242:\tlearn: 18.7914592\ttotal: 1.31s\tremaining: 4.09s\n",
      "243:\tlearn: 18.7701927\ttotal: 1.32s\tremaining: 4.08s\n",
      "244:\tlearn: 18.7466161\ttotal: 1.32s\tremaining: 4.08s\n",
      "245:\tlearn: 18.7449181\ttotal: 1.33s\tremaining: 4.07s\n",
      "246:\tlearn: 18.7271300\ttotal: 1.33s\tremaining: 4.07s\n",
      "247:\tlearn: 18.7030587\ttotal: 1.34s\tremaining: 4.06s\n",
      "248:\tlearn: 18.6738321\ttotal: 1.34s\tremaining: 4.06s\n",
      "249:\tlearn: 18.6562370\ttotal: 1.35s\tremaining: 4.05s\n",
      "250:\tlearn: 18.6465485\ttotal: 1.35s\tremaining: 4.04s\n",
      "251:\tlearn: 18.6204325\ttotal: 1.36s\tremaining: 4.04s\n",
      "252:\tlearn: 18.5957337\ttotal: 1.37s\tremaining: 4.03s\n",
      "253:\tlearn: 18.5749836\ttotal: 1.37s\tremaining: 4.03s\n",
      "254:\tlearn: 18.5734561\ttotal: 1.38s\tremaining: 4.02s\n",
      "255:\tlearn: 18.5719673\ttotal: 1.38s\tremaining: 4.02s\n",
      "256:\tlearn: 18.5491056\ttotal: 1.39s\tremaining: 4.01s\n",
      "257:\tlearn: 18.5313110\ttotal: 1.39s\tremaining: 4.01s\n",
      "258:\tlearn: 18.5125121\ttotal: 1.4s\tremaining: 4s\n",
      "259:\tlearn: 18.4954251\ttotal: 1.4s\tremaining: 4s\n",
      "260:\tlearn: 18.4685430\ttotal: 1.41s\tremaining: 3.99s\n",
      "261:\tlearn: 18.4644318\ttotal: 1.42s\tremaining: 3.99s\n",
      "262:\tlearn: 18.4525818\ttotal: 1.42s\tremaining: 3.98s\n",
      "263:\tlearn: 18.4280230\ttotal: 1.43s\tremaining: 3.98s\n",
      "264:\tlearn: 18.4039000\ttotal: 1.43s\tremaining: 3.98s\n",
      "265:\tlearn: 18.3858362\ttotal: 1.44s\tremaining: 3.97s\n",
      "266:\tlearn: 18.3570467\ttotal: 1.44s\tremaining: 3.96s\n",
      "267:\tlearn: 18.3336356\ttotal: 1.45s\tremaining: 3.96s\n",
      "268:\tlearn: 18.3211084\ttotal: 1.46s\tremaining: 3.95s\n",
      "269:\tlearn: 18.2958709\ttotal: 1.46s\tremaining: 3.95s\n",
      "270:\tlearn: 18.2911447\ttotal: 1.47s\tremaining: 3.94s\n",
      "271:\tlearn: 18.2624022\ttotal: 1.47s\tremaining: 3.95s\n",
      "272:\tlearn: 18.2437950\ttotal: 1.48s\tremaining: 3.95s\n",
      "273:\tlearn: 18.2187329\ttotal: 1.49s\tremaining: 3.95s\n",
      "274:\tlearn: 18.2172109\ttotal: 1.5s\tremaining: 3.95s\n",
      "275:\tlearn: 18.2147144\ttotal: 1.5s\tremaining: 3.94s\n",
      "276:\tlearn: 18.2004041\ttotal: 1.51s\tremaining: 3.94s\n",
      "277:\tlearn: 18.1865412\ttotal: 1.51s\tremaining: 3.94s\n",
      "278:\tlearn: 18.1649216\ttotal: 1.52s\tremaining: 3.93s\n",
      "279:\tlearn: 18.1485097\ttotal: 1.52s\tremaining: 3.92s\n",
      "280:\tlearn: 18.1318149\ttotal: 1.53s\tremaining: 3.92s\n",
      "281:\tlearn: 18.1079991\ttotal: 1.54s\tremaining: 3.91s\n",
      "282:\tlearn: 18.0898578\ttotal: 1.54s\tremaining: 3.9s\n",
      "283:\tlearn: 18.0788968\ttotal: 1.55s\tremaining: 3.9s\n",
      "284:\tlearn: 18.0586212\ttotal: 1.55s\tremaining: 3.89s\n",
      "285:\tlearn: 18.0395716\ttotal: 1.56s\tremaining: 3.89s\n",
      "286:\tlearn: 18.0082082\ttotal: 1.56s\tremaining: 3.88s\n",
      "287:\tlearn: 17.9965292\ttotal: 1.57s\tremaining: 3.88s\n",
      "288:\tlearn: 17.9750780\ttotal: 1.57s\tremaining: 3.87s\n",
      "289:\tlearn: 17.9536761\ttotal: 1.58s\tremaining: 3.87s\n",
      "290:\tlearn: 17.9410646\ttotal: 1.58s\tremaining: 3.86s\n",
      "291:\tlearn: 17.9156717\ttotal: 1.59s\tremaining: 3.85s\n",
      "292:\tlearn: 17.8965097\ttotal: 1.59s\tremaining: 3.85s\n",
      "293:\tlearn: 17.8698127\ttotal: 1.6s\tremaining: 3.85s\n",
      "294:\tlearn: 17.8439963\ttotal: 1.61s\tremaining: 3.84s\n",
      "295:\tlearn: 17.8284717\ttotal: 1.61s\tremaining: 3.84s\n",
      "296:\tlearn: 17.7952967\ttotal: 1.62s\tremaining: 3.83s\n",
      "297:\tlearn: 17.7738373\ttotal: 1.63s\tremaining: 3.83s\n",
      "298:\tlearn: 17.7514900\ttotal: 1.63s\tremaining: 3.82s\n",
      "299:\tlearn: 17.7323833\ttotal: 1.64s\tremaining: 3.82s\n",
      "300:\tlearn: 17.7166728\ttotal: 1.64s\tremaining: 3.81s\n",
      "301:\tlearn: 17.7061182\ttotal: 1.65s\tremaining: 3.81s\n",
      "302:\tlearn: 17.6929317\ttotal: 1.65s\tremaining: 3.8s\n",
      "303:\tlearn: 17.6722798\ttotal: 1.66s\tremaining: 3.8s\n",
      "304:\tlearn: 17.6529629\ttotal: 1.66s\tremaining: 3.79s\n",
      "305:\tlearn: 17.6341305\ttotal: 1.67s\tremaining: 3.79s\n",
      "306:\tlearn: 17.6159958\ttotal: 1.68s\tremaining: 3.78s\n",
      "307:\tlearn: 17.6003645\ttotal: 1.68s\tremaining: 3.77s\n",
      "308:\tlearn: 17.5889168\ttotal: 1.69s\tremaining: 3.77s\n",
      "309:\tlearn: 17.5731118\ttotal: 1.69s\tremaining: 3.77s\n",
      "310:\tlearn: 17.5605615\ttotal: 1.7s\tremaining: 3.76s\n",
      "311:\tlearn: 17.5428698\ttotal: 1.71s\tremaining: 3.76s\n",
      "312:\tlearn: 17.5216122\ttotal: 1.71s\tremaining: 3.76s\n",
      "313:\tlearn: 17.5026128\ttotal: 1.72s\tremaining: 3.76s\n",
      "314:\tlearn: 17.4792845\ttotal: 1.73s\tremaining: 3.76s\n",
      "315:\tlearn: 17.4616270\ttotal: 1.74s\tremaining: 3.77s\n",
      "316:\tlearn: 17.4375488\ttotal: 1.74s\tremaining: 3.76s\n",
      "317:\tlearn: 17.4287819\ttotal: 1.75s\tremaining: 3.75s\n",
      "318:\tlearn: 17.4162513\ttotal: 1.75s\tremaining: 3.75s\n",
      "319:\tlearn: 17.4007806\ttotal: 1.76s\tremaining: 3.74s\n",
      "320:\tlearn: 17.3994163\ttotal: 1.76s\tremaining: 3.73s\n",
      "321:\tlearn: 17.3884726\ttotal: 1.77s\tremaining: 3.73s\n",
      "322:\tlearn: 17.3727703\ttotal: 1.78s\tremaining: 3.72s\n",
      "323:\tlearn: 17.3562722\ttotal: 1.78s\tremaining: 3.72s\n",
      "324:\tlearn: 17.3276728\ttotal: 1.79s\tremaining: 3.71s\n",
      "325:\tlearn: 17.3016996\ttotal: 1.79s\tremaining: 3.71s\n",
      "326:\tlearn: 17.2825518\ttotal: 1.8s\tremaining: 3.7s\n",
      "327:\tlearn: 17.2653476\ttotal: 1.8s\tremaining: 3.69s\n",
      "328:\tlearn: 17.2532924\ttotal: 1.81s\tremaining: 3.69s\n",
      "329:\tlearn: 17.2268057\ttotal: 1.82s\tremaining: 3.69s\n",
      "330:\tlearn: 17.2062284\ttotal: 1.83s\tremaining: 3.69s\n",
      "331:\tlearn: 17.1960808\ttotal: 1.83s\tremaining: 3.69s\n",
      "332:\tlearn: 17.1888335\ttotal: 1.84s\tremaining: 3.68s\n",
      "333:\tlearn: 17.1681201\ttotal: 1.84s\tremaining: 3.67s\n",
      "334:\tlearn: 17.1513494\ttotal: 1.85s\tremaining: 3.67s\n",
      "335:\tlearn: 17.1323675\ttotal: 1.86s\tremaining: 3.67s\n",
      "336:\tlearn: 17.1154185\ttotal: 1.86s\tremaining: 3.66s\n",
      "337:\tlearn: 17.1140115\ttotal: 1.87s\tremaining: 3.66s\n",
      "338:\tlearn: 17.0991316\ttotal: 1.87s\tremaining: 3.65s\n",
      "339:\tlearn: 17.0801560\ttotal: 1.88s\tremaining: 3.65s\n",
      "340:\tlearn: 17.0670994\ttotal: 1.88s\tremaining: 3.64s\n",
      "341:\tlearn: 17.0535743\ttotal: 1.89s\tremaining: 3.63s\n",
      "342:\tlearn: 17.0522687\ttotal: 1.89s\tremaining: 3.63s\n",
      "343:\tlearn: 17.0314880\ttotal: 1.9s\tremaining: 3.62s\n",
      "344:\tlearn: 17.0157979\ttotal: 1.9s\tremaining: 3.62s\n",
      "345:\tlearn: 17.0046433\ttotal: 1.91s\tremaining: 3.61s\n",
      "346:\tlearn: 16.9816875\ttotal: 1.91s\tremaining: 3.6s\n",
      "347:\tlearn: 16.9661709\ttotal: 1.92s\tremaining: 3.6s\n",
      "348:\tlearn: 16.9551821\ttotal: 1.93s\tremaining: 3.59s\n",
      "349:\tlearn: 16.9363343\ttotal: 1.93s\tremaining: 3.59s\n",
      "350:\tlearn: 16.9103558\ttotal: 1.94s\tremaining: 3.58s\n",
      "351:\tlearn: 16.8970186\ttotal: 1.94s\tremaining: 3.57s\n",
      "352:\tlearn: 16.8808088\ttotal: 1.95s\tremaining: 3.57s\n",
      "353:\tlearn: 16.8647759\ttotal: 1.95s\tremaining: 3.56s\n",
      "354:\tlearn: 16.8521745\ttotal: 1.96s\tremaining: 3.56s\n",
      "355:\tlearn: 16.8411540\ttotal: 1.96s\tremaining: 3.55s\n",
      "356:\tlearn: 16.8268595\ttotal: 1.97s\tremaining: 3.54s\n",
      "357:\tlearn: 16.8164386\ttotal: 1.97s\tremaining: 3.54s\n",
      "358:\tlearn: 16.8076545\ttotal: 1.98s\tremaining: 3.53s\n",
      "359:\tlearn: 16.7953804\ttotal: 1.98s\tremaining: 3.53s\n",
      "360:\tlearn: 16.7837855\ttotal: 1.99s\tremaining: 3.52s\n",
      "361:\tlearn: 16.7699410\ttotal: 1.99s\tremaining: 3.52s\n",
      "362:\tlearn: 16.7685914\ttotal: 2s\tremaining: 3.51s\n",
      "363:\tlearn: 16.7531887\ttotal: 2s\tremaining: 3.5s\n",
      "364:\tlearn: 16.7396225\ttotal: 2.01s\tremaining: 3.5s\n",
      "365:\tlearn: 16.7270329\ttotal: 2.02s\tremaining: 3.49s\n",
      "366:\tlearn: 16.7069015\ttotal: 2.02s\tremaining: 3.48s\n",
      "367:\tlearn: 16.6882476\ttotal: 2.02s\tremaining: 3.48s\n",
      "368:\tlearn: 16.6737043\ttotal: 2.03s\tremaining: 3.47s\n",
      "369:\tlearn: 16.6594925\ttotal: 2.04s\tremaining: 3.47s\n",
      "370:\tlearn: 16.6457701\ttotal: 2.04s\tremaining: 3.46s\n",
      "371:\tlearn: 16.6299001\ttotal: 2.05s\tremaining: 3.46s\n",
      "372:\tlearn: 16.6159637\ttotal: 2.05s\tremaining: 3.45s\n",
      "373:\tlearn: 16.5951269\ttotal: 2.06s\tremaining: 3.44s\n",
      "374:\tlearn: 16.5832136\ttotal: 2.06s\tremaining: 3.44s\n",
      "375:\tlearn: 16.5626097\ttotal: 2.07s\tremaining: 3.43s\n",
      "376:\tlearn: 16.5610464\ttotal: 2.07s\tremaining: 3.43s\n",
      "377:\tlearn: 16.5597666\ttotal: 2.08s\tremaining: 3.42s\n",
      "378:\tlearn: 16.5490532\ttotal: 2.08s\tremaining: 3.42s\n",
      "379:\tlearn: 16.5376707\ttotal: 2.09s\tremaining: 3.41s\n",
      "380:\tlearn: 16.5278277\ttotal: 2.09s\tremaining: 3.4s\n",
      "381:\tlearn: 16.5086067\ttotal: 2.1s\tremaining: 3.4s\n",
      "382:\tlearn: 16.4860405\ttotal: 2.1s\tremaining: 3.39s\n",
      "383:\tlearn: 16.4673761\ttotal: 2.11s\tremaining: 3.38s\n",
      "384:\tlearn: 16.4453805\ttotal: 2.12s\tremaining: 3.38s\n",
      "385:\tlearn: 16.4364296\ttotal: 2.12s\tremaining: 3.37s\n",
      "386:\tlearn: 16.4258323\ttotal: 2.13s\tremaining: 3.37s\n",
      "387:\tlearn: 16.4070350\ttotal: 2.13s\tremaining: 3.36s\n",
      "388:\tlearn: 16.3891453\ttotal: 2.14s\tremaining: 3.36s\n",
      "389:\tlearn: 16.3711880\ttotal: 2.14s\tremaining: 3.35s\n",
      "390:\tlearn: 16.3638268\ttotal: 2.15s\tremaining: 3.35s\n",
      "391:\tlearn: 16.3490496\ttotal: 2.15s\tremaining: 3.34s\n",
      "392:\tlearn: 16.3382650\ttotal: 2.16s\tremaining: 3.34s\n",
      "393:\tlearn: 16.3227213\ttotal: 2.17s\tremaining: 3.33s\n",
      "394:\tlearn: 16.3074707\ttotal: 2.17s\tremaining: 3.33s\n",
      "395:\tlearn: 16.2926773\ttotal: 2.18s\tremaining: 3.32s\n",
      "396:\tlearn: 16.2804611\ttotal: 2.19s\tremaining: 3.32s\n",
      "397:\tlearn: 16.2652608\ttotal: 2.19s\tremaining: 3.32s\n",
      "398:\tlearn: 16.2515112\ttotal: 2.2s\tremaining: 3.31s\n",
      "399:\tlearn: 16.2364070\ttotal: 2.21s\tremaining: 3.31s\n",
      "400:\tlearn: 16.2294057\ttotal: 2.21s\tremaining: 3.31s\n",
      "401:\tlearn: 16.2142175\ttotal: 2.22s\tremaining: 3.3s\n",
      "402:\tlearn: 16.2073276\ttotal: 2.23s\tremaining: 3.3s\n",
      "403:\tlearn: 16.1927169\ttotal: 2.23s\tremaining: 3.29s\n",
      "404:\tlearn: 16.1797830\ttotal: 2.24s\tremaining: 3.29s\n",
      "405:\tlearn: 16.1670958\ttotal: 2.24s\tremaining: 3.28s\n",
      "406:\tlearn: 16.1526835\ttotal: 2.25s\tremaining: 3.27s\n",
      "407:\tlearn: 16.1403302\ttotal: 2.25s\tremaining: 3.27s\n",
      "408:\tlearn: 16.1231679\ttotal: 2.26s\tremaining: 3.26s\n",
      "409:\tlearn: 16.1113023\ttotal: 2.26s\tremaining: 3.26s\n",
      "410:\tlearn: 16.0936681\ttotal: 2.27s\tremaining: 3.25s\n",
      "411:\tlearn: 16.0770285\ttotal: 2.27s\tremaining: 3.25s\n",
      "412:\tlearn: 16.0600503\ttotal: 2.28s\tremaining: 3.24s\n",
      "413:\tlearn: 16.0393195\ttotal: 2.29s\tremaining: 3.24s\n",
      "414:\tlearn: 16.0277108\ttotal: 2.29s\tremaining: 3.23s\n",
      "415:\tlearn: 16.0263654\ttotal: 2.3s\tremaining: 3.23s\n",
      "416:\tlearn: 16.0072903\ttotal: 2.3s\tremaining: 3.22s\n",
      "417:\tlearn: 15.9878821\ttotal: 2.31s\tremaining: 3.21s\n",
      "418:\tlearn: 15.9739917\ttotal: 2.31s\tremaining: 3.21s\n",
      "419:\tlearn: 15.9667856\ttotal: 2.32s\tremaining: 3.2s\n",
      "420:\tlearn: 15.9659812\ttotal: 2.32s\tremaining: 3.2s\n",
      "421:\tlearn: 15.9580018\ttotal: 2.33s\tremaining: 3.19s\n",
      "422:\tlearn: 15.9439354\ttotal: 2.33s\tremaining: 3.18s\n",
      "423:\tlearn: 15.9362161\ttotal: 2.34s\tremaining: 3.18s\n",
      "424:\tlearn: 15.9305217\ttotal: 2.34s\tremaining: 3.17s\n",
      "425:\tlearn: 15.9110595\ttotal: 2.35s\tremaining: 3.17s\n",
      "426:\tlearn: 15.8969282\ttotal: 2.35s\tremaining: 3.16s\n",
      "427:\tlearn: 15.8798854\ttotal: 2.36s\tremaining: 3.15s\n",
      "428:\tlearn: 15.8665133\ttotal: 2.37s\tremaining: 3.15s\n",
      "429:\tlearn: 15.8609103\ttotal: 2.37s\tremaining: 3.15s\n",
      "430:\tlearn: 15.8495595\ttotal: 2.38s\tremaining: 3.14s\n",
      "431:\tlearn: 15.8403155\ttotal: 2.38s\tremaining: 3.13s\n",
      "432:\tlearn: 15.8255347\ttotal: 2.39s\tremaining: 3.13s\n",
      "433:\tlearn: 15.8157091\ttotal: 2.39s\tremaining: 3.12s\n",
      "434:\tlearn: 15.8074713\ttotal: 2.4s\tremaining: 3.12s\n",
      "435:\tlearn: 15.7935892\ttotal: 2.4s\tremaining: 3.11s\n",
      "436:\tlearn: 15.7843604\ttotal: 2.41s\tremaining: 3.11s\n",
      "437:\tlearn: 15.7753287\ttotal: 2.42s\tremaining: 3.1s\n",
      "438:\tlearn: 15.7699109\ttotal: 2.42s\tremaining: 3.1s\n",
      "439:\tlearn: 15.7580737\ttotal: 2.43s\tremaining: 3.09s\n",
      "440:\tlearn: 15.7442767\ttotal: 2.43s\tremaining: 3.08s\n",
      "441:\tlearn: 15.7307724\ttotal: 2.44s\tremaining: 3.08s\n",
      "442:\tlearn: 15.7218425\ttotal: 2.44s\tremaining: 3.07s\n",
      "443:\tlearn: 15.7052488\ttotal: 2.45s\tremaining: 3.06s\n",
      "444:\tlearn: 15.6910101\ttotal: 2.45s\tremaining: 3.06s\n",
      "445:\tlearn: 15.6795029\ttotal: 2.46s\tremaining: 3.05s\n",
      "446:\tlearn: 15.6714541\ttotal: 2.46s\tremaining: 3.05s\n",
      "447:\tlearn: 15.6669828\ttotal: 2.47s\tremaining: 3.04s\n",
      "448:\tlearn: 15.6622397\ttotal: 2.47s\tremaining: 3.04s\n",
      "449:\tlearn: 15.6473113\ttotal: 2.48s\tremaining: 3.03s\n",
      "450:\tlearn: 15.6465350\ttotal: 2.48s\tremaining: 3.02s\n",
      "451:\tlearn: 15.6341673\ttotal: 2.49s\tremaining: 3.02s\n",
      "452:\tlearn: 15.6322970\ttotal: 2.49s\tremaining: 3.01s\n",
      "453:\tlearn: 15.6203761\ttotal: 2.5s\tremaining: 3.01s\n",
      "454:\tlearn: 15.6140773\ttotal: 2.5s\tremaining: 3s\n",
      "455:\tlearn: 15.6003181\ttotal: 2.51s\tremaining: 2.99s\n",
      "456:\tlearn: 15.5892167\ttotal: 2.51s\tremaining: 2.99s\n",
      "457:\tlearn: 15.5776379\ttotal: 2.52s\tremaining: 2.98s\n",
      "458:\tlearn: 15.5610999\ttotal: 2.52s\tremaining: 2.98s\n",
      "459:\tlearn: 15.5456875\ttotal: 2.53s\tremaining: 2.97s\n",
      "460:\tlearn: 15.5438443\ttotal: 2.54s\tremaining: 2.96s\n",
      "461:\tlearn: 15.5325638\ttotal: 2.54s\tremaining: 2.96s\n",
      "462:\tlearn: 15.5199495\ttotal: 2.55s\tremaining: 2.95s\n",
      "463:\tlearn: 15.5090129\ttotal: 2.55s\tremaining: 2.95s\n",
      "464:\tlearn: 15.5002751\ttotal: 2.56s\tremaining: 2.94s\n",
      "465:\tlearn: 15.4993798\ttotal: 2.56s\tremaining: 2.94s\n",
      "466:\tlearn: 15.4898724\ttotal: 2.57s\tremaining: 2.93s\n",
      "467:\tlearn: 15.4817697\ttotal: 2.58s\tremaining: 2.93s\n",
      "468:\tlearn: 15.4732840\ttotal: 2.58s\tremaining: 2.92s\n",
      "469:\tlearn: 15.4574509\ttotal: 2.59s\tremaining: 2.92s\n",
      "470:\tlearn: 15.4458593\ttotal: 2.59s\tremaining: 2.91s\n",
      "471:\tlearn: 15.4318032\ttotal: 2.6s\tremaining: 2.9s\n",
      "472:\tlearn: 15.4219858\ttotal: 2.6s\tremaining: 2.9s\n",
      "473:\tlearn: 15.4059834\ttotal: 2.61s\tremaining: 2.89s\n",
      "474:\tlearn: 15.3928191\ttotal: 2.61s\tremaining: 2.89s\n",
      "475:\tlearn: 15.3831064\ttotal: 2.62s\tremaining: 2.88s\n",
      "476:\tlearn: 15.3673147\ttotal: 2.62s\tremaining: 2.88s\n",
      "477:\tlearn: 15.3664455\ttotal: 2.63s\tremaining: 2.87s\n",
      "478:\tlearn: 15.3543588\ttotal: 2.63s\tremaining: 2.86s\n",
      "479:\tlearn: 15.3350302\ttotal: 2.64s\tremaining: 2.86s\n",
      "480:\tlearn: 15.3225323\ttotal: 2.64s\tremaining: 2.85s\n",
      "481:\tlearn: 15.3008136\ttotal: 2.65s\tremaining: 2.85s\n",
      "482:\tlearn: 15.3001537\ttotal: 2.65s\tremaining: 2.84s\n",
      "483:\tlearn: 15.2813613\ttotal: 2.66s\tremaining: 2.84s\n",
      "484:\tlearn: 15.2728509\ttotal: 2.67s\tremaining: 2.83s\n",
      "485:\tlearn: 15.2716473\ttotal: 2.67s\tremaining: 2.82s\n",
      "486:\tlearn: 15.2620180\ttotal: 2.68s\tremaining: 2.82s\n",
      "487:\tlearn: 15.2507546\ttotal: 2.68s\tremaining: 2.81s\n",
      "488:\tlearn: 15.2363992\ttotal: 2.69s\tremaining: 2.81s\n",
      "489:\tlearn: 15.2201564\ttotal: 2.69s\tremaining: 2.8s\n",
      "490:\tlearn: 15.2065204\ttotal: 2.7s\tremaining: 2.8s\n",
      "491:\tlearn: 15.1938650\ttotal: 2.7s\tremaining: 2.79s\n",
      "492:\tlearn: 15.1815324\ttotal: 2.71s\tremaining: 2.79s\n",
      "493:\tlearn: 15.1700651\ttotal: 2.71s\tremaining: 2.78s\n",
      "494:\tlearn: 15.1606198\ttotal: 2.72s\tremaining: 2.77s\n",
      "495:\tlearn: 15.1463106\ttotal: 2.73s\tremaining: 2.77s\n",
      "496:\tlearn: 15.1339188\ttotal: 2.73s\tremaining: 2.76s\n",
      "497:\tlearn: 15.1325973\ttotal: 2.74s\tremaining: 2.76s\n",
      "498:\tlearn: 15.1249360\ttotal: 2.74s\tremaining: 2.75s\n",
      "499:\tlearn: 15.1208665\ttotal: 2.75s\tremaining: 2.75s\n",
      "500:\tlearn: 15.1098572\ttotal: 2.75s\tremaining: 2.74s\n",
      "501:\tlearn: 15.1049567\ttotal: 2.76s\tremaining: 2.74s\n",
      "502:\tlearn: 15.0942068\ttotal: 2.76s\tremaining: 2.73s\n",
      "503:\tlearn: 15.0811268\ttotal: 2.77s\tremaining: 2.73s\n",
      "504:\tlearn: 15.0703657\ttotal: 2.77s\tremaining: 2.72s\n",
      "505:\tlearn: 15.0610930\ttotal: 2.78s\tremaining: 2.71s\n",
      "506:\tlearn: 15.0549667\ttotal: 2.79s\tremaining: 2.71s\n",
      "507:\tlearn: 15.0432148\ttotal: 2.79s\tremaining: 2.7s\n",
      "508:\tlearn: 15.0288725\ttotal: 2.79s\tremaining: 2.7s\n",
      "509:\tlearn: 15.0131440\ttotal: 2.8s\tremaining: 2.69s\n",
      "510:\tlearn: 14.9999929\ttotal: 2.81s\tremaining: 2.69s\n",
      "511:\tlearn: 14.9939811\ttotal: 2.81s\tremaining: 2.68s\n",
      "512:\tlearn: 14.9838393\ttotal: 2.82s\tremaining: 2.67s\n",
      "513:\tlearn: 14.9671481\ttotal: 2.83s\tremaining: 2.67s\n",
      "514:\tlearn: 14.9580556\ttotal: 2.83s\tremaining: 2.67s\n",
      "515:\tlearn: 14.9520124\ttotal: 2.84s\tremaining: 2.67s\n",
      "516:\tlearn: 14.9399878\ttotal: 2.85s\tremaining: 2.67s\n",
      "517:\tlearn: 14.9283200\ttotal: 2.86s\tremaining: 2.66s\n",
      "518:\tlearn: 14.9096749\ttotal: 2.86s\tremaining: 2.65s\n",
      "519:\tlearn: 14.8971932\ttotal: 2.87s\tremaining: 2.65s\n",
      "520:\tlearn: 14.8866082\ttotal: 2.88s\tremaining: 2.64s\n",
      "521:\tlearn: 14.8712379\ttotal: 2.88s\tremaining: 2.64s\n",
      "522:\tlearn: 14.8655983\ttotal: 2.88s\tremaining: 2.63s\n",
      "523:\tlearn: 14.8568778\ttotal: 2.89s\tremaining: 2.63s\n",
      "524:\tlearn: 14.8405091\ttotal: 2.9s\tremaining: 2.62s\n",
      "525:\tlearn: 14.8272884\ttotal: 2.9s\tremaining: 2.62s\n",
      "526:\tlearn: 14.8165832\ttotal: 2.91s\tremaining: 2.61s\n",
      "527:\tlearn: 14.7994829\ttotal: 2.91s\tremaining: 2.6s\n",
      "528:\tlearn: 14.7867390\ttotal: 2.92s\tremaining: 2.6s\n",
      "529:\tlearn: 14.7739397\ttotal: 2.92s\tremaining: 2.59s\n",
      "530:\tlearn: 14.7726231\ttotal: 2.93s\tremaining: 2.59s\n",
      "531:\tlearn: 14.7609390\ttotal: 2.93s\tremaining: 2.58s\n",
      "532:\tlearn: 14.7497553\ttotal: 2.94s\tremaining: 2.58s\n",
      "533:\tlearn: 14.7369834\ttotal: 2.95s\tremaining: 2.57s\n",
      "534:\tlearn: 14.7363528\ttotal: 2.95s\tremaining: 2.57s\n",
      "535:\tlearn: 14.7285342\ttotal: 2.96s\tremaining: 2.56s\n",
      "536:\tlearn: 14.7155558\ttotal: 2.96s\tremaining: 2.55s\n",
      "537:\tlearn: 14.7036029\ttotal: 2.97s\tremaining: 2.55s\n",
      "538:\tlearn: 14.6903950\ttotal: 2.97s\tremaining: 2.54s\n",
      "539:\tlearn: 14.6780266\ttotal: 2.98s\tremaining: 2.54s\n",
      "540:\tlearn: 14.6644784\ttotal: 2.98s\tremaining: 2.53s\n",
      "541:\tlearn: 14.6558208\ttotal: 2.99s\tremaining: 2.53s\n",
      "542:\tlearn: 14.6444440\ttotal: 3s\tremaining: 2.52s\n",
      "543:\tlearn: 14.6300267\ttotal: 3s\tremaining: 2.52s\n",
      "544:\tlearn: 14.6165449\ttotal: 3.01s\tremaining: 2.51s\n",
      "545:\tlearn: 14.6081641\ttotal: 3.01s\tremaining: 2.5s\n",
      "546:\tlearn: 14.5966548\ttotal: 3.02s\tremaining: 2.5s\n",
      "547:\tlearn: 14.5833119\ttotal: 3.02s\tremaining: 2.49s\n",
      "548:\tlearn: 14.5708457\ttotal: 3.03s\tremaining: 2.49s\n",
      "549:\tlearn: 14.5612049\ttotal: 3.03s\tremaining: 2.48s\n",
      "550:\tlearn: 14.5500426\ttotal: 3.04s\tremaining: 2.48s\n",
      "551:\tlearn: 14.5425179\ttotal: 3.04s\tremaining: 2.47s\n",
      "552:\tlearn: 14.5356944\ttotal: 3.05s\tremaining: 2.46s\n",
      "553:\tlearn: 14.5275938\ttotal: 3.06s\tremaining: 2.46s\n",
      "554:\tlearn: 14.5126418\ttotal: 3.06s\tremaining: 2.45s\n",
      "555:\tlearn: 14.5117364\ttotal: 3.06s\tremaining: 2.45s\n",
      "556:\tlearn: 14.4976486\ttotal: 3.07s\tremaining: 2.44s\n",
      "557:\tlearn: 14.4851367\ttotal: 3.08s\tremaining: 2.44s\n",
      "558:\tlearn: 14.4845559\ttotal: 3.08s\tremaining: 2.43s\n",
      "559:\tlearn: 14.4693698\ttotal: 3.09s\tremaining: 2.42s\n",
      "560:\tlearn: 14.4651310\ttotal: 3.09s\tremaining: 2.42s\n",
      "561:\tlearn: 14.4491948\ttotal: 3.1s\tremaining: 2.41s\n",
      "562:\tlearn: 14.4399765\ttotal: 3.1s\tremaining: 2.41s\n",
      "563:\tlearn: 14.4293643\ttotal: 3.11s\tremaining: 2.4s\n",
      "564:\tlearn: 14.4221794\ttotal: 3.11s\tremaining: 2.4s\n",
      "565:\tlearn: 14.4156861\ttotal: 3.12s\tremaining: 2.39s\n",
      "566:\tlearn: 14.4063318\ttotal: 3.12s\tremaining: 2.38s\n",
      "567:\tlearn: 14.4057324\ttotal: 3.13s\tremaining: 2.38s\n",
      "568:\tlearn: 14.3971014\ttotal: 3.13s\tremaining: 2.38s\n",
      "569:\tlearn: 14.3887009\ttotal: 3.14s\tremaining: 2.37s\n",
      "570:\tlearn: 14.3841042\ttotal: 3.15s\tremaining: 2.36s\n",
      "571:\tlearn: 14.3695330\ttotal: 3.15s\tremaining: 2.36s\n",
      "572:\tlearn: 14.3647255\ttotal: 3.16s\tremaining: 2.35s\n",
      "573:\tlearn: 14.3566971\ttotal: 3.16s\tremaining: 2.35s\n",
      "574:\tlearn: 14.3445613\ttotal: 3.17s\tremaining: 2.34s\n",
      "575:\tlearn: 14.3337610\ttotal: 3.17s\tremaining: 2.34s\n",
      "576:\tlearn: 14.3306497\ttotal: 3.18s\tremaining: 2.33s\n",
      "577:\tlearn: 14.3183539\ttotal: 3.19s\tremaining: 2.33s\n",
      "578:\tlearn: 14.3072077\ttotal: 3.19s\tremaining: 2.32s\n",
      "579:\tlearn: 14.2952746\ttotal: 3.2s\tremaining: 2.31s\n",
      "580:\tlearn: 14.2884702\ttotal: 3.2s\tremaining: 2.31s\n",
      "581:\tlearn: 14.2803428\ttotal: 3.21s\tremaining: 2.3s\n",
      "582:\tlearn: 14.2691289\ttotal: 3.21s\tremaining: 2.3s\n",
      "583:\tlearn: 14.2587066\ttotal: 3.22s\tremaining: 2.29s\n",
      "584:\tlearn: 14.2495562\ttotal: 3.22s\tremaining: 2.29s\n",
      "585:\tlearn: 14.2344918\ttotal: 3.23s\tremaining: 2.28s\n",
      "586:\tlearn: 14.2214616\ttotal: 3.23s\tremaining: 2.28s\n",
      "587:\tlearn: 14.2090942\ttotal: 3.24s\tremaining: 2.27s\n",
      "588:\tlearn: 14.2051524\ttotal: 3.25s\tremaining: 2.27s\n",
      "589:\tlearn: 14.1913019\ttotal: 3.25s\tremaining: 2.26s\n",
      "590:\tlearn: 14.1801926\ttotal: 3.26s\tremaining: 2.25s\n",
      "591:\tlearn: 14.1737272\ttotal: 3.26s\tremaining: 2.25s\n",
      "592:\tlearn: 14.1658927\ttotal: 3.27s\tremaining: 2.24s\n",
      "593:\tlearn: 14.1608247\ttotal: 3.27s\tremaining: 2.24s\n",
      "594:\tlearn: 14.1465886\ttotal: 3.28s\tremaining: 2.23s\n",
      "595:\tlearn: 14.1379963\ttotal: 3.28s\tremaining: 2.23s\n",
      "596:\tlearn: 14.1299232\ttotal: 3.29s\tremaining: 2.22s\n",
      "597:\tlearn: 14.1176644\ttotal: 3.29s\tremaining: 2.21s\n",
      "598:\tlearn: 14.1126662\ttotal: 3.3s\tremaining: 2.21s\n",
      "599:\tlearn: 14.0965254\ttotal: 3.31s\tremaining: 2.2s\n",
      "600:\tlearn: 14.0906027\ttotal: 3.31s\tremaining: 2.2s\n",
      "601:\tlearn: 14.0822661\ttotal: 3.32s\tremaining: 2.19s\n",
      "602:\tlearn: 14.0707768\ttotal: 3.32s\tremaining: 2.19s\n",
      "603:\tlearn: 14.0639430\ttotal: 3.33s\tremaining: 2.18s\n",
      "604:\tlearn: 14.0481329\ttotal: 3.33s\tremaining: 2.18s\n",
      "605:\tlearn: 14.0410049\ttotal: 3.34s\tremaining: 2.17s\n",
      "606:\tlearn: 14.0303775\ttotal: 3.35s\tremaining: 2.17s\n",
      "607:\tlearn: 14.0220328\ttotal: 3.35s\tremaining: 2.16s\n",
      "608:\tlearn: 14.0103553\ttotal: 3.35s\tremaining: 2.15s\n",
      "609:\tlearn: 13.9971715\ttotal: 3.36s\tremaining: 2.15s\n",
      "610:\tlearn: 13.9924866\ttotal: 3.37s\tremaining: 2.14s\n",
      "611:\tlearn: 13.9845086\ttotal: 3.37s\tremaining: 2.14s\n",
      "612:\tlearn: 13.9759481\ttotal: 3.38s\tremaining: 2.13s\n",
      "613:\tlearn: 13.9660505\ttotal: 3.38s\tremaining: 2.13s\n",
      "614:\tlearn: 13.9610900\ttotal: 3.39s\tremaining: 2.12s\n",
      "615:\tlearn: 13.9485461\ttotal: 3.39s\tremaining: 2.12s\n",
      "616:\tlearn: 13.9413677\ttotal: 3.4s\tremaining: 2.11s\n",
      "617:\tlearn: 13.9314186\ttotal: 3.4s\tremaining: 2.1s\n",
      "618:\tlearn: 13.9212142\ttotal: 3.41s\tremaining: 2.1s\n",
      "619:\tlearn: 13.9112948\ttotal: 3.41s\tremaining: 2.09s\n",
      "620:\tlearn: 13.9042565\ttotal: 3.42s\tremaining: 2.09s\n",
      "621:\tlearn: 13.8891628\ttotal: 3.42s\tremaining: 2.08s\n",
      "622:\tlearn: 13.8801139\ttotal: 3.43s\tremaining: 2.08s\n",
      "623:\tlearn: 13.8671656\ttotal: 3.43s\tremaining: 2.07s\n",
      "624:\tlearn: 13.8593936\ttotal: 3.44s\tremaining: 2.06s\n",
      "625:\tlearn: 13.8587950\ttotal: 3.44s\tremaining: 2.06s\n",
      "626:\tlearn: 13.8520071\ttotal: 3.45s\tremaining: 2.05s\n",
      "627:\tlearn: 13.8384578\ttotal: 3.46s\tremaining: 2.05s\n",
      "628:\tlearn: 13.8287359\ttotal: 3.46s\tremaining: 2.04s\n",
      "629:\tlearn: 13.8125930\ttotal: 3.46s\tremaining: 2.04s\n",
      "630:\tlearn: 13.8000587\ttotal: 3.47s\tremaining: 2.03s\n",
      "631:\tlearn: 13.7943290\ttotal: 3.48s\tremaining: 2.02s\n",
      "632:\tlearn: 13.7866198\ttotal: 3.48s\tremaining: 2.02s\n",
      "633:\tlearn: 13.7729367\ttotal: 3.49s\tremaining: 2.01s\n",
      "634:\tlearn: 13.7610020\ttotal: 3.49s\tremaining: 2.01s\n",
      "635:\tlearn: 13.7491945\ttotal: 3.5s\tremaining: 2s\n",
      "636:\tlearn: 13.7405453\ttotal: 3.5s\tremaining: 2s\n",
      "637:\tlearn: 13.7399416\ttotal: 3.51s\tremaining: 1.99s\n",
      "638:\tlearn: 13.7314506\ttotal: 3.52s\tremaining: 1.99s\n",
      "639:\tlearn: 13.7213219\ttotal: 3.52s\tremaining: 1.98s\n",
      "640:\tlearn: 13.7124035\ttotal: 3.52s\tremaining: 1.97s\n",
      "641:\tlearn: 13.7036302\ttotal: 3.53s\tremaining: 1.97s\n",
      "642:\tlearn: 13.6942136\ttotal: 3.54s\tremaining: 1.96s\n",
      "643:\tlearn: 13.6858028\ttotal: 3.54s\tremaining: 1.96s\n",
      "644:\tlearn: 13.6776523\ttotal: 3.55s\tremaining: 1.95s\n",
      "645:\tlearn: 13.6704137\ttotal: 3.55s\tremaining: 1.95s\n",
      "646:\tlearn: 13.6698163\ttotal: 3.56s\tremaining: 1.94s\n",
      "647:\tlearn: 13.6606725\ttotal: 3.56s\tremaining: 1.93s\n",
      "648:\tlearn: 13.6449351\ttotal: 3.57s\tremaining: 1.93s\n",
      "649:\tlearn: 13.6345148\ttotal: 3.57s\tremaining: 1.92s\n",
      "650:\tlearn: 13.6339873\ttotal: 3.58s\tremaining: 1.92s\n",
      "651:\tlearn: 13.6334652\ttotal: 3.58s\tremaining: 1.91s\n",
      "652:\tlearn: 13.6274068\ttotal: 3.59s\tremaining: 1.91s\n",
      "653:\tlearn: 13.6173766\ttotal: 3.59s\tremaining: 1.9s\n",
      "654:\tlearn: 13.6080538\ttotal: 3.6s\tremaining: 1.89s\n",
      "655:\tlearn: 13.5964937\ttotal: 3.6s\tremaining: 1.89s\n",
      "656:\tlearn: 13.5878148\ttotal: 3.61s\tremaining: 1.88s\n",
      "657:\tlearn: 13.5783181\ttotal: 3.61s\tremaining: 1.88s\n",
      "658:\tlearn: 13.5707240\ttotal: 3.62s\tremaining: 1.87s\n",
      "659:\tlearn: 13.5607171\ttotal: 3.62s\tremaining: 1.87s\n",
      "660:\tlearn: 13.5563557\ttotal: 3.63s\tremaining: 1.86s\n",
      "661:\tlearn: 13.5459463\ttotal: 3.63s\tremaining: 1.85s\n",
      "662:\tlearn: 13.5453591\ttotal: 3.64s\tremaining: 1.85s\n",
      "663:\tlearn: 13.5352150\ttotal: 3.64s\tremaining: 1.84s\n",
      "664:\tlearn: 13.5276123\ttotal: 3.65s\tremaining: 1.84s\n",
      "665:\tlearn: 13.5165591\ttotal: 3.65s\tremaining: 1.83s\n",
      "666:\tlearn: 13.5015613\ttotal: 3.66s\tremaining: 1.83s\n",
      "667:\tlearn: 13.4963518\ttotal: 3.67s\tremaining: 1.82s\n",
      "668:\tlearn: 13.4918911\ttotal: 3.67s\tremaining: 1.82s\n",
      "669:\tlearn: 13.4850676\ttotal: 3.68s\tremaining: 1.81s\n",
      "670:\tlearn: 13.4739403\ttotal: 3.68s\tremaining: 1.81s\n",
      "671:\tlearn: 13.4620290\ttotal: 3.69s\tremaining: 1.8s\n",
      "672:\tlearn: 13.4576662\ttotal: 3.69s\tremaining: 1.79s\n",
      "673:\tlearn: 13.4460623\ttotal: 3.7s\tremaining: 1.79s\n",
      "674:\tlearn: 13.4362241\ttotal: 3.71s\tremaining: 1.78s\n",
      "675:\tlearn: 13.4308500\ttotal: 3.71s\tremaining: 1.78s\n",
      "676:\tlearn: 13.4224617\ttotal: 3.72s\tremaining: 1.77s\n",
      "677:\tlearn: 13.4129895\ttotal: 3.72s\tremaining: 1.77s\n",
      "678:\tlearn: 13.4087391\ttotal: 3.73s\tremaining: 1.76s\n",
      "679:\tlearn: 13.3972899\ttotal: 3.73s\tremaining: 1.76s\n",
      "680:\tlearn: 13.3908336\ttotal: 3.74s\tremaining: 1.75s\n",
      "681:\tlearn: 13.3848957\ttotal: 3.74s\tremaining: 1.75s\n",
      "682:\tlearn: 13.3839822\ttotal: 3.75s\tremaining: 1.74s\n",
      "683:\tlearn: 13.3694951\ttotal: 3.75s\tremaining: 1.73s\n",
      "684:\tlearn: 13.3600860\ttotal: 3.76s\tremaining: 1.73s\n",
      "685:\tlearn: 13.3499112\ttotal: 3.76s\tremaining: 1.72s\n",
      "686:\tlearn: 13.3387459\ttotal: 3.77s\tremaining: 1.72s\n",
      "687:\tlearn: 13.3273167\ttotal: 3.77s\tremaining: 1.71s\n",
      "688:\tlearn: 13.3170140\ttotal: 3.78s\tremaining: 1.71s\n",
      "689:\tlearn: 13.3052284\ttotal: 3.79s\tremaining: 1.7s\n",
      "690:\tlearn: 13.2965027\ttotal: 3.79s\tremaining: 1.7s\n",
      "691:\tlearn: 13.2878344\ttotal: 3.8s\tremaining: 1.69s\n",
      "692:\tlearn: 13.2786343\ttotal: 3.8s\tremaining: 1.68s\n",
      "693:\tlearn: 13.2682472\ttotal: 3.81s\tremaining: 1.68s\n",
      "694:\tlearn: 13.2533890\ttotal: 3.81s\tremaining: 1.67s\n",
      "695:\tlearn: 13.2387663\ttotal: 3.82s\tremaining: 1.67s\n",
      "696:\tlearn: 13.2326129\ttotal: 3.82s\tremaining: 1.66s\n",
      "697:\tlearn: 13.2161991\ttotal: 3.83s\tremaining: 1.66s\n",
      "698:\tlearn: 13.2076362\ttotal: 3.83s\tremaining: 1.65s\n",
      "699:\tlearn: 13.1928077\ttotal: 3.84s\tremaining: 1.65s\n",
      "700:\tlearn: 13.1832943\ttotal: 3.85s\tremaining: 1.64s\n",
      "701:\tlearn: 13.1711773\ttotal: 3.85s\tremaining: 1.63s\n",
      "702:\tlearn: 13.1647841\ttotal: 3.86s\tremaining: 1.63s\n",
      "703:\tlearn: 13.1579547\ttotal: 3.86s\tremaining: 1.62s\n",
      "704:\tlearn: 13.1569297\ttotal: 3.87s\tremaining: 1.62s\n",
      "705:\tlearn: 13.1451041\ttotal: 3.87s\tremaining: 1.61s\n",
      "706:\tlearn: 13.1359975\ttotal: 3.88s\tremaining: 1.61s\n",
      "707:\tlearn: 13.1239484\ttotal: 3.88s\tremaining: 1.6s\n",
      "708:\tlearn: 13.1170502\ttotal: 3.89s\tremaining: 1.59s\n",
      "709:\tlearn: 13.1089974\ttotal: 3.89s\tremaining: 1.59s\n",
      "710:\tlearn: 13.1022841\ttotal: 3.9s\tremaining: 1.58s\n",
      "711:\tlearn: 13.0860733\ttotal: 3.9s\tremaining: 1.58s\n",
      "712:\tlearn: 13.0798934\ttotal: 3.91s\tremaining: 1.57s\n",
      "713:\tlearn: 13.0771499\ttotal: 3.92s\tremaining: 1.57s\n",
      "714:\tlearn: 13.0759581\ttotal: 3.92s\tremaining: 1.56s\n",
      "715:\tlearn: 13.0686357\ttotal: 3.93s\tremaining: 1.56s\n",
      "716:\tlearn: 13.0676976\ttotal: 3.93s\tremaining: 1.55s\n",
      "717:\tlearn: 13.0587029\ttotal: 3.94s\tremaining: 1.55s\n",
      "718:\tlearn: 13.0443467\ttotal: 3.94s\tremaining: 1.54s\n",
      "719:\tlearn: 13.0292248\ttotal: 3.95s\tremaining: 1.54s\n",
      "720:\tlearn: 13.0223265\ttotal: 3.96s\tremaining: 1.53s\n",
      "721:\tlearn: 13.0166875\ttotal: 3.96s\tremaining: 1.52s\n",
      "722:\tlearn: 13.0098783\ttotal: 3.97s\tremaining: 1.52s\n",
      "723:\tlearn: 13.0089715\ttotal: 3.97s\tremaining: 1.51s\n",
      "724:\tlearn: 13.0007832\ttotal: 3.98s\tremaining: 1.51s\n",
      "725:\tlearn: 12.9918518\ttotal: 3.98s\tremaining: 1.5s\n",
      "726:\tlearn: 12.9848722\ttotal: 3.99s\tremaining: 1.5s\n",
      "727:\tlearn: 12.9764313\ttotal: 3.99s\tremaining: 1.49s\n",
      "728:\tlearn: 12.9693065\ttotal: 4s\tremaining: 1.49s\n",
      "729:\tlearn: 12.9640825\ttotal: 4s\tremaining: 1.48s\n",
      "730:\tlearn: 12.9635662\ttotal: 4.01s\tremaining: 1.48s\n",
      "731:\tlearn: 12.9547467\ttotal: 4.01s\tremaining: 1.47s\n",
      "732:\tlearn: 12.9448182\ttotal: 4.02s\tremaining: 1.46s\n",
      "733:\tlearn: 12.9362413\ttotal: 4.02s\tremaining: 1.46s\n",
      "734:\tlearn: 12.9240166\ttotal: 4.03s\tremaining: 1.45s\n",
      "735:\tlearn: 12.9149829\ttotal: 4.04s\tremaining: 1.45s\n",
      "736:\tlearn: 12.9141819\ttotal: 4.04s\tremaining: 1.44s\n",
      "737:\tlearn: 12.9049360\ttotal: 4.05s\tremaining: 1.44s\n",
      "738:\tlearn: 12.8993021\ttotal: 4.06s\tremaining: 1.43s\n",
      "739:\tlearn: 12.8979222\ttotal: 4.07s\tremaining: 1.43s\n",
      "740:\tlearn: 12.8912279\ttotal: 4.07s\tremaining: 1.42s\n",
      "741:\tlearn: 12.8831184\ttotal: 4.08s\tremaining: 1.42s\n",
      "742:\tlearn: 12.8767026\ttotal: 4.08s\tremaining: 1.41s\n",
      "743:\tlearn: 12.8695988\ttotal: 4.09s\tremaining: 1.41s\n",
      "744:\tlearn: 12.8618351\ttotal: 4.09s\tremaining: 1.4s\n",
      "745:\tlearn: 12.8515429\ttotal: 4.1s\tremaining: 1.4s\n",
      "746:\tlearn: 12.8386956\ttotal: 4.11s\tremaining: 1.39s\n",
      "747:\tlearn: 12.8322016\ttotal: 4.11s\tremaining: 1.39s\n",
      "748:\tlearn: 12.8280758\ttotal: 4.12s\tremaining: 1.38s\n",
      "749:\tlearn: 12.8187782\ttotal: 4.12s\tremaining: 1.37s\n",
      "750:\tlearn: 12.8118426\ttotal: 4.13s\tremaining: 1.37s\n",
      "751:\tlearn: 12.8062988\ttotal: 4.13s\tremaining: 1.36s\n",
      "752:\tlearn: 12.7964575\ttotal: 4.14s\tremaining: 1.36s\n",
      "753:\tlearn: 12.7959907\ttotal: 4.15s\tremaining: 1.35s\n",
      "754:\tlearn: 12.7933155\ttotal: 4.16s\tremaining: 1.35s\n",
      "755:\tlearn: 12.7855999\ttotal: 4.17s\tremaining: 1.34s\n",
      "756:\tlearn: 12.7732605\ttotal: 4.17s\tremaining: 1.34s\n",
      "757:\tlearn: 12.7702527\ttotal: 4.18s\tremaining: 1.33s\n",
      "758:\tlearn: 12.7551414\ttotal: 4.19s\tremaining: 1.33s\n",
      "759:\tlearn: 12.7421672\ttotal: 4.19s\tremaining: 1.32s\n",
      "760:\tlearn: 12.7310129\ttotal: 4.2s\tremaining: 1.32s\n",
      "761:\tlearn: 12.7196970\ttotal: 4.2s\tremaining: 1.31s\n",
      "762:\tlearn: 12.7169576\ttotal: 4.21s\tremaining: 1.31s\n",
      "763:\tlearn: 12.7041855\ttotal: 4.21s\tremaining: 1.3s\n",
      "764:\tlearn: 12.6974622\ttotal: 4.22s\tremaining: 1.3s\n",
      "765:\tlearn: 12.6896964\ttotal: 4.22s\tremaining: 1.29s\n",
      "766:\tlearn: 12.6769676\ttotal: 4.23s\tremaining: 1.28s\n",
      "767:\tlearn: 12.6646469\ttotal: 4.24s\tremaining: 1.28s\n",
      "768:\tlearn: 12.6580031\ttotal: 4.24s\tremaining: 1.27s\n",
      "769:\tlearn: 12.6501841\ttotal: 4.25s\tremaining: 1.27s\n",
      "770:\tlearn: 12.6432199\ttotal: 4.25s\tremaining: 1.26s\n",
      "771:\tlearn: 12.6289496\ttotal: 4.26s\tremaining: 1.26s\n",
      "772:\tlearn: 12.6207466\ttotal: 4.26s\tremaining: 1.25s\n",
      "773:\tlearn: 12.6109402\ttotal: 4.27s\tremaining: 1.25s\n",
      "774:\tlearn: 12.6034547\ttotal: 4.27s\tremaining: 1.24s\n",
      "775:\tlearn: 12.5907232\ttotal: 4.28s\tremaining: 1.24s\n",
      "776:\tlearn: 12.5877352\ttotal: 4.29s\tremaining: 1.23s\n",
      "777:\tlearn: 12.5769180\ttotal: 4.29s\tremaining: 1.22s\n",
      "778:\tlearn: 12.5666619\ttotal: 4.3s\tremaining: 1.22s\n",
      "779:\tlearn: 12.5591109\ttotal: 4.3s\tremaining: 1.21s\n",
      "780:\tlearn: 12.5499774\ttotal: 4.31s\tremaining: 1.21s\n",
      "781:\tlearn: 12.5422012\ttotal: 4.31s\tremaining: 1.2s\n",
      "782:\tlearn: 12.5291103\ttotal: 4.32s\tremaining: 1.2s\n",
      "783:\tlearn: 12.5231062\ttotal: 4.32s\tremaining: 1.19s\n",
      "784:\tlearn: 12.5168708\ttotal: 4.33s\tremaining: 1.19s\n",
      "785:\tlearn: 12.5155848\ttotal: 4.33s\tremaining: 1.18s\n",
      "786:\tlearn: 12.5151268\ttotal: 4.34s\tremaining: 1.17s\n",
      "787:\tlearn: 12.5063372\ttotal: 4.34s\tremaining: 1.17s\n",
      "788:\tlearn: 12.4941187\ttotal: 4.35s\tremaining: 1.16s\n",
      "789:\tlearn: 12.4849878\ttotal: 4.36s\tremaining: 1.16s\n",
      "790:\tlearn: 12.4715060\ttotal: 4.36s\tremaining: 1.15s\n",
      "791:\tlearn: 12.4637654\ttotal: 4.37s\tremaining: 1.15s\n",
      "792:\tlearn: 12.4615006\ttotal: 4.37s\tremaining: 1.14s\n",
      "793:\tlearn: 12.4487011\ttotal: 4.38s\tremaining: 1.14s\n",
      "794:\tlearn: 12.4467943\ttotal: 4.38s\tremaining: 1.13s\n",
      "795:\tlearn: 12.4364991\ttotal: 4.39s\tremaining: 1.12s\n",
      "796:\tlearn: 12.4235324\ttotal: 4.39s\tremaining: 1.12s\n",
      "797:\tlearn: 12.4148441\ttotal: 4.4s\tremaining: 1.11s\n",
      "798:\tlearn: 12.4054688\ttotal: 4.41s\tremaining: 1.11s\n",
      "799:\tlearn: 12.4009803\ttotal: 4.41s\tremaining: 1.1s\n",
      "800:\tlearn: 12.4004570\ttotal: 4.42s\tremaining: 1.1s\n",
      "801:\tlearn: 12.3922702\ttotal: 4.42s\tremaining: 1.09s\n",
      "802:\tlearn: 12.3882271\ttotal: 4.43s\tremaining: 1.09s\n",
      "803:\tlearn: 12.3810997\ttotal: 4.43s\tremaining: 1.08s\n",
      "804:\tlearn: 12.3741498\ttotal: 4.44s\tremaining: 1.07s\n",
      "805:\tlearn: 12.3687783\ttotal: 4.44s\tremaining: 1.07s\n",
      "806:\tlearn: 12.3630342\ttotal: 4.45s\tremaining: 1.06s\n",
      "807:\tlearn: 12.3499044\ttotal: 4.45s\tremaining: 1.06s\n",
      "808:\tlearn: 12.3494345\ttotal: 4.46s\tremaining: 1.05s\n",
      "809:\tlearn: 12.3469418\ttotal: 4.46s\tremaining: 1.05s\n",
      "810:\tlearn: 12.3401622\ttotal: 4.47s\tremaining: 1.04s\n",
      "811:\tlearn: 12.3337565\ttotal: 4.48s\tremaining: 1.04s\n",
      "812:\tlearn: 12.3193914\ttotal: 4.48s\tremaining: 1.03s\n",
      "813:\tlearn: 12.3133168\ttotal: 4.49s\tremaining: 1.02s\n",
      "814:\tlearn: 12.3030237\ttotal: 4.49s\tremaining: 1.02s\n",
      "815:\tlearn: 12.2940987\ttotal: 4.5s\tremaining: 1.01s\n",
      "816:\tlearn: 12.2828855\ttotal: 4.5s\tremaining: 1.01s\n",
      "817:\tlearn: 12.2794474\ttotal: 4.51s\tremaining: 1s\n",
      "818:\tlearn: 12.2681592\ttotal: 4.52s\tremaining: 998ms\n",
      "819:\tlearn: 12.2638112\ttotal: 4.53s\tremaining: 993ms\n",
      "820:\tlearn: 12.2558239\ttotal: 4.53s\tremaining: 989ms\n",
      "821:\tlearn: 12.2554068\ttotal: 4.54s\tremaining: 983ms\n",
      "822:\tlearn: 12.2472082\ttotal: 4.55s\tremaining: 978ms\n",
      "823:\tlearn: 12.2416306\ttotal: 4.55s\tremaining: 972ms\n",
      "824:\tlearn: 12.2314700\ttotal: 4.56s\tremaining: 967ms\n",
      "825:\tlearn: 12.2186956\ttotal: 4.56s\tremaining: 961ms\n",
      "826:\tlearn: 12.2163760\ttotal: 4.57s\tremaining: 956ms\n",
      "827:\tlearn: 12.2083795\ttotal: 4.57s\tremaining: 950ms\n",
      "828:\tlearn: 12.2025436\ttotal: 4.58s\tremaining: 945ms\n",
      "829:\tlearn: 12.1961638\ttotal: 4.58s\tremaining: 939ms\n",
      "830:\tlearn: 12.1921401\ttotal: 4.59s\tremaining: 934ms\n",
      "831:\tlearn: 12.1896629\ttotal: 4.6s\tremaining: 928ms\n",
      "832:\tlearn: 12.1765193\ttotal: 4.6s\tremaining: 923ms\n",
      "833:\tlearn: 12.1713393\ttotal: 4.61s\tremaining: 917ms\n",
      "834:\tlearn: 12.1570572\ttotal: 4.61s\tremaining: 912ms\n",
      "835:\tlearn: 12.1451809\ttotal: 4.62s\tremaining: 906ms\n",
      "836:\tlearn: 12.1375560\ttotal: 4.63s\tremaining: 901ms\n",
      "837:\tlearn: 12.1298780\ttotal: 4.63s\tremaining: 895ms\n",
      "838:\tlearn: 12.1243533\ttotal: 4.64s\tremaining: 890ms\n",
      "839:\tlearn: 12.1196699\ttotal: 4.64s\tremaining: 884ms\n",
      "840:\tlearn: 12.1176602\ttotal: 4.65s\tremaining: 879ms\n",
      "841:\tlearn: 12.1131537\ttotal: 4.65s\tremaining: 873ms\n",
      "842:\tlearn: 12.1027794\ttotal: 4.66s\tremaining: 868ms\n",
      "843:\tlearn: 12.0886758\ttotal: 4.66s\tremaining: 862ms\n",
      "844:\tlearn: 12.0854583\ttotal: 4.67s\tremaining: 856ms\n",
      "845:\tlearn: 12.0848714\ttotal: 4.67s\tremaining: 851ms\n",
      "846:\tlearn: 12.0759761\ttotal: 4.68s\tremaining: 845ms\n",
      "847:\tlearn: 12.0634689\ttotal: 4.68s\tremaining: 840ms\n",
      "848:\tlearn: 12.0546629\ttotal: 4.69s\tremaining: 834ms\n",
      "849:\tlearn: 12.0450604\ttotal: 4.7s\tremaining: 829ms\n",
      "850:\tlearn: 12.0337116\ttotal: 4.7s\tremaining: 823ms\n",
      "851:\tlearn: 12.0270012\ttotal: 4.71s\tremaining: 818ms\n",
      "852:\tlearn: 12.0217764\ttotal: 4.71s\tremaining: 812ms\n",
      "853:\tlearn: 12.0167877\ttotal: 4.72s\tremaining: 807ms\n",
      "854:\tlearn: 12.0105998\ttotal: 4.72s\tremaining: 801ms\n",
      "855:\tlearn: 12.0078697\ttotal: 4.73s\tremaining: 795ms\n",
      "856:\tlearn: 11.9981114\ttotal: 4.74s\tremaining: 790ms\n",
      "857:\tlearn: 11.9954055\ttotal: 4.74s\tremaining: 785ms\n",
      "858:\tlearn: 11.9893998\ttotal: 4.75s\tremaining: 779ms\n",
      "859:\tlearn: 11.9857137\ttotal: 4.75s\tremaining: 773ms\n",
      "860:\tlearn: 11.9806833\ttotal: 4.76s\tremaining: 768ms\n",
      "861:\tlearn: 11.9726044\ttotal: 4.76s\tremaining: 762ms\n",
      "862:\tlearn: 11.9618989\ttotal: 4.77s\tremaining: 757ms\n",
      "863:\tlearn: 11.9595245\ttotal: 4.77s\tremaining: 751ms\n",
      "864:\tlearn: 11.9589442\ttotal: 4.78s\tremaining: 746ms\n",
      "865:\tlearn: 11.9496913\ttotal: 4.78s\tremaining: 740ms\n",
      "866:\tlearn: 11.9443490\ttotal: 4.79s\tremaining: 734ms\n",
      "867:\tlearn: 11.9436071\ttotal: 4.79s\tremaining: 729ms\n",
      "868:\tlearn: 11.9400058\ttotal: 4.8s\tremaining: 723ms\n",
      "869:\tlearn: 11.9370335\ttotal: 4.8s\tremaining: 718ms\n",
      "870:\tlearn: 11.9276331\ttotal: 4.81s\tremaining: 712ms\n",
      "871:\tlearn: 11.9148700\ttotal: 4.81s\tremaining: 707ms\n",
      "872:\tlearn: 11.9127401\ttotal: 4.82s\tremaining: 701ms\n",
      "873:\tlearn: 11.9037847\ttotal: 4.82s\tremaining: 695ms\n",
      "874:\tlearn: 11.8967208\ttotal: 4.83s\tremaining: 690ms\n",
      "875:\tlearn: 11.8889758\ttotal: 4.83s\tremaining: 684ms\n",
      "876:\tlearn: 11.8787168\ttotal: 4.84s\tremaining: 679ms\n",
      "877:\tlearn: 11.8697383\ttotal: 4.84s\tremaining: 673ms\n",
      "878:\tlearn: 11.8620102\ttotal: 4.85s\tremaining: 668ms\n",
      "879:\tlearn: 11.8545160\ttotal: 4.86s\tremaining: 662ms\n",
      "880:\tlearn: 11.8490663\ttotal: 4.86s\tremaining: 657ms\n",
      "881:\tlearn: 11.8414853\ttotal: 4.87s\tremaining: 651ms\n",
      "882:\tlearn: 11.8321052\ttotal: 4.87s\tremaining: 646ms\n",
      "883:\tlearn: 11.8208733\ttotal: 4.88s\tremaining: 640ms\n",
      "884:\tlearn: 11.8136285\ttotal: 4.88s\tremaining: 635ms\n",
      "885:\tlearn: 11.8039217\ttotal: 4.89s\tremaining: 629ms\n",
      "886:\tlearn: 11.8035202\ttotal: 4.89s\tremaining: 623ms\n",
      "887:\tlearn: 11.7913942\ttotal: 4.9s\tremaining: 618ms\n",
      "888:\tlearn: 11.7822503\ttotal: 4.9s\tremaining: 612ms\n",
      "889:\tlearn: 11.7744248\ttotal: 4.91s\tremaining: 607ms\n",
      "890:\tlearn: 11.7678817\ttotal: 4.91s\tremaining: 601ms\n",
      "891:\tlearn: 11.7592055\ttotal: 4.92s\tremaining: 596ms\n",
      "892:\tlearn: 11.7513082\ttotal: 4.92s\tremaining: 590ms\n",
      "893:\tlearn: 11.7450049\ttotal: 4.93s\tremaining: 585ms\n",
      "894:\tlearn: 11.7381998\ttotal: 4.93s\tremaining: 579ms\n",
      "895:\tlearn: 11.7289543\ttotal: 4.94s\tremaining: 574ms\n",
      "896:\tlearn: 11.7200843\ttotal: 4.95s\tremaining: 568ms\n",
      "897:\tlearn: 11.7197329\ttotal: 4.95s\tremaining: 562ms\n",
      "898:\tlearn: 11.7117310\ttotal: 4.96s\tremaining: 557ms\n",
      "899:\tlearn: 11.7059108\ttotal: 4.96s\tremaining: 551ms\n",
      "900:\tlearn: 11.6967107\ttotal: 4.97s\tremaining: 546ms\n",
      "901:\tlearn: 11.6961395\ttotal: 4.97s\tremaining: 540ms\n",
      "902:\tlearn: 11.6881358\ttotal: 4.98s\tremaining: 535ms\n",
      "903:\tlearn: 11.6804683\ttotal: 4.98s\tremaining: 529ms\n",
      "904:\tlearn: 11.6721450\ttotal: 4.99s\tremaining: 524ms\n",
      "905:\tlearn: 11.6631266\ttotal: 4.99s\tremaining: 518ms\n",
      "906:\tlearn: 11.6505849\ttotal: 5s\tremaining: 512ms\n",
      "907:\tlearn: 11.6398754\ttotal: 5s\tremaining: 507ms\n",
      "908:\tlearn: 11.6280490\ttotal: 5.01s\tremaining: 501ms\n",
      "909:\tlearn: 11.6160440\ttotal: 5.01s\tremaining: 496ms\n",
      "910:\tlearn: 11.6138821\ttotal: 5.02s\tremaining: 490ms\n",
      "911:\tlearn: 11.6055501\ttotal: 5.02s\tremaining: 485ms\n",
      "912:\tlearn: 11.6012782\ttotal: 5.03s\tremaining: 479ms\n",
      "913:\tlearn: 11.5909317\ttotal: 5.03s\tremaining: 474ms\n",
      "914:\tlearn: 11.5837660\ttotal: 5.04s\tremaining: 468ms\n",
      "915:\tlearn: 11.5833914\ttotal: 5.04s\tremaining: 463ms\n",
      "916:\tlearn: 11.5747889\ttotal: 5.05s\tremaining: 457ms\n",
      "917:\tlearn: 11.5703187\ttotal: 5.05s\tremaining: 452ms\n",
      "918:\tlearn: 11.5635586\ttotal: 5.06s\tremaining: 446ms\n",
      "919:\tlearn: 11.5549228\ttotal: 5.07s\tremaining: 441ms\n",
      "920:\tlearn: 11.5461039\ttotal: 5.07s\tremaining: 435ms\n",
      "921:\tlearn: 11.5416404\ttotal: 5.08s\tremaining: 430ms\n",
      "922:\tlearn: 11.5371497\ttotal: 5.08s\tremaining: 424ms\n",
      "923:\tlearn: 11.5270363\ttotal: 5.09s\tremaining: 418ms\n",
      "924:\tlearn: 11.5184233\ttotal: 5.09s\tremaining: 413ms\n",
      "925:\tlearn: 11.5094530\ttotal: 5.1s\tremaining: 407ms\n",
      "926:\tlearn: 11.5056525\ttotal: 5.1s\tremaining: 402ms\n",
      "927:\tlearn: 11.4988347\ttotal: 5.11s\tremaining: 396ms\n",
      "928:\tlearn: 11.4891864\ttotal: 5.11s\tremaining: 391ms\n",
      "929:\tlearn: 11.4789663\ttotal: 5.12s\tremaining: 385ms\n",
      "930:\tlearn: 11.4719860\ttotal: 5.13s\tremaining: 380ms\n",
      "931:\tlearn: 11.4628947\ttotal: 5.13s\tremaining: 374ms\n",
      "932:\tlearn: 11.4582081\ttotal: 5.13s\tremaining: 369ms\n",
      "933:\tlearn: 11.4517128\ttotal: 5.14s\tremaining: 363ms\n",
      "934:\tlearn: 11.4478506\ttotal: 5.15s\tremaining: 358ms\n",
      "935:\tlearn: 11.4415896\ttotal: 5.15s\tremaining: 352ms\n",
      "936:\tlearn: 11.4382603\ttotal: 5.16s\tremaining: 347ms\n",
      "937:\tlearn: 11.4300921\ttotal: 5.16s\tremaining: 341ms\n",
      "938:\tlearn: 11.4192154\ttotal: 5.17s\tremaining: 336ms\n",
      "939:\tlearn: 11.4145668\ttotal: 5.17s\tremaining: 330ms\n",
      "940:\tlearn: 11.4076119\ttotal: 5.18s\tremaining: 325ms\n",
      "941:\tlearn: 11.4068992\ttotal: 5.18s\tremaining: 319ms\n",
      "942:\tlearn: 11.4004347\ttotal: 5.19s\tremaining: 314ms\n",
      "943:\tlearn: 11.3947094\ttotal: 5.19s\tremaining: 308ms\n",
      "944:\tlearn: 11.3878317\ttotal: 5.2s\tremaining: 303ms\n",
      "945:\tlearn: 11.3842945\ttotal: 5.2s\tremaining: 297ms\n",
      "946:\tlearn: 11.3804081\ttotal: 5.21s\tremaining: 292ms\n",
      "947:\tlearn: 11.3728854\ttotal: 5.21s\tremaining: 286ms\n",
      "948:\tlearn: 11.3654011\ttotal: 5.22s\tremaining: 281ms\n",
      "949:\tlearn: 11.3558997\ttotal: 5.22s\tremaining: 275ms\n",
      "950:\tlearn: 11.3513209\ttotal: 5.23s\tremaining: 270ms\n",
      "951:\tlearn: 11.3430724\ttotal: 5.24s\tremaining: 264ms\n",
      "952:\tlearn: 11.3376934\ttotal: 5.24s\tremaining: 259ms\n",
      "953:\tlearn: 11.3277222\ttotal: 5.25s\tremaining: 253ms\n",
      "954:\tlearn: 11.3163654\ttotal: 5.25s\tremaining: 247ms\n",
      "955:\tlearn: 11.3108805\ttotal: 5.26s\tremaining: 242ms\n",
      "956:\tlearn: 11.3026660\ttotal: 5.26s\tremaining: 236ms\n",
      "957:\tlearn: 11.2965650\ttotal: 5.27s\tremaining: 231ms\n",
      "958:\tlearn: 11.2900514\ttotal: 5.27s\tremaining: 225ms\n",
      "959:\tlearn: 11.2831241\ttotal: 5.28s\tremaining: 220ms\n",
      "960:\tlearn: 11.2827598\ttotal: 5.28s\tremaining: 214ms\n",
      "961:\tlearn: 11.2749281\ttotal: 5.29s\tremaining: 209ms\n",
      "962:\tlearn: 11.2708330\ttotal: 5.29s\tremaining: 203ms\n",
      "963:\tlearn: 11.2631307\ttotal: 5.3s\tremaining: 198ms\n",
      "964:\tlearn: 11.2553175\ttotal: 5.3s\tremaining: 192ms\n",
      "965:\tlearn: 11.2549642\ttotal: 5.31s\tremaining: 187ms\n",
      "966:\tlearn: 11.2464082\ttotal: 5.31s\tremaining: 181ms\n",
      "967:\tlearn: 11.2400644\ttotal: 5.32s\tremaining: 176ms\n",
      "968:\tlearn: 11.2313128\ttotal: 5.32s\tremaining: 170ms\n",
      "969:\tlearn: 11.2280704\ttotal: 5.33s\tremaining: 165ms\n",
      "970:\tlearn: 11.2222842\ttotal: 5.33s\tremaining: 159ms\n",
      "971:\tlearn: 11.2162369\ttotal: 5.34s\tremaining: 154ms\n",
      "972:\tlearn: 11.2135273\ttotal: 5.34s\tremaining: 148ms\n",
      "973:\tlearn: 11.2064093\ttotal: 5.35s\tremaining: 143ms\n",
      "974:\tlearn: 11.1998459\ttotal: 5.36s\tremaining: 137ms\n",
      "975:\tlearn: 11.1915169\ttotal: 5.36s\tremaining: 132ms\n",
      "976:\tlearn: 11.1832369\ttotal: 5.37s\tremaining: 126ms\n",
      "977:\tlearn: 11.1785436\ttotal: 5.37s\tremaining: 121ms\n",
      "978:\tlearn: 11.1739679\ttotal: 5.38s\tremaining: 115ms\n",
      "979:\tlearn: 11.1645421\ttotal: 5.38s\tremaining: 110ms\n",
      "980:\tlearn: 11.1598336\ttotal: 5.39s\tremaining: 104ms\n",
      "981:\tlearn: 11.1558710\ttotal: 5.39s\tremaining: 98.8ms\n",
      "982:\tlearn: 11.1500788\ttotal: 5.4s\tremaining: 93.3ms\n",
      "983:\tlearn: 11.1488140\ttotal: 5.4s\tremaining: 87.8ms\n",
      "984:\tlearn: 11.1367024\ttotal: 5.41s\tremaining: 82.4ms\n",
      "985:\tlearn: 11.1286667\ttotal: 5.41s\tremaining: 76.9ms\n",
      "986:\tlearn: 11.1198922\ttotal: 5.42s\tremaining: 71.4ms\n",
      "987:\tlearn: 11.1131120\ttotal: 5.42s\tremaining: 65.9ms\n",
      "988:\tlearn: 11.1054278\ttotal: 5.43s\tremaining: 60.4ms\n",
      "989:\tlearn: 11.1036382\ttotal: 5.43s\tremaining: 54.9ms\n",
      "990:\tlearn: 11.0927674\ttotal: 5.44s\tremaining: 49.4ms\n",
      "991:\tlearn: 11.0874036\ttotal: 5.44s\tremaining: 43.9ms\n",
      "992:\tlearn: 11.0870565\ttotal: 5.45s\tremaining: 38.4ms\n",
      "993:\tlearn: 11.0843306\ttotal: 5.45s\tremaining: 32.9ms\n",
      "994:\tlearn: 11.0812942\ttotal: 5.46s\tremaining: 27.4ms\n",
      "995:\tlearn: 11.0790313\ttotal: 5.46s\tremaining: 21.9ms\n",
      "996:\tlearn: 11.0746060\ttotal: 5.47s\tremaining: 16.5ms\n",
      "997:\tlearn: 11.0687639\ttotal: 5.47s\tremaining: 11ms\n",
      "998:\tlearn: 11.0626933\ttotal: 5.48s\tremaining: 5.49ms\n",
      "999:\tlearn: 11.0588951\ttotal: 5.49s\tremaining: 0us\n"
     ]
    },
    {
     "data": {
      "text/html": [
       "<div>\n",
       "<style scoped>\n",
       "    .dataframe tbody tr th:only-of-type {\n",
       "        vertical-align: middle;\n",
       "    }\n",
       "\n",
       "    .dataframe tbody tr th {\n",
       "        vertical-align: top;\n",
       "    }\n",
       "\n",
       "    .dataframe thead th {\n",
       "        text-align: right;\n",
       "    }\n",
       "</style>\n",
       "<table border=\"1\" class=\"dataframe\">\n",
       "  <thead>\n",
       "    <tr style=\"text-align: right;\">\n",
       "      <th></th>\n",
       "      <th>0</th>\n",
       "    </tr>\n",
       "  </thead>\n",
       "  <tbody>\n",
       "    <tr>\n",
       "      <th>dayofweek</th>\n",
       "      <td>3.986467</td>\n",
       "    </tr>\n",
       "    <tr>\n",
       "      <th>hour</th>\n",
       "      <td>13.750542</td>\n",
       "    </tr>\n",
       "    <tr>\n",
       "      <th>lag_1</th>\n",
       "      <td>9.156752</td>\n",
       "    </tr>\n",
       "    <tr>\n",
       "      <th>lag_2</th>\n",
       "      <td>4.059539</td>\n",
       "    </tr>\n",
       "    <tr>\n",
       "      <th>lag_3</th>\n",
       "      <td>2.784901</td>\n",
       "    </tr>\n",
       "    <tr>\n",
       "      <th>lag_4</th>\n",
       "      <td>1.831843</td>\n",
       "    </tr>\n",
       "    <tr>\n",
       "      <th>lag_5</th>\n",
       "      <td>2.248978</td>\n",
       "    </tr>\n",
       "    <tr>\n",
       "      <th>lag_6</th>\n",
       "      <td>2.114315</td>\n",
       "    </tr>\n",
       "    <tr>\n",
       "      <th>lag_7</th>\n",
       "      <td>4.339882</td>\n",
       "    </tr>\n",
       "    <tr>\n",
       "      <th>lag_8</th>\n",
       "      <td>2.206702</td>\n",
       "    </tr>\n",
       "    <tr>\n",
       "      <th>lag_9</th>\n",
       "      <td>2.170530</td>\n",
       "    </tr>\n",
       "    <tr>\n",
       "      <th>lag_10</th>\n",
       "      <td>2.032872</td>\n",
       "    </tr>\n",
       "    <tr>\n",
       "      <th>lag_11</th>\n",
       "      <td>2.144154</td>\n",
       "    </tr>\n",
       "    <tr>\n",
       "      <th>lag_12</th>\n",
       "      <td>2.951851</td>\n",
       "    </tr>\n",
       "    <tr>\n",
       "      <th>lag_13</th>\n",
       "      <td>2.322170</td>\n",
       "    </tr>\n",
       "    <tr>\n",
       "      <th>lag_14</th>\n",
       "      <td>1.494143</td>\n",
       "    </tr>\n",
       "    <tr>\n",
       "      <th>lag_15</th>\n",
       "      <td>1.385554</td>\n",
       "    </tr>\n",
       "    <tr>\n",
       "      <th>lag_16</th>\n",
       "      <td>1.484892</td>\n",
       "    </tr>\n",
       "    <tr>\n",
       "      <th>lag_17</th>\n",
       "      <td>3.567851</td>\n",
       "    </tr>\n",
       "    <tr>\n",
       "      <th>lag_18</th>\n",
       "      <td>2.025505</td>\n",
       "    </tr>\n",
       "    <tr>\n",
       "      <th>lag_19</th>\n",
       "      <td>1.507609</td>\n",
       "    </tr>\n",
       "    <tr>\n",
       "      <th>lag_20</th>\n",
       "      <td>1.915844</td>\n",
       "    </tr>\n",
       "    <tr>\n",
       "      <th>lag_21</th>\n",
       "      <td>1.933045</td>\n",
       "    </tr>\n",
       "    <tr>\n",
       "      <th>lag_22</th>\n",
       "      <td>2.349112</td>\n",
       "    </tr>\n",
       "    <tr>\n",
       "      <th>lag_23</th>\n",
       "      <td>3.665639</td>\n",
       "    </tr>\n",
       "    <tr>\n",
       "      <th>lag_24</th>\n",
       "      <td>17.561406</td>\n",
       "    </tr>\n",
       "    <tr>\n",
       "      <th>rolling_mean</th>\n",
       "      <td>3.007903</td>\n",
       "    </tr>\n",
       "  </tbody>\n",
       "</table>\n",
       "</div>"
      ],
      "text/plain": [
       "                      0\n",
       "dayofweek      3.986467\n",
       "hour          13.750542\n",
       "lag_1          9.156752\n",
       "lag_2          4.059539\n",
       "lag_3          2.784901\n",
       "lag_4          1.831843\n",
       "lag_5          2.248978\n",
       "lag_6          2.114315\n",
       "lag_7          4.339882\n",
       "lag_8          2.206702\n",
       "lag_9          2.170530\n",
       "lag_10         2.032872\n",
       "lag_11         2.144154\n",
       "lag_12         2.951851\n",
       "lag_13         2.322170\n",
       "lag_14         1.494143\n",
       "lag_15         1.385554\n",
       "lag_16         1.484892\n",
       "lag_17         3.567851\n",
       "lag_18         2.025505\n",
       "lag_19         1.507609\n",
       "lag_20         1.915844\n",
       "lag_21         1.933045\n",
       "lag_22         2.349112\n",
       "lag_23         3.665639\n",
       "lag_24        17.561406\n",
       "rolling_mean   3.007903"
      ]
     },
     "metadata": {},
     "output_type": "display_data"
    }
   ],
   "source": [
    "model_cat = CatBoostRegressor()\n",
    "model_cat.fit(train_features_new, train_target_new)\n",
    "features_cat = pd.DataFrame(model_cat.feature_importances_, index = train_features_new.columns)\n",
    "display(features_cat)"
   ]
  },
  {
   "cell_type": "code",
   "execution_count": 25,
   "metadata": {},
   "outputs": [
    {
     "data": {
      "text/html": [
       "<div>\n",
       "<style scoped>\n",
       "    .dataframe tbody tr th:only-of-type {\n",
       "        vertical-align: middle;\n",
       "    }\n",
       "\n",
       "    .dataframe tbody tr th {\n",
       "        vertical-align: top;\n",
       "    }\n",
       "\n",
       "    .dataframe thead th {\n",
       "        text-align: right;\n",
       "    }\n",
       "</style>\n",
       "<table border=\"1\" class=\"dataframe\">\n",
       "  <thead>\n",
       "    <tr style=\"text-align: right;\">\n",
       "      <th></th>\n",
       "      <th>0</th>\n",
       "    </tr>\n",
       "  </thead>\n",
       "  <tbody>\n",
       "    <tr>\n",
       "      <th>dayofweek</th>\n",
       "      <td>0.008140</td>\n",
       "    </tr>\n",
       "    <tr>\n",
       "      <th>hour</th>\n",
       "      <td>0.054354</td>\n",
       "    </tr>\n",
       "    <tr>\n",
       "      <th>lag_1</th>\n",
       "      <td>0.119703</td>\n",
       "    </tr>\n",
       "    <tr>\n",
       "      <th>lag_2</th>\n",
       "      <td>0.031251</td>\n",
       "    </tr>\n",
       "    <tr>\n",
       "      <th>lag_3</th>\n",
       "      <td>0.018439</td>\n",
       "    </tr>\n",
       "    <tr>\n",
       "      <th>lag_4</th>\n",
       "      <td>0.016938</td>\n",
       "    </tr>\n",
       "    <tr>\n",
       "      <th>lag_5</th>\n",
       "      <td>0.017498</td>\n",
       "    </tr>\n",
       "    <tr>\n",
       "      <th>lag_6</th>\n",
       "      <td>0.021076</td>\n",
       "    </tr>\n",
       "    <tr>\n",
       "      <th>lag_7</th>\n",
       "      <td>0.029878</td>\n",
       "    </tr>\n",
       "    <tr>\n",
       "      <th>lag_8</th>\n",
       "      <td>0.014387</td>\n",
       "    </tr>\n",
       "    <tr>\n",
       "      <th>lag_9</th>\n",
       "      <td>0.015233</td>\n",
       "    </tr>\n",
       "    <tr>\n",
       "      <th>lag_10</th>\n",
       "      <td>0.015772</td>\n",
       "    </tr>\n",
       "    <tr>\n",
       "      <th>lag_11</th>\n",
       "      <td>0.017318</td>\n",
       "    </tr>\n",
       "    <tr>\n",
       "      <th>lag_12</th>\n",
       "      <td>0.021371</td>\n",
       "    </tr>\n",
       "    <tr>\n",
       "      <th>lag_13</th>\n",
       "      <td>0.014939</td>\n",
       "    </tr>\n",
       "    <tr>\n",
       "      <th>lag_14</th>\n",
       "      <td>0.012359</td>\n",
       "    </tr>\n",
       "    <tr>\n",
       "      <th>lag_15</th>\n",
       "      <td>0.012131</td>\n",
       "    </tr>\n",
       "    <tr>\n",
       "      <th>lag_16</th>\n",
       "      <td>0.015867</td>\n",
       "    </tr>\n",
       "    <tr>\n",
       "      <th>lag_17</th>\n",
       "      <td>0.017786</td>\n",
       "    </tr>\n",
       "    <tr>\n",
       "      <th>lag_18</th>\n",
       "      <td>0.016035</td>\n",
       "    </tr>\n",
       "    <tr>\n",
       "      <th>lag_19</th>\n",
       "      <td>0.012599</td>\n",
       "    </tr>\n",
       "    <tr>\n",
       "      <th>lag_20</th>\n",
       "      <td>0.014027</td>\n",
       "    </tr>\n",
       "    <tr>\n",
       "      <th>lag_21</th>\n",
       "      <td>0.012837</td>\n",
       "    </tr>\n",
       "    <tr>\n",
       "      <th>lag_22</th>\n",
       "      <td>0.013629</td>\n",
       "    </tr>\n",
       "    <tr>\n",
       "      <th>lag_23</th>\n",
       "      <td>0.022682</td>\n",
       "    </tr>\n",
       "    <tr>\n",
       "      <th>lag_24</th>\n",
       "      <td>0.403774</td>\n",
       "    </tr>\n",
       "    <tr>\n",
       "      <th>rolling_mean</th>\n",
       "      <td>0.029979</td>\n",
       "    </tr>\n",
       "  </tbody>\n",
       "</table>\n",
       "</div>"
      ],
      "text/plain": [
       "                     0\n",
       "dayofweek     0.008140\n",
       "hour          0.054354\n",
       "lag_1         0.119703\n",
       "lag_2         0.031251\n",
       "lag_3         0.018439\n",
       "lag_4         0.016938\n",
       "lag_5         0.017498\n",
       "lag_6         0.021076\n",
       "lag_7         0.029878\n",
       "lag_8         0.014387\n",
       "lag_9         0.015233\n",
       "lag_10        0.015772\n",
       "lag_11        0.017318\n",
       "lag_12        0.021371\n",
       "lag_13        0.014939\n",
       "lag_14        0.012359\n",
       "lag_15        0.012131\n",
       "lag_16        0.015867\n",
       "lag_17        0.017786\n",
       "lag_18        0.016035\n",
       "lag_19        0.012599\n",
       "lag_20        0.014027\n",
       "lag_21        0.012837\n",
       "lag_22        0.013629\n",
       "lag_23        0.022682\n",
       "lag_24        0.403774\n",
       "rolling_mean  0.029979"
      ]
     },
     "metadata": {},
     "output_type": "display_data"
    }
   ],
   "source": [
    "model_ranfor = RandomForestRegressor()\n",
    "model_ranfor.fit(train_features_new, train_target_new)\n",
    "features_rf = pd.DataFrame(model_ranfor.feature_importances_, index = train_features_new.columns)\n",
    "display(features_rf)"
   ]
  },
  {
   "cell_type": "code",
   "execution_count": null,
   "metadata": {},
   "outputs": [],
   "source": []
  },
  {
   "cell_type": "markdown",
   "metadata": {},
   "source": [
    "#### ~Набор параметров датасета №1~"
   ]
  },
  {
   "cell_type": "markdown",
   "metadata": {},
   "source": [
    "##### Формируем выборки для модели"
   ]
  },
  {
   "cell_type": "markdown",
   "metadata": {},
   "source": [
    "data_1 = data.copy()\n",
    "make_features(data_1, 5, 6)"
   ]
  },
  {
   "cell_type": "markdown",
   "metadata": {},
   "source": [
    "<div class=\"alert alert-danger\">\n",
    "<font size=\"5\"><b>Комментарий ревьюера</b></font>\n",
    "\n",
    "\n",
    "\n",
    "Ошибка ❌:\n",
    "\n",
    "\n",
    "\n",
    "не забываем поднимать импорты наверх\n"
   ]
  },
  {
   "cell_type": "markdown",
   "metadata": {},
   "source": [
    "<div class=\"alert alert-block alert-info\">\n",
    "<b>Комментарий студента:</b> \n",
    "    \n",
    "Исправил\n",
    "</div>"
   ]
  },
  {
   "cell_type": "markdown",
   "metadata": {},
   "source": [
    "train_1, test_1 = train_test_split(data_1, shuffle = False, test_size = 0.1)\n",
    "train_1 = train_1.dropna()\n",
    "   \n",
    "train_features_1 = train_1.drop('num_orders', axis = 1)\n",
    "train_target_1 = train_1['num_orders']\n",
    "test_features_1 = test_1.drop('num_orders', axis = 1)\n",
    "test_target_1 = test_1['num_orders']\n",
    "display(train_features_1.shape, train_target_1.shape, \n",
    "        test_features_1.shape, test_target_1.shape)"
   ]
  },
  {
   "cell_type": "markdown",
   "metadata": {},
   "source": [
    "<div class=\"alert alert-success\">\n",
    "<font size=\"5\"><b>Комментарий ревьюера</b></font>\n",
    "\n",
    "\n",
    "\n",
    "Успех 👍:\n",
    "\n",
    "\n",
    "\n",
    "- 👍 shuffle = False\n",
    "\n",
    "\n",
    "- И правильно что разбил только на две выборки "
   ]
  },
  {
   "cell_type": "markdown",
   "metadata": {},
   "source": [
    "Выборки подготовлены к работе."
   ]
  },
  {
   "cell_type": "markdown",
   "metadata": {},
   "source": [
    "##### Испытываем CatBoost с перебором гиперпараметров"
   ]
  },
  {
   "cell_type": "markdown",
   "metadata": {},
   "source": [
    "%%time\n",
    "model_c_1 = CatBoostRegressor()\n",
    "hyper_par_c = [{'learning_rate': [0.3, 0.5, 0.7],\n",
    "                'iterations': [500, 1000],\n",
    "               'verbose': [False]}]\n",
    "\n",
    "model_c_grid_1 = GridSearchCV(model_c_1, hyper_par_c, scoring = \"neg_mean_squared_error\")\n",
    "model_c_grid_1.fit(train_features_1, train_target_1)\n",
    "\n",
    "cb_best_par_1 = model_c_grid_1.best_params_\n",
    "cb_best_rmse_1 = abs(model_c_grid_1.best_score_) ** 0.5\n",
    "\n",
    "print('CatBoost Лучшие параметры:', cb_best_par_1)\n",
    "print('CatBoost Лучший rmse:', cb_best_rmse_1)"
   ]
  },
  {
   "cell_type": "markdown",
   "metadata": {},
   "source": [
    "\n",
    "<div class=\"alert alert-danger\">\n",
    "<font size=\"5\"><b>Комментарий ревьюера</b></font>\n",
    "\n",
    "\n",
    "\n",
    "Ошибка ❌:\n",
    "\n",
    "\n",
    "\n",
    "\n",
    "\n",
    "Молодец что используешь GridSearchCV,  но есть одна тонкость. В случае временных рядов в кросс-валидации необходимо учитывать порядок временных индексов. Это означает, что для каждого сплита тестовая выборка должна содержать временные записи, которые идут после временных записей в обучающем наборе данных. Использование обычной перетасовки данных не подходит, так как это может привести к \"утечке\" информации из будущего в прошлое, что искажает оценку качества модели.\n",
    "\n",
    "\n",
    "Поэтому это нам не подходит cv=5 (Который тут ставится по умолчанию)\n",
    "    \n",
    "   \n",
    "Правильное решение `TimeSeriesSplit` [подробнее](https://scikit-learn.org/stable/modules/generated/sklearn.model_selection.TimeSeriesSplit.html)\n",
    "    \n",
    "    \n",
    "    \n",
    "    "
   ]
  },
  {
   "cell_type": "markdown",
   "metadata": {},
   "source": [
    "<div class=\"alert alert-block alert-info\">\n",
    "<b>Комментарий студента:</b> \n",
    "    \n",
    "Идею понял, исправленный вариант будет в п. 3.2.1.\n",
    "</div>"
   ]
  },
  {
   "cell_type": "markdown",
   "metadata": {},
   "source": [
    "<div class=\"alert alert-success\">\n",
    "<font size=\"5\"><b>Комментарий ревьюераV2</b></font>\n",
    "\n",
    "\n",
    "\n",
    "Успех 👍:\n",
    "\n",
    "\n",
    "\n",
    "Видел\n",
    "\n",
    "\n",
    " "
   ]
  },
  {
   "cell_type": "markdown",
   "metadata": {},
   "source": [
    "##### Испытываем LightGBM с перебором гиперпараметров"
   ]
  },
  {
   "cell_type": "markdown",
   "metadata": {},
   "source": [
    "%%time\n",
    "model_l_1 = LGBMRegressor()\n",
    "hyper_par = [{'num_leaves': [50, 100, 150], \n",
    "              'learning_rate': [0.1, 0.2, 0.3, 0.5], \n",
    "              'random_state': [state]}]\n",
    "\n",
    "model_l_grid_1 = GridSearchCV(model_l_1, hyper_par, scoring = \"neg_mean_squared_error\")\n",
    "model_l_grid_1.fit(train_features_1, train_target_1)\n",
    "\n",
    "lgbm_best_par_1 = model_l_grid_1.best_params_\n",
    "lgbm_best_rmse_1 = abs(model_l_grid_1.best_score_) ** 0.5\n",
    "\n",
    "print('LightGBM Лучшие параметры:', lgbm_best_par_1)\n",
    "print('LightGBM Лучший rmse:', lgbm_best_rmse_1)"
   ]
  },
  {
   "cell_type": "markdown",
   "metadata": {},
   "source": [
    "##### Испытываем RandomForest с перебором гиперпараметров"
   ]
  },
  {
   "cell_type": "markdown",
   "metadata": {},
   "source": [
    "%%time\n",
    "model_f_1 = RandomForestRegressor(random_state = state)\n",
    "hyper_par_f = [{'max_depth': range(1, 11, 2), \n",
    "              'n_estimators': range(1, 51, 10)}]\n",
    "\n",
    "model_f_grid_1 = GridSearchCV(model_f_1, hyper_par_f, scoring = \"neg_mean_squared_error\")\n",
    "model_f_grid_1.fit(train_features_1, train_target_1)\n",
    "\n",
    "rf_best_par_1 = model_f_grid_1.best_params_\n",
    "rf_best_rmse_1 = abs(model_f_grid_1.best_score_) ** 0.5\n",
    "\n",
    "print('RandomForest Лучшие параметры:', rf_best_par_1)\n",
    "print('RandomForest Лучший rmse:', rf_best_rmse_1)"
   ]
  },
  {
   "cell_type": "markdown",
   "metadata": {},
   "source": [
    "#### ~Набор параметров датасета №2~"
   ]
  },
  {
   "cell_type": "markdown",
   "metadata": {},
   "source": [
    "##### Формируем выборки для модели"
   ]
  },
  {
   "cell_type": "markdown",
   "metadata": {},
   "source": [
    "data_2 = data.copy()\n",
    "make_features(data_2, 10, 12)"
   ]
  },
  {
   "cell_type": "markdown",
   "metadata": {},
   "source": [
    "<div class=\"alert alert-warning\">\n",
    "<font size=\"5\"><b>Комментарий ревьюера</b></font>\n",
    "\n",
    "\n",
    "\n",
    "Совет 🤔:\n",
    "\n",
    "\n",
    "Можно было сделать перебор  max_lag, rolling_mean_size в GridSearchCV, используя pipeline, и написав класс  генерации признаков.  Но если не знаком с объектно-ориентированным программированием то это может показаться сложновато "
   ]
  },
  {
   "cell_type": "markdown",
   "metadata": {},
   "source": [
    "train_2, test_2 = train_test_split(data_2, shuffle = False, test_size = 0.1)\n",
    "train_2 = train_2.dropna()\n",
    "    \n",
    "train_features_2 = train_2.drop('num_orders', axis = 1)\n",
    "train_target_2 = train_2['num_orders']\n",
    "test_features_2 = test_2.drop('num_orders', axis = 1)\n",
    "test_target_2 = test_2['num_orders']\n",
    "display(train_features_2.shape, train_target_2.shape, \n",
    "        test_features_2.shape, test_target_2.shape)"
   ]
  },
  {
   "cell_type": "markdown",
   "metadata": {},
   "source": [
    "##### Испытываем CatBoost с перебором гиперпараметров"
   ]
  },
  {
   "cell_type": "markdown",
   "metadata": {},
   "source": [
    "%%time\n",
    "model_c_2 = CatBoostRegressor()\n",
    "hyper_par_c = [{'learning_rate': [0.3, 0.5, 0.7],\n",
    "                'iterations': [500, 1000],\n",
    "               'verbose': [False]}]\n",
    "\n",
    "model_c_grid_2 = GridSearchCV(model_c_2, hyper_par_c, scoring = \"neg_mean_squared_error\")\n",
    "model_c_grid_2.fit(train_features_2, train_target_2)\n",
    "\n",
    "cb_best_par_2 = model_c_grid_2.best_params_\n",
    "cb_best_rmse_2 = abs(model_c_grid_2.best_score_) ** 0.5\n",
    "\n",
    "print('CatBoost Лучшие параметры:', cb_best_par_2)\n",
    "print('CatBoost Лучший rmse:', cb_best_rmse_2)"
   ]
  },
  {
   "cell_type": "markdown",
   "metadata": {},
   "source": [
    "##### Испытываем LightGBM с перебором гиперпараметров"
   ]
  },
  {
   "cell_type": "markdown",
   "metadata": {},
   "source": [
    "%%time\n",
    "model_l_2 = LGBMRegressor()\n",
    "hyper_par = [{'num_leaves': [50, 100, 150], \n",
    "              'learning_rate': [0.1, 0.2, 0.3, 0.5], \n",
    "              'random_state': [state]}]\n",
    "\n",
    "model_l_grid_2 = GridSearchCV(model_l_2, hyper_par, scoring = \"neg_mean_squared_error\")\n",
    "model_l_grid_2.fit(train_features_2, train_target_2)\n",
    "\n",
    "lgbm_best_par_2 = model_l_grid_2.best_params_\n",
    "lgbm_best_rmse_2 = abs(model_l_grid_2.best_score_) ** 0.5\n",
    "\n",
    "print('LightGBM Лучшие параметры:', lgbm_best_par_2)\n",
    "print('LightGBM Лучший rmse:', lgbm_best_rmse_2)"
   ]
  },
  {
   "cell_type": "markdown",
   "metadata": {},
   "source": [
    "##### Испытываем RandomForest с перебором гиперпараметров"
   ]
  },
  {
   "cell_type": "markdown",
   "metadata": {},
   "source": [
    "%%time\n",
    "model_f_2 = RandomForestRegressor(random_state = state)\n",
    "hyper_par_f = [{'max_depth': range(1, 11, 2), \n",
    "              'n_estimators': range(1, 51, 10)}]\n",
    "\n",
    "model_f_grid_2 = GridSearchCV(model_f_2, hyper_par_f, scoring = \"neg_mean_squared_error\")\n",
    "model_f_grid_2.fit(train_features_2, train_target_2)\n",
    "\n",
    "rf_best_par_2 = model_f_grid_2.best_params_\n",
    "rf_best_rmse_2 = abs(model_f_grid_2.best_score_) ** 0.5\n",
    "\n",
    "print('RandomForest Лучшие параметры:', rf_best_par_2)\n",
    "print('RandomForest Лучший rmse:', rf_best_rmse_2)"
   ]
  },
  {
   "cell_type": "markdown",
   "metadata": {},
   "source": [
    "#### ~Набор параметров датасета №3~"
   ]
  },
  {
   "cell_type": "markdown",
   "metadata": {},
   "source": [
    "##### Формируем выборки для модели"
   ]
  },
  {
   "cell_type": "markdown",
   "metadata": {},
   "source": [
    "data_3 = data.copy()\n",
    "make_features(data_3, 5, 3)"
   ]
  },
  {
   "cell_type": "markdown",
   "metadata": {},
   "source": [
    "train_3, test_3 = train_test_split(data_3, shuffle = False, test_size = 0.1)\n",
    "train_3 = train_3.dropna()\n",
    "    \n",
    "train_features_3 = train_3.drop('num_orders', axis = 1)\n",
    "train_target_3 = train_3['num_orders']\n",
    "test_features_3 = test_3.drop('num_orders', axis = 1)\n",
    "test_target_3 = test_3['num_orders']\n",
    "display(train_features_3.shape, train_target_3.shape, \n",
    "        test_features_3.shape, test_target_3.shape)"
   ]
  },
  {
   "cell_type": "markdown",
   "metadata": {},
   "source": [
    "##### Испытываем CatBoost с перебором гиперпараметров"
   ]
  },
  {
   "cell_type": "markdown",
   "metadata": {},
   "source": [
    "%%time\n",
    "model_c_3 = CatBoostRegressor()\n",
    "hyper_par_c = [{'learning_rate': [0.3, 0.5, 0.7],\n",
    "                'iterations': [500, 1000],\n",
    "               'verbose': [False]}]\n",
    "\n",
    "model_c_grid_3 = GridSearchCV(model_c_3, hyper_par_c, scoring = \"neg_mean_squared_error\")\n",
    "model_c_grid_3.fit(train_features_3, train_target_3)\n",
    "\n",
    "cb_best_par_3 = model_c_grid_3.best_params_\n",
    "cb_best_rmse_3 = abs(model_c_grid_3.best_score_) ** 0.5\n",
    "\n",
    "print('CatBoost Лучшие параметры:', cb_best_par_3)\n",
    "print('CatBoost Лучший rmse:', cb_best_rmse_3)"
   ]
  },
  {
   "cell_type": "markdown",
   "metadata": {},
   "source": [
    "##### Испытываем LightGBM с перебором гиперпараметров"
   ]
  },
  {
   "cell_type": "markdown",
   "metadata": {},
   "source": [
    "%%time\n",
    "model_l_3 = LGBMRegressor()\n",
    "hyper_par = [{'num_leaves': [50, 100, 150], \n",
    "              'learning_rate': [0.1, 0.2, 0.3, 0.5], \n",
    "              'random_state': [state]}]\n",
    "\n",
    "model_l_grid_3 = GridSearchCV(model_l_3, hyper_par, scoring = \"neg_mean_squared_error\")\n",
    "model_l_grid_3.fit(train_features_3, train_target_3)\n",
    "\n",
    "lgbm_best_par_3 = model_l_grid_3.best_params_\n",
    "lgbm_best_rmse_3 = abs(model_l_grid_3.best_score_) ** 0.5\n",
    "\n",
    "print('LightGBM Лучшие параметры:', lgbm_best_par_3)\n",
    "print('LightGBM Лучший rmse:', lgbm_best_rmse_3)"
   ]
  },
  {
   "cell_type": "markdown",
   "metadata": {},
   "source": [
    "##### Испытываем RandomForest с перебором гиперпараметров"
   ]
  },
  {
   "cell_type": "markdown",
   "metadata": {},
   "source": [
    "%%time\n",
    "model_f_3 = RandomForestRegressor(random_state = state)\n",
    "hyper_par_f = [{'max_depth': range(1, 11, 2), \n",
    "              'n_estimators': range(1, 51, 10)}]\n",
    "\n",
    "model_f_grid_3 = GridSearchCV(model_f_3, hyper_par_f, scoring = \"neg_mean_squared_error\")\n",
    "model_f_grid_3.fit(train_features_3, train_target_3)\n",
    "\n",
    "rf_best_par_3 = model_f_grid_3.best_params_\n",
    "rf_best_rmse_3 = abs(model_f_grid_3.best_score_) ** 0.5\n",
    "\n",
    "print('RandomForest Лучшие параметры:', rf_best_par_2)\n",
    "print('RandomForest Лучший rmse:', rf_best_rmse_2)"
   ]
  },
  {
   "cell_type": "markdown",
   "metadata": {},
   "source": [
    "### Подведем итоги"
   ]
  },
  {
   "cell_type": "markdown",
   "metadata": {},
   "source": [
    "results = pd.DataFrame({'Лучший RMSE датасет 1': [lgbm_best_rmse_1, cb_best_rmse_1, rf_best_rmse_1],\n",
    "                        'Лучший RMSE датасет 2': [lgbm_best_rmse_2, cb_best_rmse_2, rf_best_rmse_2], \n",
    "                        'Лучший RMSE датасет 3': [lgbm_best_rmse_3, cb_best_rmse_3, rf_best_rmse_3]},\n",
    "                      index = ['LightGBM', 'CatBoost', 'RandomForest'])\n",
    "display(results)"
   ]
  },
  {
   "cell_type": "markdown",
   "metadata": {},
   "source": [
    "Итак, лучше всего модели отработали на датасете №3 с max_lag = 5 и rolling_size = 3.\n",
    "Лучшие показатели и по обучающей, и по валидационной выборке у CatBoost. На тестовой выборке проверем именно ее."
   ]
  },
  {
   "cell_type": "markdown",
   "metadata": {},
   "source": [
    "## Тестирование"
   ]
  },
  {
   "cell_type": "markdown",
   "metadata": {},
   "source": [
    "Тестируем CatBoost:"
   ]
  },
  {
   "cell_type": "markdown",
   "metadata": {},
   "source": [
    "cb_test_rmse = mean_squared_error(test_target_3, model_c_grid_3.predict(test_features_3)) ** 0.5\n",
    "\n",
    "print('CatBoost Test RMSE:', cb_test_rmse)"
   ]
  },
  {
   "cell_type": "markdown",
   "metadata": {},
   "source": [
    "<div class=\"alert alert-success\">\n",
    "<font size=\"5\"><b>Комментарий ревьюера</b></font>\n",
    "\n",
    "Успех: \n",
    "\n",
    "- логика моделирования не нарушена, тут тестируем только лучшую модель отобранную на валидации, или парочку лучших, если на валидации результаты близки\n",
    "\n",
    "\n",
    "- Если студент получил на тесте меньше 48  это считается приемлемым результатом.\n",
    "\n",
    "\n",
    "<div class=\"alert alert-warning\">\n",
    "\n",
    "\n",
    "\n",
    "Совет: \n",
    "\n",
    " \n",
    "   \n",
    " \n",
    "\n",
    "Можно оценить важность признаков, это можно сделать с помощью [.feature_importance](https://inria.github.io/scikit-learn-mooc/python_scripts/dev_features_importance.html), [Permutation Importance](https://scikit-learn.org/stable/modules/permutation_importance.html), shap\n",
    "    \n",
    "    \n",
    "    \n",
    "Полезно чтобы модель не выглядела чёрным ящиком   "
   ]
  },
  {
   "cell_type": "markdown",
   "metadata": {},
   "source": [
    "Цель достигнута, получен RMSE на тестовой выборке - 38.68.\n",
    "\n",
    "На всякий случай, проверим RMSE на DummyRegressor"
   ]
  },
  {
   "cell_type": "code",
   "execution_count": 26,
   "metadata": {},
   "outputs": [
    {
     "data": {
      "text/plain": [
       "84.6499381993622"
      ]
     },
     "metadata": {},
     "output_type": "display_data"
    }
   ],
   "source": [
    "model_dummy = DummyRegressor(strategy = \"mean\")\n",
    "model_dummy.fit(train_features_new, train_target_new)\n",
    "display(mean_squared_error(test_target_new, model_dummy.predict(test_features_new))**0.5)"
   ]
  },
  {
   "cell_type": "code",
   "execution_count": 27,
   "metadata": {},
   "outputs": [
    {
     "data": {
      "text/plain": [
       "87.15277582981295"
      ]
     },
     "metadata": {},
     "output_type": "display_data"
    }
   ],
   "source": [
    "model_dummy = DummyRegressor(strategy = \"median\")\n",
    "model_dummy.fit(train_features_new, train_target_new)\n",
    "display(mean_squared_error(test_target_new, model_dummy.predict(test_features_new))**0.5)"
   ]
  },
  {
   "cell_type": "markdown",
   "metadata": {},
   "source": [
    "RMSE у dummy ощутимо хуже."
   ]
  },
  {
   "cell_type": "markdown",
   "metadata": {},
   "source": [
    "<div class=\"alert alert-success\">\n",
    "<font size=\"5\"><b>Комментарий ревьюера</b></font>\n",
    "\n",
    "\n",
    "\n",
    "Успех 👍:\n",
    "\n",
    "\n",
    "\n",
    "👍\n",
    "\n",
    "\n",
    " "
   ]
  },
  {
   "cell_type": "markdown",
   "metadata": {},
   "source": [
    "## Итоги проекта"
   ]
  },
  {
   "cell_type": "markdown",
   "metadata": {},
   "source": [
    "Итого, в рамках проекта сделано следующее:\n",
    "1. Загружены необходимые данные и библиотеки. Произведена подготовка данных.\n",
    "2. Проведен анализ данных в разрезе трендов/сезонности, скольщязего среднего и стационарных рядов. Сделаны выводы в соответствубщем разделе.\n",
    "3. Обучение моделей:\\\n",
    "    3.1. Подготовлены 3 датасета с различными наборами параметров для подбора модели;\\\n",
    "    3.2. По каждому датасету обучены у модели - CatBoost, LightGBM и RandomForestRegressor с перебором гиперпараметров.\\\n",
    "    3.3. Определена лучшая модель и набор параметров в датасете: CatBoost c параметрами iterations: 1000, learning_rate: 0.3 на датасете №3 с параметрами max_lag = 5, rolling_mean_size = 3.\n",
    "4. Лучшая модель протестирована на тестовой выборке: достигнут RMSE 38.68."
   ]
  },
  {
   "cell_type": "markdown",
   "metadata": {},
   "source": [
    "\n",
    "<div class=\"alert alert-info\">\n",
    "<font size=\"5\"><b>Комментарий ревьюера</b></font>\n",
    "\n",
    "\n",
    "\n",
    "Имран, у тебя старательно выполненная работа, все четко, осмысленно. Логика моделирования не нарушена \n",
    "\n",
    "    \n",
    "\n",
    "    \n",
    "Нет проблем с комментированием кода - всё что ты делаешь понятно \n",
    "\n",
    "    \n",
    "    \n",
    "Графики хорошо оформлены, хотя советовал бы использовать библиотеку seaborn, с помощью её строить проще и выглядят графики красивее\n",
    "    \n",
    "    \n",
    "\n",
    "\n",
    "Я оставил небольшие советы  (если есть время и желание можешь воспользоваться)\n",
    "    \n",
    "\n",
    "\n",
    "\n",
    "Обязательное к исправлению:\n",
    "\n",
    "\n",
    "    \n",
    "- импорты поднимаем наверх \n",
    "    \n",
    " \n",
    "    \n",
    "- стоит провести проверку на то что даты стоят по возрастанию\n",
    "    \n",
    "    \n",
    "- проводим исследование на сезонность по графикам\n",
    "    \n",
    "  \n",
    "\n",
    "    \n",
    "- при создании признаков обрати внимание на периодичность по часам\n",
    "    \n",
    "    \n",
    "    \n",
    "- у нас  не хватает данных чтобы говорить о периодичности по  месяцам    \n",
    "    \n",
    "    \n",
    "    \n",
    "\n",
    "    \n",
    "- в случае временных рядов в кросс-валидации необходимо учитывать порядок временных индексов    \n",
    "    \n",
    "    \n",
    " \n",
    "\n",
    "    \n",
    "Жду исправления ошибок для принятия проекта    "
   ]
  },
  {
   "cell_type": "markdown",
   "metadata": {},
   "source": [
    "_**Комментарий студента:**_\n",
    "\n",
    "Все поправил, решил не исправлять имеющиеся строки с кодом - их перевел в маркдаун для истории.\n",
    "Расчеты с учетом замечаний в новом подразделе - 3.2.1 Датасет New"
   ]
  },
  {
   "cell_type": "markdown",
   "metadata": {},
   "source": [
    "\n",
    "<div class=\"alert alert-info\">\n",
    "<font size=\"5\"><b>Комментарий ревьюераV2</b></font>\n",
    "\n",
    "Спасибо за работу!    \n",
    "\n",
    "    \n",
    "Красное исправлено. Надеюсь мои советы и вопросики были полезны и в копилочку знаний упало что то новое, а проект стал лучше, и симпатичней.\n",
    "\n",
    " \n",
    "  \n",
    "Отличная работа Имран. Желаю успехов в дальнейшей учебе!\n",
    "\n"
   ]
  },
  {
   "cell_type": "markdown",
   "metadata": {},
   "source": [
    "## Чек-лист проверки"
   ]
  },
  {
   "cell_type": "markdown",
   "metadata": {},
   "source": [
    "- [x]  Jupyter Notebook открыт\n",
    "- [x]  Весь код выполняется без ошибок\n",
    "- [x]  Ячейки с кодом расположены в порядке исполнения\n",
    "- [x]  Данные загружены и подготовлены\n",
    "- [x]  Данные проанализированы\n",
    "- [x]  Модель обучена, гиперпараметры подобраны\n",
    "- [x]  Качество моделей проверено, выводы сделаны\n",
    "- [x]  Значение *RMSE* на тестовой выборке не больше 48"
   ]
  }
 ],
 "metadata": {
  "ExecuteTimeLog": [
   {
    "duration": 323,
    "start_time": "2024-06-24T20:51:38.685Z"
   },
   {
    "duration": 159,
    "start_time": "2024-06-24T20:52:09.926Z"
   },
   {
    "duration": 23,
    "start_time": "2024-06-24T20:52:38.613Z"
   },
   {
    "duration": 56,
    "start_time": "2024-06-24T20:53:16.526Z"
   },
   {
    "duration": 16,
    "start_time": "2024-06-24T20:53:17.288Z"
   },
   {
    "duration": 8,
    "start_time": "2024-06-24T20:55:13.486Z"
   },
   {
    "duration": 16,
    "start_time": "2024-06-24T20:55:21.334Z"
   },
   {
    "duration": 812,
    "start_time": "2024-06-24T21:02:43.254Z"
   },
   {
    "duration": 10,
    "start_time": "2024-06-24T21:03:15.393Z"
   },
   {
    "duration": 160,
    "start_time": "2024-06-24T21:03:40.606Z"
   },
   {
    "duration": 375,
    "start_time": "2024-06-24T21:04:55.024Z"
   },
   {
    "duration": 268,
    "start_time": "2024-06-24T21:05:24.635Z"
   },
   {
    "duration": 4,
    "start_time": "2024-06-24T21:05:51.599Z"
   },
   {
    "duration": 243,
    "start_time": "2024-06-24T21:05:55.799Z"
   },
   {
    "duration": 214,
    "start_time": "2024-06-24T21:06:22.759Z"
   },
   {
    "duration": 211,
    "start_time": "2024-06-24T21:06:44.796Z"
   },
   {
    "duration": 192,
    "start_time": "2024-06-24T21:07:33.519Z"
   },
   {
    "duration": 125,
    "start_time": "2024-06-24T21:07:47.864Z"
   },
   {
    "duration": 284,
    "start_time": "2024-06-24T21:08:02.351Z"
   },
   {
    "duration": 167,
    "start_time": "2024-06-24T21:08:25.438Z"
   },
   {
    "duration": 9,
    "start_time": "2024-06-24T21:09:52.439Z"
   },
   {
    "duration": 19,
    "start_time": "2024-06-24T21:10:08.791Z"
   },
   {
    "duration": 14,
    "start_time": "2024-06-24T21:10:12.195Z"
   },
   {
    "duration": 194,
    "start_time": "2024-06-24T21:11:32.258Z"
   },
   {
    "duration": 1296,
    "start_time": "2024-06-24T21:11:45.548Z"
   },
   {
    "duration": 45,
    "start_time": "2024-06-24T21:11:46.846Z"
   },
   {
    "duration": 15,
    "start_time": "2024-06-24T21:11:46.892Z"
   },
   {
    "duration": 19,
    "start_time": "2024-06-24T21:11:46.908Z"
   },
   {
    "duration": 270,
    "start_time": "2024-06-24T21:11:46.929Z"
   },
   {
    "duration": 682,
    "start_time": "2024-06-24T21:11:47.200Z"
   },
   {
    "duration": 706,
    "start_time": "2024-06-24T21:12:05.809Z"
   },
   {
    "duration": 570,
    "start_time": "2024-06-24T21:12:13.012Z"
   },
   {
    "duration": 644,
    "start_time": "2024-06-24T21:12:20.296Z"
   },
   {
    "duration": 649,
    "start_time": "2024-06-24T21:12:32.598Z"
   },
   {
    "duration": 804,
    "start_time": "2024-06-24T21:12:40.861Z"
   },
   {
    "duration": 2,
    "start_time": "2024-06-24T21:13:50.049Z"
   },
   {
    "duration": 882,
    "start_time": "2024-06-24T21:14:26.090Z"
   },
   {
    "duration": 733,
    "start_time": "2024-06-24T21:14:30.562Z"
   },
   {
    "duration": 180,
    "start_time": "2024-06-24T21:15:04.791Z"
   },
   {
    "duration": 231,
    "start_time": "2024-06-24T21:15:19.535Z"
   },
   {
    "duration": 1480,
    "start_time": "2024-06-25T07:46:40.175Z"
   },
   {
    "duration": 46,
    "start_time": "2024-06-25T07:46:41.657Z"
   },
   {
    "duration": 17,
    "start_time": "2024-06-25T07:46:41.704Z"
   },
   {
    "duration": 25,
    "start_time": "2024-06-25T07:46:41.730Z"
   },
   {
    "duration": 275,
    "start_time": "2024-06-25T07:46:41.757Z"
   },
   {
    "duration": 901,
    "start_time": "2024-06-25T07:46:42.033Z"
   },
   {
    "duration": 184,
    "start_time": "2024-06-25T07:46:42.937Z"
   },
   {
    "duration": 4,
    "start_time": "2024-06-25T08:22:34.864Z"
   },
   {
    "duration": 4,
    "start_time": "2024-06-25T08:23:27.220Z"
   },
   {
    "duration": 5,
    "start_time": "2024-06-25T08:32:44.652Z"
   },
   {
    "duration": 4,
    "start_time": "2024-06-25T08:33:17.876Z"
   },
   {
    "duration": 26,
    "start_time": "2024-06-25T08:33:40.398Z"
   },
   {
    "duration": 4,
    "start_time": "2024-06-25T08:33:53.569Z"
   },
   {
    "duration": 8,
    "start_time": "2024-06-25T08:33:54.751Z"
   },
   {
    "duration": 121,
    "start_time": "2024-06-25T08:34:09.731Z"
   },
   {
    "duration": 5,
    "start_time": "2024-06-25T08:34:48.888Z"
   },
   {
    "duration": 14,
    "start_time": "2024-06-25T08:34:49.398Z"
   },
   {
    "duration": 5,
    "start_time": "2024-06-25T08:35:17.211Z"
   },
   {
    "duration": 14,
    "start_time": "2024-06-25T08:35:17.776Z"
   },
   {
    "duration": 4,
    "start_time": "2024-06-25T08:35:56.899Z"
   },
   {
    "duration": 12,
    "start_time": "2024-06-25T08:35:57.359Z"
   },
   {
    "duration": 5,
    "start_time": "2024-06-25T08:36:14.865Z"
   },
   {
    "duration": 16,
    "start_time": "2024-06-25T08:36:15.480Z"
   },
   {
    "duration": 5,
    "start_time": "2024-06-25T08:36:34.145Z"
   },
   {
    "duration": 11,
    "start_time": "2024-06-25T08:36:34.747Z"
   },
   {
    "duration": 5,
    "start_time": "2024-06-25T08:36:49.251Z"
   },
   {
    "duration": 8,
    "start_time": "2024-06-25T08:36:49.774Z"
   },
   {
    "duration": 4,
    "start_time": "2024-06-25T08:37:09.048Z"
   },
   {
    "duration": 10,
    "start_time": "2024-06-25T08:37:09.474Z"
   },
   {
    "duration": 7,
    "start_time": "2024-06-25T08:38:21.852Z"
   },
   {
    "duration": 38,
    "start_time": "2024-06-25T08:38:41.904Z"
   },
   {
    "duration": 13,
    "start_time": "2024-06-25T08:39:26.525Z"
   },
   {
    "duration": 4,
    "start_time": "2024-06-25T09:13:31.797Z"
   },
   {
    "duration": 4,
    "start_time": "2024-06-25T09:13:36.004Z"
   },
   {
    "duration": 11,
    "start_time": "2024-06-25T09:13:40.044Z"
   },
   {
    "duration": 2,
    "start_time": "2024-06-25T09:17:13.174Z"
   },
   {
    "duration": 8,
    "start_time": "2024-06-25T09:19:04.646Z"
   },
   {
    "duration": 130,
    "start_time": "2024-06-25T09:20:35.096Z"
   },
   {
    "duration": 145,
    "start_time": "2024-06-25T09:20:56.688Z"
   },
   {
    "duration": 160,
    "start_time": "2024-06-25T09:21:13.961Z"
   },
   {
    "duration": 16,
    "start_time": "2024-06-25T09:22:04.421Z"
   },
   {
    "duration": 16,
    "start_time": "2024-06-25T09:23:05.235Z"
   },
   {
    "duration": 15,
    "start_time": "2024-06-25T09:23:46.010Z"
   },
   {
    "duration": 16,
    "start_time": "2024-06-25T09:24:08.739Z"
   },
   {
    "duration": 16,
    "start_time": "2024-06-25T09:24:21.074Z"
   },
   {
    "duration": 122,
    "start_time": "2024-06-25T09:24:56.199Z"
   },
   {
    "duration": 33,
    "start_time": "2024-06-25T09:25:08.617Z"
   },
   {
    "duration": 54649,
    "start_time": "2024-06-25T12:00:07.065Z"
   },
   {
    "duration": 3,
    "start_time": "2024-06-25T12:02:20.036Z"
   },
   {
    "duration": 9,
    "start_time": "2024-06-25T12:02:47.083Z"
   },
   {
    "duration": 7,
    "start_time": "2024-06-25T12:04:48.817Z"
   },
   {
    "duration": 53960,
    "start_time": "2024-06-25T12:05:17.488Z"
   },
   {
    "duration": 5,
    "start_time": "2024-06-25T12:09:29.685Z"
   },
   {
    "duration": 68,
    "start_time": "2024-06-25T12:09:44.213Z"
   },
   {
    "duration": 3,
    "start_time": "2024-06-25T12:10:13.887Z"
   },
   {
    "duration": 136891,
    "start_time": "2024-06-25T12:12:39.830Z"
   },
   {
    "duration": 10917,
    "start_time": "2024-06-25T12:14:56.794Z"
   },
   {
    "duration": 10781,
    "start_time": "2024-06-25T12:19:42.835Z"
   },
   {
    "duration": 105971,
    "start_time": "2024-06-25T12:20:36.955Z"
   },
   {
    "duration": 7,
    "start_time": "2024-06-25T12:26:36.209Z"
   },
   {
    "duration": 15,
    "start_time": "2024-06-25T12:27:16.282Z"
   },
   {
    "duration": 19,
    "start_time": "2024-06-25T12:28:54.010Z"
   },
   {
    "duration": 29490,
    "start_time": "2024-06-25T12:29:21.406Z"
   },
   {
    "duration": 66354,
    "start_time": "2024-06-25T12:32:22.385Z"
   },
   {
    "duration": 110290,
    "start_time": "2024-06-25T12:33:28.740Z"
   },
   {
    "duration": 14925,
    "start_time": "2024-06-25T12:35:19.031Z"
   },
   {
    "duration": 65,
    "start_time": "2024-06-25T12:45:26.502Z"
   },
   {
    "duration": 8,
    "start_time": "2024-06-25T12:46:18.205Z"
   },
   {
    "duration": 16045,
    "start_time": "2024-06-25T12:49:39.065Z"
   },
   {
    "duration": 1345,
    "start_time": "2024-06-25T12:50:11.192Z"
   },
   {
    "duration": 63,
    "start_time": "2024-06-25T12:50:12.539Z"
   },
   {
    "duration": 20,
    "start_time": "2024-06-25T12:50:12.603Z"
   },
   {
    "duration": 18,
    "start_time": "2024-06-25T12:50:12.625Z"
   },
   {
    "duration": 262,
    "start_time": "2024-06-25T12:50:12.645Z"
   },
   {
    "duration": 782,
    "start_time": "2024-06-25T12:50:12.909Z"
   },
   {
    "duration": 190,
    "start_time": "2024-06-25T12:50:13.693Z"
   },
   {
    "duration": 3,
    "start_time": "2024-06-25T12:50:13.884Z"
   },
   {
    "duration": 10,
    "start_time": "2024-06-25T12:50:13.889Z"
   },
   {
    "duration": 2,
    "start_time": "2024-06-25T12:50:13.900Z"
   },
   {
    "duration": 16,
    "start_time": "2024-06-25T12:50:13.919Z"
   },
   {
    "duration": 88,
    "start_time": "2024-06-25T12:50:13.936Z"
   },
   {
    "duration": 54439,
    "start_time": "2024-06-25T12:50:14.025Z"
   },
   {
    "duration": 110957,
    "start_time": "2024-06-25T12:51:08.466Z"
   },
   {
    "duration": 11923,
    "start_time": "2024-06-25T12:52:59.425Z"
   },
   {
    "duration": 8,
    "start_time": "2024-06-25T12:53:11.349Z"
   },
   {
    "duration": 30,
    "start_time": "2024-06-25T12:53:11.359Z"
   },
   {
    "duration": 33,
    "start_time": "2024-06-25T12:53:11.391Z"
   },
   {
    "duration": 71150,
    "start_time": "2024-06-25T12:53:11.425Z"
   },
   {
    "duration": 124648,
    "start_time": "2024-06-25T12:54:22.577Z"
   },
   {
    "duration": 16245,
    "start_time": "2024-06-25T12:56:27.227Z"
   },
   {
    "duration": 10,
    "start_time": "2024-06-25T12:56:43.473Z"
   },
   {
    "duration": 104,
    "start_time": "2024-06-25T13:04:34.826Z"
   },
   {
    "duration": 3,
    "start_time": "2024-06-25T13:04:58.951Z"
   },
   {
    "duration": 4,
    "start_time": "2024-06-25T13:05:04.124Z"
   },
   {
    "duration": 6,
    "start_time": "2024-06-25T13:05:05.770Z"
   },
   {
    "duration": 7,
    "start_time": "2024-06-25T13:07:20.346Z"
   },
   {
    "duration": 9,
    "start_time": "2024-06-25T14:13:07.516Z"
   },
   {
    "duration": 15,
    "start_time": "2024-06-25T14:13:30.677Z"
   },
   {
    "duration": 12,
    "start_time": "2024-06-25T14:15:27.990Z"
   },
   {
    "duration": 1220,
    "start_time": "2024-06-25T14:17:08.819Z"
   },
   {
    "duration": 47,
    "start_time": "2024-06-25T14:17:10.041Z"
   },
   {
    "duration": 14,
    "start_time": "2024-06-25T14:17:10.090Z"
   },
   {
    "duration": 18,
    "start_time": "2024-06-25T14:17:10.105Z"
   },
   {
    "duration": 266,
    "start_time": "2024-06-25T14:17:10.125Z"
   },
   {
    "duration": 775,
    "start_time": "2024-06-25T14:17:10.393Z"
   },
   {
    "duration": 193,
    "start_time": "2024-06-25T14:17:11.170Z"
   },
   {
    "duration": 4,
    "start_time": "2024-06-25T14:17:11.365Z"
   },
   {
    "duration": 12,
    "start_time": "2024-06-25T14:17:11.370Z"
   },
   {
    "duration": 2,
    "start_time": "2024-06-25T14:17:11.383Z"
   },
   {
    "duration": 34,
    "start_time": "2024-06-25T14:17:11.386Z"
   },
   {
    "duration": 61591,
    "start_time": "2024-06-25T14:17:11.421Z"
   },
   {
    "duration": 232107,
    "start_time": "2024-06-25T14:18:13.013Z"
   },
   {
    "duration": 17824,
    "start_time": "2024-06-25T14:22:05.123Z"
   },
   {
    "duration": 7,
    "start_time": "2024-06-25T14:22:22.948Z"
   },
   {
    "duration": 46,
    "start_time": "2024-06-25T14:22:22.957Z"
   },
   {
    "duration": 81521,
    "start_time": "2024-06-25T14:22:23.004Z"
   },
   {
    "duration": 232804,
    "start_time": "2024-06-25T14:23:44.526Z"
   },
   {
    "duration": 24636,
    "start_time": "2024-06-25T14:27:37.421Z"
   },
   {
    "duration": 9,
    "start_time": "2024-06-25T14:28:02.059Z"
   },
   {
    "duration": 467,
    "start_time": "2024-06-25T14:28:02.070Z"
   },
   {
    "duration": 0,
    "start_time": "2024-06-25T14:28:02.539Z"
   },
   {
    "duration": 0,
    "start_time": "2024-06-25T14:28:02.540Z"
   },
   {
    "duration": 4,
    "start_time": "2024-06-25T14:32:13.676Z"
   },
   {
    "duration": 5,
    "start_time": "2024-06-25T14:32:15.892Z"
   },
   {
    "duration": 6,
    "start_time": "2024-06-25T14:32:32.955Z"
   },
   {
    "duration": 5,
    "start_time": "2024-06-25T14:33:33.193Z"
   },
   {
    "duration": 5,
    "start_time": "2024-06-25T14:33:33.918Z"
   },
   {
    "duration": 13,
    "start_time": "2024-06-25T14:41:10.421Z"
   },
   {
    "duration": 6,
    "start_time": "2024-06-25T14:41:17.121Z"
   },
   {
    "duration": 12,
    "start_time": "2024-06-25T14:41:19.837Z"
   },
   {
    "duration": 7,
    "start_time": "2024-06-25T14:46:48.719Z"
   },
   {
    "duration": 5,
    "start_time": "2024-06-25T14:46:54.621Z"
   },
   {
    "duration": 14,
    "start_time": "2024-06-25T14:47:41.450Z"
   },
   {
    "duration": 7,
    "start_time": "2024-06-25T14:47:52.419Z"
   },
   {
    "duration": 11,
    "start_time": "2024-06-25T14:47:52.985Z"
   },
   {
    "duration": 7,
    "start_time": "2024-06-25T14:48:09.036Z"
   },
   {
    "duration": 13,
    "start_time": "2024-06-25T14:48:09.487Z"
   },
   {
    "duration": 1375,
    "start_time": "2024-06-25T14:59:19.076Z"
   },
   {
    "duration": 49,
    "start_time": "2024-06-25T14:59:20.453Z"
   },
   {
    "duration": 18,
    "start_time": "2024-06-25T14:59:20.503Z"
   },
   {
    "duration": 19,
    "start_time": "2024-06-25T14:59:20.522Z"
   },
   {
    "duration": 320,
    "start_time": "2024-06-25T14:59:20.544Z"
   },
   {
    "duration": 814,
    "start_time": "2024-06-25T14:59:20.865Z"
   },
   {
    "duration": 193,
    "start_time": "2024-06-25T14:59:21.681Z"
   },
   {
    "duration": 4,
    "start_time": "2024-06-25T14:59:21.875Z"
   },
   {
    "duration": 16,
    "start_time": "2024-06-25T14:59:21.880Z"
   },
   {
    "duration": 10,
    "start_time": "2024-06-25T14:59:21.897Z"
   },
   {
    "duration": 18,
    "start_time": "2024-06-25T14:59:21.908Z"
   },
   {
    "duration": 69320,
    "start_time": "2024-06-25T14:59:21.928Z"
   },
   {
    "duration": 178873,
    "start_time": "2024-06-25T15:00:31.249Z"
   },
   {
    "duration": 303,
    "start_time": "2024-06-25T15:03:30.125Z"
   },
   {
    "duration": 11,
    "start_time": "2024-06-25T15:03:30.429Z"
   },
   {
    "duration": 98,
    "start_time": "2024-06-25T15:03:30.441Z"
   },
   {
    "duration": 88857,
    "start_time": "2024-06-25T15:03:30.540Z"
   },
   {
    "duration": 177840,
    "start_time": "2024-06-25T15:04:59.398Z"
   },
   {
    "duration": 1369,
    "start_time": "2024-06-25T15:08:02.327Z"
   },
   {
    "duration": 48,
    "start_time": "2024-06-25T15:08:03.697Z"
   },
   {
    "duration": 17,
    "start_time": "2024-06-25T15:08:03.747Z"
   },
   {
    "duration": 18,
    "start_time": "2024-06-25T15:08:03.765Z"
   },
   {
    "duration": 278,
    "start_time": "2024-06-25T15:08:03.785Z"
   },
   {
    "duration": 822,
    "start_time": "2024-06-25T15:08:04.065Z"
   },
   {
    "duration": 194,
    "start_time": "2024-06-25T15:08:04.889Z"
   },
   {
    "duration": 5,
    "start_time": "2024-06-25T15:08:05.084Z"
   },
   {
    "duration": 18,
    "start_time": "2024-06-25T15:08:05.090Z"
   },
   {
    "duration": 19,
    "start_time": "2024-06-25T15:08:05.110Z"
   },
   {
    "duration": 23,
    "start_time": "2024-06-25T15:08:05.131Z"
   },
   {
    "duration": 65363,
    "start_time": "2024-06-25T15:08:05.155Z"
   },
   {
    "duration": 174202,
    "start_time": "2024-06-25T15:09:10.519Z"
   },
   {
    "duration": 19741,
    "start_time": "2024-06-25T15:12:04.724Z"
   },
   {
    "duration": 11,
    "start_time": "2024-06-25T15:12:24.466Z"
   },
   {
    "duration": 29,
    "start_time": "2024-06-25T15:12:24.479Z"
   },
   {
    "duration": 89644,
    "start_time": "2024-06-25T15:12:24.510Z"
   },
   {
    "duration": 210972,
    "start_time": "2024-06-25T15:13:54.156Z"
   },
   {
    "duration": 28387,
    "start_time": "2024-06-25T15:17:25.129Z"
   },
   {
    "duration": 11,
    "start_time": "2024-06-25T15:17:53.517Z"
   },
   {
    "duration": 33,
    "start_time": "2024-06-25T15:17:53.529Z"
   },
   {
    "duration": 65866,
    "start_time": "2024-06-25T15:17:53.563Z"
   },
   {
    "duration": 209098,
    "start_time": "2024-06-25T15:18:59.430Z"
   },
   {
    "duration": 20057,
    "start_time": "2024-06-25T15:22:28.529Z"
   },
   {
    "duration": 8,
    "start_time": "2024-06-25T15:22:48.587Z"
   },
   {
    "duration": 120,
    "start_time": "2024-06-25T15:22:48.596Z"
   },
   {
    "duration": 0,
    "start_time": "2024-06-25T15:22:48.718Z"
   },
   {
    "duration": 0,
    "start_time": "2024-06-25T15:22:48.721Z"
   },
   {
    "duration": 9,
    "start_time": "2024-06-25T15:31:50.038Z"
   },
   {
    "duration": 6,
    "start_time": "2024-06-25T15:32:00.113Z"
   },
   {
    "duration": 5,
    "start_time": "2024-06-25T15:32:28.197Z"
   },
   {
    "duration": 5,
    "start_time": "2024-06-25T15:32:28.654Z"
   },
   {
    "duration": 311,
    "start_time": "2024-06-25T15:51:30.761Z"
   },
   {
    "duration": 3,
    "start_time": "2024-06-25T19:13:52.215Z"
   },
   {
    "duration": 4,
    "start_time": "2024-06-25T19:17:03.801Z"
   },
   {
    "duration": 21,
    "start_time": "2024-06-25T19:19:23.745Z"
   },
   {
    "duration": 43,
    "start_time": "2024-06-25T19:20:26.115Z"
   },
   {
    "duration": 13,
    "start_time": "2024-06-25T19:22:40.053Z"
   },
   {
    "duration": 4,
    "start_time": "2024-06-25T19:22:57.652Z"
   },
   {
    "duration": 2420,
    "start_time": "2024-06-25T19:23:08.340Z"
   },
   {
    "duration": 2691,
    "start_time": "2024-06-25T19:24:12.243Z"
   },
   {
    "duration": 2440,
    "start_time": "2024-06-25T19:24:18.137Z"
   },
   {
    "duration": 152,
    "start_time": "2024-06-25T19:24:31.493Z"
   },
   {
    "duration": 59,
    "start_time": "2024-06-25T19:24:57.983Z"
   },
   {
    "duration": 63,
    "start_time": "2024-06-25T19:25:36.794Z"
   },
   {
    "duration": 61,
    "start_time": "2024-06-25T19:26:53.231Z"
   },
   {
    "duration": 10,
    "start_time": "2024-06-25T19:27:12.622Z"
   },
   {
    "duration": 1775,
    "start_time": "2024-06-25T19:27:23.863Z"
   },
   {
    "duration": 2127,
    "start_time": "2024-06-25T19:28:57.621Z"
   },
   {
    "duration": 3,
    "start_time": "2024-06-25T19:36:18.833Z"
   },
   {
    "duration": 2,
    "start_time": "2024-06-25T19:36:44.347Z"
   },
   {
    "duration": 12,
    "start_time": "2024-06-25T19:42:14.386Z"
   },
   {
    "duration": 22,
    "start_time": "2024-06-25T19:43:37.618Z"
   },
   {
    "duration": 6,
    "start_time": "2024-06-25T19:43:53.897Z"
   },
   {
    "duration": 44,
    "start_time": "2024-06-25T19:44:19.548Z"
   },
   {
    "duration": 22,
    "start_time": "2024-06-25T19:44:36.060Z"
   },
   {
    "duration": 7,
    "start_time": "2024-06-25T19:44:36.981Z"
   },
   {
    "duration": 10,
    "start_time": "2024-06-25T19:44:46.843Z"
   },
   {
    "duration": 21,
    "start_time": "2024-06-25T19:45:06.778Z"
   },
   {
    "duration": 7,
    "start_time": "2024-06-25T19:45:08.248Z"
   },
   {
    "duration": 27,
    "start_time": "2024-06-25T19:46:51.355Z"
   },
   {
    "duration": 17,
    "start_time": "2024-06-25T19:46:52.096Z"
   },
   {
    "duration": 23,
    "start_time": "2024-06-25T19:53:18.953Z"
   },
   {
    "duration": 486,
    "start_time": "2024-06-25T19:53:25.277Z"
   },
   {
    "duration": 75258,
    "start_time": "2024-06-25T19:53:39.236Z"
   },
   {
    "duration": 67,
    "start_time": "2024-06-25T19:57:10.985Z"
   },
   {
    "duration": 28,
    "start_time": "2024-06-25T19:57:59.070Z"
   },
   {
    "duration": 7,
    "start_time": "2024-06-25T20:08:17.721Z"
   },
   {
    "duration": 13,
    "start_time": "2024-06-25T20:08:29.352Z"
   },
   {
    "duration": 13,
    "start_time": "2024-06-25T20:10:30.884Z"
   },
   {
    "duration": 16,
    "start_time": "2024-06-25T20:12:03.683Z"
   },
   {
    "duration": 42,
    "start_time": "2024-06-25T20:12:42.931Z"
   },
   {
    "duration": 19,
    "start_time": "2024-06-25T20:12:48.345Z"
   },
   {
    "duration": 192,
    "start_time": "2024-06-25T20:12:58.284Z"
   },
   {
    "duration": 19,
    "start_time": "2024-06-25T20:13:22.021Z"
   },
   {
    "duration": 12,
    "start_time": "2024-06-25T20:14:16.529Z"
   },
   {
    "duration": 12,
    "start_time": "2024-06-25T20:14:30.621Z"
   },
   {
    "duration": 8,
    "start_time": "2024-06-25T20:15:00.445Z"
   },
   {
    "duration": 2,
    "start_time": "2024-06-25T20:15:01.431Z"
   },
   {
    "duration": 4,
    "start_time": "2024-06-25T20:28:30.511Z"
   },
   {
    "duration": 35188,
    "start_time": "2024-06-25T20:30:35.996Z"
   },
   {
    "duration": 34488,
    "start_time": "2024-06-25T20:31:47.865Z"
   },
   {
    "duration": 161094,
    "start_time": "2024-06-25T20:37:13.731Z"
   },
   {
    "duration": 7439,
    "start_time": "2024-06-25T20:39:54.827Z"
   },
   {
    "duration": 40577,
    "start_time": "2024-06-25T20:40:02.267Z"
   },
   {
    "duration": 10,
    "start_time": "2024-06-25T20:42:56.505Z"
   },
   {
    "duration": 11,
    "start_time": "2024-06-25T20:43:01.527Z"
   },
   {
    "duration": 972,
    "start_time": "2024-06-25T20:43:42.669Z"
   },
   {
    "duration": 122998,
    "start_time": "2024-06-25T20:45:00.714Z"
   },
   {
    "duration": 2,
    "start_time": "2024-06-25T20:53:43.629Z"
   },
   {
    "duration": 82015,
    "start_time": "2024-06-25T20:53:56.058Z"
   },
   {
    "duration": 81796,
    "start_time": "2024-06-25T20:56:05.484Z"
   },
   {
    "duration": 4,
    "start_time": "2024-06-25T20:58:27.357Z"
   },
   {
    "duration": 98472,
    "start_time": "2024-06-25T21:03:01.648Z"
   },
   {
    "duration": 730,
    "start_time": "2024-06-25T21:04:40.122Z"
   },
   {
    "duration": 69,
    "start_time": "2024-06-25T21:08:05.669Z"
   },
   {
    "duration": 7,
    "start_time": "2024-06-25T21:08:06.349Z"
   },
   {
    "duration": 20,
    "start_time": "2024-06-25T21:12:09.203Z"
   },
   {
    "duration": 10,
    "start_time": "2024-06-25T21:12:59.961Z"
   },
   {
    "duration": 4278,
    "start_time": "2024-06-25T21:13:22.358Z"
   },
   {
    "duration": 7,
    "start_time": "2024-06-25T21:13:28.149Z"
   },
   {
    "duration": 1389,
    "start_time": "2024-06-25T21:22:26.468Z"
   },
   {
    "duration": 51,
    "start_time": "2024-06-25T21:22:27.858Z"
   },
   {
    "duration": 14,
    "start_time": "2024-06-25T21:22:27.910Z"
   },
   {
    "duration": 20,
    "start_time": "2024-06-25T21:22:27.925Z"
   },
   {
    "duration": 250,
    "start_time": "2024-06-25T21:22:27.947Z"
   },
   {
    "duration": 805,
    "start_time": "2024-06-25T21:22:28.198Z"
   },
   {
    "duration": 197,
    "start_time": "2024-06-25T21:22:29.005Z"
   },
   {
    "duration": 4,
    "start_time": "2024-06-25T21:22:29.203Z"
   },
   {
    "duration": 213,
    "start_time": "2024-06-25T21:22:29.208Z"
   },
   {
    "duration": 0,
    "start_time": "2024-06-25T21:22:29.423Z"
   },
   {
    "duration": 0,
    "start_time": "2024-06-25T21:22:29.424Z"
   },
   {
    "duration": 0,
    "start_time": "2024-06-25T21:22:29.425Z"
   },
   {
    "duration": 0,
    "start_time": "2024-06-25T21:22:29.426Z"
   },
   {
    "duration": 0,
    "start_time": "2024-06-25T21:22:29.427Z"
   },
   {
    "duration": 0,
    "start_time": "2024-06-25T21:22:29.428Z"
   },
   {
    "duration": 0,
    "start_time": "2024-06-25T21:22:29.429Z"
   },
   {
    "duration": 0,
    "start_time": "2024-06-25T21:22:29.430Z"
   },
   {
    "duration": 0,
    "start_time": "2024-06-25T21:22:29.431Z"
   },
   {
    "duration": 0,
    "start_time": "2024-06-25T21:22:29.432Z"
   },
   {
    "duration": 0,
    "start_time": "2024-06-25T21:22:29.433Z"
   },
   {
    "duration": 0,
    "start_time": "2024-06-25T21:22:29.433Z"
   },
   {
    "duration": 0,
    "start_time": "2024-06-25T21:22:29.434Z"
   },
   {
    "duration": 89,
    "start_time": "2024-06-25T21:23:19.616Z"
   },
   {
    "duration": 1483,
    "start_time": "2024-06-25T21:23:25.199Z"
   },
   {
    "duration": 51,
    "start_time": "2024-06-25T21:23:26.684Z"
   },
   {
    "duration": 15,
    "start_time": "2024-06-25T21:23:26.736Z"
   },
   {
    "duration": 22,
    "start_time": "2024-06-25T21:23:26.752Z"
   },
   {
    "duration": 255,
    "start_time": "2024-06-25T21:23:26.776Z"
   },
   {
    "duration": 818,
    "start_time": "2024-06-25T21:23:27.032Z"
   },
   {
    "duration": 199,
    "start_time": "2024-06-25T21:23:27.852Z"
   },
   {
    "duration": 4,
    "start_time": "2024-06-25T21:23:28.052Z"
   },
   {
    "duration": 227,
    "start_time": "2024-06-25T21:23:28.057Z"
   },
   {
    "duration": 0,
    "start_time": "2024-06-25T21:23:28.286Z"
   },
   {
    "duration": 0,
    "start_time": "2024-06-25T21:23:28.287Z"
   },
   {
    "duration": 0,
    "start_time": "2024-06-25T21:23:28.288Z"
   },
   {
    "duration": 0,
    "start_time": "2024-06-25T21:23:28.289Z"
   },
   {
    "duration": 0,
    "start_time": "2024-06-25T21:23:28.290Z"
   },
   {
    "duration": 0,
    "start_time": "2024-06-25T21:23:28.290Z"
   },
   {
    "duration": 0,
    "start_time": "2024-06-25T21:23:28.291Z"
   },
   {
    "duration": 0,
    "start_time": "2024-06-25T21:23:28.292Z"
   },
   {
    "duration": 0,
    "start_time": "2024-06-25T21:23:28.293Z"
   },
   {
    "duration": 0,
    "start_time": "2024-06-25T21:23:28.293Z"
   },
   {
    "duration": 0,
    "start_time": "2024-06-25T21:23:28.294Z"
   },
   {
    "duration": 0,
    "start_time": "2024-06-25T21:23:28.295Z"
   },
   {
    "duration": 0,
    "start_time": "2024-06-25T21:23:28.296Z"
   },
   {
    "duration": 1448,
    "start_time": "2024-06-25T21:24:49.919Z"
   },
   {
    "duration": 50,
    "start_time": "2024-06-25T21:24:51.369Z"
   },
   {
    "duration": 14,
    "start_time": "2024-06-25T21:24:51.421Z"
   },
   {
    "duration": 29,
    "start_time": "2024-06-25T21:24:51.436Z"
   },
   {
    "duration": 246,
    "start_time": "2024-06-25T21:24:51.467Z"
   },
   {
    "duration": 809,
    "start_time": "2024-06-25T21:24:51.714Z"
   },
   {
    "duration": 215,
    "start_time": "2024-06-25T21:24:52.524Z"
   },
   {
    "duration": 3,
    "start_time": "2024-06-25T21:24:52.741Z"
   },
   {
    "duration": 31,
    "start_time": "2024-06-25T21:24:52.745Z"
   },
   {
    "duration": 8,
    "start_time": "2024-06-25T21:24:52.777Z"
   },
   {
    "duration": 26,
    "start_time": "2024-06-25T21:24:52.786Z"
   },
   {
    "duration": 34,
    "start_time": "2024-06-25T21:24:52.813Z"
   },
   {
    "duration": 10,
    "start_time": "2024-06-25T21:24:52.849Z"
   },
   {
    "duration": 123017,
    "start_time": "2024-06-25T21:24:52.861Z"
   },
   {
    "duration": 1034,
    "start_time": "2024-06-25T21:32:09.224Z"
   },
   {
    "duration": 143,
    "start_time": "2024-06-25T21:32:10.260Z"
   },
   {
    "duration": 0,
    "start_time": "2024-06-25T21:32:10.405Z"
   },
   {
    "duration": 0,
    "start_time": "2024-06-25T21:32:10.406Z"
   },
   {
    "duration": 0,
    "start_time": "2024-06-25T21:32:10.420Z"
   },
   {
    "duration": 0,
    "start_time": "2024-06-25T21:32:10.422Z"
   },
   {
    "duration": 0,
    "start_time": "2024-06-25T21:32:10.423Z"
   },
   {
    "duration": 289759,
    "start_time": "2024-06-25T21:33:20.765Z"
   },
   {
    "duration": 344968,
    "start_time": "2024-06-25T21:38:10.528Z"
   },
   {
    "duration": 18,
    "start_time": "2024-06-25T21:44:43.737Z"
   },
   {
    "duration": 7,
    "start_time": "2024-06-25T21:44:45.159Z"
   },
   {
    "duration": 8,
    "start_time": "2024-06-25T21:45:06.934Z"
   },
   {
    "duration": 5,
    "start_time": "2024-06-25T21:45:50.118Z"
   },
   {
    "duration": 7,
    "start_time": "2024-06-25T21:47:36.897Z"
   },
   {
    "duration": 11,
    "start_time": "2024-06-25T21:47:50.300Z"
   },
   {
    "duration": 12,
    "start_time": "2024-06-25T21:48:20.674Z"
   },
   {
    "duration": 15,
    "start_time": "2024-06-25T21:49:42.361Z"
   },
   {
    "duration": 10,
    "start_time": "2024-06-25T21:50:22.013Z"
   },
   {
    "duration": 1485,
    "start_time": "2024-06-25T21:50:45.931Z"
   },
   {
    "duration": 1505,
    "start_time": "2024-06-25T21:50:59.219Z"
   },
   {
    "duration": 1489,
    "start_time": "2024-06-25T21:53:05.887Z"
   },
   {
    "duration": 1493,
    "start_time": "2024-06-25T21:53:19.381Z"
   },
   {
    "duration": 1498,
    "start_time": "2024-06-25T21:54:08.426Z"
   },
   {
    "duration": 230,
    "start_time": "2024-06-25T21:55:35.054Z"
   },
   {
    "duration": 1471,
    "start_time": "2024-06-25T21:55:43.820Z"
   },
   {
    "duration": 49,
    "start_time": "2024-06-25T21:55:45.293Z"
   },
   {
    "duration": 14,
    "start_time": "2024-06-25T21:55:45.344Z"
   },
   {
    "duration": 15,
    "start_time": "2024-06-25T21:55:45.359Z"
   },
   {
    "duration": 309,
    "start_time": "2024-06-25T21:55:45.376Z"
   },
   {
    "duration": 759,
    "start_time": "2024-06-25T21:55:45.687Z"
   },
   {
    "duration": 241,
    "start_time": "2024-06-25T21:55:46.447Z"
   },
   {
    "duration": 3,
    "start_time": "2024-06-25T21:55:46.690Z"
   },
   {
    "duration": 27,
    "start_time": "2024-06-25T21:55:46.694Z"
   },
   {
    "duration": 18,
    "start_time": "2024-06-25T21:55:46.722Z"
   },
   {
    "duration": 37,
    "start_time": "2024-06-25T21:55:46.741Z"
   },
   {
    "duration": 11,
    "start_time": "2024-06-25T21:55:46.780Z"
   },
   {
    "duration": 19,
    "start_time": "2024-06-25T21:55:46.793Z"
   },
   {
    "duration": 103842,
    "start_time": "2024-06-25T21:55:46.814Z"
   },
   {
    "duration": 193973,
    "start_time": "2024-06-25T21:57:30.657Z"
   },
   {
    "duration": 237690,
    "start_time": "2024-06-25T22:00:44.722Z"
   },
   {
    "duration": 113,
    "start_time": "2024-06-25T22:04:42.413Z"
   },
   {
    "duration": 7,
    "start_time": "2024-06-25T22:04:42.527Z"
   },
   {
    "duration": 1018,
    "start_time": "2024-06-25T22:04:42.536Z"
   },
   {
    "duration": 5,
    "start_time": "2024-06-25T22:04:43.555Z"
   },
   {
    "duration": 132,
    "start_time": "2024-06-25T22:04:43.561Z"
   },
   {
    "duration": 1366,
    "start_time": "2024-06-26T06:39:24.464Z"
   },
   {
    "duration": 51,
    "start_time": "2024-06-26T06:39:25.832Z"
   },
   {
    "duration": 14,
    "start_time": "2024-06-26T06:39:25.885Z"
   },
   {
    "duration": 17,
    "start_time": "2024-06-26T06:39:25.900Z"
   },
   {
    "duration": 302,
    "start_time": "2024-06-26T06:39:25.918Z"
   },
   {
    "duration": 760,
    "start_time": "2024-06-26T06:39:26.222Z"
   },
   {
    "duration": 248,
    "start_time": "2024-06-26T06:39:26.983Z"
   },
   {
    "duration": 4,
    "start_time": "2024-06-26T06:39:27.233Z"
   },
   {
    "duration": 31,
    "start_time": "2024-06-26T06:39:27.238Z"
   },
   {
    "duration": 3,
    "start_time": "2024-06-26T06:39:27.270Z"
   },
   {
    "duration": 33,
    "start_time": "2024-06-26T06:39:27.275Z"
   },
   {
    "duration": 15,
    "start_time": "2024-06-26T06:39:27.310Z"
   },
   {
    "duration": 8,
    "start_time": "2024-06-26T06:39:27.326Z"
   },
   {
    "duration": 87456,
    "start_time": "2024-06-26T06:39:27.337Z"
   },
   {
    "duration": 264432,
    "start_time": "2024-06-26T06:40:54.794Z"
   },
   {
    "duration": 238333,
    "start_time": "2024-06-26T06:45:19.228Z"
   },
   {
    "duration": 62,
    "start_time": "2024-06-26T06:49:17.562Z"
   },
   {
    "duration": 40,
    "start_time": "2024-06-26T06:49:17.626Z"
   },
   {
    "duration": 1024,
    "start_time": "2024-06-26T06:49:17.668Z"
   },
   {
    "duration": 5,
    "start_time": "2024-06-26T06:49:18.694Z"
   },
   {
    "duration": 131,
    "start_time": "2024-06-26T06:49:18.701Z"
   },
   {
    "duration": 1416,
    "start_time": "2024-06-26T07:02:54.260Z"
   },
   {
    "duration": 51,
    "start_time": "2024-06-26T07:02:55.677Z"
   },
   {
    "duration": 14,
    "start_time": "2024-06-26T07:02:55.730Z"
   },
   {
    "duration": 16,
    "start_time": "2024-06-26T07:02:55.746Z"
   },
   {
    "duration": 314,
    "start_time": "2024-06-26T07:02:55.764Z"
   },
   {
    "duration": 755,
    "start_time": "2024-06-26T07:02:56.079Z"
   },
   {
    "duration": 259,
    "start_time": "2024-06-26T07:02:56.836Z"
   },
   {
    "duration": 4,
    "start_time": "2024-06-26T07:02:57.097Z"
   },
   {
    "duration": 35,
    "start_time": "2024-06-26T07:02:57.102Z"
   },
   {
    "duration": 3,
    "start_time": "2024-06-26T07:02:57.139Z"
   },
   {
    "duration": 19,
    "start_time": "2024-06-26T07:02:57.143Z"
   },
   {
    "duration": 12,
    "start_time": "2024-06-26T07:02:57.164Z"
   },
   {
    "duration": 9,
    "start_time": "2024-06-26T07:02:57.177Z"
   },
   {
    "duration": 1545,
    "start_time": "2024-06-26T07:03:40.486Z"
   },
   {
    "duration": 51,
    "start_time": "2024-06-26T07:03:42.033Z"
   },
   {
    "duration": 60,
    "start_time": "2024-06-26T07:03:42.086Z"
   },
   {
    "duration": 16,
    "start_time": "2024-06-26T07:03:42.147Z"
   },
   {
    "duration": 322,
    "start_time": "2024-06-26T07:03:42.165Z"
   },
   {
    "duration": 827,
    "start_time": "2024-06-26T07:03:42.489Z"
   },
   {
    "duration": 252,
    "start_time": "2024-06-26T07:03:43.320Z"
   },
   {
    "duration": 3,
    "start_time": "2024-06-26T07:03:43.574Z"
   },
   {
    "duration": 42,
    "start_time": "2024-06-26T07:03:43.578Z"
   },
   {
    "duration": 4,
    "start_time": "2024-06-26T07:03:43.624Z"
   },
   {
    "duration": 22,
    "start_time": "2024-06-26T07:03:43.629Z"
   },
   {
    "duration": 20,
    "start_time": "2024-06-26T07:03:43.652Z"
   },
   {
    "duration": 2,
    "start_time": "2024-06-26T07:03:43.673Z"
   },
   {
    "duration": 27218,
    "start_time": "2024-06-26T07:03:43.677Z"
   },
   {
    "duration": 415619,
    "start_time": "2024-06-26T07:04:10.896Z"
   },
   {
    "duration": 67042,
    "start_time": "2024-06-26T07:11:06.516Z"
   },
   {
    "duration": 14,
    "start_time": "2024-06-26T07:12:13.560Z"
   },
   {
    "duration": 0,
    "start_time": "2024-06-26T07:12:13.575Z"
   },
   {
    "duration": 0,
    "start_time": "2024-06-26T07:12:13.577Z"
   },
   {
    "duration": 0,
    "start_time": "2024-06-26T07:12:13.578Z"
   },
   {
    "duration": 0,
    "start_time": "2024-06-26T07:12:13.579Z"
   },
   {
    "duration": 0,
    "start_time": "2024-06-26T07:12:13.582Z"
   },
   {
    "duration": 11,
    "start_time": "2024-06-26T07:12:20.303Z"
   },
   {
    "duration": 3,
    "start_time": "2024-06-26T07:12:29.164Z"
   },
   {
    "duration": 26336,
    "start_time": "2024-06-26T07:12:30.376Z"
   },
   {
    "duration": 252,
    "start_time": "2024-06-26T07:13:45.417Z"
   },
   {
    "duration": 1388,
    "start_time": "2024-06-26T07:15:32.369Z"
   },
   {
    "duration": 52,
    "start_time": "2024-06-26T07:15:33.758Z"
   },
   {
    "duration": 16,
    "start_time": "2024-06-26T07:15:33.811Z"
   },
   {
    "duration": 18,
    "start_time": "2024-06-26T07:15:33.828Z"
   },
   {
    "duration": 312,
    "start_time": "2024-06-26T07:15:33.849Z"
   },
   {
    "duration": 748,
    "start_time": "2024-06-26T07:15:34.162Z"
   },
   {
    "duration": 248,
    "start_time": "2024-06-26T07:15:34.911Z"
   },
   {
    "duration": 4,
    "start_time": "2024-06-26T07:15:35.160Z"
   },
   {
    "duration": 212,
    "start_time": "2024-06-26T07:15:35.165Z"
   },
   {
    "duration": 18,
    "start_time": "2024-06-26T07:15:35.379Z"
   },
   {
    "duration": 5,
    "start_time": "2024-06-26T07:15:35.399Z"
   },
   {
    "duration": 47,
    "start_time": "2024-06-26T07:15:35.405Z"
   },
   {
    "duration": 14,
    "start_time": "2024-06-26T07:15:35.454Z"
   },
   {
    "duration": 18,
    "start_time": "2024-06-26T07:15:35.471Z"
   },
   {
    "duration": 29549,
    "start_time": "2024-06-26T07:15:35.491Z"
   },
   {
    "duration": 3748883,
    "start_time": "2024-06-26T07:16:05.041Z"
   },
   {
    "duration": 74025,
    "start_time": "2024-06-26T08:18:33.926Z"
   },
   {
    "duration": 75,
    "start_time": "2024-06-26T08:19:47.952Z"
   },
   {
    "duration": 9,
    "start_time": "2024-06-26T08:19:48.028Z"
   },
   {
    "duration": 1068,
    "start_time": "2024-06-26T08:19:48.038Z"
   },
   {
    "duration": 4,
    "start_time": "2024-06-26T08:19:49.108Z"
   },
   {
    "duration": 127,
    "start_time": "2024-06-26T08:19:49.114Z"
   },
   {
    "duration": 1458,
    "start_time": "2024-06-26T09:35:03.293Z"
   },
   {
    "duration": 52,
    "start_time": "2024-06-26T09:35:04.757Z"
   },
   {
    "duration": 17,
    "start_time": "2024-06-26T09:35:04.811Z"
   },
   {
    "duration": 18,
    "start_time": "2024-06-26T09:35:04.829Z"
   },
   {
    "duration": 324,
    "start_time": "2024-06-26T09:35:04.850Z"
   },
   {
    "duration": 762,
    "start_time": "2024-06-26T09:35:05.175Z"
   },
   {
    "duration": 260,
    "start_time": "2024-06-26T09:35:05.939Z"
   },
   {
    "duration": 4,
    "start_time": "2024-06-26T09:35:06.201Z"
   },
   {
    "duration": 247,
    "start_time": "2024-06-26T09:35:06.206Z"
   },
   {
    "duration": 18,
    "start_time": "2024-06-26T09:35:06.455Z"
   },
   {
    "duration": 46,
    "start_time": "2024-06-26T09:35:06.475Z"
   },
   {
    "duration": 47,
    "start_time": "2024-06-26T09:35:06.522Z"
   },
   {
    "duration": 15,
    "start_time": "2024-06-26T09:35:06.571Z"
   },
   {
    "duration": 26,
    "start_time": "2024-06-26T09:35:06.589Z"
   },
   {
    "duration": 48780,
    "start_time": "2024-06-26T09:35:06.616Z"
   },
   {
    "duration": 138232,
    "start_time": "2024-06-26T09:35:55.398Z"
   },
   {
    "duration": 122719,
    "start_time": "2024-06-26T09:38:13.721Z"
   },
   {
    "duration": 79,
    "start_time": "2024-06-26T09:40:16.441Z"
   },
   {
    "duration": 7,
    "start_time": "2024-06-26T09:40:16.522Z"
   },
   {
    "duration": 1029,
    "start_time": "2024-06-26T09:40:16.530Z"
   },
   {
    "duration": 4,
    "start_time": "2024-06-26T09:40:17.560Z"
   },
   {
    "duration": 137,
    "start_time": "2024-06-26T09:40:17.566Z"
   },
   {
    "duration": 1396,
    "start_time": "2024-06-26T09:44:07.126Z"
   },
   {
    "duration": 57,
    "start_time": "2024-06-26T09:44:08.524Z"
   },
   {
    "duration": 14,
    "start_time": "2024-06-26T09:44:08.583Z"
   },
   {
    "duration": 24,
    "start_time": "2024-06-26T09:44:08.599Z"
   },
   {
    "duration": 314,
    "start_time": "2024-06-26T09:44:08.624Z"
   },
   {
    "duration": 760,
    "start_time": "2024-06-26T09:44:08.939Z"
   },
   {
    "duration": 259,
    "start_time": "2024-06-26T09:44:09.700Z"
   },
   {
    "duration": 4,
    "start_time": "2024-06-26T09:44:09.960Z"
   },
   {
    "duration": 221,
    "start_time": "2024-06-26T09:44:09.965Z"
   },
   {
    "duration": 43,
    "start_time": "2024-06-26T09:44:10.188Z"
   },
   {
    "duration": 2,
    "start_time": "2024-06-26T09:44:10.233Z"
   },
   {
    "duration": 18,
    "start_time": "2024-06-26T09:44:10.237Z"
   },
   {
    "duration": 21,
    "start_time": "2024-06-26T09:44:10.257Z"
   },
   {
    "duration": 5,
    "start_time": "2024-06-26T09:44:10.279Z"
   },
   {
    "duration": 16844,
    "start_time": "2024-06-26T09:44:10.286Z"
   },
   {
    "duration": 42696,
    "start_time": "2024-06-26T09:44:27.131Z"
   },
   {
    "duration": 50590,
    "start_time": "2024-06-26T09:45:09.829Z"
   },
   {
    "duration": 25,
    "start_time": "2024-06-26T09:46:00.421Z"
   },
   {
    "duration": 78,
    "start_time": "2024-06-26T09:46:00.447Z"
   },
   {
    "duration": 1090,
    "start_time": "2024-06-26T09:46:00.527Z"
   },
   {
    "duration": 4,
    "start_time": "2024-06-26T09:46:01.620Z"
   },
   {
    "duration": 208,
    "start_time": "2024-06-26T09:46:01.625Z"
   },
   {
    "duration": 2,
    "start_time": "2024-06-26T09:50:57.866Z"
   },
   {
    "duration": 1422,
    "start_time": "2024-06-26T09:51:01.752Z"
   },
   {
    "duration": 50,
    "start_time": "2024-06-26T09:51:03.176Z"
   },
   {
    "duration": 14,
    "start_time": "2024-06-26T09:51:03.228Z"
   },
   {
    "duration": 15,
    "start_time": "2024-06-26T09:51:03.244Z"
   },
   {
    "duration": 311,
    "start_time": "2024-06-26T09:51:03.261Z"
   },
   {
    "duration": 743,
    "start_time": "2024-06-26T09:51:03.573Z"
   },
   {
    "duration": 245,
    "start_time": "2024-06-26T09:51:04.318Z"
   },
   {
    "duration": 4,
    "start_time": "2024-06-26T09:51:04.564Z"
   },
   {
    "duration": 207,
    "start_time": "2024-06-26T09:51:04.569Z"
   },
   {
    "duration": 18,
    "start_time": "2024-06-26T09:51:04.777Z"
   },
   {
    "duration": 48,
    "start_time": "2024-06-26T09:51:04.796Z"
   },
   {
    "duration": 30,
    "start_time": "2024-06-26T09:51:04.845Z"
   },
   {
    "duration": 10,
    "start_time": "2024-06-26T09:51:04.877Z"
   },
   {
    "duration": 6,
    "start_time": "2024-06-26T09:51:04.890Z"
   },
   {
    "duration": 128875,
    "start_time": "2024-06-26T09:51:04.897Z"
   },
   {
    "duration": 380351,
    "start_time": "2024-06-26T09:53:13.773Z"
   },
   {
    "duration": 358614,
    "start_time": "2024-06-26T09:59:34.128Z"
   },
   {
    "duration": 77,
    "start_time": "2024-06-26T10:05:32.743Z"
   },
   {
    "duration": 10,
    "start_time": "2024-06-26T10:05:32.822Z"
   },
   {
    "duration": 1026,
    "start_time": "2024-06-26T10:05:32.833Z"
   },
   {
    "duration": 5,
    "start_time": "2024-06-26T10:05:33.860Z"
   },
   {
    "duration": 133,
    "start_time": "2024-06-26T10:05:33.866Z"
   },
   {
    "duration": 981,
    "start_time": "2024-06-26T10:09:23.386Z"
   },
   {
    "duration": 9,
    "start_time": "2024-06-26T10:09:33.055Z"
   },
   {
    "duration": 1444,
    "start_time": "2024-06-26T10:10:15.432Z"
   },
   {
    "duration": 1421,
    "start_time": "2024-06-26T10:10:33.164Z"
   },
   {
    "duration": 1532,
    "start_time": "2024-06-26T10:11:06.025Z"
   },
   {
    "duration": 1422,
    "start_time": "2024-06-26T10:12:34.115Z"
   },
   {
    "duration": 1417,
    "start_time": "2024-06-26T10:12:41.670Z"
   },
   {
    "duration": 1408,
    "start_time": "2024-06-26T10:12:53.750Z"
   },
   {
    "duration": 6653,
    "start_time": "2024-06-26T10:13:58.422Z"
   },
   {
    "duration": 1378,
    "start_time": "2024-06-26T10:14:14.356Z"
   },
   {
    "duration": 2,
    "start_time": "2024-06-26T10:14:15.736Z"
   },
   {
    "duration": 100,
    "start_time": "2024-06-26T10:14:15.739Z"
   },
   {
    "duration": 14,
    "start_time": "2024-06-26T10:14:15.840Z"
   },
   {
    "duration": 17,
    "start_time": "2024-06-26T10:14:15.855Z"
   },
   {
    "duration": 319,
    "start_time": "2024-06-26T10:14:15.873Z"
   },
   {
    "duration": 791,
    "start_time": "2024-06-26T10:14:16.194Z"
   },
   {
    "duration": 248,
    "start_time": "2024-06-26T10:14:16.986Z"
   },
   {
    "duration": 4,
    "start_time": "2024-06-26T10:14:17.235Z"
   },
   {
    "duration": 218,
    "start_time": "2024-06-26T10:14:17.241Z"
   },
   {
    "duration": 17,
    "start_time": "2024-06-26T10:14:17.460Z"
   },
   {
    "duration": 3,
    "start_time": "2024-06-26T10:14:17.478Z"
   },
   {
    "duration": 37,
    "start_time": "2024-06-26T10:14:17.482Z"
   },
   {
    "duration": 13,
    "start_time": "2024-06-26T10:14:17.521Z"
   },
   {
    "duration": 2,
    "start_time": "2024-06-26T10:14:17.536Z"
   },
   {
    "duration": 130058,
    "start_time": "2024-06-26T10:14:17.539Z"
   },
   {
    "duration": 132081,
    "start_time": "2024-06-26T10:16:27.598Z"
   },
   {
    "duration": 8535,
    "start_time": "2024-06-26T10:18:39.681Z"
   },
   {
    "duration": 16,
    "start_time": "2024-06-26T10:18:48.217Z"
   },
   {
    "duration": 0,
    "start_time": "2024-06-26T10:18:48.234Z"
   },
   {
    "duration": 0,
    "start_time": "2024-06-26T10:18:48.235Z"
   },
   {
    "duration": 0,
    "start_time": "2024-06-26T10:18:48.236Z"
   },
   {
    "duration": 0,
    "start_time": "2024-06-26T10:18:48.238Z"
   },
   {
    "duration": 0,
    "start_time": "2024-06-26T10:18:48.239Z"
   },
   {
    "duration": 59,
    "start_time": "2024-06-26T10:19:41.570Z"
   },
   {
    "duration": 62,
    "start_time": "2024-06-26T10:20:12.621Z"
   },
   {
    "duration": 4,
    "start_time": "2024-06-26T10:20:17.020Z"
   },
   {
    "duration": 90,
    "start_time": "2024-06-26T10:20:17.594Z"
   },
   {
    "duration": 1426,
    "start_time": "2024-06-26T10:20:27.320Z"
   },
   {
    "duration": 1417,
    "start_time": "2024-06-26T10:20:39.524Z"
   },
   {
    "duration": 1432,
    "start_time": "2024-06-26T10:20:40.943Z"
   },
   {
    "duration": 67,
    "start_time": "2024-06-26T10:20:42.377Z"
   },
   {
    "duration": 0,
    "start_time": "2024-06-26T10:20:42.447Z"
   },
   {
    "duration": 0,
    "start_time": "2024-06-26T10:20:42.448Z"
   },
   {
    "duration": 0,
    "start_time": "2024-06-26T10:20:42.449Z"
   },
   {
    "duration": 0,
    "start_time": "2024-06-26T10:20:42.450Z"
   },
   {
    "duration": 0,
    "start_time": "2024-06-26T10:20:42.451Z"
   },
   {
    "duration": 0,
    "start_time": "2024-06-26T10:20:42.451Z"
   },
   {
    "duration": 0,
    "start_time": "2024-06-26T10:20:42.452Z"
   },
   {
    "duration": 0,
    "start_time": "2024-06-26T10:20:42.453Z"
   },
   {
    "duration": 0,
    "start_time": "2024-06-26T10:20:42.454Z"
   },
   {
    "duration": 0,
    "start_time": "2024-06-26T10:20:42.455Z"
   },
   {
    "duration": 0,
    "start_time": "2024-06-26T10:20:42.455Z"
   },
   {
    "duration": 0,
    "start_time": "2024-06-26T10:20:42.456Z"
   },
   {
    "duration": 0,
    "start_time": "2024-06-26T10:20:42.457Z"
   },
   {
    "duration": 0,
    "start_time": "2024-06-26T10:20:42.458Z"
   },
   {
    "duration": 0,
    "start_time": "2024-06-26T10:20:42.459Z"
   },
   {
    "duration": 0,
    "start_time": "2024-06-26T10:20:42.460Z"
   },
   {
    "duration": 0,
    "start_time": "2024-06-26T10:20:42.461Z"
   },
   {
    "duration": 0,
    "start_time": "2024-06-26T10:20:42.462Z"
   },
   {
    "duration": 0,
    "start_time": "2024-06-26T10:20:42.463Z"
   },
   {
    "duration": 0,
    "start_time": "2024-06-26T10:20:42.463Z"
   },
   {
    "duration": 0,
    "start_time": "2024-06-26T10:20:42.464Z"
   },
   {
    "duration": 0,
    "start_time": "2024-06-26T10:20:42.465Z"
   },
   {
    "duration": 1372,
    "start_time": "2024-06-26T10:21:03.645Z"
   },
   {
    "duration": 1810,
    "start_time": "2024-06-26T10:21:05.018Z"
   },
   {
    "duration": 3,
    "start_time": "2024-06-26T10:21:06.830Z"
   },
   {
    "duration": 100,
    "start_time": "2024-06-26T10:21:06.835Z"
   },
   {
    "duration": 16,
    "start_time": "2024-06-26T10:21:06.937Z"
   },
   {
    "duration": 79,
    "start_time": "2024-06-26T10:21:06.955Z"
   },
   {
    "duration": 589,
    "start_time": "2024-06-26T10:21:07.036Z"
   },
   {
    "duration": 817,
    "start_time": "2024-06-26T10:21:07.626Z"
   },
   {
    "duration": 262,
    "start_time": "2024-06-26T10:21:08.444Z"
   },
   {
    "duration": 3,
    "start_time": "2024-06-26T10:21:08.707Z"
   },
   {
    "duration": 243,
    "start_time": "2024-06-26T10:21:08.711Z"
   },
   {
    "duration": 17,
    "start_time": "2024-06-26T10:21:08.955Z"
   },
   {
    "duration": 6,
    "start_time": "2024-06-26T10:21:08.974Z"
   },
   {
    "duration": 20,
    "start_time": "2024-06-26T10:21:08.983Z"
   },
   {
    "duration": 26,
    "start_time": "2024-06-26T10:21:09.005Z"
   },
   {
    "duration": 8,
    "start_time": "2024-06-26T10:21:09.032Z"
   },
   {
    "duration": 1373,
    "start_time": "2024-06-26T10:21:49.464Z"
   },
   {
    "duration": 1531,
    "start_time": "2024-06-26T10:21:50.839Z"
   },
   {
    "duration": 3,
    "start_time": "2024-06-26T10:21:52.372Z"
   },
   {
    "duration": 87,
    "start_time": "2024-06-26T10:21:52.377Z"
   },
   {
    "duration": 59,
    "start_time": "2024-06-26T10:21:52.466Z"
   },
   {
    "duration": 17,
    "start_time": "2024-06-26T10:21:52.526Z"
   },
   {
    "duration": 686,
    "start_time": "2024-06-26T10:21:52.545Z"
   },
   {
    "duration": 1041,
    "start_time": "2024-06-26T10:21:53.232Z"
   },
   {
    "duration": 248,
    "start_time": "2024-06-26T10:21:54.275Z"
   },
   {
    "duration": 4,
    "start_time": "2024-06-26T10:21:54.525Z"
   },
   {
    "duration": 234,
    "start_time": "2024-06-26T10:21:54.530Z"
   },
   {
    "duration": 17,
    "start_time": "2024-06-26T10:21:54.765Z"
   },
   {
    "duration": 3,
    "start_time": "2024-06-26T10:21:54.783Z"
   },
   {
    "duration": 19,
    "start_time": "2024-06-26T10:21:54.787Z"
   },
   {
    "duration": 35,
    "start_time": "2024-06-26T10:21:54.808Z"
   },
   {
    "duration": 25,
    "start_time": "2024-06-26T10:21:54.844Z"
   },
   {
    "duration": 1388,
    "start_time": "2024-06-26T10:22:15.860Z"
   },
   {
    "duration": 1534,
    "start_time": "2024-06-26T10:22:17.250Z"
   },
   {
    "duration": 5012,
    "start_time": "2024-06-26T10:22:18.785Z"
   },
   {
    "duration": 53,
    "start_time": "2024-06-26T10:22:23.800Z"
   },
   {
    "duration": 17,
    "start_time": "2024-06-26T10:22:23.854Z"
   },
   {
    "duration": 16,
    "start_time": "2024-06-26T10:22:23.872Z"
   },
   {
    "duration": 325,
    "start_time": "2024-06-26T10:22:23.890Z"
   },
   {
    "duration": 813,
    "start_time": "2024-06-26T10:22:24.216Z"
   },
   {
    "duration": 251,
    "start_time": "2024-06-26T10:22:25.030Z"
   },
   {
    "duration": 3,
    "start_time": "2024-06-26T10:22:25.284Z"
   },
   {
    "duration": 355,
    "start_time": "2024-06-26T10:22:25.289Z"
   },
   {
    "duration": 75,
    "start_time": "2024-06-26T10:22:25.645Z"
   },
   {
    "duration": 4,
    "start_time": "2024-06-26T10:22:25.722Z"
   },
   {
    "duration": 28,
    "start_time": "2024-06-26T10:22:25.727Z"
   },
   {
    "duration": 64,
    "start_time": "2024-06-26T10:22:25.757Z"
   },
   {
    "duration": 3,
    "start_time": "2024-06-26T10:22:25.823Z"
   },
   {
    "duration": 42765,
    "start_time": "2024-06-26T10:22:25.828Z"
   },
   {
    "duration": 114230,
    "start_time": "2024-06-26T10:23:08.594Z"
   },
   {
    "duration": 1421,
    "start_time": "2024-06-26T10:25:51.412Z"
   },
   {
    "duration": 1525,
    "start_time": "2024-06-26T10:25:52.834Z"
   },
   {
    "duration": 4838,
    "start_time": "2024-06-26T10:25:54.361Z"
   },
   {
    "duration": 53,
    "start_time": "2024-06-26T10:25:59.201Z"
   },
   {
    "duration": 16,
    "start_time": "2024-06-26T10:25:59.256Z"
   },
   {
    "duration": 17,
    "start_time": "2024-06-26T10:25:59.273Z"
   },
   {
    "duration": 317,
    "start_time": "2024-06-26T10:25:59.291Z"
   },
   {
    "duration": 838,
    "start_time": "2024-06-26T10:25:59.610Z"
   },
   {
    "duration": 241,
    "start_time": "2024-06-26T10:26:00.449Z"
   },
   {
    "duration": 4,
    "start_time": "2024-06-26T10:26:00.691Z"
   },
   {
    "duration": 253,
    "start_time": "2024-06-26T10:26:00.696Z"
   },
   {
    "duration": 17,
    "start_time": "2024-06-26T10:26:00.950Z"
   },
   {
    "duration": 34,
    "start_time": "2024-06-26T10:26:00.968Z"
   },
   {
    "duration": 374,
    "start_time": "2024-06-26T10:26:01.004Z"
   },
   {
    "duration": 144,
    "start_time": "2024-06-26T10:26:01.380Z"
   },
   {
    "duration": 30,
    "start_time": "2024-06-26T10:26:01.525Z"
   },
   {
    "duration": 32501,
    "start_time": "2024-06-26T10:26:01.556Z"
   },
   {
    "duration": 80664,
    "start_time": "2024-06-26T10:26:34.058Z"
   },
   {
    "duration": 120709,
    "start_time": "2024-06-26T10:27:54.724Z"
   },
   {
    "duration": 94,
    "start_time": "2024-06-26T10:29:55.435Z"
   },
   {
    "duration": 32,
    "start_time": "2024-06-26T10:29:55.530Z"
   },
   {
    "duration": 175,
    "start_time": "2024-06-26T10:29:55.563Z"
   },
   {
    "duration": 1059,
    "start_time": "2024-06-26T10:29:55.739Z"
   },
   {
    "duration": 4,
    "start_time": "2024-06-26T10:29:56.799Z"
   },
   {
    "duration": 154,
    "start_time": "2024-06-26T10:29:56.805Z"
   },
   {
    "duration": 62,
    "start_time": "2024-06-26T10:31:47.547Z"
   },
   {
    "duration": 3,
    "start_time": "2024-06-26T10:32:01.755Z"
   },
   {
    "duration": 1668,
    "start_time": "2024-06-26T10:32:41.290Z"
   },
   {
    "duration": 738,
    "start_time": "2024-06-26T10:34:05.798Z"
   },
   {
    "duration": 964,
    "start_time": "2024-06-26T10:34:57.463Z"
   },
   {
    "duration": 878,
    "start_time": "2024-06-26T10:35:15.251Z"
   },
   {
    "duration": 32,
    "start_time": "2024-06-26T10:37:34.746Z"
   },
   {
    "duration": 5837,
    "start_time": "2024-06-26T10:37:53.263Z"
   },
   {
    "duration": 12,
    "start_time": "2024-06-26T10:39:18.844Z"
   },
   {
    "duration": 1491,
    "start_time": "2024-06-26T10:39:23.382Z"
   },
   {
    "duration": 50,
    "start_time": "2024-06-26T10:39:24.874Z"
   },
   {
    "duration": 17,
    "start_time": "2024-06-26T10:39:24.926Z"
   },
   {
    "duration": 19,
    "start_time": "2024-06-26T10:39:24.944Z"
   },
   {
    "duration": 310,
    "start_time": "2024-06-26T10:39:24.964Z"
   },
   {
    "duration": 775,
    "start_time": "2024-06-26T10:39:25.276Z"
   },
   {
    "duration": 255,
    "start_time": "2024-06-26T10:39:26.053Z"
   },
   {
    "duration": 4,
    "start_time": "2024-06-26T10:39:26.309Z"
   },
   {
    "duration": 238,
    "start_time": "2024-06-26T10:39:26.319Z"
   },
   {
    "duration": 16,
    "start_time": "2024-06-26T10:39:26.560Z"
   },
   {
    "duration": 3,
    "start_time": "2024-06-26T10:39:26.577Z"
   },
   {
    "duration": 21,
    "start_time": "2024-06-26T10:39:26.581Z"
   },
   {
    "duration": 26,
    "start_time": "2024-06-26T10:39:26.603Z"
   },
   {
    "duration": 3,
    "start_time": "2024-06-26T10:39:26.630Z"
   },
   {
    "duration": 6097,
    "start_time": "2024-06-26T10:39:26.634Z"
   },
   {
    "duration": 1452,
    "start_time": "2024-06-26T10:40:16.690Z"
   },
   {
    "duration": 50,
    "start_time": "2024-06-26T10:40:18.143Z"
   },
   {
    "duration": 15,
    "start_time": "2024-06-26T10:40:18.194Z"
   },
   {
    "duration": 21,
    "start_time": "2024-06-26T10:40:18.211Z"
   },
   {
    "duration": 301,
    "start_time": "2024-06-26T10:40:18.234Z"
   },
   {
    "duration": 773,
    "start_time": "2024-06-26T10:40:18.536Z"
   },
   {
    "duration": 258,
    "start_time": "2024-06-26T10:40:19.311Z"
   },
   {
    "duration": 4,
    "start_time": "2024-06-26T10:40:19.570Z"
   },
   {
    "duration": 195,
    "start_time": "2024-06-26T10:40:19.575Z"
   },
   {
    "duration": 48,
    "start_time": "2024-06-26T10:40:19.772Z"
   },
   {
    "duration": 2,
    "start_time": "2024-06-26T10:40:19.822Z"
   },
   {
    "duration": 29,
    "start_time": "2024-06-26T10:40:19.826Z"
   },
   {
    "duration": 11,
    "start_time": "2024-06-26T10:40:19.857Z"
   },
   {
    "duration": 125,
    "start_time": "2024-06-26T10:40:19.870Z"
   },
   {
    "duration": 0,
    "start_time": "2024-06-26T10:40:19.996Z"
   },
   {
    "duration": 0,
    "start_time": "2024-06-26T10:40:19.997Z"
   },
   {
    "duration": 0,
    "start_time": "2024-06-26T10:40:19.998Z"
   },
   {
    "duration": 0,
    "start_time": "2024-06-26T10:40:19.998Z"
   },
   {
    "duration": 0,
    "start_time": "2024-06-26T10:40:19.999Z"
   },
   {
    "duration": 0,
    "start_time": "2024-06-26T10:40:20.000Z"
   },
   {
    "duration": 0,
    "start_time": "2024-06-26T10:40:20.000Z"
   },
   {
    "duration": 0,
    "start_time": "2024-06-26T10:40:20.001Z"
   },
   {
    "duration": 0,
    "start_time": "2024-06-26T10:40:20.002Z"
   },
   {
    "duration": 1389,
    "start_time": "2024-06-26T10:40:31.181Z"
   },
   {
    "duration": 52,
    "start_time": "2024-06-26T10:40:32.573Z"
   },
   {
    "duration": 15,
    "start_time": "2024-06-26T10:40:32.627Z"
   },
   {
    "duration": 18,
    "start_time": "2024-06-26T10:40:32.643Z"
   },
   {
    "duration": 316,
    "start_time": "2024-06-26T10:40:32.663Z"
   },
   {
    "duration": 768,
    "start_time": "2024-06-26T10:40:32.980Z"
   },
   {
    "duration": 240,
    "start_time": "2024-06-26T10:40:33.749Z"
   },
   {
    "duration": 3,
    "start_time": "2024-06-26T10:40:33.991Z"
   },
   {
    "duration": 254,
    "start_time": "2024-06-26T10:40:33.995Z"
   },
   {
    "duration": 16,
    "start_time": "2024-06-26T10:40:34.250Z"
   },
   {
    "duration": 7,
    "start_time": "2024-06-26T10:40:34.267Z"
   },
   {
    "duration": 16,
    "start_time": "2024-06-26T10:40:34.276Z"
   },
   {
    "duration": 29,
    "start_time": "2024-06-26T10:40:34.293Z"
   },
   {
    "duration": 2,
    "start_time": "2024-06-26T10:40:34.325Z"
   },
   {
    "duration": 32447,
    "start_time": "2024-06-26T10:40:34.328Z"
   },
   {
    "duration": 72549,
    "start_time": "2024-06-26T10:41:06.776Z"
   },
   {
    "duration": 121400,
    "start_time": "2024-06-26T10:42:19.327Z"
   },
   {
    "duration": 111,
    "start_time": "2024-06-26T10:44:20.729Z"
   },
   {
    "duration": 7,
    "start_time": "2024-06-26T10:44:20.842Z"
   },
   {
    "duration": 80,
    "start_time": "2024-06-26T10:44:20.850Z"
   },
   {
    "duration": 1034,
    "start_time": "2024-06-26T10:44:20.931Z"
   },
   {
    "duration": 4,
    "start_time": "2024-06-26T10:44:21.967Z"
   },
   {
    "duration": 131,
    "start_time": "2024-06-26T10:44:21.973Z"
   },
   {
    "duration": 33,
    "start_time": "2024-06-26T10:45:37.051Z"
   },
   {
    "duration": 17,
    "start_time": "2024-06-26T10:45:53.970Z"
   },
   {
    "duration": 2,
    "start_time": "2024-06-26T10:45:57.476Z"
   },
   {
    "duration": 79127,
    "start_time": "2024-06-26T10:45:58.017Z"
   },
   {
    "duration": 96042,
    "start_time": "2024-06-26T10:47:27.482Z"
   },
   {
    "duration": 581743,
    "start_time": "2024-06-26T10:49:03.528Z"
   },
   {
    "duration": 59,
    "start_time": "2024-06-26T10:58:45.273Z"
   },
   {
    "duration": 196,
    "start_time": "2024-06-26T10:58:45.333Z"
   },
   {
    "duration": 7,
    "start_time": "2024-06-26T10:58:45.621Z"
   },
   {
    "duration": 49,
    "start_time": "2024-06-26T10:58:45.630Z"
   },
   {
    "duration": 198,
    "start_time": "2024-06-26T10:58:45.680Z"
   },
   {
    "duration": 5706,
    "start_time": "2024-06-26T11:03:34.882Z"
   },
   {
    "duration": 5737,
    "start_time": "2024-06-26T11:04:00.843Z"
   },
   {
    "duration": 3,
    "start_time": "2024-06-26T11:06:06.938Z"
   },
   {
    "duration": 6526,
    "start_time": "2024-06-26T11:07:21.955Z"
   },
   {
    "duration": 5648,
    "start_time": "2024-06-26T11:07:44.391Z"
   },
   {
    "duration": 5647,
    "start_time": "2024-06-26T11:08:15.778Z"
   },
   {
    "duration": 6744,
    "start_time": "2024-06-26T11:08:34.307Z"
   },
   {
    "duration": 5,
    "start_time": "2024-06-26T11:13:03.178Z"
   },
   {
    "duration": 22,
    "start_time": "2024-06-26T11:15:01.487Z"
   },
   {
    "duration": 19,
    "start_time": "2024-06-26T11:15:07.654Z"
   },
   {
    "duration": 8,
    "start_time": "2024-06-26T11:16:59.439Z"
   },
   {
    "duration": 11,
    "start_time": "2024-06-26T11:19:56.455Z"
   },
   {
    "duration": 8,
    "start_time": "2024-06-26T11:23:20.911Z"
   },
   {
    "duration": 8,
    "start_time": "2024-06-26T11:23:27.997Z"
   },
   {
    "duration": 83,
    "start_time": "2024-06-26T11:24:04.137Z"
   },
   {
    "duration": 7,
    "start_time": "2024-06-26T11:24:28.971Z"
   },
   {
    "duration": 10,
    "start_time": "2024-06-26T11:24:36.551Z"
   },
   {
    "duration": 19,
    "start_time": "2024-06-26T11:26:37.358Z"
   },
   {
    "duration": 32,
    "start_time": "2024-06-26T11:26:52.552Z"
   },
   {
    "duration": 143,
    "start_time": "2024-06-26T11:27:05.626Z"
   },
   {
    "duration": 144,
    "start_time": "2024-06-26T11:27:26.651Z"
   },
   {
    "duration": 164,
    "start_time": "2024-06-26T11:28:08.399Z"
   },
   {
    "duration": 240,
    "start_time": "2024-06-26T11:28:53.135Z"
   },
   {
    "duration": 266,
    "start_time": "2024-06-26T11:29:20.132Z"
   },
   {
    "duration": 231,
    "start_time": "2024-06-26T11:30:55.173Z"
   },
   {
    "duration": 313,
    "start_time": "2024-06-26T11:31:04.763Z"
   },
   {
    "duration": 701,
    "start_time": "2024-06-26T11:31:27.491Z"
   },
   {
    "duration": 580,
    "start_time": "2024-06-26T11:31:50.215Z"
   },
   {
    "duration": 578,
    "start_time": "2024-06-26T11:32:02.962Z"
   },
   {
    "duration": 201,
    "start_time": "2024-06-26T11:32:18.877Z"
   },
   {
    "duration": 231,
    "start_time": "2024-06-26T11:33:32.676Z"
   },
   {
    "duration": 229,
    "start_time": "2024-06-26T11:34:08.918Z"
   },
   {
    "duration": 295,
    "start_time": "2024-06-26T11:34:17.508Z"
   },
   {
    "duration": 308,
    "start_time": "2024-06-26T11:34:20.450Z"
   },
   {
    "duration": 19,
    "start_time": "2024-06-26T11:35:46.468Z"
   },
   {
    "duration": 11,
    "start_time": "2024-06-26T11:35:59.535Z"
   },
   {
    "duration": 292,
    "start_time": "2024-06-26T11:39:52.862Z"
   },
   {
    "duration": 317,
    "start_time": "2024-06-26T11:40:32.843Z"
   },
   {
    "duration": 285,
    "start_time": "2024-06-26T11:41:28.682Z"
   },
   {
    "duration": 314,
    "start_time": "2024-06-26T11:41:39.448Z"
   },
   {
    "duration": 253,
    "start_time": "2024-06-26T11:46:30.929Z"
   },
   {
    "duration": 205,
    "start_time": "2024-06-26T11:46:42.131Z"
   },
   {
    "duration": 198,
    "start_time": "2024-06-26T11:47:14.979Z"
   },
   {
    "duration": 181,
    "start_time": "2024-06-26T11:47:33.216Z"
   },
   {
    "duration": 16,
    "start_time": "2024-06-26T11:49:21.144Z"
   },
   {
    "duration": 215,
    "start_time": "2024-06-26T11:49:36.143Z"
   },
   {
    "duration": 4,
    "start_time": "2024-06-26T11:55:53.265Z"
   },
   {
    "duration": 2150,
    "start_time": "2024-06-26T11:57:16.071Z"
   },
   {
    "duration": 1125,
    "start_time": "2024-06-26T11:57:26.407Z"
   },
   {
    "duration": 1402,
    "start_time": "2024-06-26T12:04:02.124Z"
   },
   {
    "duration": 52,
    "start_time": "2024-06-26T12:04:03.527Z"
   },
   {
    "duration": 15,
    "start_time": "2024-06-26T12:04:03.581Z"
   },
   {
    "duration": 25,
    "start_time": "2024-06-26T12:04:03.598Z"
   },
   {
    "duration": 318,
    "start_time": "2024-06-26T12:04:03.625Z"
   },
   {
    "duration": 780,
    "start_time": "2024-06-26T12:04:03.945Z"
   },
   {
    "duration": 255,
    "start_time": "2024-06-26T12:04:04.726Z"
   },
   {
    "duration": 206,
    "start_time": "2024-06-26T12:04:04.983Z"
   },
   {
    "duration": 278,
    "start_time": "2024-06-26T12:04:05.192Z"
   },
   {
    "duration": 1257,
    "start_time": "2024-06-26T12:04:05.472Z"
   },
   {
    "duration": 90,
    "start_time": "2024-06-26T12:04:06.730Z"
   },
   {
    "duration": 350,
    "start_time": "2024-06-26T12:04:06.822Z"
   },
   {
    "duration": 80,
    "start_time": "2024-06-26T12:04:07.173Z"
   },
   {
    "duration": 2,
    "start_time": "2024-06-26T12:04:07.256Z"
   },
   {
    "duration": 51,
    "start_time": "2024-06-26T12:04:07.259Z"
   },
   {
    "duration": 13,
    "start_time": "2024-06-26T12:04:07.312Z"
   },
   {
    "duration": 25,
    "start_time": "2024-06-26T12:04:07.327Z"
   },
   {
    "duration": 85454,
    "start_time": "2024-06-26T12:04:07.354Z"
   },
   {
    "duration": 1095820,
    "start_time": "2024-06-26T12:05:32.810Z"
   },
   {
    "duration": 586611,
    "start_time": "2024-06-26T12:23:48.631Z"
   },
   {
    "duration": 92,
    "start_time": "2024-06-26T12:33:35.244Z"
   },
   {
    "duration": 186,
    "start_time": "2024-06-26T12:33:35.337Z"
   },
   {
    "duration": 9,
    "start_time": "2024-06-26T12:33:35.524Z"
   },
   {
    "duration": 6402,
    "start_time": "2024-06-26T12:33:35.621Z"
   },
   {
    "duration": 5698,
    "start_time": "2024-06-26T12:33:42.024Z"
   },
   {
    "duration": 5,
    "start_time": "2024-06-26T12:33:47.723Z"
   },
   {
    "duration": 6,
    "start_time": "2024-06-26T12:33:47.729Z"
   }
  ],
  "kernelspec": {
   "display_name": "Python 3 (ipykernel)",
   "language": "python",
   "name": "python3"
  },
  "language_info": {
   "codemirror_mode": {
    "name": "ipython",
    "version": 3
   },
   "file_extension": ".py",
   "mimetype": "text/x-python",
   "name": "python",
   "nbconvert_exporter": "python",
   "pygments_lexer": "ipython3",
   "version": "3.9.5"
  },
  "toc": {
   "base_numbering": 1,
   "nav_menu": {},
   "number_sections": true,
   "sideBar": true,
   "skip_h1_title": true,
   "title_cell": "Содержание",
   "title_sidebar": "Contents",
   "toc_cell": true,
   "toc_position": {
    "height": "calc(100% - 180px)",
    "left": "10px",
    "top": "150px",
    "width": "406.237px"
   },
   "toc_section_display": true,
   "toc_window_display": false
  }
 },
 "nbformat": 4,
 "nbformat_minor": 2
}
